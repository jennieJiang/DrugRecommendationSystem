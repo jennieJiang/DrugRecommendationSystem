{
  "nbformat": 4,
  "nbformat_minor": 0,
  "metadata": {
    "kernelspec": {
      "display_name": "Python 3",
      "language": "python",
      "name": "python3"
    },
    "language_info": {
      "codemirror_mode": {
        "name": "ipython",
        "version": 3
      },
      "file_extension": ".py",
      "mimetype": "text/x-python",
      "name": "python",
      "nbconvert_exporter": "python",
      "pygments_lexer": "ipython3",
      "version": "3.7.4"
    },
    "colab": {
      "name": "Preprocessing.ipynb",
      "provenance": []
    }
  },
  "cells": [
    {
      "cell_type": "code",
      "metadata": {
        "id": "FiGzCHjQ1fYf",
        "colab_type": "code",
        "outputId": "c595f82a-ca89-495a-c6ea-affd6f78e9ce",
        "colab": {
          "base_uri": "https://localhost:8080/",
          "height": 34
        }
      },
      "source": [
        "from google.colab import drive\n",
        "drive.mount('/content/gdrive')"
      ],
      "execution_count": 3,
      "outputs": [
        {
          "output_type": "stream",
          "text": [
            "Drive already mounted at /content/gdrive; to attempt to forcibly remount, call drive.mount(\"/content/gdrive\", force_remount=True).\n"
          ],
          "name": "stdout"
        }
      ]
    },
    {
      "cell_type": "code",
      "metadata": {
        "id": "73mKUrgttON8",
        "colab_type": "code",
        "colab": {}
      },
      "source": [
        "import pandas as pd\n",
        "import numpy as np\n",
        "import pandasql as ps"
      ],
      "execution_count": 0,
      "outputs": []
    },
    {
      "cell_type": "code",
      "metadata": {
        "id": "LZUrbDhktOOg",
        "colab_type": "code",
        "colab": {}
      },
      "source": [
        "df1 = pd.read_csv('/content/gdrive/My Drive/Data Mining /Project Activity/Raw Data/medication_fulfillment.csv')\n",
        "df2 = pd.read_csv('/content/gdrive/My Drive/Data Mining /Project Activity/Raw Data/lab_results.csv')\n",
        "df3 = pd.read_csv('/content/gdrive/My Drive/Data Mining /Project Activity/Raw Data//encounter_dx.csv')\n",
        "df4 = pd.read_csv('/content/gdrive/My Drive/Data Mining /Project Activity/Raw Data/encounter.csv')"
      ],
      "execution_count": 0,
      "outputs": []
    },
    {
      "cell_type": "code",
      "metadata": {
        "id": "txAhyKAfO8pl",
        "colab_type": "code",
        "colab": {}
      },
      "source": [
        "#preprocessing df1 "
      ],
      "execution_count": 0,
      "outputs": []
    },
    {
      "cell_type": "code",
      "metadata": {
        "id": "5JqOVs7ytOO7",
        "colab_type": "code",
        "outputId": "9e7134d6-5342-4219-aae3-d61be01bb5a1",
        "colab": {
          "base_uri": "https://localhost:8080/",
          "height": 394
        }
      },
      "source": [
        "df1.head()"
      ],
      "execution_count": 7,
      "outputs": [
        {
          "output_type": "execute_result",
          "data": {
            "text/html": [
              "<div>\n",
              "<style scoped>\n",
              "    .dataframe tbody tr th:only-of-type {\n",
              "        vertical-align: middle;\n",
              "    }\n",
              "\n",
              "    .dataframe tbody tr th {\n",
              "        vertical-align: top;\n",
              "    }\n",
              "\n",
              "    .dataframe thead th {\n",
              "        text-align: right;\n",
              "    }\n",
              "</style>\n",
              "<table border=\"1\" class=\"dataframe\">\n",
              "  <thead>\n",
              "    <tr style=\"text-align: right;\">\n",
              "      <th></th>\n",
              "      <th>Provider_Org</th>\n",
              "      <th>Order_ID</th>\n",
              "      <th>Member_ID</th>\n",
              "      <th>Prescription</th>\n",
              "      <th>Pharmacist_ID</th>\n",
              "      <th>Pharmacy_Name</th>\n",
              "      <th>Dispense_Date</th>\n",
              "      <th>Drug_Name</th>\n",
              "      <th>Drug_NDC</th>\n",
              "      <th>Sig</th>\n",
              "      <th>Dispense_Qty</th>\n",
              "      <th>Fill_No</th>\n",
              "      <th>Fill_Status</th>\n",
              "      <th>Dose</th>\n",
              "      <th>Units</th>\n",
              "      <th>Days_Of_Supply</th>\n",
              "      <th>Encounter_ID</th>\n",
              "    </tr>\n",
              "  </thead>\n",
              "  <tbody>\n",
              "    <tr>\n",
              "      <th>0</th>\n",
              "      <td>ExactData Medical Health System</td>\n",
              "      <td>050630-23852</td>\n",
              "      <td>568001602-01</td>\n",
              "      <td>RX80452720</td>\n",
              "      <td>523808810</td>\n",
              "      <td>Corner Drug Store</td>\n",
              "      <td>2005-07-02T00:14:00Z</td>\n",
              "      <td>Hydrochlorothiazide</td>\n",
              "      <td>0172-2089-80</td>\n",
              "      <td>po qd</td>\n",
              "      <td>90</td>\n",
              "      <td>1</td>\n",
              "      <td>dispensed</td>\n",
              "      <td>50</td>\n",
              "      <td>mg</td>\n",
              "      <td>90</td>\n",
              "      <td>V3046573432409333612</td>\n",
              "    </tr>\n",
              "    <tr>\n",
              "      <th>1</th>\n",
              "      <td>ExactData Medical Health System</td>\n",
              "      <td>050312-01255</td>\n",
              "      <td>937650000-01</td>\n",
              "      <td>RX66597665</td>\n",
              "      <td>581395544</td>\n",
              "      <td>Family Health</td>\n",
              "      <td>2005-03-12T04:37:00Z</td>\n",
              "      <td>OMS 50</td>\n",
              "      <td>65689-001-21</td>\n",
              "      <td>via nasal cannula (contin)</td>\n",
              "      <td>4320</td>\n",
              "      <td>1</td>\n",
              "      <td>dispensed</td>\n",
              "      <td>6</td>\n",
              "      <td>h</td>\n",
              "      <td>1</td>\n",
              "      <td>C2819614934032019919</td>\n",
              "    </tr>\n",
              "    <tr>\n",
              "      <th>2</th>\n",
              "      <td>ExactData Medical Health System</td>\n",
              "      <td>050419-86521</td>\n",
              "      <td>937650000-01</td>\n",
              "      <td>RX29972012</td>\n",
              "      <td>125920412</td>\n",
              "      <td>Wegmans</td>\n",
              "      <td>2005-04-22T06:53:00Z</td>\n",
              "      <td>Hydrochlorothiazide</td>\n",
              "      <td>0172-2089-80</td>\n",
              "      <td>po qd</td>\n",
              "      <td>90</td>\n",
              "      <td>1</td>\n",
              "      <td>dispensed</td>\n",
              "      <td>50</td>\n",
              "      <td>mg</td>\n",
              "      <td>90</td>\n",
              "      <td>N6421143613871277479</td>\n",
              "    </tr>\n",
              "    <tr>\n",
              "      <th>3</th>\n",
              "      <td>ExactData Medical Health System</td>\n",
              "      <td>050826-36597</td>\n",
              "      <td>666214171-01</td>\n",
              "      <td>RX35391014</td>\n",
              "      <td>381663534</td>\n",
              "      <td>Apothecary Shop</td>\n",
              "      <td>2005-08-28T04:01:00Z</td>\n",
              "      <td>Prednisone</td>\n",
              "      <td>54569-0332-3</td>\n",
              "      <td>orally</td>\n",
              "      <td>20</td>\n",
              "      <td>1</td>\n",
              "      <td>dispensed</td>\n",
              "      <td>20</td>\n",
              "      <td>mg</td>\n",
              "      <td>20</td>\n",
              "      <td>L1660181935005579193</td>\n",
              "    </tr>\n",
              "    <tr>\n",
              "      <th>4</th>\n",
              "      <td>ExactData Medical Health System</td>\n",
              "      <td>050228-72970</td>\n",
              "      <td>666383984-01</td>\n",
              "      <td>RX45661465</td>\n",
              "      <td>152383446</td>\n",
              "      <td>Corner Drug Store</td>\n",
              "      <td>2005-03-03T19:42:00Z</td>\n",
              "      <td>protamine sulfate</td>\n",
              "      <td>63323-229-30</td>\n",
              "      <td>/90 units of heparin overdosage</td>\n",
              "      <td>1</td>\n",
              "      <td>1</td>\n",
              "      <td>dispensed</td>\n",
              "      <td>1</td>\n",
              "      <td>mg</td>\n",
              "      <td>1</td>\n",
              "      <td>U1554150386761469892</td>\n",
              "    </tr>\n",
              "  </tbody>\n",
              "</table>\n",
              "</div>"
            ],
            "text/plain": [
              "                      Provider_Org  ...          Encounter_ID\n",
              "0  ExactData Medical Health System  ...  V3046573432409333612\n",
              "1  ExactData Medical Health System  ...  C2819614934032019919\n",
              "2  ExactData Medical Health System  ...  N6421143613871277479\n",
              "3  ExactData Medical Health System  ...  L1660181935005579193\n",
              "4  ExactData Medical Health System  ...  U1554150386761469892\n",
              "\n",
              "[5 rows x 17 columns]"
            ]
          },
          "metadata": {
            "tags": []
          },
          "execution_count": 7
        }
      ]
    },
    {
      "cell_type": "code",
      "metadata": {
        "id": "57LCjMX3PFLB",
        "colab_type": "code",
        "colab": {
          "base_uri": "https://localhost:8080/",
          "height": 323
        },
        "outputId": "b9abbea6-a72e-4976-b8cd-e32b79fb2901"
      },
      "source": [
        "df1.dtypes"
      ],
      "execution_count": 8,
      "outputs": [
        {
          "output_type": "execute_result",
          "data": {
            "text/plain": [
              "Provider_Org      object\n",
              "Order_ID          object\n",
              "Member_ID         object\n",
              "Prescription      object\n",
              "Pharmacist_ID      int64\n",
              "Pharmacy_Name     object\n",
              "Dispense_Date     object\n",
              "Drug_Name         object\n",
              "Drug_NDC          object\n",
              "Sig               object\n",
              "Dispense_Qty      object\n",
              "Fill_No            int64\n",
              "Fill_Status       object\n",
              "Dose              object\n",
              "Units             object\n",
              "Days_Of_Supply     int64\n",
              "Encounter_ID      object\n",
              "dtype: object"
            ]
          },
          "metadata": {
            "tags": []
          },
          "execution_count": 8
        }
      ]
    },
    {
      "cell_type": "code",
      "metadata": {
        "id": "y8wGUa0mPMlb",
        "colab_type": "code",
        "colab": {}
      },
      "source": [
        "to_drop = ['Pharmacy_Name', 'Pharmacist_ID']\n",
        "df1 = df1.drop(to_drop, axis = 1)"
      ],
      "execution_count": 0,
      "outputs": []
    },
    {
      "cell_type": "code",
      "metadata": {
        "id": "KAgmCxY1PWuf",
        "colab_type": "code",
        "colab": {
          "base_uri": "https://localhost:8080/",
          "height": 255
        },
        "outputId": "f84d52a7-7954-40e9-95ed-d34a5aea1ac6"
      },
      "source": [
        "df1['Drug_Name'].unique()"
      ],
      "execution_count": 10,
      "outputs": [
        {
          "output_type": "execute_result",
          "data": {
            "text/plain": [
              "array(['Hydrochlorothiazide', 'OMS 50', 'Prednisone', 'protamine sulfate',\n",
              "       'Potassium Chl', 'nifedipine', 'Isotonic Saline (0.9%)',\n",
              "       'Ciprofloxacin', 'Lisinopril', 'glyburide', 'glimepiride',\n",
              "       'Insulin Nph', 'enalapril', 'insulin aspart', 'mannitol', 'AVAPRO',\n",
              "       'Cefadroxil', 'Metoprolol', 'Insulin,Ultralente', 'valsartan',\n",
              "       'dilaudid', 'ancef', 'oxycontin 10', 'vicodin HP 10-300',\n",
              "       'Ibuprofen', 'Aspirin', 'oxycodone-acetaminophen 10-325',\n",
              "       'acetaminophen', 'Nitroglycerin', 'salmeterol', 'nitroglycerin',\n",
              "       'Propranolol', 'Heparin', 'metoprolol', 'Alteplase', 'Gentamicin',\n",
              "       'Levofloxacin', 'Theophylline', 'ACTIVASE', 'Labetalol',\n",
              "       'Furosemide', 'Morphine', 'Allopurinol', 'Captopril', 'HUMALOG',\n",
              "       'Insulin Lente', 'Irbesartan', 'Insulin Reg', 'Tobramycin',\n",
              "       'LANTUS', 'trimethoprim', 'BACTRIM DS', 'ATNATIV', 'LEVAQUIN'],\n",
              "      dtype=object)"
            ]
          },
          "metadata": {
            "tags": []
          },
          "execution_count": 10
        }
      ]
    },
    {
      "cell_type": "code",
      "metadata": {
        "id": "saIM33iPtOPt",
        "colab_type": "code",
        "colab": {
          "base_uri": "https://localhost:8080/",
          "height": 34
        },
        "outputId": "ed4bfffb-28f9-4af0-e8d5-5285885478b7"
      },
      "source": [
        "df1['Member_ID'].unique().shape"
      ],
      "execution_count": 11,
      "outputs": [
        {
          "output_type": "execute_result",
          "data": {
            "text/plain": [
              "(104,)"
            ]
          },
          "metadata": {
            "tags": []
          },
          "execution_count": 11
        }
      ]
    },
    {
      "cell_type": "code",
      "metadata": {
        "id": "CXs8dzV0QDtw",
        "colab_type": "code",
        "colab": {
          "base_uri": "https://localhost:8080/",
          "height": 34
        },
        "outputId": "76fef3b4-6f6e-4843-bf3d-106f498c08ab"
      },
      "source": [
        "df1['Order_ID'].unique().shape"
      ],
      "execution_count": 12,
      "outputs": [
        {
          "output_type": "execute_result",
          "data": {
            "text/plain": [
              "(1176,)"
            ]
          },
          "metadata": {
            "tags": []
          },
          "execution_count": 12
        }
      ]
    },
    {
      "cell_type": "code",
      "metadata": {
        "id": "PGb3KdGjQPig",
        "colab_type": "code",
        "colab": {
          "base_uri": "https://localhost:8080/",
          "height": 34
        },
        "outputId": "1a5c2031-8abb-4376-eddd-30b95a9f21ff"
      },
      "source": [
        "null_columns=df1.columns[df1.isnull().any()]\n",
        "df1[null_columns].isnull().sum()"
      ],
      "execution_count": 13,
      "outputs": [
        {
          "output_type": "execute_result",
          "data": {
            "text/plain": [
              "Series([], dtype: float64)"
            ]
          },
          "metadata": {
            "tags": []
          },
          "execution_count": 13
        }
      ]
    },
    {
      "cell_type": "code",
      "metadata": {
        "id": "U997t0tbQV5g",
        "colab_type": "code",
        "colab": {}
      },
      "source": [
        "df1['Dose'] = df1['Dose'] + df1['Units']"
      ],
      "execution_count": 0,
      "outputs": []
    },
    {
      "cell_type": "code",
      "metadata": {
        "id": "8mokBULvQdOh",
        "colab_type": "code",
        "colab": {}
      },
      "source": [
        "df1['Year'] = pd.DatetimeIndex(df1['Dispense_Date']).year\n",
        "df1['Month'] = pd.DatetimeIndex(df1['Dispense_Date']).month\n",
        "df1['Day'] = pd.DatetimeIndex(df1['Dispense_Date']).day"
      ],
      "execution_count": 0,
      "outputs": []
    },
    {
      "cell_type": "code",
      "metadata": {
        "id": "Ux-1lsQaQlFI",
        "colab_type": "code",
        "colab": {}
      },
      "source": [
        "df1['Dispense_Date'] = pd.to_datetime(df1[['Year', 'Month', 'Day']])"
      ],
      "execution_count": 0,
      "outputs": []
    },
    {
      "cell_type": "code",
      "metadata": {
        "id": "yMzG0ezbQsJp",
        "colab_type": "code",
        "colab": {}
      },
      "source": [
        "drop = ['Year','Month','Day', 'Fill_Status', 'Fill_No', 'Units']\n",
        "df1 = df1.drop(drop, axis = 1)"
      ],
      "execution_count": 0,
      "outputs": []
    },
    {
      "cell_type": "code",
      "metadata": {
        "id": "fZqYtFa_VO1P",
        "colab_type": "code",
        "colab": {}
      },
      "source": [
        "#preprocessing df2"
      ],
      "execution_count": 0,
      "outputs": []
    },
    {
      "cell_type": "code",
      "metadata": {
        "id": "QGn-RG-5tOPO",
        "colab_type": "code",
        "outputId": "d8cae735-7788-42e4-9fd2-c4bf13ff9c41",
        "colab": {
          "base_uri": "https://localhost:8080/",
          "height": 394
        }
      },
      "source": [
        "df2.head()"
      ],
      "execution_count": 19,
      "outputs": [
        {
          "output_type": "execute_result",
          "data": {
            "text/html": [
              "<div>\n",
              "<style scoped>\n",
              "    .dataframe tbody tr th:only-of-type {\n",
              "        vertical-align: middle;\n",
              "    }\n",
              "\n",
              "    .dataframe tbody tr th {\n",
              "        vertical-align: top;\n",
              "    }\n",
              "\n",
              "    .dataframe thead th {\n",
              "        text-align: right;\n",
              "    }\n",
              "</style>\n",
              "<table border=\"1\" class=\"dataframe\">\n",
              "  <thead>\n",
              "    <tr style=\"text-align: right;\">\n",
              "      <th></th>\n",
              "      <th>Provider_Org</th>\n",
              "      <th>Member_ID</th>\n",
              "      <th>Date_Collected</th>\n",
              "      <th>Test_ID</th>\n",
              "      <th>Specialty</th>\n",
              "      <th>Panel</th>\n",
              "      <th>Test_LOINC</th>\n",
              "      <th>Test_Name</th>\n",
              "      <th>Date_Resulted</th>\n",
              "      <th>Specimen</th>\n",
              "      <th>Result_LOINC</th>\n",
              "      <th>Result_Name</th>\n",
              "      <th>Result_Status</th>\n",
              "      <th>Result_Description</th>\n",
              "      <th>Numeric_Result</th>\n",
              "      <th>Units</th>\n",
              "      <th>Abnormal_Value</th>\n",
              "      <th>Reference_Range</th>\n",
              "      <th>Order_ID</th>\n",
              "      <th>Provider_ID</th>\n",
              "      <th>Encounter_ID</th>\n",
              "    </tr>\n",
              "  </thead>\n",
              "  <tbody>\n",
              "    <tr>\n",
              "      <th>0</th>\n",
              "      <td>ExactData Medical Health System</td>\n",
              "      <td>568001602-01</td>\n",
              "      <td>2005-07-05T15:54:00Z</td>\n",
              "      <td>050705 CH 76296541</td>\n",
              "      <td>NaN</td>\n",
              "      <td>False</td>\n",
              "      <td>2093-3</td>\n",
              "      <td>Cholesterol</td>\n",
              "      <td>2005-07-05T20:33:41Z</td>\n",
              "      <td>NaN</td>\n",
              "      <td>2093-3</td>\n",
              "      <td>Cholesterol</td>\n",
              "      <td>FINAL</td>\n",
              "      <td>Cholesterol=250 mg/dL</td>\n",
              "      <td>250</td>\n",
              "      <td>mg/dL</td>\n",
              "      <td>NaN</td>\n",
              "      <td>NaN</td>\n",
              "      <td>050630-30199</td>\n",
              "      <td>695700114</td>\n",
              "      <td>X3228783097331248888</td>\n",
              "    </tr>\n",
              "    <tr>\n",
              "      <th>1</th>\n",
              "      <td>ExactData Medical Health System</td>\n",
              "      <td>568001602-01</td>\n",
              "      <td>2005-10-07T16:15:00Z</td>\n",
              "      <td>051007 CH 47988013</td>\n",
              "      <td>NaN</td>\n",
              "      <td>False</td>\n",
              "      <td>21440-3</td>\n",
              "      <td>HPV I/H Risk DNA Probe</td>\n",
              "      <td>2005-10-07T20:10:41Z</td>\n",
              "      <td>NaN</td>\n",
              "      <td>21440-3</td>\n",
              "      <td>HPV test</td>\n",
              "      <td>FINAL</td>\n",
              "      <td>negative for HPV 16 &amp; 18</td>\n",
              "      <td>NaN</td>\n",
              "      <td>NaN</td>\n",
              "      <td>NaN</td>\n",
              "      <td>NaN</td>\n",
              "      <td>NaN</td>\n",
              "      <td>663746638</td>\n",
              "      <td>M3204724885018391695</td>\n",
              "    </tr>\n",
              "    <tr>\n",
              "      <th>2</th>\n",
              "      <td>ExactData Medical Health System</td>\n",
              "      <td>568001602-01</td>\n",
              "      <td>2005-10-07T16:15:00Z</td>\n",
              "      <td>051007 CH 04421087</td>\n",
              "      <td>NaN</td>\n",
              "      <td>False</td>\n",
              "      <td>28631-0</td>\n",
              "      <td>Visual Acuity Study</td>\n",
              "      <td>2005-10-07T17:57:09Z</td>\n",
              "      <td>NaN</td>\n",
              "      <td>28631-0</td>\n",
              "      <td>acuity</td>\n",
              "      <td>FINAL</td>\n",
              "      <td>right eye 20/20, left eye 20/20</td>\n",
              "      <td>NaN</td>\n",
              "      <td>NaN</td>\n",
              "      <td>NaN</td>\n",
              "      <td>NaN</td>\n",
              "      <td>NaN</td>\n",
              "      <td>663746638</td>\n",
              "      <td>M3204724885018391695</td>\n",
              "    </tr>\n",
              "    <tr>\n",
              "      <th>3</th>\n",
              "      <td>ExactData Medical Health System</td>\n",
              "      <td>568001602-01</td>\n",
              "      <td>2005-10-12T21:33:00Z</td>\n",
              "      <td>051012 CH 48885833</td>\n",
              "      <td>NaN</td>\n",
              "      <td>True</td>\n",
              "      <td>24331-1</td>\n",
              "      <td>Lipid Profile</td>\n",
              "      <td>2005-10-12T23:11:57Z</td>\n",
              "      <td>NaN</td>\n",
              "      <td>2093-3</td>\n",
              "      <td>Total cholesterol</td>\n",
              "      <td>FINAL</td>\n",
              "      <td>Total cholesterol = 180mg/dL</td>\n",
              "      <td>180</td>\n",
              "      <td>mg/dL</td>\n",
              "      <td>NaN</td>\n",
              "      <td>NaN</td>\n",
              "      <td>051007-54352</td>\n",
              "      <td>695700114</td>\n",
              "      <td>G7012345417035113309</td>\n",
              "    </tr>\n",
              "    <tr>\n",
              "      <th>4</th>\n",
              "      <td>ExactData Medical Health System</td>\n",
              "      <td>568001602-01</td>\n",
              "      <td>2005-10-12T21:33:00Z</td>\n",
              "      <td>051012 CH 48885833</td>\n",
              "      <td>NaN</td>\n",
              "      <td>True</td>\n",
              "      <td>24331-1</td>\n",
              "      <td>Lipid Profile</td>\n",
              "      <td>2005-10-12T23:11:57Z</td>\n",
              "      <td>NaN</td>\n",
              "      <td>13457-7</td>\n",
              "      <td>LDL</td>\n",
              "      <td>FINAL</td>\n",
              "      <td>LDL = 120mg/dL</td>\n",
              "      <td>120</td>\n",
              "      <td>mg/dL</td>\n",
              "      <td>NaN</td>\n",
              "      <td>NaN</td>\n",
              "      <td>051007-54352</td>\n",
              "      <td>695700114</td>\n",
              "      <td>G7012345417035113309</td>\n",
              "    </tr>\n",
              "  </tbody>\n",
              "</table>\n",
              "</div>"
            ],
            "text/plain": [
              "                      Provider_Org  ...          Encounter_ID\n",
              "0  ExactData Medical Health System  ...  X3228783097331248888\n",
              "1  ExactData Medical Health System  ...  M3204724885018391695\n",
              "2  ExactData Medical Health System  ...  M3204724885018391695\n",
              "3  ExactData Medical Health System  ...  G7012345417035113309\n",
              "4  ExactData Medical Health System  ...  G7012345417035113309\n",
              "\n",
              "[5 rows x 21 columns]"
            ]
          },
          "metadata": {
            "tags": []
          },
          "execution_count": 19
        }
      ]
    },
    {
      "cell_type": "code",
      "metadata": {
        "id": "CLj23szaRHhf",
        "colab_type": "code",
        "colab": {
          "base_uri": "https://localhost:8080/",
          "height": 391
        },
        "outputId": "00d4c805-b604-4409-e2fa-9cd6240e934f"
      },
      "source": [
        "df2.dtypes"
      ],
      "execution_count": 20,
      "outputs": [
        {
          "output_type": "execute_result",
          "data": {
            "text/plain": [
              "Provider_Org           object\n",
              "Member_ID              object\n",
              "Date_Collected         object\n",
              "Test_ID                object\n",
              "Specialty             float64\n",
              "Panel                    bool\n",
              "Test_LOINC             object\n",
              "Test_Name              object\n",
              "Date_Resulted          object\n",
              "Specimen              float64\n",
              "Result_LOINC           object\n",
              "Result_Name            object\n",
              "Result_Status          object\n",
              "Result_Description     object\n",
              "Numeric_Result         object\n",
              "Units                  object\n",
              "Abnormal_Value        float64\n",
              "Reference_Range       float64\n",
              "Order_ID               object\n",
              "Provider_ID             int64\n",
              "Encounter_ID           object\n",
              "dtype: object"
            ]
          },
          "metadata": {
            "tags": []
          },
          "execution_count": 20
        }
      ]
    },
    {
      "cell_type": "code",
      "metadata": {
        "id": "X6_lRL6HRKjL",
        "colab_type": "code",
        "colab": {
          "base_uri": "https://localhost:8080/",
          "height": 391
        },
        "outputId": "eac2d900-7c84-493c-c0f1-40d105b47f1b"
      },
      "source": [
        "df2.count()"
      ],
      "execution_count": 21,
      "outputs": [
        {
          "output_type": "execute_result",
          "data": {
            "text/plain": [
              "Provider_Org          7509\n",
              "Member_ID             7509\n",
              "Date_Collected        7509\n",
              "Test_ID               7509\n",
              "Specialty                0\n",
              "Panel                 7509\n",
              "Test_LOINC            7509\n",
              "Test_Name             7509\n",
              "Date_Resulted         7509\n",
              "Specimen                 0\n",
              "Result_LOINC          7509\n",
              "Result_Name           7509\n",
              "Result_Status         7509\n",
              "Result_Description    7509\n",
              "Numeric_Result        2890\n",
              "Units                 2794\n",
              "Abnormal_Value           0\n",
              "Reference_Range          0\n",
              "Order_ID              6010\n",
              "Provider_ID           7509\n",
              "Encounter_ID          7509\n",
              "dtype: int64"
            ]
          },
          "metadata": {
            "tags": []
          },
          "execution_count": 21
        }
      ]
    },
    {
      "cell_type": "code",
      "metadata": {
        "id": "gjVhhehNRRZu",
        "colab_type": "code",
        "colab": {}
      },
      "source": [
        "# Dropping columns which doesn't have data.\n",
        "df2 = df2.dropna(axis = 'columns', how = 'all')"
      ],
      "execution_count": 0,
      "outputs": []
    },
    {
      "cell_type": "code",
      "metadata": {
        "id": "Gbq7sUGaRcRx",
        "colab_type": "code",
        "colab": {}
      },
      "source": [
        "#Dropping Result Status column\n",
        "df2 = df2.drop(['Result_Status'], axis = 1)"
      ],
      "execution_count": 0,
      "outputs": []
    },
    {
      "cell_type": "code",
      "metadata": {
        "id": "28MnBpPhRerM",
        "colab_type": "code",
        "colab": {}
      },
      "source": [
        "df2['Result'] = df2['Numeric_Result'] + df2['Units'] "
      ],
      "execution_count": 0,
      "outputs": []
    },
    {
      "cell_type": "code",
      "metadata": {
        "id": "i_MQkYohRv21",
        "colab_type": "code",
        "colab": {}
      },
      "source": [
        "df2 = df2.drop(['Panel', 'Test_LOINC', 'Date_Resulted', 'Numeric_Result', 'Units'], axis = 1)"
      ],
      "execution_count": 0,
      "outputs": []
    },
    {
      "cell_type": "code",
      "metadata": {
        "id": "ukeebrbgSPQq",
        "colab_type": "code",
        "colab": {
          "base_uri": "https://localhost:8080/",
          "height": 394
        },
        "outputId": "6e118e2d-094b-4bee-d192-c092b822c7bb"
      },
      "source": [
        "df2.head()"
      ],
      "execution_count": 26,
      "outputs": [
        {
          "output_type": "execute_result",
          "data": {
            "text/html": [
              "<div>\n",
              "<style scoped>\n",
              "    .dataframe tbody tr th:only-of-type {\n",
              "        vertical-align: middle;\n",
              "    }\n",
              "\n",
              "    .dataframe tbody tr th {\n",
              "        vertical-align: top;\n",
              "    }\n",
              "\n",
              "    .dataframe thead th {\n",
              "        text-align: right;\n",
              "    }\n",
              "</style>\n",
              "<table border=\"1\" class=\"dataframe\">\n",
              "  <thead>\n",
              "    <tr style=\"text-align: right;\">\n",
              "      <th></th>\n",
              "      <th>Provider_Org</th>\n",
              "      <th>Member_ID</th>\n",
              "      <th>Date_Collected</th>\n",
              "      <th>Test_ID</th>\n",
              "      <th>Test_Name</th>\n",
              "      <th>Result_LOINC</th>\n",
              "      <th>Result_Name</th>\n",
              "      <th>Result_Description</th>\n",
              "      <th>Order_ID</th>\n",
              "      <th>Provider_ID</th>\n",
              "      <th>Encounter_ID</th>\n",
              "      <th>Result</th>\n",
              "    </tr>\n",
              "  </thead>\n",
              "  <tbody>\n",
              "    <tr>\n",
              "      <th>0</th>\n",
              "      <td>ExactData Medical Health System</td>\n",
              "      <td>568001602-01</td>\n",
              "      <td>2005-07-05T15:54:00Z</td>\n",
              "      <td>050705 CH 76296541</td>\n",
              "      <td>Cholesterol</td>\n",
              "      <td>2093-3</td>\n",
              "      <td>Cholesterol</td>\n",
              "      <td>Cholesterol=250 mg/dL</td>\n",
              "      <td>050630-30199</td>\n",
              "      <td>695700114</td>\n",
              "      <td>X3228783097331248888</td>\n",
              "      <td>250mg/dL</td>\n",
              "    </tr>\n",
              "    <tr>\n",
              "      <th>1</th>\n",
              "      <td>ExactData Medical Health System</td>\n",
              "      <td>568001602-01</td>\n",
              "      <td>2005-10-07T16:15:00Z</td>\n",
              "      <td>051007 CH 47988013</td>\n",
              "      <td>HPV I/H Risk DNA Probe</td>\n",
              "      <td>21440-3</td>\n",
              "      <td>HPV test</td>\n",
              "      <td>negative for HPV 16 &amp; 18</td>\n",
              "      <td>NaN</td>\n",
              "      <td>663746638</td>\n",
              "      <td>M3204724885018391695</td>\n",
              "      <td>NaN</td>\n",
              "    </tr>\n",
              "    <tr>\n",
              "      <th>2</th>\n",
              "      <td>ExactData Medical Health System</td>\n",
              "      <td>568001602-01</td>\n",
              "      <td>2005-10-07T16:15:00Z</td>\n",
              "      <td>051007 CH 04421087</td>\n",
              "      <td>Visual Acuity Study</td>\n",
              "      <td>28631-0</td>\n",
              "      <td>acuity</td>\n",
              "      <td>right eye 20/20, left eye 20/20</td>\n",
              "      <td>NaN</td>\n",
              "      <td>663746638</td>\n",
              "      <td>M3204724885018391695</td>\n",
              "      <td>NaN</td>\n",
              "    </tr>\n",
              "    <tr>\n",
              "      <th>3</th>\n",
              "      <td>ExactData Medical Health System</td>\n",
              "      <td>568001602-01</td>\n",
              "      <td>2005-10-12T21:33:00Z</td>\n",
              "      <td>051012 CH 48885833</td>\n",
              "      <td>Lipid Profile</td>\n",
              "      <td>2093-3</td>\n",
              "      <td>Total cholesterol</td>\n",
              "      <td>Total cholesterol = 180mg/dL</td>\n",
              "      <td>051007-54352</td>\n",
              "      <td>695700114</td>\n",
              "      <td>G7012345417035113309</td>\n",
              "      <td>180mg/dL</td>\n",
              "    </tr>\n",
              "    <tr>\n",
              "      <th>4</th>\n",
              "      <td>ExactData Medical Health System</td>\n",
              "      <td>568001602-01</td>\n",
              "      <td>2005-10-12T21:33:00Z</td>\n",
              "      <td>051012 CH 48885833</td>\n",
              "      <td>Lipid Profile</td>\n",
              "      <td>13457-7</td>\n",
              "      <td>LDL</td>\n",
              "      <td>LDL = 120mg/dL</td>\n",
              "      <td>051007-54352</td>\n",
              "      <td>695700114</td>\n",
              "      <td>G7012345417035113309</td>\n",
              "      <td>120mg/dL</td>\n",
              "    </tr>\n",
              "  </tbody>\n",
              "</table>\n",
              "</div>"
            ],
            "text/plain": [
              "                      Provider_Org  ...    Result\n",
              "0  ExactData Medical Health System  ...  250mg/dL\n",
              "1  ExactData Medical Health System  ...       NaN\n",
              "2  ExactData Medical Health System  ...       NaN\n",
              "3  ExactData Medical Health System  ...  180mg/dL\n",
              "4  ExactData Medical Health System  ...  120mg/dL\n",
              "\n",
              "[5 rows x 12 columns]"
            ]
          },
          "metadata": {
            "tags": []
          },
          "execution_count": 26
        }
      ]
    },
    {
      "cell_type": "code",
      "metadata": {
        "id": "NMSKEjgyR9yd",
        "colab_type": "code",
        "colab": {}
      },
      "source": [
        "#preprocessing df3"
      ],
      "execution_count": 0,
      "outputs": []
    },
    {
      "cell_type": "code",
      "metadata": {
        "id": "QNGU_MzGtOPa",
        "colab_type": "code",
        "outputId": "a6125624-94ad-4bcf-fb5d-b6c6a51ddb88",
        "colab": {
          "base_uri": "https://localhost:8080/",
          "height": 204
        }
      },
      "source": [
        "df3.head()"
      ],
      "execution_count": 28,
      "outputs": [
        {
          "output_type": "execute_result",
          "data": {
            "text/html": [
              "<div>\n",
              "<style scoped>\n",
              "    .dataframe tbody tr th:only-of-type {\n",
              "        vertical-align: middle;\n",
              "    }\n",
              "\n",
              "    .dataframe tbody tr th {\n",
              "        vertical-align: top;\n",
              "    }\n",
              "\n",
              "    .dataframe thead th {\n",
              "        text-align: right;\n",
              "    }\n",
              "</style>\n",
              "<table border=\"1\" class=\"dataframe\">\n",
              "  <thead>\n",
              "    <tr style=\"text-align: right;\">\n",
              "      <th></th>\n",
              "      <th>Provider_Org</th>\n",
              "      <th>code</th>\n",
              "      <th>vocab</th>\n",
              "      <th>description</th>\n",
              "      <th>severity</th>\n",
              "      <th>Encounter_ID</th>\n",
              "    </tr>\n",
              "  </thead>\n",
              "  <tbody>\n",
              "    <tr>\n",
              "      <th>0</th>\n",
              "      <td>ExactData Medical Health System</td>\n",
              "      <td>401.9</td>\n",
              "      <td>ICD9</td>\n",
              "      <td>Hypertension</td>\n",
              "      <td>mild</td>\n",
              "      <td>L8694502508698944760</td>\n",
              "    </tr>\n",
              "    <tr>\n",
              "      <th>1</th>\n",
              "      <td>ExactData Medical Health System</td>\n",
              "      <td>V70.0</td>\n",
              "      <td>ICD9</td>\n",
              "      <td>General medical examination</td>\n",
              "      <td>NaN</td>\n",
              "      <td>M3204724885018391695</td>\n",
              "    </tr>\n",
              "    <tr>\n",
              "      <th>2</th>\n",
              "      <td>ExactData Medical Health System</td>\n",
              "      <td>496</td>\n",
              "      <td>ICD9</td>\n",
              "      <td>Chronic Obstructive Pulmonary Disease</td>\n",
              "      <td>critical</td>\n",
              "      <td>C2819614934032019919</td>\n",
              "    </tr>\n",
              "    <tr>\n",
              "      <th>3</th>\n",
              "      <td>ExactData Medical Health System</td>\n",
              "      <td>401.9</td>\n",
              "      <td>ICD9</td>\n",
              "      <td>Hypertension</td>\n",
              "      <td>mild</td>\n",
              "      <td>S4571692645992867370</td>\n",
              "    </tr>\n",
              "    <tr>\n",
              "      <th>4</th>\n",
              "      <td>ExactData Medical Health System</td>\n",
              "      <td>V70.0</td>\n",
              "      <td>ICD9</td>\n",
              "      <td>General medical examination</td>\n",
              "      <td>NaN</td>\n",
              "      <td>J6262874375300991101</td>\n",
              "    </tr>\n",
              "  </tbody>\n",
              "</table>\n",
              "</div>"
            ],
            "text/plain": [
              "                      Provider_Org   code  ...  severity          Encounter_ID\n",
              "0  ExactData Medical Health System  401.9  ...      mild  L8694502508698944760\n",
              "1  ExactData Medical Health System  V70.0  ...       NaN  M3204724885018391695\n",
              "2  ExactData Medical Health System    496  ...  critical  C2819614934032019919\n",
              "3  ExactData Medical Health System  401.9  ...      mild  S4571692645992867370\n",
              "4  ExactData Medical Health System  V70.0  ...       NaN  J6262874375300991101\n",
              "\n",
              "[5 rows x 6 columns]"
            ]
          },
          "metadata": {
            "tags": []
          },
          "execution_count": 28
        }
      ]
    },
    {
      "cell_type": "code",
      "metadata": {
        "id": "BKCtEeWOSLCR",
        "colab_type": "code",
        "colab": {}
      },
      "source": [
        "df3.drop(df3.columns[[0, 1, 2]], axis = 1, inplace = True)"
      ],
      "execution_count": 0,
      "outputs": []
    },
    {
      "cell_type": "code",
      "metadata": {
        "id": "ay_lBIocSR4u",
        "colab_type": "code",
        "colab": {
          "base_uri": "https://localhost:8080/",
          "height": 204
        },
        "outputId": "3756f6cc-34f3-4f00-bb76-9cc501de14e7"
      },
      "source": [
        "df3.head()"
      ],
      "execution_count": 30,
      "outputs": [
        {
          "output_type": "execute_result",
          "data": {
            "text/html": [
              "<div>\n",
              "<style scoped>\n",
              "    .dataframe tbody tr th:only-of-type {\n",
              "        vertical-align: middle;\n",
              "    }\n",
              "\n",
              "    .dataframe tbody tr th {\n",
              "        vertical-align: top;\n",
              "    }\n",
              "\n",
              "    .dataframe thead th {\n",
              "        text-align: right;\n",
              "    }\n",
              "</style>\n",
              "<table border=\"1\" class=\"dataframe\">\n",
              "  <thead>\n",
              "    <tr style=\"text-align: right;\">\n",
              "      <th></th>\n",
              "      <th>description</th>\n",
              "      <th>severity</th>\n",
              "      <th>Encounter_ID</th>\n",
              "    </tr>\n",
              "  </thead>\n",
              "  <tbody>\n",
              "    <tr>\n",
              "      <th>0</th>\n",
              "      <td>Hypertension</td>\n",
              "      <td>mild</td>\n",
              "      <td>L8694502508698944760</td>\n",
              "    </tr>\n",
              "    <tr>\n",
              "      <th>1</th>\n",
              "      <td>General medical examination</td>\n",
              "      <td>NaN</td>\n",
              "      <td>M3204724885018391695</td>\n",
              "    </tr>\n",
              "    <tr>\n",
              "      <th>2</th>\n",
              "      <td>Chronic Obstructive Pulmonary Disease</td>\n",
              "      <td>critical</td>\n",
              "      <td>C2819614934032019919</td>\n",
              "    </tr>\n",
              "    <tr>\n",
              "      <th>3</th>\n",
              "      <td>Hypertension</td>\n",
              "      <td>mild</td>\n",
              "      <td>S4571692645992867370</td>\n",
              "    </tr>\n",
              "    <tr>\n",
              "      <th>4</th>\n",
              "      <td>General medical examination</td>\n",
              "      <td>NaN</td>\n",
              "      <td>J6262874375300991101</td>\n",
              "    </tr>\n",
              "  </tbody>\n",
              "</table>\n",
              "</div>"
            ],
            "text/plain": [
              "                             description  severity          Encounter_ID\n",
              "0                           Hypertension      mild  L8694502508698944760\n",
              "1            General medical examination       NaN  M3204724885018391695\n",
              "2  Chronic Obstructive Pulmonary Disease  critical  C2819614934032019919\n",
              "3                           Hypertension      mild  S4571692645992867370\n",
              "4            General medical examination       NaN  J6262874375300991101"
            ]
          },
          "metadata": {
            "tags": []
          },
          "execution_count": 30
        }
      ]
    },
    {
      "cell_type": "code",
      "metadata": {
        "id": "E6-Tp0k5SVZ8",
        "colab_type": "code",
        "colab": {}
      },
      "source": [
        "#preprocessing df4"
      ],
      "execution_count": 0,
      "outputs": []
    },
    {
      "cell_type": "code",
      "metadata": {
        "id": "ZxbuCEKZtOPl",
        "colab_type": "code",
        "outputId": "392f7d4d-0800-4b82-816a-a8db8bd9c526",
        "colab": {
          "base_uri": "https://localhost:8080/",
          "height": 428
        }
      },
      "source": [
        "df4.head()"
      ],
      "execution_count": 32,
      "outputs": [
        {
          "output_type": "execute_result",
          "data": {
            "text/html": [
              "<div>\n",
              "<style scoped>\n",
              "    .dataframe tbody tr th:only-of-type {\n",
              "        vertical-align: middle;\n",
              "    }\n",
              "\n",
              "    .dataframe tbody tr th {\n",
              "        vertical-align: top;\n",
              "    }\n",
              "\n",
              "    .dataframe thead th {\n",
              "        text-align: right;\n",
              "    }\n",
              "</style>\n",
              "<table border=\"1\" class=\"dataframe\">\n",
              "  <thead>\n",
              "    <tr style=\"text-align: right;\">\n",
              "      <th></th>\n",
              "      <th>Provider_Org</th>\n",
              "      <th>Encounter_ID</th>\n",
              "      <th>Member_ID</th>\n",
              "      <th>Provider_ID</th>\n",
              "      <th>Provider_NPI</th>\n",
              "      <th>Clinic_ID</th>\n",
              "      <th>Encounter_DateTime</th>\n",
              "      <th>Encounter_Description</th>\n",
              "      <th>CC</th>\n",
              "      <th>Episode_ID</th>\n",
              "      <th>Patient_DOB</th>\n",
              "      <th>Patient_Gender</th>\n",
              "      <th>Facility_Name</th>\n",
              "      <th>Provider_Name</th>\n",
              "      <th>Specialty</th>\n",
              "      <th>Clinic_Type</th>\n",
              "      <th>lab_orders_count</th>\n",
              "      <th>lab_results_count</th>\n",
              "      <th>medication_orders_count</th>\n",
              "      <th>medication_fulfillment_count</th>\n",
              "      <th>vital_sign_count</th>\n",
              "      <th>therapy_orders_count</th>\n",
              "      <th>therapy_actions_count</th>\n",
              "      <th>immunization_count</th>\n",
              "      <th>Has_Appt</th>\n",
              "      <th>SOAP_Note</th>\n",
              "      <th>consult_ordered</th>\n",
              "      <th>Disposition</th>\n",
              "    </tr>\n",
              "  </thead>\n",
              "  <tbody>\n",
              "    <tr>\n",
              "      <th>0</th>\n",
              "      <td>ExactData Medical Health System</td>\n",
              "      <td>L8694502508698944760</td>\n",
              "      <td>568001602-01</td>\n",
              "      <td>663746638</td>\n",
              "      <td>2531462832</td>\n",
              "      <td>Sidney Hillman Health Center</td>\n",
              "      <td>2005-06-30T19:15:00Z</td>\n",
              "      <td>Lacy visited primary care physician on 6/30/20...</td>\n",
              "      <td>mild occasional lightheadedness</td>\n",
              "      <td>L8694502508698944760</td>\n",
              "      <td>02/24/1972</td>\n",
              "      <td>female</td>\n",
              "      <td>NaN</td>\n",
              "      <td>Athena V Morris, MD</td>\n",
              "      <td>FAMILY PRACTICE/PRIMARY CARE</td>\n",
              "      <td>outpatient_medical</td>\n",
              "      <td>1</td>\n",
              "      <td>0</td>\n",
              "      <td>1</td>\n",
              "      <td>0</td>\n",
              "      <td>7</td>\n",
              "      <td>0</td>\n",
              "      <td>1</td>\n",
              "      <td>0</td>\n",
              "      <td>True</td>\n",
              "      <td>s:a 33 year old female crystallographer presen...</td>\n",
              "      <td>NaN</td>\n",
              "      <td>ReleasedWithoutLimitations</td>\n",
              "    </tr>\n",
              "    <tr>\n",
              "      <th>1</th>\n",
              "      <td>ExactData Medical Health System</td>\n",
              "      <td>V3046573432409333612</td>\n",
              "      <td>568001602-01</td>\n",
              "      <td>523808810</td>\n",
              "      <td>1380097962</td>\n",
              "      <td>Corner Drug Store</td>\n",
              "      <td>2005-07-01T23:44:00Z</td>\n",
              "      <td>Lacy visited pharmacy on 7/1/2005 6:44:00 PM f...</td>\n",
              "      <td>NaN</td>\n",
              "      <td>L8694502508698944760</td>\n",
              "      <td>02/24/1972</td>\n",
              "      <td>female</td>\n",
              "      <td>NaN</td>\n",
              "      <td>Shelley A Lawson, RPh</td>\n",
              "      <td>NaN</td>\n",
              "      <td>pharmacy</td>\n",
              "      <td>0</td>\n",
              "      <td>0</td>\n",
              "      <td>0</td>\n",
              "      <td>1</td>\n",
              "      <td>0</td>\n",
              "      <td>0</td>\n",
              "      <td>0</td>\n",
              "      <td>0</td>\n",
              "      <td>False</td>\n",
              "      <td>NaN</td>\n",
              "      <td>NaN</td>\n",
              "      <td>ReleasedWithoutLimitations</td>\n",
              "    </tr>\n",
              "    <tr>\n",
              "      <th>2</th>\n",
              "      <td>ExactData Medical Health System</td>\n",
              "      <td>X3228783097331248888</td>\n",
              "      <td>568001602-01</td>\n",
              "      <td>695700114</td>\n",
              "      <td>1261075194</td>\n",
              "      <td>Wood Diagnostic Labs</td>\n",
              "      <td>2005-07-05T14:54:00Z</td>\n",
              "      <td>Lacy visited medical lab on 7/5/2005 9:54:00 A...</td>\n",
              "      <td>NaN</td>\n",
              "      <td>L8694502508698944760</td>\n",
              "      <td>02/24/1972</td>\n",
              "      <td>female</td>\n",
              "      <td>NaN</td>\n",
              "      <td>Aquila F Whitney</td>\n",
              "      <td>NaN</td>\n",
              "      <td>lab</td>\n",
              "      <td>0</td>\n",
              "      <td>1</td>\n",
              "      <td>0</td>\n",
              "      <td>0</td>\n",
              "      <td>0</td>\n",
              "      <td>0</td>\n",
              "      <td>0</td>\n",
              "      <td>0</td>\n",
              "      <td>False</td>\n",
              "      <td>NaN</td>\n",
              "      <td>NaN</td>\n",
              "      <td>ReleasedWithoutLimitations</td>\n",
              "    </tr>\n",
              "    <tr>\n",
              "      <th>3</th>\n",
              "      <td>ExactData Medical Health System</td>\n",
              "      <td>M3204724885018391695</td>\n",
              "      <td>568001602-01</td>\n",
              "      <td>663746638</td>\n",
              "      <td>2531462832</td>\n",
              "      <td>Sidney Hillman Health Center</td>\n",
              "      <td>2005-10-07T15:45:00Z</td>\n",
              "      <td>Lacy visited primary care physician on 10/7/20...</td>\n",
              "      <td>NaN</td>\n",
              "      <td>M3204724885018391695</td>\n",
              "      <td>02/24/1972</td>\n",
              "      <td>female</td>\n",
              "      <td>NaN</td>\n",
              "      <td>Athena V Morris, MD</td>\n",
              "      <td>FAMILY PRACTICE/PRIMARY CARE</td>\n",
              "      <td>outpatient_medical</td>\n",
              "      <td>1</td>\n",
              "      <td>2</td>\n",
              "      <td>0</td>\n",
              "      <td>0</td>\n",
              "      <td>7</td>\n",
              "      <td>0</td>\n",
              "      <td>1</td>\n",
              "      <td>1</td>\n",
              "      <td>True</td>\n",
              "      <td>s:33 yr old female crystallographer presents t...</td>\n",
              "      <td>NaN</td>\n",
              "      <td>ReleasedWithoutLimitations</td>\n",
              "    </tr>\n",
              "    <tr>\n",
              "      <th>4</th>\n",
              "      <td>ExactData Medical Health System</td>\n",
              "      <td>G7012345417035113309</td>\n",
              "      <td>568001602-01</td>\n",
              "      <td>695700114</td>\n",
              "      <td>1261075194</td>\n",
              "      <td>Wood Diagnostic Labs</td>\n",
              "      <td>2005-10-12T20:33:00Z</td>\n",
              "      <td>Lacy visited medical lab on 10/12/2005 3:33:00...</td>\n",
              "      <td>NaN</td>\n",
              "      <td>M3204724885018391695</td>\n",
              "      <td>02/24/1972</td>\n",
              "      <td>female</td>\n",
              "      <td>NaN</td>\n",
              "      <td>Aquila F Whitney</td>\n",
              "      <td>NaN</td>\n",
              "      <td>lab</td>\n",
              "      <td>0</td>\n",
              "      <td>1</td>\n",
              "      <td>0</td>\n",
              "      <td>0</td>\n",
              "      <td>0</td>\n",
              "      <td>0</td>\n",
              "      <td>0</td>\n",
              "      <td>0</td>\n",
              "      <td>False</td>\n",
              "      <td>NaN</td>\n",
              "      <td>NaN</td>\n",
              "      <td>ReleasedWithoutLimitations</td>\n",
              "    </tr>\n",
              "  </tbody>\n",
              "</table>\n",
              "</div>"
            ],
            "text/plain": [
              "                      Provider_Org  ...                 Disposition\n",
              "0  ExactData Medical Health System  ...  ReleasedWithoutLimitations\n",
              "1  ExactData Medical Health System  ...  ReleasedWithoutLimitations\n",
              "2  ExactData Medical Health System  ...  ReleasedWithoutLimitations\n",
              "3  ExactData Medical Health System  ...  ReleasedWithoutLimitations\n",
              "4  ExactData Medical Health System  ...  ReleasedWithoutLimitations\n",
              "\n",
              "[5 rows x 28 columns]"
            ]
          },
          "metadata": {
            "tags": []
          },
          "execution_count": 32
        }
      ]
    },
    {
      "cell_type": "code",
      "metadata": {
        "id": "Mziro7lYWn92",
        "colab_type": "code",
        "colab": {
          "base_uri": "https://localhost:8080/",
          "height": 510
        },
        "outputId": "c7137f02-ab75-48cf-9d63-4086cf970f7a"
      },
      "source": [
        "df4.count()"
      ],
      "execution_count": 33,
      "outputs": [
        {
          "output_type": "execute_result",
          "data": {
            "text/plain": [
              "Provider_Org                    5447\n",
              "Encounter_ID                    5447\n",
              "Member_ID                       5447\n",
              "Provider_ID                     5447\n",
              "Provider_NPI                    5447\n",
              "Clinic_ID                       5447\n",
              "Encounter_DateTime              5447\n",
              "Encounter_Description           5447\n",
              "CC                              2237\n",
              "Episode_ID                      5447\n",
              "Patient_DOB                     5447\n",
              "Patient_Gender                  5447\n",
              "Facility_Name                      0\n",
              "Provider_Name                   5447\n",
              "Specialty                       3543\n",
              "Clinic_Type                     5447\n",
              "lab_orders_count                5447\n",
              "lab_results_count               5447\n",
              "medication_orders_count         5447\n",
              "medication_fulfillment_count    5447\n",
              "vital_sign_count                5447\n",
              "therapy_orders_count            5447\n",
              "therapy_actions_count           5447\n",
              "immunization_count              5447\n",
              "Has_Appt                        5447\n",
              "SOAP_Note                       3352\n",
              "consult_ordered                  554\n",
              "Disposition                     5447\n",
              "dtype: int64"
            ]
          },
          "metadata": {
            "tags": []
          },
          "execution_count": 33
        }
      ]
    },
    {
      "cell_type": "code",
      "metadata": {
        "id": "lz9b_wJXWw12",
        "colab_type": "code",
        "colab": {}
      },
      "source": [
        "df4 = df4.dropna(axis = 'columns', how = 'all')"
      ],
      "execution_count": 0,
      "outputs": []
    },
    {
      "cell_type": "code",
      "metadata": {
        "id": "RfVh6Q0wW0Rp",
        "colab_type": "code",
        "colab": {}
      },
      "source": [
        "to_drop = ['Provider_Name', 'Clinic_ID','Has_Appt']\n",
        "df4 = df4.drop(to_drop, axis=1)"
      ],
      "execution_count": 0,
      "outputs": []
    },
    {
      "cell_type": "code",
      "metadata": {
        "id": "lRPdbXkmXJBs",
        "colab_type": "code",
        "colab": {}
      },
      "source": [
        "df4.rename(columns = {'Patient_DOB':'Age'}, inplace = True) \n",
        "df4['Age'] = pd.to_datetime(df4['Age'], format='%m/%d/%Y')\n",
        "t_date = '2006-01-01 00:00:0.000000'\n",
        "df4[\"Age\"] = (pd.to_datetime(t_date) - df4['Age']).astype('<m8[Y]') "
      ],
      "execution_count": 0,
      "outputs": []
    },
    {
      "cell_type": "code",
      "metadata": {
        "id": "ewtVeAXtXXN6",
        "colab_type": "code",
        "colab": {}
      },
      "source": [
        "year = pd.DatetimeIndex(df4['Encounter_DateTime']).year\n",
        "month = pd.DatetimeIndex(df4['Encounter_DateTime']).month\n",
        "day = pd.DatetimeIndex(df4['Encounter_DateTime']).day"
      ],
      "execution_count": 0,
      "outputs": []
    },
    {
      "cell_type": "code",
      "metadata": {
        "id": "5HyXZBibXa0-",
        "colab_type": "code",
        "colab": {}
      },
      "source": [
        "def _month(x):\n",
        "    if x == 1:\n",
        "        return 'Jan'\n",
        "    if x == 2:\n",
        "        return 'Feb'\n",
        "    if x == 3:\n",
        "        return 'Mar'\n",
        "    if x == 4:\n",
        "        return 'Apr'\n",
        "    if x == 5:\n",
        "        return 'May'\n",
        "    if x == 6:\n",
        "        return 'Jun'\n",
        "    if x == 7:\n",
        "        return 'Jul'\n",
        "    if x == 8:\n",
        "        return 'Aug'\n",
        "    if x == 9:\n",
        "        return 'Sep'\n",
        "    if x == 10:\n",
        "        return 'Oct'\n",
        "    if x == 11:\n",
        "        return 'Nov'\n",
        "    if x == 12:\n",
        "        return 'Dec'"
      ],
      "execution_count": 0,
      "outputs": []
    },
    {
      "cell_type": "code",
      "metadata": {
        "id": "gowFamqJX1j_",
        "colab_type": "code",
        "colab": {}
      },
      "source": [
        "year = np.asarray(year)\n",
        "yea = []\n",
        "for i in range (0, len(year)):\n",
        "    s = str(year[i])\n",
        "    yea.append(s)\n",
        "res = []\n",
        "for i in range(0, len(month)):\n",
        "    r = _month(month[i])\n",
        "    res.append(r)\n",
        "date = []\n",
        "for i in range(0, len(day)):\n",
        "    l = str(day[i])\n",
        "    date.append(l)\n",
        "\n",
        "ans1 = np.char.add(date, ' ')\n",
        "ans2 = np.char.add(ans1, res)\n",
        "ans3 = np.char.add(ans2, ' ')\n",
        "ans = np.char.add(ans3, yea)\n",
        "col = pd.DataFrame(data=ans)\n",
        "df4[\"Encounter_DateTime\"] = col\n",
        "df4.rename(columns = {'Encounter_DateTime':'Encounter_Date'}, inplace = True) "
      ],
      "execution_count": 0,
      "outputs": []
    },
    {
      "cell_type": "markdown",
      "metadata": {
        "id": "aksHSqTdht0T",
        "colab_type": "text"
      },
      "source": [
        "Merging and Analysis"
      ]
    },
    {
      "cell_type": "code",
      "metadata": {
        "id": "4JHuMjHLtORf",
        "colab_type": "code",
        "outputId": "5e9ae237-9d1c-4cc7-b01a-29e4deeea444",
        "colab": {
          "base_uri": "https://localhost:8080/",
          "height": 85
        }
      },
      "source": [
        "df1.columns"
      ],
      "execution_count": 40,
      "outputs": [
        {
          "output_type": "execute_result",
          "data": {
            "text/plain": [
              "Index(['Provider_Org', 'Order_ID', 'Member_ID', 'Prescription',\n",
              "       'Dispense_Date', 'Drug_Name', 'Drug_NDC', 'Sig', 'Dispense_Qty', 'Dose',\n",
              "       'Days_Of_Supply', 'Encounter_ID'],\n",
              "      dtype='object')"
            ]
          },
          "metadata": {
            "tags": []
          },
          "execution_count": 40
        }
      ]
    },
    {
      "cell_type": "code",
      "metadata": {
        "id": "Tvmt-Qz-tORn",
        "colab_type": "code",
        "outputId": "d1d2631e-1265-489f-bf09-ce910573eacf",
        "colab": {
          "base_uri": "https://localhost:8080/",
          "height": 85
        }
      },
      "source": [
        "df2.columns"
      ],
      "execution_count": 41,
      "outputs": [
        {
          "output_type": "execute_result",
          "data": {
            "text/plain": [
              "Index(['Provider_Org', 'Member_ID', 'Date_Collected', 'Test_ID', 'Test_Name',\n",
              "       'Result_LOINC', 'Result_Name', 'Result_Description', 'Order_ID',\n",
              "       'Provider_ID', 'Encounter_ID', 'Result'],\n",
              "      dtype='object')"
            ]
          },
          "metadata": {
            "tags": []
          },
          "execution_count": 41
        }
      ]
    },
    {
      "cell_type": "code",
      "metadata": {
        "id": "TJJ3z8V-tORw",
        "colab_type": "code",
        "outputId": "033c184f-1cdc-40fd-a49c-cffbfd18b133",
        "colab": {
          "base_uri": "https://localhost:8080/",
          "height": 34
        }
      },
      "source": [
        "df3.columns"
      ],
      "execution_count": 42,
      "outputs": [
        {
          "output_type": "execute_result",
          "data": {
            "text/plain": [
              "Index(['description', 'severity', 'Encounter_ID'], dtype='object')"
            ]
          },
          "metadata": {
            "tags": []
          },
          "execution_count": 42
        }
      ]
    },
    {
      "cell_type": "code",
      "metadata": {
        "id": "L0Yne5MwtORW",
        "colab_type": "code",
        "outputId": "83bf7c97-df90-4f42-d7c9-6b414e57682c",
        "colab": {
          "base_uri": "https://localhost:8080/",
          "height": 153
        }
      },
      "source": [
        "df4.columns"
      ],
      "execution_count": 43,
      "outputs": [
        {
          "output_type": "execute_result",
          "data": {
            "text/plain": [
              "Index(['Provider_Org', 'Encounter_ID', 'Member_ID', 'Provider_ID',\n",
              "       'Provider_NPI', 'Encounter_Date', 'Encounter_Description', 'CC',\n",
              "       'Episode_ID', 'Age', 'Patient_Gender', 'Specialty', 'Clinic_Type',\n",
              "       'lab_orders_count', 'lab_results_count', 'medication_orders_count',\n",
              "       'medication_fulfillment_count', 'vital_sign_count',\n",
              "       'therapy_orders_count', 'therapy_actions_count', 'immunization_count',\n",
              "       'SOAP_Note', 'consult_ordered', 'Disposition'],\n",
              "      dtype='object')"
            ]
          },
          "metadata": {
            "tags": []
          },
          "execution_count": 43
        }
      ]
    },
    {
      "cell_type": "code",
      "metadata": {
        "id": "Z_w5PSPJtOR4",
        "colab_type": "code",
        "outputId": "3c6faeb9-96d6-4a87-8558-52c78d06d910",
        "colab": {
          "base_uri": "https://localhost:8080/",
          "height": 34
        }
      },
      "source": [
        "df2['Provider_ID'].unique().shape"
      ],
      "execution_count": 44,
      "outputs": [
        {
          "output_type": "execute_result",
          "data": {
            "text/plain": [
              "(99,)"
            ]
          },
          "metadata": {
            "tags": []
          },
          "execution_count": 44
        }
      ]
    },
    {
      "cell_type": "code",
      "metadata": {
        "id": "llO-wMwOtOSJ",
        "colab_type": "code",
        "outputId": "09168cf1-c4d5-4638-c3d3-4a5d6014673b",
        "colab": {
          "base_uri": "https://localhost:8080/",
          "height": 34
        }
      },
      "source": [
        "df3['Encounter_ID'].unique().shape"
      ],
      "execution_count": 45,
      "outputs": [
        {
          "output_type": "execute_result",
          "data": {
            "text/plain": [
              "(2717,)"
            ]
          },
          "metadata": {
            "tags": []
          },
          "execution_count": 45
        }
      ]
    },
    {
      "cell_type": "code",
      "metadata": {
        "id": "GQArdHMitOSR",
        "colab_type": "code",
        "outputId": "a99bf7da-4345-4c4b-acae-ad50ca73fa17",
        "colab": {
          "base_uri": "https://localhost:8080/",
          "height": 34
        }
      },
      "source": [
        "df4['Provider_ID'].unique().shape"
      ],
      "execution_count": 46,
      "outputs": [
        {
          "output_type": "execute_result",
          "data": {
            "text/plain": [
              "(155,)"
            ]
          },
          "metadata": {
            "tags": []
          },
          "execution_count": 46
        }
      ]
    },
    {
      "cell_type": "code",
      "metadata": {
        "id": "eCZdSH7WtOSk",
        "colab_type": "code",
        "outputId": "a32dafdc-3254-440a-95d6-f7543b3347da",
        "colab": {
          "base_uri": "https://localhost:8080/",
          "height": 34
        }
      },
      "source": [
        "df3['Encounter_ID'].shape"
      ],
      "execution_count": 47,
      "outputs": [
        {
          "output_type": "execute_result",
          "data": {
            "text/plain": [
              "(3063,)"
            ]
          },
          "metadata": {
            "tags": []
          },
          "execution_count": 47
        }
      ]
    },
    {
      "cell_type": "code",
      "metadata": {
        "id": "7L-QGgLDtOTG",
        "colab_type": "code",
        "colab": {
          "base_uri": "https://localhost:8080/",
          "height": 34
        },
        "outputId": "49269603-c84e-4156-de69-cd970410d7d3"
      },
      "source": [
        "df2['Member_ID'].unique().shape"
      ],
      "execution_count": 48,
      "outputs": [
        {
          "output_type": "execute_result",
          "data": {
            "text/plain": [
              "(104,)"
            ]
          },
          "metadata": {
            "tags": []
          },
          "execution_count": 48
        }
      ]
    },
    {
      "cell_type": "code",
      "metadata": {
        "id": "iu0718FRtOTd",
        "colab_type": "code",
        "outputId": "e6030ebc-cec1-47ae-c5dc-968d4f3249fc",
        "colab": {
          "base_uri": "https://localhost:8080/",
          "height": 34
        }
      },
      "source": [
        "df3.shape"
      ],
      "execution_count": 49,
      "outputs": [
        {
          "output_type": "execute_result",
          "data": {
            "text/plain": [
              "(3063, 3)"
            ]
          },
          "metadata": {
            "tags": []
          },
          "execution_count": 49
        }
      ]
    },
    {
      "cell_type": "code",
      "metadata": {
        "id": "BH5PTDHOtOTq",
        "colab_type": "code",
        "outputId": "e13e0143-b9ae-4203-faa9-d4cc9271feb5",
        "colab": {
          "base_uri": "https://localhost:8080/",
          "height": 34
        }
      },
      "source": [
        "df2.shape"
      ],
      "execution_count": 50,
      "outputs": [
        {
          "output_type": "execute_result",
          "data": {
            "text/plain": [
              "(7509, 12)"
            ]
          },
          "metadata": {
            "tags": []
          },
          "execution_count": 50
        }
      ]
    },
    {
      "cell_type": "code",
      "metadata": {
        "id": "KKIEc505tOTw",
        "colab_type": "code",
        "outputId": "f050db13-50aa-43eb-ca71-d6c77cd40375",
        "colab": {
          "base_uri": "https://localhost:8080/",
          "height": 394
        }
      },
      "source": [
        "df2.head()"
      ],
      "execution_count": 51,
      "outputs": [
        {
          "output_type": "execute_result",
          "data": {
            "text/html": [
              "<div>\n",
              "<style scoped>\n",
              "    .dataframe tbody tr th:only-of-type {\n",
              "        vertical-align: middle;\n",
              "    }\n",
              "\n",
              "    .dataframe tbody tr th {\n",
              "        vertical-align: top;\n",
              "    }\n",
              "\n",
              "    .dataframe thead th {\n",
              "        text-align: right;\n",
              "    }\n",
              "</style>\n",
              "<table border=\"1\" class=\"dataframe\">\n",
              "  <thead>\n",
              "    <tr style=\"text-align: right;\">\n",
              "      <th></th>\n",
              "      <th>Provider_Org</th>\n",
              "      <th>Member_ID</th>\n",
              "      <th>Date_Collected</th>\n",
              "      <th>Test_ID</th>\n",
              "      <th>Test_Name</th>\n",
              "      <th>Result_LOINC</th>\n",
              "      <th>Result_Name</th>\n",
              "      <th>Result_Description</th>\n",
              "      <th>Order_ID</th>\n",
              "      <th>Provider_ID</th>\n",
              "      <th>Encounter_ID</th>\n",
              "      <th>Result</th>\n",
              "    </tr>\n",
              "  </thead>\n",
              "  <tbody>\n",
              "    <tr>\n",
              "      <th>0</th>\n",
              "      <td>ExactData Medical Health System</td>\n",
              "      <td>568001602-01</td>\n",
              "      <td>2005-07-05T15:54:00Z</td>\n",
              "      <td>050705 CH 76296541</td>\n",
              "      <td>Cholesterol</td>\n",
              "      <td>2093-3</td>\n",
              "      <td>Cholesterol</td>\n",
              "      <td>Cholesterol=250 mg/dL</td>\n",
              "      <td>050630-30199</td>\n",
              "      <td>695700114</td>\n",
              "      <td>X3228783097331248888</td>\n",
              "      <td>250mg/dL</td>\n",
              "    </tr>\n",
              "    <tr>\n",
              "      <th>1</th>\n",
              "      <td>ExactData Medical Health System</td>\n",
              "      <td>568001602-01</td>\n",
              "      <td>2005-10-07T16:15:00Z</td>\n",
              "      <td>051007 CH 47988013</td>\n",
              "      <td>HPV I/H Risk DNA Probe</td>\n",
              "      <td>21440-3</td>\n",
              "      <td>HPV test</td>\n",
              "      <td>negative for HPV 16 &amp; 18</td>\n",
              "      <td>NaN</td>\n",
              "      <td>663746638</td>\n",
              "      <td>M3204724885018391695</td>\n",
              "      <td>NaN</td>\n",
              "    </tr>\n",
              "    <tr>\n",
              "      <th>2</th>\n",
              "      <td>ExactData Medical Health System</td>\n",
              "      <td>568001602-01</td>\n",
              "      <td>2005-10-07T16:15:00Z</td>\n",
              "      <td>051007 CH 04421087</td>\n",
              "      <td>Visual Acuity Study</td>\n",
              "      <td>28631-0</td>\n",
              "      <td>acuity</td>\n",
              "      <td>right eye 20/20, left eye 20/20</td>\n",
              "      <td>NaN</td>\n",
              "      <td>663746638</td>\n",
              "      <td>M3204724885018391695</td>\n",
              "      <td>NaN</td>\n",
              "    </tr>\n",
              "    <tr>\n",
              "      <th>3</th>\n",
              "      <td>ExactData Medical Health System</td>\n",
              "      <td>568001602-01</td>\n",
              "      <td>2005-10-12T21:33:00Z</td>\n",
              "      <td>051012 CH 48885833</td>\n",
              "      <td>Lipid Profile</td>\n",
              "      <td>2093-3</td>\n",
              "      <td>Total cholesterol</td>\n",
              "      <td>Total cholesterol = 180mg/dL</td>\n",
              "      <td>051007-54352</td>\n",
              "      <td>695700114</td>\n",
              "      <td>G7012345417035113309</td>\n",
              "      <td>180mg/dL</td>\n",
              "    </tr>\n",
              "    <tr>\n",
              "      <th>4</th>\n",
              "      <td>ExactData Medical Health System</td>\n",
              "      <td>568001602-01</td>\n",
              "      <td>2005-10-12T21:33:00Z</td>\n",
              "      <td>051012 CH 48885833</td>\n",
              "      <td>Lipid Profile</td>\n",
              "      <td>13457-7</td>\n",
              "      <td>LDL</td>\n",
              "      <td>LDL = 120mg/dL</td>\n",
              "      <td>051007-54352</td>\n",
              "      <td>695700114</td>\n",
              "      <td>G7012345417035113309</td>\n",
              "      <td>120mg/dL</td>\n",
              "    </tr>\n",
              "  </tbody>\n",
              "</table>\n",
              "</div>"
            ],
            "text/plain": [
              "                      Provider_Org  ...    Result\n",
              "0  ExactData Medical Health System  ...  250mg/dL\n",
              "1  ExactData Medical Health System  ...       NaN\n",
              "2  ExactData Medical Health System  ...       NaN\n",
              "3  ExactData Medical Health System  ...  180mg/dL\n",
              "4  ExactData Medical Health System  ...  120mg/dL\n",
              "\n",
              "[5 rows x 12 columns]"
            ]
          },
          "metadata": {
            "tags": []
          },
          "execution_count": 51
        }
      ]
    },
    {
      "cell_type": "code",
      "metadata": {
        "id": "nQzqz7G0tOT4",
        "colab_type": "code",
        "outputId": "c7596888-62e6-4146-a75f-c65d4b2b41d4",
        "colab": {
          "base_uri": "https://localhost:8080/",
          "height": 238
        }
      },
      "source": [
        "df2.isnull().sum()"
      ],
      "execution_count": 52,
      "outputs": [
        {
          "output_type": "execute_result",
          "data": {
            "text/plain": [
              "Provider_Org             0\n",
              "Member_ID                0\n",
              "Date_Collected           0\n",
              "Test_ID                  0\n",
              "Test_Name                0\n",
              "Result_LOINC             0\n",
              "Result_Name              0\n",
              "Result_Description       0\n",
              "Order_ID              1499\n",
              "Provider_ID              0\n",
              "Encounter_ID             0\n",
              "Result                4715\n",
              "dtype: int64"
            ]
          },
          "metadata": {
            "tags": []
          },
          "execution_count": 52
        }
      ]
    },
    {
      "cell_type": "code",
      "metadata": {
        "id": "JMefLa5ktOUA",
        "colab_type": "code",
        "outputId": "ff53a026-2b74-4115-fe6e-f64da8b7d6fc",
        "colab": {
          "base_uri": "https://localhost:8080/",
          "height": 394
        }
      },
      "source": [
        "df1.head()"
      ],
      "execution_count": 53,
      "outputs": [
        {
          "output_type": "execute_result",
          "data": {
            "text/html": [
              "<div>\n",
              "<style scoped>\n",
              "    .dataframe tbody tr th:only-of-type {\n",
              "        vertical-align: middle;\n",
              "    }\n",
              "\n",
              "    .dataframe tbody tr th {\n",
              "        vertical-align: top;\n",
              "    }\n",
              "\n",
              "    .dataframe thead th {\n",
              "        text-align: right;\n",
              "    }\n",
              "</style>\n",
              "<table border=\"1\" class=\"dataframe\">\n",
              "  <thead>\n",
              "    <tr style=\"text-align: right;\">\n",
              "      <th></th>\n",
              "      <th>Provider_Org</th>\n",
              "      <th>Order_ID</th>\n",
              "      <th>Member_ID</th>\n",
              "      <th>Prescription</th>\n",
              "      <th>Dispense_Date</th>\n",
              "      <th>Drug_Name</th>\n",
              "      <th>Drug_NDC</th>\n",
              "      <th>Sig</th>\n",
              "      <th>Dispense_Qty</th>\n",
              "      <th>Dose</th>\n",
              "      <th>Days_Of_Supply</th>\n",
              "      <th>Encounter_ID</th>\n",
              "    </tr>\n",
              "  </thead>\n",
              "  <tbody>\n",
              "    <tr>\n",
              "      <th>0</th>\n",
              "      <td>ExactData Medical Health System</td>\n",
              "      <td>050630-23852</td>\n",
              "      <td>568001602-01</td>\n",
              "      <td>RX80452720</td>\n",
              "      <td>2005-07-02</td>\n",
              "      <td>Hydrochlorothiazide</td>\n",
              "      <td>0172-2089-80</td>\n",
              "      <td>po qd</td>\n",
              "      <td>90</td>\n",
              "      <td>50mg</td>\n",
              "      <td>90</td>\n",
              "      <td>V3046573432409333612</td>\n",
              "    </tr>\n",
              "    <tr>\n",
              "      <th>1</th>\n",
              "      <td>ExactData Medical Health System</td>\n",
              "      <td>050312-01255</td>\n",
              "      <td>937650000-01</td>\n",
              "      <td>RX66597665</td>\n",
              "      <td>2005-03-12</td>\n",
              "      <td>OMS 50</td>\n",
              "      <td>65689-001-21</td>\n",
              "      <td>via nasal cannula (contin)</td>\n",
              "      <td>4320</td>\n",
              "      <td>6h</td>\n",
              "      <td>1</td>\n",
              "      <td>C2819614934032019919</td>\n",
              "    </tr>\n",
              "    <tr>\n",
              "      <th>2</th>\n",
              "      <td>ExactData Medical Health System</td>\n",
              "      <td>050419-86521</td>\n",
              "      <td>937650000-01</td>\n",
              "      <td>RX29972012</td>\n",
              "      <td>2005-04-22</td>\n",
              "      <td>Hydrochlorothiazide</td>\n",
              "      <td>0172-2089-80</td>\n",
              "      <td>po qd</td>\n",
              "      <td>90</td>\n",
              "      <td>50mg</td>\n",
              "      <td>90</td>\n",
              "      <td>N6421143613871277479</td>\n",
              "    </tr>\n",
              "    <tr>\n",
              "      <th>3</th>\n",
              "      <td>ExactData Medical Health System</td>\n",
              "      <td>050826-36597</td>\n",
              "      <td>666214171-01</td>\n",
              "      <td>RX35391014</td>\n",
              "      <td>2005-08-28</td>\n",
              "      <td>Prednisone</td>\n",
              "      <td>54569-0332-3</td>\n",
              "      <td>orally</td>\n",
              "      <td>20</td>\n",
              "      <td>20mg</td>\n",
              "      <td>20</td>\n",
              "      <td>L1660181935005579193</td>\n",
              "    </tr>\n",
              "    <tr>\n",
              "      <th>4</th>\n",
              "      <td>ExactData Medical Health System</td>\n",
              "      <td>050228-72970</td>\n",
              "      <td>666383984-01</td>\n",
              "      <td>RX45661465</td>\n",
              "      <td>2005-03-03</td>\n",
              "      <td>protamine sulfate</td>\n",
              "      <td>63323-229-30</td>\n",
              "      <td>/90 units of heparin overdosage</td>\n",
              "      <td>1</td>\n",
              "      <td>1mg</td>\n",
              "      <td>1</td>\n",
              "      <td>U1554150386761469892</td>\n",
              "    </tr>\n",
              "  </tbody>\n",
              "</table>\n",
              "</div>"
            ],
            "text/plain": [
              "                      Provider_Org  ...          Encounter_ID\n",
              "0  ExactData Medical Health System  ...  V3046573432409333612\n",
              "1  ExactData Medical Health System  ...  C2819614934032019919\n",
              "2  ExactData Medical Health System  ...  N6421143613871277479\n",
              "3  ExactData Medical Health System  ...  L1660181935005579193\n",
              "4  ExactData Medical Health System  ...  U1554150386761469892\n",
              "\n",
              "[5 rows x 12 columns]"
            ]
          },
          "metadata": {
            "tags": []
          },
          "execution_count": 53
        }
      ]
    },
    {
      "cell_type": "code",
      "metadata": {
        "id": "_mNtbbH_tOUe",
        "colab_type": "code",
        "outputId": "54251309-3f74-4db9-df97-23c38012017f",
        "colab": {
          "base_uri": "https://localhost:8080/",
          "height": 204
        }
      },
      "source": [
        "df3.head()"
      ],
      "execution_count": 54,
      "outputs": [
        {
          "output_type": "execute_result",
          "data": {
            "text/html": [
              "<div>\n",
              "<style scoped>\n",
              "    .dataframe tbody tr th:only-of-type {\n",
              "        vertical-align: middle;\n",
              "    }\n",
              "\n",
              "    .dataframe tbody tr th {\n",
              "        vertical-align: top;\n",
              "    }\n",
              "\n",
              "    .dataframe thead th {\n",
              "        text-align: right;\n",
              "    }\n",
              "</style>\n",
              "<table border=\"1\" class=\"dataframe\">\n",
              "  <thead>\n",
              "    <tr style=\"text-align: right;\">\n",
              "      <th></th>\n",
              "      <th>description</th>\n",
              "      <th>severity</th>\n",
              "      <th>Encounter_ID</th>\n",
              "    </tr>\n",
              "  </thead>\n",
              "  <tbody>\n",
              "    <tr>\n",
              "      <th>0</th>\n",
              "      <td>Hypertension</td>\n",
              "      <td>mild</td>\n",
              "      <td>L8694502508698944760</td>\n",
              "    </tr>\n",
              "    <tr>\n",
              "      <th>1</th>\n",
              "      <td>General medical examination</td>\n",
              "      <td>NaN</td>\n",
              "      <td>M3204724885018391695</td>\n",
              "    </tr>\n",
              "    <tr>\n",
              "      <th>2</th>\n",
              "      <td>Chronic Obstructive Pulmonary Disease</td>\n",
              "      <td>critical</td>\n",
              "      <td>C2819614934032019919</td>\n",
              "    </tr>\n",
              "    <tr>\n",
              "      <th>3</th>\n",
              "      <td>Hypertension</td>\n",
              "      <td>mild</td>\n",
              "      <td>S4571692645992867370</td>\n",
              "    </tr>\n",
              "    <tr>\n",
              "      <th>4</th>\n",
              "      <td>General medical examination</td>\n",
              "      <td>NaN</td>\n",
              "      <td>J6262874375300991101</td>\n",
              "    </tr>\n",
              "  </tbody>\n",
              "</table>\n",
              "</div>"
            ],
            "text/plain": [
              "                             description  severity          Encounter_ID\n",
              "0                           Hypertension      mild  L8694502508698944760\n",
              "1            General medical examination       NaN  M3204724885018391695\n",
              "2  Chronic Obstructive Pulmonary Disease  critical  C2819614934032019919\n",
              "3                           Hypertension      mild  S4571692645992867370\n",
              "4            General medical examination       NaN  J6262874375300991101"
            ]
          },
          "metadata": {
            "tags": []
          },
          "execution_count": 54
        }
      ]
    },
    {
      "cell_type": "code",
      "metadata": {
        "id": "amXwj9EQtOUq",
        "colab_type": "code",
        "outputId": "d7faf2c4-ef71-46e2-ead9-6dcbbf033702",
        "colab": {
          "base_uri": "https://localhost:8080/",
          "height": 85
        }
      },
      "source": [
        "df3.isnull().sum()"
      ],
      "execution_count": 55,
      "outputs": [
        {
          "output_type": "execute_result",
          "data": {
            "text/plain": [
              "description       0\n",
              "severity        696\n",
              "Encounter_ID      0\n",
              "dtype: int64"
            ]
          },
          "metadata": {
            "tags": []
          },
          "execution_count": 55
        }
      ]
    },
    {
      "cell_type": "code",
      "metadata": {
        "id": "jYgSV35ftOVO",
        "colab_type": "code",
        "colab": {}
      },
      "source": [
        "#merging the df1 and df3 tables\n",
        "query = ps.sqldf(\"\"\"select df1.*,\n",
        "df3.description,\n",
        "df3.severity \n",
        "from df1 \n",
        "left join df3\n",
        "on df1.Encounter_ID=df3.Encounter_ID\"\"\")"
      ],
      "execution_count": 0,
      "outputs": []
    },
    {
      "cell_type": "code",
      "metadata": {
        "id": "pNAlTlWitOVT",
        "colab_type": "code",
        "outputId": "527a8f0b-a4f1-46e2-846e-6b274026d7de",
        "colab": {
          "base_uri": "https://localhost:8080/",
          "height": 813
        }
      },
      "source": [
        "query"
      ],
      "execution_count": 57,
      "outputs": [
        {
          "output_type": "execute_result",
          "data": {
            "text/html": [
              "<div>\n",
              "<style scoped>\n",
              "    .dataframe tbody tr th:only-of-type {\n",
              "        vertical-align: middle;\n",
              "    }\n",
              "\n",
              "    .dataframe tbody tr th {\n",
              "        vertical-align: top;\n",
              "    }\n",
              "\n",
              "    .dataframe thead th {\n",
              "        text-align: right;\n",
              "    }\n",
              "</style>\n",
              "<table border=\"1\" class=\"dataframe\">\n",
              "  <thead>\n",
              "    <tr style=\"text-align: right;\">\n",
              "      <th></th>\n",
              "      <th>Provider_Org</th>\n",
              "      <th>Order_ID</th>\n",
              "      <th>Member_ID</th>\n",
              "      <th>Prescription</th>\n",
              "      <th>Dispense_Date</th>\n",
              "      <th>Drug_Name</th>\n",
              "      <th>Drug_NDC</th>\n",
              "      <th>Sig</th>\n",
              "      <th>Dispense_Qty</th>\n",
              "      <th>Dose</th>\n",
              "      <th>Days_Of_Supply</th>\n",
              "      <th>Encounter_ID</th>\n",
              "      <th>description</th>\n",
              "      <th>severity</th>\n",
              "    </tr>\n",
              "  </thead>\n",
              "  <tbody>\n",
              "    <tr>\n",
              "      <th>0</th>\n",
              "      <td>ExactData Medical Health System</td>\n",
              "      <td>050630-23852</td>\n",
              "      <td>568001602-01</td>\n",
              "      <td>RX80452720</td>\n",
              "      <td>2005-07-02 00:00:00.000000</td>\n",
              "      <td>Hydrochlorothiazide</td>\n",
              "      <td>0172-2089-80</td>\n",
              "      <td>po qd</td>\n",
              "      <td>90</td>\n",
              "      <td>50mg</td>\n",
              "      <td>90</td>\n",
              "      <td>V3046573432409333612</td>\n",
              "      <td>None</td>\n",
              "      <td>None</td>\n",
              "    </tr>\n",
              "    <tr>\n",
              "      <th>1</th>\n",
              "      <td>ExactData Medical Health System</td>\n",
              "      <td>050312-01255</td>\n",
              "      <td>937650000-01</td>\n",
              "      <td>RX66597665</td>\n",
              "      <td>2005-03-12 00:00:00.000000</td>\n",
              "      <td>OMS 50</td>\n",
              "      <td>65689-001-21</td>\n",
              "      <td>via nasal cannula (contin)</td>\n",
              "      <td>4320</td>\n",
              "      <td>6h</td>\n",
              "      <td>1</td>\n",
              "      <td>C2819614934032019919</td>\n",
              "      <td>Chronic Obstructive Pulmonary Disease</td>\n",
              "      <td>critical</td>\n",
              "    </tr>\n",
              "    <tr>\n",
              "      <th>2</th>\n",
              "      <td>ExactData Medical Health System</td>\n",
              "      <td>050419-86521</td>\n",
              "      <td>937650000-01</td>\n",
              "      <td>RX29972012</td>\n",
              "      <td>2005-04-22 00:00:00.000000</td>\n",
              "      <td>Hydrochlorothiazide</td>\n",
              "      <td>0172-2089-80</td>\n",
              "      <td>po qd</td>\n",
              "      <td>90</td>\n",
              "      <td>50mg</td>\n",
              "      <td>90</td>\n",
              "      <td>N6421143613871277479</td>\n",
              "      <td>None</td>\n",
              "      <td>None</td>\n",
              "    </tr>\n",
              "    <tr>\n",
              "      <th>3</th>\n",
              "      <td>ExactData Medical Health System</td>\n",
              "      <td>050826-36597</td>\n",
              "      <td>666214171-01</td>\n",
              "      <td>RX35391014</td>\n",
              "      <td>2005-08-28 00:00:00.000000</td>\n",
              "      <td>Prednisone</td>\n",
              "      <td>54569-0332-3</td>\n",
              "      <td>orally</td>\n",
              "      <td>20</td>\n",
              "      <td>20mg</td>\n",
              "      <td>20</td>\n",
              "      <td>L1660181935005579193</td>\n",
              "      <td>None</td>\n",
              "      <td>None</td>\n",
              "    </tr>\n",
              "    <tr>\n",
              "      <th>4</th>\n",
              "      <td>ExactData Medical Health System</td>\n",
              "      <td>050228-72970</td>\n",
              "      <td>666383984-01</td>\n",
              "      <td>RX45661465</td>\n",
              "      <td>2005-03-03 00:00:00.000000</td>\n",
              "      <td>protamine sulfate</td>\n",
              "      <td>63323-229-30</td>\n",
              "      <td>/90 units of heparin overdosage</td>\n",
              "      <td>1</td>\n",
              "      <td>1mg</td>\n",
              "      <td>1</td>\n",
              "      <td>U1554150386761469892</td>\n",
              "      <td>None</td>\n",
              "      <td>None</td>\n",
              "    </tr>\n",
              "    <tr>\n",
              "      <th>...</th>\n",
              "      <td>...</td>\n",
              "      <td>...</td>\n",
              "      <td>...</td>\n",
              "      <td>...</td>\n",
              "      <td>...</td>\n",
              "      <td>...</td>\n",
              "      <td>...</td>\n",
              "      <td>...</td>\n",
              "      <td>...</td>\n",
              "      <td>...</td>\n",
              "      <td>...</td>\n",
              "      <td>...</td>\n",
              "      <td>...</td>\n",
              "      <td>...</td>\n",
              "    </tr>\n",
              "    <tr>\n",
              "      <th>1171</th>\n",
              "      <td>ExactData Medical Health System</td>\n",
              "      <td>141219-31653</td>\n",
              "      <td>000171598-01</td>\n",
              "      <td>RX65498494</td>\n",
              "      <td>2014-12-23 00:00:00.000000</td>\n",
              "      <td>Lisinopril</td>\n",
              "      <td>0143-1268-10</td>\n",
              "      <td>20 MG PO DAILY</td>\n",
              "      <td>30</td>\n",
              "      <td>20mg</td>\n",
              "      <td>30</td>\n",
              "      <td>W0813803508077722810</td>\n",
              "      <td>None</td>\n",
              "      <td>None</td>\n",
              "    </tr>\n",
              "    <tr>\n",
              "      <th>1172</th>\n",
              "      <td>ExactData Medical Health System</td>\n",
              "      <td>140303-38297</td>\n",
              "      <td>000171598-02</td>\n",
              "      <td>RX16125958</td>\n",
              "      <td>2014-03-05 00:00:00.000000</td>\n",
              "      <td>oxycontin 10</td>\n",
              "      <td>35356-785-90</td>\n",
              "      <td>PO q 4 hours prn pain</td>\n",
              "      <td>90</td>\n",
              "      <td>11</td>\n",
              "      <td>30</td>\n",
              "      <td>C3383663836433578200</td>\n",
              "      <td>None</td>\n",
              "      <td>None</td>\n",
              "    </tr>\n",
              "    <tr>\n",
              "      <th>1173</th>\n",
              "      <td>ExactData Medical Health System</td>\n",
              "      <td>140318-98860</td>\n",
              "      <td>852001866-01</td>\n",
              "      <td>RX36058301</td>\n",
              "      <td>2014-03-21 00:00:00.000000</td>\n",
              "      <td>Isotonic Saline (0.9%)</td>\n",
              "      <td>0264-4001-55</td>\n",
              "      <td>per dose</td>\n",
              "      <td>750</td>\n",
              "      <td>10mL/kg</td>\n",
              "      <td>1</td>\n",
              "      <td>F1965887923552481811</td>\n",
              "      <td>None</td>\n",
              "      <td>None</td>\n",
              "    </tr>\n",
              "    <tr>\n",
              "      <th>1174</th>\n",
              "      <td>ExactData Medical Health System</td>\n",
              "      <td>140303-90178</td>\n",
              "      <td>666987316-01</td>\n",
              "      <td>RX49597452</td>\n",
              "      <td>2014-03-03 00:00:00.000000</td>\n",
              "      <td>glimepiride</td>\n",
              "      <td>0093-7256-01</td>\n",
              "      <td>daily</td>\n",
              "      <td>30</td>\n",
              "      <td>4mg</td>\n",
              "      <td>30</td>\n",
              "      <td>R1010180008977934530</td>\n",
              "      <td>Type 2 Diabetes</td>\n",
              "      <td>severe</td>\n",
              "    </tr>\n",
              "    <tr>\n",
              "      <th>1175</th>\n",
              "      <td>ExactData Medical Health System</td>\n",
              "      <td>141124-53578</td>\n",
              "      <td>666987316-01</td>\n",
              "      <td>RX99181874</td>\n",
              "      <td>2014-11-27 00:00:00.000000</td>\n",
              "      <td>Cefadroxil</td>\n",
              "      <td>00536703001</td>\n",
              "      <td>500 MG PO Q 12 HOURS X 10 DAYS</td>\n",
              "      <td>200 ML</td>\n",
              "      <td>250mg/mL</td>\n",
              "      <td>10</td>\n",
              "      <td>Q3024475568598304332</td>\n",
              "      <td>None</td>\n",
              "      <td>None</td>\n",
              "    </tr>\n",
              "  </tbody>\n",
              "</table>\n",
              "<p>1176 rows × 14 columns</p>\n",
              "</div>"
            ],
            "text/plain": [
              "                         Provider_Org  ...  severity\n",
              "0     ExactData Medical Health System  ...      None\n",
              "1     ExactData Medical Health System  ...  critical\n",
              "2     ExactData Medical Health System  ...      None\n",
              "3     ExactData Medical Health System  ...      None\n",
              "4     ExactData Medical Health System  ...      None\n",
              "...                               ...  ...       ...\n",
              "1171  ExactData Medical Health System  ...      None\n",
              "1172  ExactData Medical Health System  ...      None\n",
              "1173  ExactData Medical Health System  ...      None\n",
              "1174  ExactData Medical Health System  ...    severe\n",
              "1175  ExactData Medical Health System  ...      None\n",
              "\n",
              "[1176 rows x 14 columns]"
            ]
          },
          "metadata": {
            "tags": []
          },
          "execution_count": 57
        }
      ]
    },
    {
      "cell_type": "code",
      "metadata": {
        "id": "7_qrfsXJtOVY",
        "colab_type": "code",
        "outputId": "c20e2b20-bdb0-45f4-8610-3de5b7867a31",
        "colab": {
          "base_uri": "https://localhost:8080/",
          "height": 419
        }
      },
      "source": [
        "query1 = ps.sqldf(\"\"\"select order_id\n",
        "from df2 \n",
        "group by order_id\n",
        "having count(*)>2\"\"\")\n",
        "query1"
      ],
      "execution_count": 58,
      "outputs": [
        {
          "output_type": "execute_result",
          "data": {
            "text/html": [
              "<div>\n",
              "<style scoped>\n",
              "    .dataframe tbody tr th:only-of-type {\n",
              "        vertical-align: middle;\n",
              "    }\n",
              "\n",
              "    .dataframe tbody tr th {\n",
              "        vertical-align: top;\n",
              "    }\n",
              "\n",
              "    .dataframe thead th {\n",
              "        text-align: right;\n",
              "    }\n",
              "</style>\n",
              "<table border=\"1\" class=\"dataframe\">\n",
              "  <thead>\n",
              "    <tr style=\"text-align: right;\">\n",
              "      <th></th>\n",
              "      <th>Order_ID</th>\n",
              "    </tr>\n",
              "  </thead>\n",
              "  <tbody>\n",
              "    <tr>\n",
              "      <th>0</th>\n",
              "      <td>None</td>\n",
              "    </tr>\n",
              "    <tr>\n",
              "      <th>1</th>\n",
              "      <td>050103-00172</td>\n",
              "    </tr>\n",
              "    <tr>\n",
              "      <th>2</th>\n",
              "      <td>050103-74209</td>\n",
              "    </tr>\n",
              "    <tr>\n",
              "      <th>3</th>\n",
              "      <td>050112-15188</td>\n",
              "    </tr>\n",
              "    <tr>\n",
              "      <th>4</th>\n",
              "      <td>050118-10481</td>\n",
              "    </tr>\n",
              "    <tr>\n",
              "      <th>...</th>\n",
              "      <td>...</td>\n",
              "    </tr>\n",
              "    <tr>\n",
              "      <th>433</th>\n",
              "      <td>141104-75215</td>\n",
              "    </tr>\n",
              "    <tr>\n",
              "      <th>434</th>\n",
              "      <td>141117-38908</td>\n",
              "    </tr>\n",
              "    <tr>\n",
              "      <th>435</th>\n",
              "      <td>141124-40931</td>\n",
              "    </tr>\n",
              "    <tr>\n",
              "      <th>436</th>\n",
              "      <td>141126-03935</td>\n",
              "    </tr>\n",
              "    <tr>\n",
              "      <th>437</th>\n",
              "      <td>141215-64971</td>\n",
              "    </tr>\n",
              "  </tbody>\n",
              "</table>\n",
              "<p>438 rows × 1 columns</p>\n",
              "</div>"
            ],
            "text/plain": [
              "         Order_ID\n",
              "0            None\n",
              "1    050103-00172\n",
              "2    050103-74209\n",
              "3    050112-15188\n",
              "4    050118-10481\n",
              "..            ...\n",
              "433  141104-75215\n",
              "434  141117-38908\n",
              "435  141124-40931\n",
              "436  141126-03935\n",
              "437  141215-64971\n",
              "\n",
              "[438 rows x 1 columns]"
            ]
          },
          "metadata": {
            "tags": []
          },
          "execution_count": 58
        }
      ]
    },
    {
      "cell_type": "code",
      "metadata": {
        "id": "m__D1WQutOVf",
        "colab_type": "code",
        "outputId": "35dc423c-2ff5-46d5-dbb2-70e30afde908",
        "colab": {
          "base_uri": "https://localhost:8080/",
          "height": 394
        }
      },
      "source": [
        "df2.head()"
      ],
      "execution_count": 59,
      "outputs": [
        {
          "output_type": "execute_result",
          "data": {
            "text/html": [
              "<div>\n",
              "<style scoped>\n",
              "    .dataframe tbody tr th:only-of-type {\n",
              "        vertical-align: middle;\n",
              "    }\n",
              "\n",
              "    .dataframe tbody tr th {\n",
              "        vertical-align: top;\n",
              "    }\n",
              "\n",
              "    .dataframe thead th {\n",
              "        text-align: right;\n",
              "    }\n",
              "</style>\n",
              "<table border=\"1\" class=\"dataframe\">\n",
              "  <thead>\n",
              "    <tr style=\"text-align: right;\">\n",
              "      <th></th>\n",
              "      <th>Provider_Org</th>\n",
              "      <th>Member_ID</th>\n",
              "      <th>Date_Collected</th>\n",
              "      <th>Test_ID</th>\n",
              "      <th>Test_Name</th>\n",
              "      <th>Result_LOINC</th>\n",
              "      <th>Result_Name</th>\n",
              "      <th>Result_Description</th>\n",
              "      <th>Order_ID</th>\n",
              "      <th>Provider_ID</th>\n",
              "      <th>Encounter_ID</th>\n",
              "      <th>Result</th>\n",
              "    </tr>\n",
              "  </thead>\n",
              "  <tbody>\n",
              "    <tr>\n",
              "      <th>0</th>\n",
              "      <td>ExactData Medical Health System</td>\n",
              "      <td>568001602-01</td>\n",
              "      <td>2005-07-05T15:54:00Z</td>\n",
              "      <td>050705 CH 76296541</td>\n",
              "      <td>Cholesterol</td>\n",
              "      <td>2093-3</td>\n",
              "      <td>Cholesterol</td>\n",
              "      <td>Cholesterol=250 mg/dL</td>\n",
              "      <td>050630-30199</td>\n",
              "      <td>695700114</td>\n",
              "      <td>X3228783097331248888</td>\n",
              "      <td>250mg/dL</td>\n",
              "    </tr>\n",
              "    <tr>\n",
              "      <th>1</th>\n",
              "      <td>ExactData Medical Health System</td>\n",
              "      <td>568001602-01</td>\n",
              "      <td>2005-10-07T16:15:00Z</td>\n",
              "      <td>051007 CH 47988013</td>\n",
              "      <td>HPV I/H Risk DNA Probe</td>\n",
              "      <td>21440-3</td>\n",
              "      <td>HPV test</td>\n",
              "      <td>negative for HPV 16 &amp; 18</td>\n",
              "      <td>NaN</td>\n",
              "      <td>663746638</td>\n",
              "      <td>M3204724885018391695</td>\n",
              "      <td>NaN</td>\n",
              "    </tr>\n",
              "    <tr>\n",
              "      <th>2</th>\n",
              "      <td>ExactData Medical Health System</td>\n",
              "      <td>568001602-01</td>\n",
              "      <td>2005-10-07T16:15:00Z</td>\n",
              "      <td>051007 CH 04421087</td>\n",
              "      <td>Visual Acuity Study</td>\n",
              "      <td>28631-0</td>\n",
              "      <td>acuity</td>\n",
              "      <td>right eye 20/20, left eye 20/20</td>\n",
              "      <td>NaN</td>\n",
              "      <td>663746638</td>\n",
              "      <td>M3204724885018391695</td>\n",
              "      <td>NaN</td>\n",
              "    </tr>\n",
              "    <tr>\n",
              "      <th>3</th>\n",
              "      <td>ExactData Medical Health System</td>\n",
              "      <td>568001602-01</td>\n",
              "      <td>2005-10-12T21:33:00Z</td>\n",
              "      <td>051012 CH 48885833</td>\n",
              "      <td>Lipid Profile</td>\n",
              "      <td>2093-3</td>\n",
              "      <td>Total cholesterol</td>\n",
              "      <td>Total cholesterol = 180mg/dL</td>\n",
              "      <td>051007-54352</td>\n",
              "      <td>695700114</td>\n",
              "      <td>G7012345417035113309</td>\n",
              "      <td>180mg/dL</td>\n",
              "    </tr>\n",
              "    <tr>\n",
              "      <th>4</th>\n",
              "      <td>ExactData Medical Health System</td>\n",
              "      <td>568001602-01</td>\n",
              "      <td>2005-10-12T21:33:00Z</td>\n",
              "      <td>051012 CH 48885833</td>\n",
              "      <td>Lipid Profile</td>\n",
              "      <td>13457-7</td>\n",
              "      <td>LDL</td>\n",
              "      <td>LDL = 120mg/dL</td>\n",
              "      <td>051007-54352</td>\n",
              "      <td>695700114</td>\n",
              "      <td>G7012345417035113309</td>\n",
              "      <td>120mg/dL</td>\n",
              "    </tr>\n",
              "  </tbody>\n",
              "</table>\n",
              "</div>"
            ],
            "text/plain": [
              "                      Provider_Org  ...    Result\n",
              "0  ExactData Medical Health System  ...  250mg/dL\n",
              "1  ExactData Medical Health System  ...       NaN\n",
              "2  ExactData Medical Health System  ...       NaN\n",
              "3  ExactData Medical Health System  ...  180mg/dL\n",
              "4  ExactData Medical Health System  ...  120mg/dL\n",
              "\n",
              "[5 rows x 12 columns]"
            ]
          },
          "metadata": {
            "tags": []
          },
          "execution_count": 59
        }
      ]
    },
    {
      "cell_type": "code",
      "metadata": {
        "id": "9ekGS9UGtOVk",
        "colab_type": "code",
        "outputId": "375725a7-a656-4df8-abaf-9833c31d0e08",
        "colab": {
          "base_uri": "https://localhost:8080/",
          "height": 329
        }
      },
      "source": [
        "query2 = ps.sqldf(\"\"\"select * from df2 \n",
        "where order_id='050103-00172'\"\"\")\n",
        "query2\n"
      ],
      "execution_count": 60,
      "outputs": [
        {
          "output_type": "execute_result",
          "data": {
            "text/html": [
              "<div>\n",
              "<style scoped>\n",
              "    .dataframe tbody tr th:only-of-type {\n",
              "        vertical-align: middle;\n",
              "    }\n",
              "\n",
              "    .dataframe tbody tr th {\n",
              "        vertical-align: top;\n",
              "    }\n",
              "\n",
              "    .dataframe thead th {\n",
              "        text-align: right;\n",
              "    }\n",
              "</style>\n",
              "<table border=\"1\" class=\"dataframe\">\n",
              "  <thead>\n",
              "    <tr style=\"text-align: right;\">\n",
              "      <th></th>\n",
              "      <th>Provider_Org</th>\n",
              "      <th>Member_ID</th>\n",
              "      <th>Date_Collected</th>\n",
              "      <th>Test_ID</th>\n",
              "      <th>Test_Name</th>\n",
              "      <th>Result_LOINC</th>\n",
              "      <th>Result_Name</th>\n",
              "      <th>Result_Description</th>\n",
              "      <th>Order_ID</th>\n",
              "      <th>Provider_ID</th>\n",
              "      <th>Encounter_ID</th>\n",
              "      <th>Result</th>\n",
              "    </tr>\n",
              "  </thead>\n",
              "  <tbody>\n",
              "    <tr>\n",
              "      <th>0</th>\n",
              "      <td>ExactData Medical Health System</td>\n",
              "      <td>207700000-01</td>\n",
              "      <td>2005-01-10T16:15:00Z</td>\n",
              "      <td>050110 CH 97449190</td>\n",
              "      <td>Lipid Profile</td>\n",
              "      <td>2093-3</td>\n",
              "      <td>Total cholesterol</td>\n",
              "      <td>Total cholesterol = 180mg/dL</td>\n",
              "      <td>050103-00172</td>\n",
              "      <td>212943821</td>\n",
              "      <td>Z1020193225364341781</td>\n",
              "      <td>180mg/dL</td>\n",
              "    </tr>\n",
              "    <tr>\n",
              "      <th>1</th>\n",
              "      <td>ExactData Medical Health System</td>\n",
              "      <td>207700000-01</td>\n",
              "      <td>2005-01-10T16:15:00Z</td>\n",
              "      <td>050110 CH 97449190</td>\n",
              "      <td>Lipid Profile</td>\n",
              "      <td>13457-7</td>\n",
              "      <td>LDL</td>\n",
              "      <td>LDL = 120mg/dL</td>\n",
              "      <td>050103-00172</td>\n",
              "      <td>212943821</td>\n",
              "      <td>Z1020193225364341781</td>\n",
              "      <td>120mg/dL</td>\n",
              "    </tr>\n",
              "    <tr>\n",
              "      <th>2</th>\n",
              "      <td>ExactData Medical Health System</td>\n",
              "      <td>207700000-01</td>\n",
              "      <td>2005-01-10T16:15:00Z</td>\n",
              "      <td>050110 CH 97449190</td>\n",
              "      <td>Lipid Profile</td>\n",
              "      <td>2085-9</td>\n",
              "      <td>HDL</td>\n",
              "      <td>HDL = 45mg/dL</td>\n",
              "      <td>050103-00172</td>\n",
              "      <td>212943821</td>\n",
              "      <td>Z1020193225364341781</td>\n",
              "      <td>45mg/dL</td>\n",
              "    </tr>\n",
              "    <tr>\n",
              "      <th>3</th>\n",
              "      <td>ExactData Medical Health System</td>\n",
              "      <td>207700000-01</td>\n",
              "      <td>2005-01-10T16:15:00Z</td>\n",
              "      <td>050110 CH 97449190</td>\n",
              "      <td>Lipid Profile</td>\n",
              "      <td>2571-8</td>\n",
              "      <td>Triglyceride</td>\n",
              "      <td>Triglyceride = 130mg/dL</td>\n",
              "      <td>050103-00172</td>\n",
              "      <td>212943821</td>\n",
              "      <td>Z1020193225364341781</td>\n",
              "      <td>130mg/dL</td>\n",
              "    </tr>\n",
              "  </tbody>\n",
              "</table>\n",
              "</div>"
            ],
            "text/plain": [
              "                      Provider_Org  ...    Result\n",
              "0  ExactData Medical Health System  ...  180mg/dL\n",
              "1  ExactData Medical Health System  ...  120mg/dL\n",
              "2  ExactData Medical Health System  ...   45mg/dL\n",
              "3  ExactData Medical Health System  ...  130mg/dL\n",
              "\n",
              "[4 rows x 12 columns]"
            ]
          },
          "metadata": {
            "tags": []
          },
          "execution_count": 60
        }
      ]
    },
    {
      "cell_type": "code",
      "metadata": {
        "id": "2eMHRDUFjr9c",
        "colab_type": "code",
        "colab": {
          "base_uri": "https://localhost:8080/",
          "height": 419
        },
        "outputId": "cdf2350f-a19f-4094-9fed-770d31ba6f27"
      },
      "source": [
        "query3 = ps.sqldf(\"\"\"select order_id, Result_LOINC,count(*) as cnt from df2 group by order_id, Result_LOINC order by cnt desc\"\"\")\n",
        "query3"
      ],
      "execution_count": 61,
      "outputs": [
        {
          "output_type": "execute_result",
          "data": {
            "text/html": [
              "<div>\n",
              "<style scoped>\n",
              "    .dataframe tbody tr th:only-of-type {\n",
              "        vertical-align: middle;\n",
              "    }\n",
              "\n",
              "    .dataframe tbody tr th {\n",
              "        vertical-align: top;\n",
              "    }\n",
              "\n",
              "    .dataframe thead th {\n",
              "        text-align: right;\n",
              "    }\n",
              "</style>\n",
              "<table border=\"1\" class=\"dataframe\">\n",
              "  <thead>\n",
              "    <tr style=\"text-align: right;\">\n",
              "      <th></th>\n",
              "      <th>Order_ID</th>\n",
              "      <th>Result_LOINC</th>\n",
              "      <th>cnt</th>\n",
              "    </tr>\n",
              "  </thead>\n",
              "  <tbody>\n",
              "    <tr>\n",
              "      <th>0</th>\n",
              "      <td>None</td>\n",
              "      <td>28631-0</td>\n",
              "      <td>535</td>\n",
              "    </tr>\n",
              "    <tr>\n",
              "      <th>1</th>\n",
              "      <td>None</td>\n",
              "      <td>32422-8</td>\n",
              "      <td>235</td>\n",
              "    </tr>\n",
              "    <tr>\n",
              "      <th>2</th>\n",
              "      <td>None</td>\n",
              "      <td>11402-5</td>\n",
              "      <td>220</td>\n",
              "    </tr>\n",
              "    <tr>\n",
              "      <th>3</th>\n",
              "      <td>None</td>\n",
              "      <td>28615-3</td>\n",
              "      <td>154</td>\n",
              "    </tr>\n",
              "    <tr>\n",
              "      <th>4</th>\n",
              "      <td>None</td>\n",
              "      <td>10204-6</td>\n",
              "      <td>124</td>\n",
              "    </tr>\n",
              "    <tr>\n",
              "      <th>...</th>\n",
              "      <td>...</td>\n",
              "      <td>...</td>\n",
              "      <td>...</td>\n",
              "    </tr>\n",
              "    <tr>\n",
              "      <th>6013</th>\n",
              "      <td>141218-89931</td>\n",
              "      <td>10206-1</td>\n",
              "      <td>1</td>\n",
              "    </tr>\n",
              "    <tr>\n",
              "      <th>6014</th>\n",
              "      <td>141219-12162</td>\n",
              "      <td>24693-4</td>\n",
              "      <td>1</td>\n",
              "    </tr>\n",
              "    <tr>\n",
              "      <th>6015</th>\n",
              "      <td>141219-19595</td>\n",
              "      <td>2093-3</td>\n",
              "      <td>1</td>\n",
              "    </tr>\n",
              "    <tr>\n",
              "      <th>6016</th>\n",
              "      <td>141219-31157</td>\n",
              "      <td>2345-7</td>\n",
              "      <td>1</td>\n",
              "    </tr>\n",
              "    <tr>\n",
              "      <th>6017</th>\n",
              "      <td>141221-58441</td>\n",
              "      <td>17856-6</td>\n",
              "      <td>1</td>\n",
              "    </tr>\n",
              "  </tbody>\n",
              "</table>\n",
              "<p>6018 rows × 3 columns</p>\n",
              "</div>"
            ],
            "text/plain": [
              "          Order_ID Result_LOINC  cnt\n",
              "0             None      28631-0  535\n",
              "1             None      32422-8  235\n",
              "2             None      11402-5  220\n",
              "3             None      28615-3  154\n",
              "4             None      10204-6  124\n",
              "...            ...          ...  ...\n",
              "6013  141218-89931      10206-1    1\n",
              "6014  141219-12162      24693-4    1\n",
              "6015  141219-19595       2093-3    1\n",
              "6016  141219-31157       2345-7    1\n",
              "6017  141221-58441      17856-6    1\n",
              "\n",
              "[6018 rows x 3 columns]"
            ]
          },
          "metadata": {
            "tags": []
          },
          "execution_count": 61
        }
      ]
    },
    {
      "cell_type": "code",
      "metadata": {
        "id": "VaIxKIIQjvHt",
        "colab_type": "code",
        "colab": {}
      },
      "source": [
        "data = ps.sqldf(\"\"\"select query.*,\n",
        "df2.Test_Name,\n",
        "df2.Result_LOINC,\n",
        "df2.Result_Name\n",
        "from query \n",
        "left join df2\n",
        "on query.Encounter_ID=df2.Encounter_ID\"\"\")"
      ],
      "execution_count": 0,
      "outputs": []
    },
    {
      "cell_type": "code",
      "metadata": {
        "id": "U0bzR7qbknKu",
        "colab_type": "code",
        "colab": {
          "base_uri": "https://localhost:8080/",
          "height": 915
        },
        "outputId": "4f6796f9-8ce9-4e56-fda2-ecb49fcfbe12"
      },
      "source": [
        "data"
      ],
      "execution_count": 63,
      "outputs": [
        {
          "output_type": "execute_result",
          "data": {
            "text/html": [
              "<div>\n",
              "<style scoped>\n",
              "    .dataframe tbody tr th:only-of-type {\n",
              "        vertical-align: middle;\n",
              "    }\n",
              "\n",
              "    .dataframe tbody tr th {\n",
              "        vertical-align: top;\n",
              "    }\n",
              "\n",
              "    .dataframe thead th {\n",
              "        text-align: right;\n",
              "    }\n",
              "</style>\n",
              "<table border=\"1\" class=\"dataframe\">\n",
              "  <thead>\n",
              "    <tr style=\"text-align: right;\">\n",
              "      <th></th>\n",
              "      <th>Provider_Org</th>\n",
              "      <th>Order_ID</th>\n",
              "      <th>Member_ID</th>\n",
              "      <th>Prescription</th>\n",
              "      <th>Dispense_Date</th>\n",
              "      <th>Drug_Name</th>\n",
              "      <th>Drug_NDC</th>\n",
              "      <th>Sig</th>\n",
              "      <th>Dispense_Qty</th>\n",
              "      <th>Dose</th>\n",
              "      <th>Days_Of_Supply</th>\n",
              "      <th>Encounter_ID</th>\n",
              "      <th>description</th>\n",
              "      <th>severity</th>\n",
              "      <th>Test_Name</th>\n",
              "      <th>Result_LOINC</th>\n",
              "      <th>Result_Name</th>\n",
              "    </tr>\n",
              "  </thead>\n",
              "  <tbody>\n",
              "    <tr>\n",
              "      <th>0</th>\n",
              "      <td>ExactData Medical Health System</td>\n",
              "      <td>050630-23852</td>\n",
              "      <td>568001602-01</td>\n",
              "      <td>RX80452720</td>\n",
              "      <td>2005-07-02 00:00:00.000000</td>\n",
              "      <td>Hydrochlorothiazide</td>\n",
              "      <td>0172-2089-80</td>\n",
              "      <td>po qd</td>\n",
              "      <td>90</td>\n",
              "      <td>50mg</td>\n",
              "      <td>90</td>\n",
              "      <td>V3046573432409333612</td>\n",
              "      <td>None</td>\n",
              "      <td>None</td>\n",
              "      <td>None</td>\n",
              "      <td>None</td>\n",
              "      <td>None</td>\n",
              "    </tr>\n",
              "    <tr>\n",
              "      <th>1</th>\n",
              "      <td>ExactData Medical Health System</td>\n",
              "      <td>050312-01255</td>\n",
              "      <td>937650000-01</td>\n",
              "      <td>RX66597665</td>\n",
              "      <td>2005-03-12 00:00:00.000000</td>\n",
              "      <td>OMS 50</td>\n",
              "      <td>65689-001-21</td>\n",
              "      <td>via nasal cannula (contin)</td>\n",
              "      <td>4320</td>\n",
              "      <td>6h</td>\n",
              "      <td>1</td>\n",
              "      <td>C2819614934032019919</td>\n",
              "      <td>Chronic Obstructive Pulmonary Disease</td>\n",
              "      <td>critical</td>\n",
              "      <td>Arterial Blood Gas</td>\n",
              "      <td>2019-8</td>\n",
              "      <td>PaCO2</td>\n",
              "    </tr>\n",
              "    <tr>\n",
              "      <th>2</th>\n",
              "      <td>ExactData Medical Health System</td>\n",
              "      <td>050312-01255</td>\n",
              "      <td>937650000-01</td>\n",
              "      <td>RX66597665</td>\n",
              "      <td>2005-03-12 00:00:00.000000</td>\n",
              "      <td>OMS 50</td>\n",
              "      <td>65689-001-21</td>\n",
              "      <td>via nasal cannula (contin)</td>\n",
              "      <td>4320</td>\n",
              "      <td>6h</td>\n",
              "      <td>1</td>\n",
              "      <td>C2819614934032019919</td>\n",
              "      <td>Chronic Obstructive Pulmonary Disease</td>\n",
              "      <td>critical</td>\n",
              "      <td>Arterial Blood Gas</td>\n",
              "      <td>2703-7</td>\n",
              "      <td>PaO2</td>\n",
              "    </tr>\n",
              "    <tr>\n",
              "      <th>3</th>\n",
              "      <td>ExactData Medical Health System</td>\n",
              "      <td>050312-01255</td>\n",
              "      <td>937650000-01</td>\n",
              "      <td>RX66597665</td>\n",
              "      <td>2005-03-12 00:00:00.000000</td>\n",
              "      <td>OMS 50</td>\n",
              "      <td>65689-001-21</td>\n",
              "      <td>via nasal cannula (contin)</td>\n",
              "      <td>4320</td>\n",
              "      <td>6h</td>\n",
              "      <td>1</td>\n",
              "      <td>C2819614934032019919</td>\n",
              "      <td>Chronic Obstructive Pulmonary Disease</td>\n",
              "      <td>critical</td>\n",
              "      <td>FEV1</td>\n",
              "      <td>19945-5</td>\n",
              "      <td>FEV1</td>\n",
              "    </tr>\n",
              "    <tr>\n",
              "      <th>4</th>\n",
              "      <td>ExactData Medical Health System</td>\n",
              "      <td>050312-01255</td>\n",
              "      <td>937650000-01</td>\n",
              "      <td>RX66597665</td>\n",
              "      <td>2005-03-12 00:00:00.000000</td>\n",
              "      <td>OMS 50</td>\n",
              "      <td>65689-001-21</td>\n",
              "      <td>via nasal cannula (contin)</td>\n",
              "      <td>4320</td>\n",
              "      <td>6h</td>\n",
              "      <td>1</td>\n",
              "      <td>C2819614934032019919</td>\n",
              "      <td>Chronic Obstructive Pulmonary Disease</td>\n",
              "      <td>critical</td>\n",
              "      <td>FEV1/FVC</td>\n",
              "      <td>19926-5</td>\n",
              "      <td>FEV1/FVC</td>\n",
              "    </tr>\n",
              "    <tr>\n",
              "      <th>...</th>\n",
              "      <td>...</td>\n",
              "      <td>...</td>\n",
              "      <td>...</td>\n",
              "      <td>...</td>\n",
              "      <td>...</td>\n",
              "      <td>...</td>\n",
              "      <td>...</td>\n",
              "      <td>...</td>\n",
              "      <td>...</td>\n",
              "      <td>...</td>\n",
              "      <td>...</td>\n",
              "      <td>...</td>\n",
              "      <td>...</td>\n",
              "      <td>...</td>\n",
              "      <td>...</td>\n",
              "      <td>...</td>\n",
              "      <td>...</td>\n",
              "    </tr>\n",
              "    <tr>\n",
              "      <th>1600</th>\n",
              "      <td>ExactData Medical Health System</td>\n",
              "      <td>141219-31653</td>\n",
              "      <td>000171598-01</td>\n",
              "      <td>RX65498494</td>\n",
              "      <td>2014-12-23 00:00:00.000000</td>\n",
              "      <td>Lisinopril</td>\n",
              "      <td>0143-1268-10</td>\n",
              "      <td>20 MG PO DAILY</td>\n",
              "      <td>30</td>\n",
              "      <td>20mg</td>\n",
              "      <td>30</td>\n",
              "      <td>W0813803508077722810</td>\n",
              "      <td>None</td>\n",
              "      <td>None</td>\n",
              "      <td>None</td>\n",
              "      <td>None</td>\n",
              "      <td>None</td>\n",
              "    </tr>\n",
              "    <tr>\n",
              "      <th>1601</th>\n",
              "      <td>ExactData Medical Health System</td>\n",
              "      <td>140303-38297</td>\n",
              "      <td>000171598-02</td>\n",
              "      <td>RX16125958</td>\n",
              "      <td>2014-03-05 00:00:00.000000</td>\n",
              "      <td>oxycontin 10</td>\n",
              "      <td>35356-785-90</td>\n",
              "      <td>PO q 4 hours prn pain</td>\n",
              "      <td>90</td>\n",
              "      <td>11</td>\n",
              "      <td>30</td>\n",
              "      <td>C3383663836433578200</td>\n",
              "      <td>None</td>\n",
              "      <td>None</td>\n",
              "      <td>None</td>\n",
              "      <td>None</td>\n",
              "      <td>None</td>\n",
              "    </tr>\n",
              "    <tr>\n",
              "      <th>1602</th>\n",
              "      <td>ExactData Medical Health System</td>\n",
              "      <td>140318-98860</td>\n",
              "      <td>852001866-01</td>\n",
              "      <td>RX36058301</td>\n",
              "      <td>2014-03-21 00:00:00.000000</td>\n",
              "      <td>Isotonic Saline (0.9%)</td>\n",
              "      <td>0264-4001-55</td>\n",
              "      <td>per dose</td>\n",
              "      <td>750</td>\n",
              "      <td>10mL/kg</td>\n",
              "      <td>1</td>\n",
              "      <td>F1965887923552481811</td>\n",
              "      <td>None</td>\n",
              "      <td>None</td>\n",
              "      <td>None</td>\n",
              "      <td>None</td>\n",
              "      <td>None</td>\n",
              "    </tr>\n",
              "    <tr>\n",
              "      <th>1603</th>\n",
              "      <td>ExactData Medical Health System</td>\n",
              "      <td>140303-90178</td>\n",
              "      <td>666987316-01</td>\n",
              "      <td>RX49597452</td>\n",
              "      <td>2014-03-03 00:00:00.000000</td>\n",
              "      <td>glimepiride</td>\n",
              "      <td>0093-7256-01</td>\n",
              "      <td>daily</td>\n",
              "      <td>30</td>\n",
              "      <td>4mg</td>\n",
              "      <td>30</td>\n",
              "      <td>R1010180008977934530</td>\n",
              "      <td>Type 2 Diabetes</td>\n",
              "      <td>severe</td>\n",
              "      <td>HbA1c</td>\n",
              "      <td>17856-6</td>\n",
              "      <td>HbA1c</td>\n",
              "    </tr>\n",
              "    <tr>\n",
              "      <th>1604</th>\n",
              "      <td>ExactData Medical Health System</td>\n",
              "      <td>141124-53578</td>\n",
              "      <td>666987316-01</td>\n",
              "      <td>RX99181874</td>\n",
              "      <td>2014-11-27 00:00:00.000000</td>\n",
              "      <td>Cefadroxil</td>\n",
              "      <td>00536703001</td>\n",
              "      <td>500 MG PO Q 12 HOURS X 10 DAYS</td>\n",
              "      <td>200 ML</td>\n",
              "      <td>250mg/mL</td>\n",
              "      <td>10</td>\n",
              "      <td>Q3024475568598304332</td>\n",
              "      <td>None</td>\n",
              "      <td>None</td>\n",
              "      <td>None</td>\n",
              "      <td>None</td>\n",
              "      <td>None</td>\n",
              "    </tr>\n",
              "  </tbody>\n",
              "</table>\n",
              "<p>1605 rows × 17 columns</p>\n",
              "</div>"
            ],
            "text/plain": [
              "                         Provider_Org      Order_ID  ... Result_LOINC Result_Name\n",
              "0     ExactData Medical Health System  050630-23852  ...         None        None\n",
              "1     ExactData Medical Health System  050312-01255  ...       2019-8       PaCO2\n",
              "2     ExactData Medical Health System  050312-01255  ...       2703-7        PaO2\n",
              "3     ExactData Medical Health System  050312-01255  ...      19945-5        FEV1\n",
              "4     ExactData Medical Health System  050312-01255  ...      19926-5    FEV1/FVC\n",
              "...                               ...           ...  ...          ...         ...\n",
              "1600  ExactData Medical Health System  141219-31653  ...         None        None\n",
              "1601  ExactData Medical Health System  140303-38297  ...         None        None\n",
              "1602  ExactData Medical Health System  140318-98860  ...         None        None\n",
              "1603  ExactData Medical Health System  140303-90178  ...      17856-6       HbA1c\n",
              "1604  ExactData Medical Health System  141124-53578  ...         None        None\n",
              "\n",
              "[1605 rows x 17 columns]"
            ]
          },
          "metadata": {
            "tags": []
          },
          "execution_count": 63
        }
      ]
    },
    {
      "cell_type": "code",
      "metadata": {
        "id": "9hpGuBhVtOV8",
        "colab_type": "code",
        "outputId": "7cb285bf-d984-4225-fd51-3180853d5dd1",
        "colab": {
          "base_uri": "https://localhost:8080/",
          "height": 428
        }
      },
      "source": [
        "df4.head()"
      ],
      "execution_count": 64,
      "outputs": [
        {
          "output_type": "execute_result",
          "data": {
            "text/html": [
              "<div>\n",
              "<style scoped>\n",
              "    .dataframe tbody tr th:only-of-type {\n",
              "        vertical-align: middle;\n",
              "    }\n",
              "\n",
              "    .dataframe tbody tr th {\n",
              "        vertical-align: top;\n",
              "    }\n",
              "\n",
              "    .dataframe thead th {\n",
              "        text-align: right;\n",
              "    }\n",
              "</style>\n",
              "<table border=\"1\" class=\"dataframe\">\n",
              "  <thead>\n",
              "    <tr style=\"text-align: right;\">\n",
              "      <th></th>\n",
              "      <th>Provider_Org</th>\n",
              "      <th>Encounter_ID</th>\n",
              "      <th>Member_ID</th>\n",
              "      <th>Provider_ID</th>\n",
              "      <th>Provider_NPI</th>\n",
              "      <th>Encounter_Date</th>\n",
              "      <th>Encounter_Description</th>\n",
              "      <th>CC</th>\n",
              "      <th>Episode_ID</th>\n",
              "      <th>Age</th>\n",
              "      <th>Patient_Gender</th>\n",
              "      <th>Specialty</th>\n",
              "      <th>Clinic_Type</th>\n",
              "      <th>lab_orders_count</th>\n",
              "      <th>lab_results_count</th>\n",
              "      <th>medication_orders_count</th>\n",
              "      <th>medication_fulfillment_count</th>\n",
              "      <th>vital_sign_count</th>\n",
              "      <th>therapy_orders_count</th>\n",
              "      <th>therapy_actions_count</th>\n",
              "      <th>immunization_count</th>\n",
              "      <th>SOAP_Note</th>\n",
              "      <th>consult_ordered</th>\n",
              "      <th>Disposition</th>\n",
              "    </tr>\n",
              "  </thead>\n",
              "  <tbody>\n",
              "    <tr>\n",
              "      <th>0</th>\n",
              "      <td>ExactData Medical Health System</td>\n",
              "      <td>L8694502508698944760</td>\n",
              "      <td>568001602-01</td>\n",
              "      <td>663746638</td>\n",
              "      <td>2531462832</td>\n",
              "      <td>30 Jun 2005</td>\n",
              "      <td>Lacy visited primary care physician on 6/30/20...</td>\n",
              "      <td>mild occasional lightheadedness</td>\n",
              "      <td>L8694502508698944760</td>\n",
              "      <td>33.0</td>\n",
              "      <td>female</td>\n",
              "      <td>FAMILY PRACTICE/PRIMARY CARE</td>\n",
              "      <td>outpatient_medical</td>\n",
              "      <td>1</td>\n",
              "      <td>0</td>\n",
              "      <td>1</td>\n",
              "      <td>0</td>\n",
              "      <td>7</td>\n",
              "      <td>0</td>\n",
              "      <td>1</td>\n",
              "      <td>0</td>\n",
              "      <td>s:a 33 year old female crystallographer presen...</td>\n",
              "      <td>NaN</td>\n",
              "      <td>ReleasedWithoutLimitations</td>\n",
              "    </tr>\n",
              "    <tr>\n",
              "      <th>1</th>\n",
              "      <td>ExactData Medical Health System</td>\n",
              "      <td>V3046573432409333612</td>\n",
              "      <td>568001602-01</td>\n",
              "      <td>523808810</td>\n",
              "      <td>1380097962</td>\n",
              "      <td>1 Jul 2005</td>\n",
              "      <td>Lacy visited pharmacy on 7/1/2005 6:44:00 PM f...</td>\n",
              "      <td>NaN</td>\n",
              "      <td>L8694502508698944760</td>\n",
              "      <td>33.0</td>\n",
              "      <td>female</td>\n",
              "      <td>NaN</td>\n",
              "      <td>pharmacy</td>\n",
              "      <td>0</td>\n",
              "      <td>0</td>\n",
              "      <td>0</td>\n",
              "      <td>1</td>\n",
              "      <td>0</td>\n",
              "      <td>0</td>\n",
              "      <td>0</td>\n",
              "      <td>0</td>\n",
              "      <td>NaN</td>\n",
              "      <td>NaN</td>\n",
              "      <td>ReleasedWithoutLimitations</td>\n",
              "    </tr>\n",
              "    <tr>\n",
              "      <th>2</th>\n",
              "      <td>ExactData Medical Health System</td>\n",
              "      <td>X3228783097331248888</td>\n",
              "      <td>568001602-01</td>\n",
              "      <td>695700114</td>\n",
              "      <td>1261075194</td>\n",
              "      <td>5 Jul 2005</td>\n",
              "      <td>Lacy visited medical lab on 7/5/2005 9:54:00 A...</td>\n",
              "      <td>NaN</td>\n",
              "      <td>L8694502508698944760</td>\n",
              "      <td>33.0</td>\n",
              "      <td>female</td>\n",
              "      <td>NaN</td>\n",
              "      <td>lab</td>\n",
              "      <td>0</td>\n",
              "      <td>1</td>\n",
              "      <td>0</td>\n",
              "      <td>0</td>\n",
              "      <td>0</td>\n",
              "      <td>0</td>\n",
              "      <td>0</td>\n",
              "      <td>0</td>\n",
              "      <td>NaN</td>\n",
              "      <td>NaN</td>\n",
              "      <td>ReleasedWithoutLimitations</td>\n",
              "    </tr>\n",
              "    <tr>\n",
              "      <th>3</th>\n",
              "      <td>ExactData Medical Health System</td>\n",
              "      <td>M3204724885018391695</td>\n",
              "      <td>568001602-01</td>\n",
              "      <td>663746638</td>\n",
              "      <td>2531462832</td>\n",
              "      <td>7 Oct 2005</td>\n",
              "      <td>Lacy visited primary care physician on 10/7/20...</td>\n",
              "      <td>NaN</td>\n",
              "      <td>M3204724885018391695</td>\n",
              "      <td>33.0</td>\n",
              "      <td>female</td>\n",
              "      <td>FAMILY PRACTICE/PRIMARY CARE</td>\n",
              "      <td>outpatient_medical</td>\n",
              "      <td>1</td>\n",
              "      <td>2</td>\n",
              "      <td>0</td>\n",
              "      <td>0</td>\n",
              "      <td>7</td>\n",
              "      <td>0</td>\n",
              "      <td>1</td>\n",
              "      <td>1</td>\n",
              "      <td>s:33 yr old female crystallographer presents t...</td>\n",
              "      <td>NaN</td>\n",
              "      <td>ReleasedWithoutLimitations</td>\n",
              "    </tr>\n",
              "    <tr>\n",
              "      <th>4</th>\n",
              "      <td>ExactData Medical Health System</td>\n",
              "      <td>G7012345417035113309</td>\n",
              "      <td>568001602-01</td>\n",
              "      <td>695700114</td>\n",
              "      <td>1261075194</td>\n",
              "      <td>12 Oct 2005</td>\n",
              "      <td>Lacy visited medical lab on 10/12/2005 3:33:00...</td>\n",
              "      <td>NaN</td>\n",
              "      <td>M3204724885018391695</td>\n",
              "      <td>33.0</td>\n",
              "      <td>female</td>\n",
              "      <td>NaN</td>\n",
              "      <td>lab</td>\n",
              "      <td>0</td>\n",
              "      <td>1</td>\n",
              "      <td>0</td>\n",
              "      <td>0</td>\n",
              "      <td>0</td>\n",
              "      <td>0</td>\n",
              "      <td>0</td>\n",
              "      <td>0</td>\n",
              "      <td>NaN</td>\n",
              "      <td>NaN</td>\n",
              "      <td>ReleasedWithoutLimitations</td>\n",
              "    </tr>\n",
              "  </tbody>\n",
              "</table>\n",
              "</div>"
            ],
            "text/plain": [
              "                      Provider_Org  ...                 Disposition\n",
              "0  ExactData Medical Health System  ...  ReleasedWithoutLimitations\n",
              "1  ExactData Medical Health System  ...  ReleasedWithoutLimitations\n",
              "2  ExactData Medical Health System  ...  ReleasedWithoutLimitations\n",
              "3  ExactData Medical Health System  ...  ReleasedWithoutLimitations\n",
              "4  ExactData Medical Health System  ...  ReleasedWithoutLimitations\n",
              "\n",
              "[5 rows x 24 columns]"
            ]
          },
          "metadata": {
            "tags": []
          },
          "execution_count": 64
        }
      ]
    },
    {
      "cell_type": "code",
      "metadata": {
        "id": "YqAH20_utOWC",
        "colab_type": "code",
        "outputId": "4fe96e4f-e21d-4005-e88c-cdc5cda6c9f4",
        "colab": {
          "base_uri": "https://localhost:8080/",
          "height": 34
        }
      },
      "source": [
        "df4['vital_sign_count'].unique()"
      ],
      "execution_count": 65,
      "outputs": [
        {
          "output_type": "execute_result",
          "data": {
            "text/plain": [
              "array([7, 0])"
            ]
          },
          "metadata": {
            "tags": []
          },
          "execution_count": 65
        }
      ]
    },
    {
      "cell_type": "code",
      "metadata": {
        "id": "uZQ4nXfetOWH",
        "colab_type": "code",
        "colab": {}
      },
      "source": [
        "merged_data = ps.sqldf(\"\"\"select data.*,\n",
        "df4.CC \n",
        "from data \n",
        "left join df4\n",
        "on data.Encounter_ID=df4.Encounter_ID\"\"\")"
      ],
      "execution_count": 0,
      "outputs": []
    },
    {
      "cell_type": "code",
      "metadata": {
        "id": "HKtqYdTitOWM",
        "colab_type": "code",
        "outputId": "c28193aa-a2bc-46ea-a234-4f7c8b83f8bd",
        "colab": {
          "base_uri": "https://localhost:8080/",
          "height": 915
        }
      },
      "source": [
        "merged_data"
      ],
      "execution_count": 67,
      "outputs": [
        {
          "output_type": "execute_result",
          "data": {
            "text/html": [
              "<div>\n",
              "<style scoped>\n",
              "    .dataframe tbody tr th:only-of-type {\n",
              "        vertical-align: middle;\n",
              "    }\n",
              "\n",
              "    .dataframe tbody tr th {\n",
              "        vertical-align: top;\n",
              "    }\n",
              "\n",
              "    .dataframe thead th {\n",
              "        text-align: right;\n",
              "    }\n",
              "</style>\n",
              "<table border=\"1\" class=\"dataframe\">\n",
              "  <thead>\n",
              "    <tr style=\"text-align: right;\">\n",
              "      <th></th>\n",
              "      <th>Provider_Org</th>\n",
              "      <th>Order_ID</th>\n",
              "      <th>Member_ID</th>\n",
              "      <th>Prescription</th>\n",
              "      <th>Dispense_Date</th>\n",
              "      <th>Drug_Name</th>\n",
              "      <th>Drug_NDC</th>\n",
              "      <th>Sig</th>\n",
              "      <th>Dispense_Qty</th>\n",
              "      <th>Dose</th>\n",
              "      <th>Days_Of_Supply</th>\n",
              "      <th>Encounter_ID</th>\n",
              "      <th>description</th>\n",
              "      <th>severity</th>\n",
              "      <th>Test_Name</th>\n",
              "      <th>Result_LOINC</th>\n",
              "      <th>Result_Name</th>\n",
              "      <th>CC</th>\n",
              "    </tr>\n",
              "  </thead>\n",
              "  <tbody>\n",
              "    <tr>\n",
              "      <th>0</th>\n",
              "      <td>ExactData Medical Health System</td>\n",
              "      <td>050630-23852</td>\n",
              "      <td>568001602-01</td>\n",
              "      <td>RX80452720</td>\n",
              "      <td>2005-07-02 00:00:00.000000</td>\n",
              "      <td>Hydrochlorothiazide</td>\n",
              "      <td>0172-2089-80</td>\n",
              "      <td>po qd</td>\n",
              "      <td>90</td>\n",
              "      <td>50mg</td>\n",
              "      <td>90</td>\n",
              "      <td>V3046573432409333612</td>\n",
              "      <td>None</td>\n",
              "      <td>None</td>\n",
              "      <td>None</td>\n",
              "      <td>None</td>\n",
              "      <td>None</td>\n",
              "      <td>None</td>\n",
              "    </tr>\n",
              "    <tr>\n",
              "      <th>1</th>\n",
              "      <td>ExactData Medical Health System</td>\n",
              "      <td>050312-01255</td>\n",
              "      <td>937650000-01</td>\n",
              "      <td>RX66597665</td>\n",
              "      <td>2005-03-12 00:00:00.000000</td>\n",
              "      <td>OMS 50</td>\n",
              "      <td>65689-001-21</td>\n",
              "      <td>via nasal cannula (contin)</td>\n",
              "      <td>4320</td>\n",
              "      <td>6h</td>\n",
              "      <td>1</td>\n",
              "      <td>C2819614934032019919</td>\n",
              "      <td>Chronic Obstructive Pulmonary Disease</td>\n",
              "      <td>critical</td>\n",
              "      <td>Arterial Blood Gas</td>\n",
              "      <td>2019-8</td>\n",
              "      <td>PaCO2</td>\n",
              "      <td>critical dyspnea</td>\n",
              "    </tr>\n",
              "    <tr>\n",
              "      <th>2</th>\n",
              "      <td>ExactData Medical Health System</td>\n",
              "      <td>050312-01255</td>\n",
              "      <td>937650000-01</td>\n",
              "      <td>RX66597665</td>\n",
              "      <td>2005-03-12 00:00:00.000000</td>\n",
              "      <td>OMS 50</td>\n",
              "      <td>65689-001-21</td>\n",
              "      <td>via nasal cannula (contin)</td>\n",
              "      <td>4320</td>\n",
              "      <td>6h</td>\n",
              "      <td>1</td>\n",
              "      <td>C2819614934032019919</td>\n",
              "      <td>Chronic Obstructive Pulmonary Disease</td>\n",
              "      <td>critical</td>\n",
              "      <td>Arterial Blood Gas</td>\n",
              "      <td>2703-7</td>\n",
              "      <td>PaO2</td>\n",
              "      <td>critical dyspnea</td>\n",
              "    </tr>\n",
              "    <tr>\n",
              "      <th>3</th>\n",
              "      <td>ExactData Medical Health System</td>\n",
              "      <td>050312-01255</td>\n",
              "      <td>937650000-01</td>\n",
              "      <td>RX66597665</td>\n",
              "      <td>2005-03-12 00:00:00.000000</td>\n",
              "      <td>OMS 50</td>\n",
              "      <td>65689-001-21</td>\n",
              "      <td>via nasal cannula (contin)</td>\n",
              "      <td>4320</td>\n",
              "      <td>6h</td>\n",
              "      <td>1</td>\n",
              "      <td>C2819614934032019919</td>\n",
              "      <td>Chronic Obstructive Pulmonary Disease</td>\n",
              "      <td>critical</td>\n",
              "      <td>FEV1</td>\n",
              "      <td>19945-5</td>\n",
              "      <td>FEV1</td>\n",
              "      <td>critical dyspnea</td>\n",
              "    </tr>\n",
              "    <tr>\n",
              "      <th>4</th>\n",
              "      <td>ExactData Medical Health System</td>\n",
              "      <td>050312-01255</td>\n",
              "      <td>937650000-01</td>\n",
              "      <td>RX66597665</td>\n",
              "      <td>2005-03-12 00:00:00.000000</td>\n",
              "      <td>OMS 50</td>\n",
              "      <td>65689-001-21</td>\n",
              "      <td>via nasal cannula (contin)</td>\n",
              "      <td>4320</td>\n",
              "      <td>6h</td>\n",
              "      <td>1</td>\n",
              "      <td>C2819614934032019919</td>\n",
              "      <td>Chronic Obstructive Pulmonary Disease</td>\n",
              "      <td>critical</td>\n",
              "      <td>FEV1/FVC</td>\n",
              "      <td>19926-5</td>\n",
              "      <td>FEV1/FVC</td>\n",
              "      <td>critical dyspnea</td>\n",
              "    </tr>\n",
              "    <tr>\n",
              "      <th>...</th>\n",
              "      <td>...</td>\n",
              "      <td>...</td>\n",
              "      <td>...</td>\n",
              "      <td>...</td>\n",
              "      <td>...</td>\n",
              "      <td>...</td>\n",
              "      <td>...</td>\n",
              "      <td>...</td>\n",
              "      <td>...</td>\n",
              "      <td>...</td>\n",
              "      <td>...</td>\n",
              "      <td>...</td>\n",
              "      <td>...</td>\n",
              "      <td>...</td>\n",
              "      <td>...</td>\n",
              "      <td>...</td>\n",
              "      <td>...</td>\n",
              "      <td>...</td>\n",
              "    </tr>\n",
              "    <tr>\n",
              "      <th>1600</th>\n",
              "      <td>ExactData Medical Health System</td>\n",
              "      <td>141219-31653</td>\n",
              "      <td>000171598-01</td>\n",
              "      <td>RX65498494</td>\n",
              "      <td>2014-12-23 00:00:00.000000</td>\n",
              "      <td>Lisinopril</td>\n",
              "      <td>0143-1268-10</td>\n",
              "      <td>20 MG PO DAILY</td>\n",
              "      <td>30</td>\n",
              "      <td>20mg</td>\n",
              "      <td>30</td>\n",
              "      <td>W0813803508077722810</td>\n",
              "      <td>None</td>\n",
              "      <td>None</td>\n",
              "      <td>None</td>\n",
              "      <td>None</td>\n",
              "      <td>None</td>\n",
              "      <td>None</td>\n",
              "    </tr>\n",
              "    <tr>\n",
              "      <th>1601</th>\n",
              "      <td>ExactData Medical Health System</td>\n",
              "      <td>140303-38297</td>\n",
              "      <td>000171598-02</td>\n",
              "      <td>RX16125958</td>\n",
              "      <td>2014-03-05 00:00:00.000000</td>\n",
              "      <td>oxycontin 10</td>\n",
              "      <td>35356-785-90</td>\n",
              "      <td>PO q 4 hours prn pain</td>\n",
              "      <td>90</td>\n",
              "      <td>11</td>\n",
              "      <td>30</td>\n",
              "      <td>C3383663836433578200</td>\n",
              "      <td>None</td>\n",
              "      <td>None</td>\n",
              "      <td>None</td>\n",
              "      <td>None</td>\n",
              "      <td>None</td>\n",
              "      <td>None</td>\n",
              "    </tr>\n",
              "    <tr>\n",
              "      <th>1602</th>\n",
              "      <td>ExactData Medical Health System</td>\n",
              "      <td>140318-98860</td>\n",
              "      <td>852001866-01</td>\n",
              "      <td>RX36058301</td>\n",
              "      <td>2014-03-21 00:00:00.000000</td>\n",
              "      <td>Isotonic Saline (0.9%)</td>\n",
              "      <td>0264-4001-55</td>\n",
              "      <td>per dose</td>\n",
              "      <td>750</td>\n",
              "      <td>10mL/kg</td>\n",
              "      <td>1</td>\n",
              "      <td>F1965887923552481811</td>\n",
              "      <td>None</td>\n",
              "      <td>None</td>\n",
              "      <td>None</td>\n",
              "      <td>None</td>\n",
              "      <td>None</td>\n",
              "      <td>None</td>\n",
              "    </tr>\n",
              "    <tr>\n",
              "      <th>1603</th>\n",
              "      <td>ExactData Medical Health System</td>\n",
              "      <td>140303-90178</td>\n",
              "      <td>666987316-01</td>\n",
              "      <td>RX49597452</td>\n",
              "      <td>2014-03-03 00:00:00.000000</td>\n",
              "      <td>glimepiride</td>\n",
              "      <td>0093-7256-01</td>\n",
              "      <td>daily</td>\n",
              "      <td>30</td>\n",
              "      <td>4mg</td>\n",
              "      <td>30</td>\n",
              "      <td>R1010180008977934530</td>\n",
              "      <td>Type 2 Diabetes</td>\n",
              "      <td>severe</td>\n",
              "      <td>HbA1c</td>\n",
              "      <td>17856-6</td>\n",
              "      <td>HbA1c</td>\n",
              "      <td>moderate urinary frequency</td>\n",
              "    </tr>\n",
              "    <tr>\n",
              "      <th>1604</th>\n",
              "      <td>ExactData Medical Health System</td>\n",
              "      <td>141124-53578</td>\n",
              "      <td>666987316-01</td>\n",
              "      <td>RX99181874</td>\n",
              "      <td>2014-11-27 00:00:00.000000</td>\n",
              "      <td>Cefadroxil</td>\n",
              "      <td>00536703001</td>\n",
              "      <td>500 MG PO Q 12 HOURS X 10 DAYS</td>\n",
              "      <td>200 ML</td>\n",
              "      <td>250mg/mL</td>\n",
              "      <td>10</td>\n",
              "      <td>Q3024475568598304332</td>\n",
              "      <td>None</td>\n",
              "      <td>None</td>\n",
              "      <td>None</td>\n",
              "      <td>None</td>\n",
              "      <td>None</td>\n",
              "      <td>None</td>\n",
              "    </tr>\n",
              "  </tbody>\n",
              "</table>\n",
              "<p>1605 rows × 18 columns</p>\n",
              "</div>"
            ],
            "text/plain": [
              "                         Provider_Org  ...                          CC\n",
              "0     ExactData Medical Health System  ...                        None\n",
              "1     ExactData Medical Health System  ...            critical dyspnea\n",
              "2     ExactData Medical Health System  ...            critical dyspnea\n",
              "3     ExactData Medical Health System  ...            critical dyspnea\n",
              "4     ExactData Medical Health System  ...            critical dyspnea\n",
              "...                               ...  ...                         ...\n",
              "1600  ExactData Medical Health System  ...                        None\n",
              "1601  ExactData Medical Health System  ...                        None\n",
              "1602  ExactData Medical Health System  ...                        None\n",
              "1603  ExactData Medical Health System  ...  moderate urinary frequency\n",
              "1604  ExactData Medical Health System  ...                        None\n",
              "\n",
              "[1605 rows x 18 columns]"
            ]
          },
          "metadata": {
            "tags": []
          },
          "execution_count": 67
        }
      ]
    },
    {
      "cell_type": "code",
      "metadata": {
        "id": "7ak1hEGhtOWY",
        "colab_type": "code",
        "outputId": "307a37c4-daaa-440e-b165-2e6ca541c6ca",
        "colab": {
          "base_uri": "https://localhost:8080/",
          "height": 119
        }
      },
      "source": [
        "merged_data['description'].unique()"
      ],
      "execution_count": 68,
      "outputs": [
        {
          "output_type": "execute_result",
          "data": {
            "text/plain": [
              "array([None, 'Chronic Obstructive Pulmonary Disease', 'Type 2 Diabetes',\n",
              "       'Type 1 Diabetes', 'Hemorrhagic Stroke', 'Acute Renal Failure',\n",
              "       'critical distress', 'critical hysteria', 'Myocardial Infarction',\n",
              "       'Hypertension', 'Embolic Stroke', 'Chronic Renal Failure',\n",
              "       'Pyelonephritis', 'critical agony',\n",
              "       'Chronic Congestive Heart Failure'], dtype=object)"
            ]
          },
          "metadata": {
            "tags": []
          },
          "execution_count": 68
        }
      ]
    },
    {
      "cell_type": "code",
      "metadata": {
        "id": "wfVWZbRCtOWc",
        "colab_type": "code",
        "outputId": "ccfdc3c9-34cb-42e5-8c08-eb7fc213757a",
        "colab": {
          "base_uri": "https://localhost:8080/",
          "height": 419
        }
      },
      "source": [
        "drugname = ps.sqldf(\"\"\"select Drug_Name, description,severity, CC, count(*) as cnt from merged_data group by Drug_Name, description order by cnt desc\"\"\")\n",
        "drugname"
      ],
      "execution_count": 69,
      "outputs": [
        {
          "output_type": "execute_result",
          "data": {
            "text/html": [
              "<div>\n",
              "<style scoped>\n",
              "    .dataframe tbody tr th:only-of-type {\n",
              "        vertical-align: middle;\n",
              "    }\n",
              "\n",
              "    .dataframe tbody tr th {\n",
              "        vertical-align: top;\n",
              "    }\n",
              "\n",
              "    .dataframe thead th {\n",
              "        text-align: right;\n",
              "    }\n",
              "</style>\n",
              "<table border=\"1\" class=\"dataframe\">\n",
              "  <thead>\n",
              "    <tr style=\"text-align: right;\">\n",
              "      <th></th>\n",
              "      <th>Drug_Name</th>\n",
              "      <th>description</th>\n",
              "      <th>severity</th>\n",
              "      <th>CC</th>\n",
              "      <th>cnt</th>\n",
              "    </tr>\n",
              "  </thead>\n",
              "  <tbody>\n",
              "    <tr>\n",
              "      <th>0</th>\n",
              "      <td>OMS 50</td>\n",
              "      <td>Chronic Obstructive Pulmonary Disease</td>\n",
              "      <td>critical</td>\n",
              "      <td>critical shortness of breath</td>\n",
              "      <td>311</td>\n",
              "    </tr>\n",
              "    <tr>\n",
              "      <th>1</th>\n",
              "      <td>Potassium Chl</td>\n",
              "      <td>Type 1 Diabetes</td>\n",
              "      <td>severe</td>\n",
              "      <td>severe increased thirst</td>\n",
              "      <td>147</td>\n",
              "    </tr>\n",
              "    <tr>\n",
              "      <th>2</th>\n",
              "      <td>Ciprofloxacin</td>\n",
              "      <td>None</td>\n",
              "      <td>None</td>\n",
              "      <td>None</td>\n",
              "      <td>105</td>\n",
              "    </tr>\n",
              "    <tr>\n",
              "      <th>3</th>\n",
              "      <td>Isotonic Saline (0.9%)</td>\n",
              "      <td>None</td>\n",
              "      <td>None</td>\n",
              "      <td>None</td>\n",
              "      <td>101</td>\n",
              "    </tr>\n",
              "    <tr>\n",
              "      <th>4</th>\n",
              "      <td>Lisinopril</td>\n",
              "      <td>None</td>\n",
              "      <td>None</td>\n",
              "      <td>None</td>\n",
              "      <td>83</td>\n",
              "    </tr>\n",
              "    <tr>\n",
              "      <th>...</th>\n",
              "      <td>...</td>\n",
              "      <td>...</td>\n",
              "      <td>...</td>\n",
              "      <td>...</td>\n",
              "      <td>...</td>\n",
              "    </tr>\n",
              "    <tr>\n",
              "      <th>76</th>\n",
              "      <td>metoprolol</td>\n",
              "      <td>Hypertension</td>\n",
              "      <td>severe</td>\n",
              "      <td>moderate difficulty walking</td>\n",
              "      <td>1</td>\n",
              "    </tr>\n",
              "    <tr>\n",
              "      <th>77</th>\n",
              "      <td>oxycodone-acetaminophen 10-325</td>\n",
              "      <td>None</td>\n",
              "      <td>None</td>\n",
              "      <td>None</td>\n",
              "      <td>1</td>\n",
              "    </tr>\n",
              "    <tr>\n",
              "      <th>78</th>\n",
              "      <td>trimethoprim</td>\n",
              "      <td>None</td>\n",
              "      <td>None</td>\n",
              "      <td>None</td>\n",
              "      <td>1</td>\n",
              "    </tr>\n",
              "    <tr>\n",
              "      <th>79</th>\n",
              "      <td>trimethoprim</td>\n",
              "      <td>Pyelonephritis</td>\n",
              "      <td>severe</td>\n",
              "      <td>Pyelonephritis</td>\n",
              "      <td>1</td>\n",
              "    </tr>\n",
              "    <tr>\n",
              "      <th>80</th>\n",
              "      <td>valsartan</td>\n",
              "      <td>Chronic Congestive Heart Failure</td>\n",
              "      <td>severe</td>\n",
              "      <td>mild palpitations</td>\n",
              "      <td>1</td>\n",
              "    </tr>\n",
              "  </tbody>\n",
              "</table>\n",
              "<p>81 rows × 5 columns</p>\n",
              "</div>"
            ],
            "text/plain": [
              "                         Drug_Name  ...  cnt\n",
              "0                           OMS 50  ...  311\n",
              "1                    Potassium Chl  ...  147\n",
              "2                    Ciprofloxacin  ...  105\n",
              "3           Isotonic Saline (0.9%)  ...  101\n",
              "4                       Lisinopril  ...   83\n",
              "..                             ...  ...  ...\n",
              "76                      metoprolol  ...    1\n",
              "77  oxycodone-acetaminophen 10-325  ...    1\n",
              "78                    trimethoprim  ...    1\n",
              "79                    trimethoprim  ...    1\n",
              "80                       valsartan  ...    1\n",
              "\n",
              "[81 rows x 5 columns]"
            ]
          },
          "metadata": {
            "tags": []
          },
          "execution_count": 69
        }
      ]
    },
    {
      "cell_type": "code",
      "metadata": {
        "id": "m5jWVo5ltOWS",
        "colab_type": "code",
        "colab": {}
      },
      "source": [
        "merged_data.to_csv(\"merged_data.csv\")"
      ],
      "execution_count": 0,
      "outputs": []
    },
    {
      "cell_type": "code",
      "metadata": {
        "id": "ugFtM-cytOWm",
        "colab_type": "code",
        "colab": {}
      },
      "source": [
        ""
      ],
      "execution_count": 0,
      "outputs": []
    }
  ]
}