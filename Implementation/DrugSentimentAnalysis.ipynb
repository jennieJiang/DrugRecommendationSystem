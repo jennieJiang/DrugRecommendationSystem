{
  "nbformat": 4,
  "nbformat_minor": 0,
  "metadata": {
    "kernelspec": {
      "display_name": "Python 3",
      "language": "python",
      "name": "python3"
    },
    "language_info": {
      "codemirror_mode": {
        "name": "ipython",
        "version": 3
      },
      "file_extension": ".py",
      "mimetype": "text/x-python",
      "name": "python",
      "nbconvert_exporter": "python",
      "pygments_lexer": "ipython3",
      "version": "3.7.4"
    },
    "colab": {
      "name": "Copy of DrugSentimentAnalysis.ipynb",
      "provenance": [],
      "include_colab_link": true
    }
  },
  "cells": [
    {
      "cell_type": "markdown",
      "metadata": {
        "id": "view-in-github",
        "colab_type": "text"
      },
      "source": [
        "<a href=\"https://colab.research.google.com/github/khushbooekhande/DrugRecommendationSystem/blob/master/DrugSentimentAnalysis.ipynb\" target=\"_parent\"><img src=\"https://colab.research.google.com/assets/colab-badge.svg\" alt=\"Open In Colab\"/></a>"
      ]
    },
    {
      "cell_type": "code",
      "metadata": {
        "id": "ysW4Lgx7M37N",
        "colab_type": "code",
        "colab": {
          "base_uri": "https://localhost:8080/",
          "height": 136
        },
        "outputId": "2e2c4bae-d53c-4171-82ea-25b97bc9cca5"
      },
      "source": [
        "!pip install pandasql"
      ],
      "execution_count": 6,
      "outputs": [
        {
          "output_type": "stream",
          "text": [
            "Requirement already satisfied: pandasql in /usr/local/lib/python3.6/dist-packages (0.7.3)\n",
            "Requirement already satisfied: numpy in /usr/local/lib/python3.6/dist-packages (from pandasql) (1.18.4)\n",
            "Requirement already satisfied: pandas in /usr/local/lib/python3.6/dist-packages (from pandasql) (1.0.3)\n",
            "Requirement already satisfied: sqlalchemy in /usr/local/lib/python3.6/dist-packages (from pandasql) (1.3.16)\n",
            "Requirement already satisfied: python-dateutil>=2.6.1 in /usr/local/lib/python3.6/dist-packages (from pandas->pandasql) (2.8.1)\n",
            "Requirement already satisfied: pytz>=2017.2 in /usr/local/lib/python3.6/dist-packages (from pandas->pandasql) (2018.9)\n",
            "Requirement already satisfied: six>=1.5 in /usr/local/lib/python3.6/dist-packages (from python-dateutil>=2.6.1->pandas->pandasql) (1.12.0)\n"
          ],
          "name": "stdout"
        }
      ]
    },
    {
      "cell_type": "code",
      "metadata": {
        "id": "dCTodUOmDqc-",
        "colab_type": "code",
        "colab": {}
      },
      "source": [
        "import warnings\n",
        "warnings.filterwarnings(\"ignore\") \n",
        "import pandas as pd \n",
        "import numpy as np\n",
        "import tensorflow as tf\n",
        "from sklearn.model_selection import train_test_split\n",
        "from sklearn.feature_extraction.text import TfidfVectorizer\n",
        "from keras.utils import to_categorical\n",
        "from tensorflow.keras import layers\n",
        "from sklearn.metrics import precision_recall_fscore_support\n",
        "import matplotlib.pyplot as plt\n",
        "import pandasql as ps"
      ],
      "execution_count": 0,
      "outputs": []
    },
    {
      "cell_type": "code",
      "metadata": {
        "id": "DUsLtKV7Dskm",
        "colab_type": "code",
        "outputId": "8fe25830-e694-4c4d-fcff-1b872cd782f0",
        "colab": {
          "base_uri": "https://localhost:8080/",
          "height": 34
        }
      },
      "source": [
        "from google.colab import drive\n",
        "drive.mount(\"/content/drive\")"
      ],
      "execution_count": 8,
      "outputs": [
        {
          "output_type": "stream",
          "text": [
            "Drive already mounted at /content/drive; to attempt to forcibly remount, call drive.mount(\"/content/drive\", force_remount=True).\n"
          ],
          "name": "stdout"
        }
      ]
    },
    {
      "cell_type": "markdown",
      "metadata": {
        "id": "C7l2-NNoDqdE",
        "colab_type": "text"
      },
      "source": [
        "1. Extract the reviews and ratings from the merged data file and make an array list of all the reviews\n",
        "2. Map the values of rating into postive and negative with threshold >7"
      ]
    },
    {
      "cell_type": "code",
      "metadata": {
        "id": "QHhVMlLMDqdF",
        "colab_type": "code",
        "colab": {}
      },
      "source": [
        "pd.set_option('display.max_columns', None)\n",
        "df = pd.read_csv(f'/content/drive/My Drive/New_Dataset/Merged_Dataset.csv')\n",
        "df = df[['Review', 'Rating', 'Drug']]\n",
        "review = list(df.Review)\n",
        "labels = np.where(df['Rating']>7, 1, 0)"
      ],
      "execution_count": 0,
      "outputs": []
    },
    {
      "cell_type": "markdown",
      "metadata": {
        "id": "TjIz_nMZDqdJ",
        "colab_type": "text"
      },
      "source": [
        "Checking the review and ratings for few "
      ]
    },
    {
      "cell_type": "code",
      "metadata": {
        "id": "r6c52tK9DqdJ",
        "colab_type": "code",
        "outputId": "0603f1e7-4530-4e43-ba6f-c63153d12223",
        "colab": {
          "base_uri": "https://localhost:8080/",
          "height": 445
        }
      },
      "source": [
        "for i in range (0, 5):\n",
        "    print(\"Review: \", review[i])\n",
        "    print(\"Label 1 for Postive and 0 for negative: \", labels[i])\n",
        "    print('\\n')"
      ],
      "execution_count": 10,
      "outputs": [
        {
          "output_type": "stream",
          "text": [
            "Review:  \"No side effects,  easy to take, no more symptoms since taking.\"\n",
            "Label 1 for Postive and 0 for negative:  1\n",
            "\n",
            "\n",
            "Review:  \"I&#039;ve been taking this medicine for a little over 6 months.\r\n",
            "I am a 66 yr. old female.  In 2014, I lost 30 pds. on purpose, so I have been feeling good, except age-related pain in my hip joints.\r\n",
            "I&#039;ve just realized recently that I&#039;m no longer feeling pain in my joints. Nothing has changed in my life except the addition of this medicine.\r\n",
            "\r\n",
            "So...I&#039;ve concluded this is a POSITIVE side effect from taking this medicine.\"\n",
            "Label 1 for Postive and 0 for negative:  1\n",
            "\n",
            "\n",
            "Review:  \"I took ibuprofen (2 caps at night for severe back pain) while taking this medicine and woke in the morning with a severe nose bleed.\"\n",
            "Label 1 for Postive and 0 for negative:  0\n",
            "\n",
            "\n",
            "Review:  \"After my VAD Stroke I am on plavix.  I have a toddler that I still nurse. I looked up plavix for several days &amp; talked to several doctors. Some said it was fine, some said it was not ok. After talking to so many people about it, I felt that it seemed ok to nurse on. I&#039;ve been on it for a month and yesterday I realized that my 2yo is constipated. We are weaning ASAP now because I don&#039;t know what else it&#039;s doing to him, but it&#039;s definitely getting through. I just wanted to post this somewhere for other nursing moms to see. We are currently only nursing 2 times a day right now.\"\n",
            "Label 1 for Postive and 0 for negative:  0\n",
            "\n",
            "\n",
            "Review:  \"No side effects,  easy to take, no more symptoms since taking.\"\n",
            "Label 1 for Postive and 0 for negative:  1\n",
            "\n",
            "\n"
          ],
          "name": "stdout"
        }
      ]
    },
    {
      "cell_type": "markdown",
      "metadata": {
        "id": "p6QpbCIPDqdM",
        "colab_type": "text"
      },
      "source": [
        "Defining a function for getting CV and tfID vectors for review analysis"
      ]
    },
    {
      "cell_type": "code",
      "metadata": {
        "id": "0iwCGiL9DqdN",
        "colab_type": "code",
        "colab": {}
      },
      "source": [
        "def _tfIDV(list_review):\n",
        "    vectorizer = TfidfVectorizer()\n",
        "    X = vectorizer.fit_transform(list_review)\n",
        "    X = X.toarray()\n",
        "    return X"
      ],
      "execution_count": 0,
      "outputs": []
    },
    {
      "cell_type": "markdown",
      "metadata": {
        "id": "C3DK2z_-DqdP",
        "colab_type": "text"
      },
      "source": [
        "Using the defined function get the tfID vectors and categorical label encoding"
      ]
    },
    {
      "cell_type": "code",
      "metadata": {
        "id": "JnNg_8ZBDqdQ",
        "colab_type": "code",
        "colab": {}
      },
      "source": [
        "data = _tfIDV(review)\n",
        "labels = to_categorical(labels, num_classes=2)\n",
        "x_train, x_test, y_train, y_test = train_test_split(data, labels, test_size=0.2, random_state=22, shuffle=False)"
      ],
      "execution_count": 0,
      "outputs": []
    },
    {
      "cell_type": "code",
      "metadata": {
        "id": "DWWyjqK9pko2",
        "colab_type": "code",
        "outputId": "4fce9f86-f1fc-401b-8128-31eee2ad4620",
        "colab": {
          "base_uri": "https://localhost:8080/",
          "height": 136
        }
      },
      "source": [
        "x_test"
      ],
      "execution_count": 13,
      "outputs": [
        {
          "output_type": "execute_result",
          "data": {
            "text/plain": [
              "array([[0., 0., 0., ..., 0., 0., 0.],\n",
              "       [0., 0., 0., ..., 0., 0., 0.],\n",
              "       [0., 0., 0., ..., 0., 0., 0.],\n",
              "       ...,\n",
              "       [0., 0., 0., ..., 0., 0., 0.],\n",
              "       [0., 0., 0., ..., 0., 0., 0.],\n",
              "       [0., 0., 0., ..., 0., 0., 0.]])"
            ]
          },
          "metadata": {
            "tags": []
          },
          "execution_count": 13
        }
      ]
    },
    {
      "cell_type": "markdown",
      "metadata": {
        "id": "XRaALc3SDqdS",
        "colab_type": "text"
      },
      "source": [
        "Creating a Simple Neural Network using keras API"
      ]
    },
    {
      "cell_type": "code",
      "metadata": {
        "id": "a-MSU8VtDqdT",
        "colab_type": "code",
        "colab": {}
      },
      "source": [
        "def _createModel():\n",
        "    model = tf.keras.Sequential()\n",
        "    model.add(layers.Dense(25, input_shape=(x_train.shape[1],)))\n",
        "    model.add(layers.BatchNormalization(momentum=0.8))    \n",
        "    model.add(layers.Activation('relu'))\n",
        "    model.add(layers.Dropout(0.5))\n",
        "    model.add(layers.Dense(25))\n",
        "    model.add(layers.BatchNormalization(momentum=0.8))\n",
        "    model.add(layers.Activation('relu'))\n",
        "    model.add(layers.Dropout(0.5))\n",
        "    model.add(layers.Dense(25))\n",
        "    model.add(layers.BatchNormalization(momentum=0.8))\n",
        "    model.add(layers.Activation('relu'))\n",
        "    model.add(layers.Dense(2, activation='softmax'))   \n",
        "    model.summary()\n",
        "    return model "
      ],
      "execution_count": 0,
      "outputs": []
    },
    {
      "cell_type": "markdown",
      "metadata": {
        "id": "LZ20kV-dDqdW",
        "colab_type": "text"
      },
      "source": [
        "Compiling the model with binary_crossentropy loss function and optimizing with adam optimizer"
      ]
    },
    {
      "cell_type": "code",
      "metadata": {
        "id": "rU82F_k_DqdX",
        "colab_type": "code",
        "outputId": "3c370196-ea7c-4f4a-a139-a2a65dfff66f",
        "colab": {
          "base_uri": "https://localhost:8080/",
          "height": 918
        }
      },
      "source": [
        "model = _createModel()\n",
        "model.compile(optimizer = \"adam\", loss = 'categorical_crossentropy', metrics = [\"accuracy\"])\n",
        "hist = model.fit(\n",
        "    x_train, y_train,\n",
        "    epochs= 10,\n",
        "    batch_size = 100,\n",
        "    validation_data = (x_test, y_test))\n",
        "print(\"Avg. Val_Accuracy from sklearn_CV:\", np.mean(hist.history[\"val_accuracy\"]))"
      ],
      "execution_count": 15,
      "outputs": [
        {
          "output_type": "stream",
          "text": [
            "Model: \"sequential\"\n",
            "_________________________________________________________________\n",
            "Layer (type)                 Output Shape              Param #   \n",
            "=================================================================\n",
            "dense (Dense)                (None, 25)                315550    \n",
            "_________________________________________________________________\n",
            "batch_normalization (BatchNo (None, 25)                100       \n",
            "_________________________________________________________________\n",
            "activation (Activation)      (None, 25)                0         \n",
            "_________________________________________________________________\n",
            "dropout (Dropout)            (None, 25)                0         \n",
            "_________________________________________________________________\n",
            "dense_1 (Dense)              (None, 25)                650       \n",
            "_________________________________________________________________\n",
            "batch_normalization_1 (Batch (None, 25)                100       \n",
            "_________________________________________________________________\n",
            "activation_1 (Activation)    (None, 25)                0         \n",
            "_________________________________________________________________\n",
            "dropout_1 (Dropout)          (None, 25)                0         \n",
            "_________________________________________________________________\n",
            "dense_2 (Dense)              (None, 25)                650       \n",
            "_________________________________________________________________\n",
            "batch_normalization_2 (Batch (None, 25)                100       \n",
            "_________________________________________________________________\n",
            "activation_2 (Activation)    (None, 25)                0         \n",
            "_________________________________________________________________\n",
            "dense_3 (Dense)              (None, 2)                 52        \n",
            "=================================================================\n",
            "Total params: 317,202\n",
            "Trainable params: 317,052\n",
            "Non-trainable params: 150\n",
            "_________________________________________________________________\n",
            "Epoch 1/10\n",
            "81/81 [==============================] - 1s 15ms/step - loss: 0.6659 - accuracy: 0.6505 - val_loss: 0.6532 - val_accuracy: 0.6168\n",
            "Epoch 2/10\n",
            "81/81 [==============================] - 1s 13ms/step - loss: 0.5265 - accuracy: 0.7309 - val_loss: 0.6162 - val_accuracy: 0.6923\n",
            "Epoch 3/10\n",
            "81/81 [==============================] - 1s 12ms/step - loss: 0.4115 - accuracy: 0.8091 - val_loss: 0.5877 - val_accuracy: 0.6874\n",
            "Epoch 4/10\n",
            "81/81 [==============================] - 1s 12ms/step - loss: 0.3153 - accuracy: 0.8610 - val_loss: 0.5743 - val_accuracy: 0.6948\n",
            "Epoch 5/10\n",
            "81/81 [==============================] - 1s 12ms/step - loss: 0.2357 - accuracy: 0.9025 - val_loss: 0.6137 - val_accuracy: 0.6968\n",
            "Epoch 6/10\n",
            "81/81 [==============================] - 1s 13ms/step - loss: 0.1819 - accuracy: 0.9262 - val_loss: 0.6923 - val_accuracy: 0.6824\n",
            "Epoch 7/10\n",
            "81/81 [==============================] - 1s 12ms/step - loss: 0.1449 - accuracy: 0.9457 - val_loss: 0.7781 - val_accuracy: 0.6799\n",
            "Epoch 8/10\n",
            "81/81 [==============================] - 1s 12ms/step - loss: 0.1253 - accuracy: 0.9508 - val_loss: 0.7999 - val_accuracy: 0.6844\n",
            "Epoch 9/10\n",
            "81/81 [==============================] - 1s 12ms/step - loss: 0.1147 - accuracy: 0.9563 - val_loss: 0.8594 - val_accuracy: 0.6759\n",
            "Epoch 10/10\n",
            "81/81 [==============================] - 1s 12ms/step - loss: 0.0966 - accuracy: 0.9643 - val_loss: 0.9127 - val_accuracy: 0.6745\n",
            "Avg. Val_Accuracy from sklearn_CV: 0.6785288214683532\n"
          ],
          "name": "stdout"
        }
      ]
    },
    {
      "cell_type": "markdown",
      "metadata": {
        "id": "syuDtsCaDqdZ",
        "colab_type": "text"
      },
      "source": [
        "Visualizing training loss and accuracy"
      ]
    },
    {
      "cell_type": "code",
      "metadata": {
        "id": "20oqdi4kDqdZ",
        "colab_type": "code",
        "outputId": "3cfe9e0b-e4cd-4354-c706-b60ddb591569",
        "colab": {
          "base_uri": "https://localhost:8080/",
          "height": 283
        }
      },
      "source": [
        "fig, loss_ax = plt.subplots()\n",
        "\n",
        "acc_ax = loss_ax.twinx()\n",
        "\n",
        "loss_ax.set_ylim([0.0, 1.0])\n",
        "acc_ax.set_ylim([0.0, 1.0])\n",
        "\n",
        "loss_ax.plot(hist.history['accuracy'], 'r', label='training loss')\n",
        "acc_ax.plot(hist.history['loss'], 'b', label='training acc')\n",
        "\n",
        "loss_ax.set_xlabel('epoch')\n",
        "loss_ax.set_ylabel('loss')\n",
        "acc_ax.set_ylabel('accuray')\n",
        "\n",
        "loss_ax.legend(loc='upper left')\n",
        "acc_ax.legend(loc='lower left')\n",
        "\n",
        "plt.show()"
      ],
      "execution_count": 16,
      "outputs": [
        {
          "output_type": "display_data",
          "data": {
            "image/png": "[encoded data removed]",
            "text/plain": [
              "<Figure size 432x288 with 2 Axes>"
            ]
          },
          "metadata": {
            "tags": [],
            "needs_background": "light"
          }
        }
      ]
    },
    {
      "cell_type": "markdown",
      "metadata": {
        "id": "l5aPbUOPDqdc",
        "colab_type": "text"
      },
      "source": [
        "Evaluating model performance with scoring metrics"
      ]
    },
    {
      "cell_type": "code",
      "metadata": {
        "id": "KgXZP33MDqdd",
        "colab_type": "code",
        "outputId": "cf740a34-6678-4cb7-bfcd-2baf4d96f186",
        "colab": {
          "base_uri": "https://localhost:8080/",
          "height": 119
        }
      },
      "source": [
        "scores = model.evaluate(x_test, y_test, verbose=0)\n",
        "y_pred = model.predict(x_test)\n",
        "y_pred = np.argmax(y_pred, axis=1)\n",
        "y_true = np.argmax(y_test, axis=1)\n",
        "score = precision_recall_fscore_support(y_true, y_pred, average='macro')\n",
        "print(\"Evaluation metrics for Sentiment Analysis: \", '\\n', \"Loss: \", scores[0], '\\n'\n",
        "     , \"Accuracy: \", scores[1], '\\n', \"F1_Score: \", score[2], '\\n', \"Precision: \", score[0], '\\n', \n",
        "     \"Recall: \", score[1])"
      ],
      "execution_count": 17,
      "outputs": [
        {
          "output_type": "stream",
          "text": [
            "Evaluation metrics for Sentiment Analysis:  \n",
            " Loss:  0.9126712679862976 \n",
            " Accuracy:  0.6744532585144043 \n",
            " F1_Score:  0.671237155245684 \n",
            " Precision:  0.6889432709281142 \n",
            " Recall:  0.6788620218849556\n"
          ],
          "name": "stdout"
        }
      ]
    },
    {
      "cell_type": "code",
      "metadata": {
        "id": "0MGneDHRDqdf",
        "colab_type": "code",
        "colab": {}
      },
      "source": [
        "def _posneg(x):\n",
        "    if x == 0:\n",
        "        return 'negative'\n",
        "    if x == 1:\n",
        "        return 'positive'"
      ],
      "execution_count": 0,
      "outputs": []
    },
    {
      "cell_type": "markdown",
      "metadata": {
        "id": "lO0J3g0QDqdh",
        "colab_type": "text"
      },
      "source": [
        "Viewing some of the reviews with actual and predicted values"
      ]
    },
    {
      "cell_type": "code",
      "metadata": {
        "id": "rF2BHl2jDqdh",
        "colab_type": "code",
        "outputId": "5df0d3e0-5f14-43f8-d85e-8b3b0c58f912",
        "colab": {
          "base_uri": "https://localhost:8080/",
          "height": 323
        }
      },
      "source": [
        "preds = model.predict(x_test[0:5])\n",
        "preds = np.argmax(preds, axis=1)\n",
        "y_test = np.argmax(y_test[0:5], axis=1)\n",
        "d = {'reviews':[review[8048],review[8049],review[8050],review[8051],\n",
        "               review[8052]], 'actual label': [y_test[0], y_test[1], y_test[2], y_test[3], y_test[4]], \n",
        "    'predicted label': [preds[0], preds[1], preds[2], preds[3], preds[4]]}\n",
        "table = pd.DataFrame(data=d)\n",
        "tableA = table['actual label'].apply(_posneg)\n",
        "tableP = table['predicted label'].apply(_posneg)\n",
        "table = table['reviews']\n",
        "res = pd.concat([table, tableA, tableP], axis=1, sort=False)\n",
        "print(\"Some of the reviews and sentiments using w2v embedding\")\n",
        "print('\\n')\n",
        "print(res)\n",
        "print('\\n')"
      ],
      "execution_count": 19,
      "outputs": [
        {
          "output_type": "stream",
          "text": [
            "Some of the reviews and sentiments using w2v embedding\n",
            "\n",
            "\n",
            "                                             reviews actual label  \\\n",
            "0  \"I am taking Diamox this is the 3rd time I hav...     positive   \n",
            "1                               \"Works good for me.\"     negative   \n",
            "2  \"I&#039;ve had glaucoma since I was 9, and I&#...     positive   \n",
            "3  \"I have Iritis, so to get rid of the inflamati...     negative   \n",
            "4  \"It helped lower my pressure but made my eyes ...     negative   \n",
            "\n",
            "  predicted label  \n",
            "0        negative  \n",
            "1        positive  \n",
            "2        positive  \n",
            "3        negative  \n",
            "4        negative  \n",
            "\n",
            "\n"
          ],
          "name": "stdout"
        }
      ]
    },
    {
      "cell_type": "code",
      "metadata": {
        "id": "9fyaePWCNNjB",
        "colab_type": "code",
        "colab": {}
      },
      "source": [
        "def _posneg1(x):\n",
        "    if x == 0:\n",
        "        return 'negative'\n",
        "    if x == 1:\n",
        "        return 'positive'"
      ],
      "execution_count": 0,
      "outputs": []
    },
    {
      "cell_type": "code",
      "metadata": {
        "id": "Udt1EElSG7G2",
        "colab_type": "code",
        "outputId": "29292501-6bf2-4495-9632-08e16d2a5d51",
        "colab": {
          "base_uri": "https://localhost:8080/",
          "height": 323
        }
      },
      "source": [
        "preds = model.predict(data)\n",
        "preds = np.argmax(preds, axis=1)\n",
        "d = {'Review':review[:], \n",
        "    'predicted_label': preds[:]}\n",
        "table = pd.DataFrame(data=d)\n",
        "tableP = table['predicted_label'].apply(_posneg1)\n",
        "table = table['Review']\n",
        "res = pd.concat([table, tableP], axis=1, sort=False)\n",
        "print('\\n')\n",
        "print(res)\n",
        "print('\\n')"
      ],
      "execution_count": 21,
      "outputs": [
        {
          "output_type": "stream",
          "text": [
            "\n",
            "\n",
            "                                                  Review predicted_label\n",
            "0      \"No side effects,  easy to take, no more sympt...        positive\n",
            "1      \"I&#039;ve been taking this medicine for a lit...        positive\n",
            "2      \"I took ibuprofen (2 caps at night for severe ...        negative\n",
            "3      \"After my VAD Stroke I am on plavix.  I have a...        negative\n",
            "4      \"No side effects,  easy to take, no more sympt...        positive\n",
            "...                                                  ...             ...\n",
            "10055  \"Reminds me of Adderall but only a natural way...        negative\n",
            "10056  \"My husband has Vascular Dementia for appox. 4...        negative\n",
            "10057  \"I&#039;ve only been using this medication (pa...        negative\n",
            "10058                               \"Makes me feel ill.\"        positive\n",
            "10059  \"Trouble sleeping,stomach pain,headache,consti...        negative\n",
            "\n",
            "[10060 rows x 2 columns]\n",
            "\n",
            "\n"
          ],
          "name": "stdout"
        }
      ]
    },
    {
      "cell_type": "code",
      "metadata": {
        "id": "6FNJvZFaN6Q2",
        "colab_type": "code",
        "colab": {}
      },
      "source": [
        "pred_labels = pd.DataFrame(res)"
      ],
      "execution_count": 0,
      "outputs": []
    },
    {
      "cell_type": "code",
      "metadata": {
        "id": "SaBUnzEXPFOd",
        "colab_type": "code",
        "colab": {}
      },
      "source": [
        "pred_labels.to_csv(\"/content/drive/My Drive/New_Dataset/predicted_lables.csv\")"
      ],
      "execution_count": 0,
      "outputs": []
    },
    {
      "cell_type": "code",
      "metadata": {
        "id": "wXFNm2nHPItr",
        "colab_type": "code",
        "colab": {}
      },
      "source": [
        "df2 = pd.read_csv('/content/drive/My Drive/New_Dataset/predicted_lables.csv')"
      ],
      "execution_count": 0,
      "outputs": []
    },
    {
      "cell_type": "code",
      "metadata": {
        "id": "Yl9lRJBwQdFJ",
        "colab_type": "code",
        "outputId": "ea1debe6-0341-4508-abb7-395ec0754363",
        "colab": {
          "base_uri": "https://localhost:8080/",
          "height": 419
        }
      },
      "source": [
        "df2"
      ],
      "execution_count": 25,
      "outputs": [
        {
          "output_type": "execute_result",
          "data": {
            "text/html": [
              "<div>\n",
              "<style scoped>\n",
              "    .dataframe tbody tr th:only-of-type {\n",
              "        vertical-align: middle;\n",
              "    }\n",
              "\n",
              "    .dataframe tbody tr th {\n",
              "        vertical-align: top;\n",
              "    }\n",
              "\n",
              "    .dataframe thead th {\n",
              "        text-align: right;\n",
              "    }\n",
              "</style>\n",
              "<table border=\"1\" class=\"dataframe\">\n",
              "  <thead>\n",
              "    <tr style=\"text-align: right;\">\n",
              "      <th></th>\n",
              "      <th>Unnamed: 0</th>\n",
              "      <th>Review</th>\n",
              "      <th>predicted_label</th>\n",
              "    </tr>\n",
              "  </thead>\n",
              "  <tbody>\n",
              "    <tr>\n",
              "      <th>0</th>\n",
              "      <td>0</td>\n",
              "      <td>\"No side effects,  easy to take, no more sympt...</td>\n",
              "      <td>positive</td>\n",
              "    </tr>\n",
              "    <tr>\n",
              "      <th>1</th>\n",
              "      <td>1</td>\n",
              "      <td>\"I&amp;#039;ve been taking this medicine for a lit...</td>\n",
              "      <td>positive</td>\n",
              "    </tr>\n",
              "    <tr>\n",
              "      <th>2</th>\n",
              "      <td>2</td>\n",
              "      <td>\"I took ibuprofen (2 caps at night for severe ...</td>\n",
              "      <td>negative</td>\n",
              "    </tr>\n",
              "    <tr>\n",
              "      <th>3</th>\n",
              "      <td>3</td>\n",
              "      <td>\"After my VAD Stroke I am on plavix.  I have a...</td>\n",
              "      <td>negative</td>\n",
              "    </tr>\n",
              "    <tr>\n",
              "      <th>4</th>\n",
              "      <td>4</td>\n",
              "      <td>\"No side effects,  easy to take, no more sympt...</td>\n",
              "      <td>positive</td>\n",
              "    </tr>\n",
              "    <tr>\n",
              "      <th>...</th>\n",
              "      <td>...</td>\n",
              "      <td>...</td>\n",
              "      <td>...</td>\n",
              "    </tr>\n",
              "    <tr>\n",
              "      <th>10055</th>\n",
              "      <td>10055</td>\n",
              "      <td>\"Reminds me of Adderall but only a natural way...</td>\n",
              "      <td>negative</td>\n",
              "    </tr>\n",
              "    <tr>\n",
              "      <th>10056</th>\n",
              "      <td>10056</td>\n",
              "      <td>\"My husband has Vascular Dementia for appox. 4...</td>\n",
              "      <td>negative</td>\n",
              "    </tr>\n",
              "    <tr>\n",
              "      <th>10057</th>\n",
              "      <td>10057</td>\n",
              "      <td>\"I&amp;#039;ve only been using this medication (pa...</td>\n",
              "      <td>negative</td>\n",
              "    </tr>\n",
              "    <tr>\n",
              "      <th>10058</th>\n",
              "      <td>10058</td>\n",
              "      <td>\"Makes me feel ill.\"</td>\n",
              "      <td>positive</td>\n",
              "    </tr>\n",
              "    <tr>\n",
              "      <th>10059</th>\n",
              "      <td>10059</td>\n",
              "      <td>\"Trouble sleeping,stomach pain,headache,consti...</td>\n",
              "      <td>negative</td>\n",
              "    </tr>\n",
              "  </tbody>\n",
              "</table>\n",
              "<p>10060 rows × 3 columns</p>\n",
              "</div>"
            ],
            "text/plain": [
              "       Unnamed: 0                                             Review  \\\n",
              "0               0  \"No side effects,  easy to take, no more sympt...   \n",
              "1               1  \"I&#039;ve been taking this medicine for a lit...   \n",
              "2               2  \"I took ibuprofen (2 caps at night for severe ...   \n",
              "3               3  \"After my VAD Stroke I am on plavix.  I have a...   \n",
              "4               4  \"No side effects,  easy to take, no more sympt...   \n",
              "...           ...                                                ...   \n",
              "10055       10055  \"Reminds me of Adderall but only a natural way...   \n",
              "10056       10056  \"My husband has Vascular Dementia for appox. 4...   \n",
              "10057       10057  \"I&#039;ve only been using this medication (pa...   \n",
              "10058       10058                               \"Makes me feel ill.\"   \n",
              "10059       10059  \"Trouble sleeping,stomach pain,headache,consti...   \n",
              "\n",
              "      predicted_label  \n",
              "0            positive  \n",
              "1            positive  \n",
              "2            negative  \n",
              "3            negative  \n",
              "4            positive  \n",
              "...               ...  \n",
              "10055        negative  \n",
              "10056        negative  \n",
              "10057        negative  \n",
              "10058        positive  \n",
              "10059        negative  \n",
              "\n",
              "[10060 rows x 3 columns]"
            ]
          },
          "metadata": {
            "tags": []
          },
          "execution_count": 25
        }
      ]
    },
    {
      "cell_type": "code",
      "metadata": {
        "id": "seW7ypeEQfk1",
        "colab_type": "code",
        "colab": {}
      },
      "source": [
        "df2 = df2.drop(\"Unnamed: 0\", axis = 1)"
      ],
      "execution_count": 0,
      "outputs": []
    },
    {
      "cell_type": "code",
      "metadata": {
        "id": "jT-mM8yTSjL6",
        "colab_type": "code",
        "outputId": "474a11ea-a8b0-45e9-c47a-57464c60a953",
        "colab": {
          "base_uri": "https://localhost:8080/",
          "height": 419
        }
      },
      "source": [
        "df2"
      ],
      "execution_count": 27,
      "outputs": [
        {
          "output_type": "execute_result",
          "data": {
            "text/html": [
              "<div>\n",
              "<style scoped>\n",
              "    .dataframe tbody tr th:only-of-type {\n",
              "        vertical-align: middle;\n",
              "    }\n",
              "\n",
              "    .dataframe tbody tr th {\n",
              "        vertical-align: top;\n",
              "    }\n",
              "\n",
              "    .dataframe thead th {\n",
              "        text-align: right;\n",
              "    }\n",
              "</style>\n",
              "<table border=\"1\" class=\"dataframe\">\n",
              "  <thead>\n",
              "    <tr style=\"text-align: right;\">\n",
              "      <th></th>\n",
              "      <th>Review</th>\n",
              "      <th>predicted_label</th>\n",
              "    </tr>\n",
              "  </thead>\n",
              "  <tbody>\n",
              "    <tr>\n",
              "      <th>0</th>\n",
              "      <td>\"No side effects,  easy to take, no more sympt...</td>\n",
              "      <td>positive</td>\n",
              "    </tr>\n",
              "    <tr>\n",
              "      <th>1</th>\n",
              "      <td>\"I&amp;#039;ve been taking this medicine for a lit...</td>\n",
              "      <td>positive</td>\n",
              "    </tr>\n",
              "    <tr>\n",
              "      <th>2</th>\n",
              "      <td>\"I took ibuprofen (2 caps at night for severe ...</td>\n",
              "      <td>negative</td>\n",
              "    </tr>\n",
              "    <tr>\n",
              "      <th>3</th>\n",
              "      <td>\"After my VAD Stroke I am on plavix.  I have a...</td>\n",
              "      <td>negative</td>\n",
              "    </tr>\n",
              "    <tr>\n",
              "      <th>4</th>\n",
              "      <td>\"No side effects,  easy to take, no more sympt...</td>\n",
              "      <td>positive</td>\n",
              "    </tr>\n",
              "    <tr>\n",
              "      <th>...</th>\n",
              "      <td>...</td>\n",
              "      <td>...</td>\n",
              "    </tr>\n",
              "    <tr>\n",
              "      <th>10055</th>\n",
              "      <td>\"Reminds me of Adderall but only a natural way...</td>\n",
              "      <td>negative</td>\n",
              "    </tr>\n",
              "    <tr>\n",
              "      <th>10056</th>\n",
              "      <td>\"My husband has Vascular Dementia for appox. 4...</td>\n",
              "      <td>negative</td>\n",
              "    </tr>\n",
              "    <tr>\n",
              "      <th>10057</th>\n",
              "      <td>\"I&amp;#039;ve only been using this medication (pa...</td>\n",
              "      <td>negative</td>\n",
              "    </tr>\n",
              "    <tr>\n",
              "      <th>10058</th>\n",
              "      <td>\"Makes me feel ill.\"</td>\n",
              "      <td>positive</td>\n",
              "    </tr>\n",
              "    <tr>\n",
              "      <th>10059</th>\n",
              "      <td>\"Trouble sleeping,stomach pain,headache,consti...</td>\n",
              "      <td>negative</td>\n",
              "    </tr>\n",
              "  </tbody>\n",
              "</table>\n",
              "<p>10060 rows × 2 columns</p>\n",
              "</div>"
            ],
            "text/plain": [
              "                                                  Review predicted_label\n",
              "0      \"No side effects,  easy to take, no more sympt...        positive\n",
              "1      \"I&#039;ve been taking this medicine for a lit...        positive\n",
              "2      \"I took ibuprofen (2 caps at night for severe ...        negative\n",
              "3      \"After my VAD Stroke I am on plavix.  I have a...        negative\n",
              "4      \"No side effects,  easy to take, no more sympt...        positive\n",
              "...                                                  ...             ...\n",
              "10055  \"Reminds me of Adderall but only a natural way...        negative\n",
              "10056  \"My husband has Vascular Dementia for appox. 4...        negative\n",
              "10057  \"I&#039;ve only been using this medication (pa...        negative\n",
              "10058                               \"Makes me feel ill.\"        positive\n",
              "10059  \"Trouble sleeping,stomach pain,headache,consti...        negative\n",
              "\n",
              "[10060 rows x 2 columns]"
            ]
          },
          "metadata": {
            "tags": []
          },
          "execution_count": 27
        }
      ]
    },
    {
      "cell_type": "code",
      "metadata": {
        "id": "b24gB8PQQjR6",
        "colab_type": "code",
        "colab": {}
      },
      "source": [
        "df1 = pd.read_csv(\"/content/drive/My Drive/New_Dataset/Merged_Dataset.csv\")"
      ],
      "execution_count": 0,
      "outputs": []
    },
    {
      "cell_type": "code",
      "metadata": {
        "id": "B-Mp1LsTQu1L",
        "colab_type": "code",
        "outputId": "18d02b28-0b8d-4b01-b147-c1a14e115443",
        "colab": {
          "base_uri": "https://localhost:8080/",
          "height": 419
        }
      },
      "source": [
        "df1"
      ],
      "execution_count": 29,
      "outputs": [
        {
          "output_type": "execute_result",
          "data": {
            "text/html": [
              "<div>\n",
              "<style scoped>\n",
              "    .dataframe tbody tr th:only-of-type {\n",
              "        vertical-align: middle;\n",
              "    }\n",
              "\n",
              "    .dataframe tbody tr th {\n",
              "        vertical-align: top;\n",
              "    }\n",
              "\n",
              "    .dataframe thead th {\n",
              "        text-align: right;\n",
              "    }\n",
              "</style>\n",
              "<table border=\"1\" class=\"dataframe\">\n",
              "  <thead>\n",
              "    <tr style=\"text-align: right;\">\n",
              "      <th></th>\n",
              "      <th>Drug</th>\n",
              "      <th>Disease</th>\n",
              "      <th>Review</th>\n",
              "      <th>Rating</th>\n",
              "      <th>UsefulCount</th>\n",
              "      <th>Symptoms</th>\n",
              "    </tr>\n",
              "  </thead>\n",
              "  <tbody>\n",
              "    <tr>\n",
              "      <th>0</th>\n",
              "      <td>Aspirin</td>\n",
              "      <td>transient ischemic attack</td>\n",
              "      <td>\"No side effects,  easy to take, no more sympt...</td>\n",
              "      <td>10.0</td>\n",
              "      <td>10</td>\n",
              "      <td>['speech slurred', 'dysarthria', 'facial pares...</td>\n",
              "    </tr>\n",
              "    <tr>\n",
              "      <th>1</th>\n",
              "      <td>Clopidogrel</td>\n",
              "      <td>transient ischemic attack</td>\n",
              "      <td>\"I&amp;#039;ve been taking this medicine for a lit...</td>\n",
              "      <td>10.0</td>\n",
              "      <td>8</td>\n",
              "      <td>['speech slurred', 'dysarthria', 'facial pares...</td>\n",
              "    </tr>\n",
              "    <tr>\n",
              "      <th>2</th>\n",
              "      <td>Clopidogrel</td>\n",
              "      <td>transient ischemic attack</td>\n",
              "      <td>\"I took ibuprofen (2 caps at night for severe ...</td>\n",
              "      <td>6.0</td>\n",
              "      <td>13</td>\n",
              "      <td>['speech slurred', 'dysarthria', 'facial pares...</td>\n",
              "    </tr>\n",
              "    <tr>\n",
              "      <th>3</th>\n",
              "      <td>Clopidogrel</td>\n",
              "      <td>transient ischemic attack</td>\n",
              "      <td>\"After my VAD Stroke I am on plavix.  I have a...</td>\n",
              "      <td>5.0</td>\n",
              "      <td>9</td>\n",
              "      <td>['speech slurred', 'dysarthria', 'facial pares...</td>\n",
              "    </tr>\n",
              "    <tr>\n",
              "      <th>4</th>\n",
              "      <td>Bayer Children's Aspirin</td>\n",
              "      <td>transient ischemic attack</td>\n",
              "      <td>\"No side effects,  easy to take, no more sympt...</td>\n",
              "      <td>10.0</td>\n",
              "      <td>10</td>\n",
              "      <td>['speech slurred', 'dysarthria', 'facial pares...</td>\n",
              "    </tr>\n",
              "    <tr>\n",
              "      <th>...</th>\n",
              "      <td>...</td>\n",
              "      <td>...</td>\n",
              "      <td>...</td>\n",
              "      <td>...</td>\n",
              "      <td>...</td>\n",
              "      <td>...</td>\n",
              "    </tr>\n",
              "    <tr>\n",
              "      <th>10055</th>\n",
              "      <td>Galantamine</td>\n",
              "      <td>alzheimer's disease</td>\n",
              "      <td>\"Reminds me of Adderall but only a natural way...</td>\n",
              "      <td>10.0</td>\n",
              "      <td>7</td>\n",
              "      <td>['drool', 'agitation', 'nightmare', 'rhonchus'...</td>\n",
              "    </tr>\n",
              "    <tr>\n",
              "      <th>10056</th>\n",
              "      <td>Memantine</td>\n",
              "      <td>alzheimer's disease</td>\n",
              "      <td>\"My husband has Vascular Dementia for appox. 4...</td>\n",
              "      <td>1.0</td>\n",
              "      <td>11</td>\n",
              "      <td>['drool', 'agitation', 'nightmare', 'rhonchus'...</td>\n",
              "    </tr>\n",
              "    <tr>\n",
              "      <th>10057</th>\n",
              "      <td>Exelon</td>\n",
              "      <td>alzheimer's disease</td>\n",
              "      <td>\"I&amp;#039;ve only been using this medication (pa...</td>\n",
              "      <td>9.0</td>\n",
              "      <td>100</td>\n",
              "      <td>['drool', 'agitation', 'nightmare', 'rhonchus'...</td>\n",
              "    </tr>\n",
              "    <tr>\n",
              "      <th>10058</th>\n",
              "      <td>Donepezil</td>\n",
              "      <td>alzheimer's disease</td>\n",
              "      <td>\"Makes me feel ill.\"</td>\n",
              "      <td>3.0</td>\n",
              "      <td>2</td>\n",
              "      <td>['drool', 'agitation', 'nightmare', 'rhonchus'...</td>\n",
              "    </tr>\n",
              "    <tr>\n",
              "      <th>10059</th>\n",
              "      <td>Aricept</td>\n",
              "      <td>alzheimer's disease</td>\n",
              "      <td>\"Trouble sleeping,stomach pain,headache,consti...</td>\n",
              "      <td>1.0</td>\n",
              "      <td>47</td>\n",
              "      <td>['drool', 'agitation', 'nightmare', 'rhonchus'...</td>\n",
              "    </tr>\n",
              "  </tbody>\n",
              "</table>\n",
              "<p>10060 rows × 6 columns</p>\n",
              "</div>"
            ],
            "text/plain": [
              "                           Drug                    Disease  \\\n",
              "0                       Aspirin  transient ischemic attack   \n",
              "1                   Clopidogrel  transient ischemic attack   \n",
              "2                   Clopidogrel  transient ischemic attack   \n",
              "3                   Clopidogrel  transient ischemic attack   \n",
              "4      Bayer Children's Aspirin  transient ischemic attack   \n",
              "...                         ...                        ...   \n",
              "10055               Galantamine        alzheimer's disease   \n",
              "10056                 Memantine        alzheimer's disease   \n",
              "10057                    Exelon        alzheimer's disease   \n",
              "10058                 Donepezil        alzheimer's disease   \n",
              "10059                   Aricept        alzheimer's disease   \n",
              "\n",
              "                                                  Review  Rating  UsefulCount  \\\n",
              "0      \"No side effects,  easy to take, no more sympt...    10.0           10   \n",
              "1      \"I&#039;ve been taking this medicine for a lit...    10.0            8   \n",
              "2      \"I took ibuprofen (2 caps at night for severe ...     6.0           13   \n",
              "3      \"After my VAD Stroke I am on plavix.  I have a...     5.0            9   \n",
              "4      \"No side effects,  easy to take, no more sympt...    10.0           10   \n",
              "...                                                  ...     ...          ...   \n",
              "10055  \"Reminds me of Adderall but only a natural way...    10.0            7   \n",
              "10056  \"My husband has Vascular Dementia for appox. 4...     1.0           11   \n",
              "10057  \"I&#039;ve only been using this medication (pa...     9.0          100   \n",
              "10058                               \"Makes me feel ill.\"     3.0            2   \n",
              "10059  \"Trouble sleeping,stomach pain,headache,consti...     1.0           47   \n",
              "\n",
              "                                                Symptoms  \n",
              "0      ['speech slurred', 'dysarthria', 'facial pares...  \n",
              "1      ['speech slurred', 'dysarthria', 'facial pares...  \n",
              "2      ['speech slurred', 'dysarthria', 'facial pares...  \n",
              "3      ['speech slurred', 'dysarthria', 'facial pares...  \n",
              "4      ['speech slurred', 'dysarthria', 'facial pares...  \n",
              "...                                                  ...  \n",
              "10055  ['drool', 'agitation', 'nightmare', 'rhonchus'...  \n",
              "10056  ['drool', 'agitation', 'nightmare', 'rhonchus'...  \n",
              "10057  ['drool', 'agitation', 'nightmare', 'rhonchus'...  \n",
              "10058  ['drool', 'agitation', 'nightmare', 'rhonchus'...  \n",
              "10059  ['drool', 'agitation', 'nightmare', 'rhonchus'...  \n",
              "\n",
              "[10060 rows x 6 columns]"
            ]
          },
          "metadata": {
            "tags": []
          },
          "execution_count": 29
        }
      ]
    },
    {
      "cell_type": "code",
      "metadata": {
        "id": "2a_P4A5Xuj8u",
        "colab_type": "code",
        "outputId": "e8b296c0-baf9-4619-cbbb-259fe7cd39ef",
        "colab": {
          "base_uri": "https://localhost:8080/",
          "height": 136
        }
      },
      "source": [
        "df1.dtypes"
      ],
      "execution_count": 30,
      "outputs": [
        {
          "output_type": "execute_result",
          "data": {
            "text/plain": [
              "Drug            object\n",
              "Disease         object\n",
              "Review          object\n",
              "Rating         float64\n",
              "UsefulCount      int64\n",
              "Symptoms        object\n",
              "dtype: object"
            ]
          },
          "metadata": {
            "tags": []
          },
          "execution_count": 30
        }
      ]
    },
    {
      "cell_type": "code",
      "metadata": {
        "id": "M-oUiaeTnqhy",
        "colab_type": "code",
        "outputId": "977ab03b-39d2-47db-885c-e3477cb23e8e",
        "colab": {
          "base_uri": "https://localhost:8080/",
          "height": 173
        }
      },
      "source": [
        "ps.sqldf(\"\"\"select Review, predicted_label, count(*) as cnt from df2 group by predicted_label, review having cnt>2\"\"\")"
      ],
      "execution_count": 31,
      "outputs": [
        {
          "output_type": "execute_result",
          "data": {
            "text/html": [
              "<div>\n",
              "<style scoped>\n",
              "    .dataframe tbody tr th:only-of-type {\n",
              "        vertical-align: middle;\n",
              "    }\n",
              "\n",
              "    .dataframe tbody tr th {\n",
              "        vertical-align: top;\n",
              "    }\n",
              "\n",
              "    .dataframe thead th {\n",
              "        text-align: right;\n",
              "    }\n",
              "</style>\n",
              "<table border=\"1\" class=\"dataframe\">\n",
              "  <thead>\n",
              "    <tr style=\"text-align: right;\">\n",
              "      <th></th>\n",
              "      <th>Review</th>\n",
              "      <th>predicted_label</th>\n",
              "      <th>cnt</th>\n",
              "    </tr>\n",
              "  </thead>\n",
              "  <tbody>\n",
              "    <tr>\n",
              "      <th>0</th>\n",
              "      <td>\"Good\"</td>\n",
              "      <td>negative</td>\n",
              "      <td>5</td>\n",
              "    </tr>\n",
              "    <tr>\n",
              "      <th>1</th>\n",
              "      <td>\"Finished treatment almost a week ago. Undetec...</td>\n",
              "      <td>positive</td>\n",
              "      <td>4</td>\n",
              "    </tr>\n",
              "    <tr>\n",
              "      <th>2</th>\n",
              "      <td>\"I am thirty years old and have had hep c for ...</td>\n",
              "      <td>positive</td>\n",
              "      <td>4</td>\n",
              "    </tr>\n",
              "    <tr>\n",
              "      <th>3</th>\n",
              "      <td>\"I have had grand mal seizures since I was 9 y...</td>\n",
              "      <td>positive</td>\n",
              "      <td>4</td>\n",
              "    </tr>\n",
              "  </tbody>\n",
              "</table>\n",
              "</div>"
            ],
            "text/plain": [
              "                                              Review predicted_label  cnt\n",
              "0                                             \"Good\"        negative    5\n",
              "1  \"Finished treatment almost a week ago. Undetec...        positive    4\n",
              "2  \"I am thirty years old and have had hep c for ...        positive    4\n",
              "3  \"I have had grand mal seizures since I was 9 y...        positive    4"
            ]
          },
          "metadata": {
            "tags": []
          },
          "execution_count": 31
        }
      ]
    },
    {
      "cell_type": "code",
      "metadata": {
        "id": "mFHSR3fpq2Hi",
        "colab_type": "code",
        "outputId": "b25ad1c1-36d5-40bf-ea52-b916936d89ac",
        "colab": {
          "base_uri": "https://localhost:8080/",
          "height": 204
        }
      },
      "source": [
        "ps.sqldf(\"\"\"select * from df2 where review like '%\"Good\"%'\"\"\")"
      ],
      "execution_count": 32,
      "outputs": [
        {
          "output_type": "execute_result",
          "data": {
            "text/html": [
              "<div>\n",
              "<style scoped>\n",
              "    .dataframe tbody tr th:only-of-type {\n",
              "        vertical-align: middle;\n",
              "    }\n",
              "\n",
              "    .dataframe tbody tr th {\n",
              "        vertical-align: top;\n",
              "    }\n",
              "\n",
              "    .dataframe thead th {\n",
              "        text-align: right;\n",
              "    }\n",
              "</style>\n",
              "<table border=\"1\" class=\"dataframe\">\n",
              "  <thead>\n",
              "    <tr style=\"text-align: right;\">\n",
              "      <th></th>\n",
              "      <th>Review</th>\n",
              "      <th>predicted_label</th>\n",
              "    </tr>\n",
              "  </thead>\n",
              "  <tbody>\n",
              "    <tr>\n",
              "      <th>0</th>\n",
              "      <td>\"Good\"</td>\n",
              "      <td>negative</td>\n",
              "    </tr>\n",
              "    <tr>\n",
              "      <th>1</th>\n",
              "      <td>\"Good\"</td>\n",
              "      <td>negative</td>\n",
              "    </tr>\n",
              "    <tr>\n",
              "      <th>2</th>\n",
              "      <td>\"Good\"</td>\n",
              "      <td>negative</td>\n",
              "    </tr>\n",
              "    <tr>\n",
              "      <th>3</th>\n",
              "      <td>\"Good\"</td>\n",
              "      <td>negative</td>\n",
              "    </tr>\n",
              "    <tr>\n",
              "      <th>4</th>\n",
              "      <td>\"Good\"</td>\n",
              "      <td>negative</td>\n",
              "    </tr>\n",
              "  </tbody>\n",
              "</table>\n",
              "</div>"
            ],
            "text/plain": [
              "   Review predicted_label\n",
              "0  \"Good\"        negative\n",
              "1  \"Good\"        negative\n",
              "2  \"Good\"        negative\n",
              "3  \"Good\"        negative\n",
              "4  \"Good\"        negative"
            ]
          },
          "metadata": {
            "tags": []
          },
          "execution_count": 32
        }
      ]
    },
    {
      "cell_type": "code",
      "metadata": {
        "id": "fOYarvqVw-jX",
        "colab_type": "code",
        "colab": {}
      },
      "source": [
        "df3 = ps.sqldf(\"\"\"select distinct review,predicted_label from df2\"\"\")"
      ],
      "execution_count": 0,
      "outputs": []
    },
    {
      "cell_type": "code",
      "metadata": {
        "id": "rWKyO22HTIgg",
        "colab_type": "code",
        "colab": {}
      },
      "source": [
        "merged_data = ps.sqldf(\"\"\"select df1.*,df3.predicted_label from df1 left join df3 on df1.Review=df3.Review\"\"\")"
      ],
      "execution_count": 0,
      "outputs": []
    },
    {
      "cell_type": "code",
      "metadata": {
        "id": "Tfi1ahiMTK5b",
        "colab_type": "code",
        "outputId": "beca3009-ca0e-452c-cc13-1d19573ba3c6",
        "colab": {
          "base_uri": "https://localhost:8080/",
          "height": 419
        }
      },
      "source": [
        "merged_data"
      ],
      "execution_count": 35,
      "outputs": [
        {
          "output_type": "execute_result",
          "data": {
            "text/html": [
              "<div>\n",
              "<style scoped>\n",
              "    .dataframe tbody tr th:only-of-type {\n",
              "        vertical-align: middle;\n",
              "    }\n",
              "\n",
              "    .dataframe tbody tr th {\n",
              "        vertical-align: top;\n",
              "    }\n",
              "\n",
              "    .dataframe thead th {\n",
              "        text-align: right;\n",
              "    }\n",
              "</style>\n",
              "<table border=\"1\" class=\"dataframe\">\n",
              "  <thead>\n",
              "    <tr style=\"text-align: right;\">\n",
              "      <th></th>\n",
              "      <th>Drug</th>\n",
              "      <th>Disease</th>\n",
              "      <th>Review</th>\n",
              "      <th>Rating</th>\n",
              "      <th>UsefulCount</th>\n",
              "      <th>Symptoms</th>\n",
              "      <th>predicted_label</th>\n",
              "    </tr>\n",
              "  </thead>\n",
              "  <tbody>\n",
              "    <tr>\n",
              "      <th>0</th>\n",
              "      <td>Aspirin</td>\n",
              "      <td>transient ischemic attack</td>\n",
              "      <td>\"No side effects,  easy to take, no more sympt...</td>\n",
              "      <td>10.0</td>\n",
              "      <td>10</td>\n",
              "      <td>['speech slurred', 'dysarthria', 'facial pares...</td>\n",
              "      <td>positive</td>\n",
              "    </tr>\n",
              "    <tr>\n",
              "      <th>1</th>\n",
              "      <td>Clopidogrel</td>\n",
              "      <td>transient ischemic attack</td>\n",
              "      <td>\"I&amp;#039;ve been taking this medicine for a lit...</td>\n",
              "      <td>10.0</td>\n",
              "      <td>8</td>\n",
              "      <td>['speech slurred', 'dysarthria', 'facial pares...</td>\n",
              "      <td>positive</td>\n",
              "    </tr>\n",
              "    <tr>\n",
              "      <th>2</th>\n",
              "      <td>Clopidogrel</td>\n",
              "      <td>transient ischemic attack</td>\n",
              "      <td>\"I took ibuprofen (2 caps at night for severe ...</td>\n",
              "      <td>6.0</td>\n",
              "      <td>13</td>\n",
              "      <td>['speech slurred', 'dysarthria', 'facial pares...</td>\n",
              "      <td>negative</td>\n",
              "    </tr>\n",
              "    <tr>\n",
              "      <th>3</th>\n",
              "      <td>Clopidogrel</td>\n",
              "      <td>transient ischemic attack</td>\n",
              "      <td>\"After my VAD Stroke I am on plavix.  I have a...</td>\n",
              "      <td>5.0</td>\n",
              "      <td>9</td>\n",
              "      <td>['speech slurred', 'dysarthria', 'facial pares...</td>\n",
              "      <td>negative</td>\n",
              "    </tr>\n",
              "    <tr>\n",
              "      <th>4</th>\n",
              "      <td>Bayer Children's Aspirin</td>\n",
              "      <td>transient ischemic attack</td>\n",
              "      <td>\"No side effects,  easy to take, no more sympt...</td>\n",
              "      <td>10.0</td>\n",
              "      <td>10</td>\n",
              "      <td>['speech slurred', 'dysarthria', 'facial pares...</td>\n",
              "      <td>positive</td>\n",
              "    </tr>\n",
              "    <tr>\n",
              "      <th>...</th>\n",
              "      <td>...</td>\n",
              "      <td>...</td>\n",
              "      <td>...</td>\n",
              "      <td>...</td>\n",
              "      <td>...</td>\n",
              "      <td>...</td>\n",
              "      <td>...</td>\n",
              "    </tr>\n",
              "    <tr>\n",
              "      <th>10055</th>\n",
              "      <td>Galantamine</td>\n",
              "      <td>alzheimer's disease</td>\n",
              "      <td>\"Reminds me of Adderall but only a natural way...</td>\n",
              "      <td>10.0</td>\n",
              "      <td>7</td>\n",
              "      <td>['drool', 'agitation', 'nightmare', 'rhonchus'...</td>\n",
              "      <td>negative</td>\n",
              "    </tr>\n",
              "    <tr>\n",
              "      <th>10056</th>\n",
              "      <td>Memantine</td>\n",
              "      <td>alzheimer's disease</td>\n",
              "      <td>\"My husband has Vascular Dementia for appox. 4...</td>\n",
              "      <td>1.0</td>\n",
              "      <td>11</td>\n",
              "      <td>['drool', 'agitation', 'nightmare', 'rhonchus'...</td>\n",
              "      <td>negative</td>\n",
              "    </tr>\n",
              "    <tr>\n",
              "      <th>10057</th>\n",
              "      <td>Exelon</td>\n",
              "      <td>alzheimer's disease</td>\n",
              "      <td>\"I&amp;#039;ve only been using this medication (pa...</td>\n",
              "      <td>9.0</td>\n",
              "      <td>100</td>\n",
              "      <td>['drool', 'agitation', 'nightmare', 'rhonchus'...</td>\n",
              "      <td>negative</td>\n",
              "    </tr>\n",
              "    <tr>\n",
              "      <th>10058</th>\n",
              "      <td>Donepezil</td>\n",
              "      <td>alzheimer's disease</td>\n",
              "      <td>\"Makes me feel ill.\"</td>\n",
              "      <td>3.0</td>\n",
              "      <td>2</td>\n",
              "      <td>['drool', 'agitation', 'nightmare', 'rhonchus'...</td>\n",
              "      <td>positive</td>\n",
              "    </tr>\n",
              "    <tr>\n",
              "      <th>10059</th>\n",
              "      <td>Aricept</td>\n",
              "      <td>alzheimer's disease</td>\n",
              "      <td>\"Trouble sleeping,stomach pain,headache,consti...</td>\n",
              "      <td>1.0</td>\n",
              "      <td>47</td>\n",
              "      <td>['drool', 'agitation', 'nightmare', 'rhonchus'...</td>\n",
              "      <td>negative</td>\n",
              "    </tr>\n",
              "  </tbody>\n",
              "</table>\n",
              "<p>10060 rows × 7 columns</p>\n",
              "</div>"
            ],
            "text/plain": [
              "                           Drug                    Disease  \\\n",
              "0                       Aspirin  transient ischemic attack   \n",
              "1                   Clopidogrel  transient ischemic attack   \n",
              "2                   Clopidogrel  transient ischemic attack   \n",
              "3                   Clopidogrel  transient ischemic attack   \n",
              "4      Bayer Children's Aspirin  transient ischemic attack   \n",
              "...                         ...                        ...   \n",
              "10055               Galantamine        alzheimer's disease   \n",
              "10056                 Memantine        alzheimer's disease   \n",
              "10057                    Exelon        alzheimer's disease   \n",
              "10058                 Donepezil        alzheimer's disease   \n",
              "10059                   Aricept        alzheimer's disease   \n",
              "\n",
              "                                                  Review  Rating  UsefulCount  \\\n",
              "0      \"No side effects,  easy to take, no more sympt...    10.0           10   \n",
              "1      \"I&#039;ve been taking this medicine for a lit...    10.0            8   \n",
              "2      \"I took ibuprofen (2 caps at night for severe ...     6.0           13   \n",
              "3      \"After my VAD Stroke I am on plavix.  I have a...     5.0            9   \n",
              "4      \"No side effects,  easy to take, no more sympt...    10.0           10   \n",
              "...                                                  ...     ...          ...   \n",
              "10055  \"Reminds me of Adderall but only a natural way...    10.0            7   \n",
              "10056  \"My husband has Vascular Dementia for appox. 4...     1.0           11   \n",
              "10057  \"I&#039;ve only been using this medication (pa...     9.0          100   \n",
              "10058                               \"Makes me feel ill.\"     3.0            2   \n",
              "10059  \"Trouble sleeping,stomach pain,headache,consti...     1.0           47   \n",
              "\n",
              "                                                Symptoms predicted_label  \n",
              "0      ['speech slurred', 'dysarthria', 'facial pares...        positive  \n",
              "1      ['speech slurred', 'dysarthria', 'facial pares...        positive  \n",
              "2      ['speech slurred', 'dysarthria', 'facial pares...        negative  \n",
              "3      ['speech slurred', 'dysarthria', 'facial pares...        negative  \n",
              "4      ['speech slurred', 'dysarthria', 'facial pares...        positive  \n",
              "...                                                  ...             ...  \n",
              "10055  ['drool', 'agitation', 'nightmare', 'rhonchus'...        negative  \n",
              "10056  ['drool', 'agitation', 'nightmare', 'rhonchus'...        negative  \n",
              "10057  ['drool', 'agitation', 'nightmare', 'rhonchus'...        negative  \n",
              "10058  ['drool', 'agitation', 'nightmare', 'rhonchus'...        positive  \n",
              "10059  ['drool', 'agitation', 'nightmare', 'rhonchus'...        negative  \n",
              "\n",
              "[10060 rows x 7 columns]"
            ]
          },
          "metadata": {
            "tags": []
          },
          "execution_count": 35
        }
      ]
    },
    {
      "cell_type": "code",
      "metadata": {
        "id": "FKrjlz1knffd",
        "colab_type": "code",
        "colab": {}
      },
      "source": [
        "merged_data = merged_data.rename({'predicted_label':'sentiment_review'}, axis =1)"
      ],
      "execution_count": 0,
      "outputs": []
    },
    {
      "cell_type": "code",
      "metadata": {
        "id": "Oj4WnAeq5e1i",
        "colab_type": "code",
        "outputId": "65159efb-6757-4d55-e1f9-0e7107dfb9e4",
        "colab": {
          "base_uri": "https://localhost:8080/",
          "height": 419
        }
      },
      "source": [
        "merged_data.drop(['Rating', 'Symptoms'], axis =1)"
      ],
      "execution_count": 37,
      "outputs": [
        {
          "output_type": "execute_result",
          "data": {
            "text/html": [
              "<div>\n",
              "<style scoped>\n",
              "    .dataframe tbody tr th:only-of-type {\n",
              "        vertical-align: middle;\n",
              "    }\n",
              "\n",
              "    .dataframe tbody tr th {\n",
              "        vertical-align: top;\n",
              "    }\n",
              "\n",
              "    .dataframe thead th {\n",
              "        text-align: right;\n",
              "    }\n",
              "</style>\n",
              "<table border=\"1\" class=\"dataframe\">\n",
              "  <thead>\n",
              "    <tr style=\"text-align: right;\">\n",
              "      <th></th>\n",
              "      <th>Drug</th>\n",
              "      <th>Disease</th>\n",
              "      <th>Review</th>\n",
              "      <th>UsefulCount</th>\n",
              "      <th>sentiment_review</th>\n",
              "    </tr>\n",
              "  </thead>\n",
              "  <tbody>\n",
              "    <tr>\n",
              "      <th>0</th>\n",
              "      <td>Aspirin</td>\n",
              "      <td>transient ischemic attack</td>\n",
              "      <td>\"No side effects,  easy to take, no more sympt...</td>\n",
              "      <td>10</td>\n",
              "      <td>positive</td>\n",
              "    </tr>\n",
              "    <tr>\n",
              "      <th>1</th>\n",
              "      <td>Clopidogrel</td>\n",
              "      <td>transient ischemic attack</td>\n",
              "      <td>\"I&amp;#039;ve been taking this medicine for a lit...</td>\n",
              "      <td>8</td>\n",
              "      <td>positive</td>\n",
              "    </tr>\n",
              "    <tr>\n",
              "      <th>2</th>\n",
              "      <td>Clopidogrel</td>\n",
              "      <td>transient ischemic attack</td>\n",
              "      <td>\"I took ibuprofen (2 caps at night for severe ...</td>\n",
              "      <td>13</td>\n",
              "      <td>negative</td>\n",
              "    </tr>\n",
              "    <tr>\n",
              "      <th>3</th>\n",
              "      <td>Clopidogrel</td>\n",
              "      <td>transient ischemic attack</td>\n",
              "      <td>\"After my VAD Stroke I am on plavix.  I have a...</td>\n",
              "      <td>9</td>\n",
              "      <td>negative</td>\n",
              "    </tr>\n",
              "    <tr>\n",
              "      <th>4</th>\n",
              "      <td>Bayer Children's Aspirin</td>\n",
              "      <td>transient ischemic attack</td>\n",
              "      <td>\"No side effects,  easy to take, no more sympt...</td>\n",
              "      <td>10</td>\n",
              "      <td>positive</td>\n",
              "    </tr>\n",
              "    <tr>\n",
              "      <th>...</th>\n",
              "      <td>...</td>\n",
              "      <td>...</td>\n",
              "      <td>...</td>\n",
              "      <td>...</td>\n",
              "      <td>...</td>\n",
              "    </tr>\n",
              "    <tr>\n",
              "      <th>10055</th>\n",
              "      <td>Galantamine</td>\n",
              "      <td>alzheimer's disease</td>\n",
              "      <td>\"Reminds me of Adderall but only a natural way...</td>\n",
              "      <td>7</td>\n",
              "      <td>negative</td>\n",
              "    </tr>\n",
              "    <tr>\n",
              "      <th>10056</th>\n",
              "      <td>Memantine</td>\n",
              "      <td>alzheimer's disease</td>\n",
              "      <td>\"My husband has Vascular Dementia for appox. 4...</td>\n",
              "      <td>11</td>\n",
              "      <td>negative</td>\n",
              "    </tr>\n",
              "    <tr>\n",
              "      <th>10057</th>\n",
              "      <td>Exelon</td>\n",
              "      <td>alzheimer's disease</td>\n",
              "      <td>\"I&amp;#039;ve only been using this medication (pa...</td>\n",
              "      <td>100</td>\n",
              "      <td>negative</td>\n",
              "    </tr>\n",
              "    <tr>\n",
              "      <th>10058</th>\n",
              "      <td>Donepezil</td>\n",
              "      <td>alzheimer's disease</td>\n",
              "      <td>\"Makes me feel ill.\"</td>\n",
              "      <td>2</td>\n",
              "      <td>positive</td>\n",
              "    </tr>\n",
              "    <tr>\n",
              "      <th>10059</th>\n",
              "      <td>Aricept</td>\n",
              "      <td>alzheimer's disease</td>\n",
              "      <td>\"Trouble sleeping,stomach pain,headache,consti...</td>\n",
              "      <td>47</td>\n",
              "      <td>negative</td>\n",
              "    </tr>\n",
              "  </tbody>\n",
              "</table>\n",
              "<p>10060 rows × 5 columns</p>\n",
              "</div>"
            ],
            "text/plain": [
              "                           Drug                    Disease  \\\n",
              "0                       Aspirin  transient ischemic attack   \n",
              "1                   Clopidogrel  transient ischemic attack   \n",
              "2                   Clopidogrel  transient ischemic attack   \n",
              "3                   Clopidogrel  transient ischemic attack   \n",
              "4      Bayer Children's Aspirin  transient ischemic attack   \n",
              "...                         ...                        ...   \n",
              "10055               Galantamine        alzheimer's disease   \n",
              "10056                 Memantine        alzheimer's disease   \n",
              "10057                    Exelon        alzheimer's disease   \n",
              "10058                 Donepezil        alzheimer's disease   \n",
              "10059                   Aricept        alzheimer's disease   \n",
              "\n",
              "                                                  Review  UsefulCount  \\\n",
              "0      \"No side effects,  easy to take, no more sympt...           10   \n",
              "1      \"I&#039;ve been taking this medicine for a lit...            8   \n",
              "2      \"I took ibuprofen (2 caps at night for severe ...           13   \n",
              "3      \"After my VAD Stroke I am on plavix.  I have a...            9   \n",
              "4      \"No side effects,  easy to take, no more sympt...           10   \n",
              "...                                                  ...          ...   \n",
              "10055  \"Reminds me of Adderall but only a natural way...            7   \n",
              "10056  \"My husband has Vascular Dementia for appox. 4...           11   \n",
              "10057  \"I&#039;ve only been using this medication (pa...          100   \n",
              "10058                               \"Makes me feel ill.\"            2   \n",
              "10059  \"Trouble sleeping,stomach pain,headache,consti...           47   \n",
              "\n",
              "      sentiment_review  \n",
              "0             positive  \n",
              "1             positive  \n",
              "2             negative  \n",
              "3             negative  \n",
              "4             positive  \n",
              "...                ...  \n",
              "10055         negative  \n",
              "10056         negative  \n",
              "10057         negative  \n",
              "10058         positive  \n",
              "10059         negative  \n",
              "\n",
              "[10060 rows x 5 columns]"
            ]
          },
          "metadata": {
            "tags": []
          },
          "execution_count": 37
        }
      ]
    },
    {
      "cell_type": "code",
      "metadata": {
        "id": "sqZwyGD859I3",
        "colab_type": "code",
        "colab": {}
      },
      "source": [
        "merged_data.to_csv(\"/content/drive/My Drive/New_Dataset/sentiment_review.csv\")"
      ],
      "execution_count": 0,
      "outputs": []
    }
  ]
}
