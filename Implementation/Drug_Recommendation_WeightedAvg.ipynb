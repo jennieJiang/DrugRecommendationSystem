{
  "nbformat": 4,
  "nbformat_minor": 0,
  "metadata": {
    "colab": {
      "name": "Drug_Recommendation_WeightedAvg.ipynb",
      "provenance": [],
      "collapsed_sections": [],
      "include_colab_link": true
    },
    "kernelspec": {
      "name": "python3",
      "display_name": "Python 3"
    }
  },
  "cells": [
    {
      "cell_type": "markdown",
      "metadata": {
        "id": "view-in-github",
        "colab_type": "text"
      },
      "source": [
        "<a href=\"https://colab.research.google.com/github/khushbooekhande/DrugRecommendationSystem/blob/master/Implementation/Drug_Recommendation_WeightedAvg.ipynb\" target=\"_parent\"><img src=\"https://colab.research.google.com/assets/colab-badge.svg\" alt=\"Open In Colab\"/></a>"
      ]
    },
    {
      "cell_type": "code",
      "metadata": {
        "id": "UMa8IqczI7FL",
        "colab_type": "code",
        "outputId": "4cc1609a-ac3e-4c0a-8aa9-dd49649017f9",
        "colab": {
          "base_uri": "https://localhost:8080/",
          "height": 33
        }
      },
      "source": [
        "pip install vaderSentiment"
      ],
      "execution_count": 153,
      "outputs": [
        {
          "output_type": "stream",
          "text": [
            "Requirement already satisfied: vaderSentiment in /usr/local/lib/python3.6/dist-packages (3.3.1)\n"
          ],
          "name": "stdout"
        }
      ]
    },
    {
      "cell_type": "code",
      "metadata": {
        "id": "BcN4_WowkTik",
        "colab_type": "code",
        "colab": {}
      },
      "source": [
        "import pandas as pd \n",
        "import numpy as np\n",
        "import matplotlib.pyplot as plt\n",
        "from vaderSentiment.vaderSentiment import SentimentIntensityAnalyzer\n",
        "analyser = SentimentIntensityAnalyzer()"
      ],
      "execution_count": 0,
      "outputs": []
    },
    {
      "cell_type": "code",
      "metadata": {
        "id": "J3GaFNUcHoDM",
        "colab_type": "code",
        "outputId": "aaf7feac-c154-4a16-ea9a-1161306ca41c",
        "colab": {
          "base_uri": "https://localhost:8080/",
          "height": 33
        }
      },
      "source": [
        "from google.colab import drive\n",
        "drive.mount(\"/content/drive\")"
      ],
      "execution_count": 155,
      "outputs": [
        {
          "output_type": "stream",
          "text": [
            "Drive already mounted at /content/drive; to attempt to forcibly remount, call drive.mount(\"/content/drive\", force_remount=True).\n"
          ],
          "name": "stdout"
        }
      ]
    },
    {
      "cell_type": "code",
      "metadata": {
        "id": "CoGLZxXNhboo",
        "colab_type": "code",
        "colab": {}
      },
      "source": [
        "merged_data = pd.read_csv('/content/drive/My Drive/gtdt/Merged_Dataset.csv')"
      ],
      "execution_count": 0,
      "outputs": []
    },
    {
      "cell_type": "code",
      "metadata": {
        "id": "iA_3luLWhsu2",
        "colab_type": "code",
        "outputId": "00c00053-467e-461f-d39c-92c57536637c",
        "colab": {
          "base_uri": "https://localhost:8080/",
          "height": 196
        }
      },
      "source": [
        "merged_data.head()"
      ],
      "execution_count": 157,
      "outputs": [
        {
          "output_type": "execute_result",
          "data": {
            "text/html": [
              "<div>\n",
              "<style scoped>\n",
              "    .dataframe tbody tr th:only-of-type {\n",
              "        vertical-align: middle;\n",
              "    }\n",
              "\n",
              "    .dataframe tbody tr th {\n",
              "        vertical-align: top;\n",
              "    }\n",
              "\n",
              "    .dataframe thead th {\n",
              "        text-align: right;\n",
              "    }\n",
              "</style>\n",
              "<table border=\"1\" class=\"dataframe\">\n",
              "  <thead>\n",
              "    <tr style=\"text-align: right;\">\n",
              "      <th></th>\n",
              "      <th>Drug</th>\n",
              "      <th>Disease</th>\n",
              "      <th>Review</th>\n",
              "      <th>Rating</th>\n",
              "      <th>UsefulCount</th>\n",
              "      <th>Symptoms</th>\n",
              "    </tr>\n",
              "  </thead>\n",
              "  <tbody>\n",
              "    <tr>\n",
              "      <th>0</th>\n",
              "      <td>Aspirin</td>\n",
              "      <td>transient ischemic attack</td>\n",
              "      <td>\"No side effects,  easy to take, no more sympt...</td>\n",
              "      <td>10</td>\n",
              "      <td>10</td>\n",
              "      <td>['speech slurred', 'dysarthria', 'facial pares...</td>\n",
              "    </tr>\n",
              "    <tr>\n",
              "      <th>1</th>\n",
              "      <td>Clopidogrel</td>\n",
              "      <td>transient ischemic attack</td>\n",
              "      <td>\"I&amp;#039;ve been taking this medicine for a lit...</td>\n",
              "      <td>10</td>\n",
              "      <td>8</td>\n",
              "      <td>['speech slurred', 'dysarthria', 'facial pares...</td>\n",
              "    </tr>\n",
              "    <tr>\n",
              "      <th>2</th>\n",
              "      <td>Clopidogrel</td>\n",
              "      <td>transient ischemic attack</td>\n",
              "      <td>\"I took ibuprofen (2 caps at night for severe ...</td>\n",
              "      <td>6</td>\n",
              "      <td>13</td>\n",
              "      <td>['speech slurred', 'dysarthria', 'facial pares...</td>\n",
              "    </tr>\n",
              "    <tr>\n",
              "      <th>3</th>\n",
              "      <td>Clopidogrel</td>\n",
              "      <td>transient ischemic attack</td>\n",
              "      <td>\"After my VAD Stroke I am on plavix.  I have a...</td>\n",
              "      <td>5</td>\n",
              "      <td>9</td>\n",
              "      <td>['speech slurred', 'dysarthria', 'facial pares...</td>\n",
              "    </tr>\n",
              "    <tr>\n",
              "      <th>4</th>\n",
              "      <td>Bayer Children's Aspirin</td>\n",
              "      <td>transient ischemic attack</td>\n",
              "      <td>\"No side effects,  easy to take, no more sympt...</td>\n",
              "      <td>10</td>\n",
              "      <td>10</td>\n",
              "      <td>['speech slurred', 'dysarthria', 'facial pares...</td>\n",
              "    </tr>\n",
              "  </tbody>\n",
              "</table>\n",
              "</div>"
            ],
            "text/plain": [
              "                       Drug  ...                                           Symptoms\n",
              "0                   Aspirin  ...  ['speech slurred', 'dysarthria', 'facial pares...\n",
              "1               Clopidogrel  ...  ['speech slurred', 'dysarthria', 'facial pares...\n",
              "2               Clopidogrel  ...  ['speech slurred', 'dysarthria', 'facial pares...\n",
              "3               Clopidogrel  ...  ['speech slurred', 'dysarthria', 'facial pares...\n",
              "4  Bayer Children's Aspirin  ...  ['speech slurred', 'dysarthria', 'facial pares...\n",
              "\n",
              "[5 rows x 6 columns]"
            ]
          },
          "metadata": {
            "tags": []
          },
          "execution_count": 157
        }
      ]
    },
    {
      "cell_type": "code",
      "metadata": {
        "id": "Ak2yA2RoEumV",
        "colab_type": "code",
        "outputId": "efd3f374-481d-4719-c724-872c925d005e",
        "colab": {
          "base_uri": "https://localhost:8080/",
          "height": 33
        }
      },
      "source": [
        "merged_data.shape"
      ],
      "execution_count": 158,
      "outputs": [
        {
          "output_type": "execute_result",
          "data": {
            "text/plain": [
              "(10060, 6)"
            ]
          },
          "metadata": {
            "tags": []
          },
          "execution_count": 158
        }
      ]
    },
    {
      "cell_type": "code",
      "metadata": {
        "id": "6O5Scggkh48g",
        "colab_type": "code",
        "colab": {}
      },
      "source": [
        "review_list = list(merged_data.Review)"
      ],
      "execution_count": 0,
      "outputs": []
    },
    {
      "cell_type": "markdown",
      "metadata": {
        "id": "rXTY2FwMO_jk",
        "colab_type": "text"
      },
      "source": [
        "**Sentiment analysis of drug reviews using the VADER tool.**"
      ]
    },
    {
      "cell_type": "code",
      "metadata": {
        "id": "SYQ-v49-O1wt",
        "colab_type": "code",
        "colab": {}
      },
      "source": [
        "sentiments = []\n",
        "positive = []\n",
        "negative = []\n",
        "neutral = []\n",
        "compound = []\n",
        "\n",
        "\n",
        "for text in review_list:\n",
        "\n",
        "  # Running Vader Analysis on each review\n",
        "  com = analyser.polarity_scores(text)[\"compound\"]\n",
        "  pos = analyser.polarity_scores(text)[\"pos\"]\n",
        "  neu = analyser.polarity_scores(text)[\"neu\"]\n",
        "  neg = analyser.polarity_scores(text)[\"neg\"]\n",
        "\n",
        "  # Adding each value to the corresponding array\n",
        "  positive.append(pos)\n",
        "  negative.append(neg)\n",
        "  neutral.append(neu)\n",
        "  compound.append(com)\n",
        "  sentiments.append({\"Review\":text,\n",
        "                     \"Positive\": pos,\n",
        "                     \"Negative\": neu,\n",
        "                     \"Neutral\": neg,\n",
        "                     \"Compound\": com})\n",
        "\n",
        "sentiments_pd = pd.DataFrame.from_dict(sentiments)"
      ],
      "execution_count": 0,
      "outputs": []
    },
    {
      "cell_type": "code",
      "metadata": {
        "id": "2KTiTBggS0WK",
        "colab_type": "code",
        "outputId": "05b2629a-3275-4bc4-90bc-1fabc101f5d3",
        "colab": {
          "base_uri": "https://localhost:8080/",
          "height": 404
        }
      },
      "source": [
        "sentiments_pd"
      ],
      "execution_count": 161,
      "outputs": [
        {
          "output_type": "execute_result",
          "data": {
            "text/html": [
              "<div>\n",
              "<style scoped>\n",
              "    .dataframe tbody tr th:only-of-type {\n",
              "        vertical-align: middle;\n",
              "    }\n",
              "\n",
              "    .dataframe tbody tr th {\n",
              "        vertical-align: top;\n",
              "    }\n",
              "\n",
              "    .dataframe thead th {\n",
              "        text-align: right;\n",
              "    }\n",
              "</style>\n",
              "<table border=\"1\" class=\"dataframe\">\n",
              "  <thead>\n",
              "    <tr style=\"text-align: right;\">\n",
              "      <th></th>\n",
              "      <th>Review</th>\n",
              "      <th>Positive</th>\n",
              "      <th>Negative</th>\n",
              "      <th>Neutral</th>\n",
              "      <th>Compound</th>\n",
              "    </tr>\n",
              "  </thead>\n",
              "  <tbody>\n",
              "    <tr>\n",
              "      <th>0</th>\n",
              "      <td>\"No side effects,  easy to take, no more sympt...</td>\n",
              "      <td>0.206</td>\n",
              "      <td>0.638</td>\n",
              "      <td>0.156</td>\n",
              "      <td>0.1779</td>\n",
              "    </tr>\n",
              "    <tr>\n",
              "      <th>1</th>\n",
              "      <td>\"I&amp;#039;ve been taking this medicine for a lit...</td>\n",
              "      <td>0.098</td>\n",
              "      <td>0.762</td>\n",
              "      <td>0.140</td>\n",
              "      <td>-0.4092</td>\n",
              "    </tr>\n",
              "    <tr>\n",
              "      <th>2</th>\n",
              "      <td>\"I took ibuprofen (2 caps at night for severe ...</td>\n",
              "      <td>0.000</td>\n",
              "      <td>0.721</td>\n",
              "      <td>0.279</td>\n",
              "      <td>-0.8176</td>\n",
              "    </tr>\n",
              "    <tr>\n",
              "      <th>3</th>\n",
              "      <td>\"After my VAD Stroke I am on plavix.  I have a...</td>\n",
              "      <td>0.055</td>\n",
              "      <td>0.945</td>\n",
              "      <td>0.000</td>\n",
              "      <td>0.6757</td>\n",
              "    </tr>\n",
              "    <tr>\n",
              "      <th>4</th>\n",
              "      <td>\"No side effects,  easy to take, no more sympt...</td>\n",
              "      <td>0.206</td>\n",
              "      <td>0.638</td>\n",
              "      <td>0.156</td>\n",
              "      <td>0.1779</td>\n",
              "    </tr>\n",
              "    <tr>\n",
              "      <th>...</th>\n",
              "      <td>...</td>\n",
              "      <td>...</td>\n",
              "      <td>...</td>\n",
              "      <td>...</td>\n",
              "      <td>...</td>\n",
              "    </tr>\n",
              "    <tr>\n",
              "      <th>10055</th>\n",
              "      <td>\"Reminds me of Adderall but only a natural way...</td>\n",
              "      <td>0.081</td>\n",
              "      <td>0.919</td>\n",
              "      <td>0.000</td>\n",
              "      <td>0.5023</td>\n",
              "    </tr>\n",
              "    <tr>\n",
              "      <th>10056</th>\n",
              "      <td>\"My husband has Vascular Dementia for appox. 4...</td>\n",
              "      <td>0.177</td>\n",
              "      <td>0.674</td>\n",
              "      <td>0.149</td>\n",
              "      <td>0.3272</td>\n",
              "    </tr>\n",
              "    <tr>\n",
              "      <th>10057</th>\n",
              "      <td>\"I&amp;#039;ve only been using this medication (pa...</td>\n",
              "      <td>0.164</td>\n",
              "      <td>0.638</td>\n",
              "      <td>0.198</td>\n",
              "      <td>-0.1531</td>\n",
              "    </tr>\n",
              "    <tr>\n",
              "      <th>10058</th>\n",
              "      <td>\"Makes me feel ill.\"</td>\n",
              "      <td>0.000</td>\n",
              "      <td>0.517</td>\n",
              "      <td>0.483</td>\n",
              "      <td>-0.4215</td>\n",
              "    </tr>\n",
              "    <tr>\n",
              "      <th>10059</th>\n",
              "      <td>\"Trouble sleeping,stomach pain,headache,consti...</td>\n",
              "      <td>0.000</td>\n",
              "      <td>0.426</td>\n",
              "      <td>0.574</td>\n",
              "      <td>-0.4019</td>\n",
              "    </tr>\n",
              "  </tbody>\n",
              "</table>\n",
              "<p>10060 rows × 5 columns</p>\n",
              "</div>"
            ],
            "text/plain": [
              "                                                  Review  ...  Compound\n",
              "0      \"No side effects,  easy to take, no more sympt...  ...    0.1779\n",
              "1      \"I&#039;ve been taking this medicine for a lit...  ...   -0.4092\n",
              "2      \"I took ibuprofen (2 caps at night for severe ...  ...   -0.8176\n",
              "3      \"After my VAD Stroke I am on plavix.  I have a...  ...    0.6757\n",
              "4      \"No side effects,  easy to take, no more sympt...  ...    0.1779\n",
              "...                                                  ...  ...       ...\n",
              "10055  \"Reminds me of Adderall but only a natural way...  ...    0.5023\n",
              "10056  \"My husband has Vascular Dementia for appox. 4...  ...    0.3272\n",
              "10057  \"I&#039;ve only been using this medication (pa...  ...   -0.1531\n",
              "10058                               \"Makes me feel ill.\"  ...   -0.4215\n",
              "10059  \"Trouble sleeping,stomach pain,headache,consti...  ...   -0.4019\n",
              "\n",
              "[10060 rows x 5 columns]"
            ]
          },
          "metadata": {
            "tags": []
          },
          "execution_count": 161
        }
      ]
    },
    {
      "cell_type": "code",
      "metadata": {
        "id": "WMj22cwVK2il",
        "colab_type": "code",
        "outputId": "5a0f3c2e-a65a-4313-91f2-33c364641f75",
        "colab": {
          "base_uri": "https://localhost:8080/",
          "height": 404
        }
      },
      "source": [
        "merged_data"
      ],
      "execution_count": 162,
      "outputs": [
        {
          "output_type": "execute_result",
          "data": {
            "text/html": [
              "<div>\n",
              "<style scoped>\n",
              "    .dataframe tbody tr th:only-of-type {\n",
              "        vertical-align: middle;\n",
              "    }\n",
              "\n",
              "    .dataframe tbody tr th {\n",
              "        vertical-align: top;\n",
              "    }\n",
              "\n",
              "    .dataframe thead th {\n",
              "        text-align: right;\n",
              "    }\n",
              "</style>\n",
              "<table border=\"1\" class=\"dataframe\">\n",
              "  <thead>\n",
              "    <tr style=\"text-align: right;\">\n",
              "      <th></th>\n",
              "      <th>Drug</th>\n",
              "      <th>Disease</th>\n",
              "      <th>Review</th>\n",
              "      <th>Rating</th>\n",
              "      <th>UsefulCount</th>\n",
              "      <th>Symptoms</th>\n",
              "    </tr>\n",
              "  </thead>\n",
              "  <tbody>\n",
              "    <tr>\n",
              "      <th>0</th>\n",
              "      <td>Aspirin</td>\n",
              "      <td>transient ischemic attack</td>\n",
              "      <td>\"No side effects,  easy to take, no more sympt...</td>\n",
              "      <td>10</td>\n",
              "      <td>10</td>\n",
              "      <td>['speech slurred', 'dysarthria', 'facial pares...</td>\n",
              "    </tr>\n",
              "    <tr>\n",
              "      <th>1</th>\n",
              "      <td>Clopidogrel</td>\n",
              "      <td>transient ischemic attack</td>\n",
              "      <td>\"I&amp;#039;ve been taking this medicine for a lit...</td>\n",
              "      <td>10</td>\n",
              "      <td>8</td>\n",
              "      <td>['speech slurred', 'dysarthria', 'facial pares...</td>\n",
              "    </tr>\n",
              "    <tr>\n",
              "      <th>2</th>\n",
              "      <td>Clopidogrel</td>\n",
              "      <td>transient ischemic attack</td>\n",
              "      <td>\"I took ibuprofen (2 caps at night for severe ...</td>\n",
              "      <td>6</td>\n",
              "      <td>13</td>\n",
              "      <td>['speech slurred', 'dysarthria', 'facial pares...</td>\n",
              "    </tr>\n",
              "    <tr>\n",
              "      <th>3</th>\n",
              "      <td>Clopidogrel</td>\n",
              "      <td>transient ischemic attack</td>\n",
              "      <td>\"After my VAD Stroke I am on plavix.  I have a...</td>\n",
              "      <td>5</td>\n",
              "      <td>9</td>\n",
              "      <td>['speech slurred', 'dysarthria', 'facial pares...</td>\n",
              "    </tr>\n",
              "    <tr>\n",
              "      <th>4</th>\n",
              "      <td>Bayer Children's Aspirin</td>\n",
              "      <td>transient ischemic attack</td>\n",
              "      <td>\"No side effects,  easy to take, no more sympt...</td>\n",
              "      <td>10</td>\n",
              "      <td>10</td>\n",
              "      <td>['speech slurred', 'dysarthria', 'facial pares...</td>\n",
              "    </tr>\n",
              "    <tr>\n",
              "      <th>...</th>\n",
              "      <td>...</td>\n",
              "      <td>...</td>\n",
              "      <td>...</td>\n",
              "      <td>...</td>\n",
              "      <td>...</td>\n",
              "      <td>...</td>\n",
              "    </tr>\n",
              "    <tr>\n",
              "      <th>10055</th>\n",
              "      <td>Galantamine</td>\n",
              "      <td>alzheimer's disease</td>\n",
              "      <td>\"Reminds me of Adderall but only a natural way...</td>\n",
              "      <td>10</td>\n",
              "      <td>7</td>\n",
              "      <td>['drool', 'agitation', 'nightmare', 'rhonchus'...</td>\n",
              "    </tr>\n",
              "    <tr>\n",
              "      <th>10056</th>\n",
              "      <td>Memantine</td>\n",
              "      <td>alzheimer's disease</td>\n",
              "      <td>\"My husband has Vascular Dementia for appox. 4...</td>\n",
              "      <td>1</td>\n",
              "      <td>11</td>\n",
              "      <td>['drool', 'agitation', 'nightmare', 'rhonchus'...</td>\n",
              "    </tr>\n",
              "    <tr>\n",
              "      <th>10057</th>\n",
              "      <td>Exelon</td>\n",
              "      <td>alzheimer's disease</td>\n",
              "      <td>\"I&amp;#039;ve only been using this medication (pa...</td>\n",
              "      <td>9</td>\n",
              "      <td>100</td>\n",
              "      <td>['drool', 'agitation', 'nightmare', 'rhonchus'...</td>\n",
              "    </tr>\n",
              "    <tr>\n",
              "      <th>10058</th>\n",
              "      <td>Donepezil</td>\n",
              "      <td>alzheimer's disease</td>\n",
              "      <td>\"Makes me feel ill.\"</td>\n",
              "      <td>3</td>\n",
              "      <td>2</td>\n",
              "      <td>['drool', 'agitation', 'nightmare', 'rhonchus'...</td>\n",
              "    </tr>\n",
              "    <tr>\n",
              "      <th>10059</th>\n",
              "      <td>Aricept</td>\n",
              "      <td>alzheimer's disease</td>\n",
              "      <td>\"Trouble sleeping,stomach pain,headache,consti...</td>\n",
              "      <td>1</td>\n",
              "      <td>47</td>\n",
              "      <td>['drool', 'agitation', 'nightmare', 'rhonchus'...</td>\n",
              "    </tr>\n",
              "  </tbody>\n",
              "</table>\n",
              "<p>10060 rows × 6 columns</p>\n",
              "</div>"
            ],
            "text/plain": [
              "                           Drug  ...                                           Symptoms\n",
              "0                       Aspirin  ...  ['speech slurred', 'dysarthria', 'facial pares...\n",
              "1                   Clopidogrel  ...  ['speech slurred', 'dysarthria', 'facial pares...\n",
              "2                   Clopidogrel  ...  ['speech slurred', 'dysarthria', 'facial pares...\n",
              "3                   Clopidogrel  ...  ['speech slurred', 'dysarthria', 'facial pares...\n",
              "4      Bayer Children's Aspirin  ...  ['speech slurred', 'dysarthria', 'facial pares...\n",
              "...                         ...  ...                                                ...\n",
              "10055               Galantamine  ...  ['drool', 'agitation', 'nightmare', 'rhonchus'...\n",
              "10056                 Memantine  ...  ['drool', 'agitation', 'nightmare', 'rhonchus'...\n",
              "10057                    Exelon  ...  ['drool', 'agitation', 'nightmare', 'rhonchus'...\n",
              "10058                 Donepezil  ...  ['drool', 'agitation', 'nightmare', 'rhonchus'...\n",
              "10059                   Aricept  ...  ['drool', 'agitation', 'nightmare', 'rhonchus'...\n",
              "\n",
              "[10060 rows x 6 columns]"
            ]
          },
          "metadata": {
            "tags": []
          },
          "execution_count": 162
        }
      ]
    },
    {
      "cell_type": "code",
      "metadata": {
        "id": "kf7jyIMpnacU",
        "colab_type": "code",
        "colab": {}
      },
      "source": [
        "#Adding the sentiment analysis columns to the merged dataset.\n",
        "merged_data[\"Positive\"] = positive\n",
        "merged_data[\"Negative\"] = negative\n",
        "merged_data[\"Neutral\"] = neutral\n",
        "merged_data[\"Compound\"] = compound\n",
        "merged_data[\"Review_Sentiment\"] = ''"
      ],
      "execution_count": 0,
      "outputs": []
    },
    {
      "cell_type": "code",
      "metadata": {
        "id": "lN_zXtlRLJUD",
        "colab_type": "code",
        "outputId": "7da2e465-b044-482f-c03c-2048da45e975",
        "colab": {
          "base_uri": "https://localhost:8080/",
          "height": 280
        }
      },
      "source": [
        "merged_data.head()"
      ],
      "execution_count": 164,
      "outputs": [
        {
          "output_type": "execute_result",
          "data": {
            "text/html": [
              "<div>\n",
              "<style scoped>\n",
              "    .dataframe tbody tr th:only-of-type {\n",
              "        vertical-align: middle;\n",
              "    }\n",
              "\n",
              "    .dataframe tbody tr th {\n",
              "        vertical-align: top;\n",
              "    }\n",
              "\n",
              "    .dataframe thead th {\n",
              "        text-align: right;\n",
              "    }\n",
              "</style>\n",
              "<table border=\"1\" class=\"dataframe\">\n",
              "  <thead>\n",
              "    <tr style=\"text-align: right;\">\n",
              "      <th></th>\n",
              "      <th>Drug</th>\n",
              "      <th>Disease</th>\n",
              "      <th>Review</th>\n",
              "      <th>Rating</th>\n",
              "      <th>UsefulCount</th>\n",
              "      <th>Symptoms</th>\n",
              "      <th>Positive</th>\n",
              "      <th>Negative</th>\n",
              "      <th>Neutral</th>\n",
              "      <th>Compound</th>\n",
              "      <th>Review_Sentiment</th>\n",
              "    </tr>\n",
              "  </thead>\n",
              "  <tbody>\n",
              "    <tr>\n",
              "      <th>0</th>\n",
              "      <td>Aspirin</td>\n",
              "      <td>transient ischemic attack</td>\n",
              "      <td>\"No side effects,  easy to take, no more sympt...</td>\n",
              "      <td>10</td>\n",
              "      <td>10</td>\n",
              "      <td>['speech slurred', 'dysarthria', 'facial pares...</td>\n",
              "      <td>0.206</td>\n",
              "      <td>0.156</td>\n",
              "      <td>0.638</td>\n",
              "      <td>0.1779</td>\n",
              "      <td></td>\n",
              "    </tr>\n",
              "    <tr>\n",
              "      <th>1</th>\n",
              "      <td>Clopidogrel</td>\n",
              "      <td>transient ischemic attack</td>\n",
              "      <td>\"I&amp;#039;ve been taking this medicine for a lit...</td>\n",
              "      <td>10</td>\n",
              "      <td>8</td>\n",
              "      <td>['speech slurred', 'dysarthria', 'facial pares...</td>\n",
              "      <td>0.098</td>\n",
              "      <td>0.140</td>\n",
              "      <td>0.762</td>\n",
              "      <td>-0.4092</td>\n",
              "      <td></td>\n",
              "    </tr>\n",
              "    <tr>\n",
              "      <th>2</th>\n",
              "      <td>Clopidogrel</td>\n",
              "      <td>transient ischemic attack</td>\n",
              "      <td>\"I took ibuprofen (2 caps at night for severe ...</td>\n",
              "      <td>6</td>\n",
              "      <td>13</td>\n",
              "      <td>['speech slurred', 'dysarthria', 'facial pares...</td>\n",
              "      <td>0.000</td>\n",
              "      <td>0.279</td>\n",
              "      <td>0.721</td>\n",
              "      <td>-0.8176</td>\n",
              "      <td></td>\n",
              "    </tr>\n",
              "    <tr>\n",
              "      <th>3</th>\n",
              "      <td>Clopidogrel</td>\n",
              "      <td>transient ischemic attack</td>\n",
              "      <td>\"After my VAD Stroke I am on plavix.  I have a...</td>\n",
              "      <td>5</td>\n",
              "      <td>9</td>\n",
              "      <td>['speech slurred', 'dysarthria', 'facial pares...</td>\n",
              "      <td>0.055</td>\n",
              "      <td>0.000</td>\n",
              "      <td>0.945</td>\n",
              "      <td>0.6757</td>\n",
              "      <td></td>\n",
              "    </tr>\n",
              "    <tr>\n",
              "      <th>4</th>\n",
              "      <td>Bayer Children's Aspirin</td>\n",
              "      <td>transient ischemic attack</td>\n",
              "      <td>\"No side effects,  easy to take, no more sympt...</td>\n",
              "      <td>10</td>\n",
              "      <td>10</td>\n",
              "      <td>['speech slurred', 'dysarthria', 'facial pares...</td>\n",
              "      <td>0.206</td>\n",
              "      <td>0.156</td>\n",
              "      <td>0.638</td>\n",
              "      <td>0.1779</td>\n",
              "      <td></td>\n",
              "    </tr>\n",
              "  </tbody>\n",
              "</table>\n",
              "</div>"
            ],
            "text/plain": [
              "                       Drug  ... Review_Sentiment\n",
              "0                   Aspirin  ...                 \n",
              "1               Clopidogrel  ...                 \n",
              "2               Clopidogrel  ...                 \n",
              "3               Clopidogrel  ...                 \n",
              "4  Bayer Children's Aspirin  ...                 \n",
              "\n",
              "[5 rows x 11 columns]"
            ]
          },
          "metadata": {
            "tags": []
          },
          "execution_count": 164
        }
      ]
    },
    {
      "cell_type": "markdown",
      "metadata": {
        "id": "EaCMvfLylipJ",
        "colab_type": "text"
      },
      "source": [
        "Based on the compound value we can determine whether the overall sentiment of the review is postive, negative or neutral.\n",
        "Below will be the threshold we shall be using for classifying the review sentiment class:\n",
        "1. Positive: compound score >= 0.05\n",
        "2. Neutral : -0.05 < compound score < 0.05\n",
        "3. Negative: compound score <= -0.05"
      ]
    },
    {
      "cell_type": "code",
      "metadata": {
        "id": "7k7vAlWjUsRf",
        "colab_type": "code",
        "colab": {}
      },
      "source": [
        "merged_data.loc[merged_data['Compound'] >= 0.05, 'Review_Sentiment'] = 'Positive'\n",
        "merged_data.loc[merged_data['Compound'] <= -0.05, 'Review_Sentiment'] = 'Negative'"
      ],
      "execution_count": 0,
      "outputs": []
    },
    {
      "cell_type": "code",
      "metadata": {
        "id": "uaVsUsIl6x7o",
        "colab_type": "code",
        "outputId": "d035a577-a2ee-493a-e02a-4ae0e81a55bb",
        "colab": {
          "base_uri": "https://localhost:8080/",
          "height": 655
        }
      },
      "source": [
        "merged_data"
      ],
      "execution_count": 166,
      "outputs": [
        {
          "output_type": "execute_result",
          "data": {
            "text/html": [
              "<div>\n",
              "<style scoped>\n",
              "    .dataframe tbody tr th:only-of-type {\n",
              "        vertical-align: middle;\n",
              "    }\n",
              "\n",
              "    .dataframe tbody tr th {\n",
              "        vertical-align: top;\n",
              "    }\n",
              "\n",
              "    .dataframe thead th {\n",
              "        text-align: right;\n",
              "    }\n",
              "</style>\n",
              "<table border=\"1\" class=\"dataframe\">\n",
              "  <thead>\n",
              "    <tr style=\"text-align: right;\">\n",
              "      <th></th>\n",
              "      <th>Drug</th>\n",
              "      <th>Disease</th>\n",
              "      <th>Review</th>\n",
              "      <th>Rating</th>\n",
              "      <th>UsefulCount</th>\n",
              "      <th>Symptoms</th>\n",
              "      <th>Positive</th>\n",
              "      <th>Negative</th>\n",
              "      <th>Neutral</th>\n",
              "      <th>Compound</th>\n",
              "      <th>Review_Sentiment</th>\n",
              "    </tr>\n",
              "  </thead>\n",
              "  <tbody>\n",
              "    <tr>\n",
              "      <th>0</th>\n",
              "      <td>Aspirin</td>\n",
              "      <td>transient ischemic attack</td>\n",
              "      <td>\"No side effects,  easy to take, no more sympt...</td>\n",
              "      <td>10</td>\n",
              "      <td>10</td>\n",
              "      <td>['speech slurred', 'dysarthria', 'facial pares...</td>\n",
              "      <td>0.206</td>\n",
              "      <td>0.156</td>\n",
              "      <td>0.638</td>\n",
              "      <td>0.1779</td>\n",
              "      <td>Positive</td>\n",
              "    </tr>\n",
              "    <tr>\n",
              "      <th>1</th>\n",
              "      <td>Clopidogrel</td>\n",
              "      <td>transient ischemic attack</td>\n",
              "      <td>\"I&amp;#039;ve been taking this medicine for a lit...</td>\n",
              "      <td>10</td>\n",
              "      <td>8</td>\n",
              "      <td>['speech slurred', 'dysarthria', 'facial pares...</td>\n",
              "      <td>0.098</td>\n",
              "      <td>0.140</td>\n",
              "      <td>0.762</td>\n",
              "      <td>-0.4092</td>\n",
              "      <td>Negative</td>\n",
              "    </tr>\n",
              "    <tr>\n",
              "      <th>2</th>\n",
              "      <td>Clopidogrel</td>\n",
              "      <td>transient ischemic attack</td>\n",
              "      <td>\"I took ibuprofen (2 caps at night for severe ...</td>\n",
              "      <td>6</td>\n",
              "      <td>13</td>\n",
              "      <td>['speech slurred', 'dysarthria', 'facial pares...</td>\n",
              "      <td>0.000</td>\n",
              "      <td>0.279</td>\n",
              "      <td>0.721</td>\n",
              "      <td>-0.8176</td>\n",
              "      <td>Negative</td>\n",
              "    </tr>\n",
              "    <tr>\n",
              "      <th>3</th>\n",
              "      <td>Clopidogrel</td>\n",
              "      <td>transient ischemic attack</td>\n",
              "      <td>\"After my VAD Stroke I am on plavix.  I have a...</td>\n",
              "      <td>5</td>\n",
              "      <td>9</td>\n",
              "      <td>['speech slurred', 'dysarthria', 'facial pares...</td>\n",
              "      <td>0.055</td>\n",
              "      <td>0.000</td>\n",
              "      <td>0.945</td>\n",
              "      <td>0.6757</td>\n",
              "      <td>Positive</td>\n",
              "    </tr>\n",
              "    <tr>\n",
              "      <th>4</th>\n",
              "      <td>Bayer Children's Aspirin</td>\n",
              "      <td>transient ischemic attack</td>\n",
              "      <td>\"No side effects,  easy to take, no more sympt...</td>\n",
              "      <td>10</td>\n",
              "      <td>10</td>\n",
              "      <td>['speech slurred', 'dysarthria', 'facial pares...</td>\n",
              "      <td>0.206</td>\n",
              "      <td>0.156</td>\n",
              "      <td>0.638</td>\n",
              "      <td>0.1779</td>\n",
              "      <td>Positive</td>\n",
              "    </tr>\n",
              "    <tr>\n",
              "      <th>...</th>\n",
              "      <td>...</td>\n",
              "      <td>...</td>\n",
              "      <td>...</td>\n",
              "      <td>...</td>\n",
              "      <td>...</td>\n",
              "      <td>...</td>\n",
              "      <td>...</td>\n",
              "      <td>...</td>\n",
              "      <td>...</td>\n",
              "      <td>...</td>\n",
              "      <td>...</td>\n",
              "    </tr>\n",
              "    <tr>\n",
              "      <th>10055</th>\n",
              "      <td>Galantamine</td>\n",
              "      <td>alzheimer's disease</td>\n",
              "      <td>\"Reminds me of Adderall but only a natural way...</td>\n",
              "      <td>10</td>\n",
              "      <td>7</td>\n",
              "      <td>['drool', 'agitation', 'nightmare', 'rhonchus'...</td>\n",
              "      <td>0.081</td>\n",
              "      <td>0.000</td>\n",
              "      <td>0.919</td>\n",
              "      <td>0.5023</td>\n",
              "      <td>Positive</td>\n",
              "    </tr>\n",
              "    <tr>\n",
              "      <th>10056</th>\n",
              "      <td>Memantine</td>\n",
              "      <td>alzheimer's disease</td>\n",
              "      <td>\"My husband has Vascular Dementia for appox. 4...</td>\n",
              "      <td>1</td>\n",
              "      <td>11</td>\n",
              "      <td>['drool', 'agitation', 'nightmare', 'rhonchus'...</td>\n",
              "      <td>0.177</td>\n",
              "      <td>0.149</td>\n",
              "      <td>0.674</td>\n",
              "      <td>0.3272</td>\n",
              "      <td>Positive</td>\n",
              "    </tr>\n",
              "    <tr>\n",
              "      <th>10057</th>\n",
              "      <td>Exelon</td>\n",
              "      <td>alzheimer's disease</td>\n",
              "      <td>\"I&amp;#039;ve only been using this medication (pa...</td>\n",
              "      <td>9</td>\n",
              "      <td>100</td>\n",
              "      <td>['drool', 'agitation', 'nightmare', 'rhonchus'...</td>\n",
              "      <td>0.164</td>\n",
              "      <td>0.198</td>\n",
              "      <td>0.638</td>\n",
              "      <td>-0.1531</td>\n",
              "      <td>Negative</td>\n",
              "    </tr>\n",
              "    <tr>\n",
              "      <th>10058</th>\n",
              "      <td>Donepezil</td>\n",
              "      <td>alzheimer's disease</td>\n",
              "      <td>\"Makes me feel ill.\"</td>\n",
              "      <td>3</td>\n",
              "      <td>2</td>\n",
              "      <td>['drool', 'agitation', 'nightmare', 'rhonchus'...</td>\n",
              "      <td>0.000</td>\n",
              "      <td>0.483</td>\n",
              "      <td>0.517</td>\n",
              "      <td>-0.4215</td>\n",
              "      <td>Negative</td>\n",
              "    </tr>\n",
              "    <tr>\n",
              "      <th>10059</th>\n",
              "      <td>Aricept</td>\n",
              "      <td>alzheimer's disease</td>\n",
              "      <td>\"Trouble sleeping,stomach pain,headache,consti...</td>\n",
              "      <td>1</td>\n",
              "      <td>47</td>\n",
              "      <td>['drool', 'agitation', 'nightmare', 'rhonchus'...</td>\n",
              "      <td>0.000</td>\n",
              "      <td>0.574</td>\n",
              "      <td>0.426</td>\n",
              "      <td>-0.4019</td>\n",
              "      <td>Negative</td>\n",
              "    </tr>\n",
              "  </tbody>\n",
              "</table>\n",
              "<p>10060 rows × 11 columns</p>\n",
              "</div>"
            ],
            "text/plain": [
              "                           Drug  ... Review_Sentiment\n",
              "0                       Aspirin  ...         Positive\n",
              "1                   Clopidogrel  ...         Negative\n",
              "2                   Clopidogrel  ...         Negative\n",
              "3                   Clopidogrel  ...         Positive\n",
              "4      Bayer Children's Aspirin  ...         Positive\n",
              "...                         ...  ...              ...\n",
              "10055               Galantamine  ...         Positive\n",
              "10056                 Memantine  ...         Positive\n",
              "10057                    Exelon  ...         Negative\n",
              "10058                 Donepezil  ...         Negative\n",
              "10059                   Aricept  ...         Negative\n",
              "\n",
              "[10060 rows x 11 columns]"
            ]
          },
          "metadata": {
            "tags": []
          },
          "execution_count": 166
        }
      ]
    },
    {
      "cell_type": "code",
      "metadata": {
        "id": "yrzfs7847DXu",
        "colab_type": "code",
        "colab": {}
      },
      "source": [
        "merged_data[\"Review_Sentiment\"].replace('', 'Neutral', inplace = True)"
      ],
      "execution_count": 0,
      "outputs": []
    },
    {
      "cell_type": "code",
      "metadata": {
        "id": "4i-D6XaGCjfI",
        "colab_type": "code",
        "colab": {}
      },
      "source": [
        "#Dropping positive, negative, neutral and compound columns.\n",
        "merged_data = merged_data.drop(columns = [\"Positive\", \"Negative\", \"Neutral\", \"Compound\"])"
      ],
      "execution_count": 0,
      "outputs": []
    },
    {
      "cell_type": "code",
      "metadata": {
        "id": "_MceMoY4Cp_v",
        "colab_type": "code",
        "outputId": "4b41f736-1aef-4b3e-bb5f-40ab4c5b893c",
        "colab": {
          "base_uri": "https://localhost:8080/",
          "height": 33
        }
      },
      "source": [
        "merged_data.shape"
      ],
      "execution_count": 169,
      "outputs": [
        {
          "output_type": "execute_result",
          "data": {
            "text/plain": [
              "(10060, 7)"
            ]
          },
          "metadata": {
            "tags": []
          },
          "execution_count": 169
        }
      ]
    },
    {
      "cell_type": "code",
      "metadata": {
        "id": "sR1pW0_YEr_M",
        "colab_type": "code",
        "outputId": "53bc0b54-1b93-4337-9cbb-df3c6aed7388",
        "colab": {
          "base_uri": "https://localhost:8080/",
          "height": 196
        }
      },
      "source": [
        "merged_data.head()"
      ],
      "execution_count": 170,
      "outputs": [
        {
          "output_type": "execute_result",
          "data": {
            "text/html": [
              "<div>\n",
              "<style scoped>\n",
              "    .dataframe tbody tr th:only-of-type {\n",
              "        vertical-align: middle;\n",
              "    }\n",
              "\n",
              "    .dataframe tbody tr th {\n",
              "        vertical-align: top;\n",
              "    }\n",
              "\n",
              "    .dataframe thead th {\n",
              "        text-align: right;\n",
              "    }\n",
              "</style>\n",
              "<table border=\"1\" class=\"dataframe\">\n",
              "  <thead>\n",
              "    <tr style=\"text-align: right;\">\n",
              "      <th></th>\n",
              "      <th>Drug</th>\n",
              "      <th>Disease</th>\n",
              "      <th>Review</th>\n",
              "      <th>Rating</th>\n",
              "      <th>UsefulCount</th>\n",
              "      <th>Symptoms</th>\n",
              "      <th>Review_Sentiment</th>\n",
              "    </tr>\n",
              "  </thead>\n",
              "  <tbody>\n",
              "    <tr>\n",
              "      <th>0</th>\n",
              "      <td>Aspirin</td>\n",
              "      <td>transient ischemic attack</td>\n",
              "      <td>\"No side effects,  easy to take, no more sympt...</td>\n",
              "      <td>10</td>\n",
              "      <td>10</td>\n",
              "      <td>['speech slurred', 'dysarthria', 'facial pares...</td>\n",
              "      <td>Positive</td>\n",
              "    </tr>\n",
              "    <tr>\n",
              "      <th>1</th>\n",
              "      <td>Clopidogrel</td>\n",
              "      <td>transient ischemic attack</td>\n",
              "      <td>\"I&amp;#039;ve been taking this medicine for a lit...</td>\n",
              "      <td>10</td>\n",
              "      <td>8</td>\n",
              "      <td>['speech slurred', 'dysarthria', 'facial pares...</td>\n",
              "      <td>Negative</td>\n",
              "    </tr>\n",
              "    <tr>\n",
              "      <th>2</th>\n",
              "      <td>Clopidogrel</td>\n",
              "      <td>transient ischemic attack</td>\n",
              "      <td>\"I took ibuprofen (2 caps at night for severe ...</td>\n",
              "      <td>6</td>\n",
              "      <td>13</td>\n",
              "      <td>['speech slurred', 'dysarthria', 'facial pares...</td>\n",
              "      <td>Negative</td>\n",
              "    </tr>\n",
              "    <tr>\n",
              "      <th>3</th>\n",
              "      <td>Clopidogrel</td>\n",
              "      <td>transient ischemic attack</td>\n",
              "      <td>\"After my VAD Stroke I am on plavix.  I have a...</td>\n",
              "      <td>5</td>\n",
              "      <td>9</td>\n",
              "      <td>['speech slurred', 'dysarthria', 'facial pares...</td>\n",
              "      <td>Positive</td>\n",
              "    </tr>\n",
              "    <tr>\n",
              "      <th>4</th>\n",
              "      <td>Bayer Children's Aspirin</td>\n",
              "      <td>transient ischemic attack</td>\n",
              "      <td>\"No side effects,  easy to take, no more sympt...</td>\n",
              "      <td>10</td>\n",
              "      <td>10</td>\n",
              "      <td>['speech slurred', 'dysarthria', 'facial pares...</td>\n",
              "      <td>Positive</td>\n",
              "    </tr>\n",
              "  </tbody>\n",
              "</table>\n",
              "</div>"
            ],
            "text/plain": [
              "                       Drug  ... Review_Sentiment\n",
              "0                   Aspirin  ...         Positive\n",
              "1               Clopidogrel  ...         Negative\n",
              "2               Clopidogrel  ...         Negative\n",
              "3               Clopidogrel  ...         Positive\n",
              "4  Bayer Children's Aspirin  ...         Positive\n",
              "\n",
              "[5 rows x 7 columns]"
            ]
          },
          "metadata": {
            "tags": []
          },
          "execution_count": 170
        }
      ]
    },
    {
      "cell_type": "code",
      "metadata": {
        "id": "cjNtob87MVZx",
        "colab_type": "code",
        "colab": {}
      },
      "source": [
        "merged_data = merged_data[[\"Disease\", \"Drug\", \"Symptoms\", \"Review\", \"Review_Sentiment\", \"Rating\", \"UsefulCount\"]]"
      ],
      "execution_count": 0,
      "outputs": []
    },
    {
      "cell_type": "code",
      "metadata": {
        "id": "vc11jNaCNAx1",
        "colab_type": "code",
        "outputId": "bd9d80ad-ad6e-41c8-dfed-188175220ccb",
        "colab": {
          "base_uri": "https://localhost:8080/",
          "height": 572
        }
      },
      "source": [
        "merged_data"
      ],
      "execution_count": 172,
      "outputs": [
        {
          "output_type": "execute_result",
          "data": {
            "text/html": [
              "<div>\n",
              "<style scoped>\n",
              "    .dataframe tbody tr th:only-of-type {\n",
              "        vertical-align: middle;\n",
              "    }\n",
              "\n",
              "    .dataframe tbody tr th {\n",
              "        vertical-align: top;\n",
              "    }\n",
              "\n",
              "    .dataframe thead th {\n",
              "        text-align: right;\n",
              "    }\n",
              "</style>\n",
              "<table border=\"1\" class=\"dataframe\">\n",
              "  <thead>\n",
              "    <tr style=\"text-align: right;\">\n",
              "      <th></th>\n",
              "      <th>Disease</th>\n",
              "      <th>Drug</th>\n",
              "      <th>Symptoms</th>\n",
              "      <th>Review</th>\n",
              "      <th>Review_Sentiment</th>\n",
              "      <th>Rating</th>\n",
              "      <th>UsefulCount</th>\n",
              "    </tr>\n",
              "  </thead>\n",
              "  <tbody>\n",
              "    <tr>\n",
              "      <th>0</th>\n",
              "      <td>transient ischemic attack</td>\n",
              "      <td>Aspirin</td>\n",
              "      <td>['speech slurred', 'dysarthria', 'facial pares...</td>\n",
              "      <td>\"No side effects,  easy to take, no more sympt...</td>\n",
              "      <td>Positive</td>\n",
              "      <td>10</td>\n",
              "      <td>10</td>\n",
              "    </tr>\n",
              "    <tr>\n",
              "      <th>1</th>\n",
              "      <td>transient ischemic attack</td>\n",
              "      <td>Clopidogrel</td>\n",
              "      <td>['speech slurred', 'dysarthria', 'facial pares...</td>\n",
              "      <td>\"I&amp;#039;ve been taking this medicine for a lit...</td>\n",
              "      <td>Negative</td>\n",
              "      <td>10</td>\n",
              "      <td>8</td>\n",
              "    </tr>\n",
              "    <tr>\n",
              "      <th>2</th>\n",
              "      <td>transient ischemic attack</td>\n",
              "      <td>Clopidogrel</td>\n",
              "      <td>['speech slurred', 'dysarthria', 'facial pares...</td>\n",
              "      <td>\"I took ibuprofen (2 caps at night for severe ...</td>\n",
              "      <td>Negative</td>\n",
              "      <td>6</td>\n",
              "      <td>13</td>\n",
              "    </tr>\n",
              "    <tr>\n",
              "      <th>3</th>\n",
              "      <td>transient ischemic attack</td>\n",
              "      <td>Clopidogrel</td>\n",
              "      <td>['speech slurred', 'dysarthria', 'facial pares...</td>\n",
              "      <td>\"After my VAD Stroke I am on plavix.  I have a...</td>\n",
              "      <td>Positive</td>\n",
              "      <td>5</td>\n",
              "      <td>9</td>\n",
              "    </tr>\n",
              "    <tr>\n",
              "      <th>4</th>\n",
              "      <td>transient ischemic attack</td>\n",
              "      <td>Bayer Children's Aspirin</td>\n",
              "      <td>['speech slurred', 'dysarthria', 'facial pares...</td>\n",
              "      <td>\"No side effects,  easy to take, no more sympt...</td>\n",
              "      <td>Positive</td>\n",
              "      <td>10</td>\n",
              "      <td>10</td>\n",
              "    </tr>\n",
              "    <tr>\n",
              "      <th>...</th>\n",
              "      <td>...</td>\n",
              "      <td>...</td>\n",
              "      <td>...</td>\n",
              "      <td>...</td>\n",
              "      <td>...</td>\n",
              "      <td>...</td>\n",
              "      <td>...</td>\n",
              "    </tr>\n",
              "    <tr>\n",
              "      <th>10055</th>\n",
              "      <td>alzheimer's disease</td>\n",
              "      <td>Galantamine</td>\n",
              "      <td>['drool', 'agitation', 'nightmare', 'rhonchus'...</td>\n",
              "      <td>\"Reminds me of Adderall but only a natural way...</td>\n",
              "      <td>Positive</td>\n",
              "      <td>10</td>\n",
              "      <td>7</td>\n",
              "    </tr>\n",
              "    <tr>\n",
              "      <th>10056</th>\n",
              "      <td>alzheimer's disease</td>\n",
              "      <td>Memantine</td>\n",
              "      <td>['drool', 'agitation', 'nightmare', 'rhonchus'...</td>\n",
              "      <td>\"My husband has Vascular Dementia for appox. 4...</td>\n",
              "      <td>Positive</td>\n",
              "      <td>1</td>\n",
              "      <td>11</td>\n",
              "    </tr>\n",
              "    <tr>\n",
              "      <th>10057</th>\n",
              "      <td>alzheimer's disease</td>\n",
              "      <td>Exelon</td>\n",
              "      <td>['drool', 'agitation', 'nightmare', 'rhonchus'...</td>\n",
              "      <td>\"I&amp;#039;ve only been using this medication (pa...</td>\n",
              "      <td>Negative</td>\n",
              "      <td>9</td>\n",
              "      <td>100</td>\n",
              "    </tr>\n",
              "    <tr>\n",
              "      <th>10058</th>\n",
              "      <td>alzheimer's disease</td>\n",
              "      <td>Donepezil</td>\n",
              "      <td>['drool', 'agitation', 'nightmare', 'rhonchus'...</td>\n",
              "      <td>\"Makes me feel ill.\"</td>\n",
              "      <td>Negative</td>\n",
              "      <td>3</td>\n",
              "      <td>2</td>\n",
              "    </tr>\n",
              "    <tr>\n",
              "      <th>10059</th>\n",
              "      <td>alzheimer's disease</td>\n",
              "      <td>Aricept</td>\n",
              "      <td>['drool', 'agitation', 'nightmare', 'rhonchus'...</td>\n",
              "      <td>\"Trouble sleeping,stomach pain,headache,consti...</td>\n",
              "      <td>Negative</td>\n",
              "      <td>1</td>\n",
              "      <td>47</td>\n",
              "    </tr>\n",
              "  </tbody>\n",
              "</table>\n",
              "<p>10060 rows × 7 columns</p>\n",
              "</div>"
            ],
            "text/plain": [
              "                         Disease                      Drug  ... Rating UsefulCount\n",
              "0      transient ischemic attack                   Aspirin  ...     10          10\n",
              "1      transient ischemic attack               Clopidogrel  ...     10           8\n",
              "2      transient ischemic attack               Clopidogrel  ...      6          13\n",
              "3      transient ischemic attack               Clopidogrel  ...      5           9\n",
              "4      transient ischemic attack  Bayer Children's Aspirin  ...     10          10\n",
              "...                          ...                       ...  ...    ...         ...\n",
              "10055        alzheimer's disease               Galantamine  ...     10           7\n",
              "10056        alzheimer's disease                 Memantine  ...      1          11\n",
              "10057        alzheimer's disease                    Exelon  ...      9         100\n",
              "10058        alzheimer's disease                 Donepezil  ...      3           2\n",
              "10059        alzheimer's disease                   Aricept  ...      1          47\n",
              "\n",
              "[10060 rows x 7 columns]"
            ]
          },
          "metadata": {
            "tags": []
          },
          "execution_count": 172
        }
      ]
    },
    {
      "cell_type": "code",
      "metadata": {
        "id": "Jpczt3CaE5Bl",
        "colab_type": "code",
        "colab": {
          "base_uri": "https://localhost:8080/",
          "height": 513
        },
        "outputId": "c94d8f7a-a470-4fe3-b6e1-48eab6e9b217"
      },
      "source": [
        "import matplotlib.pyplot as plt\n",
        "import seaborn as sns\n",
        "\n",
        "# Plotting the sentiment column unique value and their counts.\n",
        "sentiment_values = merged_data['Review_Sentiment'].unique()\n",
        "\n",
        "senti = pd.DataFrame({'Sentiment':sentiment_values, 'Count': merged_data['Review_Sentiment'].value_counts()})\n",
        "senti.plot.bar(x='Sentiment', y='Count', rot=0, figsize=(12,8))"
      ],
      "execution_count": 173,
      "outputs": [
        {
          "output_type": "execute_result",
          "data": {
            "text/plain": [
              "<matplotlib.axes._subplots.AxesSubplot at 0x7f6fd1fd72b0>"
            ]
          },
          "metadata": {
            "tags": []
          },
          "execution_count": 173
        },
        {
          "output_type": "display_data",
          "data": {
            "image/png": "[encoded data removed]",
            "text/plain": [
              "<Figure size 864x576 with 1 Axes>"
            ]
          },
          "metadata": {
            "tags": [],
            "needs_background": "light"
          }
        }
      ]
    },
    {
      "cell_type": "code",
      "metadata": {
        "id": "e9j6ekMUMrJb",
        "colab_type": "code",
        "colab": {}
      },
      "source": [
        "#Exporting data to csv.\n",
        "merged_data.to_csv(r'drive/My Drive/gtdt/Drug_Recommender.csv', index=False)"
      ],
      "execution_count": 0,
      "outputs": []
    },
    {
      "cell_type": "markdown",
      "metadata": {
        "id": "pzADQczNWwd3",
        "colab_type": "text"
      },
      "source": [
        "**Weighted average of rating and useful count**"
      ]
    },
    {
      "cell_type": "code",
      "metadata": {
        "id": "NId5RMJ1S3Bl",
        "colab_type": "code",
        "colab": {}
      },
      "source": [
        "data = pd.read_csv('drive/My Drive/gtdt/Drug_Recommender.csv')"
      ],
      "execution_count": 0,
      "outputs": []
    },
    {
      "cell_type": "code",
      "metadata": {
        "id": "x2kk_fKWT4Qg",
        "colab_type": "code",
        "outputId": "2b59786f-9a6c-481b-8588-587865ad4195",
        "colab": {
          "base_uri": "https://localhost:8080/",
          "height": 196
        }
      },
      "source": [
        "data.head()"
      ],
      "execution_count": 176,
      "outputs": [
        {
          "output_type": "execute_result",
          "data": {
            "text/html": [
              "<div>\n",
              "<style scoped>\n",
              "    .dataframe tbody tr th:only-of-type {\n",
              "        vertical-align: middle;\n",
              "    }\n",
              "\n",
              "    .dataframe tbody tr th {\n",
              "        vertical-align: top;\n",
              "    }\n",
              "\n",
              "    .dataframe thead th {\n",
              "        text-align: right;\n",
              "    }\n",
              "</style>\n",
              "<table border=\"1\" class=\"dataframe\">\n",
              "  <thead>\n",
              "    <tr style=\"text-align: right;\">\n",
              "      <th></th>\n",
              "      <th>Disease</th>\n",
              "      <th>Drug</th>\n",
              "      <th>Symptoms</th>\n",
              "      <th>Review</th>\n",
              "      <th>Review_Sentiment</th>\n",
              "      <th>Rating</th>\n",
              "      <th>UsefulCount</th>\n",
              "    </tr>\n",
              "  </thead>\n",
              "  <tbody>\n",
              "    <tr>\n",
              "      <th>0</th>\n",
              "      <td>transient ischemic attack</td>\n",
              "      <td>Aspirin</td>\n",
              "      <td>['speech slurred', 'dysarthria', 'facial pares...</td>\n",
              "      <td>\"No side effects,  easy to take, no more sympt...</td>\n",
              "      <td>Positive</td>\n",
              "      <td>10</td>\n",
              "      <td>10</td>\n",
              "    </tr>\n",
              "    <tr>\n",
              "      <th>1</th>\n",
              "      <td>transient ischemic attack</td>\n",
              "      <td>Clopidogrel</td>\n",
              "      <td>['speech slurred', 'dysarthria', 'facial pares...</td>\n",
              "      <td>\"I&amp;#039;ve been taking this medicine for a lit...</td>\n",
              "      <td>Negative</td>\n",
              "      <td>10</td>\n",
              "      <td>8</td>\n",
              "    </tr>\n",
              "    <tr>\n",
              "      <th>2</th>\n",
              "      <td>transient ischemic attack</td>\n",
              "      <td>Clopidogrel</td>\n",
              "      <td>['speech slurred', 'dysarthria', 'facial pares...</td>\n",
              "      <td>\"I took ibuprofen (2 caps at night for severe ...</td>\n",
              "      <td>Negative</td>\n",
              "      <td>6</td>\n",
              "      <td>13</td>\n",
              "    </tr>\n",
              "    <tr>\n",
              "      <th>3</th>\n",
              "      <td>transient ischemic attack</td>\n",
              "      <td>Clopidogrel</td>\n",
              "      <td>['speech slurred', 'dysarthria', 'facial pares...</td>\n",
              "      <td>\"After my VAD Stroke I am on plavix.  I have a...</td>\n",
              "      <td>Positive</td>\n",
              "      <td>5</td>\n",
              "      <td>9</td>\n",
              "    </tr>\n",
              "    <tr>\n",
              "      <th>4</th>\n",
              "      <td>transient ischemic attack</td>\n",
              "      <td>Bayer Children's Aspirin</td>\n",
              "      <td>['speech slurred', 'dysarthria', 'facial pares...</td>\n",
              "      <td>\"No side effects,  easy to take, no more sympt...</td>\n",
              "      <td>Positive</td>\n",
              "      <td>10</td>\n",
              "      <td>10</td>\n",
              "    </tr>\n",
              "  </tbody>\n",
              "</table>\n",
              "</div>"
            ],
            "text/plain": [
              "                     Disease                      Drug  ... Rating UsefulCount\n",
              "0  transient ischemic attack                   Aspirin  ...     10          10\n",
              "1  transient ischemic attack               Clopidogrel  ...     10           8\n",
              "2  transient ischemic attack               Clopidogrel  ...      6          13\n",
              "3  transient ischemic attack               Clopidogrel  ...      5           9\n",
              "4  transient ischemic attack  Bayer Children's Aspirin  ...     10          10\n",
              "\n",
              "[5 rows x 7 columns]"
            ]
          },
          "metadata": {
            "tags": []
          },
          "execution_count": 176
        }
      ]
    },
    {
      "cell_type": "code",
      "metadata": {
        "id": "GDJImQlyT6b1",
        "colab_type": "code",
        "colab": {}
      },
      "source": [
        "data = data.sort_values(['Drug'])"
      ],
      "execution_count": 0,
      "outputs": []
    },
    {
      "cell_type": "code",
      "metadata": {
        "id": "5pCVuf_vVQ3r",
        "colab_type": "code",
        "colab": {}
      },
      "source": [
        "def wavg(group, avg_name, weight_name):\n",
        "    d = group[avg_name]\n",
        "    w = group[weight_name]\n",
        "    try:\n",
        "        return (d * w).sum() / w.sum()\n",
        "    except ZeroDivisionError:\n",
        "        return d.mean()"
      ],
      "execution_count": 0,
      "outputs": []
    },
    {
      "cell_type": "code",
      "metadata": {
        "id": "aeGangHpVTIN",
        "colab_type": "code",
        "outputId": "d3777814-adc2-4c61-ff85-c195cd1ae74b",
        "colab": {
          "base_uri": "https://localhost:8080/",
          "height": 33
        }
      },
      "source": [
        "wavg(data, \"Rating\", \"UsefulCount\")"
      ],
      "execution_count": 179,
      "outputs": [
        {
          "output_type": "execute_result",
          "data": {
            "text/plain": [
              "7.856535504296699"
            ]
          },
          "metadata": {
            "tags": []
          },
          "execution_count": 179
        }
      ]
    },
    {
      "cell_type": "code",
      "metadata": {
        "id": "7a75MCUuVWur",
        "colab_type": "code",
        "outputId": "3c47ea65-8ec9-4a85-92dd-fcad44560e56",
        "colab": {
          "base_uri": "https://localhost:8080/",
          "height": 234
        }
      },
      "source": [
        "data.groupby([\"Disease\", \"Drug\"]).apply(wavg, \"Rating\", \"UsefulCount\")"
      ],
      "execution_count": 180,
      "outputs": [
        {
          "output_type": "execute_result",
          "data": {
            "text/plain": [
              "Disease                    Drug                    \n",
              "alzheimer's disease        Aricept                      5.807916\n",
              "                           Aricept ODT                  9.000000\n",
              "                           Donepezil                    5.503089\n",
              "                           Exelon                       7.526027\n",
              "                           Galantamine                  8.510638\n",
              "                                                         ...    \n",
              "schizophrenia              Zyprexa Zydis                6.304348\n",
              "transient ischemic attack  Aspirin                     10.000000\n",
              "                           Bayer Children's Aspirin    10.000000\n",
              "                           Clopidogrel                  6.766667\n",
              "                           Plavix                       5.000000\n",
              "Length: 403, dtype: float64"
            ]
          },
          "metadata": {
            "tags": []
          },
          "execution_count": 180
        }
      ]
    },
    {
      "cell_type": "code",
      "metadata": {
        "id": "GQ0VO6pVVtDJ",
        "colab_type": "code",
        "colab": {}
      },
      "source": [
        "data_wavg = data.groupby([\"Drug\"], as_index=False).apply(wavg, \"Rating\", \"UsefulCount\")"
      ],
      "execution_count": 0,
      "outputs": []
    },
    {
      "cell_type": "code",
      "metadata": {
        "id": "PhKGlFAvVvO8",
        "colab_type": "code",
        "colab": {}
      },
      "source": [
        "data_wavg = pd.DataFrame(data_wavg)\n",
        "data_wavg.columns = ['Rating_Wavg']"
      ],
      "execution_count": 0,
      "outputs": []
    },
    {
      "cell_type": "code",
      "metadata": {
        "id": "DXUF3TfPVw7p",
        "colab_type": "code",
        "outputId": "378524b8-0ea4-42f0-ab60-6bf035b34884",
        "colab": {
          "base_uri": "https://localhost:8080/",
          "height": 404
        }
      },
      "source": [
        "data_wavg"
      ],
      "execution_count": 183,
      "outputs": [
        {
          "output_type": "execute_result",
          "data": {
            "text/html": [
              "<div>\n",
              "<style scoped>\n",
              "    .dataframe tbody tr th:only-of-type {\n",
              "        vertical-align: middle;\n",
              "    }\n",
              "\n",
              "    .dataframe tbody tr th {\n",
              "        vertical-align: top;\n",
              "    }\n",
              "\n",
              "    .dataframe thead th {\n",
              "        text-align: right;\n",
              "    }\n",
              "</style>\n",
              "<table border=\"1\" class=\"dataframe\">\n",
              "  <thead>\n",
              "    <tr style=\"text-align: right;\">\n",
              "      <th></th>\n",
              "      <th>Rating_Wavg</th>\n",
              "    </tr>\n",
              "  </thead>\n",
              "  <tbody>\n",
              "    <tr>\n",
              "      <th>0</th>\n",
              "      <td>7.350122</td>\n",
              "    </tr>\n",
              "    <tr>\n",
              "      <th>1</th>\n",
              "      <td>8.714286</td>\n",
              "    </tr>\n",
              "    <tr>\n",
              "      <th>2</th>\n",
              "      <td>8.000000</td>\n",
              "    </tr>\n",
              "    <tr>\n",
              "      <th>3</th>\n",
              "      <td>10.000000</td>\n",
              "    </tr>\n",
              "    <tr>\n",
              "      <th>4</th>\n",
              "      <td>6.376068</td>\n",
              "    </tr>\n",
              "    <tr>\n",
              "      <th>...</th>\n",
              "      <td>...</td>\n",
              "    </tr>\n",
              "    <tr>\n",
              "      <th>355</th>\n",
              "      <td>10.000000</td>\n",
              "    </tr>\n",
              "    <tr>\n",
              "      <th>356</th>\n",
              "      <td>9.000000</td>\n",
              "    </tr>\n",
              "    <tr>\n",
              "      <th>357</th>\n",
              "      <td>7.338843</td>\n",
              "    </tr>\n",
              "    <tr>\n",
              "      <th>358</th>\n",
              "      <td>6.304348</td>\n",
              "    </tr>\n",
              "    <tr>\n",
              "      <th>359</th>\n",
              "      <td>9.655172</td>\n",
              "    </tr>\n",
              "  </tbody>\n",
              "</table>\n",
              "<p>360 rows × 1 columns</p>\n",
              "</div>"
            ],
            "text/plain": [
              "     Rating_Wavg\n",
              "0       7.350122\n",
              "1       8.714286\n",
              "2       8.000000\n",
              "3      10.000000\n",
              "4       6.376068\n",
              "..           ...\n",
              "355    10.000000\n",
              "356     9.000000\n",
              "357     7.338843\n",
              "358     6.304348\n",
              "359     9.655172\n",
              "\n",
              "[360 rows x 1 columns]"
            ]
          },
          "metadata": {
            "tags": []
          },
          "execution_count": 183
        }
      ]
    },
    {
      "cell_type": "code",
      "metadata": {
        "id": "pY1W6snTVz03",
        "colab_type": "code",
        "outputId": "7a744275-484b-416f-e064-a00b06ec4944",
        "colab": {
          "base_uri": "https://localhost:8080/",
          "height": 404
        }
      },
      "source": [
        "d1 = data['Drug'].unique().tolist()\n",
        "d1 = pd.DataFrame(d1)\n",
        "d1.columns = ['Drug']\n",
        "d1"
      ],
      "execution_count": 184,
      "outputs": [
        {
          "output_type": "execute_result",
          "data": {
            "text/html": [
              "<div>\n",
              "<style scoped>\n",
              "    .dataframe tbody tr th:only-of-type {\n",
              "        vertical-align: middle;\n",
              "    }\n",
              "\n",
              "    .dataframe tbody tr th {\n",
              "        vertical-align: top;\n",
              "    }\n",
              "\n",
              "    .dataframe thead th {\n",
              "        text-align: right;\n",
              "    }\n",
              "</style>\n",
              "<table border=\"1\" class=\"dataframe\">\n",
              "  <thead>\n",
              "    <tr style=\"text-align: right;\">\n",
              "      <th></th>\n",
              "      <th>Drug</th>\n",
              "    </tr>\n",
              "  </thead>\n",
              "  <tbody>\n",
              "    <tr>\n",
              "      <th>0</th>\n",
              "      <td>Abilify</td>\n",
              "    </tr>\n",
              "    <tr>\n",
              "      <th>1</th>\n",
              "      <td>Abilify Maintena</td>\n",
              "    </tr>\n",
              "    <tr>\n",
              "      <th>2</th>\n",
              "      <td>Acetaminophen / chlorpheniramine</td>\n",
              "    </tr>\n",
              "    <tr>\n",
              "      <th>3</th>\n",
              "      <td>Acetaminophen / phenyltoloxamine</td>\n",
              "    </tr>\n",
              "    <tr>\n",
              "      <th>4</th>\n",
              "      <td>Acetazolamide</td>\n",
              "    </tr>\n",
              "    <tr>\n",
              "      <th>...</th>\n",
              "      <td>...</td>\n",
              "    </tr>\n",
              "    <tr>\n",
              "      <th>355</th>\n",
              "      <td>Zurampic</td>\n",
              "    </tr>\n",
              "    <tr>\n",
              "      <th>356</th>\n",
              "      <td>Zyloprim</td>\n",
              "    </tr>\n",
              "    <tr>\n",
              "      <th>357</th>\n",
              "      <td>Zyprexa</td>\n",
              "    </tr>\n",
              "    <tr>\n",
              "      <th>358</th>\n",
              "      <td>Zyprexa Zydis</td>\n",
              "    </tr>\n",
              "    <tr>\n",
              "      <th>359</th>\n",
              "      <td>Zyvox</td>\n",
              "    </tr>\n",
              "  </tbody>\n",
              "</table>\n",
              "<p>360 rows × 1 columns</p>\n",
              "</div>"
            ],
            "text/plain": [
              "                                 Drug\n",
              "0                             Abilify\n",
              "1                    Abilify Maintena\n",
              "2    Acetaminophen / chlorpheniramine\n",
              "3    Acetaminophen / phenyltoloxamine\n",
              "4                       Acetazolamide\n",
              "..                                ...\n",
              "355                          Zurampic\n",
              "356                          Zyloprim\n",
              "357                           Zyprexa\n",
              "358                     Zyprexa Zydis\n",
              "359                             Zyvox\n",
              "\n",
              "[360 rows x 1 columns]"
            ]
          },
          "metadata": {
            "tags": []
          },
          "execution_count": 184
        }
      ]
    },
    {
      "cell_type": "code",
      "metadata": {
        "id": "PfmGZO63V2a8",
        "colab_type": "code",
        "outputId": "7b4fdcdc-7564-41f0-c9c3-85a95f7b9fb2",
        "colab": {
          "base_uri": "https://localhost:8080/",
          "height": 404
        }
      },
      "source": [
        "result = pd.concat([d1, data_wavg], axis=1, join='inner')\n",
        "result"
      ],
      "execution_count": 185,
      "outputs": [
        {
          "output_type": "execute_result",
          "data": {
            "text/html": [
              "<div>\n",
              "<style scoped>\n",
              "    .dataframe tbody tr th:only-of-type {\n",
              "        vertical-align: middle;\n",
              "    }\n",
              "\n",
              "    .dataframe tbody tr th {\n",
              "        vertical-align: top;\n",
              "    }\n",
              "\n",
              "    .dataframe thead th {\n",
              "        text-align: right;\n",
              "    }\n",
              "</style>\n",
              "<table border=\"1\" class=\"dataframe\">\n",
              "  <thead>\n",
              "    <tr style=\"text-align: right;\">\n",
              "      <th></th>\n",
              "      <th>Drug</th>\n",
              "      <th>Rating_Wavg</th>\n",
              "    </tr>\n",
              "  </thead>\n",
              "  <tbody>\n",
              "    <tr>\n",
              "      <th>0</th>\n",
              "      <td>Abilify</td>\n",
              "      <td>7.350122</td>\n",
              "    </tr>\n",
              "    <tr>\n",
              "      <th>1</th>\n",
              "      <td>Abilify Maintena</td>\n",
              "      <td>8.714286</td>\n",
              "    </tr>\n",
              "    <tr>\n",
              "      <th>2</th>\n",
              "      <td>Acetaminophen / chlorpheniramine</td>\n",
              "      <td>8.000000</td>\n",
              "    </tr>\n",
              "    <tr>\n",
              "      <th>3</th>\n",
              "      <td>Acetaminophen / phenyltoloxamine</td>\n",
              "      <td>10.000000</td>\n",
              "    </tr>\n",
              "    <tr>\n",
              "      <th>4</th>\n",
              "      <td>Acetazolamide</td>\n",
              "      <td>6.376068</td>\n",
              "    </tr>\n",
              "    <tr>\n",
              "      <th>...</th>\n",
              "      <td>...</td>\n",
              "      <td>...</td>\n",
              "    </tr>\n",
              "    <tr>\n",
              "      <th>355</th>\n",
              "      <td>Zurampic</td>\n",
              "      <td>10.000000</td>\n",
              "    </tr>\n",
              "    <tr>\n",
              "      <th>356</th>\n",
              "      <td>Zyloprim</td>\n",
              "      <td>9.000000</td>\n",
              "    </tr>\n",
              "    <tr>\n",
              "      <th>357</th>\n",
              "      <td>Zyprexa</td>\n",
              "      <td>7.338843</td>\n",
              "    </tr>\n",
              "    <tr>\n",
              "      <th>358</th>\n",
              "      <td>Zyprexa Zydis</td>\n",
              "      <td>6.304348</td>\n",
              "    </tr>\n",
              "    <tr>\n",
              "      <th>359</th>\n",
              "      <td>Zyvox</td>\n",
              "      <td>9.655172</td>\n",
              "    </tr>\n",
              "  </tbody>\n",
              "</table>\n",
              "<p>360 rows × 2 columns</p>\n",
              "</div>"
            ],
            "text/plain": [
              "                                 Drug  Rating_Wavg\n",
              "0                             Abilify     7.350122\n",
              "1                    Abilify Maintena     8.714286\n",
              "2    Acetaminophen / chlorpheniramine     8.000000\n",
              "3    Acetaminophen / phenyltoloxamine    10.000000\n",
              "4                       Acetazolamide     6.376068\n",
              "..                                ...          ...\n",
              "355                          Zurampic    10.000000\n",
              "356                          Zyloprim     9.000000\n",
              "357                           Zyprexa     7.338843\n",
              "358                     Zyprexa Zydis     6.304348\n",
              "359                             Zyvox     9.655172\n",
              "\n",
              "[360 rows x 2 columns]"
            ]
          },
          "metadata": {
            "tags": []
          },
          "execution_count": 185
        }
      ]
    },
    {
      "cell_type": "code",
      "metadata": {
        "id": "2rltsBr5V4k-",
        "colab_type": "code",
        "colab": {}
      },
      "source": [
        "merged_wavg = pd.merge(result, data, on='Drug')"
      ],
      "execution_count": 0,
      "outputs": []
    },
    {
      "cell_type": "code",
      "metadata": {
        "id": "epMAHF7SV78s",
        "colab_type": "code",
        "colab": {}
      },
      "source": [
        "merged_wavg.drop(columns=['Symptoms','Rating'], inplace=True)\n",
        "merged_wavg = merged_wavg[['Disease','Drug', 'Review', 'Review_Sentiment', 'Rating_Wavg', 'UsefulCount']]"
      ],
      "execution_count": 0,
      "outputs": []
    },
    {
      "cell_type": "code",
      "metadata": {
        "id": "gXANBHYpV_DL",
        "colab_type": "code",
        "outputId": "d0c4e343-ae03-4ec3-f9b5-e2bf4669e2a6",
        "colab": {
          "base_uri": "https://localhost:8080/",
          "height": 404
        }
      },
      "source": [
        "merged_wavg"
      ],
      "execution_count": 188,
      "outputs": [
        {
          "output_type": "execute_result",
          "data": {
            "text/html": [
              "<div>\n",
              "<style scoped>\n",
              "    .dataframe tbody tr th:only-of-type {\n",
              "        vertical-align: middle;\n",
              "    }\n",
              "\n",
              "    .dataframe tbody tr th {\n",
              "        vertical-align: top;\n",
              "    }\n",
              "\n",
              "    .dataframe thead th {\n",
              "        text-align: right;\n",
              "    }\n",
              "</style>\n",
              "<table border=\"1\" class=\"dataframe\">\n",
              "  <thead>\n",
              "    <tr style=\"text-align: right;\">\n",
              "      <th></th>\n",
              "      <th>Disease</th>\n",
              "      <th>Drug</th>\n",
              "      <th>Review</th>\n",
              "      <th>Review_Sentiment</th>\n",
              "      <th>Rating_Wavg</th>\n",
              "      <th>UsefulCount</th>\n",
              "    </tr>\n",
              "  </thead>\n",
              "  <tbody>\n",
              "    <tr>\n",
              "      <th>0</th>\n",
              "      <td>schizophrenia</td>\n",
              "      <td>Abilify</td>\n",
              "      <td>\"This medication has helped my son a great dea...</td>\n",
              "      <td>Positive</td>\n",
              "      <td>7.350122</td>\n",
              "      <td>40</td>\n",
              "    </tr>\n",
              "    <tr>\n",
              "      <th>1</th>\n",
              "      <td>schizophrenia</td>\n",
              "      <td>Abilify</td>\n",
              "      <td>\"This medication made me feel like my brain wa...</td>\n",
              "      <td>Negative</td>\n",
              "      <td>7.350122</td>\n",
              "      <td>10</td>\n",
              "    </tr>\n",
              "    <tr>\n",
              "      <th>2</th>\n",
              "      <td>schizophrenia</td>\n",
              "      <td>Abilify</td>\n",
              "      <td>\"I&amp;#039;ve used 5mg daily for three weeks. My ...</td>\n",
              "      <td>Positive</td>\n",
              "      <td>7.350122</td>\n",
              "      <td>30</td>\n",
              "    </tr>\n",
              "    <tr>\n",
              "      <th>3</th>\n",
              "      <td>schizophrenia</td>\n",
              "      <td>Abilify</td>\n",
              "      <td>\"Excellent medication! When I was first on Abi...</td>\n",
              "      <td>Negative</td>\n",
              "      <td>7.350122</td>\n",
              "      <td>11</td>\n",
              "    </tr>\n",
              "    <tr>\n",
              "      <th>4</th>\n",
              "      <td>schizophrenia</td>\n",
              "      <td>Abilify</td>\n",
              "      <td>\"I used to hear bad voices in my head,and thou...</td>\n",
              "      <td>Negative</td>\n",
              "      <td>7.350122</td>\n",
              "      <td>107</td>\n",
              "    </tr>\n",
              "    <tr>\n",
              "      <th>...</th>\n",
              "      <td>...</td>\n",
              "      <td>...</td>\n",
              "      <td>...</td>\n",
              "      <td>...</td>\n",
              "      <td>...</td>\n",
              "      <td>...</td>\n",
              "    </tr>\n",
              "    <tr>\n",
              "      <th>10055</th>\n",
              "      <td>schizophrenia</td>\n",
              "      <td>Zyprexa Zydis</td>\n",
              "      <td>\"Good for emergency situations. Versatile, qui...</td>\n",
              "      <td>Positive</td>\n",
              "      <td>6.304348</td>\n",
              "      <td>8</td>\n",
              "    </tr>\n",
              "    <tr>\n",
              "      <th>10056</th>\n",
              "      <td>schizophrenia</td>\n",
              "      <td>Zyprexa Zydis</td>\n",
              "      <td>\"Made me dizzy.\"</td>\n",
              "      <td>Negative</td>\n",
              "      <td>6.304348</td>\n",
              "      <td>4</td>\n",
              "    </tr>\n",
              "    <tr>\n",
              "      <th>10057</th>\n",
              "      <td>schizophrenia</td>\n",
              "      <td>Zyprexa Zydis</td>\n",
              "      <td>\"I like it that it dissolves in your mouth jus...</td>\n",
              "      <td>Positive</td>\n",
              "      <td>6.304348</td>\n",
              "      <td>11</td>\n",
              "    </tr>\n",
              "    <tr>\n",
              "      <th>10058</th>\n",
              "      <td>pneumonia</td>\n",
              "      <td>Zyvox</td>\n",
              "      <td>\"In February 2008 I fell ill to Influenza A an...</td>\n",
              "      <td>Positive</td>\n",
              "      <td>9.655172</td>\n",
              "      <td>38</td>\n",
              "    </tr>\n",
              "    <tr>\n",
              "      <th>10059</th>\n",
              "      <td>bacteremia</td>\n",
              "      <td>Zyvox</td>\n",
              "      <td>\"It cured my MRSA.\"</td>\n",
              "      <td>Neutral</td>\n",
              "      <td>9.655172</td>\n",
              "      <td>20</td>\n",
              "    </tr>\n",
              "  </tbody>\n",
              "</table>\n",
              "<p>10060 rows × 6 columns</p>\n",
              "</div>"
            ],
            "text/plain": [
              "             Disease           Drug  ... Rating_Wavg UsefulCount\n",
              "0      schizophrenia        Abilify  ...    7.350122          40\n",
              "1      schizophrenia        Abilify  ...    7.350122          10\n",
              "2      schizophrenia        Abilify  ...    7.350122          30\n",
              "3      schizophrenia        Abilify  ...    7.350122          11\n",
              "4      schizophrenia        Abilify  ...    7.350122         107\n",
              "...              ...            ...  ...         ...         ...\n",
              "10055  schizophrenia  Zyprexa Zydis  ...    6.304348           8\n",
              "10056  schizophrenia  Zyprexa Zydis  ...    6.304348           4\n",
              "10057  schizophrenia  Zyprexa Zydis  ...    6.304348          11\n",
              "10058      pneumonia          Zyvox  ...    9.655172          38\n",
              "10059     bacteremia          Zyvox  ...    9.655172          20\n",
              "\n",
              "[10060 rows x 6 columns]"
            ]
          },
          "metadata": {
            "tags": []
          },
          "execution_count": 188
        }
      ]
    },
    {
      "cell_type": "code",
      "metadata": {
        "id": "70sZ_fTpWAtz",
        "colab_type": "code",
        "outputId": "ca784bee-1dd7-4bea-8a7f-06c3e9e7ebbb",
        "colab": {
          "base_uri": "https://localhost:8080/",
          "height": 33
        }
      },
      "source": [
        "merged_wavg['Disease'].nunique()"
      ],
      "execution_count": 189,
      "outputs": [
        {
          "output_type": "execute_result",
          "data": {
            "text/plain": [
              "26"
            ]
          },
          "metadata": {
            "tags": []
          },
          "execution_count": 189
        }
      ]
    },
    {
      "cell_type": "code",
      "metadata": {
        "id": "FKSXliRkWDAX",
        "colab_type": "code",
        "outputId": "b8afd2d0-6ece-42c9-cc08-c5eb00d83516",
        "colab": {
          "base_uri": "https://localhost:8080/",
          "height": 404
        }
      },
      "source": [
        "merged_wavg = merged_wavg.sort_values(['Disease','Rating_Wavg'],ascending=False, ignore_index=True).groupby('Disease').head(10060)\n",
        "merged_wavg"
      ],
      "execution_count": 190,
      "outputs": [
        {
          "output_type": "execute_result",
          "data": {
            "text/html": [
              "<div>\n",
              "<style scoped>\n",
              "    .dataframe tbody tr th:only-of-type {\n",
              "        vertical-align: middle;\n",
              "    }\n",
              "\n",
              "    .dataframe tbody tr th {\n",
              "        vertical-align: top;\n",
              "    }\n",
              "\n",
              "    .dataframe thead th {\n",
              "        text-align: right;\n",
              "    }\n",
              "</style>\n",
              "<table border=\"1\" class=\"dataframe\">\n",
              "  <thead>\n",
              "    <tr style=\"text-align: right;\">\n",
              "      <th></th>\n",
              "      <th>Disease</th>\n",
              "      <th>Drug</th>\n",
              "      <th>Review</th>\n",
              "      <th>Review_Sentiment</th>\n",
              "      <th>Rating_Wavg</th>\n",
              "      <th>UsefulCount</th>\n",
              "    </tr>\n",
              "  </thead>\n",
              "  <tbody>\n",
              "    <tr>\n",
              "      <th>0</th>\n",
              "      <td>transient ischemic attack</td>\n",
              "      <td>Aspirin</td>\n",
              "      <td>\"No side effects,  easy to take, no more sympt...</td>\n",
              "      <td>Positive</td>\n",
              "      <td>10.000000</td>\n",
              "      <td>10</td>\n",
              "    </tr>\n",
              "    <tr>\n",
              "      <th>1</th>\n",
              "      <td>transient ischemic attack</td>\n",
              "      <td>Bayer Children's Aspirin</td>\n",
              "      <td>\"No side effects,  easy to take, no more sympt...</td>\n",
              "      <td>Positive</td>\n",
              "      <td>10.000000</td>\n",
              "      <td>10</td>\n",
              "    </tr>\n",
              "    <tr>\n",
              "      <th>2</th>\n",
              "      <td>transient ischemic attack</td>\n",
              "      <td>Clopidogrel</td>\n",
              "      <td>\"I&amp;#039;ve been taking this medicine for a lit...</td>\n",
              "      <td>Negative</td>\n",
              "      <td>6.766667</td>\n",
              "      <td>8</td>\n",
              "    </tr>\n",
              "    <tr>\n",
              "      <th>3</th>\n",
              "      <td>transient ischemic attack</td>\n",
              "      <td>Clopidogrel</td>\n",
              "      <td>\"I took ibuprofen (2 caps at night for severe ...</td>\n",
              "      <td>Negative</td>\n",
              "      <td>6.766667</td>\n",
              "      <td>13</td>\n",
              "    </tr>\n",
              "    <tr>\n",
              "      <th>4</th>\n",
              "      <td>transient ischemic attack</td>\n",
              "      <td>Clopidogrel</td>\n",
              "      <td>\"After my VAD Stroke I am on plavix.  I have a...</td>\n",
              "      <td>Positive</td>\n",
              "      <td>6.766667</td>\n",
              "      <td>9</td>\n",
              "    </tr>\n",
              "    <tr>\n",
              "      <th>...</th>\n",
              "      <td>...</td>\n",
              "      <td>...</td>\n",
              "      <td>...</td>\n",
              "      <td>...</td>\n",
              "      <td>...</td>\n",
              "      <td>...</td>\n",
              "    </tr>\n",
              "    <tr>\n",
              "      <th>10055</th>\n",
              "      <td>alzheimer's disease</td>\n",
              "      <td>Namenda</td>\n",
              "      <td>\"I have taken it for about 4-5 yes.  I feel ab...</td>\n",
              "      <td>Positive</td>\n",
              "      <td>4.100946</td>\n",
              "      <td>38</td>\n",
              "    </tr>\n",
              "    <tr>\n",
              "      <th>10056</th>\n",
              "      <td>alzheimer's disease</td>\n",
              "      <td>Namenda</td>\n",
              "      <td>\"My mother has been taking Namenda for Alzheim...</td>\n",
              "      <td>Negative</td>\n",
              "      <td>4.100946</td>\n",
              "      <td>120</td>\n",
              "    </tr>\n",
              "    <tr>\n",
              "      <th>10057</th>\n",
              "      <td>alzheimer's disease</td>\n",
              "      <td>Namenda</td>\n",
              "      <td>\"My mother has been treated with the Exelon (p...</td>\n",
              "      <td>Negative</td>\n",
              "      <td>4.100946</td>\n",
              "      <td>109</td>\n",
              "    </tr>\n",
              "    <tr>\n",
              "      <th>10058</th>\n",
              "      <td>alzheimer's disease</td>\n",
              "      <td>Namenda</td>\n",
              "      <td>\"My wife (74) has been taking Namenda since th...</td>\n",
              "      <td>Positive</td>\n",
              "      <td>4.100946</td>\n",
              "      <td>55</td>\n",
              "    </tr>\n",
              "    <tr>\n",
              "      <th>10059</th>\n",
              "      <td>alzheimer's disease</td>\n",
              "      <td>Namenda</td>\n",
              "      <td>\"My wife started with two a day in conjunction...</td>\n",
              "      <td>Negative</td>\n",
              "      <td>4.100946</td>\n",
              "      <td>55</td>\n",
              "    </tr>\n",
              "  </tbody>\n",
              "</table>\n",
              "<p>10060 rows × 6 columns</p>\n",
              "</div>"
            ],
            "text/plain": [
              "                         Disease  ... UsefulCount\n",
              "0      transient ischemic attack  ...          10\n",
              "1      transient ischemic attack  ...          10\n",
              "2      transient ischemic attack  ...           8\n",
              "3      transient ischemic attack  ...          13\n",
              "4      transient ischemic attack  ...           9\n",
              "...                          ...  ...         ...\n",
              "10055        alzheimer's disease  ...          38\n",
              "10056        alzheimer's disease  ...         120\n",
              "10057        alzheimer's disease  ...         109\n",
              "10058        alzheimer's disease  ...          55\n",
              "10059        alzheimer's disease  ...          55\n",
              "\n",
              "[10060 rows x 6 columns]"
            ]
          },
          "metadata": {
            "tags": []
          },
          "execution_count": 190
        }
      ]
    },
    {
      "cell_type": "code",
      "metadata": {
        "id": "mTAbcCMlWE27",
        "colab_type": "code",
        "outputId": "e5de496e-af69-4fc4-b654-dd35b08ee5c1",
        "colab": {
          "base_uri": "https://localhost:8080/",
          "height": 404
        }
      },
      "source": [
        "merged_wavg = merged_wavg.to_csv(\"/content/drive/My Drive/gtdt/Drug_Recommender.csv\", index=False)\n",
        "merged_wavg = pd.read_csv(\"/content/drive/My Drive/gtdt/Drug_Recommender.csv\")\n",
        "merged_wavg"
      ],
      "execution_count": 191,
      "outputs": [
        {
          "output_type": "execute_result",
          "data": {
            "text/html": [
              "<div>\n",
              "<style scoped>\n",
              "    .dataframe tbody tr th:only-of-type {\n",
              "        vertical-align: middle;\n",
              "    }\n",
              "\n",
              "    .dataframe tbody tr th {\n",
              "        vertical-align: top;\n",
              "    }\n",
              "\n",
              "    .dataframe thead th {\n",
              "        text-align: right;\n",
              "    }\n",
              "</style>\n",
              "<table border=\"1\" class=\"dataframe\">\n",
              "  <thead>\n",
              "    <tr style=\"text-align: right;\">\n",
              "      <th></th>\n",
              "      <th>Disease</th>\n",
              "      <th>Drug</th>\n",
              "      <th>Review</th>\n",
              "      <th>Review_Sentiment</th>\n",
              "      <th>Rating_Wavg</th>\n",
              "      <th>UsefulCount</th>\n",
              "    </tr>\n",
              "  </thead>\n",
              "  <tbody>\n",
              "    <tr>\n",
              "      <th>0</th>\n",
              "      <td>transient ischemic attack</td>\n",
              "      <td>Aspirin</td>\n",
              "      <td>\"No side effects,  easy to take, no more sympt...</td>\n",
              "      <td>Positive</td>\n",
              "      <td>10.000000</td>\n",
              "      <td>10</td>\n",
              "    </tr>\n",
              "    <tr>\n",
              "      <th>1</th>\n",
              "      <td>transient ischemic attack</td>\n",
              "      <td>Bayer Children's Aspirin</td>\n",
              "      <td>\"No side effects,  easy to take, no more sympt...</td>\n",
              "      <td>Positive</td>\n",
              "      <td>10.000000</td>\n",
              "      <td>10</td>\n",
              "    </tr>\n",
              "    <tr>\n",
              "      <th>2</th>\n",
              "      <td>transient ischemic attack</td>\n",
              "      <td>Clopidogrel</td>\n",
              "      <td>\"I&amp;#039;ve been taking this medicine for a lit...</td>\n",
              "      <td>Negative</td>\n",
              "      <td>6.766667</td>\n",
              "      <td>8</td>\n",
              "    </tr>\n",
              "    <tr>\n",
              "      <th>3</th>\n",
              "      <td>transient ischemic attack</td>\n",
              "      <td>Clopidogrel</td>\n",
              "      <td>\"I took ibuprofen (2 caps at night for severe ...</td>\n",
              "      <td>Negative</td>\n",
              "      <td>6.766667</td>\n",
              "      <td>13</td>\n",
              "    </tr>\n",
              "    <tr>\n",
              "      <th>4</th>\n",
              "      <td>transient ischemic attack</td>\n",
              "      <td>Clopidogrel</td>\n",
              "      <td>\"After my VAD Stroke I am on plavix.  I have a...</td>\n",
              "      <td>Positive</td>\n",
              "      <td>6.766667</td>\n",
              "      <td>9</td>\n",
              "    </tr>\n",
              "    <tr>\n",
              "      <th>...</th>\n",
              "      <td>...</td>\n",
              "      <td>...</td>\n",
              "      <td>...</td>\n",
              "      <td>...</td>\n",
              "      <td>...</td>\n",
              "      <td>...</td>\n",
              "    </tr>\n",
              "    <tr>\n",
              "      <th>10055</th>\n",
              "      <td>alzheimer's disease</td>\n",
              "      <td>Namenda</td>\n",
              "      <td>\"I have taken it for about 4-5 yes.  I feel ab...</td>\n",
              "      <td>Positive</td>\n",
              "      <td>4.100946</td>\n",
              "      <td>38</td>\n",
              "    </tr>\n",
              "    <tr>\n",
              "      <th>10056</th>\n",
              "      <td>alzheimer's disease</td>\n",
              "      <td>Namenda</td>\n",
              "      <td>\"My mother has been taking Namenda for Alzheim...</td>\n",
              "      <td>Negative</td>\n",
              "      <td>4.100946</td>\n",
              "      <td>120</td>\n",
              "    </tr>\n",
              "    <tr>\n",
              "      <th>10057</th>\n",
              "      <td>alzheimer's disease</td>\n",
              "      <td>Namenda</td>\n",
              "      <td>\"My mother has been treated with the Exelon (p...</td>\n",
              "      <td>Negative</td>\n",
              "      <td>4.100946</td>\n",
              "      <td>109</td>\n",
              "    </tr>\n",
              "    <tr>\n",
              "      <th>10058</th>\n",
              "      <td>alzheimer's disease</td>\n",
              "      <td>Namenda</td>\n",
              "      <td>\"My wife (74) has been taking Namenda since th...</td>\n",
              "      <td>Positive</td>\n",
              "      <td>4.100946</td>\n",
              "      <td>55</td>\n",
              "    </tr>\n",
              "    <tr>\n",
              "      <th>10059</th>\n",
              "      <td>alzheimer's disease</td>\n",
              "      <td>Namenda</td>\n",
              "      <td>\"My wife started with two a day in conjunction...</td>\n",
              "      <td>Negative</td>\n",
              "      <td>4.100946</td>\n",
              "      <td>55</td>\n",
              "    </tr>\n",
              "  </tbody>\n",
              "</table>\n",
              "<p>10060 rows × 6 columns</p>\n",
              "</div>"
            ],
            "text/plain": [
              "                         Disease  ... UsefulCount\n",
              "0      transient ischemic attack  ...          10\n",
              "1      transient ischemic attack  ...          10\n",
              "2      transient ischemic attack  ...           8\n",
              "3      transient ischemic attack  ...          13\n",
              "4      transient ischemic attack  ...           9\n",
              "...                          ...  ...         ...\n",
              "10055        alzheimer's disease  ...          38\n",
              "10056        alzheimer's disease  ...         120\n",
              "10057        alzheimer's disease  ...         109\n",
              "10058        alzheimer's disease  ...          55\n",
              "10059        alzheimer's disease  ...          55\n",
              "\n",
              "[10060 rows x 6 columns]"
            ]
          },
          "metadata": {
            "tags": []
          },
          "execution_count": 191
        }
      ]
    },
    {
      "cell_type": "code",
      "metadata": {
        "id": "6I54boNllUkd",
        "colab_type": "code",
        "colab": {}
      },
      "source": [
        "# Taking drugs only with positive reviews for recommendation\n",
        "merged_wavg = merged_wavg.drop( merged_wavg[merged_wavg['Review_Sentiment'] == \"Negative\"].index)\n",
        "merged_wavg = merged_wavg.drop( merged_wavg[merged_wavg['Review_Sentiment'] == \"Neutral\"].index)"
      ],
      "execution_count": 0,
      "outputs": []
    },
    {
      "cell_type": "code",
      "metadata": {
        "id": "SOEYSJF8Eznt",
        "colab_type": "code",
        "outputId": "291e0626-f9aa-460f-d276-7f8e8493d4a9",
        "colab": {
          "base_uri": "https://localhost:8080/",
          "height": 196
        }
      },
      "source": [
        "merged_wavg.head()"
      ],
      "execution_count": 193,
      "outputs": [
        {
          "output_type": "execute_result",
          "data": {
            "text/html": [
              "<div>\n",
              "<style scoped>\n",
              "    .dataframe tbody tr th:only-of-type {\n",
              "        vertical-align: middle;\n",
              "    }\n",
              "\n",
              "    .dataframe tbody tr th {\n",
              "        vertical-align: top;\n",
              "    }\n",
              "\n",
              "    .dataframe thead th {\n",
              "        text-align: right;\n",
              "    }\n",
              "</style>\n",
              "<table border=\"1\" class=\"dataframe\">\n",
              "  <thead>\n",
              "    <tr style=\"text-align: right;\">\n",
              "      <th></th>\n",
              "      <th>Disease</th>\n",
              "      <th>Drug</th>\n",
              "      <th>Review</th>\n",
              "      <th>Review_Sentiment</th>\n",
              "      <th>Rating_Wavg</th>\n",
              "      <th>UsefulCount</th>\n",
              "    </tr>\n",
              "  </thead>\n",
              "  <tbody>\n",
              "    <tr>\n",
              "      <th>0</th>\n",
              "      <td>transient ischemic attack</td>\n",
              "      <td>Aspirin</td>\n",
              "      <td>\"No side effects,  easy to take, no more sympt...</td>\n",
              "      <td>Positive</td>\n",
              "      <td>10.000000</td>\n",
              "      <td>10</td>\n",
              "    </tr>\n",
              "    <tr>\n",
              "      <th>1</th>\n",
              "      <td>transient ischemic attack</td>\n",
              "      <td>Bayer Children's Aspirin</td>\n",
              "      <td>\"No side effects,  easy to take, no more sympt...</td>\n",
              "      <td>Positive</td>\n",
              "      <td>10.000000</td>\n",
              "      <td>10</td>\n",
              "    </tr>\n",
              "    <tr>\n",
              "      <th>4</th>\n",
              "      <td>transient ischemic attack</td>\n",
              "      <td>Clopidogrel</td>\n",
              "      <td>\"After my VAD Stroke I am on plavix.  I have a...</td>\n",
              "      <td>Positive</td>\n",
              "      <td>6.766667</td>\n",
              "      <td>9</td>\n",
              "    </tr>\n",
              "    <tr>\n",
              "      <th>5</th>\n",
              "      <td>transient ischemic attack</td>\n",
              "      <td>Plavix</td>\n",
              "      <td>\"After my VAD Stroke I am on plavix.  I have a...</td>\n",
              "      <td>Positive</td>\n",
              "      <td>5.000000</td>\n",
              "      <td>9</td>\n",
              "    </tr>\n",
              "    <tr>\n",
              "      <th>6</th>\n",
              "      <td>schizophrenia</td>\n",
              "      <td>Mellaril</td>\n",
              "      <td>\"Moochie used to take Melleril, was always cal...</td>\n",
              "      <td>Positive</td>\n",
              "      <td>10.000000</td>\n",
              "      <td>22</td>\n",
              "    </tr>\n",
              "  </tbody>\n",
              "</table>\n",
              "</div>"
            ],
            "text/plain": [
              "                     Disease  ... UsefulCount\n",
              "0  transient ischemic attack  ...          10\n",
              "1  transient ischemic attack  ...          10\n",
              "4  transient ischemic attack  ...           9\n",
              "5  transient ischemic attack  ...           9\n",
              "6              schizophrenia  ...          22\n",
              "\n",
              "[5 rows x 6 columns]"
            ]
          },
          "metadata": {
            "tags": []
          },
          "execution_count": 193
        }
      ]
    },
    {
      "cell_type": "code",
      "metadata": {
        "id": "ScbHN88zWG0i",
        "colab_type": "code",
        "colab": {}
      },
      "source": [
        "# taking predicted disease as input and recommending drug based on highest weighted average of ratings\n",
        "groupedByCount = merged_wavg.groupby(['Disease', 'Drug', 'Rating_Wavg'])['UsefulCount'].sum().reset_index()"
      ],
      "execution_count": 0,
      "outputs": []
    },
    {
      "cell_type": "code",
      "metadata": {
        "id": "bMD2fnNWIi3r",
        "colab_type": "code",
        "outputId": "c732086d-f053-413c-c5cf-09b100b0ff32",
        "colab": {
          "base_uri": "https://localhost:8080/",
          "height": 404
        }
      },
      "source": [
        "groupedByCount"
      ],
      "execution_count": 195,
      "outputs": [
        {
          "output_type": "execute_result",
          "data": {
            "text/html": [
              "<div>\n",
              "<style scoped>\n",
              "    .dataframe tbody tr th:only-of-type {\n",
              "        vertical-align: middle;\n",
              "    }\n",
              "\n",
              "    .dataframe tbody tr th {\n",
              "        vertical-align: top;\n",
              "    }\n",
              "\n",
              "    .dataframe thead th {\n",
              "        text-align: right;\n",
              "    }\n",
              "</style>\n",
              "<table border=\"1\" class=\"dataframe\">\n",
              "  <thead>\n",
              "    <tr style=\"text-align: right;\">\n",
              "      <th></th>\n",
              "      <th>Disease</th>\n",
              "      <th>Drug</th>\n",
              "      <th>Rating_Wavg</th>\n",
              "      <th>UsefulCount</th>\n",
              "    </tr>\n",
              "  </thead>\n",
              "  <tbody>\n",
              "    <tr>\n",
              "      <th>0</th>\n",
              "      <td>alzheimer's disease</td>\n",
              "      <td>Aricept</td>\n",
              "      <td>5.807916</td>\n",
              "      <td>1454</td>\n",
              "    </tr>\n",
              "    <tr>\n",
              "      <th>1</th>\n",
              "      <td>alzheimer's disease</td>\n",
              "      <td>Donepezil</td>\n",
              "      <td>5.503089</td>\n",
              "      <td>1559</td>\n",
              "    </tr>\n",
              "    <tr>\n",
              "      <th>2</th>\n",
              "      <td>alzheimer's disease</td>\n",
              "      <td>Exelon</td>\n",
              "      <td>7.526027</td>\n",
              "      <td>80</td>\n",
              "    </tr>\n",
              "    <tr>\n",
              "      <th>3</th>\n",
              "      <td>alzheimer's disease</td>\n",
              "      <td>Galantamine</td>\n",
              "      <td>8.510638</td>\n",
              "      <td>71</td>\n",
              "    </tr>\n",
              "    <tr>\n",
              "      <th>4</th>\n",
              "      <td>alzheimer's disease</td>\n",
              "      <td>Memantine</td>\n",
              "      <td>4.286241</td>\n",
              "      <td>218</td>\n",
              "    </tr>\n",
              "    <tr>\n",
              "      <th>...</th>\n",
              "      <td>...</td>\n",
              "      <td>...</td>\n",
              "      <td>...</td>\n",
              "      <td>...</td>\n",
              "    </tr>\n",
              "    <tr>\n",
              "      <th>327</th>\n",
              "      <td>schizophrenia</td>\n",
              "      <td>Zyprexa Zydis</td>\n",
              "      <td>6.304348</td>\n",
              "      <td>19</td>\n",
              "    </tr>\n",
              "    <tr>\n",
              "      <th>328</th>\n",
              "      <td>transient ischemic attack</td>\n",
              "      <td>Aspirin</td>\n",
              "      <td>10.000000</td>\n",
              "      <td>10</td>\n",
              "    </tr>\n",
              "    <tr>\n",
              "      <th>329</th>\n",
              "      <td>transient ischemic attack</td>\n",
              "      <td>Bayer Children's Aspirin</td>\n",
              "      <td>10.000000</td>\n",
              "      <td>10</td>\n",
              "    </tr>\n",
              "    <tr>\n",
              "      <th>330</th>\n",
              "      <td>transient ischemic attack</td>\n",
              "      <td>Clopidogrel</td>\n",
              "      <td>6.766667</td>\n",
              "      <td>9</td>\n",
              "    </tr>\n",
              "    <tr>\n",
              "      <th>331</th>\n",
              "      <td>transient ischemic attack</td>\n",
              "      <td>Plavix</td>\n",
              "      <td>5.000000</td>\n",
              "      <td>9</td>\n",
              "    </tr>\n",
              "  </tbody>\n",
              "</table>\n",
              "<p>332 rows × 4 columns</p>\n",
              "</div>"
            ],
            "text/plain": [
              "                       Disease  ... UsefulCount\n",
              "0          alzheimer's disease  ...        1454\n",
              "1          alzheimer's disease  ...        1559\n",
              "2          alzheimer's disease  ...          80\n",
              "3          alzheimer's disease  ...          71\n",
              "4          alzheimer's disease  ...         218\n",
              "..                         ...  ...         ...\n",
              "327              schizophrenia  ...          19\n",
              "328  transient ischemic attack  ...          10\n",
              "329  transient ischemic attack  ...          10\n",
              "330  transient ischemic attack  ...           9\n",
              "331  transient ischemic attack  ...           9\n",
              "\n",
              "[332 rows x 4 columns]"
            ]
          },
          "metadata": {
            "tags": []
          },
          "execution_count": 195
        }
      ]
    },
    {
      "cell_type": "code",
      "metadata": {
        "id": "cCmA7H4qLuTw",
        "colab_type": "code",
        "colab": {}
      },
      "source": [
        "groupedByDisease = groupedByCount.groupby('Disease')"
      ],
      "execution_count": 0,
      "outputs": []
    },
    {
      "cell_type": "code",
      "metadata": {
        "id": "77h0fFKnMYUs",
        "colab_type": "code",
        "outputId": "163a56d7-f333-4a2b-e827-a52bdc4f8e46",
        "colab": {
          "base_uri": "https://localhost:8080/",
          "height": 137
        }
      },
      "source": [
        "predicted_drug = pd.DataFrame(groupedByDisease.get_group('osteoporosis').nlargest(3, ['Rating_Wavg', 'UsefulCount']))\n",
        "predicted_drug"
      ],
      "execution_count": 197,
      "outputs": [
        {
          "output_type": "execute_result",
          "data": {
            "text/html": [
              "<div>\n",
              "<style scoped>\n",
              "    .dataframe tbody tr th:only-of-type {\n",
              "        vertical-align: middle;\n",
              "    }\n",
              "\n",
              "    .dataframe tbody tr th {\n",
              "        vertical-align: top;\n",
              "    }\n",
              "\n",
              "    .dataframe thead th {\n",
              "        text-align: right;\n",
              "    }\n",
              "</style>\n",
              "<table border=\"1\" class=\"dataframe\">\n",
              "  <thead>\n",
              "    <tr style=\"text-align: right;\">\n",
              "      <th></th>\n",
              "      <th>Disease</th>\n",
              "      <th>Drug</th>\n",
              "      <th>Rating_Wavg</th>\n",
              "      <th>UsefulCount</th>\n",
              "    </tr>\n",
              "  </thead>\n",
              "  <tbody>\n",
              "    <tr>\n",
              "      <th>247</th>\n",
              "      <td>osteoporosis</td>\n",
              "      <td>Calcium / vitamin d</td>\n",
              "      <td>9.0</td>\n",
              "      <td>15</td>\n",
              "    </tr>\n",
              "    <tr>\n",
              "      <th>249</th>\n",
              "      <td>osteoporosis</td>\n",
              "      <td>Caltrate 600+D</td>\n",
              "      <td>9.0</td>\n",
              "      <td>15</td>\n",
              "    </tr>\n",
              "    <tr>\n",
              "      <th>246</th>\n",
              "      <td>osteoporosis</td>\n",
              "      <td>Calci-Chew</td>\n",
              "      <td>8.0</td>\n",
              "      <td>5</td>\n",
              "    </tr>\n",
              "  </tbody>\n",
              "</table>\n",
              "</div>"
            ],
            "text/plain": [
              "          Disease                 Drug  Rating_Wavg  UsefulCount\n",
              "247  osteoporosis  Calcium / vitamin d          9.0           15\n",
              "249  osteoporosis       Caltrate 600+D          9.0           15\n",
              "246  osteoporosis           Calci-Chew          8.0            5"
            ]
          },
          "metadata": {
            "tags": []
          },
          "execution_count": 197
        }
      ]
    },
    {
      "cell_type": "code",
      "metadata": {
        "id": "UPY_ao5DPK3g",
        "colab_type": "code",
        "outputId": "f86139dc-d595-426b-a2e1-372757ea52e6",
        "colab": {
          "base_uri": "https://localhost:8080/",
          "height": 50
        }
      },
      "source": [
        "print(\"Recommended drugs for this disease are:\\n \", predicted_drug[\"Drug\"].unique())"
      ],
      "execution_count": 198,
      "outputs": [
        {
          "output_type": "stream",
          "text": [
            "Recommended drugs for this disease are:\n",
            "  ['Calcium / vitamin d' 'Caltrate 600+D' 'Calci-Chew']\n"
          ],
          "name": "stdout"
        }
      ]
    }
  ]
}