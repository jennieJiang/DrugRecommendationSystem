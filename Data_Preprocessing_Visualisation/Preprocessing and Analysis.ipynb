{
  "nbformat": 4,
  "nbformat_minor": 0,
  "metadata": {
    "kernelspec": {
      "display_name": "Python 3",
      "language": "python",
      "name": "python3"
    },
    "language_info": {
      "codemirror_mode": {
        "name": "ipython",
        "version": 3
      },
      "file_extension": ".py",
      "mimetype": "text/x-python",
      "name": "python",
      "nbconvert_exporter": "python",
      "pygments_lexer": "ipython3",
      "version": "3.7.4"
    },
    "colab": {
      "name": "Copy of Preprocessing.ipynb",
      "provenance": [],
      "include_colab_link": true
    }
  },
  "cells": [
    {
      "cell_type": "markdown",
      "metadata": {
        "id": "view-in-github",
        "colab_type": "text"
      },
      "source": [
        "<a href=\"https://colab.research.google.com/github/khushbooekhande/DrugRecommendationSystem/blob/master/Preprocessing%20and%20Analysis.ipynb\" target=\"_parent\"><img src=\"https://colab.research.google.com/assets/colab-badge.svg\" alt=\"Open In Colab\"/></a>"
      ]
    },
    {
      "cell_type": "code",
      "metadata": {
        "id": "FiGzCHjQ1fYf",
        "colab_type": "code",
        "outputId": "7c31b10a-9a57-46cb-fca3-b7c53b6acc00",
        "colab": {
          "base_uri": "https://localhost:8080/",
          "height": 34
        }
      },
      "source": [
        "from google.colab import drive\n",
        "drive.mount('/content/gdrive')"
      ],
      "execution_count": 150,
      "outputs": [
        {
          "output_type": "stream",
          "text": [
            "Drive already mounted at /content/gdrive; to attempt to forcibly remount, call drive.mount(\"/content/gdrive\", force_remount=True).\n"
          ],
          "name": "stdout"
        }
      ]
    },
    {
      "cell_type": "code",
      "metadata": {
        "id": "e5oJSWadTG59",
        "colab_type": "code",
        "colab": {}
      },
      "source": [
        "!pip install pandasql"
      ],
      "execution_count": 0,
      "outputs": []
    },
    {
      "cell_type": "code",
      "metadata": {
        "id": "73mKUrgttON8",
        "colab_type": "code",
        "colab": {}
      },
      "source": [
        "import pandas as pd\n",
        "import numpy as np\n",
        "import pandasql as ps"
      ],
      "execution_count": 0,
      "outputs": []
    },
    {
      "cell_type": "code",
      "metadata": {
        "id": "LZUrbDhktOOg",
        "colab_type": "code",
        "colab": {}
      },
      "source": [
        "df1 = pd.read_csv('/content/gdrive/My Drive/Data Mining /Project Activity/Raw Data/medication_fulfillment.csv')\n",
        "df2 = pd.read_csv('/content/gdrive/My Drive/Data Mining /Project Activity/Raw Data/lab_results.csv')\n",
        "df3 = pd.read_csv('/content/gdrive/My Drive/Data Mining /Project Activity/Raw Data//encounter_dx.csv')\n",
        "df4 = pd.read_csv('/content/gdrive/My Drive/Data Mining /Project Activity/Raw Data/encounter.csv')"
      ],
      "execution_count": 0,
      "outputs": []
    },
    {
      "cell_type": "markdown",
      "metadata": {
        "id": "8T-n4vo9zqza",
        "colab_type": "text"
      },
      "source": [
        "### **Preprocessing df1**"
      ]
    },
    {
      "cell_type": "code",
      "metadata": {
        "id": "5JqOVs7ytOO7",
        "colab_type": "code",
        "outputId": "69ea792c-3042-444a-9b15-3b4927649533",
        "colab": {
          "base_uri": "https://localhost:8080/",
          "height": 394
        }
      },
      "source": [
        "df1.head()"
      ],
      "execution_count": 156,
      "outputs": [
        {
          "output_type": "execute_result",
          "data": {
            "text/html": [
              "<div>\n",
              "<style scoped>\n",
              "    .dataframe tbody tr th:only-of-type {\n",
              "        vertical-align: middle;\n",
              "    }\n",
              "\n",
              "    .dataframe tbody tr th {\n",
              "        vertical-align: top;\n",
              "    }\n",
              "\n",
              "    .dataframe thead th {\n",
              "        text-align: right;\n",
              "    }\n",
              "</style>\n",
              "<table border=\"1\" class=\"dataframe\">\n",
              "  <thead>\n",
              "    <tr style=\"text-align: right;\">\n",
              "      <th></th>\n",
              "      <th>Provider_Org</th>\n",
              "      <th>Order_ID</th>\n",
              "      <th>Member_ID</th>\n",
              "      <th>Prescription</th>\n",
              "      <th>Pharmacist_ID</th>\n",
              "      <th>Pharmacy_Name</th>\n",
              "      <th>Dispense_Date</th>\n",
              "      <th>Drug_Name</th>\n",
              "      <th>Drug_NDC</th>\n",
              "      <th>Sig</th>\n",
              "      <th>Dispense_Qty</th>\n",
              "      <th>Fill_No</th>\n",
              "      <th>Fill_Status</th>\n",
              "      <th>Dose</th>\n",
              "      <th>Units</th>\n",
              "      <th>Days_Of_Supply</th>\n",
              "      <th>Encounter_ID</th>\n",
              "    </tr>\n",
              "  </thead>\n",
              "  <tbody>\n",
              "    <tr>\n",
              "      <th>0</th>\n",
              "      <td>ExactData Medical Health System</td>\n",
              "      <td>050630-23852</td>\n",
              "      <td>568001602-01</td>\n",
              "      <td>RX80452720</td>\n",
              "      <td>523808810</td>\n",
              "      <td>Corner Drug Store</td>\n",
              "      <td>2005-07-02T00:14:00Z</td>\n",
              "      <td>Hydrochlorothiazide</td>\n",
              "      <td>0172-2089-80</td>\n",
              "      <td>po qd</td>\n",
              "      <td>90</td>\n",
              "      <td>1</td>\n",
              "      <td>dispensed</td>\n",
              "      <td>50</td>\n",
              "      <td>mg</td>\n",
              "      <td>90</td>\n",
              "      <td>V3046573432409333612</td>\n",
              "    </tr>\n",
              "    <tr>\n",
              "      <th>1</th>\n",
              "      <td>ExactData Medical Health System</td>\n",
              "      <td>050312-01255</td>\n",
              "      <td>937650000-01</td>\n",
              "      <td>RX66597665</td>\n",
              "      <td>581395544</td>\n",
              "      <td>Family Health</td>\n",
              "      <td>2005-03-12T04:37:00Z</td>\n",
              "      <td>OMS 50</td>\n",
              "      <td>65689-001-21</td>\n",
              "      <td>via nasal cannula (contin)</td>\n",
              "      <td>4320</td>\n",
              "      <td>1</td>\n",
              "      <td>dispensed</td>\n",
              "      <td>6</td>\n",
              "      <td>h</td>\n",
              "      <td>1</td>\n",
              "      <td>C2819614934032019919</td>\n",
              "    </tr>\n",
              "    <tr>\n",
              "      <th>2</th>\n",
              "      <td>ExactData Medical Health System</td>\n",
              "      <td>050419-86521</td>\n",
              "      <td>937650000-01</td>\n",
              "      <td>RX29972012</td>\n",
              "      <td>125920412</td>\n",
              "      <td>Wegmans</td>\n",
              "      <td>2005-04-22T06:53:00Z</td>\n",
              "      <td>Hydrochlorothiazide</td>\n",
              "      <td>0172-2089-80</td>\n",
              "      <td>po qd</td>\n",
              "      <td>90</td>\n",
              "      <td>1</td>\n",
              "      <td>dispensed</td>\n",
              "      <td>50</td>\n",
              "      <td>mg</td>\n",
              "      <td>90</td>\n",
              "      <td>N6421143613871277479</td>\n",
              "    </tr>\n",
              "    <tr>\n",
              "      <th>3</th>\n",
              "      <td>ExactData Medical Health System</td>\n",
              "      <td>050826-36597</td>\n",
              "      <td>666214171-01</td>\n",
              "      <td>RX35391014</td>\n",
              "      <td>381663534</td>\n",
              "      <td>Apothecary Shop</td>\n",
              "      <td>2005-08-28T04:01:00Z</td>\n",
              "      <td>Prednisone</td>\n",
              "      <td>54569-0332-3</td>\n",
              "      <td>orally</td>\n",
              "      <td>20</td>\n",
              "      <td>1</td>\n",
              "      <td>dispensed</td>\n",
              "      <td>20</td>\n",
              "      <td>mg</td>\n",
              "      <td>20</td>\n",
              "      <td>L1660181935005579193</td>\n",
              "    </tr>\n",
              "    <tr>\n",
              "      <th>4</th>\n",
              "      <td>ExactData Medical Health System</td>\n",
              "      <td>050228-72970</td>\n",
              "      <td>666383984-01</td>\n",
              "      <td>RX45661465</td>\n",
              "      <td>152383446</td>\n",
              "      <td>Corner Drug Store</td>\n",
              "      <td>2005-03-03T19:42:00Z</td>\n",
              "      <td>protamine sulfate</td>\n",
              "      <td>63323-229-30</td>\n",
              "      <td>/90 units of heparin overdosage</td>\n",
              "      <td>1</td>\n",
              "      <td>1</td>\n",
              "      <td>dispensed</td>\n",
              "      <td>1</td>\n",
              "      <td>mg</td>\n",
              "      <td>1</td>\n",
              "      <td>U1554150386761469892</td>\n",
              "    </tr>\n",
              "  </tbody>\n",
              "</table>\n",
              "</div>"
            ],
            "text/plain": [
              "                      Provider_Org  ...          Encounter_ID\n",
              "0  ExactData Medical Health System  ...  V3046573432409333612\n",
              "1  ExactData Medical Health System  ...  C2819614934032019919\n",
              "2  ExactData Medical Health System  ...  N6421143613871277479\n",
              "3  ExactData Medical Health System  ...  L1660181935005579193\n",
              "4  ExactData Medical Health System  ...  U1554150386761469892\n",
              "\n",
              "[5 rows x 17 columns]"
            ]
          },
          "metadata": {
            "tags": []
          },
          "execution_count": 156
        }
      ]
    },
    {
      "cell_type": "code",
      "metadata": {
        "id": "qtMxvznGS2Ao",
        "colab_type": "code",
        "colab": {
          "base_uri": "https://localhost:8080/",
          "height": 34
        },
        "outputId": "9e906f86-2377-47eb-9a51-a43c003d4907"
      },
      "source": [
        "df1.shape"
      ],
      "execution_count": 157,
      "outputs": [
        {
          "output_type": "execute_result",
          "data": {
            "text/plain": [
              "(1176, 17)"
            ]
          },
          "metadata": {
            "tags": []
          },
          "execution_count": 157
        }
      ]
    },
    {
      "cell_type": "code",
      "metadata": {
        "id": "57LCjMX3PFLB",
        "colab_type": "code",
        "outputId": "ec024585-d28d-42a0-b2e0-541049f10c0c",
        "colab": {
          "base_uri": "https://localhost:8080/",
          "height": 323
        }
      },
      "source": [
        "df1.dtypes"
      ],
      "execution_count": 158,
      "outputs": [
        {
          "output_type": "execute_result",
          "data": {
            "text/plain": [
              "Provider_Org      object\n",
              "Order_ID          object\n",
              "Member_ID         object\n",
              "Prescription      object\n",
              "Pharmacist_ID      int64\n",
              "Pharmacy_Name     object\n",
              "Dispense_Date     object\n",
              "Drug_Name         object\n",
              "Drug_NDC          object\n",
              "Sig               object\n",
              "Dispense_Qty      object\n",
              "Fill_No            int64\n",
              "Fill_Status       object\n",
              "Dose              object\n",
              "Units             object\n",
              "Days_Of_Supply     int64\n",
              "Encounter_ID      object\n",
              "dtype: object"
            ]
          },
          "metadata": {
            "tags": []
          },
          "execution_count": 158
        }
      ]
    },
    {
      "cell_type": "code",
      "metadata": {
        "id": "y8wGUa0mPMlb",
        "colab_type": "code",
        "colab": {}
      },
      "source": [
        "#dropping the Pharmacy name and the Pharmacist ID columns as it is redundant\n",
        "to_drop = ['Pharmacy_Name', 'Pharmacist_ID']\n",
        "df1 = df1.drop(to_drop, axis = 1)"
      ],
      "execution_count": 0,
      "outputs": []
    },
    {
      "cell_type": "code",
      "metadata": {
        "id": "KAgmCxY1PWuf",
        "colab_type": "code",
        "outputId": "82e65e7e-583a-4127-96de-f9807be9abd8",
        "colab": {
          "base_uri": "https://localhost:8080/",
          "height": 255
        }
      },
      "source": [
        "df1['Drug_Name'].unique()"
      ],
      "execution_count": 160,
      "outputs": [
        {
          "output_type": "execute_result",
          "data": {
            "text/plain": [
              "array(['Hydrochlorothiazide', 'OMS 50', 'Prednisone', 'protamine sulfate',\n",
              "       'Potassium Chl', 'nifedipine', 'Isotonic Saline (0.9%)',\n",
              "       'Ciprofloxacin', 'Lisinopril', 'glyburide', 'glimepiride',\n",
              "       'Insulin Nph', 'enalapril', 'insulin aspart', 'mannitol', 'AVAPRO',\n",
              "       'Cefadroxil', 'Metoprolol', 'Insulin,Ultralente', 'valsartan',\n",
              "       'dilaudid', 'ancef', 'oxycontin 10', 'vicodin HP 10-300',\n",
              "       'Ibuprofen', 'Aspirin', 'oxycodone-acetaminophen 10-325',\n",
              "       'acetaminophen', 'Nitroglycerin', 'salmeterol', 'nitroglycerin',\n",
              "       'Propranolol', 'Heparin', 'metoprolol', 'Alteplase', 'Gentamicin',\n",
              "       'Levofloxacin', 'Theophylline', 'ACTIVASE', 'Labetalol',\n",
              "       'Furosemide', 'Morphine', 'Allopurinol', 'Captopril', 'HUMALOG',\n",
              "       'Insulin Lente', 'Irbesartan', 'Insulin Reg', 'Tobramycin',\n",
              "       'LANTUS', 'trimethoprim', 'BACTRIM DS', 'ATNATIV', 'LEVAQUIN'],\n",
              "      dtype=object)"
            ]
          },
          "metadata": {
            "tags": []
          },
          "execution_count": 160
        }
      ]
    },
    {
      "cell_type": "code",
      "metadata": {
        "id": "saIM33iPtOPt",
        "colab_type": "code",
        "outputId": "d33bed1d-44c8-438b-9fed-6f0c3d072e14",
        "colab": {
          "base_uri": "https://localhost:8080/",
          "height": 34
        }
      },
      "source": [
        "df1['Member_ID'].unique().shape"
      ],
      "execution_count": 161,
      "outputs": [
        {
          "output_type": "execute_result",
          "data": {
            "text/plain": [
              "(104,)"
            ]
          },
          "metadata": {
            "tags": []
          },
          "execution_count": 161
        }
      ]
    },
    {
      "cell_type": "code",
      "metadata": {
        "id": "CXs8dzV0QDtw",
        "colab_type": "code",
        "outputId": "0ad78549-0314-4747-f9b1-364690dffe04",
        "colab": {
          "base_uri": "https://localhost:8080/",
          "height": 34
        }
      },
      "source": [
        "df1['Order_ID'].unique().shape"
      ],
      "execution_count": 162,
      "outputs": [
        {
          "output_type": "execute_result",
          "data": {
            "text/plain": [
              "(1176,)"
            ]
          },
          "metadata": {
            "tags": []
          },
          "execution_count": 162
        }
      ]
    },
    {
      "cell_type": "code",
      "metadata": {
        "id": "PGb3KdGjQPig",
        "colab_type": "code",
        "outputId": "7c7f6a79-f694-4203-c705-623e2d89bd92",
        "colab": {
          "base_uri": "https://localhost:8080/",
          "height": 289
        }
      },
      "source": [
        "#checking if there are any null values in the table\n",
        "df1.isnull().sum()"
      ],
      "execution_count": 163,
      "outputs": [
        {
          "output_type": "execute_result",
          "data": {
            "text/plain": [
              "Provider_Org      0\n",
              "Order_ID          0\n",
              "Member_ID         0\n",
              "Prescription      0\n",
              "Dispense_Date     0\n",
              "Drug_Name         0\n",
              "Drug_NDC          0\n",
              "Sig               0\n",
              "Dispense_Qty      0\n",
              "Fill_No           0\n",
              "Fill_Status       0\n",
              "Dose              0\n",
              "Units             0\n",
              "Days_Of_Supply    0\n",
              "Encounter_ID      0\n",
              "dtype: int64"
            ]
          },
          "metadata": {
            "tags": []
          },
          "execution_count": 163
        }
      ]
    },
    {
      "cell_type": "code",
      "metadata": {
        "id": "U997t0tbQV5g",
        "colab_type": "code",
        "colab": {}
      },
      "source": [
        "#concatination Dose and Units column to a single column\n",
        "df1['Dose'] = df1['Dose'] + df1['Units']"
      ],
      "execution_count": 0,
      "outputs": []
    },
    {
      "cell_type": "code",
      "metadata": {
        "id": "8mokBULvQdOh",
        "colab_type": "code",
        "colab": {}
      },
      "source": [
        "#changing type of Dispense_Date to datetime format\n",
        "df1['Year'] = pd.DatetimeIndex(df1['Dispense_Date']).year\n",
        "df1['Month'] = pd.DatetimeIndex(df1['Dispense_Date']).month\n",
        "df1['Day'] = pd.DatetimeIndex(df1['Dispense_Date']).day"
      ],
      "execution_count": 0,
      "outputs": []
    },
    {
      "cell_type": "code",
      "metadata": {
        "id": "Ux-1lsQaQlFI",
        "colab_type": "code",
        "colab": {}
      },
      "source": [
        "df1['Dispense_Date'] = pd.to_datetime(df1[['Year', 'Month', 'Day']])"
      ],
      "execution_count": 0,
      "outputs": []
    },
    {
      "cell_type": "code",
      "metadata": {
        "id": "yMzG0ezbQsJp",
        "colab_type": "code",
        "colab": {}
      },
      "source": [
        "drop = ['Year','Month','Day', 'Fill_Status', 'Fill_No', 'Units']\n",
        "df1 = df1.drop(drop, axis = 1)"
      ],
      "execution_count": 0,
      "outputs": []
    },
    {
      "cell_type": "markdown",
      "metadata": {
        "id": "H8ZcZsIuzkRs",
        "colab_type": "text"
      },
      "source": [
        "### **Preprocessing** **df2**"
      ]
    },
    {
      "cell_type": "code",
      "metadata": {
        "id": "QGn-RG-5tOPO",
        "colab_type": "code",
        "outputId": "93b87ab4-3586-4de5-d249-31306f0023fe",
        "colab": {
          "base_uri": "https://localhost:8080/",
          "height": 394
        }
      },
      "source": [
        "df2.head()"
      ],
      "execution_count": 168,
      "outputs": [
        {
          "output_type": "execute_result",
          "data": {
            "text/html": [
              "<div>\n",
              "<style scoped>\n",
              "    .dataframe tbody tr th:only-of-type {\n",
              "        vertical-align: middle;\n",
              "    }\n",
              "\n",
              "    .dataframe tbody tr th {\n",
              "        vertical-align: top;\n",
              "    }\n",
              "\n",
              "    .dataframe thead th {\n",
              "        text-align: right;\n",
              "    }\n",
              "</style>\n",
              "<table border=\"1\" class=\"dataframe\">\n",
              "  <thead>\n",
              "    <tr style=\"text-align: right;\">\n",
              "      <th></th>\n",
              "      <th>Provider_Org</th>\n",
              "      <th>Member_ID</th>\n",
              "      <th>Date_Collected</th>\n",
              "      <th>Test_ID</th>\n",
              "      <th>Specialty</th>\n",
              "      <th>Panel</th>\n",
              "      <th>Test_LOINC</th>\n",
              "      <th>Test_Name</th>\n",
              "      <th>Date_Resulted</th>\n",
              "      <th>Specimen</th>\n",
              "      <th>Result_LOINC</th>\n",
              "      <th>Result_Name</th>\n",
              "      <th>Result_Status</th>\n",
              "      <th>Result_Description</th>\n",
              "      <th>Numeric_Result</th>\n",
              "      <th>Units</th>\n",
              "      <th>Abnormal_Value</th>\n",
              "      <th>Reference_Range</th>\n",
              "      <th>Order_ID</th>\n",
              "      <th>Provider_ID</th>\n",
              "      <th>Encounter_ID</th>\n",
              "    </tr>\n",
              "  </thead>\n",
              "  <tbody>\n",
              "    <tr>\n",
              "      <th>0</th>\n",
              "      <td>ExactData Medical Health System</td>\n",
              "      <td>568001602-01</td>\n",
              "      <td>2005-07-05T15:54:00Z</td>\n",
              "      <td>050705 CH 76296541</td>\n",
              "      <td>NaN</td>\n",
              "      <td>False</td>\n",
              "      <td>2093-3</td>\n",
              "      <td>Cholesterol</td>\n",
              "      <td>2005-07-05T20:33:41Z</td>\n",
              "      <td>NaN</td>\n",
              "      <td>2093-3</td>\n",
              "      <td>Cholesterol</td>\n",
              "      <td>FINAL</td>\n",
              "      <td>Cholesterol=250 mg/dL</td>\n",
              "      <td>250</td>\n",
              "      <td>mg/dL</td>\n",
              "      <td>NaN</td>\n",
              "      <td>NaN</td>\n",
              "      <td>050630-30199</td>\n",
              "      <td>695700114</td>\n",
              "      <td>X3228783097331248888</td>\n",
              "    </tr>\n",
              "    <tr>\n",
              "      <th>1</th>\n",
              "      <td>ExactData Medical Health System</td>\n",
              "      <td>568001602-01</td>\n",
              "      <td>2005-10-07T16:15:00Z</td>\n",
              "      <td>051007 CH 47988013</td>\n",
              "      <td>NaN</td>\n",
              "      <td>False</td>\n",
              "      <td>21440-3</td>\n",
              "      <td>HPV I/H Risk DNA Probe</td>\n",
              "      <td>2005-10-07T20:10:41Z</td>\n",
              "      <td>NaN</td>\n",
              "      <td>21440-3</td>\n",
              "      <td>HPV test</td>\n",
              "      <td>FINAL</td>\n",
              "      <td>negative for HPV 16 &amp; 18</td>\n",
              "      <td>NaN</td>\n",
              "      <td>NaN</td>\n",
              "      <td>NaN</td>\n",
              "      <td>NaN</td>\n",
              "      <td>NaN</td>\n",
              "      <td>663746638</td>\n",
              "      <td>M3204724885018391695</td>\n",
              "    </tr>\n",
              "    <tr>\n",
              "      <th>2</th>\n",
              "      <td>ExactData Medical Health System</td>\n",
              "      <td>568001602-01</td>\n",
              "      <td>2005-10-07T16:15:00Z</td>\n",
              "      <td>051007 CH 04421087</td>\n",
              "      <td>NaN</td>\n",
              "      <td>False</td>\n",
              "      <td>28631-0</td>\n",
              "      <td>Visual Acuity Study</td>\n",
              "      <td>2005-10-07T17:57:09Z</td>\n",
              "      <td>NaN</td>\n",
              "      <td>28631-0</td>\n",
              "      <td>acuity</td>\n",
              "      <td>FINAL</td>\n",
              "      <td>right eye 20/20, left eye 20/20</td>\n",
              "      <td>NaN</td>\n",
              "      <td>NaN</td>\n",
              "      <td>NaN</td>\n",
              "      <td>NaN</td>\n",
              "      <td>NaN</td>\n",
              "      <td>663746638</td>\n",
              "      <td>M3204724885018391695</td>\n",
              "    </tr>\n",
              "    <tr>\n",
              "      <th>3</th>\n",
              "      <td>ExactData Medical Health System</td>\n",
              "      <td>568001602-01</td>\n",
              "      <td>2005-10-12T21:33:00Z</td>\n",
              "      <td>051012 CH 48885833</td>\n",
              "      <td>NaN</td>\n",
              "      <td>True</td>\n",
              "      <td>24331-1</td>\n",
              "      <td>Lipid Profile</td>\n",
              "      <td>2005-10-12T23:11:57Z</td>\n",
              "      <td>NaN</td>\n",
              "      <td>2093-3</td>\n",
              "      <td>Total cholesterol</td>\n",
              "      <td>FINAL</td>\n",
              "      <td>Total cholesterol = 180mg/dL</td>\n",
              "      <td>180</td>\n",
              "      <td>mg/dL</td>\n",
              "      <td>NaN</td>\n",
              "      <td>NaN</td>\n",
              "      <td>051007-54352</td>\n",
              "      <td>695700114</td>\n",
              "      <td>G7012345417035113309</td>\n",
              "    </tr>\n",
              "    <tr>\n",
              "      <th>4</th>\n",
              "      <td>ExactData Medical Health System</td>\n",
              "      <td>568001602-01</td>\n",
              "      <td>2005-10-12T21:33:00Z</td>\n",
              "      <td>051012 CH 48885833</td>\n",
              "      <td>NaN</td>\n",
              "      <td>True</td>\n",
              "      <td>24331-1</td>\n",
              "      <td>Lipid Profile</td>\n",
              "      <td>2005-10-12T23:11:57Z</td>\n",
              "      <td>NaN</td>\n",
              "      <td>13457-7</td>\n",
              "      <td>LDL</td>\n",
              "      <td>FINAL</td>\n",
              "      <td>LDL = 120mg/dL</td>\n",
              "      <td>120</td>\n",
              "      <td>mg/dL</td>\n",
              "      <td>NaN</td>\n",
              "      <td>NaN</td>\n",
              "      <td>051007-54352</td>\n",
              "      <td>695700114</td>\n",
              "      <td>G7012345417035113309</td>\n",
              "    </tr>\n",
              "  </tbody>\n",
              "</table>\n",
              "</div>"
            ],
            "text/plain": [
              "                      Provider_Org  ...          Encounter_ID\n",
              "0  ExactData Medical Health System  ...  X3228783097331248888\n",
              "1  ExactData Medical Health System  ...  M3204724885018391695\n",
              "2  ExactData Medical Health System  ...  M3204724885018391695\n",
              "3  ExactData Medical Health System  ...  G7012345417035113309\n",
              "4  ExactData Medical Health System  ...  G7012345417035113309\n",
              "\n",
              "[5 rows x 21 columns]"
            ]
          },
          "metadata": {
            "tags": []
          },
          "execution_count": 168
        }
      ]
    },
    {
      "cell_type": "code",
      "metadata": {
        "id": "Ldb5P2onUCMt",
        "colab_type": "code",
        "colab": {
          "base_uri": "https://localhost:8080/",
          "height": 34
        },
        "outputId": "af1aa930-051d-4e95-f0cb-ccc474e5c330"
      },
      "source": [
        "df2.shape"
      ],
      "execution_count": 169,
      "outputs": [
        {
          "output_type": "execute_result",
          "data": {
            "text/plain": [
              "(7509, 21)"
            ]
          },
          "metadata": {
            "tags": []
          },
          "execution_count": 169
        }
      ]
    },
    {
      "cell_type": "code",
      "metadata": {
        "id": "CLj23szaRHhf",
        "colab_type": "code",
        "outputId": "b9a5668a-0e78-452b-dc99-8883897e83da",
        "colab": {
          "base_uri": "https://localhost:8080/",
          "height": 391
        }
      },
      "source": [
        "df2.dtypes"
      ],
      "execution_count": 170,
      "outputs": [
        {
          "output_type": "execute_result",
          "data": {
            "text/plain": [
              "Provider_Org           object\n",
              "Member_ID              object\n",
              "Date_Collected         object\n",
              "Test_ID                object\n",
              "Specialty             float64\n",
              "Panel                    bool\n",
              "Test_LOINC             object\n",
              "Test_Name              object\n",
              "Date_Resulted          object\n",
              "Specimen              float64\n",
              "Result_LOINC           object\n",
              "Result_Name            object\n",
              "Result_Status          object\n",
              "Result_Description     object\n",
              "Numeric_Result         object\n",
              "Units                  object\n",
              "Abnormal_Value        float64\n",
              "Reference_Range       float64\n",
              "Order_ID               object\n",
              "Provider_ID             int64\n",
              "Encounter_ID           object\n",
              "dtype: object"
            ]
          },
          "metadata": {
            "tags": []
          },
          "execution_count": 170
        }
      ]
    },
    {
      "cell_type": "code",
      "metadata": {
        "id": "X6_lRL6HRKjL",
        "colab_type": "code",
        "outputId": "3d083140-22d9-43a9-f973-294ec09e8bd4",
        "colab": {
          "base_uri": "https://localhost:8080/",
          "height": 391
        }
      },
      "source": [
        "df2.count()"
      ],
      "execution_count": 171,
      "outputs": [
        {
          "output_type": "execute_result",
          "data": {
            "text/plain": [
              "Provider_Org          7509\n",
              "Member_ID             7509\n",
              "Date_Collected        7509\n",
              "Test_ID               7509\n",
              "Specialty                0\n",
              "Panel                 7509\n",
              "Test_LOINC            7509\n",
              "Test_Name             7509\n",
              "Date_Resulted         7509\n",
              "Specimen                 0\n",
              "Result_LOINC          7509\n",
              "Result_Name           7509\n",
              "Result_Status         7509\n",
              "Result_Description    7509\n",
              "Numeric_Result        2890\n",
              "Units                 2794\n",
              "Abnormal_Value           0\n",
              "Reference_Range          0\n",
              "Order_ID              6010\n",
              "Provider_ID           7509\n",
              "Encounter_ID          7509\n",
              "dtype: int64"
            ]
          },
          "metadata": {
            "tags": []
          },
          "execution_count": 171
        }
      ]
    },
    {
      "cell_type": "code",
      "metadata": {
        "id": "gjVhhehNRRZu",
        "colab_type": "code",
        "colab": {}
      },
      "source": [
        "# Dropping columns which doesn't have data.\n",
        "df2 = df2.dropna(axis = 'columns', how = 'all')"
      ],
      "execution_count": 0,
      "outputs": []
    },
    {
      "cell_type": "code",
      "metadata": {
        "id": "Gbq7sUGaRcRx",
        "colab_type": "code",
        "colab": {}
      },
      "source": [
        "#Dropping Result Status column\n",
        "df2 = df2.drop(['Result_Status'], axis = 1)"
      ],
      "execution_count": 0,
      "outputs": []
    },
    {
      "cell_type": "code",
      "metadata": {
        "id": "28MnBpPhRerM",
        "colab_type": "code",
        "colab": {}
      },
      "source": [
        "# Concatenating the Numeric_Result and Units columns\n",
        "df2['Result'] = df2['Numeric_Result'] + df2['Units'] "
      ],
      "execution_count": 0,
      "outputs": []
    },
    {
      "cell_type": "code",
      "metadata": {
        "id": "i_MQkYohRv21",
        "colab_type": "code",
        "colab": {}
      },
      "source": [
        "# Dropping Panel, Test_LOINC, Date_Resulted, Numeric_Resulted, Units\n",
        "df2 = df2.drop(['Panel', 'Test_LOINC', 'Date_Resulted', 'Numeric_Result', 'Units'], axis = 1)"
      ],
      "execution_count": 0,
      "outputs": []
    },
    {
      "cell_type": "code",
      "metadata": {
        "id": "ukeebrbgSPQq",
        "colab_type": "code",
        "outputId": "2a1ce738-50ad-4832-ca8b-4f726327ed9d",
        "colab": {
          "base_uri": "https://localhost:8080/",
          "height": 394
        }
      },
      "source": [
        "df2.head()"
      ],
      "execution_count": 176,
      "outputs": [
        {
          "output_type": "execute_result",
          "data": {
            "text/html": [
              "<div>\n",
              "<style scoped>\n",
              "    .dataframe tbody tr th:only-of-type {\n",
              "        vertical-align: middle;\n",
              "    }\n",
              "\n",
              "    .dataframe tbody tr th {\n",
              "        vertical-align: top;\n",
              "    }\n",
              "\n",
              "    .dataframe thead th {\n",
              "        text-align: right;\n",
              "    }\n",
              "</style>\n",
              "<table border=\"1\" class=\"dataframe\">\n",
              "  <thead>\n",
              "    <tr style=\"text-align: right;\">\n",
              "      <th></th>\n",
              "      <th>Provider_Org</th>\n",
              "      <th>Member_ID</th>\n",
              "      <th>Date_Collected</th>\n",
              "      <th>Test_ID</th>\n",
              "      <th>Test_Name</th>\n",
              "      <th>Result_LOINC</th>\n",
              "      <th>Result_Name</th>\n",
              "      <th>Result_Description</th>\n",
              "      <th>Order_ID</th>\n",
              "      <th>Provider_ID</th>\n",
              "      <th>Encounter_ID</th>\n",
              "      <th>Result</th>\n",
              "    </tr>\n",
              "  </thead>\n",
              "  <tbody>\n",
              "    <tr>\n",
              "      <th>0</th>\n",
              "      <td>ExactData Medical Health System</td>\n",
              "      <td>568001602-01</td>\n",
              "      <td>2005-07-05T15:54:00Z</td>\n",
              "      <td>050705 CH 76296541</td>\n",
              "      <td>Cholesterol</td>\n",
              "      <td>2093-3</td>\n",
              "      <td>Cholesterol</td>\n",
              "      <td>Cholesterol=250 mg/dL</td>\n",
              "      <td>050630-30199</td>\n",
              "      <td>695700114</td>\n",
              "      <td>X3228783097331248888</td>\n",
              "      <td>250mg/dL</td>\n",
              "    </tr>\n",
              "    <tr>\n",
              "      <th>1</th>\n",
              "      <td>ExactData Medical Health System</td>\n",
              "      <td>568001602-01</td>\n",
              "      <td>2005-10-07T16:15:00Z</td>\n",
              "      <td>051007 CH 47988013</td>\n",
              "      <td>HPV I/H Risk DNA Probe</td>\n",
              "      <td>21440-3</td>\n",
              "      <td>HPV test</td>\n",
              "      <td>negative for HPV 16 &amp; 18</td>\n",
              "      <td>NaN</td>\n",
              "      <td>663746638</td>\n",
              "      <td>M3204724885018391695</td>\n",
              "      <td>NaN</td>\n",
              "    </tr>\n",
              "    <tr>\n",
              "      <th>2</th>\n",
              "      <td>ExactData Medical Health System</td>\n",
              "      <td>568001602-01</td>\n",
              "      <td>2005-10-07T16:15:00Z</td>\n",
              "      <td>051007 CH 04421087</td>\n",
              "      <td>Visual Acuity Study</td>\n",
              "      <td>28631-0</td>\n",
              "      <td>acuity</td>\n",
              "      <td>right eye 20/20, left eye 20/20</td>\n",
              "      <td>NaN</td>\n",
              "      <td>663746638</td>\n",
              "      <td>M3204724885018391695</td>\n",
              "      <td>NaN</td>\n",
              "    </tr>\n",
              "    <tr>\n",
              "      <th>3</th>\n",
              "      <td>ExactData Medical Health System</td>\n",
              "      <td>568001602-01</td>\n",
              "      <td>2005-10-12T21:33:00Z</td>\n",
              "      <td>051012 CH 48885833</td>\n",
              "      <td>Lipid Profile</td>\n",
              "      <td>2093-3</td>\n",
              "      <td>Total cholesterol</td>\n",
              "      <td>Total cholesterol = 180mg/dL</td>\n",
              "      <td>051007-54352</td>\n",
              "      <td>695700114</td>\n",
              "      <td>G7012345417035113309</td>\n",
              "      <td>180mg/dL</td>\n",
              "    </tr>\n",
              "    <tr>\n",
              "      <th>4</th>\n",
              "      <td>ExactData Medical Health System</td>\n",
              "      <td>568001602-01</td>\n",
              "      <td>2005-10-12T21:33:00Z</td>\n",
              "      <td>051012 CH 48885833</td>\n",
              "      <td>Lipid Profile</td>\n",
              "      <td>13457-7</td>\n",
              "      <td>LDL</td>\n",
              "      <td>LDL = 120mg/dL</td>\n",
              "      <td>051007-54352</td>\n",
              "      <td>695700114</td>\n",
              "      <td>G7012345417035113309</td>\n",
              "      <td>120mg/dL</td>\n",
              "    </tr>\n",
              "  </tbody>\n",
              "</table>\n",
              "</div>"
            ],
            "text/plain": [
              "                      Provider_Org  ...    Result\n",
              "0  ExactData Medical Health System  ...  250mg/dL\n",
              "1  ExactData Medical Health System  ...       NaN\n",
              "2  ExactData Medical Health System  ...       NaN\n",
              "3  ExactData Medical Health System  ...  180mg/dL\n",
              "4  ExactData Medical Health System  ...  120mg/dL\n",
              "\n",
              "[5 rows x 12 columns]"
            ]
          },
          "metadata": {
            "tags": []
          },
          "execution_count": 176
        }
      ]
    },
    {
      "cell_type": "markdown",
      "metadata": {
        "id": "8z-tN22M0DZ8",
        "colab_type": "text"
      },
      "source": [
        "## **Preprocessing df3**"
      ]
    },
    {
      "cell_type": "code",
      "metadata": {
        "id": "QNGU_MzGtOPa",
        "colab_type": "code",
        "outputId": "0bcf47a6-9732-4a13-a5a0-7fbaddc457fe",
        "colab": {
          "base_uri": "https://localhost:8080/",
          "height": 204
        }
      },
      "source": [
        "df3.head()"
      ],
      "execution_count": 177,
      "outputs": [
        {
          "output_type": "execute_result",
          "data": {
            "text/html": [
              "<div>\n",
              "<style scoped>\n",
              "    .dataframe tbody tr th:only-of-type {\n",
              "        vertical-align: middle;\n",
              "    }\n",
              "\n",
              "    .dataframe tbody tr th {\n",
              "        vertical-align: top;\n",
              "    }\n",
              "\n",
              "    .dataframe thead th {\n",
              "        text-align: right;\n",
              "    }\n",
              "</style>\n",
              "<table border=\"1\" class=\"dataframe\">\n",
              "  <thead>\n",
              "    <tr style=\"text-align: right;\">\n",
              "      <th></th>\n",
              "      <th>Provider_Org</th>\n",
              "      <th>code</th>\n",
              "      <th>vocab</th>\n",
              "      <th>description</th>\n",
              "      <th>severity</th>\n",
              "      <th>Encounter_ID</th>\n",
              "    </tr>\n",
              "  </thead>\n",
              "  <tbody>\n",
              "    <tr>\n",
              "      <th>0</th>\n",
              "      <td>ExactData Medical Health System</td>\n",
              "      <td>401.9</td>\n",
              "      <td>ICD9</td>\n",
              "      <td>Hypertension</td>\n",
              "      <td>mild</td>\n",
              "      <td>L8694502508698944760</td>\n",
              "    </tr>\n",
              "    <tr>\n",
              "      <th>1</th>\n",
              "      <td>ExactData Medical Health System</td>\n",
              "      <td>V70.0</td>\n",
              "      <td>ICD9</td>\n",
              "      <td>General medical examination</td>\n",
              "      <td>NaN</td>\n",
              "      <td>M3204724885018391695</td>\n",
              "    </tr>\n",
              "    <tr>\n",
              "      <th>2</th>\n",
              "      <td>ExactData Medical Health System</td>\n",
              "      <td>496</td>\n",
              "      <td>ICD9</td>\n",
              "      <td>Chronic Obstructive Pulmonary Disease</td>\n",
              "      <td>critical</td>\n",
              "      <td>C2819614934032019919</td>\n",
              "    </tr>\n",
              "    <tr>\n",
              "      <th>3</th>\n",
              "      <td>ExactData Medical Health System</td>\n",
              "      <td>401.9</td>\n",
              "      <td>ICD9</td>\n",
              "      <td>Hypertension</td>\n",
              "      <td>mild</td>\n",
              "      <td>S4571692645992867370</td>\n",
              "    </tr>\n",
              "    <tr>\n",
              "      <th>4</th>\n",
              "      <td>ExactData Medical Health System</td>\n",
              "      <td>V70.0</td>\n",
              "      <td>ICD9</td>\n",
              "      <td>General medical examination</td>\n",
              "      <td>NaN</td>\n",
              "      <td>J6262874375300991101</td>\n",
              "    </tr>\n",
              "  </tbody>\n",
              "</table>\n",
              "</div>"
            ],
            "text/plain": [
              "                      Provider_Org   code  ...  severity          Encounter_ID\n",
              "0  ExactData Medical Health System  401.9  ...      mild  L8694502508698944760\n",
              "1  ExactData Medical Health System  V70.0  ...       NaN  M3204724885018391695\n",
              "2  ExactData Medical Health System    496  ...  critical  C2819614934032019919\n",
              "3  ExactData Medical Health System  401.9  ...      mild  S4571692645992867370\n",
              "4  ExactData Medical Health System  V70.0  ...       NaN  J6262874375300991101\n",
              "\n",
              "[5 rows x 6 columns]"
            ]
          },
          "metadata": {
            "tags": []
          },
          "execution_count": 177
        }
      ]
    },
    {
      "cell_type": "code",
      "metadata": {
        "id": "cQS11mLaUHEm",
        "colab_type": "code",
        "colab": {
          "base_uri": "https://localhost:8080/",
          "height": 34
        },
        "outputId": "9649452a-277a-4812-bdaa-d95801bb24b3"
      },
      "source": [
        "df3.shape"
      ],
      "execution_count": 178,
      "outputs": [
        {
          "output_type": "execute_result",
          "data": {
            "text/plain": [
              "(3063, 6)"
            ]
          },
          "metadata": {
            "tags": []
          },
          "execution_count": 178
        }
      ]
    },
    {
      "cell_type": "code",
      "metadata": {
        "id": "BKCtEeWOSLCR",
        "colab_type": "code",
        "colab": {}
      },
      "source": [
        "# Dropping columns Provider_Org, code and vocab\n",
        "df3.drop(df3.columns[[0, 1, 2]], axis = 1, inplace = True)"
      ],
      "execution_count": 0,
      "outputs": []
    },
    {
      "cell_type": "code",
      "metadata": {
        "id": "ay_lBIocSR4u",
        "colab_type": "code",
        "outputId": "c6561024-ea89-479e-c874-c178174544ff",
        "colab": {
          "base_uri": "https://localhost:8080/",
          "height": 204
        }
      },
      "source": [
        "df3.head()"
      ],
      "execution_count": 180,
      "outputs": [
        {
          "output_type": "execute_result",
          "data": {
            "text/html": [
              "<div>\n",
              "<style scoped>\n",
              "    .dataframe tbody tr th:only-of-type {\n",
              "        vertical-align: middle;\n",
              "    }\n",
              "\n",
              "    .dataframe tbody tr th {\n",
              "        vertical-align: top;\n",
              "    }\n",
              "\n",
              "    .dataframe thead th {\n",
              "        text-align: right;\n",
              "    }\n",
              "</style>\n",
              "<table border=\"1\" class=\"dataframe\">\n",
              "  <thead>\n",
              "    <tr style=\"text-align: right;\">\n",
              "      <th></th>\n",
              "      <th>description</th>\n",
              "      <th>severity</th>\n",
              "      <th>Encounter_ID</th>\n",
              "    </tr>\n",
              "  </thead>\n",
              "  <tbody>\n",
              "    <tr>\n",
              "      <th>0</th>\n",
              "      <td>Hypertension</td>\n",
              "      <td>mild</td>\n",
              "      <td>L8694502508698944760</td>\n",
              "    </tr>\n",
              "    <tr>\n",
              "      <th>1</th>\n",
              "      <td>General medical examination</td>\n",
              "      <td>NaN</td>\n",
              "      <td>M3204724885018391695</td>\n",
              "    </tr>\n",
              "    <tr>\n",
              "      <th>2</th>\n",
              "      <td>Chronic Obstructive Pulmonary Disease</td>\n",
              "      <td>critical</td>\n",
              "      <td>C2819614934032019919</td>\n",
              "    </tr>\n",
              "    <tr>\n",
              "      <th>3</th>\n",
              "      <td>Hypertension</td>\n",
              "      <td>mild</td>\n",
              "      <td>S4571692645992867370</td>\n",
              "    </tr>\n",
              "    <tr>\n",
              "      <th>4</th>\n",
              "      <td>General medical examination</td>\n",
              "      <td>NaN</td>\n",
              "      <td>J6262874375300991101</td>\n",
              "    </tr>\n",
              "  </tbody>\n",
              "</table>\n",
              "</div>"
            ],
            "text/plain": [
              "                             description  severity          Encounter_ID\n",
              "0                           Hypertension      mild  L8694502508698944760\n",
              "1            General medical examination       NaN  M3204724885018391695\n",
              "2  Chronic Obstructive Pulmonary Disease  critical  C2819614934032019919\n",
              "3                           Hypertension      mild  S4571692645992867370\n",
              "4            General medical examination       NaN  J6262874375300991101"
            ]
          },
          "metadata": {
            "tags": []
          },
          "execution_count": 180
        }
      ]
    },
    {
      "cell_type": "markdown",
      "metadata": {
        "id": "_ot-51T-2hNB",
        "colab_type": "text"
      },
      "source": [
        "## **Preprocessing df4**"
      ]
    },
    {
      "cell_type": "code",
      "metadata": {
        "id": "ZxbuCEKZtOPl",
        "colab_type": "code",
        "outputId": "9bd8f351-0eaf-4f47-97d1-48d18ca7392e",
        "colab": {
          "base_uri": "https://localhost:8080/",
          "height": 428
        }
      },
      "source": [
        "df4.head()"
      ],
      "execution_count": 181,
      "outputs": [
        {
          "output_type": "execute_result",
          "data": {
            "text/html": [
              "<div>\n",
              "<style scoped>\n",
              "    .dataframe tbody tr th:only-of-type {\n",
              "        vertical-align: middle;\n",
              "    }\n",
              "\n",
              "    .dataframe tbody tr th {\n",
              "        vertical-align: top;\n",
              "    }\n",
              "\n",
              "    .dataframe thead th {\n",
              "        text-align: right;\n",
              "    }\n",
              "</style>\n",
              "<table border=\"1\" class=\"dataframe\">\n",
              "  <thead>\n",
              "    <tr style=\"text-align: right;\">\n",
              "      <th></th>\n",
              "      <th>Provider_Org</th>\n",
              "      <th>Encounter_ID</th>\n",
              "      <th>Member_ID</th>\n",
              "      <th>Provider_ID</th>\n",
              "      <th>Provider_NPI</th>\n",
              "      <th>Clinic_ID</th>\n",
              "      <th>Encounter_DateTime</th>\n",
              "      <th>Encounter_Description</th>\n",
              "      <th>CC</th>\n",
              "      <th>Episode_ID</th>\n",
              "      <th>Patient_DOB</th>\n",
              "      <th>Patient_Gender</th>\n",
              "      <th>Facility_Name</th>\n",
              "      <th>Provider_Name</th>\n",
              "      <th>Specialty</th>\n",
              "      <th>Clinic_Type</th>\n",
              "      <th>lab_orders_count</th>\n",
              "      <th>lab_results_count</th>\n",
              "      <th>medication_orders_count</th>\n",
              "      <th>medication_fulfillment_count</th>\n",
              "      <th>vital_sign_count</th>\n",
              "      <th>therapy_orders_count</th>\n",
              "      <th>therapy_actions_count</th>\n",
              "      <th>immunization_count</th>\n",
              "      <th>Has_Appt</th>\n",
              "      <th>SOAP_Note</th>\n",
              "      <th>consult_ordered</th>\n",
              "      <th>Disposition</th>\n",
              "    </tr>\n",
              "  </thead>\n",
              "  <tbody>\n",
              "    <tr>\n",
              "      <th>0</th>\n",
              "      <td>ExactData Medical Health System</td>\n",
              "      <td>L8694502508698944760</td>\n",
              "      <td>568001602-01</td>\n",
              "      <td>663746638</td>\n",
              "      <td>2531462832</td>\n",
              "      <td>Sidney Hillman Health Center</td>\n",
              "      <td>2005-06-30T19:15:00Z</td>\n",
              "      <td>Lacy visited primary care physician on 6/30/20...</td>\n",
              "      <td>mild occasional lightheadedness</td>\n",
              "      <td>L8694502508698944760</td>\n",
              "      <td>02/24/1972</td>\n",
              "      <td>female</td>\n",
              "      <td>NaN</td>\n",
              "      <td>Athena V Morris, MD</td>\n",
              "      <td>FAMILY PRACTICE/PRIMARY CARE</td>\n",
              "      <td>outpatient_medical</td>\n",
              "      <td>1</td>\n",
              "      <td>0</td>\n",
              "      <td>1</td>\n",
              "      <td>0</td>\n",
              "      <td>7</td>\n",
              "      <td>0</td>\n",
              "      <td>1</td>\n",
              "      <td>0</td>\n",
              "      <td>True</td>\n",
              "      <td>s:a 33 year old female crystallographer presen...</td>\n",
              "      <td>NaN</td>\n",
              "      <td>ReleasedWithoutLimitations</td>\n",
              "    </tr>\n",
              "    <tr>\n",
              "      <th>1</th>\n",
              "      <td>ExactData Medical Health System</td>\n",
              "      <td>V3046573432409333612</td>\n",
              "      <td>568001602-01</td>\n",
              "      <td>523808810</td>\n",
              "      <td>1380097962</td>\n",
              "      <td>Corner Drug Store</td>\n",
              "      <td>2005-07-01T23:44:00Z</td>\n",
              "      <td>Lacy visited pharmacy on 7/1/2005 6:44:00 PM f...</td>\n",
              "      <td>NaN</td>\n",
              "      <td>L8694502508698944760</td>\n",
              "      <td>02/24/1972</td>\n",
              "      <td>female</td>\n",
              "      <td>NaN</td>\n",
              "      <td>Shelley A Lawson, RPh</td>\n",
              "      <td>NaN</td>\n",
              "      <td>pharmacy</td>\n",
              "      <td>0</td>\n",
              "      <td>0</td>\n",
              "      <td>0</td>\n",
              "      <td>1</td>\n",
              "      <td>0</td>\n",
              "      <td>0</td>\n",
              "      <td>0</td>\n",
              "      <td>0</td>\n",
              "      <td>False</td>\n",
              "      <td>NaN</td>\n",
              "      <td>NaN</td>\n",
              "      <td>ReleasedWithoutLimitations</td>\n",
              "    </tr>\n",
              "    <tr>\n",
              "      <th>2</th>\n",
              "      <td>ExactData Medical Health System</td>\n",
              "      <td>X3228783097331248888</td>\n",
              "      <td>568001602-01</td>\n",
              "      <td>695700114</td>\n",
              "      <td>1261075194</td>\n",
              "      <td>Wood Diagnostic Labs</td>\n",
              "      <td>2005-07-05T14:54:00Z</td>\n",
              "      <td>Lacy visited medical lab on 7/5/2005 9:54:00 A...</td>\n",
              "      <td>NaN</td>\n",
              "      <td>L8694502508698944760</td>\n",
              "      <td>02/24/1972</td>\n",
              "      <td>female</td>\n",
              "      <td>NaN</td>\n",
              "      <td>Aquila F Whitney</td>\n",
              "      <td>NaN</td>\n",
              "      <td>lab</td>\n",
              "      <td>0</td>\n",
              "      <td>1</td>\n",
              "      <td>0</td>\n",
              "      <td>0</td>\n",
              "      <td>0</td>\n",
              "      <td>0</td>\n",
              "      <td>0</td>\n",
              "      <td>0</td>\n",
              "      <td>False</td>\n",
              "      <td>NaN</td>\n",
              "      <td>NaN</td>\n",
              "      <td>ReleasedWithoutLimitations</td>\n",
              "    </tr>\n",
              "    <tr>\n",
              "      <th>3</th>\n",
              "      <td>ExactData Medical Health System</td>\n",
              "      <td>M3204724885018391695</td>\n",
              "      <td>568001602-01</td>\n",
              "      <td>663746638</td>\n",
              "      <td>2531462832</td>\n",
              "      <td>Sidney Hillman Health Center</td>\n",
              "      <td>2005-10-07T15:45:00Z</td>\n",
              "      <td>Lacy visited primary care physician on 10/7/20...</td>\n",
              "      <td>NaN</td>\n",
              "      <td>M3204724885018391695</td>\n",
              "      <td>02/24/1972</td>\n",
              "      <td>female</td>\n",
              "      <td>NaN</td>\n",
              "      <td>Athena V Morris, MD</td>\n",
              "      <td>FAMILY PRACTICE/PRIMARY CARE</td>\n",
              "      <td>outpatient_medical</td>\n",
              "      <td>1</td>\n",
              "      <td>2</td>\n",
              "      <td>0</td>\n",
              "      <td>0</td>\n",
              "      <td>7</td>\n",
              "      <td>0</td>\n",
              "      <td>1</td>\n",
              "      <td>1</td>\n",
              "      <td>True</td>\n",
              "      <td>s:33 yr old female crystallographer presents t...</td>\n",
              "      <td>NaN</td>\n",
              "      <td>ReleasedWithoutLimitations</td>\n",
              "    </tr>\n",
              "    <tr>\n",
              "      <th>4</th>\n",
              "      <td>ExactData Medical Health System</td>\n",
              "      <td>G7012345417035113309</td>\n",
              "      <td>568001602-01</td>\n",
              "      <td>695700114</td>\n",
              "      <td>1261075194</td>\n",
              "      <td>Wood Diagnostic Labs</td>\n",
              "      <td>2005-10-12T20:33:00Z</td>\n",
              "      <td>Lacy visited medical lab on 10/12/2005 3:33:00...</td>\n",
              "      <td>NaN</td>\n",
              "      <td>M3204724885018391695</td>\n",
              "      <td>02/24/1972</td>\n",
              "      <td>female</td>\n",
              "      <td>NaN</td>\n",
              "      <td>Aquila F Whitney</td>\n",
              "      <td>NaN</td>\n",
              "      <td>lab</td>\n",
              "      <td>0</td>\n",
              "      <td>1</td>\n",
              "      <td>0</td>\n",
              "      <td>0</td>\n",
              "      <td>0</td>\n",
              "      <td>0</td>\n",
              "      <td>0</td>\n",
              "      <td>0</td>\n",
              "      <td>False</td>\n",
              "      <td>NaN</td>\n",
              "      <td>NaN</td>\n",
              "      <td>ReleasedWithoutLimitations</td>\n",
              "    </tr>\n",
              "  </tbody>\n",
              "</table>\n",
              "</div>"
            ],
            "text/plain": [
              "                      Provider_Org  ...                 Disposition\n",
              "0  ExactData Medical Health System  ...  ReleasedWithoutLimitations\n",
              "1  ExactData Medical Health System  ...  ReleasedWithoutLimitations\n",
              "2  ExactData Medical Health System  ...  ReleasedWithoutLimitations\n",
              "3  ExactData Medical Health System  ...  ReleasedWithoutLimitations\n",
              "4  ExactData Medical Health System  ...  ReleasedWithoutLimitations\n",
              "\n",
              "[5 rows x 28 columns]"
            ]
          },
          "metadata": {
            "tags": []
          },
          "execution_count": 181
        }
      ]
    },
    {
      "cell_type": "code",
      "metadata": {
        "id": "Fu_mxgY3Ue9W",
        "colab_type": "code",
        "colab": {
          "base_uri": "https://localhost:8080/",
          "height": 34
        },
        "outputId": "971798e1-055a-4474-fcb6-b48483f90320"
      },
      "source": [
        "df4.shape"
      ],
      "execution_count": 182,
      "outputs": [
        {
          "output_type": "execute_result",
          "data": {
            "text/plain": [
              "(5447, 28)"
            ]
          },
          "metadata": {
            "tags": []
          },
          "execution_count": 182
        }
      ]
    },
    {
      "cell_type": "code",
      "metadata": {
        "id": "Mziro7lYWn92",
        "colab_type": "code",
        "outputId": "762c6cb7-9f49-4f8e-9db8-bfc998867081",
        "colab": {
          "base_uri": "https://localhost:8080/",
          "height": 510
        }
      },
      "source": [
        "df4.count()"
      ],
      "execution_count": 183,
      "outputs": [
        {
          "output_type": "execute_result",
          "data": {
            "text/plain": [
              "Provider_Org                    5447\n",
              "Encounter_ID                    5447\n",
              "Member_ID                       5447\n",
              "Provider_ID                     5447\n",
              "Provider_NPI                    5447\n",
              "Clinic_ID                       5447\n",
              "Encounter_DateTime              5447\n",
              "Encounter_Description           5447\n",
              "CC                              2237\n",
              "Episode_ID                      5447\n",
              "Patient_DOB                     5447\n",
              "Patient_Gender                  5447\n",
              "Facility_Name                      0\n",
              "Provider_Name                   5447\n",
              "Specialty                       3543\n",
              "Clinic_Type                     5447\n",
              "lab_orders_count                5447\n",
              "lab_results_count               5447\n",
              "medication_orders_count         5447\n",
              "medication_fulfillment_count    5447\n",
              "vital_sign_count                5447\n",
              "therapy_orders_count            5447\n",
              "therapy_actions_count           5447\n",
              "immunization_count              5447\n",
              "Has_Appt                        5447\n",
              "SOAP_Note                       3352\n",
              "consult_ordered                  554\n",
              "Disposition                     5447\n",
              "dtype: int64"
            ]
          },
          "metadata": {
            "tags": []
          },
          "execution_count": 183
        }
      ]
    },
    {
      "cell_type": "code",
      "metadata": {
        "id": "lz9b_wJXWw12",
        "colab_type": "code",
        "colab": {}
      },
      "source": [
        "# Dropping the columns with no data\n",
        "df4 = df4.dropna(axis = 'columns', how = 'all')"
      ],
      "execution_count": 0,
      "outputs": []
    },
    {
      "cell_type": "code",
      "metadata": {
        "id": "RfVh6Q0wW0Rp",
        "colab_type": "code",
        "colab": {}
      },
      "source": [
        "#Dropping Provider_Name, Clinic_ID, Has_Appt\n",
        "to_drop = ['Provider_Name', 'Clinic_ID','Has_Appt']\n",
        "df4 = df4.drop(to_drop, axis=1)"
      ],
      "execution_count": 0,
      "outputs": []
    },
    {
      "cell_type": "code",
      "metadata": {
        "id": "lRPdbXkmXJBs",
        "colab_type": "code",
        "colab": {}
      },
      "source": [
        "df4.rename(columns = {'Patient_DOB':'Age'}, inplace = True) \n",
        "df4['Age'] = pd.to_datetime(df4['Age'], format='%m/%d/%Y')\n",
        "t_date = '2006-01-01 00:00:0.000000'\n",
        "df4[\"Age\"] = (pd.to_datetime(t_date) - df4['Age']).astype('<m8[Y]') "
      ],
      "execution_count": 0,
      "outputs": []
    },
    {
      "cell_type": "code",
      "metadata": {
        "id": "ewtVeAXtXXN6",
        "colab_type": "code",
        "colab": {}
      },
      "source": [
        "year = pd.DatetimeIndex(df4['Encounter_DateTime']).year\n",
        "month = pd.DatetimeIndex(df4['Encounter_DateTime']).month\n",
        "day = pd.DatetimeIndex(df4['Encounter_DateTime']).day"
      ],
      "execution_count": 0,
      "outputs": []
    },
    {
      "cell_type": "code",
      "metadata": {
        "id": "5HyXZBibXa0-",
        "colab_type": "code",
        "colab": {}
      },
      "source": [
        "def _month(x):\n",
        "    if x == 1:\n",
        "        return 'Jan'\n",
        "    if x == 2:\n",
        "        return 'Feb'\n",
        "    if x == 3:\n",
        "        return 'Mar'\n",
        "    if x == 4:\n",
        "        return 'Apr'\n",
        "    if x == 5:\n",
        "        return 'May'\n",
        "    if x == 6:\n",
        "        return 'Jun'\n",
        "    if x == 7:\n",
        "        return 'Jul'\n",
        "    if x == 8:\n",
        "        return 'Aug'\n",
        "    if x == 9:\n",
        "        return 'Sep'\n",
        "    if x == 10:\n",
        "        return 'Oct'\n",
        "    if x == 11:\n",
        "        return 'Nov'\n",
        "    if x == 12:\n",
        "        return 'Dec'"
      ],
      "execution_count": 0,
      "outputs": []
    },
    {
      "cell_type": "code",
      "metadata": {
        "id": "gowFamqJX1j_",
        "colab_type": "code",
        "colab": {}
      },
      "source": [
        "#Extracting the date from datetime\n",
        "year = np.asarray(year)\n",
        "yea = []\n",
        "for i in range (0, len(year)):\n",
        "    s = str(year[i])\n",
        "    yea.append(s)\n",
        "res = []\n",
        "for i in range(0, len(month)):\n",
        "    r = _month(month[i])\n",
        "    res.append(r)\n",
        "date = []\n",
        "for i in range(0, len(day)):\n",
        "    l = str(day[i])\n",
        "    date.append(l)\n",
        "\n",
        "ans1 = np.char.add(date, ' ')\n",
        "ans2 = np.char.add(ans1, res)\n",
        "ans3 = np.char.add(ans2, ' ')\n",
        "ans = np.char.add(ans3, yea)\n",
        "col = pd.DataFrame(data=ans)\n",
        "df4[\"Encounter_DateTime\"] = col\n",
        "df4.rename(columns = {'Encounter_DateTime':'Encounter_Date'}, inplace = True) "
      ],
      "execution_count": 0,
      "outputs": []
    },
    {
      "cell_type": "code",
      "metadata": {
        "id": "DNMUvbK8251-",
        "colab_type": "code",
        "colab": {
          "base_uri": "https://localhost:8080/",
          "height": 428
        },
        "outputId": "c96f5d51-7175-4e92-dc9f-bf17b23fe767"
      },
      "source": [
        "df4.head()"
      ],
      "execution_count": 190,
      "outputs": [
        {
          "output_type": "execute_result",
          "data": {
            "text/html": [
              "<div>\n",
              "<style scoped>\n",
              "    .dataframe tbody tr th:only-of-type {\n",
              "        vertical-align: middle;\n",
              "    }\n",
              "\n",
              "    .dataframe tbody tr th {\n",
              "        vertical-align: top;\n",
              "    }\n",
              "\n",
              "    .dataframe thead th {\n",
              "        text-align: right;\n",
              "    }\n",
              "</style>\n",
              "<table border=\"1\" class=\"dataframe\">\n",
              "  <thead>\n",
              "    <tr style=\"text-align: right;\">\n",
              "      <th></th>\n",
              "      <th>Provider_Org</th>\n",
              "      <th>Encounter_ID</th>\n",
              "      <th>Member_ID</th>\n",
              "      <th>Provider_ID</th>\n",
              "      <th>Provider_NPI</th>\n",
              "      <th>Encounter_Date</th>\n",
              "      <th>Encounter_Description</th>\n",
              "      <th>CC</th>\n",
              "      <th>Episode_ID</th>\n",
              "      <th>Age</th>\n",
              "      <th>Patient_Gender</th>\n",
              "      <th>Specialty</th>\n",
              "      <th>Clinic_Type</th>\n",
              "      <th>lab_orders_count</th>\n",
              "      <th>lab_results_count</th>\n",
              "      <th>medication_orders_count</th>\n",
              "      <th>medication_fulfillment_count</th>\n",
              "      <th>vital_sign_count</th>\n",
              "      <th>therapy_orders_count</th>\n",
              "      <th>therapy_actions_count</th>\n",
              "      <th>immunization_count</th>\n",
              "      <th>SOAP_Note</th>\n",
              "      <th>consult_ordered</th>\n",
              "      <th>Disposition</th>\n",
              "    </tr>\n",
              "  </thead>\n",
              "  <tbody>\n",
              "    <tr>\n",
              "      <th>0</th>\n",
              "      <td>ExactData Medical Health System</td>\n",
              "      <td>L8694502508698944760</td>\n",
              "      <td>568001602-01</td>\n",
              "      <td>663746638</td>\n",
              "      <td>2531462832</td>\n",
              "      <td>30 Jun 2005</td>\n",
              "      <td>Lacy visited primary care physician on 6/30/20...</td>\n",
              "      <td>mild occasional lightheadedness</td>\n",
              "      <td>L8694502508698944760</td>\n",
              "      <td>33.0</td>\n",
              "      <td>female</td>\n",
              "      <td>FAMILY PRACTICE/PRIMARY CARE</td>\n",
              "      <td>outpatient_medical</td>\n",
              "      <td>1</td>\n",
              "      <td>0</td>\n",
              "      <td>1</td>\n",
              "      <td>0</td>\n",
              "      <td>7</td>\n",
              "      <td>0</td>\n",
              "      <td>1</td>\n",
              "      <td>0</td>\n",
              "      <td>s:a 33 year old female crystallographer presen...</td>\n",
              "      <td>NaN</td>\n",
              "      <td>ReleasedWithoutLimitations</td>\n",
              "    </tr>\n",
              "    <tr>\n",
              "      <th>1</th>\n",
              "      <td>ExactData Medical Health System</td>\n",
              "      <td>V3046573432409333612</td>\n",
              "      <td>568001602-01</td>\n",
              "      <td>523808810</td>\n",
              "      <td>1380097962</td>\n",
              "      <td>1 Jul 2005</td>\n",
              "      <td>Lacy visited pharmacy on 7/1/2005 6:44:00 PM f...</td>\n",
              "      <td>NaN</td>\n",
              "      <td>L8694502508698944760</td>\n",
              "      <td>33.0</td>\n",
              "      <td>female</td>\n",
              "      <td>NaN</td>\n",
              "      <td>pharmacy</td>\n",
              "      <td>0</td>\n",
              "      <td>0</td>\n",
              "      <td>0</td>\n",
              "      <td>1</td>\n",
              "      <td>0</td>\n",
              "      <td>0</td>\n",
              "      <td>0</td>\n",
              "      <td>0</td>\n",
              "      <td>NaN</td>\n",
              "      <td>NaN</td>\n",
              "      <td>ReleasedWithoutLimitations</td>\n",
              "    </tr>\n",
              "    <tr>\n",
              "      <th>2</th>\n",
              "      <td>ExactData Medical Health System</td>\n",
              "      <td>X3228783097331248888</td>\n",
              "      <td>568001602-01</td>\n",
              "      <td>695700114</td>\n",
              "      <td>1261075194</td>\n",
              "      <td>5 Jul 2005</td>\n",
              "      <td>Lacy visited medical lab on 7/5/2005 9:54:00 A...</td>\n",
              "      <td>NaN</td>\n",
              "      <td>L8694502508698944760</td>\n",
              "      <td>33.0</td>\n",
              "      <td>female</td>\n",
              "      <td>NaN</td>\n",
              "      <td>lab</td>\n",
              "      <td>0</td>\n",
              "      <td>1</td>\n",
              "      <td>0</td>\n",
              "      <td>0</td>\n",
              "      <td>0</td>\n",
              "      <td>0</td>\n",
              "      <td>0</td>\n",
              "      <td>0</td>\n",
              "      <td>NaN</td>\n",
              "      <td>NaN</td>\n",
              "      <td>ReleasedWithoutLimitations</td>\n",
              "    </tr>\n",
              "    <tr>\n",
              "      <th>3</th>\n",
              "      <td>ExactData Medical Health System</td>\n",
              "      <td>M3204724885018391695</td>\n",
              "      <td>568001602-01</td>\n",
              "      <td>663746638</td>\n",
              "      <td>2531462832</td>\n",
              "      <td>7 Oct 2005</td>\n",
              "      <td>Lacy visited primary care physician on 10/7/20...</td>\n",
              "      <td>NaN</td>\n",
              "      <td>M3204724885018391695</td>\n",
              "      <td>33.0</td>\n",
              "      <td>female</td>\n",
              "      <td>FAMILY PRACTICE/PRIMARY CARE</td>\n",
              "      <td>outpatient_medical</td>\n",
              "      <td>1</td>\n",
              "      <td>2</td>\n",
              "      <td>0</td>\n",
              "      <td>0</td>\n",
              "      <td>7</td>\n",
              "      <td>0</td>\n",
              "      <td>1</td>\n",
              "      <td>1</td>\n",
              "      <td>s:33 yr old female crystallographer presents t...</td>\n",
              "      <td>NaN</td>\n",
              "      <td>ReleasedWithoutLimitations</td>\n",
              "    </tr>\n",
              "    <tr>\n",
              "      <th>4</th>\n",
              "      <td>ExactData Medical Health System</td>\n",
              "      <td>G7012345417035113309</td>\n",
              "      <td>568001602-01</td>\n",
              "      <td>695700114</td>\n",
              "      <td>1261075194</td>\n",
              "      <td>12 Oct 2005</td>\n",
              "      <td>Lacy visited medical lab on 10/12/2005 3:33:00...</td>\n",
              "      <td>NaN</td>\n",
              "      <td>M3204724885018391695</td>\n",
              "      <td>33.0</td>\n",
              "      <td>female</td>\n",
              "      <td>NaN</td>\n",
              "      <td>lab</td>\n",
              "      <td>0</td>\n",
              "      <td>1</td>\n",
              "      <td>0</td>\n",
              "      <td>0</td>\n",
              "      <td>0</td>\n",
              "      <td>0</td>\n",
              "      <td>0</td>\n",
              "      <td>0</td>\n",
              "      <td>NaN</td>\n",
              "      <td>NaN</td>\n",
              "      <td>ReleasedWithoutLimitations</td>\n",
              "    </tr>\n",
              "  </tbody>\n",
              "</table>\n",
              "</div>"
            ],
            "text/plain": [
              "                      Provider_Org  ...                 Disposition\n",
              "0  ExactData Medical Health System  ...  ReleasedWithoutLimitations\n",
              "1  ExactData Medical Health System  ...  ReleasedWithoutLimitations\n",
              "2  ExactData Medical Health System  ...  ReleasedWithoutLimitations\n",
              "3  ExactData Medical Health System  ...  ReleasedWithoutLimitations\n",
              "4  ExactData Medical Health System  ...  ReleasedWithoutLimitations\n",
              "\n",
              "[5 rows x 24 columns]"
            ]
          },
          "metadata": {
            "tags": []
          },
          "execution_count": 190
        }
      ]
    },
    {
      "cell_type": "markdown",
      "metadata": {
        "id": "aksHSqTdht0T",
        "colab_type": "text"
      },
      "source": [
        "# **Merging and Analysis**"
      ]
    },
    {
      "cell_type": "code",
      "metadata": {
        "id": "4JHuMjHLtORf",
        "colab_type": "code",
        "outputId": "7c6ef633-0202-4921-c581-a99543c07d9d",
        "colab": {
          "base_uri": "https://localhost:8080/",
          "height": 85
        }
      },
      "source": [
        "df1.columns"
      ],
      "execution_count": 191,
      "outputs": [
        {
          "output_type": "execute_result",
          "data": {
            "text/plain": [
              "Index(['Provider_Org', 'Order_ID', 'Member_ID', 'Prescription',\n",
              "       'Dispense_Date', 'Drug_Name', 'Drug_NDC', 'Sig', 'Dispense_Qty', 'Dose',\n",
              "       'Days_Of_Supply', 'Encounter_ID'],\n",
              "      dtype='object')"
            ]
          },
          "metadata": {
            "tags": []
          },
          "execution_count": 191
        }
      ]
    },
    {
      "cell_type": "code",
      "metadata": {
        "id": "Tvmt-Qz-tORn",
        "colab_type": "code",
        "outputId": "b8a09df1-d2b5-4533-aed4-1a7307315e78",
        "colab": {
          "base_uri": "https://localhost:8080/",
          "height": 85
        }
      },
      "source": [
        "df2.columns"
      ],
      "execution_count": 192,
      "outputs": [
        {
          "output_type": "execute_result",
          "data": {
            "text/plain": [
              "Index(['Provider_Org', 'Member_ID', 'Date_Collected', 'Test_ID', 'Test_Name',\n",
              "       'Result_LOINC', 'Result_Name', 'Result_Description', 'Order_ID',\n",
              "       'Provider_ID', 'Encounter_ID', 'Result'],\n",
              "      dtype='object')"
            ]
          },
          "metadata": {
            "tags": []
          },
          "execution_count": 192
        }
      ]
    },
    {
      "cell_type": "code",
      "metadata": {
        "id": "TJJ3z8V-tORw",
        "colab_type": "code",
        "outputId": "0a05cf1d-30a2-4527-fd99-9c8b12866320",
        "colab": {
          "base_uri": "https://localhost:8080/",
          "height": 34
        }
      },
      "source": [
        "df3.columns"
      ],
      "execution_count": 193,
      "outputs": [
        {
          "output_type": "execute_result",
          "data": {
            "text/plain": [
              "Index(['description', 'severity', 'Encounter_ID'], dtype='object')"
            ]
          },
          "metadata": {
            "tags": []
          },
          "execution_count": 193
        }
      ]
    },
    {
      "cell_type": "code",
      "metadata": {
        "id": "L0Yne5MwtORW",
        "colab_type": "code",
        "outputId": "31fcbe26-69c7-4d3d-d278-5484c3d5c8c8",
        "colab": {
          "base_uri": "https://localhost:8080/",
          "height": 153
        }
      },
      "source": [
        "df4.columns"
      ],
      "execution_count": 194,
      "outputs": [
        {
          "output_type": "execute_result",
          "data": {
            "text/plain": [
              "Index(['Provider_Org', 'Encounter_ID', 'Member_ID', 'Provider_ID',\n",
              "       'Provider_NPI', 'Encounter_Date', 'Encounter_Description', 'CC',\n",
              "       'Episode_ID', 'Age', 'Patient_Gender', 'Specialty', 'Clinic_Type',\n",
              "       'lab_orders_count', 'lab_results_count', 'medication_orders_count',\n",
              "       'medication_fulfillment_count', 'vital_sign_count',\n",
              "       'therapy_orders_count', 'therapy_actions_count', 'immunization_count',\n",
              "       'SOAP_Note', 'consult_ordered', 'Disposition'],\n",
              "      dtype='object')"
            ]
          },
          "metadata": {
            "tags": []
          },
          "execution_count": 194
        }
      ]
    },
    {
      "cell_type": "markdown",
      "metadata": {
        "id": "7mKxivmF3LJw",
        "colab_type": "text"
      },
      "source": [
        "Understaning the four different datasets to find out the fact table and the dimension table to implement Star Schema"
      ]
    },
    {
      "cell_type": "code",
      "metadata": {
        "id": "Z_w5PSPJtOR4",
        "colab_type": "code",
        "outputId": "29203ed3-ba88-4d69-a4de-c3f777a5643c",
        "colab": {
          "base_uri": "https://localhost:8080/",
          "height": 34
        }
      },
      "source": [
        "df2['Provider_ID'].unique().shape"
      ],
      "execution_count": 195,
      "outputs": [
        {
          "output_type": "execute_result",
          "data": {
            "text/plain": [
              "(99,)"
            ]
          },
          "metadata": {
            "tags": []
          },
          "execution_count": 195
        }
      ]
    },
    {
      "cell_type": "code",
      "metadata": {
        "id": "llO-wMwOtOSJ",
        "colab_type": "code",
        "outputId": "a663e8fc-7c74-45bf-fadc-102e2e8dfc21",
        "colab": {
          "base_uri": "https://localhost:8080/",
          "height": 34
        }
      },
      "source": [
        "df3['Encounter_ID'].unique().shape"
      ],
      "execution_count": 196,
      "outputs": [
        {
          "output_type": "execute_result",
          "data": {
            "text/plain": [
              "(2717,)"
            ]
          },
          "metadata": {
            "tags": []
          },
          "execution_count": 196
        }
      ]
    },
    {
      "cell_type": "code",
      "metadata": {
        "id": "GQArdHMitOSR",
        "colab_type": "code",
        "outputId": "bbd909da-ed22-43f9-b5f7-5f3d206add99",
        "colab": {
          "base_uri": "https://localhost:8080/",
          "height": 34
        }
      },
      "source": [
        "df4['Provider_ID'].unique().shape"
      ],
      "execution_count": 197,
      "outputs": [
        {
          "output_type": "execute_result",
          "data": {
            "text/plain": [
              "(155,)"
            ]
          },
          "metadata": {
            "tags": []
          },
          "execution_count": 197
        }
      ]
    },
    {
      "cell_type": "code",
      "metadata": {
        "id": "eCZdSH7WtOSk",
        "colab_type": "code",
        "outputId": "4525b697-3832-4607-b810-2723a82edd74",
        "colab": {
          "base_uri": "https://localhost:8080/",
          "height": 34
        }
      },
      "source": [
        "df3['Encounter_ID'].shape"
      ],
      "execution_count": 198,
      "outputs": [
        {
          "output_type": "execute_result",
          "data": {
            "text/plain": [
              "(3063,)"
            ]
          },
          "metadata": {
            "tags": []
          },
          "execution_count": 198
        }
      ]
    },
    {
      "cell_type": "code",
      "metadata": {
        "id": "7L-QGgLDtOTG",
        "colab_type": "code",
        "outputId": "c8e1c122-08a6-4adc-b2c2-9515f2d12f3d",
        "colab": {
          "base_uri": "https://localhost:8080/",
          "height": 34
        }
      },
      "source": [
        "df2['Member_ID'].unique().shape"
      ],
      "execution_count": 199,
      "outputs": [
        {
          "output_type": "execute_result",
          "data": {
            "text/plain": [
              "(104,)"
            ]
          },
          "metadata": {
            "tags": []
          },
          "execution_count": 199
        }
      ]
    },
    {
      "cell_type": "code",
      "metadata": {
        "id": "iu0718FRtOTd",
        "colab_type": "code",
        "outputId": "0806077c-b3ff-415d-c90f-dd4b8bbbdc0c",
        "colab": {
          "base_uri": "https://localhost:8080/",
          "height": 34
        }
      },
      "source": [
        "df3.shape"
      ],
      "execution_count": 200,
      "outputs": [
        {
          "output_type": "execute_result",
          "data": {
            "text/plain": [
              "(3063, 3)"
            ]
          },
          "metadata": {
            "tags": []
          },
          "execution_count": 200
        }
      ]
    },
    {
      "cell_type": "code",
      "metadata": {
        "id": "BH5PTDHOtOTq",
        "colab_type": "code",
        "outputId": "c33073a4-b312-4313-add4-bb91465610be",
        "colab": {
          "base_uri": "https://localhost:8080/",
          "height": 34
        }
      },
      "source": [
        "df2.shape"
      ],
      "execution_count": 201,
      "outputs": [
        {
          "output_type": "execute_result",
          "data": {
            "text/plain": [
              "(7509, 12)"
            ]
          },
          "metadata": {
            "tags": []
          },
          "execution_count": 201
        }
      ]
    },
    {
      "cell_type": "code",
      "metadata": {
        "id": "KKIEc505tOTw",
        "colab_type": "code",
        "outputId": "d00b0abd-083b-4912-95b8-cac50baa7712",
        "colab": {
          "base_uri": "https://localhost:8080/",
          "height": 394
        }
      },
      "source": [
        "df2.head()"
      ],
      "execution_count": 202,
      "outputs": [
        {
          "output_type": "execute_result",
          "data": {
            "text/html": [
              "<div>\n",
              "<style scoped>\n",
              "    .dataframe tbody tr th:only-of-type {\n",
              "        vertical-align: middle;\n",
              "    }\n",
              "\n",
              "    .dataframe tbody tr th {\n",
              "        vertical-align: top;\n",
              "    }\n",
              "\n",
              "    .dataframe thead th {\n",
              "        text-align: right;\n",
              "    }\n",
              "</style>\n",
              "<table border=\"1\" class=\"dataframe\">\n",
              "  <thead>\n",
              "    <tr style=\"text-align: right;\">\n",
              "      <th></th>\n",
              "      <th>Provider_Org</th>\n",
              "      <th>Member_ID</th>\n",
              "      <th>Date_Collected</th>\n",
              "      <th>Test_ID</th>\n",
              "      <th>Test_Name</th>\n",
              "      <th>Result_LOINC</th>\n",
              "      <th>Result_Name</th>\n",
              "      <th>Result_Description</th>\n",
              "      <th>Order_ID</th>\n",
              "      <th>Provider_ID</th>\n",
              "      <th>Encounter_ID</th>\n",
              "      <th>Result</th>\n",
              "    </tr>\n",
              "  </thead>\n",
              "  <tbody>\n",
              "    <tr>\n",
              "      <th>0</th>\n",
              "      <td>ExactData Medical Health System</td>\n",
              "      <td>568001602-01</td>\n",
              "      <td>2005-07-05T15:54:00Z</td>\n",
              "      <td>050705 CH 76296541</td>\n",
              "      <td>Cholesterol</td>\n",
              "      <td>2093-3</td>\n",
              "      <td>Cholesterol</td>\n",
              "      <td>Cholesterol=250 mg/dL</td>\n",
              "      <td>050630-30199</td>\n",
              "      <td>695700114</td>\n",
              "      <td>X3228783097331248888</td>\n",
              "      <td>250mg/dL</td>\n",
              "    </tr>\n",
              "    <tr>\n",
              "      <th>1</th>\n",
              "      <td>ExactData Medical Health System</td>\n",
              "      <td>568001602-01</td>\n",
              "      <td>2005-10-07T16:15:00Z</td>\n",
              "      <td>051007 CH 47988013</td>\n",
              "      <td>HPV I/H Risk DNA Probe</td>\n",
              "      <td>21440-3</td>\n",
              "      <td>HPV test</td>\n",
              "      <td>negative for HPV 16 &amp; 18</td>\n",
              "      <td>NaN</td>\n",
              "      <td>663746638</td>\n",
              "      <td>M3204724885018391695</td>\n",
              "      <td>NaN</td>\n",
              "    </tr>\n",
              "    <tr>\n",
              "      <th>2</th>\n",
              "      <td>ExactData Medical Health System</td>\n",
              "      <td>568001602-01</td>\n",
              "      <td>2005-10-07T16:15:00Z</td>\n",
              "      <td>051007 CH 04421087</td>\n",
              "      <td>Visual Acuity Study</td>\n",
              "      <td>28631-0</td>\n",
              "      <td>acuity</td>\n",
              "      <td>right eye 20/20, left eye 20/20</td>\n",
              "      <td>NaN</td>\n",
              "      <td>663746638</td>\n",
              "      <td>M3204724885018391695</td>\n",
              "      <td>NaN</td>\n",
              "    </tr>\n",
              "    <tr>\n",
              "      <th>3</th>\n",
              "      <td>ExactData Medical Health System</td>\n",
              "      <td>568001602-01</td>\n",
              "      <td>2005-10-12T21:33:00Z</td>\n",
              "      <td>051012 CH 48885833</td>\n",
              "      <td>Lipid Profile</td>\n",
              "      <td>2093-3</td>\n",
              "      <td>Total cholesterol</td>\n",
              "      <td>Total cholesterol = 180mg/dL</td>\n",
              "      <td>051007-54352</td>\n",
              "      <td>695700114</td>\n",
              "      <td>G7012345417035113309</td>\n",
              "      <td>180mg/dL</td>\n",
              "    </tr>\n",
              "    <tr>\n",
              "      <th>4</th>\n",
              "      <td>ExactData Medical Health System</td>\n",
              "      <td>568001602-01</td>\n",
              "      <td>2005-10-12T21:33:00Z</td>\n",
              "      <td>051012 CH 48885833</td>\n",
              "      <td>Lipid Profile</td>\n",
              "      <td>13457-7</td>\n",
              "      <td>LDL</td>\n",
              "      <td>LDL = 120mg/dL</td>\n",
              "      <td>051007-54352</td>\n",
              "      <td>695700114</td>\n",
              "      <td>G7012345417035113309</td>\n",
              "      <td>120mg/dL</td>\n",
              "    </tr>\n",
              "  </tbody>\n",
              "</table>\n",
              "</div>"
            ],
            "text/plain": [
              "                      Provider_Org  ...    Result\n",
              "0  ExactData Medical Health System  ...  250mg/dL\n",
              "1  ExactData Medical Health System  ...       NaN\n",
              "2  ExactData Medical Health System  ...       NaN\n",
              "3  ExactData Medical Health System  ...  180mg/dL\n",
              "4  ExactData Medical Health System  ...  120mg/dL\n",
              "\n",
              "[5 rows x 12 columns]"
            ]
          },
          "metadata": {
            "tags": []
          },
          "execution_count": 202
        }
      ]
    },
    {
      "cell_type": "code",
      "metadata": {
        "id": "nQzqz7G0tOT4",
        "colab_type": "code",
        "outputId": "1519bbdd-eb66-4e21-df26-025a92779c6e",
        "colab": {
          "base_uri": "https://localhost:8080/",
          "height": 238
        }
      },
      "source": [
        "df2.isnull().sum()"
      ],
      "execution_count": 203,
      "outputs": [
        {
          "output_type": "execute_result",
          "data": {
            "text/plain": [
              "Provider_Org             0\n",
              "Member_ID                0\n",
              "Date_Collected           0\n",
              "Test_ID                  0\n",
              "Test_Name                0\n",
              "Result_LOINC             0\n",
              "Result_Name              0\n",
              "Result_Description       0\n",
              "Order_ID              1499\n",
              "Provider_ID              0\n",
              "Encounter_ID             0\n",
              "Result                4715\n",
              "dtype: int64"
            ]
          },
          "metadata": {
            "tags": []
          },
          "execution_count": 203
        }
      ]
    },
    {
      "cell_type": "code",
      "metadata": {
        "id": "JMefLa5ktOUA",
        "colab_type": "code",
        "outputId": "f281cd38-7941-4596-820b-0879b6385b56",
        "colab": {
          "base_uri": "https://localhost:8080/",
          "height": 394
        }
      },
      "source": [
        "df1.head()"
      ],
      "execution_count": 204,
      "outputs": [
        {
          "output_type": "execute_result",
          "data": {
            "text/html": [
              "<div>\n",
              "<style scoped>\n",
              "    .dataframe tbody tr th:only-of-type {\n",
              "        vertical-align: middle;\n",
              "    }\n",
              "\n",
              "    .dataframe tbody tr th {\n",
              "        vertical-align: top;\n",
              "    }\n",
              "\n",
              "    .dataframe thead th {\n",
              "        text-align: right;\n",
              "    }\n",
              "</style>\n",
              "<table border=\"1\" class=\"dataframe\">\n",
              "  <thead>\n",
              "    <tr style=\"text-align: right;\">\n",
              "      <th></th>\n",
              "      <th>Provider_Org</th>\n",
              "      <th>Order_ID</th>\n",
              "      <th>Member_ID</th>\n",
              "      <th>Prescription</th>\n",
              "      <th>Dispense_Date</th>\n",
              "      <th>Drug_Name</th>\n",
              "      <th>Drug_NDC</th>\n",
              "      <th>Sig</th>\n",
              "      <th>Dispense_Qty</th>\n",
              "      <th>Dose</th>\n",
              "      <th>Days_Of_Supply</th>\n",
              "      <th>Encounter_ID</th>\n",
              "    </tr>\n",
              "  </thead>\n",
              "  <tbody>\n",
              "    <tr>\n",
              "      <th>0</th>\n",
              "      <td>ExactData Medical Health System</td>\n",
              "      <td>050630-23852</td>\n",
              "      <td>568001602-01</td>\n",
              "      <td>RX80452720</td>\n",
              "      <td>2005-07-02</td>\n",
              "      <td>Hydrochlorothiazide</td>\n",
              "      <td>0172-2089-80</td>\n",
              "      <td>po qd</td>\n",
              "      <td>90</td>\n",
              "      <td>50mg</td>\n",
              "      <td>90</td>\n",
              "      <td>V3046573432409333612</td>\n",
              "    </tr>\n",
              "    <tr>\n",
              "      <th>1</th>\n",
              "      <td>ExactData Medical Health System</td>\n",
              "      <td>050312-01255</td>\n",
              "      <td>937650000-01</td>\n",
              "      <td>RX66597665</td>\n",
              "      <td>2005-03-12</td>\n",
              "      <td>OMS 50</td>\n",
              "      <td>65689-001-21</td>\n",
              "      <td>via nasal cannula (contin)</td>\n",
              "      <td>4320</td>\n",
              "      <td>6h</td>\n",
              "      <td>1</td>\n",
              "      <td>C2819614934032019919</td>\n",
              "    </tr>\n",
              "    <tr>\n",
              "      <th>2</th>\n",
              "      <td>ExactData Medical Health System</td>\n",
              "      <td>050419-86521</td>\n",
              "      <td>937650000-01</td>\n",
              "      <td>RX29972012</td>\n",
              "      <td>2005-04-22</td>\n",
              "      <td>Hydrochlorothiazide</td>\n",
              "      <td>0172-2089-80</td>\n",
              "      <td>po qd</td>\n",
              "      <td>90</td>\n",
              "      <td>50mg</td>\n",
              "      <td>90</td>\n",
              "      <td>N6421143613871277479</td>\n",
              "    </tr>\n",
              "    <tr>\n",
              "      <th>3</th>\n",
              "      <td>ExactData Medical Health System</td>\n",
              "      <td>050826-36597</td>\n",
              "      <td>666214171-01</td>\n",
              "      <td>RX35391014</td>\n",
              "      <td>2005-08-28</td>\n",
              "      <td>Prednisone</td>\n",
              "      <td>54569-0332-3</td>\n",
              "      <td>orally</td>\n",
              "      <td>20</td>\n",
              "      <td>20mg</td>\n",
              "      <td>20</td>\n",
              "      <td>L1660181935005579193</td>\n",
              "    </tr>\n",
              "    <tr>\n",
              "      <th>4</th>\n",
              "      <td>ExactData Medical Health System</td>\n",
              "      <td>050228-72970</td>\n",
              "      <td>666383984-01</td>\n",
              "      <td>RX45661465</td>\n",
              "      <td>2005-03-03</td>\n",
              "      <td>protamine sulfate</td>\n",
              "      <td>63323-229-30</td>\n",
              "      <td>/90 units of heparin overdosage</td>\n",
              "      <td>1</td>\n",
              "      <td>1mg</td>\n",
              "      <td>1</td>\n",
              "      <td>U1554150386761469892</td>\n",
              "    </tr>\n",
              "  </tbody>\n",
              "</table>\n",
              "</div>"
            ],
            "text/plain": [
              "                      Provider_Org  ...          Encounter_ID\n",
              "0  ExactData Medical Health System  ...  V3046573432409333612\n",
              "1  ExactData Medical Health System  ...  C2819614934032019919\n",
              "2  ExactData Medical Health System  ...  N6421143613871277479\n",
              "3  ExactData Medical Health System  ...  L1660181935005579193\n",
              "4  ExactData Medical Health System  ...  U1554150386761469892\n",
              "\n",
              "[5 rows x 12 columns]"
            ]
          },
          "metadata": {
            "tags": []
          },
          "execution_count": 204
        }
      ]
    },
    {
      "cell_type": "code",
      "metadata": {
        "id": "-pDiRpxLMysg",
        "colab_type": "code",
        "colab": {
          "base_uri": "https://localhost:8080/",
          "height": 34
        },
        "outputId": "59b09d87-762f-4f6f-94ba-f42cb3b41109"
      },
      "source": [
        "df1['Encounter_ID'].unique().shape"
      ],
      "execution_count": 205,
      "outputs": [
        {
          "output_type": "execute_result",
          "data": {
            "text/plain": [
              "(1170,)"
            ]
          },
          "metadata": {
            "tags": []
          },
          "execution_count": 205
        }
      ]
    },
    {
      "cell_type": "code",
      "metadata": {
        "id": "_mNtbbH_tOUe",
        "colab_type": "code",
        "outputId": "045bfe27-e09a-42b1-b763-66120aa1c137",
        "colab": {
          "base_uri": "https://localhost:8080/",
          "height": 204
        }
      },
      "source": [
        "df3.head()"
      ],
      "execution_count": 206,
      "outputs": [
        {
          "output_type": "execute_result",
          "data": {
            "text/html": [
              "<div>\n",
              "<style scoped>\n",
              "    .dataframe tbody tr th:only-of-type {\n",
              "        vertical-align: middle;\n",
              "    }\n",
              "\n",
              "    .dataframe tbody tr th {\n",
              "        vertical-align: top;\n",
              "    }\n",
              "\n",
              "    .dataframe thead th {\n",
              "        text-align: right;\n",
              "    }\n",
              "</style>\n",
              "<table border=\"1\" class=\"dataframe\">\n",
              "  <thead>\n",
              "    <tr style=\"text-align: right;\">\n",
              "      <th></th>\n",
              "      <th>description</th>\n",
              "      <th>severity</th>\n",
              "      <th>Encounter_ID</th>\n",
              "    </tr>\n",
              "  </thead>\n",
              "  <tbody>\n",
              "    <tr>\n",
              "      <th>0</th>\n",
              "      <td>Hypertension</td>\n",
              "      <td>mild</td>\n",
              "      <td>L8694502508698944760</td>\n",
              "    </tr>\n",
              "    <tr>\n",
              "      <th>1</th>\n",
              "      <td>General medical examination</td>\n",
              "      <td>NaN</td>\n",
              "      <td>M3204724885018391695</td>\n",
              "    </tr>\n",
              "    <tr>\n",
              "      <th>2</th>\n",
              "      <td>Chronic Obstructive Pulmonary Disease</td>\n",
              "      <td>critical</td>\n",
              "      <td>C2819614934032019919</td>\n",
              "    </tr>\n",
              "    <tr>\n",
              "      <th>3</th>\n",
              "      <td>Hypertension</td>\n",
              "      <td>mild</td>\n",
              "      <td>S4571692645992867370</td>\n",
              "    </tr>\n",
              "    <tr>\n",
              "      <th>4</th>\n",
              "      <td>General medical examination</td>\n",
              "      <td>NaN</td>\n",
              "      <td>J6262874375300991101</td>\n",
              "    </tr>\n",
              "  </tbody>\n",
              "</table>\n",
              "</div>"
            ],
            "text/plain": [
              "                             description  severity          Encounter_ID\n",
              "0                           Hypertension      mild  L8694502508698944760\n",
              "1            General medical examination       NaN  M3204724885018391695\n",
              "2  Chronic Obstructive Pulmonary Disease  critical  C2819614934032019919\n",
              "3                           Hypertension      mild  S4571692645992867370\n",
              "4            General medical examination       NaN  J6262874375300991101"
            ]
          },
          "metadata": {
            "tags": []
          },
          "execution_count": 206
        }
      ]
    },
    {
      "cell_type": "code",
      "metadata": {
        "id": "amXwj9EQtOUq",
        "colab_type": "code",
        "outputId": "ac27c4e1-1951-47d6-961c-ecc248a5ad6e",
        "colab": {
          "base_uri": "https://localhost:8080/",
          "height": 85
        }
      },
      "source": [
        "df3.isnull().sum()"
      ],
      "execution_count": 207,
      "outputs": [
        {
          "output_type": "execute_result",
          "data": {
            "text/plain": [
              "description       0\n",
              "severity        696\n",
              "Encounter_ID      0\n",
              "dtype: int64"
            ]
          },
          "metadata": {
            "tags": []
          },
          "execution_count": 207
        }
      ]
    },
    {
      "cell_type": "code",
      "metadata": {
        "id": "jYgSV35ftOVO",
        "colab_type": "code",
        "colab": {}
      },
      "source": [
        "#Merge the df1 and df3 tables\n",
        "query = ps.sqldf(\"\"\"select df1.*,\n",
        "df3.description,\n",
        "df3.severity \n",
        "from df1 \n",
        "left join df3\n",
        "on df1.Encounter_ID=df3.Encounter_ID\"\"\")"
      ],
      "execution_count": 0,
      "outputs": []
    },
    {
      "cell_type": "code",
      "metadata": {
        "id": "pNAlTlWitOVT",
        "colab_type": "code",
        "outputId": "65cb774c-c5cd-4673-ddb1-561ab641df93",
        "colab": {
          "base_uri": "https://localhost:8080/",
          "height": 34
        }
      },
      "source": [
        "query.shape"
      ],
      "execution_count": 210,
      "outputs": [
        {
          "output_type": "execute_result",
          "data": {
            "text/plain": [
              "(1176, 14)"
            ]
          },
          "metadata": {
            "tags": []
          },
          "execution_count": 210
        }
      ]
    },
    {
      "cell_type": "markdown",
      "metadata": {
        "id": "nZ6EpDF53daB",
        "colab_type": "text"
      },
      "source": [
        "The table above is merged table of df1 and df3 with selected columns from df3."
      ]
    },
    {
      "cell_type": "code",
      "metadata": {
        "id": "7_qrfsXJtOVY",
        "colab_type": "code",
        "outputId": "bfc499f1-674b-4ee1-928b-03518eb20864",
        "colab": {
          "base_uri": "https://localhost:8080/",
          "height": 419
        }
      },
      "source": [
        "# Selects order_id with count greater than two from the table to understand primary purpose of the column\n",
        "query1 = ps.sqldf(\"\"\"select order_id\n",
        "from df2 \n",
        "group by order_id\n",
        "having count(*)>2\"\"\")\n",
        "query1"
      ],
      "execution_count": 211,
      "outputs": [
        {
          "output_type": "execute_result",
          "data": {
            "text/html": [
              "<div>\n",
              "<style scoped>\n",
              "    .dataframe tbody tr th:only-of-type {\n",
              "        vertical-align: middle;\n",
              "    }\n",
              "\n",
              "    .dataframe tbody tr th {\n",
              "        vertical-align: top;\n",
              "    }\n",
              "\n",
              "    .dataframe thead th {\n",
              "        text-align: right;\n",
              "    }\n",
              "</style>\n",
              "<table border=\"1\" class=\"dataframe\">\n",
              "  <thead>\n",
              "    <tr style=\"text-align: right;\">\n",
              "      <th></th>\n",
              "      <th>Order_ID</th>\n",
              "    </tr>\n",
              "  </thead>\n",
              "  <tbody>\n",
              "    <tr>\n",
              "      <th>0</th>\n",
              "      <td>None</td>\n",
              "    </tr>\n",
              "    <tr>\n",
              "      <th>1</th>\n",
              "      <td>050103-00172</td>\n",
              "    </tr>\n",
              "    <tr>\n",
              "      <th>2</th>\n",
              "      <td>050103-74209</td>\n",
              "    </tr>\n",
              "    <tr>\n",
              "      <th>3</th>\n",
              "      <td>050112-15188</td>\n",
              "    </tr>\n",
              "    <tr>\n",
              "      <th>4</th>\n",
              "      <td>050118-10481</td>\n",
              "    </tr>\n",
              "    <tr>\n",
              "      <th>...</th>\n",
              "      <td>...</td>\n",
              "    </tr>\n",
              "    <tr>\n",
              "      <th>433</th>\n",
              "      <td>141104-75215</td>\n",
              "    </tr>\n",
              "    <tr>\n",
              "      <th>434</th>\n",
              "      <td>141117-38908</td>\n",
              "    </tr>\n",
              "    <tr>\n",
              "      <th>435</th>\n",
              "      <td>141124-40931</td>\n",
              "    </tr>\n",
              "    <tr>\n",
              "      <th>436</th>\n",
              "      <td>141126-03935</td>\n",
              "    </tr>\n",
              "    <tr>\n",
              "      <th>437</th>\n",
              "      <td>141215-64971</td>\n",
              "    </tr>\n",
              "  </tbody>\n",
              "</table>\n",
              "<p>438 rows × 1 columns</p>\n",
              "</div>"
            ],
            "text/plain": [
              "         Order_ID\n",
              "0            None\n",
              "1    050103-00172\n",
              "2    050103-74209\n",
              "3    050112-15188\n",
              "4    050118-10481\n",
              "..            ...\n",
              "433  141104-75215\n",
              "434  141117-38908\n",
              "435  141124-40931\n",
              "436  141126-03935\n",
              "437  141215-64971\n",
              "\n",
              "[438 rows x 1 columns]"
            ]
          },
          "metadata": {
            "tags": []
          },
          "execution_count": 211
        }
      ]
    },
    {
      "cell_type": "code",
      "metadata": {
        "id": "m__D1WQutOVf",
        "colab_type": "code",
        "outputId": "44ee1587-b4c2-488e-de1f-807f68b2e6e7",
        "colab": {
          "base_uri": "https://localhost:8080/",
          "height": 394
        }
      },
      "source": [
        "df2.head()"
      ],
      "execution_count": 212,
      "outputs": [
        {
          "output_type": "execute_result",
          "data": {
            "text/html": [
              "<div>\n",
              "<style scoped>\n",
              "    .dataframe tbody tr th:only-of-type {\n",
              "        vertical-align: middle;\n",
              "    }\n",
              "\n",
              "    .dataframe tbody tr th {\n",
              "        vertical-align: top;\n",
              "    }\n",
              "\n",
              "    .dataframe thead th {\n",
              "        text-align: right;\n",
              "    }\n",
              "</style>\n",
              "<table border=\"1\" class=\"dataframe\">\n",
              "  <thead>\n",
              "    <tr style=\"text-align: right;\">\n",
              "      <th></th>\n",
              "      <th>Provider_Org</th>\n",
              "      <th>Member_ID</th>\n",
              "      <th>Date_Collected</th>\n",
              "      <th>Test_ID</th>\n",
              "      <th>Test_Name</th>\n",
              "      <th>Result_LOINC</th>\n",
              "      <th>Result_Name</th>\n",
              "      <th>Result_Description</th>\n",
              "      <th>Order_ID</th>\n",
              "      <th>Provider_ID</th>\n",
              "      <th>Encounter_ID</th>\n",
              "      <th>Result</th>\n",
              "    </tr>\n",
              "  </thead>\n",
              "  <tbody>\n",
              "    <tr>\n",
              "      <th>0</th>\n",
              "      <td>ExactData Medical Health System</td>\n",
              "      <td>568001602-01</td>\n",
              "      <td>2005-07-05T15:54:00Z</td>\n",
              "      <td>050705 CH 76296541</td>\n",
              "      <td>Cholesterol</td>\n",
              "      <td>2093-3</td>\n",
              "      <td>Cholesterol</td>\n",
              "      <td>Cholesterol=250 mg/dL</td>\n",
              "      <td>050630-30199</td>\n",
              "      <td>695700114</td>\n",
              "      <td>X3228783097331248888</td>\n",
              "      <td>250mg/dL</td>\n",
              "    </tr>\n",
              "    <tr>\n",
              "      <th>1</th>\n",
              "      <td>ExactData Medical Health System</td>\n",
              "      <td>568001602-01</td>\n",
              "      <td>2005-10-07T16:15:00Z</td>\n",
              "      <td>051007 CH 47988013</td>\n",
              "      <td>HPV I/H Risk DNA Probe</td>\n",
              "      <td>21440-3</td>\n",
              "      <td>HPV test</td>\n",
              "      <td>negative for HPV 16 &amp; 18</td>\n",
              "      <td>NaN</td>\n",
              "      <td>663746638</td>\n",
              "      <td>M3204724885018391695</td>\n",
              "      <td>NaN</td>\n",
              "    </tr>\n",
              "    <tr>\n",
              "      <th>2</th>\n",
              "      <td>ExactData Medical Health System</td>\n",
              "      <td>568001602-01</td>\n",
              "      <td>2005-10-07T16:15:00Z</td>\n",
              "      <td>051007 CH 04421087</td>\n",
              "      <td>Visual Acuity Study</td>\n",
              "      <td>28631-0</td>\n",
              "      <td>acuity</td>\n",
              "      <td>right eye 20/20, left eye 20/20</td>\n",
              "      <td>NaN</td>\n",
              "      <td>663746638</td>\n",
              "      <td>M3204724885018391695</td>\n",
              "      <td>NaN</td>\n",
              "    </tr>\n",
              "    <tr>\n",
              "      <th>3</th>\n",
              "      <td>ExactData Medical Health System</td>\n",
              "      <td>568001602-01</td>\n",
              "      <td>2005-10-12T21:33:00Z</td>\n",
              "      <td>051012 CH 48885833</td>\n",
              "      <td>Lipid Profile</td>\n",
              "      <td>2093-3</td>\n",
              "      <td>Total cholesterol</td>\n",
              "      <td>Total cholesterol = 180mg/dL</td>\n",
              "      <td>051007-54352</td>\n",
              "      <td>695700114</td>\n",
              "      <td>G7012345417035113309</td>\n",
              "      <td>180mg/dL</td>\n",
              "    </tr>\n",
              "    <tr>\n",
              "      <th>4</th>\n",
              "      <td>ExactData Medical Health System</td>\n",
              "      <td>568001602-01</td>\n",
              "      <td>2005-10-12T21:33:00Z</td>\n",
              "      <td>051012 CH 48885833</td>\n",
              "      <td>Lipid Profile</td>\n",
              "      <td>13457-7</td>\n",
              "      <td>LDL</td>\n",
              "      <td>LDL = 120mg/dL</td>\n",
              "      <td>051007-54352</td>\n",
              "      <td>695700114</td>\n",
              "      <td>G7012345417035113309</td>\n",
              "      <td>120mg/dL</td>\n",
              "    </tr>\n",
              "  </tbody>\n",
              "</table>\n",
              "</div>"
            ],
            "text/plain": [
              "                      Provider_Org  ...    Result\n",
              "0  ExactData Medical Health System  ...  250mg/dL\n",
              "1  ExactData Medical Health System  ...       NaN\n",
              "2  ExactData Medical Health System  ...       NaN\n",
              "3  ExactData Medical Health System  ...  180mg/dL\n",
              "4  ExactData Medical Health System  ...  120mg/dL\n",
              "\n",
              "[5 rows x 12 columns]"
            ]
          },
          "metadata": {
            "tags": []
          },
          "execution_count": 212
        }
      ]
    },
    {
      "cell_type": "code",
      "metadata": {
        "id": "9ekGS9UGtOVk",
        "colab_type": "code",
        "outputId": "509b0204-eb4a-4194-ba49-138f206d5ced",
        "colab": {
          "base_uri": "https://localhost:8080/",
          "height": 329
        }
      },
      "source": [
        "#Returns the data of a particular order ID\n",
        "query2 = ps.sqldf(\"\"\"select * from df2 \n",
        "where order_id='050103-00172'\"\"\")\n",
        "query2\n"
      ],
      "execution_count": 213,
      "outputs": [
        {
          "output_type": "execute_result",
          "data": {
            "text/html": [
              "<div>\n",
              "<style scoped>\n",
              "    .dataframe tbody tr th:only-of-type {\n",
              "        vertical-align: middle;\n",
              "    }\n",
              "\n",
              "    .dataframe tbody tr th {\n",
              "        vertical-align: top;\n",
              "    }\n",
              "\n",
              "    .dataframe thead th {\n",
              "        text-align: right;\n",
              "    }\n",
              "</style>\n",
              "<table border=\"1\" class=\"dataframe\">\n",
              "  <thead>\n",
              "    <tr style=\"text-align: right;\">\n",
              "      <th></th>\n",
              "      <th>Provider_Org</th>\n",
              "      <th>Member_ID</th>\n",
              "      <th>Date_Collected</th>\n",
              "      <th>Test_ID</th>\n",
              "      <th>Test_Name</th>\n",
              "      <th>Result_LOINC</th>\n",
              "      <th>Result_Name</th>\n",
              "      <th>Result_Description</th>\n",
              "      <th>Order_ID</th>\n",
              "      <th>Provider_ID</th>\n",
              "      <th>Encounter_ID</th>\n",
              "      <th>Result</th>\n",
              "    </tr>\n",
              "  </thead>\n",
              "  <tbody>\n",
              "    <tr>\n",
              "      <th>0</th>\n",
              "      <td>ExactData Medical Health System</td>\n",
              "      <td>207700000-01</td>\n",
              "      <td>2005-01-10T16:15:00Z</td>\n",
              "      <td>050110 CH 97449190</td>\n",
              "      <td>Lipid Profile</td>\n",
              "      <td>2093-3</td>\n",
              "      <td>Total cholesterol</td>\n",
              "      <td>Total cholesterol = 180mg/dL</td>\n",
              "      <td>050103-00172</td>\n",
              "      <td>212943821</td>\n",
              "      <td>Z1020193225364341781</td>\n",
              "      <td>180mg/dL</td>\n",
              "    </tr>\n",
              "    <tr>\n",
              "      <th>1</th>\n",
              "      <td>ExactData Medical Health System</td>\n",
              "      <td>207700000-01</td>\n",
              "      <td>2005-01-10T16:15:00Z</td>\n",
              "      <td>050110 CH 97449190</td>\n",
              "      <td>Lipid Profile</td>\n",
              "      <td>13457-7</td>\n",
              "      <td>LDL</td>\n",
              "      <td>LDL = 120mg/dL</td>\n",
              "      <td>050103-00172</td>\n",
              "      <td>212943821</td>\n",
              "      <td>Z1020193225364341781</td>\n",
              "      <td>120mg/dL</td>\n",
              "    </tr>\n",
              "    <tr>\n",
              "      <th>2</th>\n",
              "      <td>ExactData Medical Health System</td>\n",
              "      <td>207700000-01</td>\n",
              "      <td>2005-01-10T16:15:00Z</td>\n",
              "      <td>050110 CH 97449190</td>\n",
              "      <td>Lipid Profile</td>\n",
              "      <td>2085-9</td>\n",
              "      <td>HDL</td>\n",
              "      <td>HDL = 45mg/dL</td>\n",
              "      <td>050103-00172</td>\n",
              "      <td>212943821</td>\n",
              "      <td>Z1020193225364341781</td>\n",
              "      <td>45mg/dL</td>\n",
              "    </tr>\n",
              "    <tr>\n",
              "      <th>3</th>\n",
              "      <td>ExactData Medical Health System</td>\n",
              "      <td>207700000-01</td>\n",
              "      <td>2005-01-10T16:15:00Z</td>\n",
              "      <td>050110 CH 97449190</td>\n",
              "      <td>Lipid Profile</td>\n",
              "      <td>2571-8</td>\n",
              "      <td>Triglyceride</td>\n",
              "      <td>Triglyceride = 130mg/dL</td>\n",
              "      <td>050103-00172</td>\n",
              "      <td>212943821</td>\n",
              "      <td>Z1020193225364341781</td>\n",
              "      <td>130mg/dL</td>\n",
              "    </tr>\n",
              "  </tbody>\n",
              "</table>\n",
              "</div>"
            ],
            "text/plain": [
              "                      Provider_Org  ...    Result\n",
              "0  ExactData Medical Health System  ...  180mg/dL\n",
              "1  ExactData Medical Health System  ...  120mg/dL\n",
              "2  ExactData Medical Health System  ...   45mg/dL\n",
              "3  ExactData Medical Health System  ...  130mg/dL\n",
              "\n",
              "[4 rows x 12 columns]"
            ]
          },
          "metadata": {
            "tags": []
          },
          "execution_count": 213
        }
      ]
    },
    {
      "cell_type": "code",
      "metadata": {
        "id": "2eMHRDUFjr9c",
        "colab_type": "code",
        "outputId": "bc6cfcb5-7a4d-4259-902f-2db4dcc09f3a",
        "colab": {
          "base_uri": "https://localhost:8080/",
          "height": 419
        }
      },
      "source": [
        "#Query returns the total count corresponding to the order_ID, Result_LOINC\n",
        "query3 = ps.sqldf(\"\"\"select order_id, Result_LOINC,count(*) as cnt from df2 group by order_id, Result_LOINC order by cnt desc\"\"\")\n",
        "query3"
      ],
      "execution_count": 214,
      "outputs": [
        {
          "output_type": "execute_result",
          "data": {
            "text/html": [
              "<div>\n",
              "<style scoped>\n",
              "    .dataframe tbody tr th:only-of-type {\n",
              "        vertical-align: middle;\n",
              "    }\n",
              "\n",
              "    .dataframe tbody tr th {\n",
              "        vertical-align: top;\n",
              "    }\n",
              "\n",
              "    .dataframe thead th {\n",
              "        text-align: right;\n",
              "    }\n",
              "</style>\n",
              "<table border=\"1\" class=\"dataframe\">\n",
              "  <thead>\n",
              "    <tr style=\"text-align: right;\">\n",
              "      <th></th>\n",
              "      <th>Order_ID</th>\n",
              "      <th>Result_LOINC</th>\n",
              "      <th>cnt</th>\n",
              "    </tr>\n",
              "  </thead>\n",
              "  <tbody>\n",
              "    <tr>\n",
              "      <th>0</th>\n",
              "      <td>None</td>\n",
              "      <td>28631-0</td>\n",
              "      <td>535</td>\n",
              "    </tr>\n",
              "    <tr>\n",
              "      <th>1</th>\n",
              "      <td>None</td>\n",
              "      <td>32422-8</td>\n",
              "      <td>235</td>\n",
              "    </tr>\n",
              "    <tr>\n",
              "      <th>2</th>\n",
              "      <td>None</td>\n",
              "      <td>11402-5</td>\n",
              "      <td>220</td>\n",
              "    </tr>\n",
              "    <tr>\n",
              "      <th>3</th>\n",
              "      <td>None</td>\n",
              "      <td>28615-3</td>\n",
              "      <td>154</td>\n",
              "    </tr>\n",
              "    <tr>\n",
              "      <th>4</th>\n",
              "      <td>None</td>\n",
              "      <td>10204-6</td>\n",
              "      <td>124</td>\n",
              "    </tr>\n",
              "    <tr>\n",
              "      <th>...</th>\n",
              "      <td>...</td>\n",
              "      <td>...</td>\n",
              "      <td>...</td>\n",
              "    </tr>\n",
              "    <tr>\n",
              "      <th>6013</th>\n",
              "      <td>141218-89931</td>\n",
              "      <td>10206-1</td>\n",
              "      <td>1</td>\n",
              "    </tr>\n",
              "    <tr>\n",
              "      <th>6014</th>\n",
              "      <td>141219-12162</td>\n",
              "      <td>24693-4</td>\n",
              "      <td>1</td>\n",
              "    </tr>\n",
              "    <tr>\n",
              "      <th>6015</th>\n",
              "      <td>141219-19595</td>\n",
              "      <td>2093-3</td>\n",
              "      <td>1</td>\n",
              "    </tr>\n",
              "    <tr>\n",
              "      <th>6016</th>\n",
              "      <td>141219-31157</td>\n",
              "      <td>2345-7</td>\n",
              "      <td>1</td>\n",
              "    </tr>\n",
              "    <tr>\n",
              "      <th>6017</th>\n",
              "      <td>141221-58441</td>\n",
              "      <td>17856-6</td>\n",
              "      <td>1</td>\n",
              "    </tr>\n",
              "  </tbody>\n",
              "</table>\n",
              "<p>6018 rows × 3 columns</p>\n",
              "</div>"
            ],
            "text/plain": [
              "          Order_ID Result_LOINC  cnt\n",
              "0             None      28631-0  535\n",
              "1             None      32422-8  235\n",
              "2             None      11402-5  220\n",
              "3             None      28615-3  154\n",
              "4             None      10204-6  124\n",
              "...            ...          ...  ...\n",
              "6013  141218-89931      10206-1    1\n",
              "6014  141219-12162      24693-4    1\n",
              "6015  141219-19595       2093-3    1\n",
              "6016  141219-31157       2345-7    1\n",
              "6017  141221-58441      17856-6    1\n",
              "\n",
              "[6018 rows x 3 columns]"
            ]
          },
          "metadata": {
            "tags": []
          },
          "execution_count": 214
        }
      ]
    },
    {
      "cell_type": "code",
      "metadata": {
        "id": "9hpGuBhVtOV8",
        "colab_type": "code",
        "outputId": "b4d2636d-5d05-4095-aebd-96b33f669971",
        "colab": {
          "base_uri": "https://localhost:8080/",
          "height": 428
        }
      },
      "source": [
        "df4.head()"
      ],
      "execution_count": 215,
      "outputs": [
        {
          "output_type": "execute_result",
          "data": {
            "text/html": [
              "<div>\n",
              "<style scoped>\n",
              "    .dataframe tbody tr th:only-of-type {\n",
              "        vertical-align: middle;\n",
              "    }\n",
              "\n",
              "    .dataframe tbody tr th {\n",
              "        vertical-align: top;\n",
              "    }\n",
              "\n",
              "    .dataframe thead th {\n",
              "        text-align: right;\n",
              "    }\n",
              "</style>\n",
              "<table border=\"1\" class=\"dataframe\">\n",
              "  <thead>\n",
              "    <tr style=\"text-align: right;\">\n",
              "      <th></th>\n",
              "      <th>Provider_Org</th>\n",
              "      <th>Encounter_ID</th>\n",
              "      <th>Member_ID</th>\n",
              "      <th>Provider_ID</th>\n",
              "      <th>Provider_NPI</th>\n",
              "      <th>Encounter_Date</th>\n",
              "      <th>Encounter_Description</th>\n",
              "      <th>CC</th>\n",
              "      <th>Episode_ID</th>\n",
              "      <th>Age</th>\n",
              "      <th>Patient_Gender</th>\n",
              "      <th>Specialty</th>\n",
              "      <th>Clinic_Type</th>\n",
              "      <th>lab_orders_count</th>\n",
              "      <th>lab_results_count</th>\n",
              "      <th>medication_orders_count</th>\n",
              "      <th>medication_fulfillment_count</th>\n",
              "      <th>vital_sign_count</th>\n",
              "      <th>therapy_orders_count</th>\n",
              "      <th>therapy_actions_count</th>\n",
              "      <th>immunization_count</th>\n",
              "      <th>SOAP_Note</th>\n",
              "      <th>consult_ordered</th>\n",
              "      <th>Disposition</th>\n",
              "    </tr>\n",
              "  </thead>\n",
              "  <tbody>\n",
              "    <tr>\n",
              "      <th>0</th>\n",
              "      <td>ExactData Medical Health System</td>\n",
              "      <td>L8694502508698944760</td>\n",
              "      <td>568001602-01</td>\n",
              "      <td>663746638</td>\n",
              "      <td>2531462832</td>\n",
              "      <td>30 Jun 2005</td>\n",
              "      <td>Lacy visited primary care physician on 6/30/20...</td>\n",
              "      <td>mild occasional lightheadedness</td>\n",
              "      <td>L8694502508698944760</td>\n",
              "      <td>33.0</td>\n",
              "      <td>female</td>\n",
              "      <td>FAMILY PRACTICE/PRIMARY CARE</td>\n",
              "      <td>outpatient_medical</td>\n",
              "      <td>1</td>\n",
              "      <td>0</td>\n",
              "      <td>1</td>\n",
              "      <td>0</td>\n",
              "      <td>7</td>\n",
              "      <td>0</td>\n",
              "      <td>1</td>\n",
              "      <td>0</td>\n",
              "      <td>s:a 33 year old female crystallographer presen...</td>\n",
              "      <td>NaN</td>\n",
              "      <td>ReleasedWithoutLimitations</td>\n",
              "    </tr>\n",
              "    <tr>\n",
              "      <th>1</th>\n",
              "      <td>ExactData Medical Health System</td>\n",
              "      <td>V3046573432409333612</td>\n",
              "      <td>568001602-01</td>\n",
              "      <td>523808810</td>\n",
              "      <td>1380097962</td>\n",
              "      <td>1 Jul 2005</td>\n",
              "      <td>Lacy visited pharmacy on 7/1/2005 6:44:00 PM f...</td>\n",
              "      <td>NaN</td>\n",
              "      <td>L8694502508698944760</td>\n",
              "      <td>33.0</td>\n",
              "      <td>female</td>\n",
              "      <td>NaN</td>\n",
              "      <td>pharmacy</td>\n",
              "      <td>0</td>\n",
              "      <td>0</td>\n",
              "      <td>0</td>\n",
              "      <td>1</td>\n",
              "      <td>0</td>\n",
              "      <td>0</td>\n",
              "      <td>0</td>\n",
              "      <td>0</td>\n",
              "      <td>NaN</td>\n",
              "      <td>NaN</td>\n",
              "      <td>ReleasedWithoutLimitations</td>\n",
              "    </tr>\n",
              "    <tr>\n",
              "      <th>2</th>\n",
              "      <td>ExactData Medical Health System</td>\n",
              "      <td>X3228783097331248888</td>\n",
              "      <td>568001602-01</td>\n",
              "      <td>695700114</td>\n",
              "      <td>1261075194</td>\n",
              "      <td>5 Jul 2005</td>\n",
              "      <td>Lacy visited medical lab on 7/5/2005 9:54:00 A...</td>\n",
              "      <td>NaN</td>\n",
              "      <td>L8694502508698944760</td>\n",
              "      <td>33.0</td>\n",
              "      <td>female</td>\n",
              "      <td>NaN</td>\n",
              "      <td>lab</td>\n",
              "      <td>0</td>\n",
              "      <td>1</td>\n",
              "      <td>0</td>\n",
              "      <td>0</td>\n",
              "      <td>0</td>\n",
              "      <td>0</td>\n",
              "      <td>0</td>\n",
              "      <td>0</td>\n",
              "      <td>NaN</td>\n",
              "      <td>NaN</td>\n",
              "      <td>ReleasedWithoutLimitations</td>\n",
              "    </tr>\n",
              "    <tr>\n",
              "      <th>3</th>\n",
              "      <td>ExactData Medical Health System</td>\n",
              "      <td>M3204724885018391695</td>\n",
              "      <td>568001602-01</td>\n",
              "      <td>663746638</td>\n",
              "      <td>2531462832</td>\n",
              "      <td>7 Oct 2005</td>\n",
              "      <td>Lacy visited primary care physician on 10/7/20...</td>\n",
              "      <td>NaN</td>\n",
              "      <td>M3204724885018391695</td>\n",
              "      <td>33.0</td>\n",
              "      <td>female</td>\n",
              "      <td>FAMILY PRACTICE/PRIMARY CARE</td>\n",
              "      <td>outpatient_medical</td>\n",
              "      <td>1</td>\n",
              "      <td>2</td>\n",
              "      <td>0</td>\n",
              "      <td>0</td>\n",
              "      <td>7</td>\n",
              "      <td>0</td>\n",
              "      <td>1</td>\n",
              "      <td>1</td>\n",
              "      <td>s:33 yr old female crystallographer presents t...</td>\n",
              "      <td>NaN</td>\n",
              "      <td>ReleasedWithoutLimitations</td>\n",
              "    </tr>\n",
              "    <tr>\n",
              "      <th>4</th>\n",
              "      <td>ExactData Medical Health System</td>\n",
              "      <td>G7012345417035113309</td>\n",
              "      <td>568001602-01</td>\n",
              "      <td>695700114</td>\n",
              "      <td>1261075194</td>\n",
              "      <td>12 Oct 2005</td>\n",
              "      <td>Lacy visited medical lab on 10/12/2005 3:33:00...</td>\n",
              "      <td>NaN</td>\n",
              "      <td>M3204724885018391695</td>\n",
              "      <td>33.0</td>\n",
              "      <td>female</td>\n",
              "      <td>NaN</td>\n",
              "      <td>lab</td>\n",
              "      <td>0</td>\n",
              "      <td>1</td>\n",
              "      <td>0</td>\n",
              "      <td>0</td>\n",
              "      <td>0</td>\n",
              "      <td>0</td>\n",
              "      <td>0</td>\n",
              "      <td>0</td>\n",
              "      <td>NaN</td>\n",
              "      <td>NaN</td>\n",
              "      <td>ReleasedWithoutLimitations</td>\n",
              "    </tr>\n",
              "  </tbody>\n",
              "</table>\n",
              "</div>"
            ],
            "text/plain": [
              "                      Provider_Org  ...                 Disposition\n",
              "0  ExactData Medical Health System  ...  ReleasedWithoutLimitations\n",
              "1  ExactData Medical Health System  ...  ReleasedWithoutLimitations\n",
              "2  ExactData Medical Health System  ...  ReleasedWithoutLimitations\n",
              "3  ExactData Medical Health System  ...  ReleasedWithoutLimitations\n",
              "4  ExactData Medical Health System  ...  ReleasedWithoutLimitations\n",
              "\n",
              "[5 rows x 24 columns]"
            ]
          },
          "metadata": {
            "tags": []
          },
          "execution_count": 215
        }
      ]
    },
    {
      "cell_type": "code",
      "metadata": {
        "id": "YqAH20_utOWC",
        "colab_type": "code",
        "outputId": "9546da3c-5497-4cdb-f2c7-ab3d269e5f23",
        "colab": {
          "base_uri": "https://localhost:8080/",
          "height": 34
        }
      },
      "source": [
        "df4.shape"
      ],
      "execution_count": 216,
      "outputs": [
        {
          "output_type": "execute_result",
          "data": {
            "text/plain": [
              "(5447, 24)"
            ]
          },
          "metadata": {
            "tags": []
          },
          "execution_count": 216
        }
      ]
    },
    {
      "cell_type": "code",
      "metadata": {
        "id": "uZQ4nXfetOWH",
        "colab_type": "code",
        "colab": {}
      },
      "source": [
        "#Extracts the CC column from df4 and merges with the merged dataset of df1,df2,and df3\n",
        "merged_data = ps.sqldf(\"\"\"select query.*,\n",
        "df4.CC \n",
        "from query \n",
        "left join df4\n",
        "on query.Encounter_ID=df4.Encounter_ID\"\"\")"
      ],
      "execution_count": 0,
      "outputs": []
    },
    {
      "cell_type": "code",
      "metadata": {
        "id": "HKtqYdTitOWM",
        "colab_type": "code",
        "outputId": "84e523eb-7fe5-4a58-edcf-dc35a8568474",
        "colab": {
          "base_uri": "https://localhost:8080/",
          "height": 34
        }
      },
      "source": [
        "merged_data.shape"
      ],
      "execution_count": 218,
      "outputs": [
        {
          "output_type": "execute_result",
          "data": {
            "text/plain": [
              "(1176, 15)"
            ]
          },
          "metadata": {
            "tags": []
          },
          "execution_count": 218
        }
      ]
    },
    {
      "cell_type": "code",
      "metadata": {
        "id": "7ak1hEGhtOWY",
        "colab_type": "code",
        "outputId": "efe05727-d6c5-4713-b87a-6b1db0973091",
        "colab": {
          "base_uri": "https://localhost:8080/",
          "height": 119
        }
      },
      "source": [
        "merged_data['description'].unique()"
      ],
      "execution_count": 219,
      "outputs": [
        {
          "output_type": "execute_result",
          "data": {
            "text/plain": [
              "array([None, 'Chronic Obstructive Pulmonary Disease', 'Type 2 Diabetes',\n",
              "       'Type 1 Diabetes', 'Hemorrhagic Stroke', 'Acute Renal Failure',\n",
              "       'critical distress', 'critical hysteria', 'Myocardial Infarction',\n",
              "       'Hypertension', 'Embolic Stroke', 'Chronic Renal Failure',\n",
              "       'Pyelonephritis', 'critical agony',\n",
              "       'Chronic Congestive Heart Failure'], dtype=object)"
            ]
          },
          "metadata": {
            "tags": []
          },
          "execution_count": 219
        }
      ]
    },
    {
      "cell_type": "code",
      "metadata": {
        "id": "wfVWZbRCtOWc",
        "colab_type": "code",
        "outputId": "3fe617e8-14af-47eb-d5e5-b3838ff8ccca",
        "colab": {
          "base_uri": "https://localhost:8080/",
          "height": 419
        }
      },
      "source": [
        "# Extracts the Drug_Name, Description, Severity, and CC from the final dataset\n",
        "drugname = ps.sqldf(\"\"\"select Drug_Name, description,severity, CC, count(*) as cnt from merged_data group by Drug_Name, description order by cnt desc\"\"\")\n",
        "drugname"
      ],
      "execution_count": 220,
      "outputs": [
        {
          "output_type": "execute_result",
          "data": {
            "text/html": [
              "<div>\n",
              "<style scoped>\n",
              "    .dataframe tbody tr th:only-of-type {\n",
              "        vertical-align: middle;\n",
              "    }\n",
              "\n",
              "    .dataframe tbody tr th {\n",
              "        vertical-align: top;\n",
              "    }\n",
              "\n",
              "    .dataframe thead th {\n",
              "        text-align: right;\n",
              "    }\n",
              "</style>\n",
              "<table border=\"1\" class=\"dataframe\">\n",
              "  <thead>\n",
              "    <tr style=\"text-align: right;\">\n",
              "      <th></th>\n",
              "      <th>Drug_Name</th>\n",
              "      <th>description</th>\n",
              "      <th>severity</th>\n",
              "      <th>CC</th>\n",
              "      <th>cnt</th>\n",
              "    </tr>\n",
              "  </thead>\n",
              "  <tbody>\n",
              "    <tr>\n",
              "      <th>0</th>\n",
              "      <td>OMS 50</td>\n",
              "      <td>Chronic Obstructive Pulmonary Disease</td>\n",
              "      <td>critical</td>\n",
              "      <td>critical shortness of breath</td>\n",
              "      <td>119</td>\n",
              "    </tr>\n",
              "    <tr>\n",
              "      <th>1</th>\n",
              "      <td>Ciprofloxacin</td>\n",
              "      <td>None</td>\n",
              "      <td>None</td>\n",
              "      <td>None</td>\n",
              "      <td>105</td>\n",
              "    </tr>\n",
              "    <tr>\n",
              "      <th>2</th>\n",
              "      <td>Isotonic Saline (0.9%)</td>\n",
              "      <td>None</td>\n",
              "      <td>None</td>\n",
              "      <td>None</td>\n",
              "      <td>101</td>\n",
              "    </tr>\n",
              "    <tr>\n",
              "      <th>3</th>\n",
              "      <td>Lisinopril</td>\n",
              "      <td>None</td>\n",
              "      <td>None</td>\n",
              "      <td>None</td>\n",
              "      <td>83</td>\n",
              "    </tr>\n",
              "    <tr>\n",
              "      <th>4</th>\n",
              "      <td>Potassium Chl</td>\n",
              "      <td>Type 1 Diabetes</td>\n",
              "      <td>severe</td>\n",
              "      <td>severe increased thirst</td>\n",
              "      <td>78</td>\n",
              "    </tr>\n",
              "    <tr>\n",
              "      <th>...</th>\n",
              "      <td>...</td>\n",
              "      <td>...</td>\n",
              "      <td>...</td>\n",
              "      <td>...</td>\n",
              "      <td>...</td>\n",
              "    </tr>\n",
              "    <tr>\n",
              "      <th>76</th>\n",
              "      <td>metoprolol</td>\n",
              "      <td>Hypertension</td>\n",
              "      <td>severe</td>\n",
              "      <td>moderate difficulty walking</td>\n",
              "      <td>1</td>\n",
              "    </tr>\n",
              "    <tr>\n",
              "      <th>77</th>\n",
              "      <td>oxycodone-acetaminophen 10-325</td>\n",
              "      <td>None</td>\n",
              "      <td>None</td>\n",
              "      <td>None</td>\n",
              "      <td>1</td>\n",
              "    </tr>\n",
              "    <tr>\n",
              "      <th>78</th>\n",
              "      <td>trimethoprim</td>\n",
              "      <td>None</td>\n",
              "      <td>None</td>\n",
              "      <td>None</td>\n",
              "      <td>1</td>\n",
              "    </tr>\n",
              "    <tr>\n",
              "      <th>79</th>\n",
              "      <td>trimethoprim</td>\n",
              "      <td>Pyelonephritis</td>\n",
              "      <td>severe</td>\n",
              "      <td>Pyelonephritis</td>\n",
              "      <td>1</td>\n",
              "    </tr>\n",
              "    <tr>\n",
              "      <th>80</th>\n",
              "      <td>valsartan</td>\n",
              "      <td>Chronic Congestive Heart Failure</td>\n",
              "      <td>severe</td>\n",
              "      <td>mild palpitations</td>\n",
              "      <td>1</td>\n",
              "    </tr>\n",
              "  </tbody>\n",
              "</table>\n",
              "<p>81 rows × 5 columns</p>\n",
              "</div>"
            ],
            "text/plain": [
              "                         Drug_Name  ...  cnt\n",
              "0                           OMS 50  ...  119\n",
              "1                    Ciprofloxacin  ...  105\n",
              "2           Isotonic Saline (0.9%)  ...  101\n",
              "3                       Lisinopril  ...   83\n",
              "4                    Potassium Chl  ...   78\n",
              "..                             ...  ...  ...\n",
              "76                      metoprolol  ...    1\n",
              "77  oxycodone-acetaminophen 10-325  ...    1\n",
              "78                    trimethoprim  ...    1\n",
              "79                    trimethoprim  ...    1\n",
              "80                       valsartan  ...    1\n",
              "\n",
              "[81 rows x 5 columns]"
            ]
          },
          "metadata": {
            "tags": []
          },
          "execution_count": 220
        }
      ]
    },
    {
      "cell_type": "code",
      "metadata": {
        "id": "ugFtM-cytOWm",
        "colab_type": "code",
        "colab": {
          "base_uri": "https://localhost:8080/",
          "height": 1000
        },
        "outputId": "493fb4ce-7ba1-4d9c-93a1-e1fe5441a054"
      },
      "source": [
        "#Extracts drug names which have null values associated with description, severity, and CC\n",
        "drug_count = ps.sqldf(\"\"\"select Drug_Name, sum(cnt) from drugname where description is null and severity is null and CC is null  group by Drug_Name\"\"\" )\n",
        "drug_count"
      ],
      "execution_count": 224,
      "outputs": [
        {
          "output_type": "execute_result",
          "data": {
            "text/html": [
              "<div>\n",
              "<style scoped>\n",
              "    .dataframe tbody tr th:only-of-type {\n",
              "        vertical-align: middle;\n",
              "    }\n",
              "\n",
              "    .dataframe tbody tr th {\n",
              "        vertical-align: top;\n",
              "    }\n",
              "\n",
              "    .dataframe thead th {\n",
              "        text-align: right;\n",
              "    }\n",
              "</style>\n",
              "<table border=\"1\" class=\"dataframe\">\n",
              "  <thead>\n",
              "    <tr style=\"text-align: right;\">\n",
              "      <th></th>\n",
              "      <th>Drug_Name</th>\n",
              "      <th>sum(cnt)</th>\n",
              "    </tr>\n",
              "  </thead>\n",
              "  <tbody>\n",
              "    <tr>\n",
              "      <th>0</th>\n",
              "      <td>ACTIVASE</td>\n",
              "      <td>32</td>\n",
              "    </tr>\n",
              "    <tr>\n",
              "      <th>1</th>\n",
              "      <td>ATNATIV</td>\n",
              "      <td>2</td>\n",
              "    </tr>\n",
              "    <tr>\n",
              "      <th>2</th>\n",
              "      <td>AVAPRO</td>\n",
              "      <td>1</td>\n",
              "    </tr>\n",
              "    <tr>\n",
              "      <th>3</th>\n",
              "      <td>Allopurinol</td>\n",
              "      <td>4</td>\n",
              "    </tr>\n",
              "    <tr>\n",
              "      <th>4</th>\n",
              "      <td>Aspirin</td>\n",
              "      <td>8</td>\n",
              "    </tr>\n",
              "    <tr>\n",
              "      <th>5</th>\n",
              "      <td>BACTRIM DS</td>\n",
              "      <td>1</td>\n",
              "    </tr>\n",
              "    <tr>\n",
              "      <th>6</th>\n",
              "      <td>Captopril</td>\n",
              "      <td>5</td>\n",
              "    </tr>\n",
              "    <tr>\n",
              "      <th>7</th>\n",
              "      <td>Cefadroxil</td>\n",
              "      <td>11</td>\n",
              "    </tr>\n",
              "    <tr>\n",
              "      <th>8</th>\n",
              "      <td>Ciprofloxacin</td>\n",
              "      <td>105</td>\n",
              "    </tr>\n",
              "    <tr>\n",
              "      <th>9</th>\n",
              "      <td>Furosemide</td>\n",
              "      <td>8</td>\n",
              "    </tr>\n",
              "    <tr>\n",
              "      <th>10</th>\n",
              "      <td>Gentamicin</td>\n",
              "      <td>4</td>\n",
              "    </tr>\n",
              "    <tr>\n",
              "      <th>11</th>\n",
              "      <td>HUMALOG</td>\n",
              "      <td>1</td>\n",
              "    </tr>\n",
              "    <tr>\n",
              "      <th>12</th>\n",
              "      <td>Hydrochlorothiazide</td>\n",
              "      <td>18</td>\n",
              "    </tr>\n",
              "    <tr>\n",
              "      <th>13</th>\n",
              "      <td>Ibuprofen</td>\n",
              "      <td>2</td>\n",
              "    </tr>\n",
              "    <tr>\n",
              "      <th>14</th>\n",
              "      <td>Insulin Lente</td>\n",
              "      <td>2</td>\n",
              "    </tr>\n",
              "    <tr>\n",
              "      <th>15</th>\n",
              "      <td>Insulin Nph</td>\n",
              "      <td>41</td>\n",
              "    </tr>\n",
              "    <tr>\n",
              "      <th>16</th>\n",
              "      <td>Insulin Reg</td>\n",
              "      <td>10</td>\n",
              "    </tr>\n",
              "    <tr>\n",
              "      <th>17</th>\n",
              "      <td>Insulin,Ultralente</td>\n",
              "      <td>5</td>\n",
              "    </tr>\n",
              "    <tr>\n",
              "      <th>18</th>\n",
              "      <td>Irbesartan</td>\n",
              "      <td>2</td>\n",
              "    </tr>\n",
              "    <tr>\n",
              "      <th>19</th>\n",
              "      <td>Isotonic Saline (0.9%)</td>\n",
              "      <td>101</td>\n",
              "    </tr>\n",
              "    <tr>\n",
              "      <th>20</th>\n",
              "      <td>LANTUS</td>\n",
              "      <td>9</td>\n",
              "    </tr>\n",
              "    <tr>\n",
              "      <th>21</th>\n",
              "      <td>LEVAQUIN</td>\n",
              "      <td>1</td>\n",
              "    </tr>\n",
              "    <tr>\n",
              "      <th>22</th>\n",
              "      <td>Labetalol</td>\n",
              "      <td>3</td>\n",
              "    </tr>\n",
              "    <tr>\n",
              "      <th>23</th>\n",
              "      <td>Levofloxacin</td>\n",
              "      <td>6</td>\n",
              "    </tr>\n",
              "    <tr>\n",
              "      <th>24</th>\n",
              "      <td>Lisinopril</td>\n",
              "      <td>83</td>\n",
              "    </tr>\n",
              "    <tr>\n",
              "      <th>25</th>\n",
              "      <td>Metoprolol</td>\n",
              "      <td>6</td>\n",
              "    </tr>\n",
              "    <tr>\n",
              "      <th>26</th>\n",
              "      <td>Morphine</td>\n",
              "      <td>8</td>\n",
              "    </tr>\n",
              "    <tr>\n",
              "      <th>27</th>\n",
              "      <td>Nitroglycerin</td>\n",
              "      <td>8</td>\n",
              "    </tr>\n",
              "    <tr>\n",
              "      <th>28</th>\n",
              "      <td>OMS 50</td>\n",
              "      <td>45</td>\n",
              "    </tr>\n",
              "    <tr>\n",
              "      <th>29</th>\n",
              "      <td>Potassium Chl</td>\n",
              "      <td>21</td>\n",
              "    </tr>\n",
              "    <tr>\n",
              "      <th>30</th>\n",
              "      <td>Prednisone</td>\n",
              "      <td>6</td>\n",
              "    </tr>\n",
              "    <tr>\n",
              "      <th>31</th>\n",
              "      <td>Propranolol</td>\n",
              "      <td>26</td>\n",
              "    </tr>\n",
              "    <tr>\n",
              "      <th>32</th>\n",
              "      <td>Theophylline</td>\n",
              "      <td>3</td>\n",
              "    </tr>\n",
              "    <tr>\n",
              "      <th>33</th>\n",
              "      <td>Tobramycin</td>\n",
              "      <td>1</td>\n",
              "    </tr>\n",
              "    <tr>\n",
              "      <th>34</th>\n",
              "      <td>acetaminophen</td>\n",
              "      <td>3</td>\n",
              "    </tr>\n",
              "    <tr>\n",
              "      <th>35</th>\n",
              "      <td>enalapril</td>\n",
              "      <td>42</td>\n",
              "    </tr>\n",
              "    <tr>\n",
              "      <th>36</th>\n",
              "      <td>glimepiride</td>\n",
              "      <td>1</td>\n",
              "    </tr>\n",
              "    <tr>\n",
              "      <th>37</th>\n",
              "      <td>glyburide</td>\n",
              "      <td>9</td>\n",
              "    </tr>\n",
              "    <tr>\n",
              "      <th>38</th>\n",
              "      <td>insulin aspart</td>\n",
              "      <td>14</td>\n",
              "    </tr>\n",
              "    <tr>\n",
              "      <th>39</th>\n",
              "      <td>mannitol</td>\n",
              "      <td>5</td>\n",
              "    </tr>\n",
              "    <tr>\n",
              "      <th>40</th>\n",
              "      <td>metoprolol</td>\n",
              "      <td>9</td>\n",
              "    </tr>\n",
              "    <tr>\n",
              "      <th>41</th>\n",
              "      <td>nifedipine</td>\n",
              "      <td>12</td>\n",
              "    </tr>\n",
              "    <tr>\n",
              "      <th>42</th>\n",
              "      <td>oxycodone-acetaminophen 10-325</td>\n",
              "      <td>1</td>\n",
              "    </tr>\n",
              "    <tr>\n",
              "      <th>43</th>\n",
              "      <td>oxycontin 10</td>\n",
              "      <td>4</td>\n",
              "    </tr>\n",
              "    <tr>\n",
              "      <th>44</th>\n",
              "      <td>protamine sulfate</td>\n",
              "      <td>53</td>\n",
              "    </tr>\n",
              "    <tr>\n",
              "      <th>45</th>\n",
              "      <td>salmeterol</td>\n",
              "      <td>3</td>\n",
              "    </tr>\n",
              "    <tr>\n",
              "      <th>46</th>\n",
              "      <td>trimethoprim</td>\n",
              "      <td>1</td>\n",
              "    </tr>\n",
              "    <tr>\n",
              "      <th>47</th>\n",
              "      <td>valsartan</td>\n",
              "      <td>14</td>\n",
              "    </tr>\n",
              "    <tr>\n",
              "      <th>48</th>\n",
              "      <td>vicodin HP 10-300</td>\n",
              "      <td>4</td>\n",
              "    </tr>\n",
              "  </tbody>\n",
              "</table>\n",
              "</div>"
            ],
            "text/plain": [
              "                         Drug_Name  sum(cnt)\n",
              "0                         ACTIVASE        32\n",
              "1                          ATNATIV         2\n",
              "2                           AVAPRO         1\n",
              "3                      Allopurinol         4\n",
              "4                          Aspirin         8\n",
              "5                       BACTRIM DS         1\n",
              "6                        Captopril         5\n",
              "7                       Cefadroxil        11\n",
              "8                    Ciprofloxacin       105\n",
              "9                       Furosemide         8\n",
              "10                      Gentamicin         4\n",
              "11                         HUMALOG         1\n",
              "12             Hydrochlorothiazide        18\n",
              "13                       Ibuprofen         2\n",
              "14                   Insulin Lente         2\n",
              "15                     Insulin Nph        41\n",
              "16                     Insulin Reg        10\n",
              "17              Insulin,Ultralente         5\n",
              "18                      Irbesartan         2\n",
              "19          Isotonic Saline (0.9%)       101\n",
              "20                          LANTUS         9\n",
              "21                        LEVAQUIN         1\n",
              "22                       Labetalol         3\n",
              "23                    Levofloxacin         6\n",
              "24                      Lisinopril        83\n",
              "25                      Metoprolol         6\n",
              "26                        Morphine         8\n",
              "27                   Nitroglycerin         8\n",
              "28                          OMS 50        45\n",
              "29                   Potassium Chl        21\n",
              "30                      Prednisone         6\n",
              "31                     Propranolol        26\n",
              "32                    Theophylline         3\n",
              "33                      Tobramycin         1\n",
              "34                   acetaminophen         3\n",
              "35                       enalapril        42\n",
              "36                     glimepiride         1\n",
              "37                       glyburide         9\n",
              "38                  insulin aspart        14\n",
              "39                        mannitol         5\n",
              "40                      metoprolol         9\n",
              "41                      nifedipine        12\n",
              "42  oxycodone-acetaminophen 10-325         1\n",
              "43                    oxycontin 10         4\n",
              "44               protamine sulfate        53\n",
              "45                      salmeterol         3\n",
              "46                    trimethoprim         1\n",
              "47                       valsartan        14\n",
              "48               vicodin HP 10-300         4"
            ]
          },
          "metadata": {
            "tags": []
          },
          "execution_count": 224
        }
      ]
    },
    {
      "cell_type": "code",
      "metadata": {
        "id": "o4YF76l4HaDF",
        "colab_type": "code",
        "colab": {
          "base_uri": "https://localhost:8080/",
          "height": 80
        },
        "outputId": "8508b0f2-3841-4736-805c-2edceb148622"
      },
      "source": [
        "totalcount = ps.sqldf(\"\"\"select sum(cnt) from drugname where description is null and severity is null and CC is null\"\"\" )\n",
        "totalcount"
      ],
      "execution_count": 225,
      "outputs": [
        {
          "output_type": "execute_result",
          "data": {
            "text/html": [
              "<div>\n",
              "<style scoped>\n",
              "    .dataframe tbody tr th:only-of-type {\n",
              "        vertical-align: middle;\n",
              "    }\n",
              "\n",
              "    .dataframe tbody tr th {\n",
              "        vertical-align: top;\n",
              "    }\n",
              "\n",
              "    .dataframe thead th {\n",
              "        text-align: right;\n",
              "    }\n",
              "</style>\n",
              "<table border=\"1\" class=\"dataframe\">\n",
              "  <thead>\n",
              "    <tr style=\"text-align: right;\">\n",
              "      <th></th>\n",
              "      <th>sum(cnt)</th>\n",
              "    </tr>\n",
              "  </thead>\n",
              "  <tbody>\n",
              "    <tr>\n",
              "      <th>0</th>\n",
              "      <td>764</td>\n",
              "    </tr>\n",
              "  </tbody>\n",
              "</table>\n",
              "</div>"
            ],
            "text/plain": [
              "   sum(cnt)\n",
              "0       764"
            ]
          },
          "metadata": {
            "tags": []
          },
          "execution_count": 225
        }
      ]
    },
    {
      "cell_type": "code",
      "metadata": {
        "id": "4WSubMKaGlKu",
        "colab_type": "code",
        "colab": {}
      },
      "source": [
        ""
      ],
      "execution_count": 0,
      "outputs": []
    }
  ]
}
