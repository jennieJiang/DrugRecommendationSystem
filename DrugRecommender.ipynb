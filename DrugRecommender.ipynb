{
  "nbformat": 4,
  "nbformat_minor": 0,
  "metadata": {
    "colab": {
      "name": "DrugRecommender.ipynb",
      "provenance": [],
      "collapsed_sections": [],
      "mount_file_id": "18zaNrEQpqJrm1MFViOg511GLOb9olup6",
      "authorship_tag": "ABX9TyPayq59ULqmdxgEnRmfXLjM",
      "include_colab_link": true
    },
    "kernelspec": {
      "name": "python3",
      "display_name": "Python 3"
    }
  },
  "cells": [
    {
      "cell_type": "markdown",
      "metadata": {
        "id": "view-in-github",
        "colab_type": "text"
      },
      "source": [
        "<a href=\"https://colab.research.google.com/github/khushbooekhande/DrugRecommendationSystem/blob/master/DrugRecommender.ipynb\" target=\"_parent\"><img src=\"https://colab.research.google.com/assets/colab-badge.svg\" alt=\"Open In Colab\"/></a>"
      ]
    },
    {
      "cell_type": "code",
      "metadata": {
        "id": "JdMLLXuFBUKo",
        "colab_type": "code",
        "colab": {
          "base_uri": "https://localhost:8080/",
          "height": 34
        },
        "outputId": "89ecde2b-9bf5-44a4-caa4-8389ec9a2360"
      },
      "source": [
        "from google.colab import drive\n",
        "drive.mount(\"/content/drive\")"
      ],
      "execution_count": 1,
      "outputs": [
        {
          "output_type": "stream",
          "text": [
            "Drive already mounted at /content/drive; to attempt to forcibly remount, call drive.mount(\"/content/drive\", force_remount=True).\n"
          ],
          "name": "stdout"
        }
      ]
    },
    {
      "cell_type": "code",
      "metadata": {
        "id": "5-wxkXZhBmaq",
        "colab_type": "code",
        "colab": {}
      },
      "source": [
        "import pandas as pd \n",
        "import numpy as np"
      ],
      "execution_count": 0,
      "outputs": []
    },
    {
      "cell_type": "code",
      "metadata": {
        "id": "vrCq2RX0GR5E",
        "colab_type": "code",
        "colab": {}
      },
      "source": [
        "pd.set_option('display.max_columns', None)\n",
        "df = pd.read_csv(f'/content/drive/My Drive/sentiment_review.csv')\n",
        "df=df.drop(['Symptoms', 'Rating', 'Unnamed: 0'], axis=1)\n",
        "df.Drug = df.Drug.str.upper()"
      ],
      "execution_count": 0,
      "outputs": []
    },
    {
      "cell_type": "code",
      "metadata": {
        "id": "l6Jk2z7fST2_",
        "colab_type": "code",
        "colab": {}
      },
      "source": [
        "predicted_disease = 'schizophrenia'"
      ],
      "execution_count": 0,
      "outputs": []
    },
    {
      "cell_type": "code",
      "metadata": {
        "id": "hiVLj5-fSLGF",
        "colab_type": "code",
        "colab": {}
      },
      "source": [
        "def _DrugRecommender(df=df, predicted_disease=predicted_disease):\n",
        "    #df['Rating'] = np.where(df['Rating']>7, 1, 0)\n",
        "    df = df.loc[df['Disease'] == predicted_disease]\n",
        "    df = df.loc[df['sentiment_review'] == 'positive']\n",
        "    df = df.sort_values(by = ['UsefulCount'], ascending=False)\n",
        "    df = df[['Disease', 'Drug']]\n",
        "    #df = df.drop_duplicates()\n",
        "    df = df.reset_index()\n",
        "    df = df.drop(['index'], axis=1)\n",
        "    df = df.head()\n",
        "\n",
        "    return df"
      ],
      "execution_count": 0,
      "outputs": []
    },
    {
      "cell_type": "code",
      "metadata": {
        "id": "VCsf4V8r8x2p",
        "colab_type": "code",
        "colab": {}
      },
      "source": [
        "drug = _DrugRecommender()"
      ],
      "execution_count": 0,
      "outputs": []
    },
    {
      "cell_type": "code",
      "metadata": {
        "id": "ZqEHVSt98y3M",
        "colab_type": "code",
        "colab": {
          "base_uri": "https://localhost:8080/",
          "height": 204
        },
        "outputId": "999a24be-b326-48f8-df6b-59e1a262833c"
      },
      "source": [
        "drug"
      ],
      "execution_count": 7,
      "outputs": [
        {
          "output_type": "execute_result",
          "data": {
            "text/html": [
              "<div>\n",
              "<style scoped>\n",
              "    .dataframe tbody tr th:only-of-type {\n",
              "        vertical-align: middle;\n",
              "    }\n",
              "\n",
              "    .dataframe tbody tr th {\n",
              "        vertical-align: top;\n",
              "    }\n",
              "\n",
              "    .dataframe thead th {\n",
              "        text-align: right;\n",
              "    }\n",
              "</style>\n",
              "<table border=\"1\" class=\"dataframe\">\n",
              "  <thead>\n",
              "    <tr style=\"text-align: right;\">\n",
              "      <th></th>\n",
              "      <th>Disease</th>\n",
              "      <th>Drug</th>\n",
              "    </tr>\n",
              "  </thead>\n",
              "  <tbody>\n",
              "    <tr>\n",
              "      <th>0</th>\n",
              "      <td>schizophrenia</td>\n",
              "      <td>CLOZAPINE</td>\n",
              "    </tr>\n",
              "    <tr>\n",
              "      <th>1</th>\n",
              "      <td>schizophrenia</td>\n",
              "      <td>CLOZARIL</td>\n",
              "    </tr>\n",
              "    <tr>\n",
              "      <th>2</th>\n",
              "      <td>schizophrenia</td>\n",
              "      <td>CLOZAPINE</td>\n",
              "    </tr>\n",
              "    <tr>\n",
              "      <th>3</th>\n",
              "      <td>schizophrenia</td>\n",
              "      <td>CLOZARIL</td>\n",
              "    </tr>\n",
              "    <tr>\n",
              "      <th>4</th>\n",
              "      <td>schizophrenia</td>\n",
              "      <td>RISPERDAL</td>\n",
              "    </tr>\n",
              "  </tbody>\n",
              "</table>\n",
              "</div>"
            ],
            "text/plain": [
              "         Disease       Drug\n",
              "0  schizophrenia  CLOZAPINE\n",
              "1  schizophrenia   CLOZARIL\n",
              "2  schizophrenia  CLOZAPINE\n",
              "3  schizophrenia   CLOZARIL\n",
              "4  schizophrenia  RISPERDAL"
            ]
          },
          "metadata": {
            "tags": []
          },
          "execution_count": 7
        }
      ]
    },
    {
      "cell_type": "code",
      "metadata": {
        "id": "c5DJpNkvIQ7_",
        "colab_type": "code",
        "colab": {}
      },
      "source": [
        "sd = pd.read_csv(f'/content/drive/My Drive/SideEffects_processed.csv')\n",
        "sd = sd.drop(['condition', 'commentsReview'], axis=1)\n",
        "sd = sd.dropna()"
      ],
      "execution_count": 0,
      "outputs": []
    },
    {
      "cell_type": "code",
      "metadata": {
        "id": "rmAkoZD9IRAX",
        "colab_type": "code",
        "colab": {}
      },
      "source": [
        "sd.sideEffects = sd.sideEffects.replace('Moderate Side Effects', 2)\n",
        "sd.sideEffects = sd.sideEffects.replace('Mild Side Effects', 2)\n",
        "sd.sideEffects = sd.sideEffects.replace('Severe Side Effects', 1)\n",
        "sd.sideEffects = sd.sideEffects.replace('No Side Effects', 3)\n",
        "sd.sideEffects = sd.sideEffects.replace('Extremely Severe Side Effects', 0)"
      ],
      "execution_count": 0,
      "outputs": []
    },
    {
      "cell_type": "code",
      "metadata": {
        "id": "IG1-XnkxIRCz",
        "colab_type": "code",
        "colab": {}
      },
      "source": [
        "sd.effectiveness = sd.effectiveness.replace('Considerably Effective', 2)\n",
        "sd.effectiveness = sd.effectiveness.replace('Highly Effective', 3)\n",
        "sd.effectiveness = sd.effectiveness.replace('Marginally Effective', 1)\n",
        "sd.effectiveness = sd.effectiveness.replace('Moderately Effective', 1)\n",
        "sd.effectiveness = sd.effectiveness.replace('Ineffective', 0)"
      ],
      "execution_count": 0,
      "outputs": []
    },
    {
      "cell_type": "code",
      "metadata": {
        "id": "B5kiNFE0IRFD",
        "colab_type": "code",
        "colab": {}
      },
      "source": [
        "sd = sd[['urlDrugName', 'rating', 'effectiveness', 'sideEffects', 'sideEffectsReview']]"
      ],
      "execution_count": 0,
      "outputs": []
    },
    {
      "cell_type": "code",
      "metadata": {
        "id": "gyKlsiRHIRHo",
        "colab_type": "code",
        "colab": {}
      },
      "source": [
        "sd = sd.rename(columns={\"urlDrugName\": \"Drug\", \"rating\": \"Rating\", \"effectiveness\": \"Effectivness Rating\",\n",
        "                       \"sideEffects\": \"Side Effect Rating\", \"sideEffectsReview\": \"Side Effects\"})\n",
        "sd.Drug = sd.Drug.str.upper()"
      ],
      "execution_count": 0,
      "outputs": []
    },
    {
      "cell_type": "code",
      "metadata": {
        "id": "hJnpLFMPIRKm",
        "colab_type": "code",
        "colab": {
          "base_uri": "https://localhost:8080/",
          "height": 419
        },
        "outputId": "db7793bf-a69e-45e2-ece5-7b9ada86a367"
      },
      "source": [
        "sd"
      ],
      "execution_count": 13,
      "outputs": [
        {
          "output_type": "execute_result",
          "data": {
            "text/html": [
              "<div>\n",
              "<style scoped>\n",
              "    .dataframe tbody tr th:only-of-type {\n",
              "        vertical-align: middle;\n",
              "    }\n",
              "\n",
              "    .dataframe tbody tr th {\n",
              "        vertical-align: top;\n",
              "    }\n",
              "\n",
              "    .dataframe thead th {\n",
              "        text-align: right;\n",
              "    }\n",
              "</style>\n",
              "<table border=\"1\" class=\"dataframe\">\n",
              "  <thead>\n",
              "    <tr style=\"text-align: right;\">\n",
              "      <th></th>\n",
              "      <th>Drug</th>\n",
              "      <th>Rating</th>\n",
              "      <th>Effectivness Rating</th>\n",
              "      <th>Side Effect Rating</th>\n",
              "      <th>Side Effects</th>\n",
              "    </tr>\n",
              "  </thead>\n",
              "  <tbody>\n",
              "    <tr>\n",
              "      <th>0</th>\n",
              "      <td>ENALAPRIL</td>\n",
              "      <td>4</td>\n",
              "      <td>3</td>\n",
              "      <td>2</td>\n",
              "      <td>cough, hypotension , proteinuria, impotence , ...</td>\n",
              "    </tr>\n",
              "    <tr>\n",
              "      <th>1</th>\n",
              "      <td>ORTHO-TRI-CYCLEN</td>\n",
              "      <td>1</td>\n",
              "      <td>3</td>\n",
              "      <td>1</td>\n",
              "      <td>Heavy Cycle, Cramps, Hot Flashes, Fatigue, Lon...</td>\n",
              "    </tr>\n",
              "    <tr>\n",
              "      <th>2</th>\n",
              "      <td>PONSTEL</td>\n",
              "      <td>10</td>\n",
              "      <td>3</td>\n",
              "      <td>3</td>\n",
              "      <td>Heavier bleeding and clotting than normal.</td>\n",
              "    </tr>\n",
              "    <tr>\n",
              "      <th>3</th>\n",
              "      <td>PRILOSEC</td>\n",
              "      <td>3</td>\n",
              "      <td>1</td>\n",
              "      <td>2</td>\n",
              "      <td>Constipation, dry mouth and some mild dizzines...</td>\n",
              "    </tr>\n",
              "    <tr>\n",
              "      <th>4</th>\n",
              "      <td>LYRICA</td>\n",
              "      <td>2</td>\n",
              "      <td>1</td>\n",
              "      <td>1</td>\n",
              "      <td>I felt extremely drugged and dopey.  Could not...</td>\n",
              "    </tr>\n",
              "    <tr>\n",
              "      <th>...</th>\n",
              "      <td>...</td>\n",
              "      <td>...</td>\n",
              "      <td>...</td>\n",
              "      <td>...</td>\n",
              "      <td>...</td>\n",
              "    </tr>\n",
              "    <tr>\n",
              "      <th>4138</th>\n",
              "      <td>ACCUTANE</td>\n",
              "      <td>7</td>\n",
              "      <td>2</td>\n",
              "      <td>1</td>\n",
              "      <td>Hairloss, extreme dry skin, itchiness, raises ...</td>\n",
              "    </tr>\n",
              "    <tr>\n",
              "      <th>4139</th>\n",
              "      <td>PROAIR-HFA</td>\n",
              "      <td>10</td>\n",
              "      <td>3</td>\n",
              "      <td>3</td>\n",
              "      <td>I have experienced no side effects.</td>\n",
              "    </tr>\n",
              "    <tr>\n",
              "      <th>4140</th>\n",
              "      <td>ACCUTANE</td>\n",
              "      <td>8</td>\n",
              "      <td>2</td>\n",
              "      <td>2</td>\n",
              "      <td>Painfull muscles, problems with seeing at night</td>\n",
              "    </tr>\n",
              "    <tr>\n",
              "      <th>4141</th>\n",
              "      <td>DIVIGEL</td>\n",
              "      <td>10</td>\n",
              "      <td>3</td>\n",
              "      <td>3</td>\n",
              "      <td>No side effects of any kind were noted or appa...</td>\n",
              "    </tr>\n",
              "    <tr>\n",
              "      <th>4142</th>\n",
              "      <td>CLARIPEL-CREAM</td>\n",
              "      <td>8</td>\n",
              "      <td>2</td>\n",
              "      <td>2</td>\n",
              "      <td>Have stopped using it and have also learned th...</td>\n",
              "    </tr>\n",
              "  </tbody>\n",
              "</table>\n",
              "<p>4141 rows × 5 columns</p>\n",
              "</div>"
            ],
            "text/plain": [
              "                  Drug  Rating  Effectivness Rating  Side Effect Rating  \\\n",
              "0            ENALAPRIL       4                    3                   2   \n",
              "1     ORTHO-TRI-CYCLEN       1                    3                   1   \n",
              "2              PONSTEL      10                    3                   3   \n",
              "3             PRILOSEC       3                    1                   2   \n",
              "4               LYRICA       2                    1                   1   \n",
              "...                ...     ...                  ...                 ...   \n",
              "4138          ACCUTANE       7                    2                   1   \n",
              "4139        PROAIR-HFA      10                    3                   3   \n",
              "4140          ACCUTANE       8                    2                   2   \n",
              "4141           DIVIGEL      10                    3                   3   \n",
              "4142    CLARIPEL-CREAM       8                    2                   2   \n",
              "\n",
              "                                           Side Effects  \n",
              "0     cough, hypotension , proteinuria, impotence , ...  \n",
              "1     Heavy Cycle, Cramps, Hot Flashes, Fatigue, Lon...  \n",
              "2            Heavier bleeding and clotting than normal.  \n",
              "3     Constipation, dry mouth and some mild dizzines...  \n",
              "4     I felt extremely drugged and dopey.  Could not...  \n",
              "...                                                 ...  \n",
              "4138  Hairloss, extreme dry skin, itchiness, raises ...  \n",
              "4139                I have experienced no side effects.  \n",
              "4140    Painfull muscles, problems with seeing at night  \n",
              "4141  No side effects of any kind were noted or appa...  \n",
              "4142  Have stopped using it and have also learned th...  \n",
              "\n",
              "[4141 rows x 5 columns]"
            ]
          },
          "metadata": {
            "tags": []
          },
          "execution_count": 13
        }
      ]
    },
    {
      "cell_type": "code",
      "metadata": {
        "id": "kBGsP0YUIROo",
        "colab_type": "code",
        "colab": {}
      },
      "source": [
        "def _weights(df, w1, w2, w3):\n",
        "    return((df[w1] * df[w2] * df[w3]).sum()/df[w1].sum()/10)"
      ],
      "execution_count": 0,
      "outputs": []
    },
    {
      "cell_type": "code",
      "metadata": {
        "id": "5TSwQ3fqIRT_",
        "colab_type": "code",
        "colab": {}
      },
      "source": [
        "def _getSideEffects(df, sedf):\n",
        "    l = list(df.Drug)\n",
        "    for i in range(0, len(l)):\n",
        "        sdf = sedf\n",
        "        sdf = sdf.loc[sdf['Drug'] == l[i]]\n",
        "        w = sdf.groupby([\"Drug\"]).apply(_weights, \"Rating\", \"Effectivness Rating\", \"Side Effect Rating\")\n",
        "        sdf = sdf.loc[sdf['Effectivness Rating'] == 0]\n",
        "        sdf = sdf.loc[sdf['Side Effect Rating'] == 0]\n",
        "        sdf = sdf.loc[sdf['Rating'] <= 1 ]\n",
        "        df1 = pd.DataFrame(w, columns=['Prob. of Side Effect'])\n",
        "        df1 = df1.reset_index()\n",
        "        df2 = pd.DataFrame(sdf[:1]['Side Effects'])\n",
        "        df2 = df2.reset_index()\n",
        "        df2 = df2.drop(['index'], axis=1)\n",
        "        dd = pd.concat([df1, df2], axis=1)\n",
        "            \n",
        "    return dd"
      ],
      "execution_count": 0,
      "outputs": []
    },
    {
      "cell_type": "code",
      "metadata": {
        "id": "OA6Am3KaIRXW",
        "colab_type": "code",
        "colab": {}
      },
      "source": [
        "se = _getSideEffects(drug, sd)"
      ],
      "execution_count": 0,
      "outputs": []
    },
    {
      "cell_type": "code",
      "metadata": {
        "id": "VaN3cw2JIRbQ",
        "colab_type": "code",
        "colab": {
          "base_uri": "https://localhost:8080/",
          "height": 80
        },
        "outputId": "4347f735-6586-474c-a200-a92788ca6a6d"
      },
      "source": [
        "se"
      ],
      "execution_count": 17,
      "outputs": [
        {
          "output_type": "execute_result",
          "data": {
            "text/html": [
              "<div>\n",
              "<style scoped>\n",
              "    .dataframe tbody tr th:only-of-type {\n",
              "        vertical-align: middle;\n",
              "    }\n",
              "\n",
              "    .dataframe tbody tr th {\n",
              "        vertical-align: top;\n",
              "    }\n",
              "\n",
              "    .dataframe thead th {\n",
              "        text-align: right;\n",
              "    }\n",
              "</style>\n",
              "<table border=\"1\" class=\"dataframe\">\n",
              "  <thead>\n",
              "    <tr style=\"text-align: right;\">\n",
              "      <th></th>\n",
              "      <th>Drug</th>\n",
              "      <th>Prob. of Side Effect</th>\n",
              "      <th>Side Effects</th>\n",
              "    </tr>\n",
              "  </thead>\n",
              "  <tbody>\n",
              "    <tr>\n",
              "      <th>0</th>\n",
              "      <td>RISPERDAL</td>\n",
              "      <td>0.220833</td>\n",
              "      <td>memory loss, heart diseasse, increased panick ...</td>\n",
              "    </tr>\n",
              "  </tbody>\n",
              "</table>\n",
              "</div>"
            ],
            "text/plain": [
              "        Drug  Prob. of Side Effect  \\\n",
              "0  RISPERDAL              0.220833   \n",
              "\n",
              "                                        Side Effects  \n",
              "0  memory loss, heart diseasse, increased panick ...  "
            ]
          },
          "metadata": {
            "tags": []
          },
          "execution_count": 17
        }
      ]
    },
    {
      "cell_type": "code",
      "metadata": {
        "id": "xDexhaeVIRe3",
        "colab_type": "code",
        "colab": {
          "base_uri": "https://localhost:8080/",
          "height": 142
        },
        "outputId": "7cb703f6-c02a-44c3-9b39-63e26a7d66db"
      },
      "source": [
        "drug = drug.drop_duplicates()\n",
        "drug"
      ],
      "execution_count": 18,
      "outputs": [
        {
          "output_type": "execute_result",
          "data": {
            "text/html": [
              "<div>\n",
              "<style scoped>\n",
              "    .dataframe tbody tr th:only-of-type {\n",
              "        vertical-align: middle;\n",
              "    }\n",
              "\n",
              "    .dataframe tbody tr th {\n",
              "        vertical-align: top;\n",
              "    }\n",
              "\n",
              "    .dataframe thead th {\n",
              "        text-align: right;\n",
              "    }\n",
              "</style>\n",
              "<table border=\"1\" class=\"dataframe\">\n",
              "  <thead>\n",
              "    <tr style=\"text-align: right;\">\n",
              "      <th></th>\n",
              "      <th>Disease</th>\n",
              "      <th>Drug</th>\n",
              "    </tr>\n",
              "  </thead>\n",
              "  <tbody>\n",
              "    <tr>\n",
              "      <th>0</th>\n",
              "      <td>schizophrenia</td>\n",
              "      <td>CLOZAPINE</td>\n",
              "    </tr>\n",
              "    <tr>\n",
              "      <th>1</th>\n",
              "      <td>schizophrenia</td>\n",
              "      <td>CLOZARIL</td>\n",
              "    </tr>\n",
              "    <tr>\n",
              "      <th>4</th>\n",
              "      <td>schizophrenia</td>\n",
              "      <td>RISPERDAL</td>\n",
              "    </tr>\n",
              "  </tbody>\n",
              "</table>\n",
              "</div>"
            ],
            "text/plain": [
              "         Disease       Drug\n",
              "0  schizophrenia  CLOZAPINE\n",
              "1  schizophrenia   CLOZARIL\n",
              "4  schizophrenia  RISPERDAL"
            ]
          },
          "metadata": {
            "tags": []
          },
          "execution_count": 18
        }
      ]
    },
    {
      "cell_type": "code",
      "metadata": {
        "id": "n6CWU9YnIRNh",
        "colab_type": "code",
        "colab": {
          "base_uri": "https://localhost:8080/",
          "height": 142
        },
        "outputId": "d8834b3b-90b6-47b4-9f15-f9323fc0196b"
      },
      "source": [
        "recommender = drug.set_index('Drug').join(se.set_index('Drug'))\n",
        "recommender = recommender.reset_index()\n",
        "recommender['Prob. of Side Effect'] = recommender['Prob. of Side Effect'].fillna(0)\n",
        "recommender['Side Effects'] = recommender['Side Effects'].fillna('Not Available')\n",
        "recommender = recommender.sort_values('Prob. of Side Effect')\n",
        "recommender"
      ],
      "execution_count": 19,
      "outputs": [
        {
          "output_type": "execute_result",
          "data": {
            "text/html": [
              "<div>\n",
              "<style scoped>\n",
              "    .dataframe tbody tr th:only-of-type {\n",
              "        vertical-align: middle;\n",
              "    }\n",
              "\n",
              "    .dataframe tbody tr th {\n",
              "        vertical-align: top;\n",
              "    }\n",
              "\n",
              "    .dataframe thead th {\n",
              "        text-align: right;\n",
              "    }\n",
              "</style>\n",
              "<table border=\"1\" class=\"dataframe\">\n",
              "  <thead>\n",
              "    <tr style=\"text-align: right;\">\n",
              "      <th></th>\n",
              "      <th>Drug</th>\n",
              "      <th>Disease</th>\n",
              "      <th>Prob. of Side Effect</th>\n",
              "      <th>Side Effects</th>\n",
              "    </tr>\n",
              "  </thead>\n",
              "  <tbody>\n",
              "    <tr>\n",
              "      <th>0</th>\n",
              "      <td>CLOZAPINE</td>\n",
              "      <td>schizophrenia</td>\n",
              "      <td>0.000000</td>\n",
              "      <td>Not Available</td>\n",
              "    </tr>\n",
              "    <tr>\n",
              "      <th>1</th>\n",
              "      <td>CLOZARIL</td>\n",
              "      <td>schizophrenia</td>\n",
              "      <td>0.000000</td>\n",
              "      <td>Not Available</td>\n",
              "    </tr>\n",
              "    <tr>\n",
              "      <th>2</th>\n",
              "      <td>RISPERDAL</td>\n",
              "      <td>schizophrenia</td>\n",
              "      <td>0.220833</td>\n",
              "      <td>memory loss, heart diseasse, increased panick ...</td>\n",
              "    </tr>\n",
              "  </tbody>\n",
              "</table>\n",
              "</div>"
            ],
            "text/plain": [
              "        Drug        Disease  Prob. of Side Effect  \\\n",
              "0  CLOZAPINE  schizophrenia              0.000000   \n",
              "1   CLOZARIL  schizophrenia              0.000000   \n",
              "2  RISPERDAL  schizophrenia              0.220833   \n",
              "\n",
              "                                        Side Effects  \n",
              "0                                      Not Available  \n",
              "1                                      Not Available  \n",
              "2  memory loss, heart diseasse, increased panick ...  "
            ]
          },
          "metadata": {
            "tags": []
          },
          "execution_count": 19
        }
      ]
    },
    {
      "cell_type": "code",
      "metadata": {
        "id": "pgxKMZmuIjNZ",
        "colab_type": "code",
        "colab": {
          "base_uri": "https://localhost:8080/",
          "height": 193
        },
        "outputId": "100e7765-39e5-4fd4-986c-8a841dd0478d"
      },
      "source": [
        "print(\"The recommended Drug with possible side effects for schizophrenia is:\")\n",
        "print('\\n')\n",
        "recommender"
      ],
      "execution_count": 20,
      "outputs": [
        {
          "output_type": "stream",
          "text": [
            "The recommended Drug with possible side effects for schizophrenia is:\n",
            "\n",
            "\n"
          ],
          "name": "stdout"
        },
        {
          "output_type": "execute_result",
          "data": {
            "text/html": [
              "<div>\n",
              "<style scoped>\n",
              "    .dataframe tbody tr th:only-of-type {\n",
              "        vertical-align: middle;\n",
              "    }\n",
              "\n",
              "    .dataframe tbody tr th {\n",
              "        vertical-align: top;\n",
              "    }\n",
              "\n",
              "    .dataframe thead th {\n",
              "        text-align: right;\n",
              "    }\n",
              "</style>\n",
              "<table border=\"1\" class=\"dataframe\">\n",
              "  <thead>\n",
              "    <tr style=\"text-align: right;\">\n",
              "      <th></th>\n",
              "      <th>Drug</th>\n",
              "      <th>Disease</th>\n",
              "      <th>Prob. of Side Effect</th>\n",
              "      <th>Side Effects</th>\n",
              "    </tr>\n",
              "  </thead>\n",
              "  <tbody>\n",
              "    <tr>\n",
              "      <th>0</th>\n",
              "      <td>CLOZAPINE</td>\n",
              "      <td>schizophrenia</td>\n",
              "      <td>0.000000</td>\n",
              "      <td>Not Available</td>\n",
              "    </tr>\n",
              "    <tr>\n",
              "      <th>1</th>\n",
              "      <td>CLOZARIL</td>\n",
              "      <td>schizophrenia</td>\n",
              "      <td>0.000000</td>\n",
              "      <td>Not Available</td>\n",
              "    </tr>\n",
              "    <tr>\n",
              "      <th>2</th>\n",
              "      <td>RISPERDAL</td>\n",
              "      <td>schizophrenia</td>\n",
              "      <td>0.220833</td>\n",
              "      <td>memory loss, heart diseasse, increased panick ...</td>\n",
              "    </tr>\n",
              "  </tbody>\n",
              "</table>\n",
              "</div>"
            ],
            "text/plain": [
              "        Drug        Disease  Prob. of Side Effect  \\\n",
              "0  CLOZAPINE  schizophrenia              0.000000   \n",
              "1   CLOZARIL  schizophrenia              0.000000   \n",
              "2  RISPERDAL  schizophrenia              0.220833   \n",
              "\n",
              "                                        Side Effects  \n",
              "0                                      Not Available  \n",
              "1                                      Not Available  \n",
              "2  memory loss, heart diseasse, increased panick ...  "
            ]
          },
          "metadata": {
            "tags": []
          },
          "execution_count": 20
        }
      ]
    }
  ]
}