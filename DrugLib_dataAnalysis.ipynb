{
  "nbformat": 4,
  "nbformat_minor": 0,
  "metadata": {
    "colab": {
      "name": "DrugLib_dataAnalysis.ipynb",
      "provenance": [],
      "collapsed_sections": [],
      "authorship_tag": "ABX9TyOL+ylM61bWVlUe53BwsCH7",
      "include_colab_link": true
    },
    "kernelspec": {
      "name": "python3",
      "display_name": "Python 3"
    }
  },
  "cells": [
    {
      "cell_type": "markdown",
      "metadata": {
        "id": "view-in-github",
        "colab_type": "text"
      },
      "source": [
        "<a href=\"https://colab.research.google.com/github/khushbooekhande/DrugRecommendationSystem/blob/master/DrugLib_dataAnalysis.ipynb\" target=\"_parent\"><img src=\"https://colab.research.google.com/assets/colab-badge.svg\" alt=\"Open In Colab\"/></a>"
      ]
    },
    {
      "cell_type": "code",
      "metadata": {
        "id": "w22X89_JIa55",
        "colab_type": "code",
        "colab": {}
      },
      "source": [
        "import pandas as pd"
      ],
      "execution_count": 0,
      "outputs": []
    },
    {
      "cell_type": "code",
      "metadata": {
        "id": "afm_VteXI8RM",
        "colab_type": "code",
        "outputId": "7ed34c96-0666-44bb-a48b-6f44b7f7f1f8",
        "colab": {
          "base_uri": "https://localhost:8080/",
          "height": 121
        }
      },
      "source": [
        "from google.colab import drive\n",
        "drive.mount('/content/drive')"
      ],
      "execution_count": 3,
      "outputs": [
        {
          "output_type": "stream",
          "text": [
            "Go to this URL in a browser: https://accounts.google.com/o/oauth2/auth?client_id=947318989803-6bn6qk8qdgf4n4g3pfee6491hc0brc4i.apps.googleusercontent.com&redirect_uri=urn%3aietf%3awg%3aoauth%3a2.0%3aoob&response_type=code&scope=email%20https%3a%2f%2fwww.googleapis.com%2fauth%2fdocs.test%20https%3a%2f%2fwww.googleapis.com%2fauth%2fdrive%20https%3a%2f%2fwww.googleapis.com%2fauth%2fdrive.photos.readonly%20https%3a%2f%2fwww.googleapis.com%2fauth%2fpeopleapi.readonly\n",
            "\n",
            "Enter your authorization code:\n",
            "··········\n",
            "Mounted at /content/drive\n"
          ],
          "name": "stdout"
        }
      ]
    },
    {
      "cell_type": "code",
      "metadata": {
        "id": "gupcyATDJDtQ",
        "colab_type": "code",
        "colab": {}
      },
      "source": [
        "train_data = pd.read_csv('drive/My Drive/Colab Notebooks/DrugLib Dataset/Raw data/drugLibTrain_raw.tsv', encoding='utf-8', sep='\\t')\n"
      ],
      "execution_count": 0,
      "outputs": []
    },
    {
      "cell_type": "code",
      "metadata": {
        "id": "dYH91bqDJaE6",
        "colab_type": "code",
        "outputId": "053abe1f-4d12-4b8a-8c6a-6cf5ec5d53ed",
        "colab": {
          "base_uri": "https://localhost:8080/",
          "height": 296
        }
      },
      "source": [
        "train_data.head()"
      ],
      "execution_count": 5,
      "outputs": [
        {
          "output_type": "execute_result",
          "data": {
            "text/html": [
              "<div>\n",
              "<style scoped>\n",
              "    .dataframe tbody tr th:only-of-type {\n",
              "        vertical-align: middle;\n",
              "    }\n",
              "\n",
              "    .dataframe tbody tr th {\n",
              "        vertical-align: top;\n",
              "    }\n",
              "\n",
              "    .dataframe thead th {\n",
              "        text-align: right;\n",
              "    }\n",
              "</style>\n",
              "<table border=\"1\" class=\"dataframe\">\n",
              "  <thead>\n",
              "    <tr style=\"text-align: right;\">\n",
              "      <th></th>\n",
              "      <th>Unnamed: 0</th>\n",
              "      <th>urlDrugName</th>\n",
              "      <th>rating</th>\n",
              "      <th>effectiveness</th>\n",
              "      <th>sideEffects</th>\n",
              "      <th>condition</th>\n",
              "      <th>benefitsReview</th>\n",
              "      <th>sideEffectsReview</th>\n",
              "      <th>commentsReview</th>\n",
              "    </tr>\n",
              "  </thead>\n",
              "  <tbody>\n",
              "    <tr>\n",
              "      <th>0</th>\n",
              "      <td>2202</td>\n",
              "      <td>enalapril</td>\n",
              "      <td>4</td>\n",
              "      <td>Highly Effective</td>\n",
              "      <td>Mild Side Effects</td>\n",
              "      <td>management of congestive heart failure</td>\n",
              "      <td>slowed the progression of left ventricular dys...</td>\n",
              "      <td>cough, hypotension , proteinuria, impotence , ...</td>\n",
              "      <td>monitor blood pressure , weight and asses for ...</td>\n",
              "    </tr>\n",
              "    <tr>\n",
              "      <th>1</th>\n",
              "      <td>3117</td>\n",
              "      <td>ortho-tri-cyclen</td>\n",
              "      <td>1</td>\n",
              "      <td>Highly Effective</td>\n",
              "      <td>Severe Side Effects</td>\n",
              "      <td>birth prevention</td>\n",
              "      <td>Although this type of birth control has more c...</td>\n",
              "      <td>Heavy Cycle, Cramps, Hot Flashes, Fatigue, Lon...</td>\n",
              "      <td>I Hate This Birth Control, I Would Not Suggest...</td>\n",
              "    </tr>\n",
              "    <tr>\n",
              "      <th>2</th>\n",
              "      <td>1146</td>\n",
              "      <td>ponstel</td>\n",
              "      <td>10</td>\n",
              "      <td>Highly Effective</td>\n",
              "      <td>No Side Effects</td>\n",
              "      <td>menstrual cramps</td>\n",
              "      <td>I was used to having cramps so badly that they...</td>\n",
              "      <td>Heavier bleeding and clotting than normal.</td>\n",
              "      <td>I took 2 pills at the onset of my menstrual cr...</td>\n",
              "    </tr>\n",
              "    <tr>\n",
              "      <th>3</th>\n",
              "      <td>3947</td>\n",
              "      <td>prilosec</td>\n",
              "      <td>3</td>\n",
              "      <td>Marginally Effective</td>\n",
              "      <td>Mild Side Effects</td>\n",
              "      <td>acid reflux</td>\n",
              "      <td>The acid reflux went away for a few months aft...</td>\n",
              "      <td>Constipation, dry mouth and some mild dizzines...</td>\n",
              "      <td>I was given Prilosec prescription at a dose of...</td>\n",
              "    </tr>\n",
              "    <tr>\n",
              "      <th>4</th>\n",
              "      <td>1951</td>\n",
              "      <td>lyrica</td>\n",
              "      <td>2</td>\n",
              "      <td>Marginally Effective</td>\n",
              "      <td>Severe Side Effects</td>\n",
              "      <td>fibromyalgia</td>\n",
              "      <td>I think that the Lyrica was starting to help w...</td>\n",
              "      <td>I felt extremely drugged and dopey.  Could not...</td>\n",
              "      <td>See above</td>\n",
              "    </tr>\n",
              "  </tbody>\n",
              "</table>\n",
              "</div>"
            ],
            "text/plain": [
              "   Unnamed: 0  ...                                     commentsReview\n",
              "0        2202  ...  monitor blood pressure , weight and asses for ...\n",
              "1        3117  ...  I Hate This Birth Control, I Would Not Suggest...\n",
              "2        1146  ...  I took 2 pills at the onset of my menstrual cr...\n",
              "3        3947  ...  I was given Prilosec prescription at a dose of...\n",
              "4        1951  ...                                          See above\n",
              "\n",
              "[5 rows x 9 columns]"
            ]
          },
          "metadata": {
            "tags": []
          },
          "execution_count": 5
        }
      ]
    },
    {
      "cell_type": "code",
      "metadata": {
        "id": "uU7oHybfJhVp",
        "colab_type": "code",
        "colab": {}
      },
      "source": [
        "test_data = pd.read_csv('drive/My Drive/Colab Notebooks/DrugLib Dataset/Raw data/drugLibTest_raw.tsv', encoding='utf-8', sep='\\t')"
      ],
      "execution_count": 0,
      "outputs": []
    },
    {
      "cell_type": "code",
      "metadata": {
        "id": "M9BgnR9gJo0p",
        "colab_type": "code",
        "outputId": "a783cff7-ec68-45dc-c3fe-9cd8db5c5540",
        "colab": {
          "base_uri": "https://localhost:8080/",
          "height": 296
        }
      },
      "source": [
        "test_data.head()"
      ],
      "execution_count": 7,
      "outputs": [
        {
          "output_type": "execute_result",
          "data": {
            "text/html": [
              "<div>\n",
              "<style scoped>\n",
              "    .dataframe tbody tr th:only-of-type {\n",
              "        vertical-align: middle;\n",
              "    }\n",
              "\n",
              "    .dataframe tbody tr th {\n",
              "        vertical-align: top;\n",
              "    }\n",
              "\n",
              "    .dataframe thead th {\n",
              "        text-align: right;\n",
              "    }\n",
              "</style>\n",
              "<table border=\"1\" class=\"dataframe\">\n",
              "  <thead>\n",
              "    <tr style=\"text-align: right;\">\n",
              "      <th></th>\n",
              "      <th>Unnamed: 0</th>\n",
              "      <th>urlDrugName</th>\n",
              "      <th>rating</th>\n",
              "      <th>effectiveness</th>\n",
              "      <th>sideEffects</th>\n",
              "      <th>condition</th>\n",
              "      <th>benefitsReview</th>\n",
              "      <th>sideEffectsReview</th>\n",
              "      <th>commentsReview</th>\n",
              "    </tr>\n",
              "  </thead>\n",
              "  <tbody>\n",
              "    <tr>\n",
              "      <th>0</th>\n",
              "      <td>1366</td>\n",
              "      <td>biaxin</td>\n",
              "      <td>9</td>\n",
              "      <td>Considerably Effective</td>\n",
              "      <td>Mild Side Effects</td>\n",
              "      <td>sinus infection</td>\n",
              "      <td>The antibiotic may have destroyed bacteria cau...</td>\n",
              "      <td>Some back pain, some nauseau.</td>\n",
              "      <td>Took the antibiotics for 14 days. Sinus infect...</td>\n",
              "    </tr>\n",
              "    <tr>\n",
              "      <th>1</th>\n",
              "      <td>3724</td>\n",
              "      <td>lamictal</td>\n",
              "      <td>9</td>\n",
              "      <td>Highly Effective</td>\n",
              "      <td>Mild Side Effects</td>\n",
              "      <td>bipolar disorder</td>\n",
              "      <td>Lamictal stabilized my serious mood swings. On...</td>\n",
              "      <td>Drowsiness, a bit of mental numbness. If you t...</td>\n",
              "      <td>Severe mood swings between hypomania and depre...</td>\n",
              "    </tr>\n",
              "    <tr>\n",
              "      <th>2</th>\n",
              "      <td>3824</td>\n",
              "      <td>depakene</td>\n",
              "      <td>4</td>\n",
              "      <td>Moderately Effective</td>\n",
              "      <td>Severe Side Effects</td>\n",
              "      <td>bipolar disorder</td>\n",
              "      <td>Initial benefits were comparable to the brand ...</td>\n",
              "      <td>Depakene has a very thin coating, which caused...</td>\n",
              "      <td>Depakote was prescribed to me by a Kaiser psyc...</td>\n",
              "    </tr>\n",
              "    <tr>\n",
              "      <th>3</th>\n",
              "      <td>969</td>\n",
              "      <td>sarafem</td>\n",
              "      <td>10</td>\n",
              "      <td>Highly Effective</td>\n",
              "      <td>No Side Effects</td>\n",
              "      <td>bi-polar / anxiety</td>\n",
              "      <td>It controlls my mood swings. It helps me think...</td>\n",
              "      <td>I didnt really notice any side effects.</td>\n",
              "      <td>This drug may not be for everyone but its wond...</td>\n",
              "    </tr>\n",
              "    <tr>\n",
              "      <th>4</th>\n",
              "      <td>696</td>\n",
              "      <td>accutane</td>\n",
              "      <td>10</td>\n",
              "      <td>Highly Effective</td>\n",
              "      <td>Mild Side Effects</td>\n",
              "      <td>nodular acne</td>\n",
              "      <td>Within one week of treatment superficial acne ...</td>\n",
              "      <td>Side effects included moderate to severe dry s...</td>\n",
              "      <td>Drug was taken in gelatin tablet at 0.5 mg per...</td>\n",
              "    </tr>\n",
              "  </tbody>\n",
              "</table>\n",
              "</div>"
            ],
            "text/plain": [
              "   Unnamed: 0  ...                                     commentsReview\n",
              "0        1366  ...  Took the antibiotics for 14 days. Sinus infect...\n",
              "1        3724  ...  Severe mood swings between hypomania and depre...\n",
              "2        3824  ...  Depakote was prescribed to me by a Kaiser psyc...\n",
              "3         969  ...  This drug may not be for everyone but its wond...\n",
              "4         696  ...  Drug was taken in gelatin tablet at 0.5 mg per...\n",
              "\n",
              "[5 rows x 9 columns]"
            ]
          },
          "metadata": {
            "tags": []
          },
          "execution_count": 7
        }
      ]
    },
    {
      "cell_type": "code",
      "metadata": {
        "id": "wRDHfdk2Jsdd",
        "colab_type": "code",
        "colab": {}
      },
      "source": [
        "# Combining the training and testing datasets.\n",
        "data = pd.concat([train_data, test_data])"
      ],
      "execution_count": 0,
      "outputs": []
    },
    {
      "cell_type": "code",
      "metadata": {
        "id": "36KjKRi4KJ6J",
        "colab_type": "code",
        "outputId": "5a540b5c-f457-481d-fad9-f96447a1a8be",
        "colab": {
          "base_uri": "https://localhost:8080/",
          "height": 586
        }
      },
      "source": [
        "data"
      ],
      "execution_count": 9,
      "outputs": [
        {
          "output_type": "execute_result",
          "data": {
            "text/html": [
              "<div>\n",
              "<style scoped>\n",
              "    .dataframe tbody tr th:only-of-type {\n",
              "        vertical-align: middle;\n",
              "    }\n",
              "\n",
              "    .dataframe tbody tr th {\n",
              "        vertical-align: top;\n",
              "    }\n",
              "\n",
              "    .dataframe thead th {\n",
              "        text-align: right;\n",
              "    }\n",
              "</style>\n",
              "<table border=\"1\" class=\"dataframe\">\n",
              "  <thead>\n",
              "    <tr style=\"text-align: right;\">\n",
              "      <th></th>\n",
              "      <th>Unnamed: 0</th>\n",
              "      <th>urlDrugName</th>\n",
              "      <th>rating</th>\n",
              "      <th>effectiveness</th>\n",
              "      <th>sideEffects</th>\n",
              "      <th>condition</th>\n",
              "      <th>benefitsReview</th>\n",
              "      <th>sideEffectsReview</th>\n",
              "      <th>commentsReview</th>\n",
              "    </tr>\n",
              "  </thead>\n",
              "  <tbody>\n",
              "    <tr>\n",
              "      <th>0</th>\n",
              "      <td>2202</td>\n",
              "      <td>enalapril</td>\n",
              "      <td>4</td>\n",
              "      <td>Highly Effective</td>\n",
              "      <td>Mild Side Effects</td>\n",
              "      <td>management of congestive heart failure</td>\n",
              "      <td>slowed the progression of left ventricular dys...</td>\n",
              "      <td>cough, hypotension , proteinuria, impotence , ...</td>\n",
              "      <td>monitor blood pressure , weight and asses for ...</td>\n",
              "    </tr>\n",
              "    <tr>\n",
              "      <th>1</th>\n",
              "      <td>3117</td>\n",
              "      <td>ortho-tri-cyclen</td>\n",
              "      <td>1</td>\n",
              "      <td>Highly Effective</td>\n",
              "      <td>Severe Side Effects</td>\n",
              "      <td>birth prevention</td>\n",
              "      <td>Although this type of birth control has more c...</td>\n",
              "      <td>Heavy Cycle, Cramps, Hot Flashes, Fatigue, Lon...</td>\n",
              "      <td>I Hate This Birth Control, I Would Not Suggest...</td>\n",
              "    </tr>\n",
              "    <tr>\n",
              "      <th>2</th>\n",
              "      <td>1146</td>\n",
              "      <td>ponstel</td>\n",
              "      <td>10</td>\n",
              "      <td>Highly Effective</td>\n",
              "      <td>No Side Effects</td>\n",
              "      <td>menstrual cramps</td>\n",
              "      <td>I was used to having cramps so badly that they...</td>\n",
              "      <td>Heavier bleeding and clotting than normal.</td>\n",
              "      <td>I took 2 pills at the onset of my menstrual cr...</td>\n",
              "    </tr>\n",
              "    <tr>\n",
              "      <th>3</th>\n",
              "      <td>3947</td>\n",
              "      <td>prilosec</td>\n",
              "      <td>3</td>\n",
              "      <td>Marginally Effective</td>\n",
              "      <td>Mild Side Effects</td>\n",
              "      <td>acid reflux</td>\n",
              "      <td>The acid reflux went away for a few months aft...</td>\n",
              "      <td>Constipation, dry mouth and some mild dizzines...</td>\n",
              "      <td>I was given Prilosec prescription at a dose of...</td>\n",
              "    </tr>\n",
              "    <tr>\n",
              "      <th>4</th>\n",
              "      <td>1951</td>\n",
              "      <td>lyrica</td>\n",
              "      <td>2</td>\n",
              "      <td>Marginally Effective</td>\n",
              "      <td>Severe Side Effects</td>\n",
              "      <td>fibromyalgia</td>\n",
              "      <td>I think that the Lyrica was starting to help w...</td>\n",
              "      <td>I felt extremely drugged and dopey.  Could not...</td>\n",
              "      <td>See above</td>\n",
              "    </tr>\n",
              "    <tr>\n",
              "      <th>...</th>\n",
              "      <td>...</td>\n",
              "      <td>...</td>\n",
              "      <td>...</td>\n",
              "      <td>...</td>\n",
              "      <td>...</td>\n",
              "      <td>...</td>\n",
              "      <td>...</td>\n",
              "      <td>...</td>\n",
              "      <td>...</td>\n",
              "    </tr>\n",
              "    <tr>\n",
              "      <th>1031</th>\n",
              "      <td>690</td>\n",
              "      <td>accutane</td>\n",
              "      <td>7</td>\n",
              "      <td>Considerably Effective</td>\n",
              "      <td>Severe Side Effects</td>\n",
              "      <td>acne vulgaris</td>\n",
              "      <td>Detoxing effect by pushing out the system thro...</td>\n",
              "      <td>Hairloss, extreme dry skin, itchiness, raises ...</td>\n",
              "      <td>Treatment period is 3 months/12 weeks. Dosage ...</td>\n",
              "    </tr>\n",
              "    <tr>\n",
              "      <th>1032</th>\n",
              "      <td>1071</td>\n",
              "      <td>proair-hfa</td>\n",
              "      <td>10</td>\n",
              "      <td>Highly Effective</td>\n",
              "      <td>No Side Effects</td>\n",
              "      <td>asthma</td>\n",
              "      <td>The albuterol relieved the constriction, irrit...</td>\n",
              "      <td>I have experienced no side effects.</td>\n",
              "      <td>I use the albuterol as needed because of aller...</td>\n",
              "    </tr>\n",
              "    <tr>\n",
              "      <th>1033</th>\n",
              "      <td>681</td>\n",
              "      <td>accutane</td>\n",
              "      <td>8</td>\n",
              "      <td>Considerably Effective</td>\n",
              "      <td>Moderate Side Effects</td>\n",
              "      <td>serve acne</td>\n",
              "      <td>Serve Acne has turned to middle</td>\n",
              "      <td>Painfull muscles, problems with seeing at night</td>\n",
              "      <td>This drug is highly teratogenic ,females must ...</td>\n",
              "    </tr>\n",
              "    <tr>\n",
              "      <th>1034</th>\n",
              "      <td>2709</td>\n",
              "      <td>divigel</td>\n",
              "      <td>10</td>\n",
              "      <td>Highly Effective</td>\n",
              "      <td>No Side Effects</td>\n",
              "      <td>menopause</td>\n",
              "      <td>My overall mood, sense of well being, energy l...</td>\n",
              "      <td>No side effects of any kind were noted or appa...</td>\n",
              "      <td>Divigel is a topically applied Bio-Identical H...</td>\n",
              "    </tr>\n",
              "    <tr>\n",
              "      <th>1035</th>\n",
              "      <td>729</td>\n",
              "      <td>claripel-cream</td>\n",
              "      <td>8</td>\n",
              "      <td>Considerably Effective</td>\n",
              "      <td>Mild Side Effects</td>\n",
              "      <td>acne scarring &amp; hyperpigmentation</td>\n",
              "      <td>Up until 2 years ago, it worked really well on...</td>\n",
              "      <td>Have stopped using it and have also learned th...</td>\n",
              "      <td>Stopped using it for the time being.</td>\n",
              "    </tr>\n",
              "  </tbody>\n",
              "</table>\n",
              "<p>4143 rows × 9 columns</p>\n",
              "</div>"
            ],
            "text/plain": [
              "      Unnamed: 0  ...                                     commentsReview\n",
              "0           2202  ...  monitor blood pressure , weight and asses for ...\n",
              "1           3117  ...  I Hate This Birth Control, I Would Not Suggest...\n",
              "2           1146  ...  I took 2 pills at the onset of my menstrual cr...\n",
              "3           3947  ...  I was given Prilosec prescription at a dose of...\n",
              "4           1951  ...                                          See above\n",
              "...          ...  ...                                                ...\n",
              "1031         690  ...  Treatment period is 3 months/12 weeks. Dosage ...\n",
              "1032        1071  ...  I use the albuterol as needed because of aller...\n",
              "1033         681  ...  This drug is highly teratogenic ,females must ...\n",
              "1034        2709  ...  Divigel is a topically applied Bio-Identical H...\n",
              "1035         729  ...               Stopped using it for the time being.\n",
              "\n",
              "[4143 rows x 9 columns]"
            ]
          },
          "metadata": {
            "tags": []
          },
          "execution_count": 9
        }
      ]
    },
    {
      "cell_type": "code",
      "metadata": {
        "id": "4tlhjNANKVHV",
        "colab_type": "code",
        "outputId": "820b91e7-bded-4987-dc03-3ec89aa894ed",
        "colab": {
          "base_uri": "https://localhost:8080/",
          "height": 67
        }
      },
      "source": [
        "#Checking the shapes of train_data, test_data and combined data.\n",
        "print(\"Train data   : \", train_data.shape)\n",
        "print(\"Test data    : \", test_data.shape)\n",
        "print(\"Combined Data: \", data.shape)"
      ],
      "execution_count": 10,
      "outputs": [
        {
          "output_type": "stream",
          "text": [
            "Train data   :  (3107, 9)\n",
            "Test data    :  (1036, 9)\n",
            "Combined Data:  (4143, 9)\n"
          ],
          "name": "stdout"
        }
      ]
    },
    {
      "cell_type": "code",
      "metadata": {
        "id": "hVKeRSfKLJIu",
        "colab_type": "code",
        "outputId": "bd80810e-45d7-4b2d-bacd-ab19a82ca237",
        "colab": {
          "base_uri": "https://localhost:8080/",
          "height": 504
        }
      },
      "source": [
        "#Getting all information about the columns in the data.\n",
        "data.info()\n",
        "print('\\n')\n",
        "print(\"Count of null values column-wise:\")\n",
        "data.isna().sum()"
      ],
      "execution_count": 11,
      "outputs": [
        {
          "output_type": "stream",
          "text": [
            "<class 'pandas.core.frame.DataFrame'>\n",
            "Int64Index: 4143 entries, 0 to 1035\n",
            "Data columns (total 9 columns):\n",
            " #   Column             Non-Null Count  Dtype \n",
            "---  ------             --------------  ----- \n",
            " 0   Unnamed: 0         4143 non-null   int64 \n",
            " 1   urlDrugName        4143 non-null   object\n",
            " 2   rating             4143 non-null   int64 \n",
            " 3   effectiveness      4143 non-null   object\n",
            " 4   sideEffects        4143 non-null   object\n",
            " 5   condition          4142 non-null   object\n",
            " 6   benefitsReview     4143 non-null   object\n",
            " 7   sideEffectsReview  4141 non-null   object\n",
            " 8   commentsReview     4135 non-null   object\n",
            "dtypes: int64(2), object(7)\n",
            "memory usage: 323.7+ KB\n",
            "\n",
            "\n",
            "Count of null values column-wise:\n"
          ],
          "name": "stdout"
        },
        {
          "output_type": "execute_result",
          "data": {
            "text/plain": [
              "Unnamed: 0           0\n",
              "urlDrugName          0\n",
              "rating               0\n",
              "effectiveness        0\n",
              "sideEffects          0\n",
              "condition            1\n",
              "benefitsReview       0\n",
              "sideEffectsReview    2\n",
              "commentsReview       8\n",
              "dtype: int64"
            ]
          },
          "metadata": {
            "tags": []
          },
          "execution_count": 11
        }
      ]
    },
    {
      "cell_type": "code",
      "metadata": {
        "id": "gpueYRUOML2a",
        "colab_type": "code",
        "colab": {}
      },
      "source": [
        "#Dropping the column 'Unnamed:0' as it does not have relevant information.\n",
        "data = data.drop(['Unnamed: 0'], axis = 1)"
      ],
      "execution_count": 0,
      "outputs": []
    },
    {
      "cell_type": "code",
      "metadata": {
        "id": "T0THP0TdMqh8",
        "colab_type": "code",
        "outputId": "dd175c54-b2d7-474f-9572-5e912bf191a4",
        "colab": {
          "base_uri": "https://localhost:8080/",
          "height": 570
        }
      },
      "source": [
        "data"
      ],
      "execution_count": 13,
      "outputs": [
        {
          "output_type": "execute_result",
          "data": {
            "text/html": [
              "<div>\n",
              "<style scoped>\n",
              "    .dataframe tbody tr th:only-of-type {\n",
              "        vertical-align: middle;\n",
              "    }\n",
              "\n",
              "    .dataframe tbody tr th {\n",
              "        vertical-align: top;\n",
              "    }\n",
              "\n",
              "    .dataframe thead th {\n",
              "        text-align: right;\n",
              "    }\n",
              "</style>\n",
              "<table border=\"1\" class=\"dataframe\">\n",
              "  <thead>\n",
              "    <tr style=\"text-align: right;\">\n",
              "      <th></th>\n",
              "      <th>urlDrugName</th>\n",
              "      <th>rating</th>\n",
              "      <th>effectiveness</th>\n",
              "      <th>sideEffects</th>\n",
              "      <th>condition</th>\n",
              "      <th>benefitsReview</th>\n",
              "      <th>sideEffectsReview</th>\n",
              "      <th>commentsReview</th>\n",
              "    </tr>\n",
              "  </thead>\n",
              "  <tbody>\n",
              "    <tr>\n",
              "      <th>0</th>\n",
              "      <td>enalapril</td>\n",
              "      <td>4</td>\n",
              "      <td>Highly Effective</td>\n",
              "      <td>Mild Side Effects</td>\n",
              "      <td>management of congestive heart failure</td>\n",
              "      <td>slowed the progression of left ventricular dys...</td>\n",
              "      <td>cough, hypotension , proteinuria, impotence , ...</td>\n",
              "      <td>monitor blood pressure , weight and asses for ...</td>\n",
              "    </tr>\n",
              "    <tr>\n",
              "      <th>1</th>\n",
              "      <td>ortho-tri-cyclen</td>\n",
              "      <td>1</td>\n",
              "      <td>Highly Effective</td>\n",
              "      <td>Severe Side Effects</td>\n",
              "      <td>birth prevention</td>\n",
              "      <td>Although this type of birth control has more c...</td>\n",
              "      <td>Heavy Cycle, Cramps, Hot Flashes, Fatigue, Lon...</td>\n",
              "      <td>I Hate This Birth Control, I Would Not Suggest...</td>\n",
              "    </tr>\n",
              "    <tr>\n",
              "      <th>2</th>\n",
              "      <td>ponstel</td>\n",
              "      <td>10</td>\n",
              "      <td>Highly Effective</td>\n",
              "      <td>No Side Effects</td>\n",
              "      <td>menstrual cramps</td>\n",
              "      <td>I was used to having cramps so badly that they...</td>\n",
              "      <td>Heavier bleeding and clotting than normal.</td>\n",
              "      <td>I took 2 pills at the onset of my menstrual cr...</td>\n",
              "    </tr>\n",
              "    <tr>\n",
              "      <th>3</th>\n",
              "      <td>prilosec</td>\n",
              "      <td>3</td>\n",
              "      <td>Marginally Effective</td>\n",
              "      <td>Mild Side Effects</td>\n",
              "      <td>acid reflux</td>\n",
              "      <td>The acid reflux went away for a few months aft...</td>\n",
              "      <td>Constipation, dry mouth and some mild dizzines...</td>\n",
              "      <td>I was given Prilosec prescription at a dose of...</td>\n",
              "    </tr>\n",
              "    <tr>\n",
              "      <th>4</th>\n",
              "      <td>lyrica</td>\n",
              "      <td>2</td>\n",
              "      <td>Marginally Effective</td>\n",
              "      <td>Severe Side Effects</td>\n",
              "      <td>fibromyalgia</td>\n",
              "      <td>I think that the Lyrica was starting to help w...</td>\n",
              "      <td>I felt extremely drugged and dopey.  Could not...</td>\n",
              "      <td>See above</td>\n",
              "    </tr>\n",
              "    <tr>\n",
              "      <th>...</th>\n",
              "      <td>...</td>\n",
              "      <td>...</td>\n",
              "      <td>...</td>\n",
              "      <td>...</td>\n",
              "      <td>...</td>\n",
              "      <td>...</td>\n",
              "      <td>...</td>\n",
              "      <td>...</td>\n",
              "    </tr>\n",
              "    <tr>\n",
              "      <th>1031</th>\n",
              "      <td>accutane</td>\n",
              "      <td>7</td>\n",
              "      <td>Considerably Effective</td>\n",
              "      <td>Severe Side Effects</td>\n",
              "      <td>acne vulgaris</td>\n",
              "      <td>Detoxing effect by pushing out the system thro...</td>\n",
              "      <td>Hairloss, extreme dry skin, itchiness, raises ...</td>\n",
              "      <td>Treatment period is 3 months/12 weeks. Dosage ...</td>\n",
              "    </tr>\n",
              "    <tr>\n",
              "      <th>1032</th>\n",
              "      <td>proair-hfa</td>\n",
              "      <td>10</td>\n",
              "      <td>Highly Effective</td>\n",
              "      <td>No Side Effects</td>\n",
              "      <td>asthma</td>\n",
              "      <td>The albuterol relieved the constriction, irrit...</td>\n",
              "      <td>I have experienced no side effects.</td>\n",
              "      <td>I use the albuterol as needed because of aller...</td>\n",
              "    </tr>\n",
              "    <tr>\n",
              "      <th>1033</th>\n",
              "      <td>accutane</td>\n",
              "      <td>8</td>\n",
              "      <td>Considerably Effective</td>\n",
              "      <td>Moderate Side Effects</td>\n",
              "      <td>serve acne</td>\n",
              "      <td>Serve Acne has turned to middle</td>\n",
              "      <td>Painfull muscles, problems with seeing at night</td>\n",
              "      <td>This drug is highly teratogenic ,females must ...</td>\n",
              "    </tr>\n",
              "    <tr>\n",
              "      <th>1034</th>\n",
              "      <td>divigel</td>\n",
              "      <td>10</td>\n",
              "      <td>Highly Effective</td>\n",
              "      <td>No Side Effects</td>\n",
              "      <td>menopause</td>\n",
              "      <td>My overall mood, sense of well being, energy l...</td>\n",
              "      <td>No side effects of any kind were noted or appa...</td>\n",
              "      <td>Divigel is a topically applied Bio-Identical H...</td>\n",
              "    </tr>\n",
              "    <tr>\n",
              "      <th>1035</th>\n",
              "      <td>claripel-cream</td>\n",
              "      <td>8</td>\n",
              "      <td>Considerably Effective</td>\n",
              "      <td>Mild Side Effects</td>\n",
              "      <td>acne scarring &amp; hyperpigmentation</td>\n",
              "      <td>Up until 2 years ago, it worked really well on...</td>\n",
              "      <td>Have stopped using it and have also learned th...</td>\n",
              "      <td>Stopped using it for the time being.</td>\n",
              "    </tr>\n",
              "  </tbody>\n",
              "</table>\n",
              "<p>4143 rows × 8 columns</p>\n",
              "</div>"
            ],
            "text/plain": [
              "           urlDrugName  ...                                     commentsReview\n",
              "0            enalapril  ...  monitor blood pressure , weight and asses for ...\n",
              "1     ortho-tri-cyclen  ...  I Hate This Birth Control, I Would Not Suggest...\n",
              "2              ponstel  ...  I took 2 pills at the onset of my menstrual cr...\n",
              "3             prilosec  ...  I was given Prilosec prescription at a dose of...\n",
              "4               lyrica  ...                                          See above\n",
              "...                ...  ...                                                ...\n",
              "1031          accutane  ...  Treatment period is 3 months/12 weeks. Dosage ...\n",
              "1032        proair-hfa  ...  I use the albuterol as needed because of aller...\n",
              "1033          accutane  ...  This drug is highly teratogenic ,females must ...\n",
              "1034           divigel  ...  Divigel is a topically applied Bio-Identical H...\n",
              "1035    claripel-cream  ...               Stopped using it for the time being.\n",
              "\n",
              "[4143 rows x 8 columns]"
            ]
          },
          "metadata": {
            "tags": []
          },
          "execution_count": 13
        }
      ]
    },
    {
      "cell_type": "code",
      "metadata": {
        "id": "GdHd5ojjNlDh",
        "colab_type": "code",
        "outputId": "b5cf7529-77d5-46a9-8c85-fa2990175b76",
        "colab": {
          "base_uri": "https://localhost:8080/",
          "height": 1000
        }
      },
      "source": [
        "#Checking unique values of all columns.\n",
        "#1. urlDrugName.\n",
        "print(\"For the column: urlDrugName.\\n\")\n",
        "print(\"Unique Values:\",data['urlDrugName'].unique())\n",
        "print(\"Count of unique values:\",data['urlDrugName'].nunique())"
      ],
      "execution_count": 15,
      "outputs": [
        {
          "output_type": "stream",
          "text": [
            "For the column: urlDrugName.\n",
            "\n",
            "Unique Values: ['enalapril' 'ortho-tri-cyclen' 'ponstel' 'prilosec' 'lyrica' 'propecia'\n",
            " 'vyvanse' 'elavil' 'xanax' 'claritin' 'flagyl' 'dextroamphetamine'\n",
            " 'sarafem' 'latisse' 'aldara' 'effexor-xr' 'neurontin' 'omnicef'\n",
            " 'klonopin' 'dovonex' 'protopic' 'effexor' 'sotret' 'retin-a-micro'\n",
            " 'lamotrigine' 'rebif' 'symbicort' 'lamictal' 'doxycycline' 'actonel'\n",
            " 'provigil' 'ambien' 'wellbutrin' 'nortriptyline' 'imitrex' 'ativan'\n",
            " 'prozac' 'topamax' 'levitra' 'oxycodone' 'oxycontin' 'vicodin' 'accutane'\n",
            " 'zocor' 'minocycline' 'estrace' 'meridia' 'prevacid' 'cosopt' 'renova'\n",
            " 'depakote' 'tekturna' 'zegerid' 'sular' 'crestor' 'metformin' 'celexa'\n",
            " 'lexapro' 'naproxen' 'levoxyl' 'synthroid' 'spironolactone' 'oracea'\n",
            " 'paxil' 'zantac' 'fosamax' 'tirosint' 'cymbalta' 'ambien-cr' 'angeliq'\n",
            " 'prempro' 'wellbutrin-xl' 'biaxin' 'lipitor' 'tazorac' 'alendronate'\n",
            " 'claripel-cream' 'valtrex' 'femring' 'soma' 'tylenol' 'ultram' 'chantix'\n",
            " 'ziana' 'vivelle-dot' 'ultram-er' 'lotrel' 'viagra' 'seasonale'\n",
            " 'wellbutrin-sr' 'allegra' 'nasonex' 'fortaz' 'singulair' 'xyrem' 'zoloft'\n",
            " 'differin' 'zyban' 'anafranil' 'nuvaring' 'motrin' 'serzone' 'naprosyn'\n",
            " 'flomax' 'percocet' 'protonix' 'mirapex' 'dexamethasone' 'toradol'\n",
            " 'caduet' 'diazepam' 'celebrex' 'actiq' 'mobic' 'tegretol' 'zestoretic'\n",
            " 'malarone' 'zofran' 'lunesta' 'spiriva' 'enbrel' 'atarax' 'pilocarpine'\n",
            " 'retin-a' 'phenergan' 'glucophage' 'evista' 'lopressor' 'flexeril'\n",
            " 'seroquel-xr' 'abilify' 'augmentin' 'finacea' 'alprazolam' 'saizen'\n",
            " 'clonazepam' 'vivelle' 'keflex' 'tequin' 'zomig' 'vagifem' 'citalopram'\n",
            " 'benzaclin' 'aloprim' 'metrogel' 'zyprexa' 'methotrexate' 'lamisil'\n",
            " 'ultracet' 'lorazepam' 'relafen' 'valium' 'yasmin' 'tri-luma' 'provera'\n",
            " 'adipex-p' 'seroquel' 'xenical' 'baclofen' 'clindamycin-topical'\n",
            " 'depo-provera' 'metronidazole' 'dispermox' 'solodyn' 'suboxone' 'zmax'\n",
            " 'prinivil' 'paxil-cr' 'darvocet-n' 'ranitidine' 'amoxil' 'septra'\n",
            " 'tamiflu' 'risperdal' 'soltamox' 'levaquin' 'xyzal' 'cleocin' 'voltaren'\n",
            " 'tetracycline' 'zovirax' 'cipro' 'relpax' 'follistim' 'lortab' 'climara'\n",
            " 'requip' 'restasis' 'seasonique' 'remeron' 'macrobid' 'buprenorphine'\n",
            " 'fiorinal' 'trazodone' 'xalatan' 'cytomel' 'oxazepam' 'atenolol'\n",
            " 'premarin' 'norpramin' 'topicort' 'lumigan' 'fluconazole' 'zithromax'\n",
            " 'grifulvin-v' 'proscar' 'triphasil' 'maxalt' 'antivert' 'flonase'\n",
            " 'hyzaar' 'fexofenadine' 'ritalin-la' 'tambocor' 'clomid' 'prednisone'\n",
            " 'ventolin-hfa' 'armour-thyroid' 'sumatriptan' 'pentasa' 'clarithromycin'\n",
            " 'zyrtec' 'elidel' 'danazol' 'ditropan' 'tramadol' 'permapen'\n",
            " 'trimethobenzamide' 'nystatin' 'remicade' 'phendimetrazine' 'azopt'\n",
            " 'desyrel' 'niaspan' 'azelex' 'selegiline' 'norvasc' 'avita' 'sulindac'\n",
            " 'adderall' 'aricept' 'mirtazapine' 'dysport' 'cialis' 'tarka' 'lo-ovral'\n",
            " 'hydrochlorothiazide' 'avelox' 'concerta' 'ortho-evra' 'rhinocort'\n",
            " 'oxybutynin' 'fioricet' 'strattera' 'botox' 'albuterol' 'trimethoprim'\n",
            " 'keppra' 'baraclude' 'amitiza' 'eulexin' 'klaron' 'accupril' 'plavix'\n",
            " 'galzin' 'ritalin' 'lithium-carbonate' 'metoclopramide' 'avapro'\n",
            " 'ketorolac' 'innofem' 'axert' 'avage' 'betamethasone' 'aczone'\n",
            " 'compazine' 'nexium' 'advair-diskus' 'advair-hfa' 'reglan' 'micardis'\n",
            " 'clobetasol' 'hydrocortisone' 'clindamycin' 'geodon' 'catapres'\n",
            " 'premarin-vaginal' 'niacor' 'fosamax-plus-d' 'noroxin' 'hytrin' 'asacol'\n",
            " 'imodium' 'dilaudid' 'tobramycin' 'ecotrin' 'avodart' 'coumadin'\n",
            " 'ortho-tri-cyclen-lo' 'diclofenac' 'elocon' 'aromasin' 'acyclovir'\n",
            " 'estrasorb' 'zyrtec-d' 'tussionex' 'qvar' 'humira' 'proquin-xr'\n",
            " 'nolvadex' 'levora' 'plendil' 'halcion' 'sonata' 'aldactone' 'miralax'\n",
            " 'clarinex' 'minoxidil' 'evoclin' 'sulfasalazine' 'byetta'\n",
            " 'panixine-disperdose' 'vytorin' 'pristiq' 'doryx' 'buspar' 'mevacor'\n",
            " 'dextrostat' 'triaz' 'estratest' 'vaniqa' 'erythromycin' 'frova'\n",
            " 'tenormin' 'allegra-d' 'naltrexone' 'symbyax' 'ketoconazole' 'arava'\n",
            " 'actos' 'nuvigil' 'ampicillin' 'pravachol' 'isoniazid' 'mirena'\n",
            " 'xanax-xr' 'omnitrope' 'prometrium' 'cataflam' 'nitrofurantoin'\n",
            " 'copaxone' 'restoril' 'nasacort' 'aygestin' 'diovan' 'duac' 'efudex'\n",
            " 'prednisolone' 'cefzil' 'flovent' 'vasotec' 'warfarin' 'morphine'\n",
            " 'rifadin' 'lybrel' 'cozaar' 'oxycodone-and-acetaminophen' 'asmanex'\n",
            " 'inspra' 'carac' 'imuran' 'diflucan' 'vigamox' 'diltiazem' 'prograf'\n",
            " 'periostat' 'exelon' 'benicar' 'divigel' 'dostinex' 'aciphex'\n",
            " 'delestrogen' 'inderal' 'clobex' 'fluvoxamine' 'skelaxin' 'dexedrine'\n",
            " 'adderall-xr' 'polymyxin-b' 'benicar-hct' 'proloprim' 'accolate'\n",
            " 'cardura' 'progesterone' 'coreg' 'dapsone' 'cyproheptadine' 'methadone'\n",
            " 'lidex' 'penlac' 'hydrocodone-and-acetaminophen' 'propranolol'\n",
            " 'erythra-derm' 'bisoprolol' 'hyoscyamine' 'emsam' 'femhrt' 'benadryl'\n",
            " 'proair-hfa' 'kenalog' 'ribavirin' 'toprol-xl' 'locoid-lipocream'\n",
            " 'metoprolol' 'lotronex' 'fosinopril' 'elmiron' 'lasix' 'zovirax-topical'\n",
            " 'trental' 'triamcinolone' 'bactrim-ds' 'mercaptopurine' 'omacor'\n",
            " 'arimidex' 'ortho-novum' 'depakene' 'ceclor' 'azasan' 'quibron-t'\n",
            " 'corgard' 'femara' 'meperidine' 'betaseron' 'climara-pro' 'gonal-f-rff'\n",
            " 'atacand' 'arthrotec' 'levetiracetam' 'dilantin' 'periogard' 'androgel'\n",
            " 'levothroid' 'zyvox' 'prochlorperazine' 'lac-hydrin' 'vioxx'\n",
            " 'penicillin-v' 'lidocaine' 'haldol' 'temovate' 'detrol-la' 'metrolotion'\n",
            " 'aralen' 'boniva' 'neoprofen' 'bystolic' 'sanctura-xr' 'lupron'\n",
            " 'amphetamine' 'lodine' 'parlodel' 'minocin' 'bactroban' 'detrol'\n",
            " 'nizoral' 'nardil' 'atripla' 'azor' 'tapazole' 'estrostep-fe' 'pamelor'\n",
            " 'nizoral-shampoo' 'fentanyl' 'lantus' 'metformin-extended-release'\n",
            " 'pepcid' 'ziac' 'vicoprofen' 'deltasone' 'alesse' 'amerge' 'estring'\n",
            " 'duragesic' 'tofranil-pm' 'vesicare' 'nasarel' 'doxepin'\n",
            " 'medroxyprogesterone' 'trilipix' 'cardura-xl' 'baciim' 'enablex'\n",
            " 'dicyclomine' 'methimazole' 'vistaril' 'adcirca' 'desonide' 'nasacort-aq'\n",
            " 'glucophage-xr' 'risperdal-consta' 'trileptal' 'carbamazepine' 'lovenox'\n",
            " 'kapidex' 'sustiva' 'taxotere' 'bentyl' 'indocin' 'pataday' 'zetia'\n",
            " 'noritate' 'famvir' 'furosemide-injection' 'zebeta' 'reclipsen'\n",
            " 'azulfidine' 'optivar' 'genotropin' 'combipatch' 'dyazide' 'acanya'\n",
            " 'tylenol-with-codeine' 'tekturna-hct' 'dyrenium' 'taclonex' 'triazolam'\n",
            " 'glyquin-xm' 'desmopressin' 'focalin-xr' 'propylthiouracil' 'olux'\n",
            " 'patanol' 'methylphenidate' 'nordette' 'capoten' 'piroxicam' 'biaxin-xl'\n",
            " 'flecainide' 'etodolac' 'prevalite']\n",
            "Count of unique values: 541\n"
          ],
          "name": "stdout"
        }
      ]
    },
    {
      "cell_type": "code",
      "metadata": {
        "id": "r8RBKGzpOZW5",
        "colab_type": "code",
        "outputId": "3d4f889a-5df6-496e-ae28-4da55170c831",
        "colab": {
          "base_uri": "https://localhost:8080/",
          "height": 84
        }
      },
      "source": [
        "#2. rating.\n",
        "print(\"For the column: rating.\\n\")\n",
        "print(\"Unique Values:\",data['rating'].unique())\n",
        "print(\"Count of unique values:\",data['rating'].nunique())"
      ],
      "execution_count": 16,
      "outputs": [
        {
          "output_type": "stream",
          "text": [
            "For the column: rating.\n",
            "\n",
            "Unique Values: [ 4  1 10  3  2  9  7  8  6  5]\n",
            "Count of unique values: 10\n"
          ],
          "name": "stdout"
        }
      ]
    },
    {
      "cell_type": "code",
      "metadata": {
        "id": "rGj6TlWqOg8S",
        "colab_type": "code",
        "outputId": "e5c5deef-8c50-4b45-be54-6559b544428a",
        "colab": {
          "base_uri": "https://localhost:8080/",
          "height": 101
        }
      },
      "source": [
        "#3. effectiveness.\n",
        "print(\"For the column: effectiveness.\\n\")\n",
        "print(\"Unique Values:\",data['effectiveness'].unique())\n",
        "print(\"Count of unique values:\",data['effectiveness'].nunique())"
      ],
      "execution_count": 17,
      "outputs": [
        {
          "output_type": "stream",
          "text": [
            "For the column: effectiveness.\n",
            "\n",
            "Unique Values: ['Highly Effective' 'Marginally Effective' 'Ineffective'\n",
            " 'Considerably Effective' 'Moderately Effective']\n",
            "Count of unique values: 5\n"
          ],
          "name": "stdout"
        }
      ]
    },
    {
      "cell_type": "code",
      "metadata": {
        "id": "9all_AyiOm-I",
        "colab_type": "code",
        "outputId": "be6fe95c-efd5-4622-a9c6-927255f659d9",
        "colab": {
          "base_uri": "https://localhost:8080/",
          "height": 101
        }
      },
      "source": [
        "#4. sideEffects.\n",
        "print(\"For the column: sideEffects.\\n\")\n",
        "print(\"Unique Values:\",data['sideEffects'].unique())\n",
        "print(\"Count of unique values:\",data['sideEffects'].nunique())"
      ],
      "execution_count": 18,
      "outputs": [
        {
          "output_type": "stream",
          "text": [
            "For the column: sideEffects.\n",
            "\n",
            "Unique Values: ['Mild Side Effects' 'Severe Side Effects' 'No Side Effects'\n",
            " 'Extremely Severe Side Effects' 'Moderate Side Effects']\n",
            "Count of unique values: 5\n"
          ],
          "name": "stdout"
        }
      ]
    },
    {
      "cell_type": "code",
      "metadata": {
        "id": "ExuWYa0YPe6Z",
        "colab_type": "code",
        "outputId": "7d64472a-bdc2-478e-8c77-4898816d1cd0",
        "colab": {
          "base_uri": "https://localhost:8080/",
          "height": 70
        }
      },
      "source": [
        "import numpy as np\n",
        "import matplotlib.pyplot as plt\n",
        "import seaborn as sns"
      ],
      "execution_count": 19,
      "outputs": [
        {
          "output_type": "stream",
          "text": [
            "/usr/local/lib/python3.6/dist-packages/statsmodels/tools/_testing.py:19: FutureWarning: pandas.util.testing is deprecated. Use the functions in the public API at pandas.testing instead.\n",
            "  import pandas.util.testing as tm\n"
          ],
          "name": "stderr"
        }
      ]
    },
    {
      "cell_type": "code",
      "metadata": {
        "id": "304wFgN-VTun",
        "colab_type": "code",
        "outputId": "a0d3e497-92c6-4d53-ba55-b5acb0ea83ab",
        "colab": {
          "base_uri": "https://localhost:8080/",
          "height": 118
        }
      },
      "source": [
        "#5. condition.\n",
        "print(\"For the column: condition.\\n\")\n",
        "print(\"Unique Values:\",data['condition'].unique())\n",
        "print(\"Count of unique values:\",data['condition'].nunique())"
      ],
      "execution_count": 20,
      "outputs": [
        {
          "output_type": "stream",
          "text": [
            "For the column: condition.\n",
            "\n",
            "Unique Values: ['management of congestive heart failure' 'birth prevention'\n",
            " 'menstrual cramps' ... 'sinus congestion' 'serve acne'\n",
            " 'acne scarring & hyperpigmentation']\n",
            "Count of unique values: 1807\n"
          ],
          "name": "stdout"
        }
      ]
    },
    {
      "cell_type": "code",
      "metadata": {
        "id": "fjs08uStX3Iq",
        "colab_type": "code",
        "outputId": "17a525ab-c5f6-4fd1-b46e-c8aedfddc2cd",
        "colab": {
          "base_uri": "https://localhost:8080/",
          "height": 188
        }
      },
      "source": [
        "#6. benefitsReview.\n",
        "print(\"For the column: benefitsReview.\\n\")\n",
        "print(\"Unique Values:\",data['benefitsReview'].unique())\n",
        "print(\"Count of unique values:\",data['benefitsReview'].nunique())"
      ],
      "execution_count": 21,
      "outputs": [
        {
          "output_type": "stream",
          "text": [
            "For the column: benefitsReview.\n",
            "\n",
            "Unique Values: ['slowed the progression of left ventricular dysfunction into overt heart failure \\r\\r\\nalone or with other agents in the managment of hypertension \\r\\r\\nmangagement of congestive heart failur'\n",
            " \"Although this type of birth control has more cons than pros, it did help with my cramps. It's also effective with the prevention of pregnancy. (Along with use of condoms as well)\"\n",
            " \"I was used to having cramps so badly that they would leave me balled up in bed for at least 2 days.  The Ponstel doesn't take the pain away completely, but takes the edge off so much that normal activities were possible. Definitely a miracle medication!!\"\n",
            " ... 'Serve Acne has turned to middle'\n",
            " 'My overall mood, sense of well being, energy level was increased with better sleep pattern restored. I also noted improvement in my facial firmness and skin tone.'\n",
            " \"Up until 2 years ago, it worked really well on any scarring I had but in the past 2 years it's been irritating when I apply and it doesn't seem to work on the hyperpigmentation I now have.\"]\n",
            "Count of unique values: 4028\n"
          ],
          "name": "stdout"
        }
      ]
    },
    {
      "cell_type": "code",
      "metadata": {
        "id": "AfiOcHO5bZvN",
        "colab_type": "code",
        "outputId": "5c4034fb-6528-40f5-9138-8b2806020b93",
        "colab": {
          "base_uri": "https://localhost:8080/",
          "height": 188
        }
      },
      "source": [
        "#7. sideEffectsReview.\n",
        "print(\"For the column: sideEffectsReview.\\n\")\n",
        "print(\"Unique Values:\",data['sideEffectsReview'].unique())\n",
        "print(\"Count of unique values:\",data['sideEffectsReview'].nunique())"
      ],
      "execution_count": 22,
      "outputs": [
        {
          "output_type": "stream",
          "text": [
            "For the column: sideEffectsReview.\n",
            "\n",
            "Unique Values: ['cough, hypotension , proteinuria, impotence , renal failure , angina pectoris , tachycardia , eosinophilic pneumonitis, tastes disturbances , anusease anorecia , weakness fatigue insominca weakness'\n",
            " \"Heavy Cycle, Cramps, Hot Flashes, Fatigue, Long Lasting Cycles. It's only been 5 1/2 months, but i'm concidering changing to a different bc. This is my first time using any kind of bc, unfortunately due to the constant hassel, i'm not happy with the results.\"\n",
            " 'Heavier bleeding and clotting than normal.' ...\n",
            " 'Painfull muscles, problems with seeing at night'\n",
            " 'No side effects of any kind were noted or apparent from the use of this product. I have used bioidentical estrogen hormone Divigel for 2 years plus and plan to continue.'\n",
            " 'Have stopped using it and have also learned that it should only be used 3 months at a time.']\n",
            "Count of unique values: 3746\n"
          ],
          "name": "stdout"
        }
      ]
    },
    {
      "cell_type": "code",
      "metadata": {
        "id": "InXuQzTybi3t",
        "colab_type": "code",
        "outputId": "7a911c7d-b2cc-4d35-8d43-238cdac794f2",
        "colab": {
          "base_uri": "https://localhost:8080/",
          "height": 205
        }
      },
      "source": [
        "#8. commentsReview.\n",
        "print(\"For the column: commentsReview.\\n\")\n",
        "print(\"Unique Values:\",data['commentsReview'].unique())\n",
        "print(\"Count of unique values:\",data['commentsReview'].nunique())"
      ],
      "execution_count": 23,
      "outputs": [
        {
          "output_type": "stream",
          "text": [
            "For the column: commentsReview.\n",
            "\n",
            "Unique Values: ['monitor blood pressure , weight and asses for resolution of fluid'\n",
            " 'I Hate This Birth Control, I Would Not Suggest This To Anyone.'\n",
            " 'I took 2 pills at the onset of my menstrual cramps and then every 8-12 hours took 1 pill as needed for about 3-4 days until cramps were over. If cramps are bad, make sure to take every 8 hours on the dot because the medication stops working suddenly and unfortunately takes about an hour to an hour and a half to kick back in.. if cramps are only moderate, taking every 12 hours is okay.'\n",
            " ...\n",
            " \"This drug is highly teratogenic ,females must take contraceptive tablets,so I did.\\r\\r\\nI didn't experience any  serve side effects.It helped but the cost of therapy is horrible I resigned when I was told some of patient commited suicide maybe becouse of that drug.\"\n",
            " 'Divigel is a topically applied Bio-Identical Hormone ( Estrogen) which I Highly Recommended. The product is applied topically at night to top of (leg) thigh. My benefits were improved mood, clarity of thought, increased energy, better sustained sleep, and mproved skin firmness and tone - even facial skin.'\n",
            " 'Stopped using it for the time being.']\n",
            "Count of unique values: 4056\n"
          ],
          "name": "stdout"
        }
      ]
    },
    {
      "cell_type": "code",
      "metadata": {
        "id": "CzuwmhZwPTRA",
        "colab_type": "code",
        "colab": {}
      },
      "source": [
        "import numpy as np\n",
        "import matplotlib.pyplot as plt\n",
        "import seaborn as sns"
      ],
      "execution_count": 0,
      "outputs": []
    },
    {
      "cell_type": "code",
      "metadata": {
        "id": "CDNW5Md6fH0L",
        "colab_type": "code",
        "colab": {}
      },
      "source": [
        "#Re-arranging columns to set Rating as the first column.\n",
        "data = data[['rating', 'urlDrugName', 'effectiveness', 'sideEffects', 'condition', 'benefitsReview', 'sideEffectsReview', 'commentsReview']]"
      ],
      "execution_count": 0,
      "outputs": []
    },
    {
      "cell_type": "code",
      "metadata": {
        "id": "1oO5E7CVfjbr",
        "colab_type": "code",
        "colab": {
          "base_uri": "https://localhost:8080/",
          "height": 279
        },
        "outputId": "f8db568c-968d-4aac-a651-8ed5cc9072ed"
      },
      "source": [
        "data.head()"
      ],
      "execution_count": 26,
      "outputs": [
        {
          "output_type": "execute_result",
          "data": {
            "text/html": [
              "<div>\n",
              "<style scoped>\n",
              "    .dataframe tbody tr th:only-of-type {\n",
              "        vertical-align: middle;\n",
              "    }\n",
              "\n",
              "    .dataframe tbody tr th {\n",
              "        vertical-align: top;\n",
              "    }\n",
              "\n",
              "    .dataframe thead th {\n",
              "        text-align: right;\n",
              "    }\n",
              "</style>\n",
              "<table border=\"1\" class=\"dataframe\">\n",
              "  <thead>\n",
              "    <tr style=\"text-align: right;\">\n",
              "      <th></th>\n",
              "      <th>rating</th>\n",
              "      <th>urlDrugName</th>\n",
              "      <th>effectiveness</th>\n",
              "      <th>sideEffects</th>\n",
              "      <th>condition</th>\n",
              "      <th>benefitsReview</th>\n",
              "      <th>sideEffectsReview</th>\n",
              "      <th>commentsReview</th>\n",
              "    </tr>\n",
              "  </thead>\n",
              "  <tbody>\n",
              "    <tr>\n",
              "      <th>0</th>\n",
              "      <td>4</td>\n",
              "      <td>enalapril</td>\n",
              "      <td>Highly Effective</td>\n",
              "      <td>Mild Side Effects</td>\n",
              "      <td>management of congestive heart failure</td>\n",
              "      <td>slowed the progression of left ventricular dys...</td>\n",
              "      <td>cough, hypotension , proteinuria, impotence , ...</td>\n",
              "      <td>monitor blood pressure , weight and asses for ...</td>\n",
              "    </tr>\n",
              "    <tr>\n",
              "      <th>1</th>\n",
              "      <td>1</td>\n",
              "      <td>ortho-tri-cyclen</td>\n",
              "      <td>Highly Effective</td>\n",
              "      <td>Severe Side Effects</td>\n",
              "      <td>birth prevention</td>\n",
              "      <td>Although this type of birth control has more c...</td>\n",
              "      <td>Heavy Cycle, Cramps, Hot Flashes, Fatigue, Lon...</td>\n",
              "      <td>I Hate This Birth Control, I Would Not Suggest...</td>\n",
              "    </tr>\n",
              "    <tr>\n",
              "      <th>2</th>\n",
              "      <td>10</td>\n",
              "      <td>ponstel</td>\n",
              "      <td>Highly Effective</td>\n",
              "      <td>No Side Effects</td>\n",
              "      <td>menstrual cramps</td>\n",
              "      <td>I was used to having cramps so badly that they...</td>\n",
              "      <td>Heavier bleeding and clotting than normal.</td>\n",
              "      <td>I took 2 pills at the onset of my menstrual cr...</td>\n",
              "    </tr>\n",
              "    <tr>\n",
              "      <th>3</th>\n",
              "      <td>3</td>\n",
              "      <td>prilosec</td>\n",
              "      <td>Marginally Effective</td>\n",
              "      <td>Mild Side Effects</td>\n",
              "      <td>acid reflux</td>\n",
              "      <td>The acid reflux went away for a few months aft...</td>\n",
              "      <td>Constipation, dry mouth and some mild dizzines...</td>\n",
              "      <td>I was given Prilosec prescription at a dose of...</td>\n",
              "    </tr>\n",
              "    <tr>\n",
              "      <th>4</th>\n",
              "      <td>2</td>\n",
              "      <td>lyrica</td>\n",
              "      <td>Marginally Effective</td>\n",
              "      <td>Severe Side Effects</td>\n",
              "      <td>fibromyalgia</td>\n",
              "      <td>I think that the Lyrica was starting to help w...</td>\n",
              "      <td>I felt extremely drugged and dopey.  Could not...</td>\n",
              "      <td>See above</td>\n",
              "    </tr>\n",
              "  </tbody>\n",
              "</table>\n",
              "</div>"
            ],
            "text/plain": [
              "   rating  ...                                     commentsReview\n",
              "0       4  ...  monitor blood pressure , weight and asses for ...\n",
              "1       1  ...  I Hate This Birth Control, I Would Not Suggest...\n",
              "2      10  ...  I took 2 pills at the onset of my menstrual cr...\n",
              "3       3  ...  I was given Prilosec prescription at a dose of...\n",
              "4       2  ...                                          See above\n",
              "\n",
              "[5 rows x 8 columns]"
            ]
          },
          "metadata": {
            "tags": []
          },
          "execution_count": 26
        }
      ]
    },
    {
      "cell_type": "code",
      "metadata": {
        "id": "nMBYuq0tgLH1",
        "colab_type": "code",
        "colab": {}
      },
      "source": [
        "#dropping rows with null values.\n",
        "data = data.dropna()"
      ],
      "execution_count": 0,
      "outputs": []
    },
    {
      "cell_type": "code",
      "metadata": {
        "id": "znyTrYnPgP4-",
        "colab_type": "code",
        "colab": {
          "base_uri": "https://localhost:8080/",
          "height": 570
        },
        "outputId": "93b551b4-e914-47f7-eb3c-db22bacc3d1d"
      },
      "source": [
        "data"
      ],
      "execution_count": 30,
      "outputs": [
        {
          "output_type": "execute_result",
          "data": {
            "text/html": [
              "<div>\n",
              "<style scoped>\n",
              "    .dataframe tbody tr th:only-of-type {\n",
              "        vertical-align: middle;\n",
              "    }\n",
              "\n",
              "    .dataframe tbody tr th {\n",
              "        vertical-align: top;\n",
              "    }\n",
              "\n",
              "    .dataframe thead th {\n",
              "        text-align: right;\n",
              "    }\n",
              "</style>\n",
              "<table border=\"1\" class=\"dataframe\">\n",
              "  <thead>\n",
              "    <tr style=\"text-align: right;\">\n",
              "      <th></th>\n",
              "      <th>rating</th>\n",
              "      <th>urlDrugName</th>\n",
              "      <th>effectiveness</th>\n",
              "      <th>sideEffects</th>\n",
              "      <th>condition</th>\n",
              "      <th>benefitsReview</th>\n",
              "      <th>sideEffectsReview</th>\n",
              "      <th>commentsReview</th>\n",
              "    </tr>\n",
              "  </thead>\n",
              "  <tbody>\n",
              "    <tr>\n",
              "      <th>0</th>\n",
              "      <td>4</td>\n",
              "      <td>enalapril</td>\n",
              "      <td>Highly Effective</td>\n",
              "      <td>Mild Side Effects</td>\n",
              "      <td>management of congestive heart failure</td>\n",
              "      <td>slowed the progression of left ventricular dys...</td>\n",
              "      <td>cough, hypotension , proteinuria, impotence , ...</td>\n",
              "      <td>monitor blood pressure , weight and asses for ...</td>\n",
              "    </tr>\n",
              "    <tr>\n",
              "      <th>1</th>\n",
              "      <td>1</td>\n",
              "      <td>ortho-tri-cyclen</td>\n",
              "      <td>Highly Effective</td>\n",
              "      <td>Severe Side Effects</td>\n",
              "      <td>birth prevention</td>\n",
              "      <td>Although this type of birth control has more c...</td>\n",
              "      <td>Heavy Cycle, Cramps, Hot Flashes, Fatigue, Lon...</td>\n",
              "      <td>I Hate This Birth Control, I Would Not Suggest...</td>\n",
              "    </tr>\n",
              "    <tr>\n",
              "      <th>2</th>\n",
              "      <td>10</td>\n",
              "      <td>ponstel</td>\n",
              "      <td>Highly Effective</td>\n",
              "      <td>No Side Effects</td>\n",
              "      <td>menstrual cramps</td>\n",
              "      <td>I was used to having cramps so badly that they...</td>\n",
              "      <td>Heavier bleeding and clotting than normal.</td>\n",
              "      <td>I took 2 pills at the onset of my menstrual cr...</td>\n",
              "    </tr>\n",
              "    <tr>\n",
              "      <th>3</th>\n",
              "      <td>3</td>\n",
              "      <td>prilosec</td>\n",
              "      <td>Marginally Effective</td>\n",
              "      <td>Mild Side Effects</td>\n",
              "      <td>acid reflux</td>\n",
              "      <td>The acid reflux went away for a few months aft...</td>\n",
              "      <td>Constipation, dry mouth and some mild dizzines...</td>\n",
              "      <td>I was given Prilosec prescription at a dose of...</td>\n",
              "    </tr>\n",
              "    <tr>\n",
              "      <th>4</th>\n",
              "      <td>2</td>\n",
              "      <td>lyrica</td>\n",
              "      <td>Marginally Effective</td>\n",
              "      <td>Severe Side Effects</td>\n",
              "      <td>fibromyalgia</td>\n",
              "      <td>I think that the Lyrica was starting to help w...</td>\n",
              "      <td>I felt extremely drugged and dopey.  Could not...</td>\n",
              "      <td>See above</td>\n",
              "    </tr>\n",
              "    <tr>\n",
              "      <th>...</th>\n",
              "      <td>...</td>\n",
              "      <td>...</td>\n",
              "      <td>...</td>\n",
              "      <td>...</td>\n",
              "      <td>...</td>\n",
              "      <td>...</td>\n",
              "      <td>...</td>\n",
              "      <td>...</td>\n",
              "    </tr>\n",
              "    <tr>\n",
              "      <th>1031</th>\n",
              "      <td>7</td>\n",
              "      <td>accutane</td>\n",
              "      <td>Considerably Effective</td>\n",
              "      <td>Severe Side Effects</td>\n",
              "      <td>acne vulgaris</td>\n",
              "      <td>Detoxing effect by pushing out the system thro...</td>\n",
              "      <td>Hairloss, extreme dry skin, itchiness, raises ...</td>\n",
              "      <td>Treatment period is 3 months/12 weeks. Dosage ...</td>\n",
              "    </tr>\n",
              "    <tr>\n",
              "      <th>1032</th>\n",
              "      <td>10</td>\n",
              "      <td>proair-hfa</td>\n",
              "      <td>Highly Effective</td>\n",
              "      <td>No Side Effects</td>\n",
              "      <td>asthma</td>\n",
              "      <td>The albuterol relieved the constriction, irrit...</td>\n",
              "      <td>I have experienced no side effects.</td>\n",
              "      <td>I use the albuterol as needed because of aller...</td>\n",
              "    </tr>\n",
              "    <tr>\n",
              "      <th>1033</th>\n",
              "      <td>8</td>\n",
              "      <td>accutane</td>\n",
              "      <td>Considerably Effective</td>\n",
              "      <td>Moderate Side Effects</td>\n",
              "      <td>serve acne</td>\n",
              "      <td>Serve Acne has turned to middle</td>\n",
              "      <td>Painfull muscles, problems with seeing at night</td>\n",
              "      <td>This drug is highly teratogenic ,females must ...</td>\n",
              "    </tr>\n",
              "    <tr>\n",
              "      <th>1034</th>\n",
              "      <td>10</td>\n",
              "      <td>divigel</td>\n",
              "      <td>Highly Effective</td>\n",
              "      <td>No Side Effects</td>\n",
              "      <td>menopause</td>\n",
              "      <td>My overall mood, sense of well being, energy l...</td>\n",
              "      <td>No side effects of any kind were noted or appa...</td>\n",
              "      <td>Divigel is a topically applied Bio-Identical H...</td>\n",
              "    </tr>\n",
              "    <tr>\n",
              "      <th>1035</th>\n",
              "      <td>8</td>\n",
              "      <td>claripel-cream</td>\n",
              "      <td>Considerably Effective</td>\n",
              "      <td>Mild Side Effects</td>\n",
              "      <td>acne scarring &amp; hyperpigmentation</td>\n",
              "      <td>Up until 2 years ago, it worked really well on...</td>\n",
              "      <td>Have stopped using it and have also learned th...</td>\n",
              "      <td>Stopped using it for the time being.</td>\n",
              "    </tr>\n",
              "  </tbody>\n",
              "</table>\n",
              "<p>4132 rows × 8 columns</p>\n",
              "</div>"
            ],
            "text/plain": [
              "      rating  ...                                     commentsReview\n",
              "0          4  ...  monitor blood pressure , weight and asses for ...\n",
              "1          1  ...  I Hate This Birth Control, I Would Not Suggest...\n",
              "2         10  ...  I took 2 pills at the onset of my menstrual cr...\n",
              "3          3  ...  I was given Prilosec prescription at a dose of...\n",
              "4          2  ...                                          See above\n",
              "...      ...  ...                                                ...\n",
              "1031       7  ...  Treatment period is 3 months/12 weeks. Dosage ...\n",
              "1032      10  ...  I use the albuterol as needed because of aller...\n",
              "1033       8  ...  This drug is highly teratogenic ,females must ...\n",
              "1034      10  ...  Divigel is a topically applied Bio-Identical H...\n",
              "1035       8  ...               Stopped using it for the time being.\n",
              "\n",
              "[4132 rows x 8 columns]"
            ]
          },
          "metadata": {
            "tags": []
          },
          "execution_count": 30
        }
      ]
    },
    {
      "cell_type": "code",
      "metadata": {
        "id": "BwUxd_bjgXDZ",
        "colab_type": "code",
        "colab": {
          "base_uri": "https://localhost:8080/",
          "height": 570
        },
        "outputId": "37b5766a-aba0-4e00-dae5-fb2a2573ad7e"
      },
      "source": [
        "#Sorting the data in ascending order based on rating column.\n",
        "data.sort_values(by=['rating'])"
      ],
      "execution_count": 31,
      "outputs": [
        {
          "output_type": "execute_result",
          "data": {
            "text/html": [
              "<div>\n",
              "<style scoped>\n",
              "    .dataframe tbody tr th:only-of-type {\n",
              "        vertical-align: middle;\n",
              "    }\n",
              "\n",
              "    .dataframe tbody tr th {\n",
              "        vertical-align: top;\n",
              "    }\n",
              "\n",
              "    .dataframe thead th {\n",
              "        text-align: right;\n",
              "    }\n",
              "</style>\n",
              "<table border=\"1\" class=\"dataframe\">\n",
              "  <thead>\n",
              "    <tr style=\"text-align: right;\">\n",
              "      <th></th>\n",
              "      <th>rating</th>\n",
              "      <th>urlDrugName</th>\n",
              "      <th>effectiveness</th>\n",
              "      <th>sideEffects</th>\n",
              "      <th>condition</th>\n",
              "      <th>benefitsReview</th>\n",
              "      <th>sideEffectsReview</th>\n",
              "      <th>commentsReview</th>\n",
              "    </tr>\n",
              "  </thead>\n",
              "  <tbody>\n",
              "    <tr>\n",
              "      <th>751</th>\n",
              "      <td>1</td>\n",
              "      <td>dispermox</td>\n",
              "      <td>Ineffective</td>\n",
              "      <td>Severe Side Effects</td>\n",
              "      <td>abcessed tooth</td>\n",
              "      <td>Amoxicillin did little, if any, good for the i...</td>\n",
              "      <td>I had a severe allergic reaction in the form o...</td>\n",
              "      <td>After I had the reaction to amoxicillin, I dis...</td>\n",
              "    </tr>\n",
              "    <tr>\n",
              "      <th>2351</th>\n",
              "      <td>1</td>\n",
              "      <td>lexapro</td>\n",
              "      <td>Marginally Effective</td>\n",
              "      <td>Severe Side Effects</td>\n",
              "      <td>anxiety</td>\n",
              "      <td>Initially, Lexapro helped alleviate some of th...</td>\n",
              "      <td>Although some stress was alleviated, I noticed...</td>\n",
              "      <td>I took approximately 5mg a day. I visited my d...</td>\n",
              "    </tr>\n",
              "    <tr>\n",
              "      <th>2564</th>\n",
              "      <td>1</td>\n",
              "      <td>zocor</td>\n",
              "      <td>Ineffective</td>\n",
              "      <td>Extremely Severe Side Effects</td>\n",
              "      <td>high colesterol</td>\n",
              "      <td>the treatment was to help lower my colesterol ...</td>\n",
              "      <td>muscle pain, loss of mobility, depresion, head...</td>\n",
              "      <td>1 to be taken daily, i only took this medicati...</td>\n",
              "    </tr>\n",
              "    <tr>\n",
              "      <th>412</th>\n",
              "      <td>1</td>\n",
              "      <td>ventolin-hfa</td>\n",
              "      <td>Ineffective</td>\n",
              "      <td>Mild Side Effects</td>\n",
              "      <td>asthma</td>\n",
              "      <td>None</td>\n",
              "      <td>Increased difficulty breathing, strange taste.</td>\n",
              "      <td>I have a prescription for albuterol for sports...</td>\n",
              "    </tr>\n",
              "    <tr>\n",
              "      <th>972</th>\n",
              "      <td>1</td>\n",
              "      <td>neurontin</td>\n",
              "      <td>Ineffective</td>\n",
              "      <td>Severe Side Effects</td>\n",
              "      <td>genitofemoral nerve damage</td>\n",
              "      <td>No treatment benefits. the edema was so severe...</td>\n",
              "      <td>whole body swelling (even my eyelids), palpita...</td>\n",
              "      <td>After a rectocele prolapse operation in June 2...</td>\n",
              "    </tr>\n",
              "    <tr>\n",
              "      <th>...</th>\n",
              "      <td>...</td>\n",
              "      <td>...</td>\n",
              "      <td>...</td>\n",
              "      <td>...</td>\n",
              "      <td>...</td>\n",
              "      <td>...</td>\n",
              "      <td>...</td>\n",
              "      <td>...</td>\n",
              "    </tr>\n",
              "    <tr>\n",
              "      <th>1123</th>\n",
              "      <td>10</td>\n",
              "      <td>paxil</td>\n",
              "      <td>Highly Effective</td>\n",
              "      <td>Mild Side Effects</td>\n",
              "      <td>depression and anxiety</td>\n",
              "      <td>Paxil quickly improved my depression and also ...</td>\n",
              "      <td>During the second week I experienced stomach p...</td>\n",
              "      <td>I went to the doctor due to problems associate...</td>\n",
              "    </tr>\n",
              "    <tr>\n",
              "      <th>2370</th>\n",
              "      <td>10</td>\n",
              "      <td>sanctura-xr</td>\n",
              "      <td>Considerably Effective</td>\n",
              "      <td>Mild Side Effects</td>\n",
              "      <td>overactive bladder</td>\n",
              "      <td>With OAB there was the urge to urinate frequen...</td>\n",
              "      <td>Dry mouth if I fast from food.  If I eat norma...</td>\n",
              "      <td>Take one capsule in the morning before eating ...</td>\n",
              "    </tr>\n",
              "    <tr>\n",
              "      <th>1133</th>\n",
              "      <td>10</td>\n",
              "      <td>trazodone</td>\n",
              "      <td>Highly Effective</td>\n",
              "      <td>No Side Effects</td>\n",
              "      <td>insomnia</td>\n",
              "      <td>Trazodone allows me to fall asleep within ten ...</td>\n",
              "      <td>I have noticed no side effects. I have never n...</td>\n",
              "      <td>50 mg taken with water directly before bed put...</td>\n",
              "    </tr>\n",
              "    <tr>\n",
              "      <th>1958</th>\n",
              "      <td>10</td>\n",
              "      <td>topamax</td>\n",
              "      <td>Highly Effective</td>\n",
              "      <td>Mild Side Effects</td>\n",
              "      <td>migraine headaches</td>\n",
              "      <td>I was suffering from migraine headaches for mo...</td>\n",
              "      <td>Mild loss of appetite. Loss of interest in alc...</td>\n",
              "      <td>For the past six years of treatment, via a neu...</td>\n",
              "    </tr>\n",
              "    <tr>\n",
              "      <th>2071</th>\n",
              "      <td>10</td>\n",
              "      <td>accutane</td>\n",
              "      <td>Highly Effective</td>\n",
              "      <td>Mild Side Effects</td>\n",
              "      <td>acne</td>\n",
              "      <td>Permanently: cured of cystic acne.  Temporaril...</td>\n",
              "      <td>Dry skin and lips, increased susceptibility to...</td>\n",
              "      <td>I am 43 now but took Accutane back in my early...</td>\n",
              "    </tr>\n",
              "  </tbody>\n",
              "</table>\n",
              "<p>4132 rows × 8 columns</p>\n",
              "</div>"
            ],
            "text/plain": [
              "      rating  ...                                     commentsReview\n",
              "751        1  ...  After I had the reaction to amoxicillin, I dis...\n",
              "2351       1  ...  I took approximately 5mg a day. I visited my d...\n",
              "2564       1  ...  1 to be taken daily, i only took this medicati...\n",
              "412        1  ...  I have a prescription for albuterol for sports...\n",
              "972        1  ...  After a rectocele prolapse operation in June 2...\n",
              "...      ...  ...                                                ...\n",
              "1123      10  ...  I went to the doctor due to problems associate...\n",
              "2370      10  ...  Take one capsule in the morning before eating ...\n",
              "1133      10  ...  50 mg taken with water directly before bed put...\n",
              "1958      10  ...  For the past six years of treatment, via a neu...\n",
              "2071      10  ...  I am 43 now but took Accutane back in my early...\n",
              "\n",
              "[4132 rows x 8 columns]"
            ]
          },
          "metadata": {
            "tags": []
          },
          "execution_count": 31
        }
      ]
    },
    {
      "cell_type": "code",
      "metadata": {
        "id": "tzYkCb5RhNZ0",
        "colab_type": "code",
        "colab": {
          "base_uri": "https://localhost:8080/",
          "height": 514
        },
        "outputId": "baa77e67-662c-42dc-b13e-d19424de7b12"
      },
      "source": [
        "# Plotting the rating column unique value and their counts.\n",
        "df = pd.DataFrame({'Rating':sorted(data['rating'].unique()), 'Count':data['rating'].value_counts().sort_index()})\n",
        "df.plot.bar(x='Rating', y='Count', rot=0, figsize=(12,8))"
      ],
      "execution_count": 52,
      "outputs": [
        {
          "output_type": "execute_result",
          "data": {
            "text/plain": [
              "<matplotlib.axes._subplots.AxesSubplot at 0x7f738367c1d0>"
            ]
          },
          "metadata": {
            "tags": []
          },
          "execution_count": 52
        },
        {
          "output_type": "display_data",
          "data": {
            "image/png": "[encoded data removed]",
            "text/plain": [
              "<Figure size 864x576 with 1 Axes>"
            ]
          },
          "metadata": {
            "tags": [],
            "needs_background": "light"
          }
        }
      ]
    },
    {
      "cell_type": "code",
      "metadata": {
        "id": "Mwq_r4J0zuyt",
        "colab_type": "code",
        "colab": {
          "base_uri": "https://localhost:8080/",
          "height": 514
        },
        "outputId": "8e162428-8b32-463a-df85-e7b0ae5a918a"
      },
      "source": [
        "# Plotting the effective column unique value and their counts.\n",
        "effectiveness = data['effectiveness'].unique()\n",
        "effectiveness.sort()\n",
        "\n",
        "effect = pd.DataFrame({'Effectiveness':effectiveness, 'Count':data['effectiveness'].value_counts().sort_index()})\n",
        "effect.plot.bar(x='Effectiveness', y='Count', rot=0, figsize=(12,8))"
      ],
      "execution_count": 70,
      "outputs": [
        {
          "output_type": "execute_result",
          "data": {
            "text/plain": [
              "<matplotlib.axes._subplots.AxesSubplot at 0x7f73834c0898>"
            ]
          },
          "metadata": {
            "tags": []
          },
          "execution_count": 70
        },
        {
          "output_type": "display_data",
          "data": {
            "image/png": "[encoded data removed]",
            "text/plain": [
              "<Figure size 864x576 with 1 Axes>"
            ]
          },
          "metadata": {
            "tags": [],
            "needs_background": "light"
          }
        }
      ]
    },
    {
      "cell_type": "code",
      "metadata": {
        "id": "FIjDcHe92-y6",
        "colab_type": "code",
        "colab": {
          "base_uri": "https://localhost:8080/",
          "height": 514
        },
        "outputId": "4cb2a005-0565-4888-a57c-8ea13f4c1965"
      },
      "source": [
        "# Plotting the sideEffects column unique value and their counts.\n",
        "sideEffects_sorted = data['sideEffects'].unique()\n",
        "sideEffects_sorted.sort()\n",
        "\n",
        "sideEff = pd.DataFrame({'Side Effects':sideEffects_sorted, 'Count':data['sideEffects'].value_counts().sort_index()})\n",
        "sideEff.plot.bar(x='Side Effects', y='Count', rot=0, figsize=(12,8))"
      ],
      "execution_count": 76,
      "outputs": [
        {
          "output_type": "execute_result",
          "data": {
            "text/plain": [
              "<matplotlib.axes._subplots.AxesSubplot at 0x7f73835ee208>"
            ]
          },
          "metadata": {
            "tags": []
          },
          "execution_count": 76
        },
        {
          "output_type": "display_data",
          "data": {
            "image/png": "[encoded data removed]",
            "text/plain": [
              "<Figure size 864x576 with 1 Axes>"
            ]
          },
          "metadata": {
            "tags": [],
            "needs_background": "light"
          }
        }
      ]
    },
    {
      "cell_type": "code",
      "metadata": {
        "id": "gzA0Crub7w5n",
        "colab_type": "code",
        "colab": {}
      },
      "source": [
        "#Sorting data based on rating.\n",
        "data = data.sort_values(by=['rating'])"
      ],
      "execution_count": 0,
      "outputs": []
    },
    {
      "cell_type": "code",
      "metadata": {
        "id": "8gn_VW4x6tax",
        "colab_type": "code",
        "colab": {}
      },
      "source": [
        "#Exporting data to csv after preprocessing.\n",
        "data.to_csv(r'drive/My Drive/Colab Notebooks/DrugLib Dataset/drugLib_processed.csv', index=False)"
      ],
      "execution_count": 0,
      "outputs": []
    }
  ]
}