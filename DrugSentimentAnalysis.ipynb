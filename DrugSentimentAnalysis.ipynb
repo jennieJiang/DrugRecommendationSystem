{
  "nbformat": 4,
  "nbformat_minor": 0,
  "metadata": {
    "kernelspec": {
      "display_name": "Python 3",
      "language": "python",
      "name": "python3"
    },
    "language_info": {
      "codemirror_mode": {
        "name": "ipython",
        "version": 3
      },
      "file_extension": ".py",
      "mimetype": "text/x-python",
      "name": "python",
      "nbconvert_exporter": "python",
      "pygments_lexer": "ipython3",
      "version": "3.7.4"
    },
    "colab": {
      "name": "DrugSentimentAnalysis.ipynb",
      "provenance": [],
      "include_colab_link": true
    }
  },
  "cells": [
    {
      "cell_type": "markdown",
      "metadata": {
        "id": "view-in-github",
        "colab_type": "text"
      },
      "source": [
        "<a href=\"https://colab.research.google.com/github/khushbooekhande/DrugRecommendationSystem/blob/master/DrugSentimentAnalysis.ipynb\" target=\"_parent\"><img src=\"https://colab.research.google.com/assets/colab-badge.svg\" alt=\"Open In Colab\"/></a>"
      ]
    },
    {
      "cell_type": "code",
      "metadata": {
        "id": "dCTodUOmDqc-",
        "colab_type": "code",
        "colab": {
          "base_uri": "https://localhost:8080/",
          "height": 34
        },
        "outputId": "186bf0ce-0664-4c8f-f842-b25a8690e12b"
      },
      "source": [
        "import warnings\n",
        "warnings.filterwarnings(\"ignore\") \n",
        "import pandas as pd \n",
        "import numpy as np\n",
        "import tensorflow as tf\n",
        "from sklearn.model_selection import train_test_split\n",
        "from sklearn.feature_extraction.text import TfidfVectorizer\n",
        "from keras.utils import to_categorical\n",
        "from tensorflow.keras import layers\n",
        "from sklearn.metrics import precision_recall_fscore_support\n",
        "import matplotlib.pyplot as plt"
      ],
      "execution_count": 1,
      "outputs": [
        {
          "output_type": "stream",
          "text": [
            "Using TensorFlow backend.\n"
          ],
          "name": "stderr"
        }
      ]
    },
    {
      "cell_type": "code",
      "metadata": {
        "id": "DUsLtKV7Dskm",
        "colab_type": "code",
        "colab": {
          "base_uri": "https://localhost:8080/",
          "height": 122
        },
        "outputId": "d7437aa8-2822-4e61-9dcd-a96276b34492"
      },
      "source": [
        "from google.colab import drive\n",
        "drive.mount(\"/content/drive\")"
      ],
      "execution_count": 2,
      "outputs": [
        {
          "output_type": "stream",
          "text": [
            "Go to this URL in a browser: https://accounts.google.com/o/oauth2/auth?client_id=947318989803-6bn6qk8qdgf4n4g3pfee6491hc0brc4i.apps.googleusercontent.com&redirect_uri=urn%3aietf%3awg%3aoauth%3a2.0%3aoob&response_type=code&scope=email%20https%3a%2f%2fwww.googleapis.com%2fauth%2fdocs.test%20https%3a%2f%2fwww.googleapis.com%2fauth%2fdrive%20https%3a%2f%2fwww.googleapis.com%2fauth%2fdrive.photos.readonly%20https%3a%2f%2fwww.googleapis.com%2fauth%2fpeopleapi.readonly\n",
            "\n",
            "Enter your authorization code:\n",
            "··········\n",
            "Mounted at /content/drive\n"
          ],
          "name": "stdout"
        }
      ]
    },
    {
      "cell_type": "markdown",
      "metadata": {
        "id": "C7l2-NNoDqdE",
        "colab_type": "text"
      },
      "source": [
        "1. Extract the reviews and ratings from the merged data file and make an array list of all the reviews\n",
        "2. Map the values of rating into postive and negative with threshold >7"
      ]
    },
    {
      "cell_type": "code",
      "metadata": {
        "id": "QHhVMlLMDqdF",
        "colab_type": "code",
        "colab": {}
      },
      "source": [
        "pd.set_option('display.max_columns', None)\n",
        "df = pd.read_csv(f'/content/drive/My Drive/Merged_Dataset.csv')\n",
        "df = df[['Review', 'Rating', 'Drug']]\n",
        "review = list(df.Review)\n",
        "labels = np.where(df['Rating']>7, 1, 0)"
      ],
      "execution_count": 0,
      "outputs": []
    },
    {
      "cell_type": "markdown",
      "metadata": {
        "id": "TjIz_nMZDqdJ",
        "colab_type": "text"
      },
      "source": [
        "Checking the review and ratings for few "
      ]
    },
    {
      "cell_type": "code",
      "metadata": {
        "id": "r6c52tK9DqdJ",
        "colab_type": "code",
        "colab": {
          "base_uri": "https://localhost:8080/",
          "height": 445
        },
        "outputId": "1065e081-bf5e-4627-c6c7-4cc8896c3337"
      },
      "source": [
        "for i in range (0, 5):\n",
        "    print(\"Review: \", review[i])\n",
        "    print(\"Label 1 for Postive and 0 for negative: \", labels[i])\n",
        "    print('\\n')"
      ],
      "execution_count": 5,
      "outputs": [
        {
          "output_type": "stream",
          "text": [
            "Review:  \"No side effects,  easy to take, no more symptoms since taking.\"\n",
            "Label 1 for Postive and 0 for negative:  1\n",
            "\n",
            "\n",
            "Review:  \"I&#039;ve been taking this medicine for a little over 6 months.\r\n",
            "I am a 66 yr. old female.  In 2014, I lost 30 pds. on purpose, so I have been feeling good, except age-related pain in my hip joints.\r\n",
            "I&#039;ve just realized recently that I&#039;m no longer feeling pain in my joints. Nothing has changed in my life except the addition of this medicine.\r\n",
            "\r\n",
            "So...I&#039;ve concluded this is a POSITIVE side effect from taking this medicine.\"\n",
            "Label 1 for Postive and 0 for negative:  1\n",
            "\n",
            "\n",
            "Review:  \"I took ibuprofen (2 caps at night for severe back pain) while taking this medicine and woke in the morning with a severe nose bleed.\"\n",
            "Label 1 for Postive and 0 for negative:  0\n",
            "\n",
            "\n",
            "Review:  \"After my VAD Stroke I am on plavix.  I have a toddler that I still nurse. I looked up plavix for several days &amp; talked to several doctors. Some said it was fine, some said it was not ok. After talking to so many people about it, I felt that it seemed ok to nurse on. I&#039;ve been on it for a month and yesterday I realized that my 2yo is constipated. We are weaning ASAP now because I don&#039;t know what else it&#039;s doing to him, but it&#039;s definitely getting through. I just wanted to post this somewhere for other nursing moms to see. We are currently only nursing 2 times a day right now.\"\n",
            "Label 1 for Postive and 0 for negative:  0\n",
            "\n",
            "\n",
            "Review:  \"No side effects,  easy to take, no more symptoms since taking.\"\n",
            "Label 1 for Postive and 0 for negative:  1\n",
            "\n",
            "\n"
          ],
          "name": "stdout"
        }
      ]
    },
    {
      "cell_type": "markdown",
      "metadata": {
        "id": "p6QpbCIPDqdM",
        "colab_type": "text"
      },
      "source": [
        "Defining a function for getting CV and tfID vectors for review analysis"
      ]
    },
    {
      "cell_type": "code",
      "metadata": {
        "id": "0iwCGiL9DqdN",
        "colab_type": "code",
        "colab": {}
      },
      "source": [
        "def _tfIDV(list_review):\n",
        "    vectorizer = TfidfVectorizer()\n",
        "    X = vectorizer.fit_transform(list_review)\n",
        "    X = X.toarray()\n",
        "    return X"
      ],
      "execution_count": 0,
      "outputs": []
    },
    {
      "cell_type": "markdown",
      "metadata": {
        "id": "C3DK2z_-DqdP",
        "colab_type": "text"
      },
      "source": [
        "Using the defined function get the tfID vectors and categorical label encoding"
      ]
    },
    {
      "cell_type": "code",
      "metadata": {
        "id": "JnNg_8ZBDqdQ",
        "colab_type": "code",
        "colab": {}
      },
      "source": [
        "data = _tfIDV(review)\n",
        "labels = to_categorical(labels, num_classes=2)\n",
        "x_train, x_test, y_train, y_test = train_test_split(data, labels, test_size=0.2, random_state=22, shuffle=False)"
      ],
      "execution_count": 0,
      "outputs": []
    },
    {
      "cell_type": "markdown",
      "metadata": {
        "id": "XRaALc3SDqdS",
        "colab_type": "text"
      },
      "source": [
        "Creating a Simple Neural Network using keras API"
      ]
    },
    {
      "cell_type": "code",
      "metadata": {
        "id": "a-MSU8VtDqdT",
        "colab_type": "code",
        "colab": {}
      },
      "source": [
        "def _createModel():\n",
        "    model = tf.keras.Sequential()\n",
        "    model.add(layers.Dense(25, input_shape=(x_train.shape[1],)))\n",
        "    model.add(layers.BatchNormalization(momentum=0.8))    \n",
        "    model.add(layers.Activation('relu'))\n",
        "    model.add(layers.Dropout(0.5))\n",
        "    model.add(layers.Dense(25))\n",
        "    model.add(layers.BatchNormalization(momentum=0.8))\n",
        "    model.add(layers.Activation('relu'))\n",
        "    model.add(layers.Dropout(0.5))\n",
        "    model.add(layers.Dense(25))\n",
        "    model.add(layers.BatchNormalization(momentum=0.8))\n",
        "    model.add(layers.Activation('relu'))\n",
        "    model.add(layers.Dense(2, activation='softmax'))   \n",
        "    model.summary()\n",
        "    return model "
      ],
      "execution_count": 0,
      "outputs": []
    },
    {
      "cell_type": "markdown",
      "metadata": {
        "id": "LZ20kV-dDqdW",
        "colab_type": "text"
      },
      "source": [
        "Compiling the model with binary_crossentropy loss function and optimizing with adam optimizer"
      ]
    },
    {
      "cell_type": "code",
      "metadata": {
        "id": "rU82F_k_DqdX",
        "colab_type": "code",
        "colab": {
          "base_uri": "https://localhost:8080/",
          "height": 918
        },
        "outputId": "484f7aaf-8261-4a03-804d-e4927dc2fdae"
      },
      "source": [
        "model = _createModel()\n",
        "model.compile(optimizer = \"adam\", loss = 'categorical_crossentropy', metrics = [\"accuracy\"])\n",
        "hist = model.fit(\n",
        "    x_train, y_train,\n",
        "    epochs= 10,\n",
        "    batch_size = 100,\n",
        "    validation_data = (x_test, y_test))\n",
        "print(\"Avg. Val_Accuracy from sklearn_CV:\", np.mean(hist.history[\"val_accuracy\"]))"
      ],
      "execution_count": 23,
      "outputs": [
        {
          "output_type": "stream",
          "text": [
            "Model: \"sequential_3\"\n",
            "_________________________________________________________________\n",
            "Layer (type)                 Output Shape              Param #   \n",
            "=================================================================\n",
            "dense_12 (Dense)             (None, 25)                315550    \n",
            "_________________________________________________________________\n",
            "batch_normalization_9 (Batch (None, 25)                100       \n",
            "_________________________________________________________________\n",
            "activation_9 (Activation)    (None, 25)                0         \n",
            "_________________________________________________________________\n",
            "dropout_6 (Dropout)          (None, 25)                0         \n",
            "_________________________________________________________________\n",
            "dense_13 (Dense)             (None, 25)                650       \n",
            "_________________________________________________________________\n",
            "batch_normalization_10 (Batc (None, 25)                100       \n",
            "_________________________________________________________________\n",
            "activation_10 (Activation)   (None, 25)                0         \n",
            "_________________________________________________________________\n",
            "dropout_7 (Dropout)          (None, 25)                0         \n",
            "_________________________________________________________________\n",
            "dense_14 (Dense)             (None, 25)                650       \n",
            "_________________________________________________________________\n",
            "batch_normalization_11 (Batc (None, 25)                100       \n",
            "_________________________________________________________________\n",
            "activation_11 (Activation)   (None, 25)                0         \n",
            "_________________________________________________________________\n",
            "dense_15 (Dense)             (None, 2)                 52        \n",
            "=================================================================\n",
            "Total params: 317,202\n",
            "Trainable params: 317,052\n",
            "Non-trainable params: 150\n",
            "_________________________________________________________________\n",
            "Epoch 1/10\n",
            "81/81 [==============================] - 1s 13ms/step - loss: 0.6960 - accuracy: 0.6066 - val_loss: 0.6285 - val_accuracy: 0.6571\n",
            "Epoch 2/10\n",
            "81/81 [==============================] - 1s 11ms/step - loss: 0.4957 - accuracy: 0.7753 - val_loss: 0.5919 - val_accuracy: 0.6774\n",
            "Epoch 3/10\n",
            "81/81 [==============================] - 1s 11ms/step - loss: 0.3790 - accuracy: 0.8403 - val_loss: 0.5938 - val_accuracy: 0.6914\n",
            "Epoch 4/10\n",
            "81/81 [==============================] - 1s 11ms/step - loss: 0.2866 - accuracy: 0.8838 - val_loss: 0.6218 - val_accuracy: 0.6789\n",
            "Epoch 5/10\n",
            "81/81 [==============================] - 1s 11ms/step - loss: 0.2286 - accuracy: 0.9105 - val_loss: 0.6704 - val_accuracy: 0.6869\n",
            "Epoch 6/10\n",
            "81/81 [==============================] - 1s 11ms/step - loss: 0.1844 - accuracy: 0.9289 - val_loss: 0.7637 - val_accuracy: 0.6909\n",
            "Epoch 7/10\n",
            "81/81 [==============================] - 1s 11ms/step - loss: 0.1526 - accuracy: 0.9389 - val_loss: 0.7851 - val_accuracy: 0.6973\n",
            "Epoch 8/10\n",
            "81/81 [==============================] - 1s 11ms/step - loss: 0.1221 - accuracy: 0.9545 - val_loss: 0.8525 - val_accuracy: 0.6864\n",
            "Epoch 9/10\n",
            "81/81 [==============================] - 1s 12ms/step - loss: 0.1127 - accuracy: 0.9578 - val_loss: 0.9029 - val_accuracy: 0.6889\n",
            "Epoch 10/10\n",
            "81/81 [==============================] - 1s 12ms/step - loss: 0.0989 - accuracy: 0.9635 - val_loss: 0.9325 - val_accuracy: 0.6914\n",
            "Avg. Val_Accuracy from sklearn_CV: 0.6846421480178833\n"
          ],
          "name": "stdout"
        }
      ]
    },
    {
      "cell_type": "markdown",
      "metadata": {
        "id": "syuDtsCaDqdZ",
        "colab_type": "text"
      },
      "source": [
        "Visualizing training loss and accuracy"
      ]
    },
    {
      "cell_type": "code",
      "metadata": {
        "id": "20oqdi4kDqdZ",
        "colab_type": "code",
        "colab": {
          "base_uri": "https://localhost:8080/",
          "height": 283
        },
        "outputId": "74e7db20-ddbb-4add-f1e5-92f76d84900d"
      },
      "source": [
        "fig, loss_ax = plt.subplots()\n",
        "\n",
        "acc_ax = loss_ax.twinx()\n",
        "\n",
        "loss_ax.set_ylim([0.0, 1.0])\n",
        "acc_ax.set_ylim([0.0, 1.0])\n",
        "\n",
        "loss_ax.plot(hist.history['accuracy'], 'r', label='training loss')\n",
        "acc_ax.plot(hist.history['loss'], 'b', label='training acc')\n",
        "\n",
        "loss_ax.set_xlabel('epoch')\n",
        "loss_ax.set_ylabel('loss')\n",
        "acc_ax.set_ylabel('accuray')\n",
        "\n",
        "loss_ax.legend(loc='upper left')\n",
        "acc_ax.legend(loc='lower left')\n",
        "\n",
        "plt.show()"
      ],
      "execution_count": 24,
      "outputs": [
        {
          "output_type": "display_data",
          "data": {
            "image/png": "[encoded data removed]",
            "text/plain": [
              "<Figure size 432x288 with 2 Axes>"
            ]
          },
          "metadata": {
            "tags": [],
            "needs_background": "light"
          }
        }
      ]
    },
    {
      "cell_type": "markdown",
      "metadata": {
        "id": "l5aPbUOPDqdc",
        "colab_type": "text"
      },
      "source": [
        "Evaluating model performance with scoring metrics"
      ]
    },
    {
      "cell_type": "code",
      "metadata": {
        "id": "KgXZP33MDqdd",
        "colab_type": "code",
        "colab": {
          "base_uri": "https://localhost:8080/",
          "height": 119
        },
        "outputId": "d437d150-06cb-4207-a61a-4d256d9c022f"
      },
      "source": [
        "scores = model.evaluate(x_test, y_test, verbose=0)\n",
        "y_pred = model.predict(x_test)\n",
        "y_pred = np.argmax(y_pred, axis=1)\n",
        "y_true = np.argmax(y_test, axis=1)\n",
        "score = precision_recall_fscore_support(y_true, y_pred, average='macro')\n",
        "print(\"Evaluation metrics for Sentiment Analysis: \", '\\n', \"Loss: \", scores[0], '\\n'\n",
        "     , \"Accuracy: \", scores[1], '\\n', \"F1_Score: \", score[2], '\\n', \"Precision: \", score[0], '\\n', \n",
        "     \"Recall: \", score[1])"
      ],
      "execution_count": 25,
      "outputs": [
        {
          "output_type": "stream",
          "text": [
            "Evaluation metrics for Sentiment Analysis:  \n",
            " Loss:  0.9325119853019714 \n",
            " Accuracy:  0.6913518905639648 \n",
            " F1_Score:  0.6913390028347506 \n",
            " Precision:  0.6918612525667147 \n",
            " Recall:  0.6920068464689237\n"
          ],
          "name": "stdout"
        }
      ]
    },
    {
      "cell_type": "code",
      "metadata": {
        "id": "0MGneDHRDqdf",
        "colab_type": "code",
        "colab": {}
      },
      "source": [
        "def _posneg(x):\n",
        "    if x == 0:\n",
        "        return 'negative'\n",
        "    if x == 1:\n",
        "        return 'positive'"
      ],
      "execution_count": 0,
      "outputs": []
    },
    {
      "cell_type": "markdown",
      "metadata": {
        "id": "lO0J3g0QDqdh",
        "colab_type": "text"
      },
      "source": [
        "Viewing some of the reviews with actual and predicted values"
      ]
    },
    {
      "cell_type": "code",
      "metadata": {
        "id": "rF2BHl2jDqdh",
        "colab_type": "code",
        "colab": {
          "base_uri": "https://localhost:8080/",
          "height": 323
        },
        "outputId": "4fe618c1-e9e8-406d-c4df-3240e39a6485"
      },
      "source": [
        "preds = model.predict(x_test[0:5])\n",
        "preds = np.argmax(preds, axis=1)\n",
        "y_test = np.argmax(y_test[0:5], axis=1)\n",
        "d = {'reviews':[review[8048],review[8049],review[8050],review[8051],\n",
        "               review[8052]], 'actual label': [y_test[0], y_test[1], y_test[2], y_test[3], y_test[4]], \n",
        "    'predicted label': [preds[0], preds[1], preds[2], preds[3], preds[4]]}\n",
        "table = pd.DataFrame(data=d)\n",
        "tableA = table['actual label'].apply(_posneg)\n",
        "tableP = table['predicted label'].apply(_posneg)\n",
        "table = table['reviews']\n",
        "res = pd.concat([table, tableA, tableP], axis=1, sort=False)\n",
        "print(\"Some of the reviews and sentiments using w2v embedding\")\n",
        "print('\\n')\n",
        "print(res)\n",
        "print('\\n')"
      ],
      "execution_count": 27,
      "outputs": [
        {
          "output_type": "stream",
          "text": [
            "Some of the reviews and sentiments using w2v embedding\n",
            "\n",
            "\n",
            "                                             reviews actual label  \\\n",
            "0  \"I am taking Diamox this is the 3rd time I hav...     positive   \n",
            "1                               \"Works good for me.\"     negative   \n",
            "2  \"I&#039;ve had glaucoma since I was 9, and I&#...     positive   \n",
            "3  \"I have Iritis, so to get rid of the inflamati...     negative   \n",
            "4  \"It helped lower my pressure but made my eyes ...     negative   \n",
            "\n",
            "  predicted label  \n",
            "0        negative  \n",
            "1        positive  \n",
            "2        positive  \n",
            "3        negative  \n",
            "4        negative  \n",
            "\n",
            "\n"
          ],
          "name": "stdout"
        }
      ]
    }
  ]
}