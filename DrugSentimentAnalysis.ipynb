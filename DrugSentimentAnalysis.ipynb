{
 "cells": [
  {
   "cell_type": "code",
   "execution_count": 1,
   "metadata": {},
   "outputs": [
    {
     "name": "stderr",
     "output_type": "stream",
     "text": [
      "Using TensorFlow backend.\n"
     ]
    }
   ],
   "source": [
    "import warnings\n",
    "warnings.filterwarnings(\"ignore\") \n",
    "import pandas as pd \n",
    "import numpy as np\n",
    "import tensorflow as tf\n",
    "from sklearn.model_selection import train_test_split\n",
    "from sklearn.feature_extraction.text import TfidfVectorizer\n",
    "from keras.utils import to_categorical\n",
    "from tensorflow.keras import layers\n",
    "from sklearn.metrics import precision_recall_fscore_support\n",
    "import matplotlib.pyplot as plt"
   ]
  },
  {
   "cell_type": "markdown",
   "metadata": {},
   "source": [
    "1. Extract the reviews and ratings from the merged data file and make an array list of all the reviews\n",
    "2. Map the values of rating into postive and negative with threshold >7"
   ]
  },
  {
   "cell_type": "code",
   "execution_count": 2,
   "metadata": {},
   "outputs": [],
   "source": [
    "df = pd.read_csv(f'Merged_Dataset.csv')\n",
    "df = df[['Review', 'Rating', 'Drug']]\n",
    "review = list(df.Review)\n",
    "labels = np.where(df['Rating']>7, 1, 0)"
   ]
  },
  {
   "cell_type": "markdown",
   "metadata": {},
   "source": [
    "Checking the review and ratings for few "
   ]
  },
  {
   "cell_type": "code",
   "execution_count": 3,
   "metadata": {},
   "outputs": [
    {
     "name": "stdout",
     "output_type": "stream",
     "text": [
      "Review:  \"No side effects,  easy to take, no more symptoms since taking.\"\n",
      "Label 1 for Postive and 0 for negative:  1\n",
      "\n",
      "\n",
      "Review:  \"I&#039;ve been taking this medicine for a little over 6 months.\r\n",
      "I am a 66 yr. old female.  In 2014, I lost 30 pds. on purpose, so I have been feeling good, except age-related pain in my hip joints.\r\n",
      "I&#039;ve just realized recently that I&#039;m no longer feeling pain in my joints. Nothing has changed in my life except the addition of this medicine.\r\n",
      "\r\n",
      "So...I&#039;ve concluded this is a POSITIVE side effect from taking this medicine.\"\n",
      "Label 1 for Postive and 0 for negative:  1\n",
      "\n",
      "\n",
      "Review:  \"I took ibuprofen (2 caps at night for severe back pain) while taking this medicine and woke in the morning with a severe nose bleed.\"\n",
      "Label 1 for Postive and 0 for negative:  0\n",
      "\n",
      "\n",
      "Review:  \"After my VAD Stroke I am on plavix.  I have a toddler that I still nurse. I looked up plavix for several days &amp; talked to several doctors. Some said it was fine, some said it was not ok. After talking to so many people about it, I felt that it seemed ok to nurse on. I&#039;ve been on it for a month and yesterday I realized that my 2yo is constipated. We are weaning ASAP now because I don&#039;t know what else it&#039;s doing to him, but it&#039;s definitely getting through. I just wanted to post this somewhere for other nursing moms to see. We are currently only nursing 2 times a day right now.\"\n",
      "Label 1 for Postive and 0 for negative:  0\n",
      "\n",
      "\n",
      "Review:  \"No side effects,  easy to take, no more symptoms since taking.\"\n",
      "Label 1 for Postive and 0 for negative:  1\n",
      "\n",
      "\n"
     ]
    }
   ],
   "source": [
    "for i in range (0, 5):\n",
    "    print(\"Review: \", review[i])\n",
    "    print(\"Label 1 for Postive and 0 for negative: \", labels[i])\n",
    "    print('\\n')"
   ]
  },
  {
   "cell_type": "markdown",
   "metadata": {},
   "source": [
    "Defining a function for getting CV and tfID vectors for review analysis"
   ]
  },
  {
   "cell_type": "code",
   "execution_count": 4,
   "metadata": {},
   "outputs": [],
   "source": [
    "def _tfIDV(list_review):\n",
    "    vectorizer = TfidfVectorizer()\n",
    "    X = vectorizer.fit_transform(list_review)\n",
    "    X = X.toarray()\n",
    "    return X"
   ]
  },
  {
   "cell_type": "markdown",
   "metadata": {},
   "source": [
    "Using the defined function get the tfID vectors and categorical label encoding"
   ]
  },
  {
   "cell_type": "code",
   "execution_count": 5,
   "metadata": {},
   "outputs": [],
   "source": [
    "data = _tfIDV(review)\n",
    "labels = to_categorical(labels, num_classes=2)\n",
    "x_train, x_test, y_train, y_test = train_test_split(data, labels, test_size=0.2, random_state=22, shuffle=False)"
   ]
  },
  {
   "cell_type": "markdown",
   "metadata": {},
   "source": [
    "Creating a Simple Neural Network using keras API"
   ]
  },
  {
   "cell_type": "code",
   "execution_count": 6,
   "metadata": {},
   "outputs": [],
   "source": [
    "def _createModel():\n",
    "    model = tf.keras.Sequential()\n",
    "    model.add(layers.Dense(25, input_shape=(x_train.shape[1],)))\n",
    "    model.add(layers.BatchNormalization(momentum=0.8))    \n",
    "    model.add(layers.Activation('relu'))\n",
    "    model.add(layers.Dropout(0.5))\n",
    "    model.add(layers.Dense(25))\n",
    "    model.add(layers.BatchNormalization(momentum=0.8))\n",
    "    model.add(layers.Activation('relu'))\n",
    "    model.add(layers.Dropout(0.5))\n",
    "    model.add(layers.Dense(25))\n",
    "    model.add(layers.BatchNormalization(momentum=0.8))\n",
    "    model.add(layers.Activation('relu'))\n",
    "    model.add(layers.Dense(2, activation='softmax'))   \n",
    "    model.summary()\n",
    "    return model "
   ]
  },
  {
   "cell_type": "markdown",
   "metadata": {},
   "source": [
    "Compiling the model with binary_crossentropy loss function and optimizing with adam optimizer"
   ]
  },
  {
   "cell_type": "code",
   "execution_count": 7,
   "metadata": {},
   "outputs": [
    {
     "name": "stdout",
     "output_type": "stream",
     "text": [
      "WARNING:tensorflow:From /usr/local/lib/python3.7/site-packages/tensorflow/python/ops/init_ops.py:1251: calling VarianceScaling.__init__ (from tensorflow.python.ops.init_ops) with dtype is deprecated and will be removed in a future version.\n",
      "Instructions for updating:\n",
      "Call initializer instance with the dtype argument instead of passing it to the constructor\n",
      "Model: \"sequential\"\n",
      "_________________________________________________________________\n",
      "Layer (type)                 Output Shape              Param #   \n",
      "=================================================================\n",
      "dense (Dense)                (None, 25)                315550    \n",
      "_________________________________________________________________\n",
      "batch_normalization (BatchNo (None, 25)                100       \n",
      "_________________________________________________________________\n",
      "activation (Activation)      (None, 25)                0         \n",
      "_________________________________________________________________\n",
      "dropout (Dropout)            (None, 25)                0         \n",
      "_________________________________________________________________\n",
      "dense_1 (Dense)              (None, 25)                650       \n",
      "_________________________________________________________________\n",
      "batch_normalization_1 (Batch (None, 25)                100       \n",
      "_________________________________________________________________\n",
      "activation_1 (Activation)    (None, 25)                0         \n",
      "_________________________________________________________________\n",
      "dropout_1 (Dropout)          (None, 25)                0         \n",
      "_________________________________________________________________\n",
      "dense_2 (Dense)              (None, 25)                650       \n",
      "_________________________________________________________________\n",
      "batch_normalization_2 (Batch (None, 25)                100       \n",
      "_________________________________________________________________\n",
      "activation_2 (Activation)    (None, 25)                0         \n",
      "_________________________________________________________________\n",
      "dense_3 (Dense)              (None, 2)                 52        \n",
      "=================================================================\n",
      "Total params: 317,202\n",
      "Trainable params: 317,052\n",
      "Non-trainable params: 150\n",
      "_________________________________________________________________\n",
      "Train on 8048 samples, validate on 2012 samples\n",
      "Epoch 1/10\n",
      "8048/8048 [==============================] - 1s 159us/sample - loss: 0.6529 - acc: 0.6098 - val_loss: 0.6659 - val_acc: 0.5721\n",
      "Epoch 2/10\n",
      "8048/8048 [==============================] - 1s 106us/sample - loss: 0.5221 - acc: 0.7183 - val_loss: 0.6423 - val_acc: 0.6362\n",
      "Epoch 3/10\n",
      "8048/8048 [==============================] - 1s 106us/sample - loss: 0.4091 - acc: 0.8198 - val_loss: 0.6328 - val_acc: 0.6337\n",
      "Epoch 4/10\n",
      "8048/8048 [==============================] - 1s 107us/sample - loss: 0.3040 - acc: 0.8806 - val_loss: 0.6599 - val_acc: 0.6367\n",
      "Epoch 5/10\n",
      "8048/8048 [==============================] - 1s 106us/sample - loss: 0.2327 - acc: 0.9123 - val_loss: 0.6999 - val_acc: 0.6595\n",
      "Epoch 6/10\n",
      "8048/8048 [==============================] - 1s 108us/sample - loss: 0.1788 - acc: 0.9334 - val_loss: 0.7329 - val_acc: 0.6715\n",
      "Epoch 7/10\n",
      "8048/8048 [==============================] - 1s 108us/sample - loss: 0.1455 - acc: 0.9492 - val_loss: 0.7587 - val_acc: 0.6754\n",
      "Epoch 8/10\n",
      "8048/8048 [==============================] - 1s 109us/sample - loss: 0.1189 - acc: 0.9571 - val_loss: 0.7875 - val_acc: 0.6774\n",
      "Epoch 9/10\n",
      "8048/8048 [==============================] - 1s 111us/sample - loss: 0.1006 - acc: 0.9666 - val_loss: 0.8503 - val_acc: 0.6665\n",
      "Epoch 10/10\n",
      "8048/8048 [==============================] - 1s 92us/sample - loss: 0.0953 - acc: 0.9673 - val_loss: 0.8925 - val_acc: 0.6705\n",
      "Avg. Val_Accuracy from sklearn_CV: 0.6499503\n"
     ]
    }
   ],
   "source": [
    "model = _createModel()\n",
    "model.compile(optimizer = \"adam\", loss = 'categorical_crossentropy', metrics = [\"accuracy\"])\n",
    "hist = model.fit(\n",
    "    x_train, y_train,\n",
    "    epochs= 10,\n",
    "    batch_size = 100,\n",
    "    validation_data = (x_test, y_test))\n",
    "print(\"Avg. Val_Accuracy from sklearn_CV:\", np.mean(hist.history[\"val_acc\"]))"
   ]
  },
  {
   "cell_type": "markdown",
   "metadata": {},
   "source": [
    "Visualizing training loss and accuracy"
   ]
  },
  {
   "cell_type": "code",
   "execution_count": 8,
   "metadata": {},
   "outputs": [
    {
     "data": {
      "image/png": "[encoded data removed]",
      "text/plain": [
       "<Figure size 432x288 with 2 Axes>"
      ]
     },
     "metadata": {
      "needs_background": "light"
     },
     "output_type": "display_data"
    }
   ],
   "source": [
    "fig, loss_ax = plt.subplots()\n",
    "\n",
    "acc_ax = loss_ax.twinx()\n",
    "\n",
    "loss_ax.set_ylim([0.0, 1.0])\n",
    "acc_ax.set_ylim([0.0, 1.0])\n",
    "\n",
    "loss_ax.plot(hist.history['acc'], 'r', label='training loss')\n",
    "acc_ax.plot(hist.history['loss'], 'b', label='training acc')\n",
    "\n",
    "loss_ax.set_xlabel('epoch')\n",
    "loss_ax.set_ylabel('loss')\n",
    "acc_ax.set_ylabel('accuray')\n",
    "\n",
    "loss_ax.legend(loc='upper left')\n",
    "acc_ax.legend(loc='lower left')\n",
    "\n",
    "plt.show()"
   ]
  },
  {
   "cell_type": "markdown",
   "metadata": {},
   "source": [
    "Evaluating model performance with scoring metrics"
   ]
  },
  {
   "cell_type": "code",
   "execution_count": 9,
   "metadata": {},
   "outputs": [
    {
     "name": "stdout",
     "output_type": "stream",
     "text": [
      "Evaluation metrics for Sentiment Analysis:  \n",
      " Loss:  0.8925471403015773 \n",
      " Accuracy:  0.67047715 \n",
      " F1_Score:  0.6676674342456834 \n",
      " Precision:  0.683251574187989 \n",
      " Recall:  0.6746314581395809\n"
     ]
    }
   ],
   "source": [
    "scores = model.evaluate(x_test, y_test, verbose=0)\n",
    "y_pred = model.predict(x_test)\n",
    "y_pred = np.argmax(y_pred, axis=1)\n",
    "y_true = np.argmax(y_test, axis=1)\n",
    "score = precision_recall_fscore_support(y_true, y_pred, average='macro')\n",
    "print(\"Evaluation metrics for Sentiment Analysis: \", '\\n', \"Loss: \", scores[0], '\\n'\n",
    "     , \"Accuracy: \", scores[1], '\\n', \"F1_Score: \", score[2], '\\n', \"Precision: \", score[0], '\\n', \n",
    "     \"Recall: \", score[1])"
   ]
  },
  {
   "cell_type": "code",
   "execution_count": 10,
   "metadata": {},
   "outputs": [],
   "source": [
    "def _posneg(x):\n",
    "    if x == 0:\n",
    "        return 'negative'\n",
    "    if x == 1:\n",
    "        return 'positive'"
   ]
  },
  {
   "cell_type": "markdown",
   "metadata": {},
   "source": [
    "Viewing some of the reviews with actual and predicted values"
   ]
  },
  {
   "cell_type": "code",
   "execution_count": 11,
   "metadata": {},
   "outputs": [
    {
     "name": "stdout",
     "output_type": "stream",
     "text": [
      "Some of the reviews and sentiments using d2v embedding\n",
      "\n",
      "\n",
      "                                             reviews actual label  \\\n",
      "0  \"I am taking Diamox this is the 3rd time I hav...     positive   \n",
      "1                               \"Works good for me.\"     negative   \n",
      "2  \"I&#039;ve had glaucoma since I was 9, and I&#...     positive   \n",
      "3  \"I have Iritis, so to get rid of the inflamati...     negative   \n",
      "4  \"It helped lower my pressure but made my eyes ...     negative   \n",
      "\n",
      "  predicted label  \n",
      "0        negative  \n",
      "1        positive  \n",
      "2        positive  \n",
      "3        negative  \n",
      "4        negative  \n",
      "\n",
      "\n"
     ]
    }
   ],
   "source": [
    "preds = model.predict(x_test[0:5])\n",
    "preds = np.argmax(preds, axis=1)\n",
    "y_test = np.argmax(y_test[0:5], axis=1)\n",
    "d = {'reviews':[review[8048],review[8049],review[8050],review[8051],\n",
    "               review[8052]], 'actual label': [y_test[0], y_test[1], y_test[2], y_test[3], y_test[4]], \n",
    "    'predicted label': [preds[0], preds[1], preds[2], preds[3], preds[4]]}\n",
    "table = pd.DataFrame(data=d)\n",
    "tableA = table['actual label'].apply(_posneg)\n",
    "tableP = table['predicted label'].apply(_posneg)\n",
    "table = table['reviews']\n",
    "res = pd.concat([table, tableA, tableP], axis=1, sort=False)\n",
    "print(\"Some of the reviews and sentiments using d2v embedding\")\n",
    "print('\\n')\n",
    "print(res)\n",
    "print('\\n')"
   ]
  }
 ],
 "metadata": {
  "kernelspec": {
   "display_name": "Python 3",
   "language": "python",
   "name": "python3"
  },
  "language_info": {
   "codemirror_mode": {
    "name": "ipython",
    "version": 3
   },
   "file_extension": ".py",
   "mimetype": "text/x-python",
   "name": "python",
   "nbconvert_exporter": "python",
   "pygments_lexer": "ipython3",
   "version": "3.7.4"
  }
 },
 "nbformat": 4,
 "nbformat_minor": 2
}

