{
  "nbformat": 4,
  "nbformat_minor": 0,
  "metadata": {
    "colab": {
      "name": "Drug_Recommendation_WeightedAvg.ipynb",
      "provenance": [],
      "collapsed_sections": [],
      "include_colab_link": true
    },
    "kernelspec": {
      "name": "python3",
      "display_name": "Python 3"
    }
  },
  "cells": [
    {
      "cell_type": "markdown",
      "metadata": {
        "id": "view-in-github",
        "colab_type": "text"
      },
      "source": [
        "<a href=\"https://colab.research.google.com/github/khushbooekhande/DrugRecommendationSystem/blob/master/Drug_Recommendation_WeightedAvg.ipynb\" target=\"_parent\"><img src=\"https://colab.research.google.com/assets/colab-badge.svg\" alt=\"Open In Colab\"/></a>"
      ]
    },
    {
      "cell_type": "code",
      "metadata": {
        "id": "UMa8IqczI7FL",
        "colab_type": "code",
        "outputId": "121cdd7f-8726-41b6-bed1-02d94bc46bec",
        "colab": {
          "base_uri": "https://localhost:8080/",
          "height": 34
        }
      },
      "source": [
        "pip install vaderSentiment"
      ],
      "execution_count": 25,
      "outputs": [
        {
          "output_type": "stream",
          "text": [
            "Requirement already satisfied: vaderSentiment in /usr/local/lib/python3.6/dist-packages (3.3.1)\n"
          ],
          "name": "stdout"
        }
      ]
    },
    {
      "cell_type": "code",
      "metadata": {
        "id": "BcN4_WowkTik",
        "colab_type": "code",
        "colab": {}
      },
      "source": [
        "import pandas as pd \n",
        "import numpy as np\n",
        "import matplotlib.pyplot as plt\n",
        "from vaderSentiment.vaderSentiment import SentimentIntensityAnalyzer\n",
        "analyser = SentimentIntensityAnalyzer()"
      ],
      "execution_count": 0,
      "outputs": []
    },
    {
      "cell_type": "code",
      "metadata": {
        "id": "J3GaFNUcHoDM",
        "colab_type": "code",
        "outputId": "f97bf32b-ecc7-4cc2-84b0-caefabe79e2e",
        "colab": {
          "base_uri": "https://localhost:8080/",
          "height": 34
        }
      },
      "source": [
        "from google.colab import drive\n",
        "drive.mount(\"/content/drive\")"
      ],
      "execution_count": 27,
      "outputs": [
        {
          "output_type": "stream",
          "text": [
            "Drive already mounted at /content/drive; to attempt to forcibly remount, call drive.mount(\"/content/drive\", force_remount=True).\n"
          ],
          "name": "stdout"
        }
      ]
    },
    {
      "cell_type": "code",
      "metadata": {
        "id": "CoGLZxXNhboo",
        "colab_type": "code",
        "colab": {}
      },
      "source": [
        "merged_data = pd.read_csv('/content/drive/My Drive/gtdt/Merged_Dataset.csv')"
      ],
      "execution_count": 0,
      "outputs": []
    },
    {
      "cell_type": "code",
      "metadata": {
        "id": "iA_3luLWhsu2",
        "colab_type": "code",
        "outputId": "23c57fdc-60f0-403f-de0e-f2f7050503c9",
        "colab": {
          "base_uri": "https://localhost:8080/",
          "height": 195
        }
      },
      "source": [
        "merged_data.head()"
      ],
      "execution_count": 29,
      "outputs": [
        {
          "output_type": "execute_result",
          "data": {
            "text/html": [
              "<div>\n",
              "<style scoped>\n",
              "    .dataframe tbody tr th:only-of-type {\n",
              "        vertical-align: middle;\n",
              "    }\n",
              "\n",
              "    .dataframe tbody tr th {\n",
              "        vertical-align: top;\n",
              "    }\n",
              "\n",
              "    .dataframe thead th {\n",
              "        text-align: right;\n",
              "    }\n",
              "</style>\n",
              "<table border=\"1\" class=\"dataframe\">\n",
              "  <thead>\n",
              "    <tr style=\"text-align: right;\">\n",
              "      <th></th>\n",
              "      <th>Drug</th>\n",
              "      <th>Disease</th>\n",
              "      <th>Review</th>\n",
              "      <th>Rating</th>\n",
              "      <th>UsefulCount</th>\n",
              "      <th>Symptoms</th>\n",
              "    </tr>\n",
              "  </thead>\n",
              "  <tbody>\n",
              "    <tr>\n",
              "      <th>0</th>\n",
              "      <td>Aspirin</td>\n",
              "      <td>transient ischemic attack</td>\n",
              "      <td>\"No side effects,  easy to take, no more sympt...</td>\n",
              "      <td>10.0</td>\n",
              "      <td>10</td>\n",
              "      <td>['speech slurred', 'dysarthria', 'facial pares...</td>\n",
              "    </tr>\n",
              "    <tr>\n",
              "      <th>1</th>\n",
              "      <td>Clopidogrel</td>\n",
              "      <td>transient ischemic attack</td>\n",
              "      <td>\"I&amp;#039;ve been taking this medicine for a lit...</td>\n",
              "      <td>10.0</td>\n",
              "      <td>8</td>\n",
              "      <td>['speech slurred', 'dysarthria', 'facial pares...</td>\n",
              "    </tr>\n",
              "    <tr>\n",
              "      <th>2</th>\n",
              "      <td>Clopidogrel</td>\n",
              "      <td>transient ischemic attack</td>\n",
              "      <td>\"I took ibuprofen (2 caps at night for severe ...</td>\n",
              "      <td>6.0</td>\n",
              "      <td>13</td>\n",
              "      <td>['speech slurred', 'dysarthria', 'facial pares...</td>\n",
              "    </tr>\n",
              "    <tr>\n",
              "      <th>3</th>\n",
              "      <td>Clopidogrel</td>\n",
              "      <td>transient ischemic attack</td>\n",
              "      <td>\"After my VAD Stroke I am on plavix.  I have a...</td>\n",
              "      <td>5.0</td>\n",
              "      <td>9</td>\n",
              "      <td>['speech slurred', 'dysarthria', 'facial pares...</td>\n",
              "    </tr>\n",
              "    <tr>\n",
              "      <th>4</th>\n",
              "      <td>Bayer Children's Aspirin</td>\n",
              "      <td>transient ischemic attack</td>\n",
              "      <td>\"No side effects,  easy to take, no more sympt...</td>\n",
              "      <td>10.0</td>\n",
              "      <td>10</td>\n",
              "      <td>['speech slurred', 'dysarthria', 'facial pares...</td>\n",
              "    </tr>\n",
              "  </tbody>\n",
              "</table>\n",
              "</div>"
            ],
            "text/plain": [
              "                       Drug  ...                                           Symptoms\n",
              "0                   Aspirin  ...  ['speech slurred', 'dysarthria', 'facial pares...\n",
              "1               Clopidogrel  ...  ['speech slurred', 'dysarthria', 'facial pares...\n",
              "2               Clopidogrel  ...  ['speech slurred', 'dysarthria', 'facial pares...\n",
              "3               Clopidogrel  ...  ['speech slurred', 'dysarthria', 'facial pares...\n",
              "4  Bayer Children's Aspirin  ...  ['speech slurred', 'dysarthria', 'facial pares...\n",
              "\n",
              "[5 rows x 6 columns]"
            ]
          },
          "metadata": {
            "tags": []
          },
          "execution_count": 29
        }
      ]
    },
    {
      "cell_type": "code",
      "metadata": {
        "id": "Ak2yA2RoEumV",
        "colab_type": "code",
        "outputId": "cbc5a515-f9cd-4acb-fd62-9156bb25b66c",
        "colab": {
          "base_uri": "https://localhost:8080/",
          "height": 34
        }
      },
      "source": [
        "merged_data.shape"
      ],
      "execution_count": 30,
      "outputs": [
        {
          "output_type": "execute_result",
          "data": {
            "text/plain": [
              "(10060, 6)"
            ]
          },
          "metadata": {
            "tags": []
          },
          "execution_count": 30
        }
      ]
    },
    {
      "cell_type": "code",
      "metadata": {
        "id": "6O5Scggkh48g",
        "colab_type": "code",
        "colab": {}
      },
      "source": [
        "review_list = list(merged_data.Review)"
      ],
      "execution_count": 0,
      "outputs": []
    },
    {
      "cell_type": "markdown",
      "metadata": {
        "id": "rXTY2FwMO_jk",
        "colab_type": "text"
      },
      "source": [
        "**Sentiment analysis of drug reviews using the VADER tool.**"
      ]
    },
    {
      "cell_type": "code",
      "metadata": {
        "id": "SYQ-v49-O1wt",
        "colab_type": "code",
        "colab": {}
      },
      "source": [
        "sentiments = []\n",
        "positive = []\n",
        "negative = []\n",
        "neutral = []\n",
        "compound = []\n",
        "\n",
        "\n",
        "for text in review_list:\n",
        "\n",
        "  # Running Vader Analysis on each review\n",
        "  com = analyser.polarity_scores(text)[\"compound\"]\n",
        "  pos = analyser.polarity_scores(text)[\"pos\"]\n",
        "  neu = analyser.polarity_scores(text)[\"neu\"]\n",
        "  neg = analyser.polarity_scores(text)[\"neg\"]\n",
        "\n",
        "  # Adding each value to the corresponding array\n",
        "  positive.append(pos)\n",
        "  negative.append(neg)\n",
        "  neutral.append(neu)\n",
        "  compound.append(com)\n",
        "  sentiments.append({\"Review\":text,\n",
        "                     \"Positive\": pos,\n",
        "                     \"Negative\": neu,\n",
        "                     \"Neutral\": neg,\n",
        "                     \"Compound\": com})\n",
        "\n",
        "sentiments_pd = pd.DataFrame.from_dict(sentiments)"
      ],
      "execution_count": 0,
      "outputs": []
    },
    {
      "cell_type": "code",
      "metadata": {
        "id": "2KTiTBggS0WK",
        "colab_type": "code",
        "outputId": "867d5adc-5e8d-4e10-a144-181899dbe6a9",
        "colab": {
          "base_uri": "https://localhost:8080/",
          "height": 402
        }
      },
      "source": [
        "sentiments_pd"
      ],
      "execution_count": 33,
      "outputs": [
        {
          "output_type": "execute_result",
          "data": {
            "text/html": [
              "<div>\n",
              "<style scoped>\n",
              "    .dataframe tbody tr th:only-of-type {\n",
              "        vertical-align: middle;\n",
              "    }\n",
              "\n",
              "    .dataframe tbody tr th {\n",
              "        vertical-align: top;\n",
              "    }\n",
              "\n",
              "    .dataframe thead th {\n",
              "        text-align: right;\n",
              "    }\n",
              "</style>\n",
              "<table border=\"1\" class=\"dataframe\">\n",
              "  <thead>\n",
              "    <tr style=\"text-align: right;\">\n",
              "      <th></th>\n",
              "      <th>Review</th>\n",
              "      <th>Positive</th>\n",
              "      <th>Negative</th>\n",
              "      <th>Neutral</th>\n",
              "      <th>Compound</th>\n",
              "    </tr>\n",
              "  </thead>\n",
              "  <tbody>\n",
              "    <tr>\n",
              "      <th>0</th>\n",
              "      <td>\"No side effects,  easy to take, no more sympt...</td>\n",
              "      <td>0.206</td>\n",
              "      <td>0.638</td>\n",
              "      <td>0.156</td>\n",
              "      <td>0.1779</td>\n",
              "    </tr>\n",
              "    <tr>\n",
              "      <th>1</th>\n",
              "      <td>\"I&amp;#039;ve been taking this medicine for a lit...</td>\n",
              "      <td>0.098</td>\n",
              "      <td>0.762</td>\n",
              "      <td>0.140</td>\n",
              "      <td>-0.4092</td>\n",
              "    </tr>\n",
              "    <tr>\n",
              "      <th>2</th>\n",
              "      <td>\"I took ibuprofen (2 caps at night for severe ...</td>\n",
              "      <td>0.000</td>\n",
              "      <td>0.721</td>\n",
              "      <td>0.279</td>\n",
              "      <td>-0.8176</td>\n",
              "    </tr>\n",
              "    <tr>\n",
              "      <th>3</th>\n",
              "      <td>\"After my VAD Stroke I am on plavix.  I have a...</td>\n",
              "      <td>0.055</td>\n",
              "      <td>0.945</td>\n",
              "      <td>0.000</td>\n",
              "      <td>0.6757</td>\n",
              "    </tr>\n",
              "    <tr>\n",
              "      <th>4</th>\n",
              "      <td>\"No side effects,  easy to take, no more sympt...</td>\n",
              "      <td>0.206</td>\n",
              "      <td>0.638</td>\n",
              "      <td>0.156</td>\n",
              "      <td>0.1779</td>\n",
              "    </tr>\n",
              "    <tr>\n",
              "      <th>...</th>\n",
              "      <td>...</td>\n",
              "      <td>...</td>\n",
              "      <td>...</td>\n",
              "      <td>...</td>\n",
              "      <td>...</td>\n",
              "    </tr>\n",
              "    <tr>\n",
              "      <th>10055</th>\n",
              "      <td>\"Reminds me of Adderall but only a natural way...</td>\n",
              "      <td>0.081</td>\n",
              "      <td>0.919</td>\n",
              "      <td>0.000</td>\n",
              "      <td>0.5023</td>\n",
              "    </tr>\n",
              "    <tr>\n",
              "      <th>10056</th>\n",
              "      <td>\"My husband has Vascular Dementia for appox. 4...</td>\n",
              "      <td>0.177</td>\n",
              "      <td>0.674</td>\n",
              "      <td>0.149</td>\n",
              "      <td>0.3272</td>\n",
              "    </tr>\n",
              "    <tr>\n",
              "      <th>10057</th>\n",
              "      <td>\"I&amp;#039;ve only been using this medication (pa...</td>\n",
              "      <td>0.164</td>\n",
              "      <td>0.638</td>\n",
              "      <td>0.198</td>\n",
              "      <td>-0.1531</td>\n",
              "    </tr>\n",
              "    <tr>\n",
              "      <th>10058</th>\n",
              "      <td>\"Makes me feel ill.\"</td>\n",
              "      <td>0.000</td>\n",
              "      <td>0.517</td>\n",
              "      <td>0.483</td>\n",
              "      <td>-0.4215</td>\n",
              "    </tr>\n",
              "    <tr>\n",
              "      <th>10059</th>\n",
              "      <td>\"Trouble sleeping,stomach pain,headache,consti...</td>\n",
              "      <td>0.000</td>\n",
              "      <td>0.426</td>\n",
              "      <td>0.574</td>\n",
              "      <td>-0.4019</td>\n",
              "    </tr>\n",
              "  </tbody>\n",
              "</table>\n",
              "<p>10060 rows × 5 columns</p>\n",
              "</div>"
            ],
            "text/plain": [
              "                                                  Review  ...  Compound\n",
              "0      \"No side effects,  easy to take, no more sympt...  ...    0.1779\n",
              "1      \"I&#039;ve been taking this medicine for a lit...  ...   -0.4092\n",
              "2      \"I took ibuprofen (2 caps at night for severe ...  ...   -0.8176\n",
              "3      \"After my VAD Stroke I am on plavix.  I have a...  ...    0.6757\n",
              "4      \"No side effects,  easy to take, no more sympt...  ...    0.1779\n",
              "...                                                  ...  ...       ...\n",
              "10055  \"Reminds me of Adderall but only a natural way...  ...    0.5023\n",
              "10056  \"My husband has Vascular Dementia for appox. 4...  ...    0.3272\n",
              "10057  \"I&#039;ve only been using this medication (pa...  ...   -0.1531\n",
              "10058                               \"Makes me feel ill.\"  ...   -0.4215\n",
              "10059  \"Trouble sleeping,stomach pain,headache,consti...  ...   -0.4019\n",
              "\n",
              "[10060 rows x 5 columns]"
            ]
          },
          "metadata": {
            "tags": []
          },
          "execution_count": 33
        }
      ]
    },
    {
      "cell_type": "code",
      "metadata": {
        "id": "WMj22cwVK2il",
        "colab_type": "code",
        "outputId": "b955fc3c-624f-4539-ad47-b95199f8440d",
        "colab": {
          "base_uri": "https://localhost:8080/",
          "height": 402
        }
      },
      "source": [
        "merged_data"
      ],
      "execution_count": 34,
      "outputs": [
        {
          "output_type": "execute_result",
          "data": {
            "text/html": [
              "<div>\n",
              "<style scoped>\n",
              "    .dataframe tbody tr th:only-of-type {\n",
              "        vertical-align: middle;\n",
              "    }\n",
              "\n",
              "    .dataframe tbody tr th {\n",
              "        vertical-align: top;\n",
              "    }\n",
              "\n",
              "    .dataframe thead th {\n",
              "        text-align: right;\n",
              "    }\n",
              "</style>\n",
              "<table border=\"1\" class=\"dataframe\">\n",
              "  <thead>\n",
              "    <tr style=\"text-align: right;\">\n",
              "      <th></th>\n",
              "      <th>Drug</th>\n",
              "      <th>Disease</th>\n",
              "      <th>Review</th>\n",
              "      <th>Rating</th>\n",
              "      <th>UsefulCount</th>\n",
              "      <th>Symptoms</th>\n",
              "    </tr>\n",
              "  </thead>\n",
              "  <tbody>\n",
              "    <tr>\n",
              "      <th>0</th>\n",
              "      <td>Aspirin</td>\n",
              "      <td>transient ischemic attack</td>\n",
              "      <td>\"No side effects,  easy to take, no more sympt...</td>\n",
              "      <td>10.0</td>\n",
              "      <td>10</td>\n",
              "      <td>['speech slurred', 'dysarthria', 'facial pares...</td>\n",
              "    </tr>\n",
              "    <tr>\n",
              "      <th>1</th>\n",
              "      <td>Clopidogrel</td>\n",
              "      <td>transient ischemic attack</td>\n",
              "      <td>\"I&amp;#039;ve been taking this medicine for a lit...</td>\n",
              "      <td>10.0</td>\n",
              "      <td>8</td>\n",
              "      <td>['speech slurred', 'dysarthria', 'facial pares...</td>\n",
              "    </tr>\n",
              "    <tr>\n",
              "      <th>2</th>\n",
              "      <td>Clopidogrel</td>\n",
              "      <td>transient ischemic attack</td>\n",
              "      <td>\"I took ibuprofen (2 caps at night for severe ...</td>\n",
              "      <td>6.0</td>\n",
              "      <td>13</td>\n",
              "      <td>['speech slurred', 'dysarthria', 'facial pares...</td>\n",
              "    </tr>\n",
              "    <tr>\n",
              "      <th>3</th>\n",
              "      <td>Clopidogrel</td>\n",
              "      <td>transient ischemic attack</td>\n",
              "      <td>\"After my VAD Stroke I am on plavix.  I have a...</td>\n",
              "      <td>5.0</td>\n",
              "      <td>9</td>\n",
              "      <td>['speech slurred', 'dysarthria', 'facial pares...</td>\n",
              "    </tr>\n",
              "    <tr>\n",
              "      <th>4</th>\n",
              "      <td>Bayer Children's Aspirin</td>\n",
              "      <td>transient ischemic attack</td>\n",
              "      <td>\"No side effects,  easy to take, no more sympt...</td>\n",
              "      <td>10.0</td>\n",
              "      <td>10</td>\n",
              "      <td>['speech slurred', 'dysarthria', 'facial pares...</td>\n",
              "    </tr>\n",
              "    <tr>\n",
              "      <th>...</th>\n",
              "      <td>...</td>\n",
              "      <td>...</td>\n",
              "      <td>...</td>\n",
              "      <td>...</td>\n",
              "      <td>...</td>\n",
              "      <td>...</td>\n",
              "    </tr>\n",
              "    <tr>\n",
              "      <th>10055</th>\n",
              "      <td>Galantamine</td>\n",
              "      <td>alzheimer's disease</td>\n",
              "      <td>\"Reminds me of Adderall but only a natural way...</td>\n",
              "      <td>10.0</td>\n",
              "      <td>7</td>\n",
              "      <td>['drool', 'agitation', 'nightmare', 'rhonchus'...</td>\n",
              "    </tr>\n",
              "    <tr>\n",
              "      <th>10056</th>\n",
              "      <td>Memantine</td>\n",
              "      <td>alzheimer's disease</td>\n",
              "      <td>\"My husband has Vascular Dementia for appox. 4...</td>\n",
              "      <td>1.0</td>\n",
              "      <td>11</td>\n",
              "      <td>['drool', 'agitation', 'nightmare', 'rhonchus'...</td>\n",
              "    </tr>\n",
              "    <tr>\n",
              "      <th>10057</th>\n",
              "      <td>Exelon</td>\n",
              "      <td>alzheimer's disease</td>\n",
              "      <td>\"I&amp;#039;ve only been using this medication (pa...</td>\n",
              "      <td>9.0</td>\n",
              "      <td>100</td>\n",
              "      <td>['drool', 'agitation', 'nightmare', 'rhonchus'...</td>\n",
              "    </tr>\n",
              "    <tr>\n",
              "      <th>10058</th>\n",
              "      <td>Donepezil</td>\n",
              "      <td>alzheimer's disease</td>\n",
              "      <td>\"Makes me feel ill.\"</td>\n",
              "      <td>3.0</td>\n",
              "      <td>2</td>\n",
              "      <td>['drool', 'agitation', 'nightmare', 'rhonchus'...</td>\n",
              "    </tr>\n",
              "    <tr>\n",
              "      <th>10059</th>\n",
              "      <td>Aricept</td>\n",
              "      <td>alzheimer's disease</td>\n",
              "      <td>\"Trouble sleeping,stomach pain,headache,consti...</td>\n",
              "      <td>1.0</td>\n",
              "      <td>47</td>\n",
              "      <td>['drool', 'agitation', 'nightmare', 'rhonchus'...</td>\n",
              "    </tr>\n",
              "  </tbody>\n",
              "</table>\n",
              "<p>10060 rows × 6 columns</p>\n",
              "</div>"
            ],
            "text/plain": [
              "                           Drug  ...                                           Symptoms\n",
              "0                       Aspirin  ...  ['speech slurred', 'dysarthria', 'facial pares...\n",
              "1                   Clopidogrel  ...  ['speech slurred', 'dysarthria', 'facial pares...\n",
              "2                   Clopidogrel  ...  ['speech slurred', 'dysarthria', 'facial pares...\n",
              "3                   Clopidogrel  ...  ['speech slurred', 'dysarthria', 'facial pares...\n",
              "4      Bayer Children's Aspirin  ...  ['speech slurred', 'dysarthria', 'facial pares...\n",
              "...                         ...  ...                                                ...\n",
              "10055               Galantamine  ...  ['drool', 'agitation', 'nightmare', 'rhonchus'...\n",
              "10056                 Memantine  ...  ['drool', 'agitation', 'nightmare', 'rhonchus'...\n",
              "10057                    Exelon  ...  ['drool', 'agitation', 'nightmare', 'rhonchus'...\n",
              "10058                 Donepezil  ...  ['drool', 'agitation', 'nightmare', 'rhonchus'...\n",
              "10059                   Aricept  ...  ['drool', 'agitation', 'nightmare', 'rhonchus'...\n",
              "\n",
              "[10060 rows x 6 columns]"
            ]
          },
          "metadata": {
            "tags": []
          },
          "execution_count": 34
        }
      ]
    },
    {
      "cell_type": "code",
      "metadata": {
        "id": "kf7jyIMpnacU",
        "colab_type": "code",
        "colab": {}
      },
      "source": [
        "#Adding the sentiment analysis columns to the merged dataset.\n",
        "merged_data[\"Positive\"] = positive\n",
        "merged_data[\"Negative\"] = negative\n",
        "merged_data[\"Neutral\"] = neutral\n",
        "merged_data[\"Compound\"] = compound\n",
        "merged_data[\"Review_Sentiment\"] = ''"
      ],
      "execution_count": 0,
      "outputs": []
    },
    {
      "cell_type": "code",
      "metadata": {
        "id": "lN_zXtlRLJUD",
        "colab_type": "code",
        "outputId": "3b6851fa-692f-4f52-a700-a35b9d2ec5eb",
        "colab": {
          "base_uri": "https://localhost:8080/",
          "height": 279
        }
      },
      "source": [
        "merged_data.head()"
      ],
      "execution_count": 36,
      "outputs": [
        {
          "output_type": "execute_result",
          "data": {
            "text/html": [
              "<div>\n",
              "<style scoped>\n",
              "    .dataframe tbody tr th:only-of-type {\n",
              "        vertical-align: middle;\n",
              "    }\n",
              "\n",
              "    .dataframe tbody tr th {\n",
              "        vertical-align: top;\n",
              "    }\n",
              "\n",
              "    .dataframe thead th {\n",
              "        text-align: right;\n",
              "    }\n",
              "</style>\n",
              "<table border=\"1\" class=\"dataframe\">\n",
              "  <thead>\n",
              "    <tr style=\"text-align: right;\">\n",
              "      <th></th>\n",
              "      <th>Drug</th>\n",
              "      <th>Disease</th>\n",
              "      <th>Review</th>\n",
              "      <th>Rating</th>\n",
              "      <th>UsefulCount</th>\n",
              "      <th>Symptoms</th>\n",
              "      <th>Positive</th>\n",
              "      <th>Negative</th>\n",
              "      <th>Neutral</th>\n",
              "      <th>Compound</th>\n",
              "      <th>Review_Sentiment</th>\n",
              "    </tr>\n",
              "  </thead>\n",
              "  <tbody>\n",
              "    <tr>\n",
              "      <th>0</th>\n",
              "      <td>Aspirin</td>\n",
              "      <td>transient ischemic attack</td>\n",
              "      <td>\"No side effects,  easy to take, no more sympt...</td>\n",
              "      <td>10.0</td>\n",
              "      <td>10</td>\n",
              "      <td>['speech slurred', 'dysarthria', 'facial pares...</td>\n",
              "      <td>0.206</td>\n",
              "      <td>0.156</td>\n",
              "      <td>0.638</td>\n",
              "      <td>0.1779</td>\n",
              "      <td></td>\n",
              "    </tr>\n",
              "    <tr>\n",
              "      <th>1</th>\n",
              "      <td>Clopidogrel</td>\n",
              "      <td>transient ischemic attack</td>\n",
              "      <td>\"I&amp;#039;ve been taking this medicine for a lit...</td>\n",
              "      <td>10.0</td>\n",
              "      <td>8</td>\n",
              "      <td>['speech slurred', 'dysarthria', 'facial pares...</td>\n",
              "      <td>0.098</td>\n",
              "      <td>0.140</td>\n",
              "      <td>0.762</td>\n",
              "      <td>-0.4092</td>\n",
              "      <td></td>\n",
              "    </tr>\n",
              "    <tr>\n",
              "      <th>2</th>\n",
              "      <td>Clopidogrel</td>\n",
              "      <td>transient ischemic attack</td>\n",
              "      <td>\"I took ibuprofen (2 caps at night for severe ...</td>\n",
              "      <td>6.0</td>\n",
              "      <td>13</td>\n",
              "      <td>['speech slurred', 'dysarthria', 'facial pares...</td>\n",
              "      <td>0.000</td>\n",
              "      <td>0.279</td>\n",
              "      <td>0.721</td>\n",
              "      <td>-0.8176</td>\n",
              "      <td></td>\n",
              "    </tr>\n",
              "    <tr>\n",
              "      <th>3</th>\n",
              "      <td>Clopidogrel</td>\n",
              "      <td>transient ischemic attack</td>\n",
              "      <td>\"After my VAD Stroke I am on plavix.  I have a...</td>\n",
              "      <td>5.0</td>\n",
              "      <td>9</td>\n",
              "      <td>['speech slurred', 'dysarthria', 'facial pares...</td>\n",
              "      <td>0.055</td>\n",
              "      <td>0.000</td>\n",
              "      <td>0.945</td>\n",
              "      <td>0.6757</td>\n",
              "      <td></td>\n",
              "    </tr>\n",
              "    <tr>\n",
              "      <th>4</th>\n",
              "      <td>Bayer Children's Aspirin</td>\n",
              "      <td>transient ischemic attack</td>\n",
              "      <td>\"No side effects,  easy to take, no more sympt...</td>\n",
              "      <td>10.0</td>\n",
              "      <td>10</td>\n",
              "      <td>['speech slurred', 'dysarthria', 'facial pares...</td>\n",
              "      <td>0.206</td>\n",
              "      <td>0.156</td>\n",
              "      <td>0.638</td>\n",
              "      <td>0.1779</td>\n",
              "      <td></td>\n",
              "    </tr>\n",
              "  </tbody>\n",
              "</table>\n",
              "</div>"
            ],
            "text/plain": [
              "                       Drug  ... Review_Sentiment\n",
              "0                   Aspirin  ...                 \n",
              "1               Clopidogrel  ...                 \n",
              "2               Clopidogrel  ...                 \n",
              "3               Clopidogrel  ...                 \n",
              "4  Bayer Children's Aspirin  ...                 \n",
              "\n",
              "[5 rows x 11 columns]"
            ]
          },
          "metadata": {
            "tags": []
          },
          "execution_count": 36
        }
      ]
    },
    {
      "cell_type": "markdown",
      "metadata": {
        "id": "EaCMvfLylipJ",
        "colab_type": "text"
      },
      "source": [
        "Based on the compound value we can determine whether the overall sentiment of the review is postive, negative or neutral.\n",
        "Below will be the threshold we shall be using for classifying the review sentiment class:\n",
        "1. Positive: compound score >= 0.05\n",
        "2. Neutral : -0.05 < compound score < 0.05\n",
        "3. Negative: compound score <= -0.05"
      ]
    },
    {
      "cell_type": "code",
      "metadata": {
        "id": "7k7vAlWjUsRf",
        "colab_type": "code",
        "colab": {}
      },
      "source": [
        "merged_data.loc[merged_data['Compound'] >= 0.05, 'Review_Sentiment'] = 'Positive'\n",
        "merged_data.loc[merged_data['Compound'] <= -0.05, 'Review_Sentiment'] = 'Negative'"
      ],
      "execution_count": 0,
      "outputs": []
    },
    {
      "cell_type": "code",
      "metadata": {
        "id": "uaVsUsIl6x7o",
        "colab_type": "code",
        "outputId": "1d2e1f93-2386-4446-8161-3ea60d5bb0f7",
        "colab": {
          "base_uri": "https://localhost:8080/",
          "height": 570
        }
      },
      "source": [
        "merged_data"
      ],
      "execution_count": 38,
      "outputs": [
        {
          "output_type": "execute_result",
          "data": {
            "text/html": [
              "<div>\n",
              "<style scoped>\n",
              "    .dataframe tbody tr th:only-of-type {\n",
              "        vertical-align: middle;\n",
              "    }\n",
              "\n",
              "    .dataframe tbody tr th {\n",
              "        vertical-align: top;\n",
              "    }\n",
              "\n",
              "    .dataframe thead th {\n",
              "        text-align: right;\n",
              "    }\n",
              "</style>\n",
              "<table border=\"1\" class=\"dataframe\">\n",
              "  <thead>\n",
              "    <tr style=\"text-align: right;\">\n",
              "      <th></th>\n",
              "      <th>Drug</th>\n",
              "      <th>Disease</th>\n",
              "      <th>Review</th>\n",
              "      <th>Rating</th>\n",
              "      <th>UsefulCount</th>\n",
              "      <th>Symptoms</th>\n",
              "      <th>Positive</th>\n",
              "      <th>Negative</th>\n",
              "      <th>Neutral</th>\n",
              "      <th>Compound</th>\n",
              "      <th>Review_Sentiment</th>\n",
              "    </tr>\n",
              "  </thead>\n",
              "  <tbody>\n",
              "    <tr>\n",
              "      <th>0</th>\n",
              "      <td>Aspirin</td>\n",
              "      <td>transient ischemic attack</td>\n",
              "      <td>\"No side effects,  easy to take, no more sympt...</td>\n",
              "      <td>10.0</td>\n",
              "      <td>10</td>\n",
              "      <td>['speech slurred', 'dysarthria', 'facial pares...</td>\n",
              "      <td>0.206</td>\n",
              "      <td>0.156</td>\n",
              "      <td>0.638</td>\n",
              "      <td>0.1779</td>\n",
              "      <td>Positive</td>\n",
              "    </tr>\n",
              "    <tr>\n",
              "      <th>1</th>\n",
              "      <td>Clopidogrel</td>\n",
              "      <td>transient ischemic attack</td>\n",
              "      <td>\"I&amp;#039;ve been taking this medicine for a lit...</td>\n",
              "      <td>10.0</td>\n",
              "      <td>8</td>\n",
              "      <td>['speech slurred', 'dysarthria', 'facial pares...</td>\n",
              "      <td>0.098</td>\n",
              "      <td>0.140</td>\n",
              "      <td>0.762</td>\n",
              "      <td>-0.4092</td>\n",
              "      <td>Negative</td>\n",
              "    </tr>\n",
              "    <tr>\n",
              "      <th>2</th>\n",
              "      <td>Clopidogrel</td>\n",
              "      <td>transient ischemic attack</td>\n",
              "      <td>\"I took ibuprofen (2 caps at night for severe ...</td>\n",
              "      <td>6.0</td>\n",
              "      <td>13</td>\n",
              "      <td>['speech slurred', 'dysarthria', 'facial pares...</td>\n",
              "      <td>0.000</td>\n",
              "      <td>0.279</td>\n",
              "      <td>0.721</td>\n",
              "      <td>-0.8176</td>\n",
              "      <td>Negative</td>\n",
              "    </tr>\n",
              "    <tr>\n",
              "      <th>3</th>\n",
              "      <td>Clopidogrel</td>\n",
              "      <td>transient ischemic attack</td>\n",
              "      <td>\"After my VAD Stroke I am on plavix.  I have a...</td>\n",
              "      <td>5.0</td>\n",
              "      <td>9</td>\n",
              "      <td>['speech slurred', 'dysarthria', 'facial pares...</td>\n",
              "      <td>0.055</td>\n",
              "      <td>0.000</td>\n",
              "      <td>0.945</td>\n",
              "      <td>0.6757</td>\n",
              "      <td>Positive</td>\n",
              "    </tr>\n",
              "    <tr>\n",
              "      <th>4</th>\n",
              "      <td>Bayer Children's Aspirin</td>\n",
              "      <td>transient ischemic attack</td>\n",
              "      <td>\"No side effects,  easy to take, no more sympt...</td>\n",
              "      <td>10.0</td>\n",
              "      <td>10</td>\n",
              "      <td>['speech slurred', 'dysarthria', 'facial pares...</td>\n",
              "      <td>0.206</td>\n",
              "      <td>0.156</td>\n",
              "      <td>0.638</td>\n",
              "      <td>0.1779</td>\n",
              "      <td>Positive</td>\n",
              "    </tr>\n",
              "    <tr>\n",
              "      <th>...</th>\n",
              "      <td>...</td>\n",
              "      <td>...</td>\n",
              "      <td>...</td>\n",
              "      <td>...</td>\n",
              "      <td>...</td>\n",
              "      <td>...</td>\n",
              "      <td>...</td>\n",
              "      <td>...</td>\n",
              "      <td>...</td>\n",
              "      <td>...</td>\n",
              "      <td>...</td>\n",
              "    </tr>\n",
              "    <tr>\n",
              "      <th>10055</th>\n",
              "      <td>Galantamine</td>\n",
              "      <td>alzheimer's disease</td>\n",
              "      <td>\"Reminds me of Adderall but only a natural way...</td>\n",
              "      <td>10.0</td>\n",
              "      <td>7</td>\n",
              "      <td>['drool', 'agitation', 'nightmare', 'rhonchus'...</td>\n",
              "      <td>0.081</td>\n",
              "      <td>0.000</td>\n",
              "      <td>0.919</td>\n",
              "      <td>0.5023</td>\n",
              "      <td>Positive</td>\n",
              "    </tr>\n",
              "    <tr>\n",
              "      <th>10056</th>\n",
              "      <td>Memantine</td>\n",
              "      <td>alzheimer's disease</td>\n",
              "      <td>\"My husband has Vascular Dementia for appox. 4...</td>\n",
              "      <td>1.0</td>\n",
              "      <td>11</td>\n",
              "      <td>['drool', 'agitation', 'nightmare', 'rhonchus'...</td>\n",
              "      <td>0.177</td>\n",
              "      <td>0.149</td>\n",
              "      <td>0.674</td>\n",
              "      <td>0.3272</td>\n",
              "      <td>Positive</td>\n",
              "    </tr>\n",
              "    <tr>\n",
              "      <th>10057</th>\n",
              "      <td>Exelon</td>\n",
              "      <td>alzheimer's disease</td>\n",
              "      <td>\"I&amp;#039;ve only been using this medication (pa...</td>\n",
              "      <td>9.0</td>\n",
              "      <td>100</td>\n",
              "      <td>['drool', 'agitation', 'nightmare', 'rhonchus'...</td>\n",
              "      <td>0.164</td>\n",
              "      <td>0.198</td>\n",
              "      <td>0.638</td>\n",
              "      <td>-0.1531</td>\n",
              "      <td>Negative</td>\n",
              "    </tr>\n",
              "    <tr>\n",
              "      <th>10058</th>\n",
              "      <td>Donepezil</td>\n",
              "      <td>alzheimer's disease</td>\n",
              "      <td>\"Makes me feel ill.\"</td>\n",
              "      <td>3.0</td>\n",
              "      <td>2</td>\n",
              "      <td>['drool', 'agitation', 'nightmare', 'rhonchus'...</td>\n",
              "      <td>0.000</td>\n",
              "      <td>0.483</td>\n",
              "      <td>0.517</td>\n",
              "      <td>-0.4215</td>\n",
              "      <td>Negative</td>\n",
              "    </tr>\n",
              "    <tr>\n",
              "      <th>10059</th>\n",
              "      <td>Aricept</td>\n",
              "      <td>alzheimer's disease</td>\n",
              "      <td>\"Trouble sleeping,stomach pain,headache,consti...</td>\n",
              "      <td>1.0</td>\n",
              "      <td>47</td>\n",
              "      <td>['drool', 'agitation', 'nightmare', 'rhonchus'...</td>\n",
              "      <td>0.000</td>\n",
              "      <td>0.574</td>\n",
              "      <td>0.426</td>\n",
              "      <td>-0.4019</td>\n",
              "      <td>Negative</td>\n",
              "    </tr>\n",
              "  </tbody>\n",
              "</table>\n",
              "<p>10060 rows × 11 columns</p>\n",
              "</div>"
            ],
            "text/plain": [
              "                           Drug  ... Review_Sentiment\n",
              "0                       Aspirin  ...         Positive\n",
              "1                   Clopidogrel  ...         Negative\n",
              "2                   Clopidogrel  ...         Negative\n",
              "3                   Clopidogrel  ...         Positive\n",
              "4      Bayer Children's Aspirin  ...         Positive\n",
              "...                         ...  ...              ...\n",
              "10055               Galantamine  ...         Positive\n",
              "10056                 Memantine  ...         Positive\n",
              "10057                    Exelon  ...         Negative\n",
              "10058                 Donepezil  ...         Negative\n",
              "10059                   Aricept  ...         Negative\n",
              "\n",
              "[10060 rows x 11 columns]"
            ]
          },
          "metadata": {
            "tags": []
          },
          "execution_count": 38
        }
      ]
    },
    {
      "cell_type": "code",
      "metadata": {
        "id": "yrzfs7847DXu",
        "colab_type": "code",
        "colab": {}
      },
      "source": [
        "merged_data[\"Review_Sentiment\"].replace('', 'Neutral', inplace = True)"
      ],
      "execution_count": 0,
      "outputs": []
    },
    {
      "cell_type": "code",
      "metadata": {
        "id": "4i-D6XaGCjfI",
        "colab_type": "code",
        "colab": {}
      },
      "source": [
        "#Dropping positive, negative, neutral and compound columns.\n",
        "merged_data = merged_data.drop(columns = [\"Positive\", \"Negative\", \"Neutral\", \"Compound\"])"
      ],
      "execution_count": 0,
      "outputs": []
    },
    {
      "cell_type": "code",
      "metadata": {
        "id": "_MceMoY4Cp_v",
        "colab_type": "code",
        "outputId": "b995de89-5ea3-4e58-9e1b-160fefc0dcfe",
        "colab": {
          "base_uri": "https://localhost:8080/",
          "height": 34
        }
      },
      "source": [
        "merged_data.shape"
      ],
      "execution_count": 41,
      "outputs": [
        {
          "output_type": "execute_result",
          "data": {
            "text/plain": [
              "(10060, 7)"
            ]
          },
          "metadata": {
            "tags": []
          },
          "execution_count": 41
        }
      ]
    },
    {
      "cell_type": "code",
      "metadata": {
        "id": "sR1pW0_YEr_M",
        "colab_type": "code",
        "outputId": "2902f4cd-8a4c-4812-8489-0f42a4ecb4ab",
        "colab": {
          "base_uri": "https://localhost:8080/",
          "height": 195
        }
      },
      "source": [
        "merged_data.head()"
      ],
      "execution_count": 42,
      "outputs": [
        {
          "output_type": "execute_result",
          "data": {
            "text/html": [
              "<div>\n",
              "<style scoped>\n",
              "    .dataframe tbody tr th:only-of-type {\n",
              "        vertical-align: middle;\n",
              "    }\n",
              "\n",
              "    .dataframe tbody tr th {\n",
              "        vertical-align: top;\n",
              "    }\n",
              "\n",
              "    .dataframe thead th {\n",
              "        text-align: right;\n",
              "    }\n",
              "</style>\n",
              "<table border=\"1\" class=\"dataframe\">\n",
              "  <thead>\n",
              "    <tr style=\"text-align: right;\">\n",
              "      <th></th>\n",
              "      <th>Drug</th>\n",
              "      <th>Disease</th>\n",
              "      <th>Review</th>\n",
              "      <th>Rating</th>\n",
              "      <th>UsefulCount</th>\n",
              "      <th>Symptoms</th>\n",
              "      <th>Review_Sentiment</th>\n",
              "    </tr>\n",
              "  </thead>\n",
              "  <tbody>\n",
              "    <tr>\n",
              "      <th>0</th>\n",
              "      <td>Aspirin</td>\n",
              "      <td>transient ischemic attack</td>\n",
              "      <td>\"No side effects,  easy to take, no more sympt...</td>\n",
              "      <td>10.0</td>\n",
              "      <td>10</td>\n",
              "      <td>['speech slurred', 'dysarthria', 'facial pares...</td>\n",
              "      <td>Positive</td>\n",
              "    </tr>\n",
              "    <tr>\n",
              "      <th>1</th>\n",
              "      <td>Clopidogrel</td>\n",
              "      <td>transient ischemic attack</td>\n",
              "      <td>\"I&amp;#039;ve been taking this medicine for a lit...</td>\n",
              "      <td>10.0</td>\n",
              "      <td>8</td>\n",
              "      <td>['speech slurred', 'dysarthria', 'facial pares...</td>\n",
              "      <td>Negative</td>\n",
              "    </tr>\n",
              "    <tr>\n",
              "      <th>2</th>\n",
              "      <td>Clopidogrel</td>\n",
              "      <td>transient ischemic attack</td>\n",
              "      <td>\"I took ibuprofen (2 caps at night for severe ...</td>\n",
              "      <td>6.0</td>\n",
              "      <td>13</td>\n",
              "      <td>['speech slurred', 'dysarthria', 'facial pares...</td>\n",
              "      <td>Negative</td>\n",
              "    </tr>\n",
              "    <tr>\n",
              "      <th>3</th>\n",
              "      <td>Clopidogrel</td>\n",
              "      <td>transient ischemic attack</td>\n",
              "      <td>\"After my VAD Stroke I am on plavix.  I have a...</td>\n",
              "      <td>5.0</td>\n",
              "      <td>9</td>\n",
              "      <td>['speech slurred', 'dysarthria', 'facial pares...</td>\n",
              "      <td>Positive</td>\n",
              "    </tr>\n",
              "    <tr>\n",
              "      <th>4</th>\n",
              "      <td>Bayer Children's Aspirin</td>\n",
              "      <td>transient ischemic attack</td>\n",
              "      <td>\"No side effects,  easy to take, no more sympt...</td>\n",
              "      <td>10.0</td>\n",
              "      <td>10</td>\n",
              "      <td>['speech slurred', 'dysarthria', 'facial pares...</td>\n",
              "      <td>Positive</td>\n",
              "    </tr>\n",
              "  </tbody>\n",
              "</table>\n",
              "</div>"
            ],
            "text/plain": [
              "                       Drug  ... Review_Sentiment\n",
              "0                   Aspirin  ...         Positive\n",
              "1               Clopidogrel  ...         Negative\n",
              "2               Clopidogrel  ...         Negative\n",
              "3               Clopidogrel  ...         Positive\n",
              "4  Bayer Children's Aspirin  ...         Positive\n",
              "\n",
              "[5 rows x 7 columns]"
            ]
          },
          "metadata": {
            "tags": []
          },
          "execution_count": 42
        }
      ]
    },
    {
      "cell_type": "code",
      "metadata": {
        "id": "cjNtob87MVZx",
        "colab_type": "code",
        "colab": {}
      },
      "source": [
        "merged_data = merged_data[[\"Disease\", \"Drug\", \"Symptoms\", \"Review\", \"Review_Sentiment\", \"Rating\", \"UsefulCount\"]]"
      ],
      "execution_count": 0,
      "outputs": []
    },
    {
      "cell_type": "code",
      "metadata": {
        "id": "vc11jNaCNAx1",
        "colab_type": "code",
        "outputId": "ed44e5ef-33aa-457c-a3fb-3e02ee5bef83",
        "colab": {
          "base_uri": "https://localhost:8080/",
          "height": 402
        }
      },
      "source": [
        "merged_data"
      ],
      "execution_count": 44,
      "outputs": [
        {
          "output_type": "execute_result",
          "data": {
            "text/html": [
              "<div>\n",
              "<style scoped>\n",
              "    .dataframe tbody tr th:only-of-type {\n",
              "        vertical-align: middle;\n",
              "    }\n",
              "\n",
              "    .dataframe tbody tr th {\n",
              "        vertical-align: top;\n",
              "    }\n",
              "\n",
              "    .dataframe thead th {\n",
              "        text-align: right;\n",
              "    }\n",
              "</style>\n",
              "<table border=\"1\" class=\"dataframe\">\n",
              "  <thead>\n",
              "    <tr style=\"text-align: right;\">\n",
              "      <th></th>\n",
              "      <th>Disease</th>\n",
              "      <th>Drug</th>\n",
              "      <th>Symptoms</th>\n",
              "      <th>Review</th>\n",
              "      <th>Review_Sentiment</th>\n",
              "      <th>Rating</th>\n",
              "      <th>UsefulCount</th>\n",
              "    </tr>\n",
              "  </thead>\n",
              "  <tbody>\n",
              "    <tr>\n",
              "      <th>0</th>\n",
              "      <td>transient ischemic attack</td>\n",
              "      <td>Aspirin</td>\n",
              "      <td>['speech slurred', 'dysarthria', 'facial pares...</td>\n",
              "      <td>\"No side effects,  easy to take, no more sympt...</td>\n",
              "      <td>Positive</td>\n",
              "      <td>10.0</td>\n",
              "      <td>10</td>\n",
              "    </tr>\n",
              "    <tr>\n",
              "      <th>1</th>\n",
              "      <td>transient ischemic attack</td>\n",
              "      <td>Clopidogrel</td>\n",
              "      <td>['speech slurred', 'dysarthria', 'facial pares...</td>\n",
              "      <td>\"I&amp;#039;ve been taking this medicine for a lit...</td>\n",
              "      <td>Negative</td>\n",
              "      <td>10.0</td>\n",
              "      <td>8</td>\n",
              "    </tr>\n",
              "    <tr>\n",
              "      <th>2</th>\n",
              "      <td>transient ischemic attack</td>\n",
              "      <td>Clopidogrel</td>\n",
              "      <td>['speech slurred', 'dysarthria', 'facial pares...</td>\n",
              "      <td>\"I took ibuprofen (2 caps at night for severe ...</td>\n",
              "      <td>Negative</td>\n",
              "      <td>6.0</td>\n",
              "      <td>13</td>\n",
              "    </tr>\n",
              "    <tr>\n",
              "      <th>3</th>\n",
              "      <td>transient ischemic attack</td>\n",
              "      <td>Clopidogrel</td>\n",
              "      <td>['speech slurred', 'dysarthria', 'facial pares...</td>\n",
              "      <td>\"After my VAD Stroke I am on plavix.  I have a...</td>\n",
              "      <td>Positive</td>\n",
              "      <td>5.0</td>\n",
              "      <td>9</td>\n",
              "    </tr>\n",
              "    <tr>\n",
              "      <th>4</th>\n",
              "      <td>transient ischemic attack</td>\n",
              "      <td>Bayer Children's Aspirin</td>\n",
              "      <td>['speech slurred', 'dysarthria', 'facial pares...</td>\n",
              "      <td>\"No side effects,  easy to take, no more sympt...</td>\n",
              "      <td>Positive</td>\n",
              "      <td>10.0</td>\n",
              "      <td>10</td>\n",
              "    </tr>\n",
              "    <tr>\n",
              "      <th>...</th>\n",
              "      <td>...</td>\n",
              "      <td>...</td>\n",
              "      <td>...</td>\n",
              "      <td>...</td>\n",
              "      <td>...</td>\n",
              "      <td>...</td>\n",
              "      <td>...</td>\n",
              "    </tr>\n",
              "    <tr>\n",
              "      <th>10055</th>\n",
              "      <td>alzheimer's disease</td>\n",
              "      <td>Galantamine</td>\n",
              "      <td>['drool', 'agitation', 'nightmare', 'rhonchus'...</td>\n",
              "      <td>\"Reminds me of Adderall but only a natural way...</td>\n",
              "      <td>Positive</td>\n",
              "      <td>10.0</td>\n",
              "      <td>7</td>\n",
              "    </tr>\n",
              "    <tr>\n",
              "      <th>10056</th>\n",
              "      <td>alzheimer's disease</td>\n",
              "      <td>Memantine</td>\n",
              "      <td>['drool', 'agitation', 'nightmare', 'rhonchus'...</td>\n",
              "      <td>\"My husband has Vascular Dementia for appox. 4...</td>\n",
              "      <td>Positive</td>\n",
              "      <td>1.0</td>\n",
              "      <td>11</td>\n",
              "    </tr>\n",
              "    <tr>\n",
              "      <th>10057</th>\n",
              "      <td>alzheimer's disease</td>\n",
              "      <td>Exelon</td>\n",
              "      <td>['drool', 'agitation', 'nightmare', 'rhonchus'...</td>\n",
              "      <td>\"I&amp;#039;ve only been using this medication (pa...</td>\n",
              "      <td>Negative</td>\n",
              "      <td>9.0</td>\n",
              "      <td>100</td>\n",
              "    </tr>\n",
              "    <tr>\n",
              "      <th>10058</th>\n",
              "      <td>alzheimer's disease</td>\n",
              "      <td>Donepezil</td>\n",
              "      <td>['drool', 'agitation', 'nightmare', 'rhonchus'...</td>\n",
              "      <td>\"Makes me feel ill.\"</td>\n",
              "      <td>Negative</td>\n",
              "      <td>3.0</td>\n",
              "      <td>2</td>\n",
              "    </tr>\n",
              "    <tr>\n",
              "      <th>10059</th>\n",
              "      <td>alzheimer's disease</td>\n",
              "      <td>Aricept</td>\n",
              "      <td>['drool', 'agitation', 'nightmare', 'rhonchus'...</td>\n",
              "      <td>\"Trouble sleeping,stomach pain,headache,consti...</td>\n",
              "      <td>Negative</td>\n",
              "      <td>1.0</td>\n",
              "      <td>47</td>\n",
              "    </tr>\n",
              "  </tbody>\n",
              "</table>\n",
              "<p>10060 rows × 7 columns</p>\n",
              "</div>"
            ],
            "text/plain": [
              "                         Disease                      Drug  ... Rating UsefulCount\n",
              "0      transient ischemic attack                   Aspirin  ...   10.0          10\n",
              "1      transient ischemic attack               Clopidogrel  ...   10.0           8\n",
              "2      transient ischemic attack               Clopidogrel  ...    6.0          13\n",
              "3      transient ischemic attack               Clopidogrel  ...    5.0           9\n",
              "4      transient ischemic attack  Bayer Children's Aspirin  ...   10.0          10\n",
              "...                          ...                       ...  ...    ...         ...\n",
              "10055        alzheimer's disease               Galantamine  ...   10.0           7\n",
              "10056        alzheimer's disease                 Memantine  ...    1.0          11\n",
              "10057        alzheimer's disease                    Exelon  ...    9.0         100\n",
              "10058        alzheimer's disease                 Donepezil  ...    3.0           2\n",
              "10059        alzheimer's disease                   Aricept  ...    1.0          47\n",
              "\n",
              "[10060 rows x 7 columns]"
            ]
          },
          "metadata": {
            "tags": []
          },
          "execution_count": 44
        }
      ]
    },
    {
      "cell_type": "code",
      "metadata": {
        "id": "e9j6ekMUMrJb",
        "colab_type": "code",
        "colab": {}
      },
      "source": [
        "#Exporting data to csv.\n",
        "merged_data.to_csv(r'drive/My Drive/gtdt/Drug_Recommender.csv', index=False)"
      ],
      "execution_count": 0,
      "outputs": []
    },
    {
      "cell_type": "markdown",
      "metadata": {
        "id": "pzADQczNWwd3",
        "colab_type": "text"
      },
      "source": [
        "**Weighted average of rating and useful count**"
      ]
    },
    {
      "cell_type": "code",
      "metadata": {
        "id": "NId5RMJ1S3Bl",
        "colab_type": "code",
        "colab": {}
      },
      "source": [
        "data = pd.read_csv('drive/My Drive/gtdt/Drug_Recommender.csv')"
      ],
      "execution_count": 0,
      "outputs": []
    },
    {
      "cell_type": "code",
      "metadata": {
        "id": "x2kk_fKWT4Qg",
        "colab_type": "code",
        "colab": {
          "base_uri": "https://localhost:8080/",
          "height": 195
        },
        "outputId": "6c48d679-c158-46e5-e713-8645ec7cd7a5"
      },
      "source": [
        "data.head()"
      ],
      "execution_count": 74,
      "outputs": [
        {
          "output_type": "execute_result",
          "data": {
            "text/html": [
              "<div>\n",
              "<style scoped>\n",
              "    .dataframe tbody tr th:only-of-type {\n",
              "        vertical-align: middle;\n",
              "    }\n",
              "\n",
              "    .dataframe tbody tr th {\n",
              "        vertical-align: top;\n",
              "    }\n",
              "\n",
              "    .dataframe thead th {\n",
              "        text-align: right;\n",
              "    }\n",
              "</style>\n",
              "<table border=\"1\" class=\"dataframe\">\n",
              "  <thead>\n",
              "    <tr style=\"text-align: right;\">\n",
              "      <th></th>\n",
              "      <th>Disease</th>\n",
              "      <th>Drug</th>\n",
              "      <th>Symptoms</th>\n",
              "      <th>Review</th>\n",
              "      <th>Review_Sentiment</th>\n",
              "      <th>Rating</th>\n",
              "      <th>UsefulCount</th>\n",
              "    </tr>\n",
              "  </thead>\n",
              "  <tbody>\n",
              "    <tr>\n",
              "      <th>0</th>\n",
              "      <td>transient ischemic attack</td>\n",
              "      <td>Aspirin</td>\n",
              "      <td>['speech slurred', 'dysarthria', 'facial pares...</td>\n",
              "      <td>\"No side effects,  easy to take, no more sympt...</td>\n",
              "      <td>Positive</td>\n",
              "      <td>10.0</td>\n",
              "      <td>10</td>\n",
              "    </tr>\n",
              "    <tr>\n",
              "      <th>1</th>\n",
              "      <td>transient ischemic attack</td>\n",
              "      <td>Clopidogrel</td>\n",
              "      <td>['speech slurred', 'dysarthria', 'facial pares...</td>\n",
              "      <td>\"I&amp;#039;ve been taking this medicine for a lit...</td>\n",
              "      <td>Negative</td>\n",
              "      <td>10.0</td>\n",
              "      <td>8</td>\n",
              "    </tr>\n",
              "    <tr>\n",
              "      <th>2</th>\n",
              "      <td>transient ischemic attack</td>\n",
              "      <td>Clopidogrel</td>\n",
              "      <td>['speech slurred', 'dysarthria', 'facial pares...</td>\n",
              "      <td>\"I took ibuprofen (2 caps at night for severe ...</td>\n",
              "      <td>Negative</td>\n",
              "      <td>6.0</td>\n",
              "      <td>13</td>\n",
              "    </tr>\n",
              "    <tr>\n",
              "      <th>3</th>\n",
              "      <td>transient ischemic attack</td>\n",
              "      <td>Clopidogrel</td>\n",
              "      <td>['speech slurred', 'dysarthria', 'facial pares...</td>\n",
              "      <td>\"After my VAD Stroke I am on plavix.  I have a...</td>\n",
              "      <td>Positive</td>\n",
              "      <td>5.0</td>\n",
              "      <td>9</td>\n",
              "    </tr>\n",
              "    <tr>\n",
              "      <th>4</th>\n",
              "      <td>transient ischemic attack</td>\n",
              "      <td>Bayer Children's Aspirin</td>\n",
              "      <td>['speech slurred', 'dysarthria', 'facial pares...</td>\n",
              "      <td>\"No side effects,  easy to take, no more sympt...</td>\n",
              "      <td>Positive</td>\n",
              "      <td>10.0</td>\n",
              "      <td>10</td>\n",
              "    </tr>\n",
              "  </tbody>\n",
              "</table>\n",
              "</div>"
            ],
            "text/plain": [
              "                     Disease                      Drug  ... Rating UsefulCount\n",
              "0  transient ischemic attack                   Aspirin  ...   10.0          10\n",
              "1  transient ischemic attack               Clopidogrel  ...   10.0           8\n",
              "2  transient ischemic attack               Clopidogrel  ...    6.0          13\n",
              "3  transient ischemic attack               Clopidogrel  ...    5.0           9\n",
              "4  transient ischemic attack  Bayer Children's Aspirin  ...   10.0          10\n",
              "\n",
              "[5 rows x 7 columns]"
            ]
          },
          "metadata": {
            "tags": []
          },
          "execution_count": 74
        }
      ]
    },
    {
      "cell_type": "code",
      "metadata": {
        "id": "GDJImQlyT6b1",
        "colab_type": "code",
        "colab": {}
      },
      "source": [
        "data = data.sort_values(['Drug'])"
      ],
      "execution_count": 0,
      "outputs": []
    },
    {
      "cell_type": "code",
      "metadata": {
        "id": "5pCVuf_vVQ3r",
        "colab_type": "code",
        "colab": {}
      },
      "source": [
        "def wavg(group, avg_name, weight_name):\n",
        "    d = group[avg_name]\n",
        "    w = group[weight_name]\n",
        "    try:\n",
        "        return (d * w).sum() / w.sum()\n",
        "    except ZeroDivisionError:\n",
        "        return d.mean()"
      ],
      "execution_count": 0,
      "outputs": []
    },
    {
      "cell_type": "code",
      "metadata": {
        "id": "aeGangHpVTIN",
        "colab_type": "code",
        "colab": {
          "base_uri": "https://localhost:8080/",
          "height": 34
        },
        "outputId": "aade74e8-4b2d-4051-a1bc-1ada080078c0"
      },
      "source": [
        "wavg(data, \"Rating\", \"UsefulCount\")"
      ],
      "execution_count": 77,
      "outputs": [
        {
          "output_type": "execute_result",
          "data": {
            "text/plain": [
              "7.856535504296699"
            ]
          },
          "metadata": {
            "tags": []
          },
          "execution_count": 77
        }
      ]
    },
    {
      "cell_type": "code",
      "metadata": {
        "id": "7a75MCUuVWur",
        "colab_type": "code",
        "colab": {
          "base_uri": "https://localhost:8080/",
          "height": 235
        },
        "outputId": "5fb76b10-948c-48f2-c200-05d93d4decee"
      },
      "source": [
        "data.groupby([\"Disease\", \"Drug\"]).apply(wavg, \"Rating\", \"UsefulCount\")"
      ],
      "execution_count": 78,
      "outputs": [
        {
          "output_type": "execute_result",
          "data": {
            "text/plain": [
              "Disease                    Drug                    \n",
              "alzheimer's disease        Aricept                      5.807916\n",
              "                           Aricept ODT                  9.000000\n",
              "                           Donepezil                    5.503089\n",
              "                           Exelon                       7.526027\n",
              "                           Galantamine                  8.510638\n",
              "                                                         ...    \n",
              "schizophrenia              Zyprexa Zydis                6.304348\n",
              "transient ischemic attack  Aspirin                     10.000000\n",
              "                           Bayer Children's Aspirin    10.000000\n",
              "                           Clopidogrel                  6.766667\n",
              "                           Plavix                       5.000000\n",
              "Length: 403, dtype: float64"
            ]
          },
          "metadata": {
            "tags": []
          },
          "execution_count": 78
        }
      ]
    },
    {
      "cell_type": "code",
      "metadata": {
        "id": "GQ0VO6pVVtDJ",
        "colab_type": "code",
        "colab": {}
      },
      "source": [
        "data_wavg = data.groupby([\"Drug\"], as_index=False).apply(wavg, \"Rating\", \"UsefulCount\")"
      ],
      "execution_count": 0,
      "outputs": []
    },
    {
      "cell_type": "code",
      "metadata": {
        "id": "PhKGlFAvVvO8",
        "colab_type": "code",
        "colab": {}
      },
      "source": [
        "data_wavg = pd.DataFrame(data_wavg)\n",
        "data_wavg.columns = ['Rating_Wavg']"
      ],
      "execution_count": 0,
      "outputs": []
    },
    {
      "cell_type": "code",
      "metadata": {
        "id": "DXUF3TfPVw7p",
        "colab_type": "code",
        "colab": {
          "base_uri": "https://localhost:8080/",
          "height": 402
        },
        "outputId": "8725984d-7452-4c6f-9b37-c25822d0b2b5"
      },
      "source": [
        "data_wavg"
      ],
      "execution_count": 81,
      "outputs": [
        {
          "output_type": "execute_result",
          "data": {
            "text/html": [
              "<div>\n",
              "<style scoped>\n",
              "    .dataframe tbody tr th:only-of-type {\n",
              "        vertical-align: middle;\n",
              "    }\n",
              "\n",
              "    .dataframe tbody tr th {\n",
              "        vertical-align: top;\n",
              "    }\n",
              "\n",
              "    .dataframe thead th {\n",
              "        text-align: right;\n",
              "    }\n",
              "</style>\n",
              "<table border=\"1\" class=\"dataframe\">\n",
              "  <thead>\n",
              "    <tr style=\"text-align: right;\">\n",
              "      <th></th>\n",
              "      <th>Rating_Wavg</th>\n",
              "    </tr>\n",
              "  </thead>\n",
              "  <tbody>\n",
              "    <tr>\n",
              "      <th>0</th>\n",
              "      <td>7.350122</td>\n",
              "    </tr>\n",
              "    <tr>\n",
              "      <th>1</th>\n",
              "      <td>8.714286</td>\n",
              "    </tr>\n",
              "    <tr>\n",
              "      <th>2</th>\n",
              "      <td>8.000000</td>\n",
              "    </tr>\n",
              "    <tr>\n",
              "      <th>3</th>\n",
              "      <td>10.000000</td>\n",
              "    </tr>\n",
              "    <tr>\n",
              "      <th>4</th>\n",
              "      <td>6.376068</td>\n",
              "    </tr>\n",
              "    <tr>\n",
              "      <th>...</th>\n",
              "      <td>...</td>\n",
              "    </tr>\n",
              "    <tr>\n",
              "      <th>355</th>\n",
              "      <td>10.000000</td>\n",
              "    </tr>\n",
              "    <tr>\n",
              "      <th>356</th>\n",
              "      <td>9.000000</td>\n",
              "    </tr>\n",
              "    <tr>\n",
              "      <th>357</th>\n",
              "      <td>7.338843</td>\n",
              "    </tr>\n",
              "    <tr>\n",
              "      <th>358</th>\n",
              "      <td>6.304348</td>\n",
              "    </tr>\n",
              "    <tr>\n",
              "      <th>359</th>\n",
              "      <td>9.655172</td>\n",
              "    </tr>\n",
              "  </tbody>\n",
              "</table>\n",
              "<p>360 rows × 1 columns</p>\n",
              "</div>"
            ],
            "text/plain": [
              "     Rating_Wavg\n",
              "0       7.350122\n",
              "1       8.714286\n",
              "2       8.000000\n",
              "3      10.000000\n",
              "4       6.376068\n",
              "..           ...\n",
              "355    10.000000\n",
              "356     9.000000\n",
              "357     7.338843\n",
              "358     6.304348\n",
              "359     9.655172\n",
              "\n",
              "[360 rows x 1 columns]"
            ]
          },
          "metadata": {
            "tags": []
          },
          "execution_count": 81
        }
      ]
    },
    {
      "cell_type": "code",
      "metadata": {
        "id": "pY1W6snTVz03",
        "colab_type": "code",
        "colab": {
          "base_uri": "https://localhost:8080/",
          "height": 402
        },
        "outputId": "5f9dadd6-5c6d-4c21-df38-bcb62bac5c9d"
      },
      "source": [
        "d1 = data['Drug'].unique().tolist()\n",
        "d1 = pd.DataFrame(d1)\n",
        "d1.columns = ['Drug']\n",
        "d1"
      ],
      "execution_count": 82,
      "outputs": [
        {
          "output_type": "execute_result",
          "data": {
            "text/html": [
              "<div>\n",
              "<style scoped>\n",
              "    .dataframe tbody tr th:only-of-type {\n",
              "        vertical-align: middle;\n",
              "    }\n",
              "\n",
              "    .dataframe tbody tr th {\n",
              "        vertical-align: top;\n",
              "    }\n",
              "\n",
              "    .dataframe thead th {\n",
              "        text-align: right;\n",
              "    }\n",
              "</style>\n",
              "<table border=\"1\" class=\"dataframe\">\n",
              "  <thead>\n",
              "    <tr style=\"text-align: right;\">\n",
              "      <th></th>\n",
              "      <th>Drug</th>\n",
              "    </tr>\n",
              "  </thead>\n",
              "  <tbody>\n",
              "    <tr>\n",
              "      <th>0</th>\n",
              "      <td>Abilify</td>\n",
              "    </tr>\n",
              "    <tr>\n",
              "      <th>1</th>\n",
              "      <td>Abilify Maintena</td>\n",
              "    </tr>\n",
              "    <tr>\n",
              "      <th>2</th>\n",
              "      <td>Acetaminophen / chlorpheniramine</td>\n",
              "    </tr>\n",
              "    <tr>\n",
              "      <th>3</th>\n",
              "      <td>Acetaminophen / phenyltoloxamine</td>\n",
              "    </tr>\n",
              "    <tr>\n",
              "      <th>4</th>\n",
              "      <td>Acetazolamide</td>\n",
              "    </tr>\n",
              "    <tr>\n",
              "      <th>...</th>\n",
              "      <td>...</td>\n",
              "    </tr>\n",
              "    <tr>\n",
              "      <th>355</th>\n",
              "      <td>Zurampic</td>\n",
              "    </tr>\n",
              "    <tr>\n",
              "      <th>356</th>\n",
              "      <td>Zyloprim</td>\n",
              "    </tr>\n",
              "    <tr>\n",
              "      <th>357</th>\n",
              "      <td>Zyprexa</td>\n",
              "    </tr>\n",
              "    <tr>\n",
              "      <th>358</th>\n",
              "      <td>Zyprexa Zydis</td>\n",
              "    </tr>\n",
              "    <tr>\n",
              "      <th>359</th>\n",
              "      <td>Zyvox</td>\n",
              "    </tr>\n",
              "  </tbody>\n",
              "</table>\n",
              "<p>360 rows × 1 columns</p>\n",
              "</div>"
            ],
            "text/plain": [
              "                                 Drug\n",
              "0                             Abilify\n",
              "1                    Abilify Maintena\n",
              "2    Acetaminophen / chlorpheniramine\n",
              "3    Acetaminophen / phenyltoloxamine\n",
              "4                       Acetazolamide\n",
              "..                                ...\n",
              "355                          Zurampic\n",
              "356                          Zyloprim\n",
              "357                           Zyprexa\n",
              "358                     Zyprexa Zydis\n",
              "359                             Zyvox\n",
              "\n",
              "[360 rows x 1 columns]"
            ]
          },
          "metadata": {
            "tags": []
          },
          "execution_count": 82
        }
      ]
    },
    {
      "cell_type": "code",
      "metadata": {
        "id": "PfmGZO63V2a8",
        "colab_type": "code",
        "colab": {
          "base_uri": "https://localhost:8080/",
          "height": 402
        },
        "outputId": "73333e78-10f5-482b-f6f3-c9ff7e49d45f"
      },
      "source": [
        "result = pd.concat([d1, data_wavg], axis=1, join='inner')\n",
        "result"
      ],
      "execution_count": 83,
      "outputs": [
        {
          "output_type": "execute_result",
          "data": {
            "text/html": [
              "<div>\n",
              "<style scoped>\n",
              "    .dataframe tbody tr th:only-of-type {\n",
              "        vertical-align: middle;\n",
              "    }\n",
              "\n",
              "    .dataframe tbody tr th {\n",
              "        vertical-align: top;\n",
              "    }\n",
              "\n",
              "    .dataframe thead th {\n",
              "        text-align: right;\n",
              "    }\n",
              "</style>\n",
              "<table border=\"1\" class=\"dataframe\">\n",
              "  <thead>\n",
              "    <tr style=\"text-align: right;\">\n",
              "      <th></th>\n",
              "      <th>Drug</th>\n",
              "      <th>Rating_Wavg</th>\n",
              "    </tr>\n",
              "  </thead>\n",
              "  <tbody>\n",
              "    <tr>\n",
              "      <th>0</th>\n",
              "      <td>Abilify</td>\n",
              "      <td>7.350122</td>\n",
              "    </tr>\n",
              "    <tr>\n",
              "      <th>1</th>\n",
              "      <td>Abilify Maintena</td>\n",
              "      <td>8.714286</td>\n",
              "    </tr>\n",
              "    <tr>\n",
              "      <th>2</th>\n",
              "      <td>Acetaminophen / chlorpheniramine</td>\n",
              "      <td>8.000000</td>\n",
              "    </tr>\n",
              "    <tr>\n",
              "      <th>3</th>\n",
              "      <td>Acetaminophen / phenyltoloxamine</td>\n",
              "      <td>10.000000</td>\n",
              "    </tr>\n",
              "    <tr>\n",
              "      <th>4</th>\n",
              "      <td>Acetazolamide</td>\n",
              "      <td>6.376068</td>\n",
              "    </tr>\n",
              "    <tr>\n",
              "      <th>...</th>\n",
              "      <td>...</td>\n",
              "      <td>...</td>\n",
              "    </tr>\n",
              "    <tr>\n",
              "      <th>355</th>\n",
              "      <td>Zurampic</td>\n",
              "      <td>10.000000</td>\n",
              "    </tr>\n",
              "    <tr>\n",
              "      <th>356</th>\n",
              "      <td>Zyloprim</td>\n",
              "      <td>9.000000</td>\n",
              "    </tr>\n",
              "    <tr>\n",
              "      <th>357</th>\n",
              "      <td>Zyprexa</td>\n",
              "      <td>7.338843</td>\n",
              "    </tr>\n",
              "    <tr>\n",
              "      <th>358</th>\n",
              "      <td>Zyprexa Zydis</td>\n",
              "      <td>6.304348</td>\n",
              "    </tr>\n",
              "    <tr>\n",
              "      <th>359</th>\n",
              "      <td>Zyvox</td>\n",
              "      <td>9.655172</td>\n",
              "    </tr>\n",
              "  </tbody>\n",
              "</table>\n",
              "<p>360 rows × 2 columns</p>\n",
              "</div>"
            ],
            "text/plain": [
              "                                 Drug  Rating_Wavg\n",
              "0                             Abilify     7.350122\n",
              "1                    Abilify Maintena     8.714286\n",
              "2    Acetaminophen / chlorpheniramine     8.000000\n",
              "3    Acetaminophen / phenyltoloxamine    10.000000\n",
              "4                       Acetazolamide     6.376068\n",
              "..                                ...          ...\n",
              "355                          Zurampic    10.000000\n",
              "356                          Zyloprim     9.000000\n",
              "357                           Zyprexa     7.338843\n",
              "358                     Zyprexa Zydis     6.304348\n",
              "359                             Zyvox     9.655172\n",
              "\n",
              "[360 rows x 2 columns]"
            ]
          },
          "metadata": {
            "tags": []
          },
          "execution_count": 83
        }
      ]
    },
    {
      "cell_type": "code",
      "metadata": {
        "id": "2rltsBr5V4k-",
        "colab_type": "code",
        "colab": {}
      },
      "source": [
        "merged_wavg = pd.merge(result, data, on='Drug')"
      ],
      "execution_count": 0,
      "outputs": []
    },
    {
      "cell_type": "code",
      "metadata": {
        "id": "epMAHF7SV78s",
        "colab_type": "code",
        "colab": {}
      },
      "source": [
        "merged_wavg.drop(columns=['Symptoms','Rating', 'UsefulCount'], inplace=True)\n",
        "merged_wavg = merged_wavg[['Disease','Drug', 'Review', 'Review_Sentiment', 'Rating_Wavg']]"
      ],
      "execution_count": 0,
      "outputs": []
    },
    {
      "cell_type": "code",
      "metadata": {
        "id": "gXANBHYpV_DL",
        "colab_type": "code",
        "colab": {
          "base_uri": "https://localhost:8080/",
          "height": 402
        },
        "outputId": "666ffebe-db81-49c4-ef6d-854ef9491cab"
      },
      "source": [
        "merged_wavg"
      ],
      "execution_count": 86,
      "outputs": [
        {
          "output_type": "execute_result",
          "data": {
            "text/html": [
              "<div>\n",
              "<style scoped>\n",
              "    .dataframe tbody tr th:only-of-type {\n",
              "        vertical-align: middle;\n",
              "    }\n",
              "\n",
              "    .dataframe tbody tr th {\n",
              "        vertical-align: top;\n",
              "    }\n",
              "\n",
              "    .dataframe thead th {\n",
              "        text-align: right;\n",
              "    }\n",
              "</style>\n",
              "<table border=\"1\" class=\"dataframe\">\n",
              "  <thead>\n",
              "    <tr style=\"text-align: right;\">\n",
              "      <th></th>\n",
              "      <th>Disease</th>\n",
              "      <th>Drug</th>\n",
              "      <th>Review</th>\n",
              "      <th>Review_Sentiment</th>\n",
              "      <th>Rating_Wavg</th>\n",
              "    </tr>\n",
              "  </thead>\n",
              "  <tbody>\n",
              "    <tr>\n",
              "      <th>0</th>\n",
              "      <td>schizophrenia</td>\n",
              "      <td>Abilify</td>\n",
              "      <td>\"This medication has helped my son a great dea...</td>\n",
              "      <td>Positive</td>\n",
              "      <td>7.350122</td>\n",
              "    </tr>\n",
              "    <tr>\n",
              "      <th>1</th>\n",
              "      <td>schizophrenia</td>\n",
              "      <td>Abilify</td>\n",
              "      <td>\"This medication made me feel like my brain wa...</td>\n",
              "      <td>Negative</td>\n",
              "      <td>7.350122</td>\n",
              "    </tr>\n",
              "    <tr>\n",
              "      <th>2</th>\n",
              "      <td>schizophrenia</td>\n",
              "      <td>Abilify</td>\n",
              "      <td>\"I&amp;#039;ve used 5mg daily for three weeks. My ...</td>\n",
              "      <td>Positive</td>\n",
              "      <td>7.350122</td>\n",
              "    </tr>\n",
              "    <tr>\n",
              "      <th>3</th>\n",
              "      <td>schizophrenia</td>\n",
              "      <td>Abilify</td>\n",
              "      <td>\"Excellent medication! When I was first on Abi...</td>\n",
              "      <td>Negative</td>\n",
              "      <td>7.350122</td>\n",
              "    </tr>\n",
              "    <tr>\n",
              "      <th>4</th>\n",
              "      <td>schizophrenia</td>\n",
              "      <td>Abilify</td>\n",
              "      <td>\"I used to hear bad voices in my head,and thou...</td>\n",
              "      <td>Negative</td>\n",
              "      <td>7.350122</td>\n",
              "    </tr>\n",
              "    <tr>\n",
              "      <th>...</th>\n",
              "      <td>...</td>\n",
              "      <td>...</td>\n",
              "      <td>...</td>\n",
              "      <td>...</td>\n",
              "      <td>...</td>\n",
              "    </tr>\n",
              "    <tr>\n",
              "      <th>10055</th>\n",
              "      <td>schizophrenia</td>\n",
              "      <td>Zyprexa Zydis</td>\n",
              "      <td>\"Good for emergency situations. Versatile, qui...</td>\n",
              "      <td>Positive</td>\n",
              "      <td>6.304348</td>\n",
              "    </tr>\n",
              "    <tr>\n",
              "      <th>10056</th>\n",
              "      <td>schizophrenia</td>\n",
              "      <td>Zyprexa Zydis</td>\n",
              "      <td>\"Made me dizzy.\"</td>\n",
              "      <td>Negative</td>\n",
              "      <td>6.304348</td>\n",
              "    </tr>\n",
              "    <tr>\n",
              "      <th>10057</th>\n",
              "      <td>schizophrenia</td>\n",
              "      <td>Zyprexa Zydis</td>\n",
              "      <td>\"I like it that it dissolves in your mouth jus...</td>\n",
              "      <td>Positive</td>\n",
              "      <td>6.304348</td>\n",
              "    </tr>\n",
              "    <tr>\n",
              "      <th>10058</th>\n",
              "      <td>pneumonia</td>\n",
              "      <td>Zyvox</td>\n",
              "      <td>\"In February 2008 I fell ill to Influenza A an...</td>\n",
              "      <td>Positive</td>\n",
              "      <td>9.655172</td>\n",
              "    </tr>\n",
              "    <tr>\n",
              "      <th>10059</th>\n",
              "      <td>bacteremia</td>\n",
              "      <td>Zyvox</td>\n",
              "      <td>\"It cured my MRSA.\"</td>\n",
              "      <td>Neutral</td>\n",
              "      <td>9.655172</td>\n",
              "    </tr>\n",
              "  </tbody>\n",
              "</table>\n",
              "<p>10060 rows × 5 columns</p>\n",
              "</div>"
            ],
            "text/plain": [
              "             Disease           Drug  ... Review_Sentiment Rating_Wavg\n",
              "0      schizophrenia        Abilify  ...         Positive    7.350122\n",
              "1      schizophrenia        Abilify  ...         Negative    7.350122\n",
              "2      schizophrenia        Abilify  ...         Positive    7.350122\n",
              "3      schizophrenia        Abilify  ...         Negative    7.350122\n",
              "4      schizophrenia        Abilify  ...         Negative    7.350122\n",
              "...              ...            ...  ...              ...         ...\n",
              "10055  schizophrenia  Zyprexa Zydis  ...         Positive    6.304348\n",
              "10056  schizophrenia  Zyprexa Zydis  ...         Negative    6.304348\n",
              "10057  schizophrenia  Zyprexa Zydis  ...         Positive    6.304348\n",
              "10058      pneumonia          Zyvox  ...         Positive    9.655172\n",
              "10059     bacteremia          Zyvox  ...          Neutral    9.655172\n",
              "\n",
              "[10060 rows x 5 columns]"
            ]
          },
          "metadata": {
            "tags": []
          },
          "execution_count": 86
        }
      ]
    },
    {
      "cell_type": "code",
      "metadata": {
        "id": "70sZ_fTpWAtz",
        "colab_type": "code",
        "colab": {
          "base_uri": "https://localhost:8080/",
          "height": 34
        },
        "outputId": "4ba6ded7-b718-4d2c-d65c-4958d045de18"
      },
      "source": [
        "merged_wavg['Disease'].nunique()"
      ],
      "execution_count": 87,
      "outputs": [
        {
          "output_type": "execute_result",
          "data": {
            "text/plain": [
              "26"
            ]
          },
          "metadata": {
            "tags": []
          },
          "execution_count": 87
        }
      ]
    },
    {
      "cell_type": "code",
      "metadata": {
        "id": "FKSXliRkWDAX",
        "colab_type": "code",
        "colab": {
          "base_uri": "https://localhost:8080/",
          "height": 195
        },
        "outputId": "8f05ba37-a60e-4f6b-fa54-a8118153ea17"
      },
      "source": [
        "merged_wavg = merged_wavg.sort_values(['Disease','Rating_Wavg'],ascending=False, ignore_index=True).groupby('Disease').head()\n",
        "merged_wavg.head()"
      ],
      "execution_count": 88,
      "outputs": [
        {
          "output_type": "execute_result",
          "data": {
            "text/html": [
              "<div>\n",
              "<style scoped>\n",
              "    .dataframe tbody tr th:only-of-type {\n",
              "        vertical-align: middle;\n",
              "    }\n",
              "\n",
              "    .dataframe tbody tr th {\n",
              "        vertical-align: top;\n",
              "    }\n",
              "\n",
              "    .dataframe thead th {\n",
              "        text-align: right;\n",
              "    }\n",
              "</style>\n",
              "<table border=\"1\" class=\"dataframe\">\n",
              "  <thead>\n",
              "    <tr style=\"text-align: right;\">\n",
              "      <th></th>\n",
              "      <th>Disease</th>\n",
              "      <th>Drug</th>\n",
              "      <th>Review</th>\n",
              "      <th>Review_Sentiment</th>\n",
              "      <th>Rating_Wavg</th>\n",
              "    </tr>\n",
              "  </thead>\n",
              "  <tbody>\n",
              "    <tr>\n",
              "      <th>0</th>\n",
              "      <td>transient ischemic attack</td>\n",
              "      <td>Aspirin</td>\n",
              "      <td>\"No side effects,  easy to take, no more sympt...</td>\n",
              "      <td>Positive</td>\n",
              "      <td>10.000000</td>\n",
              "    </tr>\n",
              "    <tr>\n",
              "      <th>1</th>\n",
              "      <td>transient ischemic attack</td>\n",
              "      <td>Bayer Children's Aspirin</td>\n",
              "      <td>\"No side effects,  easy to take, no more sympt...</td>\n",
              "      <td>Positive</td>\n",
              "      <td>10.000000</td>\n",
              "    </tr>\n",
              "    <tr>\n",
              "      <th>2</th>\n",
              "      <td>transient ischemic attack</td>\n",
              "      <td>Clopidogrel</td>\n",
              "      <td>\"I&amp;#039;ve been taking this medicine for a lit...</td>\n",
              "      <td>Negative</td>\n",
              "      <td>6.766667</td>\n",
              "    </tr>\n",
              "    <tr>\n",
              "      <th>3</th>\n",
              "      <td>transient ischemic attack</td>\n",
              "      <td>Clopidogrel</td>\n",
              "      <td>\"I took ibuprofen (2 caps at night for severe ...</td>\n",
              "      <td>Negative</td>\n",
              "      <td>6.766667</td>\n",
              "    </tr>\n",
              "    <tr>\n",
              "      <th>4</th>\n",
              "      <td>transient ischemic attack</td>\n",
              "      <td>Clopidogrel</td>\n",
              "      <td>\"After my VAD Stroke I am on plavix.  I have a...</td>\n",
              "      <td>Positive</td>\n",
              "      <td>6.766667</td>\n",
              "    </tr>\n",
              "  </tbody>\n",
              "</table>\n",
              "</div>"
            ],
            "text/plain": [
              "                     Disease  ... Rating_Wavg\n",
              "0  transient ischemic attack  ...   10.000000\n",
              "1  transient ischemic attack  ...   10.000000\n",
              "2  transient ischemic attack  ...    6.766667\n",
              "3  transient ischemic attack  ...    6.766667\n",
              "4  transient ischemic attack  ...    6.766667\n",
              "\n",
              "[5 rows x 5 columns]"
            ]
          },
          "metadata": {
            "tags": []
          },
          "execution_count": 88
        }
      ]
    },
    {
      "cell_type": "code",
      "metadata": {
        "id": "mTAbcCMlWE27",
        "colab_type": "code",
        "colab": {
          "base_uri": "https://localhost:8080/",
          "height": 195
        },
        "outputId": "995b018c-cc31-41a9-f5d2-bb1d54f55e05"
      },
      "source": [
        "merged_wavg = merged_wavg.to_csv(\"/content/drive/My Drive/gtdt/Drug_Recommender.csv\", index=False)\n",
        "merged_wavg = pd.read_csv(\"/content/drive/My Drive/gtdt/Drug_Recommender.csv\")\n",
        "merged_wavg.head()"
      ],
      "execution_count": 89,
      "outputs": [
        {
          "output_type": "execute_result",
          "data": {
            "text/html": [
              "<div>\n",
              "<style scoped>\n",
              "    .dataframe tbody tr th:only-of-type {\n",
              "        vertical-align: middle;\n",
              "    }\n",
              "\n",
              "    .dataframe tbody tr th {\n",
              "        vertical-align: top;\n",
              "    }\n",
              "\n",
              "    .dataframe thead th {\n",
              "        text-align: right;\n",
              "    }\n",
              "</style>\n",
              "<table border=\"1\" class=\"dataframe\">\n",
              "  <thead>\n",
              "    <tr style=\"text-align: right;\">\n",
              "      <th></th>\n",
              "      <th>Disease</th>\n",
              "      <th>Drug</th>\n",
              "      <th>Review</th>\n",
              "      <th>Review_Sentiment</th>\n",
              "      <th>Rating_Wavg</th>\n",
              "    </tr>\n",
              "  </thead>\n",
              "  <tbody>\n",
              "    <tr>\n",
              "      <th>0</th>\n",
              "      <td>transient ischemic attack</td>\n",
              "      <td>Aspirin</td>\n",
              "      <td>\"No side effects,  easy to take, no more sympt...</td>\n",
              "      <td>Positive</td>\n",
              "      <td>10.000000</td>\n",
              "    </tr>\n",
              "    <tr>\n",
              "      <th>1</th>\n",
              "      <td>transient ischemic attack</td>\n",
              "      <td>Bayer Children's Aspirin</td>\n",
              "      <td>\"No side effects,  easy to take, no more sympt...</td>\n",
              "      <td>Positive</td>\n",
              "      <td>10.000000</td>\n",
              "    </tr>\n",
              "    <tr>\n",
              "      <th>2</th>\n",
              "      <td>transient ischemic attack</td>\n",
              "      <td>Clopidogrel</td>\n",
              "      <td>\"I&amp;#039;ve been taking this medicine for a lit...</td>\n",
              "      <td>Negative</td>\n",
              "      <td>6.766667</td>\n",
              "    </tr>\n",
              "    <tr>\n",
              "      <th>3</th>\n",
              "      <td>transient ischemic attack</td>\n",
              "      <td>Clopidogrel</td>\n",
              "      <td>\"I took ibuprofen (2 caps at night for severe ...</td>\n",
              "      <td>Negative</td>\n",
              "      <td>6.766667</td>\n",
              "    </tr>\n",
              "    <tr>\n",
              "      <th>4</th>\n",
              "      <td>transient ischemic attack</td>\n",
              "      <td>Clopidogrel</td>\n",
              "      <td>\"After my VAD Stroke I am on plavix.  I have a...</td>\n",
              "      <td>Positive</td>\n",
              "      <td>6.766667</td>\n",
              "    </tr>\n",
              "  </tbody>\n",
              "</table>\n",
              "</div>"
            ],
            "text/plain": [
              "                     Disease  ... Rating_Wavg\n",
              "0  transient ischemic attack  ...   10.000000\n",
              "1  transient ischemic attack  ...   10.000000\n",
              "2  transient ischemic attack  ...    6.766667\n",
              "3  transient ischemic attack  ...    6.766667\n",
              "4  transient ischemic attack  ...    6.766667\n",
              "\n",
              "[5 rows x 5 columns]"
            ]
          },
          "metadata": {
            "tags": []
          },
          "execution_count": 89
        }
      ]
    },
    {
      "cell_type": "code",
      "metadata": {
        "id": "ScbHN88zWG0i",
        "colab_type": "code",
        "colab": {
          "base_uri": "https://localhost:8080/",
          "height": 77
        },
        "outputId": "51e8f483-2c20-48b3-e07b-fdc9bc249020"
      },
      "source": [
        "# taking predicted disease as input and recommending drug based on highest weighted average of ratings\n",
        "grouped = merged_wavg.groupby('Disease')\n",
        "pred_disease = pd.DataFrame(grouped.get_group('schizophrenia').nlargest(1, ['Rating_Wavg']))\n",
        "pred_disease"
      ],
      "execution_count": 67,
      "outputs": [
        {
          "output_type": "execute_result",
          "data": {
            "text/html": [
              "<div>\n",
              "<style scoped>\n",
              "    .dataframe tbody tr th:only-of-type {\n",
              "        vertical-align: middle;\n",
              "    }\n",
              "\n",
              "    .dataframe tbody tr th {\n",
              "        vertical-align: top;\n",
              "    }\n",
              "\n",
              "    .dataframe thead th {\n",
              "        text-align: right;\n",
              "    }\n",
              "</style>\n",
              "<table border=\"1\" class=\"dataframe\">\n",
              "  <thead>\n",
              "    <tr style=\"text-align: right;\">\n",
              "      <th></th>\n",
              "      <th>Disease</th>\n",
              "      <th>Drug</th>\n",
              "      <th>Review</th>\n",
              "      <th>Rating_Wavg</th>\n",
              "    </tr>\n",
              "  </thead>\n",
              "  <tbody>\n",
              "    <tr>\n",
              "      <th>5</th>\n",
              "      <td>schizophrenia</td>\n",
              "      <td>Mellaril</td>\n",
              "      <td>\"Moochie used to take Melleril, was always cal...</td>\n",
              "      <td>10.0</td>\n",
              "    </tr>\n",
              "  </tbody>\n",
              "</table>\n",
              "</div>"
            ],
            "text/plain": [
              "         Disease  ... Rating_Wavg\n",
              "5  schizophrenia  ...        10.0\n",
              "\n",
              "[1 rows x 4 columns]"
            ]
          },
          "metadata": {
            "tags": []
          },
          "execution_count": 67
        }
      ]
    },
    {
      "cell_type": "code",
      "metadata": {
        "id": "dZz1YHfcWL0z",
        "colab_type": "code",
        "colab": {
          "base_uri": "https://localhost:8080/",
          "height": 50
        },
        "outputId": "3d0ac229-fb4f-459a-e695-8b6a1e9c5218"
      },
      "source": [
        "print(\"You have \"+ pred_disease['Disease']+ \" and the recommended drug for you is \" + pred_disease['Drug'] + \" which has the highest rating of \" + str(int(pred_disease['Rating_Wavg'])) + \".\" )"
      ],
      "execution_count": 68,
      "outputs": [
        {
          "output_type": "stream",
          "text": [
            "5    You have schizophrenia and the recommended dru...\n",
            "dtype: object\n"
          ],
          "name": "stdout"
        }
      ]
    }
  ]
}