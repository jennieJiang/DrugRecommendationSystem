{
  "nbformat": 4,
  "nbformat_minor": 0,
  "metadata": {
    "colab": {
      "name": "drug_recommendation_system",
      "provenance": [],
      "authorship_tag": "ABX9TyN1GBUMocmY6LT/bCzROwaA",
      "include_colab_link": true
    },
    "kernelspec": {
      "name": "python3",
      "display_name": "Python 3"
    }
  },
  "cells": [
    {
      "cell_type": "markdown",
      "metadata": {
        "id": "view-in-github",
        "colab_type": "text"
      },
      "source": [
        "<a href=\"https://colab.research.google.com/github/khushbooekhande/DrugRecommendationSystem/blob/master/Final_package/drug_recommendation_system.ipynb\" target=\"_parent\"><img src=\"https://colab.research.google.com/assets/colab-badge.svg\" alt=\"Open In Colab\"/></a>"
      ]
    },
    {
      "cell_type": "code",
      "metadata": {
        "id": "vbT-IeAF3gsV",
        "colab_type": "code",
        "colab": {}
      },
      "source": [
        "import pandas as pd \n",
        "import numpy as np\n",
        "\n",
        "from sklearn.model_selection import train_test_split\n",
        "from sklearn.ensemble import ExtraTreesClassifier\n",
        "from sklearn.naive_bayes import MultinomialNB\n",
        "from sklearn.tree import DecisionTreeClassifier\n",
        "from sklearn import svm"
      ],
      "execution_count": 0,
      "outputs": []
    },
    {
      "cell_type": "code",
      "metadata": {
        "id": "PIXn6faj4ko2",
        "colab_type": "code",
        "colab": {
          "base_uri": "https://localhost:8080/",
          "height": 122
        },
        "outputId": "e56891aa-b87f-48a9-f52d-0a73b29464da"
      },
      "source": [
        "from google.colab import drive\n",
        "drive.mount(\"/content/drive\")"
      ],
      "execution_count": 2,
      "outputs": [
        {
          "output_type": "stream",
          "text": [
            "Go to this URL in a browser: https://accounts.google.com/o/oauth2/auth?client_id=947318989803-6bn6qk8qdgf4n4g3pfee6491hc0brc4i.apps.googleusercontent.com&redirect_uri=urn%3aietf%3awg%3aoauth%3a2.0%3aoob&response_type=code&scope=email%20https%3a%2f%2fwww.googleapis.com%2fauth%2fdocs.test%20https%3a%2f%2fwww.googleapis.com%2fauth%2fdrive%20https%3a%2f%2fwww.googleapis.com%2fauth%2fdrive.photos.readonly%20https%3a%2f%2fwww.googleapis.com%2fauth%2fpeopleapi.readonly\n",
            "\n",
            "Enter your authorization code:\n",
            "··········\n",
            "Mounted at /content/drive\n"
          ],
          "name": "stdout"
        }
      ]
    },
    {
      "cell_type": "code",
      "metadata": {
        "id": "8hufg6cq4lLP",
        "colab_type": "code",
        "colab": {}
      },
      "source": [
        "# Reading the symptoms dataset\n",
        "sym_data = pd.read_csv(\"/content/drive/My Drive/New_Dataset/train_data.csv\")"
      ],
      "execution_count": 0,
      "outputs": []
    },
    {
      "cell_type": "code",
      "metadata": {
        "id": "fI4zyaeN6ltU",
        "colab_type": "code",
        "colab": {}
      },
      "source": [
        "sym_data = pd.concat([sym_data]*2, ignore_index=True)\n",
        "cols = sym_data.columns\n",
        "cols = cols[1:]"
      ],
      "execution_count": 0,
      "outputs": []
    },
    {
      "cell_type": "code",
      "metadata": {
        "id": "T6u2HR2P69-U",
        "colab_type": "code",
        "colab": {}
      },
      "source": [
        "x = sym_data[cols]\n",
        "y = sym_data['Disease']"
      ],
      "execution_count": 0,
      "outputs": []
    },
    {
      "cell_type": "code",
      "metadata": {
        "id": "qjXCI_v76_0v",
        "colab_type": "code",
        "colab": {}
      },
      "source": [
        "from sklearn.model_selection import train_test_split\n",
        "\n",
        "x_train, x_test, y_train, y_test = train_test_split(x, y, test_size=0.33, random_state=42)"
      ],
      "execution_count": 0,
      "outputs": []
    },
    {
      "cell_type": "markdown",
      "metadata": {
        "id": "xAzUeHrU7FqK",
        "colab_type": "text"
      },
      "source": [
        "## Training the data"
      ]
    },
    {
      "cell_type": "markdown",
      "metadata": {
        "id": "OuSrK5TB7i9i",
        "colab_type": "text"
      },
      "source": [
        "Using decision tree classifier as it got highest accuracy"
      ]
    },
    {
      "cell_type": "code",
      "metadata": {
        "id": "O8EURO3X7B_Y",
        "colab_type": "code",
        "colab": {}
      },
      "source": [
        "from sklearn.tree import DecisionTreeClassifier\n",
        "from sklearn import svm"
      ],
      "execution_count": 0,
      "outputs": []
    },
    {
      "cell_type": "code",
      "metadata": {
        "id": "0hBuiMcv7l7S",
        "colab_type": "code",
        "colab": {}
      },
      "source": [
        "features = cols\n",
        "feature_dict = {}\n",
        "for i,f in enumerate(features):\n",
        "    feature_dict[f] = i"
      ],
      "execution_count": 0,
      "outputs": []
    },
    {
      "cell_type": "code",
      "metadata": {
        "id": "Bbm20bwq7m_I",
        "colab_type": "code",
        "colab": {
          "base_uri": "https://localhost:8080/",
          "height": 51
        },
        "outputId": "cb4df907-176a-4aae-aad9-0f2280cf1c7a"
      },
      "source": [
        "print (\"DecisionTree\")\n",
        "dt = DecisionTreeClassifier(max_depth=120)\n",
        "clf_dt=dt.fit(x_train,y_train)\n",
        "print (\"Acurracy: \", clf_dt.score(x_test,y_test))"
      ],
      "execution_count": 10,
      "outputs": [
        {
          "output_type": "stream",
          "text": [
            "DecisionTree\n",
            "Acurracy:  0.8864144803742119\n"
          ],
          "name": "stdout"
        }
      ]
    },
    {
      "cell_type": "code",
      "metadata": {
        "id": "OD7210Zg7oxP",
        "colab_type": "code",
        "colab": {
          "base_uri": "https://localhost:8080/",
          "height": 34
        },
        "outputId": "e6393a5b-6768-45e2-f65f-080a50afcc6c"
      },
      "source": [
        "mnb = MultinomialNB()\n",
        "clf_mnb=mnb.fit(x_train,y_train)\n",
        "print (\"Acurracy: \", clf_mnb.score(x_test,y_test))"
      ],
      "execution_count": 11,
      "outputs": [
        {
          "output_type": "stream",
          "text": [
            "Acurracy:  0.8774150905023388\n"
          ],
          "name": "stdout"
        }
      ]
    },
    {
      "cell_type": "code",
      "metadata": {
        "id": "1FOyHzSK7sd5",
        "colab_type": "code",
        "colab": {
          "base_uri": "https://localhost:8080/",
          "height": 34
        },
        "outputId": "52a3886f-d8e6-44fd-cb21-5c5c5a146b79"
      },
      "source": [
        "input_features = [feature_dict['fever'], feature_dict['cough'], feature_dict['drool']]\n",
        "input_features"
      ],
      "execution_count": 12,
      "outputs": [
        {
          "output_type": "execute_result",
          "data": {
            "text/plain": [
              "[122, 70, 89]"
            ]
          },
          "metadata": {
            "tags": []
          },
          "execution_count": 12
        }
      ]
    },
    {
      "cell_type": "code",
      "metadata": {
        "id": "vIqve8c_7uQu",
        "colab_type": "code",
        "colab": {}
      },
      "source": [
        "arr =[]\n",
        "for i in range(len(features)):\n",
        "  if i == input_features[0]:\n",
        "    i = int(i/input_features[0])\n",
        "  elif i == input_features[1]:\n",
        "    i = int(i/input_features[1])\n",
        "  elif i == input_features[2]:\n",
        "    i = int(i/input_features[2])\n",
        "  else:\n",
        "    i = 0\n",
        "  arr.append(i)"
      ],
      "execution_count": 0,
      "outputs": []
    },
    {
      "cell_type": "code",
      "metadata": {
        "id": "nzHc0dLX7wN0",
        "colab_type": "code",
        "colab": {}
      },
      "source": [
        "arr = np.array(arr).reshape(-1,len(arr))"
      ],
      "execution_count": 0,
      "outputs": []
    },
    {
      "cell_type": "markdown",
      "metadata": {
        "id": "qLPwkNPj7yi-",
        "colab_type": "text"
      },
      "source": [
        "Predicted Disease"
      ]
    },
    {
      "cell_type": "code",
      "metadata": {
        "id": "YOmFpuqm7yEz",
        "colab_type": "code",
        "colab": {
          "base_uri": "https://localhost:8080/",
          "height": 34
        },
        "outputId": "41a26ae7-480b-4a54-f052-6d2e4d672638"
      },
      "source": [
        "predicted_disease = (mnb.predict(arr))\n",
        "print(\"The disease predicted based on given symptoms is : \" + predicted_disease[0])"
      ],
      "execution_count": 15,
      "outputs": [
        {
          "output_type": "stream",
          "text": [
            "The disease predicted based on given symptoms is : Alzheimer's disease\n"
          ],
          "name": "stdout"
        }
      ]
    },
    {
      "cell_type": "code",
      "metadata": {
        "id": "MsoLKIGn71Nk",
        "colab_type": "code",
        "colab": {}
      },
      "source": [
        ""
      ],
      "execution_count": 0,
      "outputs": []
    }
  ]
}