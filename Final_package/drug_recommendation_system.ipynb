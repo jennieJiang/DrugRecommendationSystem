{
  "nbformat": 4,
  "nbformat_minor": 0,
  "metadata": {
    "colab": {
      "name": "drug_recommendation_system",
      "provenance": [],
      "include_colab_link": true
    },
    "kernelspec": {
      "name": "python3",
      "display_name": "Python 3"
    }
  },
  "cells": [
    {
      "cell_type": "markdown",
      "metadata": {
        "id": "view-in-github",
        "colab_type": "text"
      },
      "source": [
        "<a href=\"https://colab.research.google.com/github/khushbooekhande/DrugRecommendationSystem/blob/master/Final_package/drug_recommendation_system.ipynb\" target=\"_parent\"><img src=\"https://colab.research.google.com/assets/colab-badge.svg\" alt=\"Open In Colab\"/></a>"
      ]
    },
    {
      "cell_type": "code",
      "metadata": {
        "id": "vbT-IeAF3gsV",
        "colab_type": "code",
        "colab": {}
      },
      "source": [
        "import pandas as pd \n",
        "import numpy as np\n",
        "\n",
        "from sklearn.model_selection import train_test_split\n",
        "from sklearn.ensemble import ExtraTreesClassifier\n",
        "from sklearn.naive_bayes import MultinomialNB\n",
        "from sklearn.tree import DecisionTreeClassifier\n",
        "from sklearn import svm"
      ],
      "execution_count": 0,
      "outputs": []
    },
    {
      "cell_type": "code",
      "metadata": {
        "id": "PIXn6faj4ko2",
        "colab_type": "code",
        "outputId": "1b168030-26ee-41d2-a565-7942099646f8",
        "colab": {
          "base_uri": "https://localhost:8080/",
          "height": 33
        }
      },
      "source": [
        "from google.colab import drive\n",
        "drive.mount(\"/content/drive\")"
      ],
      "execution_count": 47,
      "outputs": [
        {
          "output_type": "stream",
          "text": [
            "Drive already mounted at /content/drive; to attempt to forcibly remount, call drive.mount(\"/content/drive\", force_remount=True).\n"
          ],
          "name": "stdout"
        }
      ]
    },
    {
      "cell_type": "code",
      "metadata": {
        "id": "8hufg6cq4lLP",
        "colab_type": "code",
        "colab": {}
      },
      "source": [
        "# Reading the symptoms dataset\n",
        "sym_data = pd.read_csv(\"/content/drive/My Drive/Dataset/symptoms_data.csv\")"
      ],
      "execution_count": 0,
      "outputs": []
    },
    {
      "cell_type": "code",
      "metadata": {
        "id": "fI4zyaeN6ltU",
        "colab_type": "code",
        "colab": {}
      },
      "source": [
        "sym_data = pd.concat([sym_data]*2, ignore_index=True)\n",
        "cols = sym_data.columns\n",
        "cols = cols[1:]"
      ],
      "execution_count": 0,
      "outputs": []
    },
    {
      "cell_type": "code",
      "metadata": {
        "id": "T6u2HR2P69-U",
        "colab_type": "code",
        "colab": {}
      },
      "source": [
        "x = sym_data[cols]\n",
        "y = sym_data['Disease']"
      ],
      "execution_count": 0,
      "outputs": []
    },
    {
      "cell_type": "code",
      "metadata": {
        "id": "qjXCI_v76_0v",
        "colab_type": "code",
        "colab": {}
      },
      "source": [
        "from sklearn.model_selection import train_test_split\n",
        "\n",
        "x_train, x_test, y_train, y_test = train_test_split(x, y, test_size=0.33, random_state=42)"
      ],
      "execution_count": 0,
      "outputs": []
    },
    {
      "cell_type": "markdown",
      "metadata": {
        "id": "xAzUeHrU7FqK",
        "colab_type": "text"
      },
      "source": [
        "## Training the data"
      ]
    },
    {
      "cell_type": "markdown",
      "metadata": {
        "id": "OuSrK5TB7i9i",
        "colab_type": "text"
      },
      "source": [
        "Using decision tree classifier as it got highest accuracy"
      ]
    },
    {
      "cell_type": "code",
      "metadata": {
        "id": "O8EURO3X7B_Y",
        "colab_type": "code",
        "colab": {}
      },
      "source": [
        "from sklearn.tree import DecisionTreeClassifier\n",
        "from sklearn import svm"
      ],
      "execution_count": 0,
      "outputs": []
    },
    {
      "cell_type": "code",
      "metadata": {
        "id": "0hBuiMcv7l7S",
        "colab_type": "code",
        "colab": {}
      },
      "source": [
        "features = cols\n",
        "feature_dict = {}\n",
        "for i,f in enumerate(features):\n",
        "    feature_dict[f] = i"
      ],
      "execution_count": 0,
      "outputs": []
    },
    {
      "cell_type": "code",
      "metadata": {
        "id": "Bbm20bwq7m_I",
        "colab_type": "code",
        "outputId": "d9af8451-00ca-44c9-9f8a-4a44dcb697dd",
        "colab": {
          "base_uri": "https://localhost:8080/",
          "height": 50
        }
      },
      "source": [
        "print (\"DecisionTree\")\n",
        "dt = DecisionTreeClassifier(max_depth=120)\n",
        "clf_dt=dt.fit(x_train,y_train)\n",
        "print (\"Acurracy: \", clf_dt.score(x_test,y_test))"
      ],
      "execution_count": 54,
      "outputs": [
        {
          "output_type": "stream",
          "text": [
            "DecisionTree\n",
            "Acurracy:  0.8864144803742119\n"
          ],
          "name": "stdout"
        }
      ]
    },
    {
      "cell_type": "code",
      "metadata": {
        "id": "OD7210Zg7oxP",
        "colab_type": "code",
        "outputId": "69fc4b7e-c9a0-48aa-88bf-ba867399fe62",
        "colab": {
          "base_uri": "https://localhost:8080/",
          "height": 33
        }
      },
      "source": [
        "mnb = MultinomialNB()\n",
        "clf_mnb=mnb.fit(x_train,y_train)\n",
        "print (\"Acurracy: \", clf_mnb.score(x_test,y_test))"
      ],
      "execution_count": 55,
      "outputs": [
        {
          "output_type": "stream",
          "text": [
            "Acurracy:  0.8774150905023388\n"
          ],
          "name": "stdout"
        }
      ]
    },
    {
      "cell_type": "code",
      "metadata": {
        "id": "1FOyHzSK7sd5",
        "colab_type": "code",
        "outputId": "4b1a307a-78b8-4130-c5de-5cdbf11813a8",
        "colab": {
          "base_uri": "https://localhost:8080/",
          "height": 33
        }
      },
      "source": [
        "input_features = [feature_dict['fever'], feature_dict['cough'], feature_dict['drool']]\n",
        "input_features"
      ],
      "execution_count": 56,
      "outputs": [
        {
          "output_type": "execute_result",
          "data": {
            "text/plain": [
              "[122, 70, 89]"
            ]
          },
          "metadata": {
            "tags": []
          },
          "execution_count": 56
        }
      ]
    },
    {
      "cell_type": "code",
      "metadata": {
        "id": "vIqve8c_7uQu",
        "colab_type": "code",
        "colab": {}
      },
      "source": [
        "arr =[]\n",
        "for i in range(len(features)):\n",
        "  if i == input_features[0]:\n",
        "    i = int(i/input_features[0])\n",
        "  elif i == input_features[1]:\n",
        "    i = int(i/input_features[1])\n",
        "  elif i == input_features[2]:\n",
        "    i = int(i/input_features[2])\n",
        "  else:\n",
        "    i = 0\n",
        "  arr.append(i)"
      ],
      "execution_count": 0,
      "outputs": []
    },
    {
      "cell_type": "code",
      "metadata": {
        "id": "nzHc0dLX7wN0",
        "colab_type": "code",
        "colab": {}
      },
      "source": [
        "arr = np.array(arr).reshape(-1,len(arr))"
      ],
      "execution_count": 0,
      "outputs": []
    },
    {
      "cell_type": "markdown",
      "metadata": {
        "id": "qLPwkNPj7yi-",
        "colab_type": "text"
      },
      "source": [
        "**Predicted Disease**"
      ]
    },
    {
      "cell_type": "code",
      "metadata": {
        "id": "YOmFpuqm7yEz",
        "colab_type": "code",
        "outputId": "2c285291-5c4b-41e7-847b-4d7c7be06c98",
        "colab": {
          "base_uri": "https://localhost:8080/",
          "height": 33
        }
      },
      "source": [
        "predicted_disease = (mnb.predict(arr))\n",
        "print(\"The disease predicted based on given symptoms is : \" + predicted_disease[0])"
      ],
      "execution_count": 59,
      "outputs": [
        {
          "output_type": "stream",
          "text": [
            "The disease predicted based on given symptoms is : Alzheimer's disease\n"
          ],
          "name": "stdout"
        }
      ]
    },
    {
      "cell_type": "markdown",
      "metadata": {
        "id": "IFtv8opkBIZ5",
        "colab_type": "text"
      },
      "source": [
        "Importing the preprocessed and merged dataset containing the drug names for every disease, the reviews, symptoms, rating and useful count of all the drugs.\n",
        "\n"
      ]
    },
    {
      "cell_type": "code",
      "metadata": {
        "id": "MsoLKIGn71Nk",
        "colab_type": "code",
        "colab": {
          "base_uri": "https://localhost:8080/",
          "height": 213
        },
        "outputId": "669071e1-e90f-41c2-bf5f-2acfd9a76d0e"
      },
      "source": [
        "from google.colab import drive\n",
        "drive.mount(\"/content/drive\")\n",
        "\n",
        "\n",
        "merged_data = pd.read_csv(\"/content/drive/My Drive/Dataset/Merged_Dataset.csv\")\n",
        "merged_data.head()"
      ],
      "execution_count": 60,
      "outputs": [
        {
          "output_type": "stream",
          "text": [
            "Drive already mounted at /content/drive; to attempt to forcibly remount, call drive.mount(\"/content/drive\", force_remount=True).\n"
          ],
          "name": "stdout"
        },
        {
          "output_type": "execute_result",
          "data": {
            "text/html": [
              "<div>\n",
              "<style scoped>\n",
              "    .dataframe tbody tr th:only-of-type {\n",
              "        vertical-align: middle;\n",
              "    }\n",
              "\n",
              "    .dataframe tbody tr th {\n",
              "        vertical-align: top;\n",
              "    }\n",
              "\n",
              "    .dataframe thead th {\n",
              "        text-align: right;\n",
              "    }\n",
              "</style>\n",
              "<table border=\"1\" class=\"dataframe\">\n",
              "  <thead>\n",
              "    <tr style=\"text-align: right;\">\n",
              "      <th></th>\n",
              "      <th>Drug</th>\n",
              "      <th>Disease</th>\n",
              "      <th>Review</th>\n",
              "      <th>Rating</th>\n",
              "      <th>UsefulCount</th>\n",
              "      <th>Symptoms</th>\n",
              "    </tr>\n",
              "  </thead>\n",
              "  <tbody>\n",
              "    <tr>\n",
              "      <th>0</th>\n",
              "      <td>Aspirin</td>\n",
              "      <td>transient ischemic attack</td>\n",
              "      <td>\"No side effects,  easy to take, no more sympt...</td>\n",
              "      <td>10</td>\n",
              "      <td>10</td>\n",
              "      <td>['speech slurred', 'dysarthria', 'facial pares...</td>\n",
              "    </tr>\n",
              "    <tr>\n",
              "      <th>1</th>\n",
              "      <td>Clopidogrel</td>\n",
              "      <td>transient ischemic attack</td>\n",
              "      <td>\"I&amp;#039;ve been taking this medicine for a lit...</td>\n",
              "      <td>10</td>\n",
              "      <td>8</td>\n",
              "      <td>['speech slurred', 'dysarthria', 'facial pares...</td>\n",
              "    </tr>\n",
              "    <tr>\n",
              "      <th>2</th>\n",
              "      <td>Clopidogrel</td>\n",
              "      <td>transient ischemic attack</td>\n",
              "      <td>\"I took ibuprofen (2 caps at night for severe ...</td>\n",
              "      <td>6</td>\n",
              "      <td>13</td>\n",
              "      <td>['speech slurred', 'dysarthria', 'facial pares...</td>\n",
              "    </tr>\n",
              "    <tr>\n",
              "      <th>3</th>\n",
              "      <td>Clopidogrel</td>\n",
              "      <td>transient ischemic attack</td>\n",
              "      <td>\"After my VAD Stroke I am on plavix.  I have a...</td>\n",
              "      <td>5</td>\n",
              "      <td>9</td>\n",
              "      <td>['speech slurred', 'dysarthria', 'facial pares...</td>\n",
              "    </tr>\n",
              "    <tr>\n",
              "      <th>4</th>\n",
              "      <td>Bayer Children's Aspirin</td>\n",
              "      <td>transient ischemic attack</td>\n",
              "      <td>\"No side effects,  easy to take, no more sympt...</td>\n",
              "      <td>10</td>\n",
              "      <td>10</td>\n",
              "      <td>['speech slurred', 'dysarthria', 'facial pares...</td>\n",
              "    </tr>\n",
              "  </tbody>\n",
              "</table>\n",
              "</div>"
            ],
            "text/plain": [
              "                       Drug  ...                                           Symptoms\n",
              "0                   Aspirin  ...  ['speech slurred', 'dysarthria', 'facial pares...\n",
              "1               Clopidogrel  ...  ['speech slurred', 'dysarthria', 'facial pares...\n",
              "2               Clopidogrel  ...  ['speech slurred', 'dysarthria', 'facial pares...\n",
              "3               Clopidogrel  ...  ['speech slurred', 'dysarthria', 'facial pares...\n",
              "4  Bayer Children's Aspirin  ...  ['speech slurred', 'dysarthria', 'facial pares...\n",
              "\n",
              "[5 rows x 6 columns]"
            ]
          },
          "metadata": {
            "tags": []
          },
          "execution_count": 60
        }
      ]
    },
    {
      "cell_type": "markdown",
      "metadata": {
        "id": "fQUdzcNiCqz4",
        "colab_type": "text"
      },
      "source": [
        "**Performing sentiment analysis of drug review using VADER.**"
      ]
    },
    {
      "cell_type": "code",
      "metadata": {
        "id": "5nsvTirTDVCT",
        "colab_type": "code",
        "colab": {
          "base_uri": "https://localhost:8080/",
          "height": 33
        },
        "outputId": "3fcb461d-a540-44c8-f8fd-baa20810f59e"
      },
      "source": [
        "pip install vaderSentiment"
      ],
      "execution_count": 61,
      "outputs": [
        {
          "output_type": "stream",
          "text": [
            "Requirement already satisfied: vaderSentiment in /usr/local/lib/python3.6/dist-packages (3.3.1)\n"
          ],
          "name": "stdout"
        }
      ]
    },
    {
      "cell_type": "code",
      "metadata": {
        "id": "Y1QCy5E_CKie",
        "colab_type": "code",
        "colab": {}
      },
      "source": [
        "#Importing and installing the necessary library for VADER.\n",
        "\n",
        "from vaderSentiment.vaderSentiment import SentimentIntensityAnalyzer\n",
        "analyser = SentimentIntensityAnalyzer()"
      ],
      "execution_count": 0,
      "outputs": []
    },
    {
      "cell_type": "code",
      "metadata": {
        "id": "QPsWvdjyDCAd",
        "colab_type": "code",
        "colab": {}
      },
      "source": [
        "#Making a list of reviews to give it as input for vader analysis.\n",
        "review_list = list(merged_data.Review)\n",
        "\n",
        "#Initializing the necessary files.\n",
        "sentiments = []\n",
        "positive = []\n",
        "negative = []\n",
        "neutral = []\n",
        "compound = []"
      ],
      "execution_count": 0,
      "outputs": []
    },
    {
      "cell_type": "code",
      "metadata": {
        "id": "qqTpb-g6EOdU",
        "colab_type": "code",
        "colab": {}
      },
      "source": [
        "for text in review_list:\n",
        "\n",
        "  #Performing Vader Analysis on each review.\n",
        "  com = analyser.polarity_scores(text)[\"compound\"]\n",
        "  pos = analyser.polarity_scores(text)[\"pos\"]\n",
        "  neu = analyser.polarity_scores(text)[\"neu\"]\n",
        "  neg = analyser.polarity_scores(text)[\"neg\"]\n",
        "\n",
        "  #Adding each value to the corresponding array\n",
        "  positive.append(pos)\n",
        "  negative.append(neg)\n",
        "  neutral.append(neu)\n",
        "  compound.append(com)\n",
        "  sentiments.append({\"Review\":text,\n",
        "                     \"Positive\": pos,\n",
        "                     \"Negative\": neu,\n",
        "                     \"Neutral\": neg,\n",
        "                     \"Compound\": com})\n",
        "\n",
        "sentiments_data = pd.DataFrame.from_dict(sentiments)"
      ],
      "execution_count": 0,
      "outputs": []
    },
    {
      "cell_type": "code",
      "metadata": {
        "id": "rziuIA4IEk8o",
        "colab_type": "code",
        "colab": {
          "base_uri": "https://localhost:8080/",
          "height": 404
        },
        "outputId": "3374fef2-3770-4075-b1da-ca4b903517c5"
      },
      "source": [
        "#Visualizing data from vader analysis.\n",
        "sentiments_data"
      ],
      "execution_count": 65,
      "outputs": [
        {
          "output_type": "execute_result",
          "data": {
            "text/html": [
              "<div>\n",
              "<style scoped>\n",
              "    .dataframe tbody tr th:only-of-type {\n",
              "        vertical-align: middle;\n",
              "    }\n",
              "\n",
              "    .dataframe tbody tr th {\n",
              "        vertical-align: top;\n",
              "    }\n",
              "\n",
              "    .dataframe thead th {\n",
              "        text-align: right;\n",
              "    }\n",
              "</style>\n",
              "<table border=\"1\" class=\"dataframe\">\n",
              "  <thead>\n",
              "    <tr style=\"text-align: right;\">\n",
              "      <th></th>\n",
              "      <th>Review</th>\n",
              "      <th>Positive</th>\n",
              "      <th>Negative</th>\n",
              "      <th>Neutral</th>\n",
              "      <th>Compound</th>\n",
              "    </tr>\n",
              "  </thead>\n",
              "  <tbody>\n",
              "    <tr>\n",
              "      <th>0</th>\n",
              "      <td>\"No side effects,  easy to take, no more sympt...</td>\n",
              "      <td>0.206</td>\n",
              "      <td>0.638</td>\n",
              "      <td>0.156</td>\n",
              "      <td>0.1779</td>\n",
              "    </tr>\n",
              "    <tr>\n",
              "      <th>1</th>\n",
              "      <td>\"I&amp;#039;ve been taking this medicine for a lit...</td>\n",
              "      <td>0.098</td>\n",
              "      <td>0.762</td>\n",
              "      <td>0.140</td>\n",
              "      <td>-0.4092</td>\n",
              "    </tr>\n",
              "    <tr>\n",
              "      <th>2</th>\n",
              "      <td>\"I took ibuprofen (2 caps at night for severe ...</td>\n",
              "      <td>0.000</td>\n",
              "      <td>0.721</td>\n",
              "      <td>0.279</td>\n",
              "      <td>-0.8176</td>\n",
              "    </tr>\n",
              "    <tr>\n",
              "      <th>3</th>\n",
              "      <td>\"After my VAD Stroke I am on plavix.  I have a...</td>\n",
              "      <td>0.055</td>\n",
              "      <td>0.945</td>\n",
              "      <td>0.000</td>\n",
              "      <td>0.6757</td>\n",
              "    </tr>\n",
              "    <tr>\n",
              "      <th>4</th>\n",
              "      <td>\"No side effects,  easy to take, no more sympt...</td>\n",
              "      <td>0.206</td>\n",
              "      <td>0.638</td>\n",
              "      <td>0.156</td>\n",
              "      <td>0.1779</td>\n",
              "    </tr>\n",
              "    <tr>\n",
              "      <th>...</th>\n",
              "      <td>...</td>\n",
              "      <td>...</td>\n",
              "      <td>...</td>\n",
              "      <td>...</td>\n",
              "      <td>...</td>\n",
              "    </tr>\n",
              "    <tr>\n",
              "      <th>10055</th>\n",
              "      <td>\"Reminds me of Adderall but only a natural way...</td>\n",
              "      <td>0.081</td>\n",
              "      <td>0.919</td>\n",
              "      <td>0.000</td>\n",
              "      <td>0.5023</td>\n",
              "    </tr>\n",
              "    <tr>\n",
              "      <th>10056</th>\n",
              "      <td>\"My husband has Vascular Dementia for appox. 4...</td>\n",
              "      <td>0.177</td>\n",
              "      <td>0.674</td>\n",
              "      <td>0.149</td>\n",
              "      <td>0.3272</td>\n",
              "    </tr>\n",
              "    <tr>\n",
              "      <th>10057</th>\n",
              "      <td>\"I&amp;#039;ve only been using this medication (pa...</td>\n",
              "      <td>0.164</td>\n",
              "      <td>0.638</td>\n",
              "      <td>0.198</td>\n",
              "      <td>-0.1531</td>\n",
              "    </tr>\n",
              "    <tr>\n",
              "      <th>10058</th>\n",
              "      <td>\"Makes me feel ill.\"</td>\n",
              "      <td>0.000</td>\n",
              "      <td>0.517</td>\n",
              "      <td>0.483</td>\n",
              "      <td>-0.4215</td>\n",
              "    </tr>\n",
              "    <tr>\n",
              "      <th>10059</th>\n",
              "      <td>\"Trouble sleeping,stomach pain,headache,consti...</td>\n",
              "      <td>0.000</td>\n",
              "      <td>0.426</td>\n",
              "      <td>0.574</td>\n",
              "      <td>-0.4019</td>\n",
              "    </tr>\n",
              "  </tbody>\n",
              "</table>\n",
              "<p>10060 rows × 5 columns</p>\n",
              "</div>"
            ],
            "text/plain": [
              "                                                  Review  ...  Compound\n",
              "0      \"No side effects,  easy to take, no more sympt...  ...    0.1779\n",
              "1      \"I&#039;ve been taking this medicine for a lit...  ...   -0.4092\n",
              "2      \"I took ibuprofen (2 caps at night for severe ...  ...   -0.8176\n",
              "3      \"After my VAD Stroke I am on plavix.  I have a...  ...    0.6757\n",
              "4      \"No side effects,  easy to take, no more sympt...  ...    0.1779\n",
              "...                                                  ...  ...       ...\n",
              "10055  \"Reminds me of Adderall but only a natural way...  ...    0.5023\n",
              "10056  \"My husband has Vascular Dementia for appox. 4...  ...    0.3272\n",
              "10057  \"I&#039;ve only been using this medication (pa...  ...   -0.1531\n",
              "10058                               \"Makes me feel ill.\"  ...   -0.4215\n",
              "10059  \"Trouble sleeping,stomach pain,headache,consti...  ...   -0.4019\n",
              "\n",
              "[10060 rows x 5 columns]"
            ]
          },
          "metadata": {
            "tags": []
          },
          "execution_count": 65
        }
      ]
    },
    {
      "cell_type": "code",
      "metadata": {
        "id": "1ibUH3OwE42F",
        "colab_type": "code",
        "colab": {}
      },
      "source": [
        "#Adding the sentiment analysis columns to the merged dataset.\n",
        "merged_data[\"Positive\"] = positive\n",
        "merged_data[\"Negative\"] = negative\n",
        "merged_data[\"Neutral\"] = neutral\n",
        "merged_data[\"Compound\"] = compound\n",
        "merged_data[\"Review_Sentiment\"] = ''"
      ],
      "execution_count": 0,
      "outputs": []
    },
    {
      "cell_type": "code",
      "metadata": {
        "id": "hIJ4s9hPE-X_",
        "colab_type": "code",
        "colab": {
          "base_uri": "https://localhost:8080/",
          "height": 280
        },
        "outputId": "a0c0e94d-8142-41b8-e70c-5f2956d96b10"
      },
      "source": [
        "#Visualizing the merged dataset with the sentiment analysis results.\n",
        "merged_data.head()"
      ],
      "execution_count": 67,
      "outputs": [
        {
          "output_type": "execute_result",
          "data": {
            "text/html": [
              "<div>\n",
              "<style scoped>\n",
              "    .dataframe tbody tr th:only-of-type {\n",
              "        vertical-align: middle;\n",
              "    }\n",
              "\n",
              "    .dataframe tbody tr th {\n",
              "        vertical-align: top;\n",
              "    }\n",
              "\n",
              "    .dataframe thead th {\n",
              "        text-align: right;\n",
              "    }\n",
              "</style>\n",
              "<table border=\"1\" class=\"dataframe\">\n",
              "  <thead>\n",
              "    <tr style=\"text-align: right;\">\n",
              "      <th></th>\n",
              "      <th>Drug</th>\n",
              "      <th>Disease</th>\n",
              "      <th>Review</th>\n",
              "      <th>Rating</th>\n",
              "      <th>UsefulCount</th>\n",
              "      <th>Symptoms</th>\n",
              "      <th>Positive</th>\n",
              "      <th>Negative</th>\n",
              "      <th>Neutral</th>\n",
              "      <th>Compound</th>\n",
              "      <th>Review_Sentiment</th>\n",
              "    </tr>\n",
              "  </thead>\n",
              "  <tbody>\n",
              "    <tr>\n",
              "      <th>0</th>\n",
              "      <td>Aspirin</td>\n",
              "      <td>transient ischemic attack</td>\n",
              "      <td>\"No side effects,  easy to take, no more sympt...</td>\n",
              "      <td>10</td>\n",
              "      <td>10</td>\n",
              "      <td>['speech slurred', 'dysarthria', 'facial pares...</td>\n",
              "      <td>0.206</td>\n",
              "      <td>0.156</td>\n",
              "      <td>0.638</td>\n",
              "      <td>0.1779</td>\n",
              "      <td></td>\n",
              "    </tr>\n",
              "    <tr>\n",
              "      <th>1</th>\n",
              "      <td>Clopidogrel</td>\n",
              "      <td>transient ischemic attack</td>\n",
              "      <td>\"I&amp;#039;ve been taking this medicine for a lit...</td>\n",
              "      <td>10</td>\n",
              "      <td>8</td>\n",
              "      <td>['speech slurred', 'dysarthria', 'facial pares...</td>\n",
              "      <td>0.098</td>\n",
              "      <td>0.140</td>\n",
              "      <td>0.762</td>\n",
              "      <td>-0.4092</td>\n",
              "      <td></td>\n",
              "    </tr>\n",
              "    <tr>\n",
              "      <th>2</th>\n",
              "      <td>Clopidogrel</td>\n",
              "      <td>transient ischemic attack</td>\n",
              "      <td>\"I took ibuprofen (2 caps at night for severe ...</td>\n",
              "      <td>6</td>\n",
              "      <td>13</td>\n",
              "      <td>['speech slurred', 'dysarthria', 'facial pares...</td>\n",
              "      <td>0.000</td>\n",
              "      <td>0.279</td>\n",
              "      <td>0.721</td>\n",
              "      <td>-0.8176</td>\n",
              "      <td></td>\n",
              "    </tr>\n",
              "    <tr>\n",
              "      <th>3</th>\n",
              "      <td>Clopidogrel</td>\n",
              "      <td>transient ischemic attack</td>\n",
              "      <td>\"After my VAD Stroke I am on plavix.  I have a...</td>\n",
              "      <td>5</td>\n",
              "      <td>9</td>\n",
              "      <td>['speech slurred', 'dysarthria', 'facial pares...</td>\n",
              "      <td>0.055</td>\n",
              "      <td>0.000</td>\n",
              "      <td>0.945</td>\n",
              "      <td>0.6757</td>\n",
              "      <td></td>\n",
              "    </tr>\n",
              "    <tr>\n",
              "      <th>4</th>\n",
              "      <td>Bayer Children's Aspirin</td>\n",
              "      <td>transient ischemic attack</td>\n",
              "      <td>\"No side effects,  easy to take, no more sympt...</td>\n",
              "      <td>10</td>\n",
              "      <td>10</td>\n",
              "      <td>['speech slurred', 'dysarthria', 'facial pares...</td>\n",
              "      <td>0.206</td>\n",
              "      <td>0.156</td>\n",
              "      <td>0.638</td>\n",
              "      <td>0.1779</td>\n",
              "      <td></td>\n",
              "    </tr>\n",
              "  </tbody>\n",
              "</table>\n",
              "</div>"
            ],
            "text/plain": [
              "                       Drug  ... Review_Sentiment\n",
              "0                   Aspirin  ...                 \n",
              "1               Clopidogrel  ...                 \n",
              "2               Clopidogrel  ...                 \n",
              "3               Clopidogrel  ...                 \n",
              "4  Bayer Children's Aspirin  ...                 \n",
              "\n",
              "[5 rows x 11 columns]"
            ]
          },
          "metadata": {
            "tags": []
          },
          "execution_count": 67
        }
      ]
    },
    {
      "cell_type": "markdown",
      "metadata": {
        "id": "Ok68NvLeFOFv",
        "colab_type": "text"
      },
      "source": [
        "Based on the compound value we can determine whether the overall sentiment of the review is postive, negative or neutral. Below will be the threshold we shall be using for classifying the review sentiment class:\n",
        "\n",
        "Positive sentiment: compound score >= 0.05\n",
        "\n",
        "Neutral sentiment : -0.05 < compound score < 0.05\n",
        "\n",
        "Negative sentiment: compound score <= *-0.05*"
      ]
    },
    {
      "cell_type": "code",
      "metadata": {
        "id": "77jCTi7DFGVN",
        "colab_type": "code",
        "colab": {}
      },
      "source": [
        "merged_data.loc[merged_data['Compound'] >= 0.05, 'Review_Sentiment'] = 'Positive'\n",
        "merged_data.loc[merged_data['Compound'] <= -0.05, 'Review_Sentiment'] = 'Negative'\n",
        "merged_data[\"Review_Sentiment\"].replace('', 'Neutral', inplace = True)"
      ],
      "execution_count": 0,
      "outputs": []
    },
    {
      "cell_type": "code",
      "metadata": {
        "id": "nr3vy85uFk_b",
        "colab_type": "code",
        "colab": {}
      },
      "source": [
        "#Dropping the columns Positive, Negative, Neutral and Compound.\n",
        "merged_data = merged_data.drop(columns = [\"Positive\", \"Negative\", \"Neutral\", \"Compound\"])"
      ],
      "execution_count": 0,
      "outputs": []
    },
    {
      "cell_type": "code",
      "metadata": {
        "id": "aJFq0nbdFwOH",
        "colab_type": "code",
        "colab": {}
      },
      "source": [
        "# Rearranging the columns in different order.\n",
        "merged_data = merged_data[[\"Disease\", \"Drug\", \"Symptoms\", \"Review\", \"Review_Sentiment\", \"Rating\", \"UsefulCount\"]]"
      ],
      "execution_count": 0,
      "outputs": []
    },
    {
      "cell_type": "code",
      "metadata": {
        "id": "OGo1DKlMF71z",
        "colab_type": "code",
        "colab": {
          "base_uri": "https://localhost:8080/",
          "height": 196
        },
        "outputId": "fee3111c-449e-47b7-d775-27e7611dfa99"
      },
      "source": [
        "#Visualizing the merged dataset after adding the sentiment analysis results.\n",
        "merged_data.head()"
      ],
      "execution_count": 71,
      "outputs": [
        {
          "output_type": "execute_result",
          "data": {
            "text/html": [
              "<div>\n",
              "<style scoped>\n",
              "    .dataframe tbody tr th:only-of-type {\n",
              "        vertical-align: middle;\n",
              "    }\n",
              "\n",
              "    .dataframe tbody tr th {\n",
              "        vertical-align: top;\n",
              "    }\n",
              "\n",
              "    .dataframe thead th {\n",
              "        text-align: right;\n",
              "    }\n",
              "</style>\n",
              "<table border=\"1\" class=\"dataframe\">\n",
              "  <thead>\n",
              "    <tr style=\"text-align: right;\">\n",
              "      <th></th>\n",
              "      <th>Disease</th>\n",
              "      <th>Drug</th>\n",
              "      <th>Symptoms</th>\n",
              "      <th>Review</th>\n",
              "      <th>Review_Sentiment</th>\n",
              "      <th>Rating</th>\n",
              "      <th>UsefulCount</th>\n",
              "    </tr>\n",
              "  </thead>\n",
              "  <tbody>\n",
              "    <tr>\n",
              "      <th>0</th>\n",
              "      <td>transient ischemic attack</td>\n",
              "      <td>Aspirin</td>\n",
              "      <td>['speech slurred', 'dysarthria', 'facial pares...</td>\n",
              "      <td>\"No side effects,  easy to take, no more sympt...</td>\n",
              "      <td>Positive</td>\n",
              "      <td>10</td>\n",
              "      <td>10</td>\n",
              "    </tr>\n",
              "    <tr>\n",
              "      <th>1</th>\n",
              "      <td>transient ischemic attack</td>\n",
              "      <td>Clopidogrel</td>\n",
              "      <td>['speech slurred', 'dysarthria', 'facial pares...</td>\n",
              "      <td>\"I&amp;#039;ve been taking this medicine for a lit...</td>\n",
              "      <td>Negative</td>\n",
              "      <td>10</td>\n",
              "      <td>8</td>\n",
              "    </tr>\n",
              "    <tr>\n",
              "      <th>2</th>\n",
              "      <td>transient ischemic attack</td>\n",
              "      <td>Clopidogrel</td>\n",
              "      <td>['speech slurred', 'dysarthria', 'facial pares...</td>\n",
              "      <td>\"I took ibuprofen (2 caps at night for severe ...</td>\n",
              "      <td>Negative</td>\n",
              "      <td>6</td>\n",
              "      <td>13</td>\n",
              "    </tr>\n",
              "    <tr>\n",
              "      <th>3</th>\n",
              "      <td>transient ischemic attack</td>\n",
              "      <td>Clopidogrel</td>\n",
              "      <td>['speech slurred', 'dysarthria', 'facial pares...</td>\n",
              "      <td>\"After my VAD Stroke I am on plavix.  I have a...</td>\n",
              "      <td>Positive</td>\n",
              "      <td>5</td>\n",
              "      <td>9</td>\n",
              "    </tr>\n",
              "    <tr>\n",
              "      <th>4</th>\n",
              "      <td>transient ischemic attack</td>\n",
              "      <td>Bayer Children's Aspirin</td>\n",
              "      <td>['speech slurred', 'dysarthria', 'facial pares...</td>\n",
              "      <td>\"No side effects,  easy to take, no more sympt...</td>\n",
              "      <td>Positive</td>\n",
              "      <td>10</td>\n",
              "      <td>10</td>\n",
              "    </tr>\n",
              "  </tbody>\n",
              "</table>\n",
              "</div>"
            ],
            "text/plain": [
              "                     Disease                      Drug  ... Rating UsefulCount\n",
              "0  transient ischemic attack                   Aspirin  ...     10          10\n",
              "1  transient ischemic attack               Clopidogrel  ...     10           8\n",
              "2  transient ischemic attack               Clopidogrel  ...      6          13\n",
              "3  transient ischemic attack               Clopidogrel  ...      5           9\n",
              "4  transient ischemic attack  Bayer Children's Aspirin  ...     10          10\n",
              "\n",
              "[5 rows x 7 columns]"
            ]
          },
          "metadata": {
            "tags": []
          },
          "execution_count": 71
        }
      ]
    },
    {
      "cell_type": "code",
      "metadata": {
        "id": "cjFhqUJaGIl_",
        "colab_type": "code",
        "colab": {}
      },
      "source": [
        "#Exporting this merged dataset as csv file.\n",
        "merged_data.to_csv(r'drive/My Drive/Dataset/Drug_Recommender.csv', index=False)"
      ],
      "execution_count": 0,
      "outputs": []
    },
    {
      "cell_type": "code",
      "metadata": {
        "id": "2kpSMqtkGYhv",
        "colab_type": "code",
        "colab": {}
      },
      "source": [
        ""
      ],
      "execution_count": 0,
      "outputs": []
    }
  ]
}