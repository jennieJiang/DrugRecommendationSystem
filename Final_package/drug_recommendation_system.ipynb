{
  "nbformat": 4,
  "nbformat_minor": 0,
  "metadata": {
    "colab": {
      "name": "drug_recommendation_system",
      "provenance": [],
      "include_colab_link": true
    },
    "kernelspec": {
      "name": "python3",
      "display_name": "Python 3"
    }
  },
  "cells": [
    {
      "cell_type": "markdown",
      "metadata": {
        "id": "view-in-github",
        "colab_type": "text"
      },
      "source": [
        "<a href=\"https://colab.research.google.com/github/khushbooekhande/DrugRecommendationSystem/blob/master/Final_package/drug_recommendation_system.ipynb\" target=\"_parent\"><img src=\"https://colab.research.google.com/assets/colab-badge.svg\" alt=\"Open In Colab\"/></a>"
      ]
    },
    {
      "cell_type": "markdown",
      "metadata": {
        "id": "9bUJgSRVQvxp",
        "colab_type": "text"
      },
      "source": [
        "# **Group 3: Disease Prediction and Drug recommendation**"
      ]
    },
    {
      "cell_type": "code",
      "metadata": {
        "id": "vbT-IeAF3gsV",
        "colab_type": "code",
        "colab": {}
      },
      "source": [
        "import pandas as pd \n",
        "import numpy as np\n",
        "import os\n",
        "\n",
        "from sklearn.model_selection import train_test_split\n",
        "from sklearn.ensemble import ExtraTreesClassifier\n",
        "from sklearn.naive_bayes import MultinomialNB\n",
        "from sklearn.tree import DecisionTreeClassifier\n",
        "from sklearn import svm"
      ],
      "execution_count": 0,
      "outputs": []
    },
    {
      "cell_type": "code",
      "metadata": {
        "id": "PIXn6faj4ko2",
        "colab_type": "code",
        "outputId": "0efd98c6-9945-49ca-e58d-b5ecc05df304",
        "colab": {
          "base_uri": "https://localhost:8080/",
          "height": 122
        }
      },
      "source": [
        "from google.colab import drive\n",
        "drive.mount(\"/content/drive\")"
      ],
      "execution_count": 3,
      "outputs": [
        {
          "output_type": "stream",
          "text": [
            "Go to this URL in a browser: https://accounts.google.com/o/oauth2/auth?client_id=947318989803-6bn6qk8qdgf4n4g3pfee6491hc0brc4i.apps.googleusercontent.com&redirect_uri=urn%3aietf%3awg%3aoauth%3a2.0%3aoob&response_type=code&scope=email%20https%3a%2f%2fwww.googleapis.com%2fauth%2fdocs.test%20https%3a%2f%2fwww.googleapis.com%2fauth%2fdrive%20https%3a%2f%2fwww.googleapis.com%2fauth%2fdrive.photos.readonly%20https%3a%2f%2fwww.googleapis.com%2fauth%2fpeopleapi.readonly\n",
            "\n",
            "Enter your authorization code:\n",
            "··········\n",
            "Mounted at /content/drive\n"
          ],
          "name": "stdout"
        }
      ]
    },
    {
      "cell_type": "code",
      "metadata": {
        "id": "91V_VmIWmmEY",
        "colab_type": "code",
        "colab": {}
      },
      "source": [
        "#define your path here\n",
        "path = os.getcwd() + '/drive/My Drive'"
      ],
      "execution_count": 0,
      "outputs": []
    },
    {
      "cell_type": "markdown",
      "metadata": {
        "id": "vZ8n653IJorJ",
        "colab_type": "text"
      },
      "source": [
        "# **Disease Prediction**"
      ]
    },
    {
      "cell_type": "code",
      "metadata": {
        "id": "8hufg6cq4lLP",
        "colab_type": "code",
        "colab": {}
      },
      "source": [
        "# Reading the symptoms dataset\n",
        "sym_data = pd.read_csv(path + f\"/symptoms_data.csv\")"
      ],
      "execution_count": 0,
      "outputs": []
    },
    {
      "cell_type": "code",
      "metadata": {
        "id": "mPBXTex7KOUj",
        "colab_type": "code",
        "outputId": "1ad56527-fcaf-4240-d1f7-bb1fa2b4729b",
        "colab": {
          "base_uri": "https://localhost:8080/",
          "height": 406
        }
      },
      "source": [
        "sym_data.head()"
      ],
      "execution_count": 5,
      "outputs": [
        {
          "output_type": "execute_result",
          "data": {
            "text/html": [
              "<div>\n",
              "<style scoped>\n",
              "    .dataframe tbody tr th:only-of-type {\n",
              "        vertical-align: middle;\n",
              "    }\n",
              "\n",
              "    .dataframe tbody tr th {\n",
              "        vertical-align: top;\n",
              "    }\n",
              "\n",
              "    .dataframe thead th {\n",
              "        text-align: right;\n",
              "    }\n",
              "</style>\n",
              "<table border=\"1\" class=\"dataframe\">\n",
              "  <thead>\n",
              "    <tr style=\"text-align: right;\">\n",
              "      <th></th>\n",
              "      <th>Disease</th>\n",
              "      <th>Heberden's node</th>\n",
              "      <th>Murphy's sign</th>\n",
              "      <th>Stahli's line</th>\n",
              "      <th>abdomen acute</th>\n",
              "      <th>abdominal bloating</th>\n",
              "      <th>abdominal tenderness</th>\n",
              "      <th>abnormal sensation</th>\n",
              "      <th>abnormally hard consistency</th>\n",
              "      <th>abortion</th>\n",
              "      <th>abscess bacterial</th>\n",
              "      <th>absences finding</th>\n",
              "      <th>achalasia</th>\n",
              "      <th>ache</th>\n",
              "      <th>adverse effect</th>\n",
              "      <th>adverse reaction</th>\n",
              "      <th>agitation</th>\n",
              "      <th>air fluid level</th>\n",
              "      <th>alcohol binge episode</th>\n",
              "      <th>alcoholic withdrawal symptoms</th>\n",
              "      <th>ambidexterity</th>\n",
              "      <th>angina pectoris</th>\n",
              "      <th>anorexia</th>\n",
              "      <th>anosmia</th>\n",
              "      <th>aphagia</th>\n",
              "      <th>apyrexial</th>\n",
              "      <th>arthralgia</th>\n",
              "      <th>ascites</th>\n",
              "      <th>asterixis</th>\n",
              "      <th>asthenia</th>\n",
              "      <th>asymptomatic</th>\n",
              "      <th>ataxia</th>\n",
              "      <th>atypia</th>\n",
              "      <th>aura</th>\n",
              "      <th>awakening early</th>\n",
              "      <th>barking cough</th>\n",
              "      <th>bedridden</th>\n",
              "      <th>behavior hyperactive</th>\n",
              "      <th>behavior showing increased motor activity</th>\n",
              "      <th>blackout</th>\n",
              "      <th>...</th>\n",
              "      <th>tenesmus</th>\n",
              "      <th>terrify</th>\n",
              "      <th>thicken</th>\n",
              "      <th>throat sore</th>\n",
              "      <th>throbbing sensation quality</th>\n",
              "      <th>tinnitus</th>\n",
              "      <th>tired</th>\n",
              "      <th>titubation</th>\n",
              "      <th>todd paralysis</th>\n",
              "      <th>tonic seizures</th>\n",
              "      <th>transaminitis</th>\n",
              "      <th>transsexual</th>\n",
              "      <th>tremor</th>\n",
              "      <th>tremor resting</th>\n",
              "      <th>tumor cell invasion</th>\n",
              "      <th>unable to concentrate</th>\n",
              "      <th>unconscious state</th>\n",
              "      <th>uncoordination</th>\n",
              "      <th>underweight</th>\n",
              "      <th>unhappy</th>\n",
              "      <th>unresponsiveness</th>\n",
              "      <th>unsteady gait</th>\n",
              "      <th>unwell</th>\n",
              "      <th>urge incontinence</th>\n",
              "      <th>urgency ofÂ micturition</th>\n",
              "      <th>urinary hesitation</th>\n",
              "      <th>urinoma</th>\n",
              "      <th>verbal auditory hallucinations</th>\n",
              "      <th>verbally abusive behavior</th>\n",
              "      <th>vertigo</th>\n",
              "      <th>vision blurred</th>\n",
              "      <th>vomiting</th>\n",
              "      <th>weepiness</th>\n",
              "      <th>weight gain</th>\n",
              "      <th>welt</th>\n",
              "      <th>wheelchair bound</th>\n",
              "      <th>wheezing</th>\n",
              "      <th>withdraw</th>\n",
              "      <th>worry</th>\n",
              "      <th>yellow sputum</th>\n",
              "    </tr>\n",
              "  </thead>\n",
              "  <tbody>\n",
              "    <tr>\n",
              "      <th>0</th>\n",
              "      <td>Alzheimer's disease</td>\n",
              "      <td>0</td>\n",
              "      <td>0</td>\n",
              "      <td>0</td>\n",
              "      <td>0</td>\n",
              "      <td>0</td>\n",
              "      <td>0</td>\n",
              "      <td>0</td>\n",
              "      <td>0</td>\n",
              "      <td>0</td>\n",
              "      <td>0</td>\n",
              "      <td>0</td>\n",
              "      <td>0</td>\n",
              "      <td>0</td>\n",
              "      <td>0</td>\n",
              "      <td>0</td>\n",
              "      <td>1</td>\n",
              "      <td>0</td>\n",
              "      <td>0</td>\n",
              "      <td>0</td>\n",
              "      <td>0</td>\n",
              "      <td>0</td>\n",
              "      <td>0</td>\n",
              "      <td>0</td>\n",
              "      <td>0</td>\n",
              "      <td>0</td>\n",
              "      <td>0</td>\n",
              "      <td>0</td>\n",
              "      <td>0</td>\n",
              "      <td>0</td>\n",
              "      <td>0</td>\n",
              "      <td>0</td>\n",
              "      <td>0</td>\n",
              "      <td>0</td>\n",
              "      <td>0</td>\n",
              "      <td>0</td>\n",
              "      <td>0</td>\n",
              "      <td>0</td>\n",
              "      <td>0</td>\n",
              "      <td>0</td>\n",
              "      <td>...</td>\n",
              "      <td>0</td>\n",
              "      <td>0</td>\n",
              "      <td>0</td>\n",
              "      <td>0</td>\n",
              "      <td>0</td>\n",
              "      <td>0</td>\n",
              "      <td>0</td>\n",
              "      <td>0</td>\n",
              "      <td>0</td>\n",
              "      <td>0</td>\n",
              "      <td>0</td>\n",
              "      <td>0</td>\n",
              "      <td>0</td>\n",
              "      <td>0</td>\n",
              "      <td>0</td>\n",
              "      <td>0</td>\n",
              "      <td>0</td>\n",
              "      <td>0</td>\n",
              "      <td>0</td>\n",
              "      <td>0</td>\n",
              "      <td>0</td>\n",
              "      <td>0</td>\n",
              "      <td>0</td>\n",
              "      <td>0</td>\n",
              "      <td>0</td>\n",
              "      <td>0</td>\n",
              "      <td>0</td>\n",
              "      <td>0</td>\n",
              "      <td>0</td>\n",
              "      <td>0</td>\n",
              "      <td>0</td>\n",
              "      <td>0</td>\n",
              "      <td>0</td>\n",
              "      <td>0</td>\n",
              "      <td>0</td>\n",
              "      <td>0</td>\n",
              "      <td>0</td>\n",
              "      <td>0</td>\n",
              "      <td>0</td>\n",
              "      <td>0</td>\n",
              "    </tr>\n",
              "    <tr>\n",
              "      <th>1</th>\n",
              "      <td>Alzheimer's disease</td>\n",
              "      <td>0</td>\n",
              "      <td>0</td>\n",
              "      <td>0</td>\n",
              "      <td>0</td>\n",
              "      <td>0</td>\n",
              "      <td>0</td>\n",
              "      <td>0</td>\n",
              "      <td>0</td>\n",
              "      <td>0</td>\n",
              "      <td>0</td>\n",
              "      <td>0</td>\n",
              "      <td>0</td>\n",
              "      <td>0</td>\n",
              "      <td>0</td>\n",
              "      <td>0</td>\n",
              "      <td>1</td>\n",
              "      <td>0</td>\n",
              "      <td>0</td>\n",
              "      <td>0</td>\n",
              "      <td>0</td>\n",
              "      <td>0</td>\n",
              "      <td>0</td>\n",
              "      <td>0</td>\n",
              "      <td>0</td>\n",
              "      <td>0</td>\n",
              "      <td>0</td>\n",
              "      <td>0</td>\n",
              "      <td>0</td>\n",
              "      <td>0</td>\n",
              "      <td>0</td>\n",
              "      <td>0</td>\n",
              "      <td>0</td>\n",
              "      <td>0</td>\n",
              "      <td>0</td>\n",
              "      <td>0</td>\n",
              "      <td>1</td>\n",
              "      <td>0</td>\n",
              "      <td>0</td>\n",
              "      <td>0</td>\n",
              "      <td>...</td>\n",
              "      <td>0</td>\n",
              "      <td>0</td>\n",
              "      <td>0</td>\n",
              "      <td>0</td>\n",
              "      <td>0</td>\n",
              "      <td>0</td>\n",
              "      <td>0</td>\n",
              "      <td>0</td>\n",
              "      <td>0</td>\n",
              "      <td>0</td>\n",
              "      <td>0</td>\n",
              "      <td>0</td>\n",
              "      <td>0</td>\n",
              "      <td>1</td>\n",
              "      <td>0</td>\n",
              "      <td>0</td>\n",
              "      <td>0</td>\n",
              "      <td>0</td>\n",
              "      <td>0</td>\n",
              "      <td>0</td>\n",
              "      <td>0</td>\n",
              "      <td>0</td>\n",
              "      <td>0</td>\n",
              "      <td>0</td>\n",
              "      <td>0</td>\n",
              "      <td>0</td>\n",
              "      <td>0</td>\n",
              "      <td>0</td>\n",
              "      <td>0</td>\n",
              "      <td>0</td>\n",
              "      <td>0</td>\n",
              "      <td>0</td>\n",
              "      <td>0</td>\n",
              "      <td>0</td>\n",
              "      <td>0</td>\n",
              "      <td>0</td>\n",
              "      <td>0</td>\n",
              "      <td>0</td>\n",
              "      <td>0</td>\n",
              "      <td>0</td>\n",
              "    </tr>\n",
              "    <tr>\n",
              "      <th>2</th>\n",
              "      <td>Alzheimer's disease</td>\n",
              "      <td>0</td>\n",
              "      <td>0</td>\n",
              "      <td>0</td>\n",
              "      <td>0</td>\n",
              "      <td>0</td>\n",
              "      <td>0</td>\n",
              "      <td>0</td>\n",
              "      <td>0</td>\n",
              "      <td>0</td>\n",
              "      <td>0</td>\n",
              "      <td>0</td>\n",
              "      <td>0</td>\n",
              "      <td>0</td>\n",
              "      <td>0</td>\n",
              "      <td>0</td>\n",
              "      <td>1</td>\n",
              "      <td>0</td>\n",
              "      <td>0</td>\n",
              "      <td>0</td>\n",
              "      <td>0</td>\n",
              "      <td>0</td>\n",
              "      <td>0</td>\n",
              "      <td>0</td>\n",
              "      <td>0</td>\n",
              "      <td>0</td>\n",
              "      <td>0</td>\n",
              "      <td>0</td>\n",
              "      <td>0</td>\n",
              "      <td>0</td>\n",
              "      <td>0</td>\n",
              "      <td>0</td>\n",
              "      <td>0</td>\n",
              "      <td>0</td>\n",
              "      <td>0</td>\n",
              "      <td>0</td>\n",
              "      <td>1</td>\n",
              "      <td>0</td>\n",
              "      <td>0</td>\n",
              "      <td>0</td>\n",
              "      <td>...</td>\n",
              "      <td>0</td>\n",
              "      <td>0</td>\n",
              "      <td>0</td>\n",
              "      <td>0</td>\n",
              "      <td>0</td>\n",
              "      <td>0</td>\n",
              "      <td>0</td>\n",
              "      <td>0</td>\n",
              "      <td>0</td>\n",
              "      <td>0</td>\n",
              "      <td>0</td>\n",
              "      <td>0</td>\n",
              "      <td>0</td>\n",
              "      <td>0</td>\n",
              "      <td>0</td>\n",
              "      <td>0</td>\n",
              "      <td>0</td>\n",
              "      <td>0</td>\n",
              "      <td>0</td>\n",
              "      <td>0</td>\n",
              "      <td>0</td>\n",
              "      <td>0</td>\n",
              "      <td>0</td>\n",
              "      <td>0</td>\n",
              "      <td>0</td>\n",
              "      <td>0</td>\n",
              "      <td>0</td>\n",
              "      <td>0</td>\n",
              "      <td>0</td>\n",
              "      <td>0</td>\n",
              "      <td>0</td>\n",
              "      <td>0</td>\n",
              "      <td>0</td>\n",
              "      <td>0</td>\n",
              "      <td>0</td>\n",
              "      <td>0</td>\n",
              "      <td>0</td>\n",
              "      <td>0</td>\n",
              "      <td>0</td>\n",
              "      <td>0</td>\n",
              "    </tr>\n",
              "    <tr>\n",
              "      <th>3</th>\n",
              "      <td>Alzheimer's disease</td>\n",
              "      <td>0</td>\n",
              "      <td>0</td>\n",
              "      <td>0</td>\n",
              "      <td>0</td>\n",
              "      <td>0</td>\n",
              "      <td>0</td>\n",
              "      <td>0</td>\n",
              "      <td>0</td>\n",
              "      <td>0</td>\n",
              "      <td>0</td>\n",
              "      <td>0</td>\n",
              "      <td>0</td>\n",
              "      <td>0</td>\n",
              "      <td>0</td>\n",
              "      <td>0</td>\n",
              "      <td>1</td>\n",
              "      <td>0</td>\n",
              "      <td>0</td>\n",
              "      <td>0</td>\n",
              "      <td>0</td>\n",
              "      <td>0</td>\n",
              "      <td>0</td>\n",
              "      <td>0</td>\n",
              "      <td>0</td>\n",
              "      <td>0</td>\n",
              "      <td>0</td>\n",
              "      <td>0</td>\n",
              "      <td>0</td>\n",
              "      <td>0</td>\n",
              "      <td>0</td>\n",
              "      <td>0</td>\n",
              "      <td>0</td>\n",
              "      <td>0</td>\n",
              "      <td>0</td>\n",
              "      <td>0</td>\n",
              "      <td>1</td>\n",
              "      <td>0</td>\n",
              "      <td>0</td>\n",
              "      <td>0</td>\n",
              "      <td>...</td>\n",
              "      <td>0</td>\n",
              "      <td>0</td>\n",
              "      <td>0</td>\n",
              "      <td>0</td>\n",
              "      <td>0</td>\n",
              "      <td>0</td>\n",
              "      <td>0</td>\n",
              "      <td>0</td>\n",
              "      <td>0</td>\n",
              "      <td>0</td>\n",
              "      <td>0</td>\n",
              "      <td>0</td>\n",
              "      <td>1</td>\n",
              "      <td>1</td>\n",
              "      <td>0</td>\n",
              "      <td>0</td>\n",
              "      <td>0</td>\n",
              "      <td>0</td>\n",
              "      <td>0</td>\n",
              "      <td>0</td>\n",
              "      <td>0</td>\n",
              "      <td>0</td>\n",
              "      <td>0</td>\n",
              "      <td>0</td>\n",
              "      <td>0</td>\n",
              "      <td>0</td>\n",
              "      <td>0</td>\n",
              "      <td>0</td>\n",
              "      <td>0</td>\n",
              "      <td>0</td>\n",
              "      <td>0</td>\n",
              "      <td>0</td>\n",
              "      <td>0</td>\n",
              "      <td>0</td>\n",
              "      <td>0</td>\n",
              "      <td>1</td>\n",
              "      <td>0</td>\n",
              "      <td>0</td>\n",
              "      <td>0</td>\n",
              "      <td>0</td>\n",
              "    </tr>\n",
              "    <tr>\n",
              "      <th>4</th>\n",
              "      <td>Alzheimer's disease</td>\n",
              "      <td>0</td>\n",
              "      <td>0</td>\n",
              "      <td>0</td>\n",
              "      <td>0</td>\n",
              "      <td>0</td>\n",
              "      <td>0</td>\n",
              "      <td>0</td>\n",
              "      <td>0</td>\n",
              "      <td>0</td>\n",
              "      <td>0</td>\n",
              "      <td>0</td>\n",
              "      <td>0</td>\n",
              "      <td>0</td>\n",
              "      <td>0</td>\n",
              "      <td>0</td>\n",
              "      <td>1</td>\n",
              "      <td>0</td>\n",
              "      <td>0</td>\n",
              "      <td>0</td>\n",
              "      <td>0</td>\n",
              "      <td>0</td>\n",
              "      <td>0</td>\n",
              "      <td>0</td>\n",
              "      <td>0</td>\n",
              "      <td>0</td>\n",
              "      <td>0</td>\n",
              "      <td>0</td>\n",
              "      <td>0</td>\n",
              "      <td>0</td>\n",
              "      <td>0</td>\n",
              "      <td>0</td>\n",
              "      <td>0</td>\n",
              "      <td>0</td>\n",
              "      <td>0</td>\n",
              "      <td>0</td>\n",
              "      <td>1</td>\n",
              "      <td>0</td>\n",
              "      <td>0</td>\n",
              "      <td>0</td>\n",
              "      <td>...</td>\n",
              "      <td>0</td>\n",
              "      <td>0</td>\n",
              "      <td>0</td>\n",
              "      <td>0</td>\n",
              "      <td>0</td>\n",
              "      <td>0</td>\n",
              "      <td>0</td>\n",
              "      <td>0</td>\n",
              "      <td>0</td>\n",
              "      <td>0</td>\n",
              "      <td>0</td>\n",
              "      <td>0</td>\n",
              "      <td>1</td>\n",
              "      <td>1</td>\n",
              "      <td>0</td>\n",
              "      <td>0</td>\n",
              "      <td>0</td>\n",
              "      <td>0</td>\n",
              "      <td>0</td>\n",
              "      <td>0</td>\n",
              "      <td>0</td>\n",
              "      <td>0</td>\n",
              "      <td>0</td>\n",
              "      <td>0</td>\n",
              "      <td>0</td>\n",
              "      <td>0</td>\n",
              "      <td>0</td>\n",
              "      <td>0</td>\n",
              "      <td>0</td>\n",
              "      <td>0</td>\n",
              "      <td>0</td>\n",
              "      <td>0</td>\n",
              "      <td>0</td>\n",
              "      <td>0</td>\n",
              "      <td>0</td>\n",
              "      <td>1</td>\n",
              "      <td>0</td>\n",
              "      <td>0</td>\n",
              "      <td>0</td>\n",
              "      <td>0</td>\n",
              "    </tr>\n",
              "  </tbody>\n",
              "</table>\n",
              "<p>5 rows × 405 columns</p>\n",
              "</div>"
            ],
            "text/plain": [
              "               Disease  Heberden's node  ...  worry  yellow sputum\n",
              "0  Alzheimer's disease                0  ...      0              0\n",
              "1  Alzheimer's disease                0  ...      0              0\n",
              "2  Alzheimer's disease                0  ...      0              0\n",
              "3  Alzheimer's disease                0  ...      0              0\n",
              "4  Alzheimer's disease                0  ...      0              0\n",
              "\n",
              "[5 rows x 405 columns]"
            ]
          },
          "metadata": {
            "tags": []
          },
          "execution_count": 5
        }
      ]
    },
    {
      "cell_type": "code",
      "metadata": {
        "id": "fI4zyaeN6ltU",
        "colab_type": "code",
        "colab": {}
      },
      "source": [
        "sym_data = pd.concat([sym_data]*2, ignore_index=True)\n",
        "cols = sym_data.columns\n",
        "cols = cols[1:]"
      ],
      "execution_count": 0,
      "outputs": []
    },
    {
      "cell_type": "code",
      "metadata": {
        "id": "T6u2HR2P69-U",
        "colab_type": "code",
        "colab": {}
      },
      "source": [
        "x = sym_data[cols]\n",
        "y = sym_data['Disease']"
      ],
      "execution_count": 0,
      "outputs": []
    },
    {
      "cell_type": "code",
      "metadata": {
        "id": "qjXCI_v76_0v",
        "colab_type": "code",
        "colab": {}
      },
      "source": [
        "from sklearn.model_selection import train_test_split\n",
        "\n",
        "x_train, x_test, y_train, y_test = train_test_split(x, y, test_size=0.33, random_state=42)"
      ],
      "execution_count": 0,
      "outputs": []
    },
    {
      "cell_type": "markdown",
      "metadata": {
        "id": "xAzUeHrU7FqK",
        "colab_type": "text"
      },
      "source": [
        "## Training the data"
      ]
    },
    {
      "cell_type": "markdown",
      "metadata": {
        "id": "OuSrK5TB7i9i",
        "colab_type": "text"
      },
      "source": [
        "Using decision tree and MNB classifier as it got highest accuracy"
      ]
    },
    {
      "cell_type": "code",
      "metadata": {
        "id": "0hBuiMcv7l7S",
        "colab_type": "code",
        "colab": {}
      },
      "source": [
        "features = cols\n",
        "feature_dict = {}\n",
        "for i,f in enumerate(features):\n",
        "    feature_dict[f] = i"
      ],
      "execution_count": 0,
      "outputs": []
    },
    {
      "cell_type": "code",
      "metadata": {
        "id": "Bbm20bwq7m_I",
        "colab_type": "code",
        "outputId": "4003b87e-9af6-4cd5-dfbc-242102e46557",
        "colab": {
          "base_uri": "https://localhost:8080/",
          "height": 51
        }
      },
      "source": [
        "print (\"DecisionTree\")\n",
        "dt = DecisionTreeClassifier(max_depth=120)\n",
        "clf_dt=dt.fit(x_train,y_train)\n",
        "print (\"Acurracy: \", clf_dt.score(x_test,y_test))"
      ],
      "execution_count": 10,
      "outputs": [
        {
          "output_type": "stream",
          "text": [
            "DecisionTree\n",
            "Acurracy:  0.8864144803742119\n"
          ],
          "name": "stdout"
        }
      ]
    },
    {
      "cell_type": "code",
      "metadata": {
        "id": "OD7210Zg7oxP",
        "colab_type": "code",
        "outputId": "5b663fb5-ed53-4b5f-9440-c876dbe05638",
        "colab": {
          "base_uri": "https://localhost:8080/",
          "height": 34
        }
      },
      "source": [
        "mnb = MultinomialNB()\n",
        "clf_mnb=mnb.fit(x_train,y_train)\n",
        "print (\"Acurracy: \", clf_mnb.score(x_test,y_test))"
      ],
      "execution_count": 11,
      "outputs": [
        {
          "output_type": "stream",
          "text": [
            "Acurracy:  0.8774150905023388\n"
          ],
          "name": "stdout"
        }
      ]
    },
    {
      "cell_type": "code",
      "metadata": {
        "id": "1FOyHzSK7sd5",
        "colab_type": "code",
        "outputId": "860c67f2-dad8-4db9-e163-d3fe378ce150",
        "colab": {
          "base_uri": "https://localhost:8080/",
          "height": 34
        }
      },
      "source": [
        "input_features = [feature_dict['fever'], feature_dict['cough'], feature_dict['drool']]\n",
        "input_features"
      ],
      "execution_count": 12,
      "outputs": [
        {
          "output_type": "execute_result",
          "data": {
            "text/plain": [
              "[122, 70, 89]"
            ]
          },
          "metadata": {
            "tags": []
          },
          "execution_count": 12
        }
      ]
    },
    {
      "cell_type": "code",
      "metadata": {
        "id": "vIqve8c_7uQu",
        "colab_type": "code",
        "colab": {}
      },
      "source": [
        "arr =[]\n",
        "for i in range(len(features)):\n",
        "  if i == input_features[0]:\n",
        "    i = int(i/input_features[0])\n",
        "  elif i == input_features[1]:\n",
        "    i = int(i/input_features[1])\n",
        "  elif i == input_features[2]:\n",
        "    i = int(i/input_features[2])\n",
        "  else:\n",
        "    i = 0\n",
        "  arr.append(i)"
      ],
      "execution_count": 0,
      "outputs": []
    },
    {
      "cell_type": "code",
      "metadata": {
        "id": "nzHc0dLX7wN0",
        "colab_type": "code",
        "colab": {}
      },
      "source": [
        "arr = np.array(arr).reshape(-1,len(arr))"
      ],
      "execution_count": 0,
      "outputs": []
    },
    {
      "cell_type": "markdown",
      "metadata": {
        "id": "qLPwkNPj7yi-",
        "colab_type": "text"
      },
      "source": [
        "**Predicted Disease**"
      ]
    },
    {
      "cell_type": "code",
      "metadata": {
        "id": "YOmFpuqm7yEz",
        "colab_type": "code",
        "outputId": "f1d1088d-9969-478b-d447-7b36aec52b59",
        "colab": {
          "base_uri": "https://localhost:8080/",
          "height": 34
        }
      },
      "source": [
        "predicted_disease = (mnb.predict(arr))\n",
        "print(\"The disease predicted based on given symptoms is : \" + predicted_disease[0])"
      ],
      "execution_count": 15,
      "outputs": [
        {
          "output_type": "stream",
          "text": [
            "The disease predicted based on given symptoms is : Alzheimer's disease\n"
          ],
          "name": "stdout"
        }
      ]
    },
    {
      "cell_type": "markdown",
      "metadata": {
        "id": "IFtv8opkBIZ5",
        "colab_type": "text"
      },
      "source": [
        "Importing the preprocessed and merged dataset containing the drug names for every disease, the reviews, symptoms, rating and useful count of all the drugs.\n",
        "\n"
      ]
    },
    {
      "cell_type": "markdown",
      "metadata": {
        "id": "l73GliSVSEdT",
        "colab_type": "text"
      },
      "source": [
        "# **Sentiment Analysis**"
      ]
    },
    {
      "cell_type": "code",
      "metadata": {
        "id": "MsoLKIGn71Nk",
        "colab_type": "code",
        "outputId": "c0baa549-cacd-41ac-ff5c-6e63910906c6",
        "colab": {
          "base_uri": "https://localhost:8080/",
          "height": 221
        }
      },
      "source": [
        "from google.colab import drive\n",
        "drive.mount(\"/content/drive\")\n",
        "\n",
        "\n",
        "merged_data = pd.read_csv(path + f\"/Merged_Dataset.csv\")\n",
        "merged_data.head()"
      ],
      "execution_count": 16,
      "outputs": [
        {
          "output_type": "stream",
          "text": [
            "Drive already mounted at /content/drive; to attempt to forcibly remount, call drive.mount(\"/content/drive\", force_remount=True).\n"
          ],
          "name": "stdout"
        },
        {
          "output_type": "execute_result",
          "data": {
            "text/html": [
              "<div>\n",
              "<style scoped>\n",
              "    .dataframe tbody tr th:only-of-type {\n",
              "        vertical-align: middle;\n",
              "    }\n",
              "\n",
              "    .dataframe tbody tr th {\n",
              "        vertical-align: top;\n",
              "    }\n",
              "\n",
              "    .dataframe thead th {\n",
              "        text-align: right;\n",
              "    }\n",
              "</style>\n",
              "<table border=\"1\" class=\"dataframe\">\n",
              "  <thead>\n",
              "    <tr style=\"text-align: right;\">\n",
              "      <th></th>\n",
              "      <th>Drug</th>\n",
              "      <th>Disease</th>\n",
              "      <th>Review</th>\n",
              "      <th>Rating</th>\n",
              "      <th>UsefulCount</th>\n",
              "      <th>Symptoms</th>\n",
              "    </tr>\n",
              "  </thead>\n",
              "  <tbody>\n",
              "    <tr>\n",
              "      <th>0</th>\n",
              "      <td>Aspirin</td>\n",
              "      <td>transient ischemic attack</td>\n",
              "      <td>\"No side effects,  easy to take, no more sympt...</td>\n",
              "      <td>10.0</td>\n",
              "      <td>10</td>\n",
              "      <td>['speech slurred', 'dysarthria', 'facial pares...</td>\n",
              "    </tr>\n",
              "    <tr>\n",
              "      <th>1</th>\n",
              "      <td>Clopidogrel</td>\n",
              "      <td>transient ischemic attack</td>\n",
              "      <td>\"I&amp;#039;ve been taking this medicine for a lit...</td>\n",
              "      <td>10.0</td>\n",
              "      <td>8</td>\n",
              "      <td>['speech slurred', 'dysarthria', 'facial pares...</td>\n",
              "    </tr>\n",
              "    <tr>\n",
              "      <th>2</th>\n",
              "      <td>Clopidogrel</td>\n",
              "      <td>transient ischemic attack</td>\n",
              "      <td>\"I took ibuprofen (2 caps at night for severe ...</td>\n",
              "      <td>6.0</td>\n",
              "      <td>13</td>\n",
              "      <td>['speech slurred', 'dysarthria', 'facial pares...</td>\n",
              "    </tr>\n",
              "    <tr>\n",
              "      <th>3</th>\n",
              "      <td>Clopidogrel</td>\n",
              "      <td>transient ischemic attack</td>\n",
              "      <td>\"After my VAD Stroke I am on plavix.  I have a...</td>\n",
              "      <td>5.0</td>\n",
              "      <td>9</td>\n",
              "      <td>['speech slurred', 'dysarthria', 'facial pares...</td>\n",
              "    </tr>\n",
              "    <tr>\n",
              "      <th>4</th>\n",
              "      <td>Bayer Children's Aspirin</td>\n",
              "      <td>transient ischemic attack</td>\n",
              "      <td>\"No side effects,  easy to take, no more sympt...</td>\n",
              "      <td>10.0</td>\n",
              "      <td>10</td>\n",
              "      <td>['speech slurred', 'dysarthria', 'facial pares...</td>\n",
              "    </tr>\n",
              "  </tbody>\n",
              "</table>\n",
              "</div>"
            ],
            "text/plain": [
              "                       Drug  ...                                           Symptoms\n",
              "0                   Aspirin  ...  ['speech slurred', 'dysarthria', 'facial pares...\n",
              "1               Clopidogrel  ...  ['speech slurred', 'dysarthria', 'facial pares...\n",
              "2               Clopidogrel  ...  ['speech slurred', 'dysarthria', 'facial pares...\n",
              "3               Clopidogrel  ...  ['speech slurred', 'dysarthria', 'facial pares...\n",
              "4  Bayer Children's Aspirin  ...  ['speech slurred', 'dysarthria', 'facial pares...\n",
              "\n",
              "[5 rows x 6 columns]"
            ]
          },
          "metadata": {
            "tags": []
          },
          "execution_count": 16
        }
      ]
    },
    {
      "cell_type": "markdown",
      "metadata": {
        "id": "fQUdzcNiCqz4",
        "colab_type": "text"
      },
      "source": [
        "**Performing sentiment analysis of drug review using VADER.**"
      ]
    },
    {
      "cell_type": "code",
      "metadata": {
        "id": "5nsvTirTDVCT",
        "colab_type": "code",
        "outputId": "bd001f03-97a9-4c55-95d8-cb624992627e",
        "colab": {
          "base_uri": "https://localhost:8080/",
          "height": 122
        }
      },
      "source": [
        "pip install vaderSentiment"
      ],
      "execution_count": 17,
      "outputs": [
        {
          "output_type": "stream",
          "text": [
            "Collecting vaderSentiment\n",
            "\u001b[?25l  Downloading https://files.pythonhosted.org/packages/44/a3/1218a3b5651dbcba1699101c84e5c84c36cbba360d9dbf29f2ff18482982/vaderSentiment-3.3.1-py2.py3-none-any.whl (125kB)\n",
            "\u001b[K     |████████████████████████████████| 133kB 2.6MB/s \n",
            "\u001b[?25hInstalling collected packages: vaderSentiment\n",
            "Successfully installed vaderSentiment-3.3.1\n"
          ],
          "name": "stdout"
        }
      ]
    },
    {
      "cell_type": "code",
      "metadata": {
        "id": "Y1QCy5E_CKie",
        "colab_type": "code",
        "colab": {}
      },
      "source": [
        "#Importing and installing the necessary library for VADER.\n",
        "\n",
        "from vaderSentiment.vaderSentiment import SentimentIntensityAnalyzer\n",
        "analyser = SentimentIntensityAnalyzer()"
      ],
      "execution_count": 0,
      "outputs": []
    },
    {
      "cell_type": "code",
      "metadata": {
        "id": "QPsWvdjyDCAd",
        "colab_type": "code",
        "colab": {}
      },
      "source": [
        "#Making a list of reviews to give it as input for vader analysis.\n",
        "review_list = list(merged_data.Review)\n",
        "\n",
        "#Initializing the necessary files.\n",
        "sentiments = []\n",
        "positive = []\n",
        "negative = []\n",
        "neutral = []\n",
        "compound = []"
      ],
      "execution_count": 0,
      "outputs": []
    },
    {
      "cell_type": "code",
      "metadata": {
        "id": "qqTpb-g6EOdU",
        "colab_type": "code",
        "colab": {}
      },
      "source": [
        "for text in review_list:\n",
        "\n",
        "  #Performing Vader Analysis on each review.\n",
        "  com = analyser.polarity_scores(text)[\"compound\"]\n",
        "  pos = analyser.polarity_scores(text)[\"pos\"]\n",
        "  neu = analyser.polarity_scores(text)[\"neu\"]\n",
        "  neg = analyser.polarity_scores(text)[\"neg\"]\n",
        "\n",
        "  #Adding each value to the corresponding array\n",
        "  positive.append(pos)\n",
        "  negative.append(neg)\n",
        "  neutral.append(neu)\n",
        "  compound.append(com)\n",
        "  sentiments.append({\"Review\":text,\n",
        "                     \"Positive\": pos,\n",
        "                     \"Negative\": neu,\n",
        "                     \"Neutral\": neg,\n",
        "                     \"Compound\": com})\n",
        "\n",
        "sentiments_data = pd.DataFrame.from_dict(sentiments)"
      ],
      "execution_count": 0,
      "outputs": []
    },
    {
      "cell_type": "code",
      "metadata": {
        "id": "rziuIA4IEk8o",
        "colab_type": "code",
        "outputId": "2f05e96f-2081-4581-c37e-e236a46c7dbd",
        "colab": {
          "base_uri": "https://localhost:8080/",
          "height": 419
        }
      },
      "source": [
        "#Visualizing data from vader analysis.\n",
        "sentiments_data"
      ],
      "execution_count": 21,
      "outputs": [
        {
          "output_type": "execute_result",
          "data": {
            "text/html": [
              "<div>\n",
              "<style scoped>\n",
              "    .dataframe tbody tr th:only-of-type {\n",
              "        vertical-align: middle;\n",
              "    }\n",
              "\n",
              "    .dataframe tbody tr th {\n",
              "        vertical-align: top;\n",
              "    }\n",
              "\n",
              "    .dataframe thead th {\n",
              "        text-align: right;\n",
              "    }\n",
              "</style>\n",
              "<table border=\"1\" class=\"dataframe\">\n",
              "  <thead>\n",
              "    <tr style=\"text-align: right;\">\n",
              "      <th></th>\n",
              "      <th>Review</th>\n",
              "      <th>Positive</th>\n",
              "      <th>Negative</th>\n",
              "      <th>Neutral</th>\n",
              "      <th>Compound</th>\n",
              "    </tr>\n",
              "  </thead>\n",
              "  <tbody>\n",
              "    <tr>\n",
              "      <th>0</th>\n",
              "      <td>\"No side effects,  easy to take, no more sympt...</td>\n",
              "      <td>0.206</td>\n",
              "      <td>0.638</td>\n",
              "      <td>0.156</td>\n",
              "      <td>0.1779</td>\n",
              "    </tr>\n",
              "    <tr>\n",
              "      <th>1</th>\n",
              "      <td>\"I&amp;#039;ve been taking this medicine for a lit...</td>\n",
              "      <td>0.098</td>\n",
              "      <td>0.762</td>\n",
              "      <td>0.140</td>\n",
              "      <td>-0.4092</td>\n",
              "    </tr>\n",
              "    <tr>\n",
              "      <th>2</th>\n",
              "      <td>\"I took ibuprofen (2 caps at night for severe ...</td>\n",
              "      <td>0.000</td>\n",
              "      <td>0.721</td>\n",
              "      <td>0.279</td>\n",
              "      <td>-0.8176</td>\n",
              "    </tr>\n",
              "    <tr>\n",
              "      <th>3</th>\n",
              "      <td>\"After my VAD Stroke I am on plavix.  I have a...</td>\n",
              "      <td>0.055</td>\n",
              "      <td>0.945</td>\n",
              "      <td>0.000</td>\n",
              "      <td>0.6757</td>\n",
              "    </tr>\n",
              "    <tr>\n",
              "      <th>4</th>\n",
              "      <td>\"No side effects,  easy to take, no more sympt...</td>\n",
              "      <td>0.206</td>\n",
              "      <td>0.638</td>\n",
              "      <td>0.156</td>\n",
              "      <td>0.1779</td>\n",
              "    </tr>\n",
              "    <tr>\n",
              "      <th>...</th>\n",
              "      <td>...</td>\n",
              "      <td>...</td>\n",
              "      <td>...</td>\n",
              "      <td>...</td>\n",
              "      <td>...</td>\n",
              "    </tr>\n",
              "    <tr>\n",
              "      <th>10055</th>\n",
              "      <td>\"Reminds me of Adderall but only a natural way...</td>\n",
              "      <td>0.081</td>\n",
              "      <td>0.919</td>\n",
              "      <td>0.000</td>\n",
              "      <td>0.5023</td>\n",
              "    </tr>\n",
              "    <tr>\n",
              "      <th>10056</th>\n",
              "      <td>\"My husband has Vascular Dementia for appox. 4...</td>\n",
              "      <td>0.177</td>\n",
              "      <td>0.674</td>\n",
              "      <td>0.149</td>\n",
              "      <td>0.3272</td>\n",
              "    </tr>\n",
              "    <tr>\n",
              "      <th>10057</th>\n",
              "      <td>\"I&amp;#039;ve only been using this medication (pa...</td>\n",
              "      <td>0.164</td>\n",
              "      <td>0.638</td>\n",
              "      <td>0.198</td>\n",
              "      <td>-0.1531</td>\n",
              "    </tr>\n",
              "    <tr>\n",
              "      <th>10058</th>\n",
              "      <td>\"Makes me feel ill.\"</td>\n",
              "      <td>0.000</td>\n",
              "      <td>0.517</td>\n",
              "      <td>0.483</td>\n",
              "      <td>-0.4215</td>\n",
              "    </tr>\n",
              "    <tr>\n",
              "      <th>10059</th>\n",
              "      <td>\"Trouble sleeping,stomach pain,headache,consti...</td>\n",
              "      <td>0.000</td>\n",
              "      <td>0.426</td>\n",
              "      <td>0.574</td>\n",
              "      <td>-0.4019</td>\n",
              "    </tr>\n",
              "  </tbody>\n",
              "</table>\n",
              "<p>10060 rows × 5 columns</p>\n",
              "</div>"
            ],
            "text/plain": [
              "                                                  Review  ...  Compound\n",
              "0      \"No side effects,  easy to take, no more sympt...  ...    0.1779\n",
              "1      \"I&#039;ve been taking this medicine for a lit...  ...   -0.4092\n",
              "2      \"I took ibuprofen (2 caps at night for severe ...  ...   -0.8176\n",
              "3      \"After my VAD Stroke I am on plavix.  I have a...  ...    0.6757\n",
              "4      \"No side effects,  easy to take, no more sympt...  ...    0.1779\n",
              "...                                                  ...  ...       ...\n",
              "10055  \"Reminds me of Adderall but only a natural way...  ...    0.5023\n",
              "10056  \"My husband has Vascular Dementia for appox. 4...  ...    0.3272\n",
              "10057  \"I&#039;ve only been using this medication (pa...  ...   -0.1531\n",
              "10058                               \"Makes me feel ill.\"  ...   -0.4215\n",
              "10059  \"Trouble sleeping,stomach pain,headache,consti...  ...   -0.4019\n",
              "\n",
              "[10060 rows x 5 columns]"
            ]
          },
          "metadata": {
            "tags": []
          },
          "execution_count": 21
        }
      ]
    },
    {
      "cell_type": "code",
      "metadata": {
        "id": "1ibUH3OwE42F",
        "colab_type": "code",
        "colab": {}
      },
      "source": [
        "#Adding the sentiment analysis columns to the merged dataset.\n",
        "merged_data[\"Positive\"] = positive\n",
        "merged_data[\"Negative\"] = negative\n",
        "merged_data[\"Neutral\"] = neutral\n",
        "merged_data[\"Compound\"] = compound\n",
        "merged_data[\"Review_Sentiment\"] = ''"
      ],
      "execution_count": 0,
      "outputs": []
    },
    {
      "cell_type": "code",
      "metadata": {
        "id": "hIJ4s9hPE-X_",
        "colab_type": "code",
        "outputId": "245d20b1-deae-464e-c9e4-bd257bf091e9",
        "colab": {
          "base_uri": "https://localhost:8080/",
          "height": 374
        }
      },
      "source": [
        "#Visualizing the merged dataset with the sentiment analysis results.\n",
        "merged_data.head()"
      ],
      "execution_count": 23,
      "outputs": [
        {
          "output_type": "execute_result",
          "data": {
            "text/html": [
              "<div>\n",
              "<style scoped>\n",
              "    .dataframe tbody tr th:only-of-type {\n",
              "        vertical-align: middle;\n",
              "    }\n",
              "\n",
              "    .dataframe tbody tr th {\n",
              "        vertical-align: top;\n",
              "    }\n",
              "\n",
              "    .dataframe thead th {\n",
              "        text-align: right;\n",
              "    }\n",
              "</style>\n",
              "<table border=\"1\" class=\"dataframe\">\n",
              "  <thead>\n",
              "    <tr style=\"text-align: right;\">\n",
              "      <th></th>\n",
              "      <th>Drug</th>\n",
              "      <th>Disease</th>\n",
              "      <th>Review</th>\n",
              "      <th>Rating</th>\n",
              "      <th>UsefulCount</th>\n",
              "      <th>Symptoms</th>\n",
              "      <th>Positive</th>\n",
              "      <th>Negative</th>\n",
              "      <th>Neutral</th>\n",
              "      <th>Compound</th>\n",
              "      <th>Review_Sentiment</th>\n",
              "    </tr>\n",
              "  </thead>\n",
              "  <tbody>\n",
              "    <tr>\n",
              "      <th>0</th>\n",
              "      <td>Aspirin</td>\n",
              "      <td>transient ischemic attack</td>\n",
              "      <td>\"No side effects,  easy to take, no more sympt...</td>\n",
              "      <td>10.0</td>\n",
              "      <td>10</td>\n",
              "      <td>['speech slurred', 'dysarthria', 'facial pares...</td>\n",
              "      <td>0.206</td>\n",
              "      <td>0.156</td>\n",
              "      <td>0.638</td>\n",
              "      <td>0.1779</td>\n",
              "      <td></td>\n",
              "    </tr>\n",
              "    <tr>\n",
              "      <th>1</th>\n",
              "      <td>Clopidogrel</td>\n",
              "      <td>transient ischemic attack</td>\n",
              "      <td>\"I&amp;#039;ve been taking this medicine for a lit...</td>\n",
              "      <td>10.0</td>\n",
              "      <td>8</td>\n",
              "      <td>['speech slurred', 'dysarthria', 'facial pares...</td>\n",
              "      <td>0.098</td>\n",
              "      <td>0.140</td>\n",
              "      <td>0.762</td>\n",
              "      <td>-0.4092</td>\n",
              "      <td></td>\n",
              "    </tr>\n",
              "    <tr>\n",
              "      <th>2</th>\n",
              "      <td>Clopidogrel</td>\n",
              "      <td>transient ischemic attack</td>\n",
              "      <td>\"I took ibuprofen (2 caps at night for severe ...</td>\n",
              "      <td>6.0</td>\n",
              "      <td>13</td>\n",
              "      <td>['speech slurred', 'dysarthria', 'facial pares...</td>\n",
              "      <td>0.000</td>\n",
              "      <td>0.279</td>\n",
              "      <td>0.721</td>\n",
              "      <td>-0.8176</td>\n",
              "      <td></td>\n",
              "    </tr>\n",
              "    <tr>\n",
              "      <th>3</th>\n",
              "      <td>Clopidogrel</td>\n",
              "      <td>transient ischemic attack</td>\n",
              "      <td>\"After my VAD Stroke I am on plavix.  I have a...</td>\n",
              "      <td>5.0</td>\n",
              "      <td>9</td>\n",
              "      <td>['speech slurred', 'dysarthria', 'facial pares...</td>\n",
              "      <td>0.055</td>\n",
              "      <td>0.000</td>\n",
              "      <td>0.945</td>\n",
              "      <td>0.6757</td>\n",
              "      <td></td>\n",
              "    </tr>\n",
              "    <tr>\n",
              "      <th>4</th>\n",
              "      <td>Bayer Children's Aspirin</td>\n",
              "      <td>transient ischemic attack</td>\n",
              "      <td>\"No side effects,  easy to take, no more sympt...</td>\n",
              "      <td>10.0</td>\n",
              "      <td>10</td>\n",
              "      <td>['speech slurred', 'dysarthria', 'facial pares...</td>\n",
              "      <td>0.206</td>\n",
              "      <td>0.156</td>\n",
              "      <td>0.638</td>\n",
              "      <td>0.1779</td>\n",
              "      <td></td>\n",
              "    </tr>\n",
              "  </tbody>\n",
              "</table>\n",
              "</div>"
            ],
            "text/plain": [
              "                       Drug  ... Review_Sentiment\n",
              "0                   Aspirin  ...                 \n",
              "1               Clopidogrel  ...                 \n",
              "2               Clopidogrel  ...                 \n",
              "3               Clopidogrel  ...                 \n",
              "4  Bayer Children's Aspirin  ...                 \n",
              "\n",
              "[5 rows x 11 columns]"
            ]
          },
          "metadata": {
            "tags": []
          },
          "execution_count": 23
        }
      ]
    },
    {
      "cell_type": "markdown",
      "metadata": {
        "id": "Ok68NvLeFOFv",
        "colab_type": "text"
      },
      "source": [
        "Based on the compound value we can determine whether the overall sentiment of the review is postive, negative or neutral. Below will be the threshold we shall be using for classifying the review sentiment class:\n",
        "\n",
        "Positive sentiment: compound score >= 0.05\n",
        "\n",
        "Neutral sentiment : -0.05 < compound score < 0.05\n",
        "\n",
        "Negative sentiment: compound score <= *-0.05*"
      ]
    },
    {
      "cell_type": "code",
      "metadata": {
        "id": "77jCTi7DFGVN",
        "colab_type": "code",
        "colab": {}
      },
      "source": [
        "merged_data.loc[merged_data['Compound'] >= 0.05, 'Review_Sentiment'] = 'Positive'\n",
        "merged_data.loc[merged_data['Compound'] <= -0.05, 'Review_Sentiment'] = 'Negative'\n",
        "merged_data[\"Review_Sentiment\"].replace('', 'Neutral', inplace = True)"
      ],
      "execution_count": 0,
      "outputs": []
    },
    {
      "cell_type": "code",
      "metadata": {
        "id": "nr3vy85uFk_b",
        "colab_type": "code",
        "colab": {}
      },
      "source": [
        "#Dropping the columns Positive, Negative, Neutral and Compound.\n",
        "merged_data = merged_data.drop(columns = [\"Positive\", \"Negative\", \"Neutral\", \"Compound\"])"
      ],
      "execution_count": 0,
      "outputs": []
    },
    {
      "cell_type": "code",
      "metadata": {
        "id": "aJFq0nbdFwOH",
        "colab_type": "code",
        "colab": {}
      },
      "source": [
        "# Rearranging the columns in different order.\n",
        "merged_data = merged_data[[\"Disease\", \"Drug\", \"Symptoms\", \"Review\", \"Review_Sentiment\", \"Rating\", \"UsefulCount\"]]"
      ],
      "execution_count": 0,
      "outputs": []
    },
    {
      "cell_type": "code",
      "metadata": {
        "id": "OGo1DKlMF71z",
        "colab_type": "code",
        "outputId": "a2409a1f-ba60-4e10-87f2-b04e79e11d84",
        "colab": {
          "base_uri": "https://localhost:8080/",
          "height": 289
        }
      },
      "source": [
        "#Visualizing the merged dataset after adding the sentiment analysis results.\n",
        "merged_data.head()"
      ],
      "execution_count": 27,
      "outputs": [
        {
          "output_type": "execute_result",
          "data": {
            "text/html": [
              "<div>\n",
              "<style scoped>\n",
              "    .dataframe tbody tr th:only-of-type {\n",
              "        vertical-align: middle;\n",
              "    }\n",
              "\n",
              "    .dataframe tbody tr th {\n",
              "        vertical-align: top;\n",
              "    }\n",
              "\n",
              "    .dataframe thead th {\n",
              "        text-align: right;\n",
              "    }\n",
              "</style>\n",
              "<table border=\"1\" class=\"dataframe\">\n",
              "  <thead>\n",
              "    <tr style=\"text-align: right;\">\n",
              "      <th></th>\n",
              "      <th>Disease</th>\n",
              "      <th>Drug</th>\n",
              "      <th>Symptoms</th>\n",
              "      <th>Review</th>\n",
              "      <th>Review_Sentiment</th>\n",
              "      <th>Rating</th>\n",
              "      <th>UsefulCount</th>\n",
              "    </tr>\n",
              "  </thead>\n",
              "  <tbody>\n",
              "    <tr>\n",
              "      <th>0</th>\n",
              "      <td>transient ischemic attack</td>\n",
              "      <td>Aspirin</td>\n",
              "      <td>['speech slurred', 'dysarthria', 'facial pares...</td>\n",
              "      <td>\"No side effects,  easy to take, no more sympt...</td>\n",
              "      <td>Positive</td>\n",
              "      <td>10.0</td>\n",
              "      <td>10</td>\n",
              "    </tr>\n",
              "    <tr>\n",
              "      <th>1</th>\n",
              "      <td>transient ischemic attack</td>\n",
              "      <td>Clopidogrel</td>\n",
              "      <td>['speech slurred', 'dysarthria', 'facial pares...</td>\n",
              "      <td>\"I&amp;#039;ve been taking this medicine for a lit...</td>\n",
              "      <td>Negative</td>\n",
              "      <td>10.0</td>\n",
              "      <td>8</td>\n",
              "    </tr>\n",
              "    <tr>\n",
              "      <th>2</th>\n",
              "      <td>transient ischemic attack</td>\n",
              "      <td>Clopidogrel</td>\n",
              "      <td>['speech slurred', 'dysarthria', 'facial pares...</td>\n",
              "      <td>\"I took ibuprofen (2 caps at night for severe ...</td>\n",
              "      <td>Negative</td>\n",
              "      <td>6.0</td>\n",
              "      <td>13</td>\n",
              "    </tr>\n",
              "    <tr>\n",
              "      <th>3</th>\n",
              "      <td>transient ischemic attack</td>\n",
              "      <td>Clopidogrel</td>\n",
              "      <td>['speech slurred', 'dysarthria', 'facial pares...</td>\n",
              "      <td>\"After my VAD Stroke I am on plavix.  I have a...</td>\n",
              "      <td>Positive</td>\n",
              "      <td>5.0</td>\n",
              "      <td>9</td>\n",
              "    </tr>\n",
              "    <tr>\n",
              "      <th>4</th>\n",
              "      <td>transient ischemic attack</td>\n",
              "      <td>Bayer Children's Aspirin</td>\n",
              "      <td>['speech slurred', 'dysarthria', 'facial pares...</td>\n",
              "      <td>\"No side effects,  easy to take, no more sympt...</td>\n",
              "      <td>Positive</td>\n",
              "      <td>10.0</td>\n",
              "      <td>10</td>\n",
              "    </tr>\n",
              "  </tbody>\n",
              "</table>\n",
              "</div>"
            ],
            "text/plain": [
              "                     Disease                      Drug  ... Rating UsefulCount\n",
              "0  transient ischemic attack                   Aspirin  ...   10.0          10\n",
              "1  transient ischemic attack               Clopidogrel  ...   10.0           8\n",
              "2  transient ischemic attack               Clopidogrel  ...    6.0          13\n",
              "3  transient ischemic attack               Clopidogrel  ...    5.0           9\n",
              "4  transient ischemic attack  Bayer Children's Aspirin  ...   10.0          10\n",
              "\n",
              "[5 rows x 7 columns]"
            ]
          },
          "metadata": {
            "tags": []
          },
          "execution_count": 27
        }
      ]
    },
    {
      "cell_type": "code",
      "metadata": {
        "id": "cjFhqUJaGIl_",
        "colab_type": "code",
        "colab": {}
      },
      "source": [
        "#Exporting this merged dataset as csv file.\n",
        "merged_data.to_csv(path + r'/Sentiment_analysis.csv', index=False)"
      ],
      "execution_count": 0,
      "outputs": []
    },
    {
      "cell_type": "markdown",
      "metadata": {
        "id": "uGxEHw4lKY8h",
        "colab_type": "text"
      },
      "source": [
        "## **Weighted average of rating and useful count**"
      ]
    },
    {
      "cell_type": "code",
      "metadata": {
        "id": "dMnhmF2EKcPU",
        "colab_type": "code",
        "colab": {}
      },
      "source": [
        "#Reading the dataset with sentiment analysis of reviews\n",
        "data = pd.read_csv(path + f'/Sentiment_analysis.csv')"
      ],
      "execution_count": 0,
      "outputs": []
    },
    {
      "cell_type": "code",
      "metadata": {
        "id": "sw83IeUOKk7O",
        "colab_type": "code",
        "outputId": "0c27a4c9-31ff-4dde-9837-3b205a4dea6f",
        "colab": {
          "base_uri": "https://localhost:8080/",
          "height": 289
        }
      },
      "source": [
        "data.head()"
      ],
      "execution_count": 30,
      "outputs": [
        {
          "output_type": "execute_result",
          "data": {
            "text/html": [
              "<div>\n",
              "<style scoped>\n",
              "    .dataframe tbody tr th:only-of-type {\n",
              "        vertical-align: middle;\n",
              "    }\n",
              "\n",
              "    .dataframe tbody tr th {\n",
              "        vertical-align: top;\n",
              "    }\n",
              "\n",
              "    .dataframe thead th {\n",
              "        text-align: right;\n",
              "    }\n",
              "</style>\n",
              "<table border=\"1\" class=\"dataframe\">\n",
              "  <thead>\n",
              "    <tr style=\"text-align: right;\">\n",
              "      <th></th>\n",
              "      <th>Disease</th>\n",
              "      <th>Drug</th>\n",
              "      <th>Symptoms</th>\n",
              "      <th>Review</th>\n",
              "      <th>Review_Sentiment</th>\n",
              "      <th>Rating</th>\n",
              "      <th>UsefulCount</th>\n",
              "    </tr>\n",
              "  </thead>\n",
              "  <tbody>\n",
              "    <tr>\n",
              "      <th>0</th>\n",
              "      <td>transient ischemic attack</td>\n",
              "      <td>Aspirin</td>\n",
              "      <td>['speech slurred', 'dysarthria', 'facial pares...</td>\n",
              "      <td>\"No side effects,  easy to take, no more sympt...</td>\n",
              "      <td>Positive</td>\n",
              "      <td>10.0</td>\n",
              "      <td>10</td>\n",
              "    </tr>\n",
              "    <tr>\n",
              "      <th>1</th>\n",
              "      <td>transient ischemic attack</td>\n",
              "      <td>Clopidogrel</td>\n",
              "      <td>['speech slurred', 'dysarthria', 'facial pares...</td>\n",
              "      <td>\"I&amp;#039;ve been taking this medicine for a lit...</td>\n",
              "      <td>Negative</td>\n",
              "      <td>10.0</td>\n",
              "      <td>8</td>\n",
              "    </tr>\n",
              "    <tr>\n",
              "      <th>2</th>\n",
              "      <td>transient ischemic attack</td>\n",
              "      <td>Clopidogrel</td>\n",
              "      <td>['speech slurred', 'dysarthria', 'facial pares...</td>\n",
              "      <td>\"I took ibuprofen (2 caps at night for severe ...</td>\n",
              "      <td>Negative</td>\n",
              "      <td>6.0</td>\n",
              "      <td>13</td>\n",
              "    </tr>\n",
              "    <tr>\n",
              "      <th>3</th>\n",
              "      <td>transient ischemic attack</td>\n",
              "      <td>Clopidogrel</td>\n",
              "      <td>['speech slurred', 'dysarthria', 'facial pares...</td>\n",
              "      <td>\"After my VAD Stroke I am on plavix.  I have a...</td>\n",
              "      <td>Positive</td>\n",
              "      <td>5.0</td>\n",
              "      <td>9</td>\n",
              "    </tr>\n",
              "    <tr>\n",
              "      <th>4</th>\n",
              "      <td>transient ischemic attack</td>\n",
              "      <td>Bayer Children's Aspirin</td>\n",
              "      <td>['speech slurred', 'dysarthria', 'facial pares...</td>\n",
              "      <td>\"No side effects,  easy to take, no more sympt...</td>\n",
              "      <td>Positive</td>\n",
              "      <td>10.0</td>\n",
              "      <td>10</td>\n",
              "    </tr>\n",
              "  </tbody>\n",
              "</table>\n",
              "</div>"
            ],
            "text/plain": [
              "                     Disease                      Drug  ... Rating UsefulCount\n",
              "0  transient ischemic attack                   Aspirin  ...   10.0          10\n",
              "1  transient ischemic attack               Clopidogrel  ...   10.0           8\n",
              "2  transient ischemic attack               Clopidogrel  ...    6.0          13\n",
              "3  transient ischemic attack               Clopidogrel  ...    5.0           9\n",
              "4  transient ischemic attack  Bayer Children's Aspirin  ...   10.0          10\n",
              "\n",
              "[5 rows x 7 columns]"
            ]
          },
          "metadata": {
            "tags": []
          },
          "execution_count": 30
        }
      ]
    },
    {
      "cell_type": "code",
      "metadata": {
        "id": "tXeWz80MKnQN",
        "colab_type": "code",
        "colab": {}
      },
      "source": [
        "#Sorting the data based on drug name\n",
        "data = data.sort_values(['Drug'])"
      ],
      "execution_count": 0,
      "outputs": []
    },
    {
      "cell_type": "code",
      "metadata": {
        "id": "Cogz1Q0eKr-p",
        "colab_type": "code",
        "colab": {}
      },
      "source": [
        "# Creating a function to calculate weighted average\n",
        "def wavg(group, avg_name, weight_name):\n",
        "    d = group[avg_name]\n",
        "    w = group[weight_name]\n",
        "    try:\n",
        "        return (d * w).sum() / w.sum()\n",
        "    except ZeroDivisionError:\n",
        "        return d.mean()"
      ],
      "execution_count": 0,
      "outputs": []
    },
    {
      "cell_type": "code",
      "metadata": {
        "id": "Fn3l8QlAK-pw",
        "colab_type": "code",
        "outputId": "bf44c8f6-bf95-4aaa-9274-50bb53224427",
        "colab": {
          "base_uri": "https://localhost:8080/",
          "height": 238
        }
      },
      "source": [
        "data.groupby([\"Disease\", \"Drug\"]).apply(wavg, \"Rating\", \"UsefulCount\")"
      ],
      "execution_count": 33,
      "outputs": [
        {
          "output_type": "execute_result",
          "data": {
            "text/plain": [
              "Disease                    Drug                    \n",
              "alzheimer's disease        Aricept                      5.807916\n",
              "                           Aricept ODT                  9.000000\n",
              "                           Donepezil                    5.503089\n",
              "                           Exelon                       7.526027\n",
              "                           Galantamine                  8.510638\n",
              "                                                         ...    \n",
              "schizophrenia              Zyprexa Zydis                6.304348\n",
              "transient ischemic attack  Aspirin                     10.000000\n",
              "                           Bayer Children's Aspirin    10.000000\n",
              "                           Clopidogrel                  6.766667\n",
              "                           Plavix                       5.000000\n",
              "Length: 403, dtype: float64"
            ]
          },
          "metadata": {
            "tags": []
          },
          "execution_count": 33
        }
      ]
    },
    {
      "cell_type": "code",
      "metadata": {
        "id": "x-yj003rLDUs",
        "colab_type": "code",
        "colab": {}
      },
      "source": [
        "# Creating a dataframe of Drug and its average rating\n",
        "data_wavg = pd.DataFrame(data.groupby([\"Drug\"]).apply(wavg, \"Rating\", \"UsefulCount\").reset_index())"
      ],
      "execution_count": 0,
      "outputs": []
    },
    {
      "cell_type": "code",
      "metadata": {
        "id": "MKBszBDKNYPb",
        "colab_type": "code",
        "colab": {}
      },
      "source": [
        "data_wavg = data_wavg.rename(columns={0: \"Rating_Wavg\"})"
      ],
      "execution_count": 0,
      "outputs": []
    },
    {
      "cell_type": "code",
      "metadata": {
        "id": "ELmYVnRMMj3p",
        "colab_type": "code",
        "outputId": "92f5e249-10cc-4001-cecd-e40169ce323c",
        "colab": {
          "base_uri": "https://localhost:8080/",
          "height": 204
        }
      },
      "source": [
        "data_wavg.head()"
      ],
      "execution_count": 36,
      "outputs": [
        {
          "output_type": "execute_result",
          "data": {
            "text/html": [
              "<div>\n",
              "<style scoped>\n",
              "    .dataframe tbody tr th:only-of-type {\n",
              "        vertical-align: middle;\n",
              "    }\n",
              "\n",
              "    .dataframe tbody tr th {\n",
              "        vertical-align: top;\n",
              "    }\n",
              "\n",
              "    .dataframe thead th {\n",
              "        text-align: right;\n",
              "    }\n",
              "</style>\n",
              "<table border=\"1\" class=\"dataframe\">\n",
              "  <thead>\n",
              "    <tr style=\"text-align: right;\">\n",
              "      <th></th>\n",
              "      <th>Drug</th>\n",
              "      <th>Rating_Wavg</th>\n",
              "    </tr>\n",
              "  </thead>\n",
              "  <tbody>\n",
              "    <tr>\n",
              "      <th>0</th>\n",
              "      <td>Abilify</td>\n",
              "      <td>7.350122</td>\n",
              "    </tr>\n",
              "    <tr>\n",
              "      <th>1</th>\n",
              "      <td>Abilify Maintena</td>\n",
              "      <td>8.714286</td>\n",
              "    </tr>\n",
              "    <tr>\n",
              "      <th>2</th>\n",
              "      <td>Acetaminophen / chlorpheniramine</td>\n",
              "      <td>8.000000</td>\n",
              "    </tr>\n",
              "    <tr>\n",
              "      <th>3</th>\n",
              "      <td>Acetaminophen / phenyltoloxamine</td>\n",
              "      <td>10.000000</td>\n",
              "    </tr>\n",
              "    <tr>\n",
              "      <th>4</th>\n",
              "      <td>Acetazolamide</td>\n",
              "      <td>6.376068</td>\n",
              "    </tr>\n",
              "  </tbody>\n",
              "</table>\n",
              "</div>"
            ],
            "text/plain": [
              "                               Drug  Rating_Wavg\n",
              "0                           Abilify     7.350122\n",
              "1                  Abilify Maintena     8.714286\n",
              "2  Acetaminophen / chlorpheniramine     8.000000\n",
              "3  Acetaminophen / phenyltoloxamine    10.000000\n",
              "4                     Acetazolamide     6.376068"
            ]
          },
          "metadata": {
            "tags": []
          },
          "execution_count": 36
        }
      ]
    },
    {
      "cell_type": "code",
      "metadata": {
        "id": "HUgoajX5Nq6A",
        "colab_type": "code",
        "colab": {}
      },
      "source": [
        "merged_wavg = pd.merge(data_wavg, data, on='Drug')"
      ],
      "execution_count": 0,
      "outputs": []
    },
    {
      "cell_type": "code",
      "metadata": {
        "id": "BZbr8aMYNuo4",
        "colab_type": "code",
        "colab": {}
      },
      "source": [
        "# Merging the weighted average column with the dataset\n",
        "merged_wavg.drop(columns=['Symptoms','Rating'], inplace=True)\n",
        "merged_wavg = merged_wavg[['Disease','Drug', 'Review', 'Review_Sentiment', 'Rating_Wavg', 'UsefulCount']]"
      ],
      "execution_count": 0,
      "outputs": []
    },
    {
      "cell_type": "code",
      "metadata": {
        "id": "hBe7MNrDN1la",
        "colab_type": "code",
        "outputId": "2fbfd95d-75c8-4524-c82d-660f01a9cce8",
        "colab": {
          "base_uri": "https://localhost:8080/",
          "height": 204
        }
      },
      "source": [
        "merged_wavg.head()"
      ],
      "execution_count": 39,
      "outputs": [
        {
          "output_type": "execute_result",
          "data": {
            "text/html": [
              "<div>\n",
              "<style scoped>\n",
              "    .dataframe tbody tr th:only-of-type {\n",
              "        vertical-align: middle;\n",
              "    }\n",
              "\n",
              "    .dataframe tbody tr th {\n",
              "        vertical-align: top;\n",
              "    }\n",
              "\n",
              "    .dataframe thead th {\n",
              "        text-align: right;\n",
              "    }\n",
              "</style>\n",
              "<table border=\"1\" class=\"dataframe\">\n",
              "  <thead>\n",
              "    <tr style=\"text-align: right;\">\n",
              "      <th></th>\n",
              "      <th>Disease</th>\n",
              "      <th>Drug</th>\n",
              "      <th>Review</th>\n",
              "      <th>Review_Sentiment</th>\n",
              "      <th>Rating_Wavg</th>\n",
              "      <th>UsefulCount</th>\n",
              "    </tr>\n",
              "  </thead>\n",
              "  <tbody>\n",
              "    <tr>\n",
              "      <th>0</th>\n",
              "      <td>schizophrenia</td>\n",
              "      <td>Abilify</td>\n",
              "      <td>\"This medication has helped my son a great dea...</td>\n",
              "      <td>Positive</td>\n",
              "      <td>7.350122</td>\n",
              "      <td>40</td>\n",
              "    </tr>\n",
              "    <tr>\n",
              "      <th>1</th>\n",
              "      <td>schizophrenia</td>\n",
              "      <td>Abilify</td>\n",
              "      <td>\"This medication made me feel like my brain wa...</td>\n",
              "      <td>Negative</td>\n",
              "      <td>7.350122</td>\n",
              "      <td>10</td>\n",
              "    </tr>\n",
              "    <tr>\n",
              "      <th>2</th>\n",
              "      <td>schizophrenia</td>\n",
              "      <td>Abilify</td>\n",
              "      <td>\"I&amp;#039;ve used 5mg daily for three weeks. My ...</td>\n",
              "      <td>Positive</td>\n",
              "      <td>7.350122</td>\n",
              "      <td>30</td>\n",
              "    </tr>\n",
              "    <tr>\n",
              "      <th>3</th>\n",
              "      <td>schizophrenia</td>\n",
              "      <td>Abilify</td>\n",
              "      <td>\"Excellent medication! When I was first on Abi...</td>\n",
              "      <td>Negative</td>\n",
              "      <td>7.350122</td>\n",
              "      <td>11</td>\n",
              "    </tr>\n",
              "    <tr>\n",
              "      <th>4</th>\n",
              "      <td>schizophrenia</td>\n",
              "      <td>Abilify</td>\n",
              "      <td>\"I used to hear bad voices in my head,and thou...</td>\n",
              "      <td>Negative</td>\n",
              "      <td>7.350122</td>\n",
              "      <td>107</td>\n",
              "    </tr>\n",
              "  </tbody>\n",
              "</table>\n",
              "</div>"
            ],
            "text/plain": [
              "         Disease     Drug  ... Rating_Wavg UsefulCount\n",
              "0  schizophrenia  Abilify  ...    7.350122          40\n",
              "1  schizophrenia  Abilify  ...    7.350122          10\n",
              "2  schizophrenia  Abilify  ...    7.350122          30\n",
              "3  schizophrenia  Abilify  ...    7.350122          11\n",
              "4  schizophrenia  Abilify  ...    7.350122         107\n",
              "\n",
              "[5 rows x 6 columns]"
            ]
          },
          "metadata": {
            "tags": []
          },
          "execution_count": 39
        }
      ]
    },
    {
      "cell_type": "code",
      "metadata": {
        "id": "TQoaZNK2OAFi",
        "colab_type": "code",
        "outputId": "26d11f1f-0b68-402f-c72d-d5c9991c99e8",
        "colab": {
          "base_uri": "https://localhost:8080/",
          "height": 34
        }
      },
      "source": [
        "merged_wavg['Disease'].nunique()"
      ],
      "execution_count": 40,
      "outputs": [
        {
          "output_type": "execute_result",
          "data": {
            "text/plain": [
              "26"
            ]
          },
          "metadata": {
            "tags": []
          },
          "execution_count": 40
        }
      ]
    },
    {
      "cell_type": "markdown",
      "metadata": {
        "id": "Y2owIbcUP_Bo",
        "colab_type": "text"
      },
      "source": [
        "# **Drug Recommendation**"
      ]
    },
    {
      "cell_type": "code",
      "metadata": {
        "id": "nk95bdIlONER",
        "colab_type": "code",
        "outputId": "23bce6c3-a62a-4542-dc46-4920a13bfb84",
        "colab": {
          "base_uri": "https://localhost:8080/",
          "height": 419
        }
      },
      "source": [
        "#Sorting dataset and grouping by disease\n",
        "merged_wavg = merged_wavg.sort_values(['Disease','Rating_Wavg'],ascending=False, ignore_index=True).groupby('Disease').head(10060)\n",
        "merged_wavg"
      ],
      "execution_count": 41,
      "outputs": [
        {
          "output_type": "execute_result",
          "data": {
            "text/html": [
              "<div>\n",
              "<style scoped>\n",
              "    .dataframe tbody tr th:only-of-type {\n",
              "        vertical-align: middle;\n",
              "    }\n",
              "\n",
              "    .dataframe tbody tr th {\n",
              "        vertical-align: top;\n",
              "    }\n",
              "\n",
              "    .dataframe thead th {\n",
              "        text-align: right;\n",
              "    }\n",
              "</style>\n",
              "<table border=\"1\" class=\"dataframe\">\n",
              "  <thead>\n",
              "    <tr style=\"text-align: right;\">\n",
              "      <th></th>\n",
              "      <th>Disease</th>\n",
              "      <th>Drug</th>\n",
              "      <th>Review</th>\n",
              "      <th>Review_Sentiment</th>\n",
              "      <th>Rating_Wavg</th>\n",
              "      <th>UsefulCount</th>\n",
              "    </tr>\n",
              "  </thead>\n",
              "  <tbody>\n",
              "    <tr>\n",
              "      <th>0</th>\n",
              "      <td>transient ischemic attack</td>\n",
              "      <td>Aspirin</td>\n",
              "      <td>\"No side effects,  easy to take, no more sympt...</td>\n",
              "      <td>Positive</td>\n",
              "      <td>10.000000</td>\n",
              "      <td>10</td>\n",
              "    </tr>\n",
              "    <tr>\n",
              "      <th>1</th>\n",
              "      <td>transient ischemic attack</td>\n",
              "      <td>Bayer Children's Aspirin</td>\n",
              "      <td>\"No side effects,  easy to take, no more sympt...</td>\n",
              "      <td>Positive</td>\n",
              "      <td>10.000000</td>\n",
              "      <td>10</td>\n",
              "    </tr>\n",
              "    <tr>\n",
              "      <th>2</th>\n",
              "      <td>transient ischemic attack</td>\n",
              "      <td>Clopidogrel</td>\n",
              "      <td>\"I&amp;#039;ve been taking this medicine for a lit...</td>\n",
              "      <td>Negative</td>\n",
              "      <td>6.766667</td>\n",
              "      <td>8</td>\n",
              "    </tr>\n",
              "    <tr>\n",
              "      <th>3</th>\n",
              "      <td>transient ischemic attack</td>\n",
              "      <td>Clopidogrel</td>\n",
              "      <td>\"I took ibuprofen (2 caps at night for severe ...</td>\n",
              "      <td>Negative</td>\n",
              "      <td>6.766667</td>\n",
              "      <td>13</td>\n",
              "    </tr>\n",
              "    <tr>\n",
              "      <th>4</th>\n",
              "      <td>transient ischemic attack</td>\n",
              "      <td>Clopidogrel</td>\n",
              "      <td>\"After my VAD Stroke I am on plavix.  I have a...</td>\n",
              "      <td>Positive</td>\n",
              "      <td>6.766667</td>\n",
              "      <td>9</td>\n",
              "    </tr>\n",
              "    <tr>\n",
              "      <th>...</th>\n",
              "      <td>...</td>\n",
              "      <td>...</td>\n",
              "      <td>...</td>\n",
              "      <td>...</td>\n",
              "      <td>...</td>\n",
              "      <td>...</td>\n",
              "    </tr>\n",
              "    <tr>\n",
              "      <th>10055</th>\n",
              "      <td>alzheimer's disease</td>\n",
              "      <td>Namenda</td>\n",
              "      <td>\"I have taken it for about 4-5 yes.  I feel ab...</td>\n",
              "      <td>Positive</td>\n",
              "      <td>4.100946</td>\n",
              "      <td>38</td>\n",
              "    </tr>\n",
              "    <tr>\n",
              "      <th>10056</th>\n",
              "      <td>alzheimer's disease</td>\n",
              "      <td>Namenda</td>\n",
              "      <td>\"My mother has been taking Namenda for Alzheim...</td>\n",
              "      <td>Negative</td>\n",
              "      <td>4.100946</td>\n",
              "      <td>120</td>\n",
              "    </tr>\n",
              "    <tr>\n",
              "      <th>10057</th>\n",
              "      <td>alzheimer's disease</td>\n",
              "      <td>Namenda</td>\n",
              "      <td>\"My mother has been treated with the Exelon (p...</td>\n",
              "      <td>Negative</td>\n",
              "      <td>4.100946</td>\n",
              "      <td>109</td>\n",
              "    </tr>\n",
              "    <tr>\n",
              "      <th>10058</th>\n",
              "      <td>alzheimer's disease</td>\n",
              "      <td>Namenda</td>\n",
              "      <td>\"My wife (74) has been taking Namenda since th...</td>\n",
              "      <td>Positive</td>\n",
              "      <td>4.100946</td>\n",
              "      <td>55</td>\n",
              "    </tr>\n",
              "    <tr>\n",
              "      <th>10059</th>\n",
              "      <td>alzheimer's disease</td>\n",
              "      <td>Namenda</td>\n",
              "      <td>\"My wife started with two a day in conjunction...</td>\n",
              "      <td>Negative</td>\n",
              "      <td>4.100946</td>\n",
              "      <td>55</td>\n",
              "    </tr>\n",
              "  </tbody>\n",
              "</table>\n",
              "<p>10060 rows × 6 columns</p>\n",
              "</div>"
            ],
            "text/plain": [
              "                         Disease  ... UsefulCount\n",
              "0      transient ischemic attack  ...          10\n",
              "1      transient ischemic attack  ...          10\n",
              "2      transient ischemic attack  ...           8\n",
              "3      transient ischemic attack  ...          13\n",
              "4      transient ischemic attack  ...           9\n",
              "...                          ...  ...         ...\n",
              "10055        alzheimer's disease  ...          38\n",
              "10056        alzheimer's disease  ...         120\n",
              "10057        alzheimer's disease  ...         109\n",
              "10058        alzheimer's disease  ...          55\n",
              "10059        alzheimer's disease  ...          55\n",
              "\n",
              "[10060 rows x 6 columns]"
            ]
          },
          "metadata": {
            "tags": []
          },
          "execution_count": 41
        }
      ]
    },
    {
      "cell_type": "code",
      "metadata": {
        "id": "nlEHkLuMOh4Q",
        "colab_type": "code",
        "outputId": "464abd40-8d5b-4b97-87bf-46279f99f2da",
        "colab": {
          "base_uri": "https://localhost:8080/",
          "height": 419
        }
      },
      "source": [
        "# Exporting the dataset with weighted average\n",
        "merged_wavg = merged_wavg.to_csv(path + f\"/Drug_Recommender.csv\", index=False)\n",
        "merged_wavg = pd.read_csv(path + f\"/Drug_Recommender.csv\")\n",
        "merged_wavg"
      ],
      "execution_count": 42,
      "outputs": [
        {
          "output_type": "execute_result",
          "data": {
            "text/html": [
              "<div>\n",
              "<style scoped>\n",
              "    .dataframe tbody tr th:only-of-type {\n",
              "        vertical-align: middle;\n",
              "    }\n",
              "\n",
              "    .dataframe tbody tr th {\n",
              "        vertical-align: top;\n",
              "    }\n",
              "\n",
              "    .dataframe thead th {\n",
              "        text-align: right;\n",
              "    }\n",
              "</style>\n",
              "<table border=\"1\" class=\"dataframe\">\n",
              "  <thead>\n",
              "    <tr style=\"text-align: right;\">\n",
              "      <th></th>\n",
              "      <th>Disease</th>\n",
              "      <th>Drug</th>\n",
              "      <th>Review</th>\n",
              "      <th>Review_Sentiment</th>\n",
              "      <th>Rating_Wavg</th>\n",
              "      <th>UsefulCount</th>\n",
              "    </tr>\n",
              "  </thead>\n",
              "  <tbody>\n",
              "    <tr>\n",
              "      <th>0</th>\n",
              "      <td>transient ischemic attack</td>\n",
              "      <td>Aspirin</td>\n",
              "      <td>\"No side effects,  easy to take, no more sympt...</td>\n",
              "      <td>Positive</td>\n",
              "      <td>10.000000</td>\n",
              "      <td>10</td>\n",
              "    </tr>\n",
              "    <tr>\n",
              "      <th>1</th>\n",
              "      <td>transient ischemic attack</td>\n",
              "      <td>Bayer Children's Aspirin</td>\n",
              "      <td>\"No side effects,  easy to take, no more sympt...</td>\n",
              "      <td>Positive</td>\n",
              "      <td>10.000000</td>\n",
              "      <td>10</td>\n",
              "    </tr>\n",
              "    <tr>\n",
              "      <th>2</th>\n",
              "      <td>transient ischemic attack</td>\n",
              "      <td>Clopidogrel</td>\n",
              "      <td>\"I&amp;#039;ve been taking this medicine for a lit...</td>\n",
              "      <td>Negative</td>\n",
              "      <td>6.766667</td>\n",
              "      <td>8</td>\n",
              "    </tr>\n",
              "    <tr>\n",
              "      <th>3</th>\n",
              "      <td>transient ischemic attack</td>\n",
              "      <td>Clopidogrel</td>\n",
              "      <td>\"I took ibuprofen (2 caps at night for severe ...</td>\n",
              "      <td>Negative</td>\n",
              "      <td>6.766667</td>\n",
              "      <td>13</td>\n",
              "    </tr>\n",
              "    <tr>\n",
              "      <th>4</th>\n",
              "      <td>transient ischemic attack</td>\n",
              "      <td>Clopidogrel</td>\n",
              "      <td>\"After my VAD Stroke I am on plavix.  I have a...</td>\n",
              "      <td>Positive</td>\n",
              "      <td>6.766667</td>\n",
              "      <td>9</td>\n",
              "    </tr>\n",
              "    <tr>\n",
              "      <th>...</th>\n",
              "      <td>...</td>\n",
              "      <td>...</td>\n",
              "      <td>...</td>\n",
              "      <td>...</td>\n",
              "      <td>...</td>\n",
              "      <td>...</td>\n",
              "    </tr>\n",
              "    <tr>\n",
              "      <th>10055</th>\n",
              "      <td>alzheimer's disease</td>\n",
              "      <td>Namenda</td>\n",
              "      <td>\"I have taken it for about 4-5 yes.  I feel ab...</td>\n",
              "      <td>Positive</td>\n",
              "      <td>4.100946</td>\n",
              "      <td>38</td>\n",
              "    </tr>\n",
              "    <tr>\n",
              "      <th>10056</th>\n",
              "      <td>alzheimer's disease</td>\n",
              "      <td>Namenda</td>\n",
              "      <td>\"My mother has been taking Namenda for Alzheim...</td>\n",
              "      <td>Negative</td>\n",
              "      <td>4.100946</td>\n",
              "      <td>120</td>\n",
              "    </tr>\n",
              "    <tr>\n",
              "      <th>10057</th>\n",
              "      <td>alzheimer's disease</td>\n",
              "      <td>Namenda</td>\n",
              "      <td>\"My mother has been treated with the Exelon (p...</td>\n",
              "      <td>Negative</td>\n",
              "      <td>4.100946</td>\n",
              "      <td>109</td>\n",
              "    </tr>\n",
              "    <tr>\n",
              "      <th>10058</th>\n",
              "      <td>alzheimer's disease</td>\n",
              "      <td>Namenda</td>\n",
              "      <td>\"My wife (74) has been taking Namenda since th...</td>\n",
              "      <td>Positive</td>\n",
              "      <td>4.100946</td>\n",
              "      <td>55</td>\n",
              "    </tr>\n",
              "    <tr>\n",
              "      <th>10059</th>\n",
              "      <td>alzheimer's disease</td>\n",
              "      <td>Namenda</td>\n",
              "      <td>\"My wife started with two a day in conjunction...</td>\n",
              "      <td>Negative</td>\n",
              "      <td>4.100946</td>\n",
              "      <td>55</td>\n",
              "    </tr>\n",
              "  </tbody>\n",
              "</table>\n",
              "<p>10060 rows × 6 columns</p>\n",
              "</div>"
            ],
            "text/plain": [
              "                         Disease  ... UsefulCount\n",
              "0      transient ischemic attack  ...          10\n",
              "1      transient ischemic attack  ...          10\n",
              "2      transient ischemic attack  ...           8\n",
              "3      transient ischemic attack  ...          13\n",
              "4      transient ischemic attack  ...           9\n",
              "...                          ...  ...         ...\n",
              "10055        alzheimer's disease  ...          38\n",
              "10056        alzheimer's disease  ...         120\n",
              "10057        alzheimer's disease  ...         109\n",
              "10058        alzheimer's disease  ...          55\n",
              "10059        alzheimer's disease  ...          55\n",
              "\n",
              "[10060 rows x 6 columns]"
            ]
          },
          "metadata": {
            "tags": []
          },
          "execution_count": 42
        }
      ]
    },
    {
      "cell_type": "code",
      "metadata": {
        "id": "8j6ULJuyOPOt",
        "colab_type": "code",
        "colab": {}
      },
      "source": [
        "# Taking drugs only with positive reviews for recommendation\n",
        "merged_wavg = merged_wavg.drop( merged_wavg[merged_wavg['Review_Sentiment'] == \"Negative\"].index)\n",
        "merged_wavg = merged_wavg.drop( merged_wavg[merged_wavg['Review_Sentiment'] == \"Neutral\"].index)"
      ],
      "execution_count": 0,
      "outputs": []
    },
    {
      "cell_type": "code",
      "metadata": {
        "id": "KRo3P-nnO_nq",
        "colab_type": "code",
        "outputId": "bec19cda-19b0-46d8-a35d-023f2e1493d1",
        "colab": {
          "base_uri": "https://localhost:8080/",
          "height": 204
        }
      },
      "source": [
        "merged_wavg.head()"
      ],
      "execution_count": 44,
      "outputs": [
        {
          "output_type": "execute_result",
          "data": {
            "text/html": [
              "<div>\n",
              "<style scoped>\n",
              "    .dataframe tbody tr th:only-of-type {\n",
              "        vertical-align: middle;\n",
              "    }\n",
              "\n",
              "    .dataframe tbody tr th {\n",
              "        vertical-align: top;\n",
              "    }\n",
              "\n",
              "    .dataframe thead th {\n",
              "        text-align: right;\n",
              "    }\n",
              "</style>\n",
              "<table border=\"1\" class=\"dataframe\">\n",
              "  <thead>\n",
              "    <tr style=\"text-align: right;\">\n",
              "      <th></th>\n",
              "      <th>Disease</th>\n",
              "      <th>Drug</th>\n",
              "      <th>Review</th>\n",
              "      <th>Review_Sentiment</th>\n",
              "      <th>Rating_Wavg</th>\n",
              "      <th>UsefulCount</th>\n",
              "    </tr>\n",
              "  </thead>\n",
              "  <tbody>\n",
              "    <tr>\n",
              "      <th>0</th>\n",
              "      <td>transient ischemic attack</td>\n",
              "      <td>Aspirin</td>\n",
              "      <td>\"No side effects,  easy to take, no more sympt...</td>\n",
              "      <td>Positive</td>\n",
              "      <td>10.000000</td>\n",
              "      <td>10</td>\n",
              "    </tr>\n",
              "    <tr>\n",
              "      <th>1</th>\n",
              "      <td>transient ischemic attack</td>\n",
              "      <td>Bayer Children's Aspirin</td>\n",
              "      <td>\"No side effects,  easy to take, no more sympt...</td>\n",
              "      <td>Positive</td>\n",
              "      <td>10.000000</td>\n",
              "      <td>10</td>\n",
              "    </tr>\n",
              "    <tr>\n",
              "      <th>4</th>\n",
              "      <td>transient ischemic attack</td>\n",
              "      <td>Clopidogrel</td>\n",
              "      <td>\"After my VAD Stroke I am on plavix.  I have a...</td>\n",
              "      <td>Positive</td>\n",
              "      <td>6.766667</td>\n",
              "      <td>9</td>\n",
              "    </tr>\n",
              "    <tr>\n",
              "      <th>5</th>\n",
              "      <td>transient ischemic attack</td>\n",
              "      <td>Plavix</td>\n",
              "      <td>\"After my VAD Stroke I am on plavix.  I have a...</td>\n",
              "      <td>Positive</td>\n",
              "      <td>5.000000</td>\n",
              "      <td>9</td>\n",
              "    </tr>\n",
              "    <tr>\n",
              "      <th>6</th>\n",
              "      <td>schizophrenia</td>\n",
              "      <td>Mellaril</td>\n",
              "      <td>\"Moochie used to take Melleril, was always cal...</td>\n",
              "      <td>Positive</td>\n",
              "      <td>10.000000</td>\n",
              "      <td>22</td>\n",
              "    </tr>\n",
              "  </tbody>\n",
              "</table>\n",
              "</div>"
            ],
            "text/plain": [
              "                     Disease  ... UsefulCount\n",
              "0  transient ischemic attack  ...          10\n",
              "1  transient ischemic attack  ...          10\n",
              "4  transient ischemic attack  ...           9\n",
              "5  transient ischemic attack  ...           9\n",
              "6              schizophrenia  ...          22\n",
              "\n",
              "[5 rows x 6 columns]"
            ]
          },
          "metadata": {
            "tags": []
          },
          "execution_count": 44
        }
      ]
    },
    {
      "cell_type": "code",
      "metadata": {
        "id": "yQB6-Ec2PCcx",
        "colab_type": "code",
        "colab": {}
      },
      "source": [
        "# Taking predicted disease as input and recommending drug based on highest weighted average and useful count of ratings\n",
        "groupedByCount = merged_wavg.groupby(['Disease', 'Drug', 'Rating_Wavg'])['UsefulCount'].sum().reset_index()"
      ],
      "execution_count": 0,
      "outputs": []
    },
    {
      "cell_type": "code",
      "metadata": {
        "id": "RQusr8yePTTy",
        "colab_type": "code",
        "outputId": "31cd327f-43e2-4385-a4cf-0d35c2110260",
        "colab": {
          "base_uri": "https://localhost:8080/",
          "height": 419
        }
      },
      "source": [
        "groupedByCount"
      ],
      "execution_count": 46,
      "outputs": [
        {
          "output_type": "execute_result",
          "data": {
            "text/html": [
              "<div>\n",
              "<style scoped>\n",
              "    .dataframe tbody tr th:only-of-type {\n",
              "        vertical-align: middle;\n",
              "    }\n",
              "\n",
              "    .dataframe tbody tr th {\n",
              "        vertical-align: top;\n",
              "    }\n",
              "\n",
              "    .dataframe thead th {\n",
              "        text-align: right;\n",
              "    }\n",
              "</style>\n",
              "<table border=\"1\" class=\"dataframe\">\n",
              "  <thead>\n",
              "    <tr style=\"text-align: right;\">\n",
              "      <th></th>\n",
              "      <th>Disease</th>\n",
              "      <th>Drug</th>\n",
              "      <th>Rating_Wavg</th>\n",
              "      <th>UsefulCount</th>\n",
              "    </tr>\n",
              "  </thead>\n",
              "  <tbody>\n",
              "    <tr>\n",
              "      <th>0</th>\n",
              "      <td>alzheimer's disease</td>\n",
              "      <td>Aricept</td>\n",
              "      <td>5.807916</td>\n",
              "      <td>1454</td>\n",
              "    </tr>\n",
              "    <tr>\n",
              "      <th>1</th>\n",
              "      <td>alzheimer's disease</td>\n",
              "      <td>Donepezil</td>\n",
              "      <td>5.503089</td>\n",
              "      <td>1559</td>\n",
              "    </tr>\n",
              "    <tr>\n",
              "      <th>2</th>\n",
              "      <td>alzheimer's disease</td>\n",
              "      <td>Exelon</td>\n",
              "      <td>7.526027</td>\n",
              "      <td>80</td>\n",
              "    </tr>\n",
              "    <tr>\n",
              "      <th>3</th>\n",
              "      <td>alzheimer's disease</td>\n",
              "      <td>Galantamine</td>\n",
              "      <td>8.510638</td>\n",
              "      <td>71</td>\n",
              "    </tr>\n",
              "    <tr>\n",
              "      <th>4</th>\n",
              "      <td>alzheimer's disease</td>\n",
              "      <td>Memantine</td>\n",
              "      <td>4.286241</td>\n",
              "      <td>218</td>\n",
              "    </tr>\n",
              "    <tr>\n",
              "      <th>...</th>\n",
              "      <td>...</td>\n",
              "      <td>...</td>\n",
              "      <td>...</td>\n",
              "      <td>...</td>\n",
              "    </tr>\n",
              "    <tr>\n",
              "      <th>326</th>\n",
              "      <td>schizophrenia</td>\n",
              "      <td>Zyprexa Zydis</td>\n",
              "      <td>6.304348</td>\n",
              "      <td>19</td>\n",
              "    </tr>\n",
              "    <tr>\n",
              "      <th>327</th>\n",
              "      <td>transient ischemic attack</td>\n",
              "      <td>Aspirin</td>\n",
              "      <td>10.000000</td>\n",
              "      <td>10</td>\n",
              "    </tr>\n",
              "    <tr>\n",
              "      <th>328</th>\n",
              "      <td>transient ischemic attack</td>\n",
              "      <td>Bayer Children's Aspirin</td>\n",
              "      <td>10.000000</td>\n",
              "      <td>10</td>\n",
              "    </tr>\n",
              "    <tr>\n",
              "      <th>329</th>\n",
              "      <td>transient ischemic attack</td>\n",
              "      <td>Clopidogrel</td>\n",
              "      <td>6.766667</td>\n",
              "      <td>9</td>\n",
              "    </tr>\n",
              "    <tr>\n",
              "      <th>330</th>\n",
              "      <td>transient ischemic attack</td>\n",
              "      <td>Plavix</td>\n",
              "      <td>5.000000</td>\n",
              "      <td>9</td>\n",
              "    </tr>\n",
              "  </tbody>\n",
              "</table>\n",
              "<p>331 rows × 4 columns</p>\n",
              "</div>"
            ],
            "text/plain": [
              "                       Disease  ... UsefulCount\n",
              "0          alzheimer's disease  ...        1454\n",
              "1          alzheimer's disease  ...        1559\n",
              "2          alzheimer's disease  ...          80\n",
              "3          alzheimer's disease  ...          71\n",
              "4          alzheimer's disease  ...         218\n",
              "..                         ...  ...         ...\n",
              "326              schizophrenia  ...          19\n",
              "327  transient ischemic attack  ...          10\n",
              "328  transient ischemic attack  ...          10\n",
              "329  transient ischemic attack  ...           9\n",
              "330  transient ischemic attack  ...           9\n",
              "\n",
              "[331 rows x 4 columns]"
            ]
          },
          "metadata": {
            "tags": []
          },
          "execution_count": 46
        }
      ]
    },
    {
      "cell_type": "code",
      "metadata": {
        "id": "5gnPFAL2PU_p",
        "colab_type": "code",
        "colab": {}
      },
      "source": [
        "groupedByDisease = groupedByCount.groupby('Disease')"
      ],
      "execution_count": 0,
      "outputs": []
    },
    {
      "cell_type": "markdown",
      "metadata": {
        "id": "lXjtflvWRuna",
        "colab_type": "text"
      },
      "source": [
        "Recommending drug based on the disease predicted above"
      ]
    },
    {
      "cell_type": "code",
      "metadata": {
        "id": "O7VzUaVJPXeM",
        "colab_type": "code",
        "outputId": "843335bf-6e8b-4939-c9ff-555648853e05",
        "colab": {
          "base_uri": "https://localhost:8080/",
          "height": 142
        }
      },
      "source": [
        "recommended_drug = pd.DataFrame(groupedByDisease.get_group((predicted_disease[0]).lower()).nlargest(3, ['Rating_Wavg', 'UsefulCount']))\n",
        "recommended_drug"
      ],
      "execution_count": 48,
      "outputs": [
        {
          "output_type": "execute_result",
          "data": {
            "text/html": [
              "<div>\n",
              "<style scoped>\n",
              "    .dataframe tbody tr th:only-of-type {\n",
              "        vertical-align: middle;\n",
              "    }\n",
              "\n",
              "    .dataframe tbody tr th {\n",
              "        vertical-align: top;\n",
              "    }\n",
              "\n",
              "    .dataframe thead th {\n",
              "        text-align: right;\n",
              "    }\n",
              "</style>\n",
              "<table border=\"1\" class=\"dataframe\">\n",
              "  <thead>\n",
              "    <tr style=\"text-align: right;\">\n",
              "      <th></th>\n",
              "      <th>Disease</th>\n",
              "      <th>Drug</th>\n",
              "      <th>Rating_Wavg</th>\n",
              "      <th>UsefulCount</th>\n",
              "    </tr>\n",
              "  </thead>\n",
              "  <tbody>\n",
              "    <tr>\n",
              "      <th>3</th>\n",
              "      <td>alzheimer's disease</td>\n",
              "      <td>Galantamine</td>\n",
              "      <td>8.510638</td>\n",
              "      <td>71</td>\n",
              "    </tr>\n",
              "    <tr>\n",
              "      <th>2</th>\n",
              "      <td>alzheimer's disease</td>\n",
              "      <td>Exelon</td>\n",
              "      <td>7.526027</td>\n",
              "      <td>80</td>\n",
              "    </tr>\n",
              "    <tr>\n",
              "      <th>7</th>\n",
              "      <td>alzheimer's disease</td>\n",
              "      <td>Rivastigmine</td>\n",
              "      <td>7.481108</td>\n",
              "      <td>95</td>\n",
              "    </tr>\n",
              "  </tbody>\n",
              "</table>\n",
              "</div>"
            ],
            "text/plain": [
              "               Disease          Drug  Rating_Wavg  UsefulCount\n",
              "3  alzheimer's disease   Galantamine     8.510638           71\n",
              "2  alzheimer's disease        Exelon     7.526027           80\n",
              "7  alzheimer's disease  Rivastigmine     7.481108           95"
            ]
          },
          "metadata": {
            "tags": []
          },
          "execution_count": 48
        }
      ]
    },
    {
      "cell_type": "code",
      "metadata": {
        "id": "EaEosXZ2PZ0K",
        "colab_type": "code",
        "outputId": "643b1439-aed0-4455-8b4f-f0816e86c900",
        "colab": {
          "base_uri": "https://localhost:8080/",
          "height": 51
        }
      },
      "source": [
        "print(\"Recommended drugs for this disease are:\\n \", recommended_drug[\"Drug\"].unique())"
      ],
      "execution_count": 49,
      "outputs": [
        {
          "output_type": "stream",
          "text": [
            "Recommended drugs for this disease are:\n",
            "  ['Galantamine' 'Exelon' 'Rivastigmine']\n"
          ],
          "name": "stdout"
        }
      ]
    },
    {
      "cell_type": "markdown",
      "metadata": {
        "id": "ICXvSblTP20A",
        "colab_type": "text"
      },
      "source": [
        "### **Side effects for the recommended drug**"
      ]
    },
    {
      "cell_type": "code",
      "metadata": {
        "id": "ehlXQNKlPifp",
        "colab_type": "code",
        "colab": {}
      },
      "source": [
        "sd = pd.read_csv(path + f'/SideEffects_data.csv')\n",
        "sd = sd.drop(['condition', 'commentsReview'], axis=1)\n",
        "sd = sd.dropna()"
      ],
      "execution_count": 0,
      "outputs": []
    },
    {
      "cell_type": "code",
      "metadata": {
        "id": "UaOJeLuDdo0s",
        "colab_type": "code",
        "colab": {}
      },
      "source": [
        "sd.sideEffects = sd.sideEffects.replace('Moderate Side Effects', 2)\n",
        "sd.sideEffects = sd.sideEffects.replace('Mild Side Effects', 2)\n",
        "sd.sideEffects = sd.sideEffects.replace('Severe Side Effects', 1)\n",
        "sd.sideEffects = sd.sideEffects.replace('No Side Effects', 3)\n",
        "sd.sideEffects = sd.sideEffects.replace('Extremely Severe Side Effects', 0)"
      ],
      "execution_count": 0,
      "outputs": []
    },
    {
      "cell_type": "code",
      "metadata": {
        "id": "0aUK0r8edrq8",
        "colab_type": "code",
        "colab": {}
      },
      "source": [
        "sd.effectiveness = sd.effectiveness.replace('Considerably Effective', 2)\n",
        "sd.effectiveness = sd.effectiveness.replace('Highly Effective', 3)\n",
        "sd.effectiveness = sd.effectiveness.replace('Marginally Effective', 1)\n",
        "sd.effectiveness = sd.effectiveness.replace('Moderately Effective', 1)\n",
        "sd.effectiveness = sd.effectiveness.replace('Ineffective', 0)"
      ],
      "execution_count": 0,
      "outputs": []
    },
    {
      "cell_type": "code",
      "metadata": {
        "id": "KeH_yX2Udut4",
        "colab_type": "code",
        "colab": {}
      },
      "source": [
        "sd = sd[['urlDrugName', 'rating', 'effectiveness', 'sideEffects', 'sideEffectsReview']]"
      ],
      "execution_count": 0,
      "outputs": []
    },
    {
      "cell_type": "code",
      "metadata": {
        "id": "UnKOw6yQd6Xz",
        "colab_type": "code",
        "colab": {}
      },
      "source": [
        "sd = sd.rename(columns={\"urlDrugName\": \"Drug\", \"rating\": \"Rating\", \"effectiveness\": \"Effectivness Rating\",\n",
        "                       \"sideEffects\": \"Side Effect Rating\", \"sideEffectsReview\": \"Side Effects\"})\n",
        "sd.Drug = sd.Drug.str.upper()"
      ],
      "execution_count": 0,
      "outputs": []
    },
    {
      "cell_type": "code",
      "metadata": {
        "id": "f4k2vBkqd8W6",
        "colab_type": "code",
        "colab": {
          "base_uri": "https://localhost:8080/",
          "height": 436
        },
        "outputId": "3070955f-a3f3-4d75-d0a3-59a5a6e0b3d1"
      },
      "source": [
        "print('Drug with possible side effects')\n",
        "sd"
      ],
      "execution_count": 66,
      "outputs": [
        {
          "output_type": "stream",
          "text": [
            "Drug with possible side effects\n"
          ],
          "name": "stdout"
        },
        {
          "output_type": "execute_result",
          "data": {
            "text/html": [
              "<div>\n",
              "<style scoped>\n",
              "    .dataframe tbody tr th:only-of-type {\n",
              "        vertical-align: middle;\n",
              "    }\n",
              "\n",
              "    .dataframe tbody tr th {\n",
              "        vertical-align: top;\n",
              "    }\n",
              "\n",
              "    .dataframe thead th {\n",
              "        text-align: right;\n",
              "    }\n",
              "</style>\n",
              "<table border=\"1\" class=\"dataframe\">\n",
              "  <thead>\n",
              "    <tr style=\"text-align: right;\">\n",
              "      <th></th>\n",
              "      <th>Drug</th>\n",
              "      <th>Rating</th>\n",
              "      <th>Effectivness Rating</th>\n",
              "      <th>Side Effect Rating</th>\n",
              "      <th>Side Effects</th>\n",
              "    </tr>\n",
              "  </thead>\n",
              "  <tbody>\n",
              "    <tr>\n",
              "      <th>0</th>\n",
              "      <td>ENALAPRIL</td>\n",
              "      <td>4</td>\n",
              "      <td>3</td>\n",
              "      <td>2</td>\n",
              "      <td>cough, hypotension , proteinuria, impotence , ...</td>\n",
              "    </tr>\n",
              "    <tr>\n",
              "      <th>1</th>\n",
              "      <td>ORTHO-TRI-CYCLEN</td>\n",
              "      <td>1</td>\n",
              "      <td>3</td>\n",
              "      <td>1</td>\n",
              "      <td>Heavy Cycle, Cramps, Hot Flashes, Fatigue, Lon...</td>\n",
              "    </tr>\n",
              "    <tr>\n",
              "      <th>2</th>\n",
              "      <td>PONSTEL</td>\n",
              "      <td>10</td>\n",
              "      <td>3</td>\n",
              "      <td>3</td>\n",
              "      <td>Heavier bleeding and clotting than normal.</td>\n",
              "    </tr>\n",
              "    <tr>\n",
              "      <th>3</th>\n",
              "      <td>PRILOSEC</td>\n",
              "      <td>3</td>\n",
              "      <td>1</td>\n",
              "      <td>2</td>\n",
              "      <td>Constipation, dry mouth and some mild dizzines...</td>\n",
              "    </tr>\n",
              "    <tr>\n",
              "      <th>4</th>\n",
              "      <td>LYRICA</td>\n",
              "      <td>2</td>\n",
              "      <td>1</td>\n",
              "      <td>1</td>\n",
              "      <td>I felt extremely drugged and dopey.  Could not...</td>\n",
              "    </tr>\n",
              "    <tr>\n",
              "      <th>...</th>\n",
              "      <td>...</td>\n",
              "      <td>...</td>\n",
              "      <td>...</td>\n",
              "      <td>...</td>\n",
              "      <td>...</td>\n",
              "    </tr>\n",
              "    <tr>\n",
              "      <th>4146</th>\n",
              "      <td>FORTEO</td>\n",
              "      <td>7</td>\n",
              "      <td>1</td>\n",
              "      <td>2</td>\n",
              "      <td>abdominal pain, confusion, constipation, depre...</td>\n",
              "    </tr>\n",
              "    <tr>\n",
              "      <th>4147</th>\n",
              "      <td>ZOLEDRONIC ACID</td>\n",
              "      <td>6</td>\n",
              "      <td>1</td>\n",
              "      <td>2</td>\n",
              "      <td>Agitation, blurred vision, cough, depression, ...</td>\n",
              "    </tr>\n",
              "    <tr>\n",
              "      <th>4148</th>\n",
              "      <td>GALANTAMINE</td>\n",
              "      <td>10</td>\n",
              "      <td>3</td>\n",
              "      <td>3</td>\n",
              "      <td>Chest pain or discomfort, lightheadedness, diz...</td>\n",
              "    </tr>\n",
              "    <tr>\n",
              "      <th>4149</th>\n",
              "      <td>RIVASTIGMINE</td>\n",
              "      <td>7</td>\n",
              "      <td>3</td>\n",
              "      <td>2</td>\n",
              "      <td>Diarrhea, indigestion, loss of appetite, loss ...</td>\n",
              "    </tr>\n",
              "    <tr>\n",
              "      <th>4150</th>\n",
              "      <td>EXELON</td>\n",
              "      <td>5</td>\n",
              "      <td>1</td>\n",
              "      <td>1</td>\n",
              "      <td>an ulcer or stomach bleeding, a seizure, heart...</td>\n",
              "    </tr>\n",
              "  </tbody>\n",
              "</table>\n",
              "<p>4149 rows × 5 columns</p>\n",
              "</div>"
            ],
            "text/plain": [
              "                  Drug  ...                                       Side Effects\n",
              "0            ENALAPRIL  ...  cough, hypotension , proteinuria, impotence , ...\n",
              "1     ORTHO-TRI-CYCLEN  ...  Heavy Cycle, Cramps, Hot Flashes, Fatigue, Lon...\n",
              "2              PONSTEL  ...         Heavier bleeding and clotting than normal.\n",
              "3             PRILOSEC  ...  Constipation, dry mouth and some mild dizzines...\n",
              "4               LYRICA  ...  I felt extremely drugged and dopey.  Could not...\n",
              "...                ...  ...                                                ...\n",
              "4146            FORTEO  ...  abdominal pain, confusion, constipation, depre...\n",
              "4147   ZOLEDRONIC ACID  ...  Agitation, blurred vision, cough, depression, ...\n",
              "4148       GALANTAMINE  ...  Chest pain or discomfort, lightheadedness, diz...\n",
              "4149      RIVASTIGMINE  ...  Diarrhea, indigestion, loss of appetite, loss ...\n",
              "4150            EXELON  ...  an ulcer or stomach bleeding, a seizure, heart...\n",
              "\n",
              "[4149 rows x 5 columns]"
            ]
          },
          "metadata": {
            "tags": []
          },
          "execution_count": 66
        }
      ]
    },
    {
      "cell_type": "code",
      "metadata": {
        "id": "__7CnIH2d-t1",
        "colab_type": "code",
        "colab": {}
      },
      "source": [
        "def _probScore(df, w1, w2, w3):\n",
        "    return(1-(df[w1] * df[w2] * df[w3]).sum()/df[w1].sum()/10)"
      ],
      "execution_count": 0,
      "outputs": []
    },
    {
      "cell_type": "code",
      "metadata": {
        "id": "p9OjAtICeBom",
        "colab_type": "code",
        "colab": {}
      },
      "source": [
        "def _getSE(df, sedf, l):\n",
        "    sdf = sedf\n",
        "    sdf = sdf.loc[sdf['Drug'] == l]\n",
        "    #print(sdf)\n",
        "    w = sdf.groupby([\"Drug\"]).apply(_probScore, \"Rating\", \"Effectivness Rating\", \"Side Effect Rating\")\n",
        "    sdf1 = sdf.loc[sdf['Effectivness Rating'] == 0]\n",
        "    sdf1 = sdf1.loc[sdf['Side Effect Rating'] == 0]\n",
        "    sdf1 = sdf1.loc[sdf['Rating'] <= 1 ]\n",
        "    sdf1 = sdf1.reset_index()\n",
        "    sdf1 = pd.DataFrame(sdf['Side Effects'])\n",
        "    df1 = pd.DataFrame(w, columns=['Prob. of Side Effect'])\n",
        "    df1 = df1.reset_index()\n",
        "    #print(sdf[:1]['Side Effects'])\n",
        "    df2 = pd.DataFrame(sdf['Side Effects'])\n",
        "    df2 = df2.reset_index()\n",
        "    df2 = df2.drop(['index'], axis=1)\n",
        "    dd = pd.concat([df1, df2], axis=1)\n",
        "    \n",
        "    return dd"
      ],
      "execution_count": 0,
      "outputs": []
    },
    {
      "cell_type": "code",
      "metadata": {
        "id": "OSB6nb2HeEf6",
        "colab_type": "code",
        "colab": {}
      },
      "source": [
        "def _getSideEffects(df, sedf):\n",
        "    df.Drug = df.Drug.str.upper()\n",
        "    l = list(df.Drug)\n",
        "    #print(l)\n",
        "    for i in range(0, 1):\n",
        "        df1 = _getSE(df, sedf, l[i])\n",
        "    dd = df1\n",
        "    for i in range(1, len(l)):\n",
        "        df2 = _getSE(df, sedf, l[i])\n",
        "        dd = pd.concat([dd, df2])\n",
        "    return dd"
      ],
      "execution_count": 0,
      "outputs": []
    },
    {
      "cell_type": "code",
      "metadata": {
        "id": "24PMNtIfeGQB",
        "colab_type": "code",
        "colab": {}
      },
      "source": [
        "se = _getSideEffects(recommended_drug, sd)"
      ],
      "execution_count": 0,
      "outputs": []
    },
    {
      "cell_type": "code",
      "metadata": {
        "id": "pyG29JoRePus",
        "colab_type": "code",
        "colab": {
          "base_uri": "https://localhost:8080/",
          "height": 159
        },
        "outputId": "532d1103-6347-495a-a3b7-fef35e2ebf08"
      },
      "source": [
        "recommender = recommended_drug.set_index('Drug').join(se.set_index('Drug'))\n",
        "recommender = recommender.reset_index()\n",
        "recommender['Prob. of Side Effect'] = recommender['Prob. of Side Effect'].fillna(0)\n",
        "recommender['Prob. of Side Effect'] = recommender['Prob. of Side Effect'].fillna('Not Available')\n",
        "print('Mapped recommended drugs with possible side effects and probabilistic score')\n",
        "recommender"
      ],
      "execution_count": 71,
      "outputs": [
        {
          "output_type": "stream",
          "text": [
            "Mapped recommended drugs with possible side effects and probabilistic score\n"
          ],
          "name": "stdout"
        },
        {
          "output_type": "execute_result",
          "data": {
            "text/html": [
              "<div>\n",
              "<style scoped>\n",
              "    .dataframe tbody tr th:only-of-type {\n",
              "        vertical-align: middle;\n",
              "    }\n",
              "\n",
              "    .dataframe tbody tr th {\n",
              "        vertical-align: top;\n",
              "    }\n",
              "\n",
              "    .dataframe thead th {\n",
              "        text-align: right;\n",
              "    }\n",
              "</style>\n",
              "<table border=\"1\" class=\"dataframe\">\n",
              "  <thead>\n",
              "    <tr style=\"text-align: right;\">\n",
              "      <th></th>\n",
              "      <th>Drug</th>\n",
              "      <th>Disease</th>\n",
              "      <th>Rating_Wavg</th>\n",
              "      <th>UsefulCount</th>\n",
              "      <th>Prob. of Side Effect</th>\n",
              "      <th>Side Effects</th>\n",
              "    </tr>\n",
              "  </thead>\n",
              "  <tbody>\n",
              "    <tr>\n",
              "      <th>0</th>\n",
              "      <td>GALANTAMINE</td>\n",
              "      <td>alzheimer's disease</td>\n",
              "      <td>8.510638</td>\n",
              "      <td>71</td>\n",
              "      <td>0.1</td>\n",
              "      <td>Chest pain or discomfort, lightheadedness, diz...</td>\n",
              "    </tr>\n",
              "    <tr>\n",
              "      <th>1</th>\n",
              "      <td>EXELON</td>\n",
              "      <td>alzheimer's disease</td>\n",
              "      <td>7.526027</td>\n",
              "      <td>80</td>\n",
              "      <td>0.9</td>\n",
              "      <td>an ulcer or stomach bleeding, a seizure, heart...</td>\n",
              "    </tr>\n",
              "    <tr>\n",
              "      <th>2</th>\n",
              "      <td>RIVASTIGMINE</td>\n",
              "      <td>alzheimer's disease</td>\n",
              "      <td>7.481108</td>\n",
              "      <td>95</td>\n",
              "      <td>0.4</td>\n",
              "      <td>Diarrhea, indigestion, loss of appetite, loss ...</td>\n",
              "    </tr>\n",
              "  </tbody>\n",
              "</table>\n",
              "</div>"
            ],
            "text/plain": [
              "           Drug  ...                                       Side Effects\n",
              "0   GALANTAMINE  ...  Chest pain or discomfort, lightheadedness, diz...\n",
              "1        EXELON  ...  an ulcer or stomach bleeding, a seizure, heart...\n",
              "2  RIVASTIGMINE  ...  Diarrhea, indigestion, loss of appetite, loss ...\n",
              "\n",
              "[3 rows x 6 columns]"
            ]
          },
          "metadata": {
            "tags": []
          },
          "execution_count": 71
        }
      ]
    },
    {
      "cell_type": "code",
      "metadata": {
        "id": "JS3OeROTeVUX",
        "colab_type": "code",
        "colab": {
          "base_uri": "https://localhost:8080/",
          "height": 159
        },
        "outputId": "6de75200-ae8b-4a76-fa2c-f6b544d8ef5c"
      },
      "source": [
        "#sorting based on probabilistic score\n",
        "recommender = recommender.sort_values('Prob. of Side Effect')\n",
        "print(\"The recommended Drugs for the given Disease along with possible side effects is:\")\n",
        "recommender"
      ],
      "execution_count": 72,
      "outputs": [
        {
          "output_type": "stream",
          "text": [
            "The recommended Drugs for the given Disease is:\n"
          ],
          "name": "stdout"
        },
        {
          "output_type": "execute_result",
          "data": {
            "text/html": [
              "<div>\n",
              "<style scoped>\n",
              "    .dataframe tbody tr th:only-of-type {\n",
              "        vertical-align: middle;\n",
              "    }\n",
              "\n",
              "    .dataframe tbody tr th {\n",
              "        vertical-align: top;\n",
              "    }\n",
              "\n",
              "    .dataframe thead th {\n",
              "        text-align: right;\n",
              "    }\n",
              "</style>\n",
              "<table border=\"1\" class=\"dataframe\">\n",
              "  <thead>\n",
              "    <tr style=\"text-align: right;\">\n",
              "      <th></th>\n",
              "      <th>Drug</th>\n",
              "      <th>Disease</th>\n",
              "      <th>Rating_Wavg</th>\n",
              "      <th>UsefulCount</th>\n",
              "      <th>Prob. of Side Effect</th>\n",
              "      <th>Side Effects</th>\n",
              "    </tr>\n",
              "  </thead>\n",
              "  <tbody>\n",
              "    <tr>\n",
              "      <th>0</th>\n",
              "      <td>GALANTAMINE</td>\n",
              "      <td>alzheimer's disease</td>\n",
              "      <td>8.510638</td>\n",
              "      <td>71</td>\n",
              "      <td>0.1</td>\n",
              "      <td>Chest pain or discomfort, lightheadedness, diz...</td>\n",
              "    </tr>\n",
              "    <tr>\n",
              "      <th>2</th>\n",
              "      <td>RIVASTIGMINE</td>\n",
              "      <td>alzheimer's disease</td>\n",
              "      <td>7.481108</td>\n",
              "      <td>95</td>\n",
              "      <td>0.4</td>\n",
              "      <td>Diarrhea, indigestion, loss of appetite, loss ...</td>\n",
              "    </tr>\n",
              "    <tr>\n",
              "      <th>1</th>\n",
              "      <td>EXELON</td>\n",
              "      <td>alzheimer's disease</td>\n",
              "      <td>7.526027</td>\n",
              "      <td>80</td>\n",
              "      <td>0.9</td>\n",
              "      <td>an ulcer or stomach bleeding, a seizure, heart...</td>\n",
              "    </tr>\n",
              "  </tbody>\n",
              "</table>\n",
              "</div>"
            ],
            "text/plain": [
              "           Drug  ...                                       Side Effects\n",
              "0   GALANTAMINE  ...  Chest pain or discomfort, lightheadedness, diz...\n",
              "2  RIVASTIGMINE  ...  Diarrhea, indigestion, loss of appetite, loss ...\n",
              "1        EXELON  ...  an ulcer or stomach bleeding, a seizure, heart...\n",
              "\n",
              "[3 rows x 6 columns]"
            ]
          },
          "metadata": {
            "tags": []
          },
          "execution_count": 72
        }
      ]
    }
  ]
}