{
  "nbformat": 4,
  "nbformat_minor": 0,
  "metadata": {
    "colab": {
      "name": "ChatBot_For_Demonstration.ipynb",
      "provenance": [],
      "include_colab_link": true
    },
    "kernelspec": {
      "name": "python3",
      "display_name": "Python 3"
    }
  },
  "cells": [
    {
      "cell_type": "markdown",
      "metadata": {
        "id": "view-in-github",
        "colab_type": "text"
      },
      "source": [
        "<a href=\"https://colab.research.google.com/github/khushbooekhande/DrugRecommendationSystem/blob/master/Final_package/ChatBot_For_Demonstration.ipynb\" target=\"_parent\"><img src=\"https://colab.research.google.com/assets/colab-badge.svg\" alt=\"Open In Colab\"/></a>"
      ]
    },
    {
      "cell_type": "markdown",
      "metadata": {
        "id": "34p_sbLNXwY1",
        "colab_type": "text"
      },
      "source": [
        "#Import statements"
      ]
    },
    {
      "cell_type": "code",
      "metadata": {
        "id": "035oDtvoX3Z-",
        "colab_type": "code",
        "outputId": "f02fc9c6-9a69-4ce3-838d-def55fef79e2",
        "colab": {
          "base_uri": "https://localhost:8080/",
          "height": 120
        }
      },
      "source": [
        "from google.colab import drive\n",
        "drive.mount(\"/content/drive\")"
      ],
      "execution_count": 1,
      "outputs": [
        {
          "output_type": "stream",
          "text": [
            "Go to this URL in a browser: https://accounts.google.com/o/oauth2/auth?client_id=947318989803-6bn6qk8qdgf4n4g3pfee6491hc0brc4i.apps.googleusercontent.com&redirect_uri=urn%3aietf%3awg%3aoauth%3a2.0%3aoob&response_type=code&scope=email%20https%3a%2f%2fwww.googleapis.com%2fauth%2fdocs.test%20https%3a%2f%2fwww.googleapis.com%2fauth%2fdrive%20https%3a%2f%2fwww.googleapis.com%2fauth%2fdrive.photos.readonly%20https%3a%2f%2fwww.googleapis.com%2fauth%2fpeopleapi.readonly\n",
            "\n",
            "Enter your authorization code:\n",
            "··········\n",
            "Mounted at /content/drive\n"
          ],
          "name": "stdout"
        }
      ]
    },
    {
      "cell_type": "code",
      "metadata": {
        "id": "jHsCJ_cqX5yi",
        "colab_type": "code",
        "outputId": "445f9f6d-769f-4fe7-9e5f-857e2dff627c",
        "colab": {
          "base_uri": "https://localhost:8080/",
          "height": 1000
        }
      },
      "source": [
        "!pip install chatterBot\n",
        "!pip install chatbotAI\n",
        "!pip install chatterbot-corpus\n",
        "!pip install wikipedia\n",
        "!pip install Wikipedia-API\n",
        "!pip install flask-ngrok"
      ],
      "execution_count": 2,
      "outputs": [
        {
          "output_type": "stream",
          "text": [
            "Collecting chatterBot\n",
            "\u001b[?25l  Downloading https://files.pythonhosted.org/packages/6c/0e/dac0d82f34f86bf509cf5ef3e2dfc5aa7d444bd843a2330ceb7d854f84f2/ChatterBot-1.0.5-py2.py3-none-any.whl (67kB)\n",
            "\r\u001b[K     |████▉                           | 10kB 20.2MB/s eta 0:00:01\r\u001b[K     |█████████▋                      | 20kB 2.2MB/s eta 0:00:01\r\u001b[K     |██████████████▌                 | 30kB 3.3MB/s eta 0:00:01\r\u001b[K     |███████████████████▎            | 40kB 2.2MB/s eta 0:00:01\r\u001b[K     |████████████████████████▏       | 51kB 2.7MB/s eta 0:00:01\r\u001b[K     |█████████████████████████████   | 61kB 3.2MB/s eta 0:00:01\r\u001b[K     |████████████████████████████████| 71kB 2.8MB/s \n",
            "\u001b[?25hCollecting pint>=0.8.1\n",
            "\u001b[?25l  Downloading https://files.pythonhosted.org/packages/9d/db/7a2204b03c22069839958df5723eb2718d50c33052e0da84c9a83de14ea4/Pint-0.11-py2.py3-none-any.whl (186kB)\n",
            "\u001b[K     |████████████████████████████████| 194kB 10.0MB/s \n",
            "\u001b[?25hCollecting sqlalchemy<1.3,>=1.2\n",
            "\u001b[?25l  Downloading https://files.pythonhosted.org/packages/f9/67/d07cf7ac7e6dd0bc55ba62816753f86d7c558107104ca915e730c9ec2512/SQLAlchemy-1.2.19.tar.gz (5.7MB)\n",
            "\u001b[K     |████████████████████████████████| 5.7MB 43.1MB/s \n",
            "\u001b[?25hRequirement already satisfied: nltk<4.0,>=3.2 in /usr/local/lib/python3.6/dist-packages (from chatterBot) (3.2.5)\n",
            "Collecting python-dateutil<2.8,>=2.7\n",
            "\u001b[?25l  Downloading https://files.pythonhosted.org/packages/74/68/d87d9b36af36f44254a8d512cbfc48369103a3b9e474be9bdfe536abfc45/python_dateutil-2.7.5-py2.py3-none-any.whl (225kB)\n",
            "\u001b[K     |████████████████████████████████| 235kB 42.0MB/s \n",
            "\u001b[?25hCollecting pyyaml<5.2,>=5.1\n",
            "\u001b[?25l  Downloading https://files.pythonhosted.org/packages/e3/e8/b3212641ee2718d556df0f23f78de8303f068fe29cdaa7a91018849582fe/PyYAML-5.1.2.tar.gz (265kB)\n",
            "\u001b[K     |████████████████████████████████| 266kB 51.4MB/s \n",
            "\u001b[?25hRequirement already satisfied: pytz in /usr/local/lib/python3.6/dist-packages (from chatterBot) (2018.9)\n",
            "Collecting mathparse<0.2,>=0.1\n",
            "  Downloading https://files.pythonhosted.org/packages/c3/e5/4910fb85950cb960fcf3f5aabe1c8e55f5c9201788a1c1302b570a7e1f84/mathparse-0.1.2-py3-none-any.whl\n",
            "Collecting spacy<2.2,>=2.1\n",
            "\u001b[?25l  Downloading https://files.pythonhosted.org/packages/41/5b/e07dd3bf104237bce4b398558b104c8e500333d6f30eabe3fa9685356b7d/spacy-2.1.9-cp36-cp36m-manylinux1_x86_64.whl (30.8MB)\n",
            "\u001b[K     |████████████████████████████████| 30.9MB 153kB/s \n",
            "\u001b[?25hRequirement already satisfied: pymongo<4.0,>=3.3 in /usr/local/lib/python3.6/dist-packages (from chatterBot) (3.10.1)\n",
            "Requirement already satisfied: setuptools in /usr/local/lib/python3.6/dist-packages (from pint>=0.8.1->chatterBot) (46.1.3)\n",
            "Requirement already satisfied: six in /usr/local/lib/python3.6/dist-packages (from nltk<4.0,>=3.2->chatterBot) (1.12.0)\n",
            "Requirement already satisfied: requests<3.0.0,>=2.13.0 in /usr/local/lib/python3.6/dist-packages (from spacy<2.2,>=2.1->chatterBot) (2.23.0)\n",
            "Collecting blis<0.3.0,>=0.2.2\n",
            "\u001b[?25l  Downloading https://files.pythonhosted.org/packages/34/46/b1d0bb71d308e820ed30316c5f0a017cb5ef5f4324bcbc7da3cf9d3b075c/blis-0.2.4-cp36-cp36m-manylinux1_x86_64.whl (3.2MB)\n",
            "\u001b[K     |████████████████████████████████| 3.2MB 35.8MB/s \n",
            "\u001b[?25hRequirement already satisfied: cymem<2.1.0,>=2.0.2 in /usr/local/lib/python3.6/dist-packages (from spacy<2.2,>=2.1->chatterBot) (2.0.3)\n",
            "Requirement already satisfied: numpy>=1.15.0 in /usr/local/lib/python3.6/dist-packages (from spacy<2.2,>=2.1->chatterBot) (1.18.4)\n",
            "Requirement already satisfied: wasabi<1.1.0,>=0.2.0 in /usr/local/lib/python3.6/dist-packages (from spacy<2.2,>=2.1->chatterBot) (0.6.0)\n",
            "Requirement already satisfied: srsly<1.1.0,>=0.0.6 in /usr/local/lib/python3.6/dist-packages (from spacy<2.2,>=2.1->chatterBot) (1.0.2)\n",
            "Collecting plac<1.0.0,>=0.9.6\n",
            "  Downloading https://files.pythonhosted.org/packages/9e/9b/62c60d2f5bc135d2aa1d8c8a86aaf84edb719a59c7f11a4316259e61a298/plac-0.9.6-py2.py3-none-any.whl\n",
            "Collecting thinc<7.1.0,>=7.0.8\n",
            "\u001b[?25l  Downloading https://files.pythonhosted.org/packages/18/a5/9ace20422e7bb1bdcad31832ea85c52a09900cd4a7ce711246bfb92206ba/thinc-7.0.8-cp36-cp36m-manylinux1_x86_64.whl (2.1MB)\n",
            "\u001b[K     |████████████████████████████████| 2.1MB 33.9MB/s \n",
            "\u001b[?25hCollecting preshed<2.1.0,>=2.0.1\n",
            "\u001b[?25l  Downloading https://files.pythonhosted.org/packages/20/93/f222fb957764a283203525ef20e62008675fd0a14ffff8cc1b1490147c63/preshed-2.0.1-cp36-cp36m-manylinux1_x86_64.whl (83kB)\n",
            "\u001b[K     |████████████████████████████████| 92kB 11.0MB/s \n",
            "\u001b[?25hRequirement already satisfied: murmurhash<1.1.0,>=0.28.0 in /usr/local/lib/python3.6/dist-packages (from spacy<2.2,>=2.1->chatterBot) (1.0.2)\n",
            "Requirement already satisfied: chardet<4,>=3.0.2 in /usr/local/lib/python3.6/dist-packages (from requests<3.0.0,>=2.13.0->spacy<2.2,>=2.1->chatterBot) (3.0.4)\n",
            "Requirement already satisfied: urllib3!=1.25.0,!=1.25.1,<1.26,>=1.21.1 in /usr/local/lib/python3.6/dist-packages (from requests<3.0.0,>=2.13.0->spacy<2.2,>=2.1->chatterBot) (1.24.3)\n",
            "Requirement already satisfied: idna<3,>=2.5 in /usr/local/lib/python3.6/dist-packages (from requests<3.0.0,>=2.13.0->spacy<2.2,>=2.1->chatterBot) (2.9)\n",
            "Requirement already satisfied: certifi>=2017.4.17 in /usr/local/lib/python3.6/dist-packages (from requests<3.0.0,>=2.13.0->spacy<2.2,>=2.1->chatterBot) (2020.4.5.1)\n",
            "Requirement already satisfied: tqdm<5.0.0,>=4.10.0 in /usr/local/lib/python3.6/dist-packages (from thinc<7.1.0,>=7.0.8->spacy<2.2,>=2.1->chatterBot) (4.41.1)\n",
            "Building wheels for collected packages: sqlalchemy, pyyaml\n",
            "  Building wheel for sqlalchemy (setup.py) ... \u001b[?25l\u001b[?25hdone\n",
            "  Created wheel for sqlalchemy: filename=SQLAlchemy-1.2.19-cp36-cp36m-linux_x86_64.whl size=1151151 sha256=80d91eeb4c6f7770f3de48ba03ae28fcad51ca9e848d273a19e2f8bb19807d14\n",
            "  Stored in directory: /root/.cache/pip/wheels/2c/90/a7/3b40c6cc468abff357b38fd075429920bd0d313659d889cf8a\n",
            "  Building wheel for pyyaml (setup.py) ... \u001b[?25l\u001b[?25hdone\n",
            "  Created wheel for pyyaml: filename=PyYAML-5.1.2-cp36-cp36m-linux_x86_64.whl size=44104 sha256=f6b1ab6749dfde68917811824437cb01a63d0724a7dd4152f857b9e4e6fe1774\n",
            "  Stored in directory: /root/.cache/pip/wheels/d9/45/dd/65f0b38450c47cf7e5312883deb97d065e030c5cca0a365030\n",
            "Successfully built sqlalchemy pyyaml\n",
            "\u001b[31mERROR: fbprophet 0.6 has requirement python-dateutil>=2.8.0, but you'll have python-dateutil 2.7.5 which is incompatible.\u001b[0m\n",
            "\u001b[31mERROR: en-core-web-sm 2.2.5 has requirement spacy>=2.2.2, but you'll have spacy 2.1.9 which is incompatible.\u001b[0m\n",
            "\u001b[31mERROR: albumentations 0.1.12 has requirement imgaug<0.2.7,>=0.2.5, but you'll have imgaug 0.2.9 which is incompatible.\u001b[0m\n",
            "Installing collected packages: pint, sqlalchemy, python-dateutil, pyyaml, mathparse, blis, plac, preshed, thinc, spacy, chatterBot\n",
            "  Found existing installation: SQLAlchemy 1.3.16\n",
            "    Uninstalling SQLAlchemy-1.3.16:\n",
            "      Successfully uninstalled SQLAlchemy-1.3.16\n",
            "  Found existing installation: python-dateutil 2.8.1\n",
            "    Uninstalling python-dateutil-2.8.1:\n",
            "      Successfully uninstalled python-dateutil-2.8.1\n",
            "  Found existing installation: PyYAML 3.13\n",
            "    Uninstalling PyYAML-3.13:\n",
            "      Successfully uninstalled PyYAML-3.13\n",
            "  Found existing installation: blis 0.4.1\n",
            "    Uninstalling blis-0.4.1:\n",
            "      Successfully uninstalled blis-0.4.1\n",
            "  Found existing installation: plac 1.1.3\n",
            "    Uninstalling plac-1.1.3:\n",
            "      Successfully uninstalled plac-1.1.3\n",
            "  Found existing installation: preshed 3.0.2\n",
            "    Uninstalling preshed-3.0.2:\n",
            "      Successfully uninstalled preshed-3.0.2\n",
            "  Found existing installation: thinc 7.4.0\n",
            "    Uninstalling thinc-7.4.0:\n",
            "      Successfully uninstalled thinc-7.4.0\n",
            "  Found existing installation: spacy 2.2.4\n",
            "    Uninstalling spacy-2.2.4:\n",
            "      Successfully uninstalled spacy-2.2.4\n",
            "Successfully installed blis-0.2.4 chatterBot-1.0.5 mathparse-0.1.2 pint-0.11 plac-0.9.6 preshed-2.0.1 python-dateutil-2.7.5 pyyaml-5.1.2 spacy-2.1.9 sqlalchemy-1.2.19 thinc-7.0.8\n"
          ],
          "name": "stdout"
        },
        {
          "output_type": "display_data",
          "data": {
            "application/vnd.colab-display-data+json": {
              "pip_warning": {
                "packages": [
                  "dateutil"
                ]
              }
            }
          },
          "metadata": {
            "tags": []
          }
        },
        {
          "output_type": "stream",
          "text": [
            "Collecting chatbotAI\n",
            "\u001b[?25l  Downloading https://files.pythonhosted.org/packages/d0/38/dac7b1394c2b04212fce5b89d4d2b7d95fa2f70c1081f463cc8d86ff6a2a/chatbotAI-0.2.1.01-py2.py3-none-any.whl (3.9MB)\n",
            "\u001b[K     |████████████████████████████████| 3.9MB 3.3MB/s \n",
            "\u001b[?25hRequirement already satisfied: requests in /usr/local/lib/python3.6/dist-packages (from chatbotAI) (2.23.0)\n",
            "Requirement already satisfied: idna<3,>=2.5 in /usr/local/lib/python3.6/dist-packages (from requests->chatbotAI) (2.9)\n",
            "Requirement already satisfied: chardet<4,>=3.0.2 in /usr/local/lib/python3.6/dist-packages (from requests->chatbotAI) (3.0.4)\n",
            "Requirement already satisfied: certifi>=2017.4.17 in /usr/local/lib/python3.6/dist-packages (from requests->chatbotAI) (2020.4.5.1)\n",
            "Requirement already satisfied: urllib3!=1.25.0,!=1.25.1,<1.26,>=1.21.1 in /usr/local/lib/python3.6/dist-packages (from requests->chatbotAI) (1.24.3)\n",
            "Installing collected packages: chatbotAI\n",
            "Successfully installed chatbotAI-0.2.1.1\n",
            "Collecting chatterbot-corpus\n",
            "\u001b[?25l  Downloading https://files.pythonhosted.org/packages/ed/19/f8b41daf36fe4b0f43e283a820362ffdb2c1128600ab4ee187e84262fa4d/chatterbot_corpus-1.2.0-py2.py3-none-any.whl (117kB)\n",
            "\u001b[K     |████████████████████████████████| 122kB 3.0MB/s \n",
            "\u001b[?25hCollecting PyYAML<4.0,>=3.12\n",
            "\u001b[?25l  Downloading https://files.pythonhosted.org/packages/9e/a3/1d13970c3f36777c583f136c136f804d70f500168edc1edea6daa7200769/PyYAML-3.13.tar.gz (270kB)\n",
            "\u001b[K     |████████████████████████████████| 276kB 4.7MB/s \n",
            "\u001b[?25hBuilding wheels for collected packages: PyYAML\n",
            "  Building wheel for PyYAML (setup.py) ... \u001b[?25l\u001b[?25hdone\n",
            "  Created wheel for PyYAML: filename=PyYAML-3.13-cp36-cp36m-linux_x86_64.whl size=43086 sha256=cdcf6c060307505176690b4415bfc21f38c33aade92faa79798ca4fd4da89a7a\n",
            "  Stored in directory: /root/.cache/pip/wheels/ad/da/0c/74eb680767247273e2cf2723482cb9c924fe70af57c334513f\n",
            "Successfully built PyYAML\n",
            "\u001b[31mERROR: chatterbot 1.0.5 has requirement pyyaml<5.2,>=5.1, but you'll have pyyaml 3.13 which is incompatible.\u001b[0m\n",
            "Installing collected packages: PyYAML, chatterbot-corpus\n",
            "  Found existing installation: PyYAML 5.1.2\n",
            "    Uninstalling PyYAML-5.1.2:\n",
            "      Successfully uninstalled PyYAML-5.1.2\n",
            "Successfully installed PyYAML-3.13 chatterbot-corpus-1.2.0\n",
            "Collecting wikipedia\n",
            "  Downloading https://files.pythonhosted.org/packages/67/35/25e68fbc99e672127cc6fbb14b8ec1ba3dfef035bf1e4c90f78f24a80b7d/wikipedia-1.4.0.tar.gz\n",
            "Requirement already satisfied: beautifulsoup4 in /usr/local/lib/python3.6/dist-packages (from wikipedia) (4.6.3)\n",
            "Requirement already satisfied: requests<3.0.0,>=2.0.0 in /usr/local/lib/python3.6/dist-packages (from wikipedia) (2.23.0)\n",
            "Requirement already satisfied: urllib3!=1.25.0,!=1.25.1,<1.26,>=1.21.1 in /usr/local/lib/python3.6/dist-packages (from requests<3.0.0,>=2.0.0->wikipedia) (1.24.3)\n",
            "Requirement already satisfied: chardet<4,>=3.0.2 in /usr/local/lib/python3.6/dist-packages (from requests<3.0.0,>=2.0.0->wikipedia) (3.0.4)\n",
            "Requirement already satisfied: certifi>=2017.4.17 in /usr/local/lib/python3.6/dist-packages (from requests<3.0.0,>=2.0.0->wikipedia) (2020.4.5.1)\n",
            "Requirement already satisfied: idna<3,>=2.5 in /usr/local/lib/python3.6/dist-packages (from requests<3.0.0,>=2.0.0->wikipedia) (2.9)\n",
            "Building wheels for collected packages: wikipedia\n",
            "  Building wheel for wikipedia (setup.py) ... \u001b[?25l\u001b[?25hdone\n",
            "  Created wheel for wikipedia: filename=wikipedia-1.4.0-cp36-none-any.whl size=11686 sha256=7d9e0ec8bf0c84e2e222a45dcb2e29e3294288a947057f8c48afdef8f5f8a46f\n",
            "  Stored in directory: /root/.cache/pip/wheels/87/2a/18/4e471fd96d12114d16fe4a446d00c3b38fb9efcb744bd31f4a\n",
            "Successfully built wikipedia\n",
            "Installing collected packages: wikipedia\n",
            "Successfully installed wikipedia-1.4.0\n",
            "Collecting Wikipedia-API\n",
            "  Downloading https://files.pythonhosted.org/packages/ef/3d/289963bbf51f8d00cdf7483cdc2baee25ba877e8b4eb72157c47211e3b57/Wikipedia-API-0.5.4.tar.gz\n",
            "Requirement already satisfied: requests in /usr/local/lib/python3.6/dist-packages (from Wikipedia-API) (2.23.0)\n",
            "Requirement already satisfied: chardet<4,>=3.0.2 in /usr/local/lib/python3.6/dist-packages (from requests->Wikipedia-API) (3.0.4)\n",
            "Requirement already satisfied: idna<3,>=2.5 in /usr/local/lib/python3.6/dist-packages (from requests->Wikipedia-API) (2.9)\n",
            "Requirement already satisfied: certifi>=2017.4.17 in /usr/local/lib/python3.6/dist-packages (from requests->Wikipedia-API) (2020.4.5.1)\n",
            "Requirement already satisfied: urllib3!=1.25.0,!=1.25.1,<1.26,>=1.21.1 in /usr/local/lib/python3.6/dist-packages (from requests->Wikipedia-API) (1.24.3)\n",
            "Building wheels for collected packages: Wikipedia-API\n",
            "  Building wheel for Wikipedia-API (setup.py) ... \u001b[?25l\u001b[?25hdone\n",
            "  Created wheel for Wikipedia-API: filename=Wikipedia_API-0.5.4-cp36-none-any.whl size=13462 sha256=005a05365bfecd1e2cca47010a39e0b62a5b9e3caee3224eaf6b0a2bf0327694\n",
            "  Stored in directory: /root/.cache/pip/wheels/bf/40/42/ba1d497f3712281b659dd65b566fc868035c859239571a725a\n",
            "Successfully built Wikipedia-API\n",
            "Installing collected packages: Wikipedia-API\n",
            "Successfully installed Wikipedia-API-0.5.4\n",
            "Collecting flask-ngrok\n",
            "  Downloading https://files.pythonhosted.org/packages/af/6c/f54cb686ad1129e27d125d182f90f52b32f284e6c8df58c1bae54fa1adbc/flask_ngrok-0.0.25-py3-none-any.whl\n",
            "Requirement already satisfied: requests in /usr/local/lib/python3.6/dist-packages (from flask-ngrok) (2.23.0)\n",
            "Requirement already satisfied: Flask>=0.8 in /usr/local/lib/python3.6/dist-packages (from flask-ngrok) (1.1.2)\n",
            "Requirement already satisfied: chardet<4,>=3.0.2 in /usr/local/lib/python3.6/dist-packages (from requests->flask-ngrok) (3.0.4)\n",
            "Requirement already satisfied: urllib3!=1.25.0,!=1.25.1,<1.26,>=1.21.1 in /usr/local/lib/python3.6/dist-packages (from requests->flask-ngrok) (1.24.3)\n",
            "Requirement already satisfied: certifi>=2017.4.17 in /usr/local/lib/python3.6/dist-packages (from requests->flask-ngrok) (2020.4.5.1)\n",
            "Requirement already satisfied: idna<3,>=2.5 in /usr/local/lib/python3.6/dist-packages (from requests->flask-ngrok) (2.9)\n",
            "Requirement already satisfied: Werkzeug>=0.15 in /usr/local/lib/python3.6/dist-packages (from Flask>=0.8->flask-ngrok) (1.0.1)\n",
            "Requirement already satisfied: Jinja2>=2.10.1 in /usr/local/lib/python3.6/dist-packages (from Flask>=0.8->flask-ngrok) (2.11.2)\n",
            "Requirement already satisfied: click>=5.1 in /usr/local/lib/python3.6/dist-packages (from Flask>=0.8->flask-ngrok) (7.1.2)\n",
            "Requirement already satisfied: itsdangerous>=0.24 in /usr/local/lib/python3.6/dist-packages (from Flask>=0.8->flask-ngrok) (1.1.0)\n",
            "Requirement already satisfied: MarkupSafe>=0.23 in /usr/local/lib/python3.6/dist-packages (from Jinja2>=2.10.1->Flask>=0.8->flask-ngrok) (1.1.1)\n",
            "Installing collected packages: flask-ngrok\n",
            "Successfully installed flask-ngrok-0.0.25\n"
          ],
          "name": "stdout"
        }
      ]
    },
    {
      "cell_type": "code",
      "metadata": {
        "id": "H-C2xi-bYAfd",
        "colab_type": "code",
        "outputId": "b6f91157-c5cc-4523-91c0-5cd242c46ccd",
        "colab": {
          "base_uri": "https://localhost:8080/",
          "height": 134
        }
      },
      "source": [
        "from chatterbot import ChatBot\n",
        "from chatterbot.trainers import ListTrainer\n",
        "from chatterbot.trainers import ChatterBotCorpusTrainer\n",
        "import os\n",
        "import wikipediaapi\n",
        "from flask import Flask, render_template, request\n",
        "# from chatbot import Chat,reflections,multiFunctionCall\n",
        "# import wikipedia\n",
        "import nltk\n",
        "import random\n",
        "import string\n",
        "import re, string, unicodedata\n",
        "from nltk.corpus import wordnet as wn\n",
        "from nltk.stem.wordnet import WordNetLemmatizer\n",
        "import wikipedia as wk\n",
        "from collections import defaultdict\n",
        "import warnings\n",
        "warnings.filterwarnings(\"ignore\")\n",
        "nltk.download('punkt') \n",
        "nltk.download('wordnet')\n",
        "nltk.download('averaged_perceptron_tagger')\n",
        "from sklearn.feature_extraction.text import TfidfVectorizer\n",
        "from sklearn.metrics.pairwise import cosine_similarity, linear_kernel\n",
        "import pandas as pd \n",
        "import numpy as np\n",
        "import matplotlib.pyplot as plt\n",
        "\n",
        "from chatterbot.trainers import ListTrainer"
      ],
      "execution_count": 3,
      "outputs": [
        {
          "output_type": "stream",
          "text": [
            "[nltk_data] Downloading package punkt to /root/nltk_data...\n",
            "[nltk_data]   Unzipping tokenizers/punkt.zip.\n",
            "[nltk_data] Downloading package wordnet to /root/nltk_data...\n",
            "[nltk_data]   Unzipping corpora/wordnet.zip.\n",
            "[nltk_data] Downloading package averaged_perceptron_tagger to\n",
            "[nltk_data]     /root/nltk_data...\n",
            "[nltk_data]   Unzipping taggers/averaged_perceptron_tagger.zip.\n"
          ],
          "name": "stdout"
        }
      ]
    },
    {
      "cell_type": "code",
      "metadata": {
        "id": "oW3ugd73Ynvh",
        "colab_type": "code",
        "outputId": "b7d58fc8-e20e-4443-bee8-282005500b73",
        "colab": {
          "base_uri": "https://localhost:8080/",
          "height": 435
        }
      },
      "source": [
        "bot=ChatBot(\"Anurag\")\n",
        "trainer = ChatterBotCorpusTrainer(bot)\n",
        "# Training \n",
        "trainer.train(\"chatterbot.corpus.english\")"
      ],
      "execution_count": 4,
      "outputs": [
        {
          "output_type": "stream",
          "text": [
            "[nltk_data] Downloading package stopwords to /root/nltk_data...\n",
            "[nltk_data]   Unzipping corpora/stopwords.zip.\n",
            "[nltk_data] Downloading package averaged_perceptron_tagger to\n",
            "[nltk_data]     /root/nltk_data...\n",
            "[nltk_data]   Package averaged_perceptron_tagger is already up-to-\n",
            "[nltk_data]       date!\n",
            "Training ai.yml: [####################] 100%\n",
            "Training botprofile.yml: [####################] 100%\n",
            "Training computers.yml: [####################] 100%\n",
            "Training conversations.yml: [####################] 100%\n",
            "Training emotion.yml: [####################] 100%\n",
            "Training food.yml: [####################] 100%\n",
            "Training gossip.yml: [####################] 100%\n",
            "Training greetings.yml: [####################] 100%\n",
            "Training health.yml: [####################] 100%\n",
            "Training history.yml: [####################] 100%\n",
            "Training humor.yml: [####################] 100%\n",
            "Training literature.yml: [####################] 100%\n",
            "Training money.yml: [####################] 100%\n",
            "Training movies.yml: [####################] 100%\n",
            "Training politics.yml: [####################] 100%\n",
            "Training psychology.yml: [####################] 100%\n",
            "Training science.yml: [####################] 100%\n",
            "Training sports.yml: [####################] 100%\n",
            "Training trivia.yml: [####################] 100%\n"
          ],
          "name": "stdout"
        }
      ]
    },
    {
      "cell_type": "markdown",
      "metadata": {
        "id": "Xy8YL4NaY31b",
        "colab_type": "text"
      },
      "source": [
        "#Disease Prediction using symptoms"
      ]
    },
    {
      "cell_type": "code",
      "metadata": {
        "id": "ITfSU0xDbLCB",
        "colab_type": "code",
        "colab": {}
      },
      "source": [
        "# Reading the symptoms dataset\n",
        "sym_data = pd.read_csv(\"/content/drive/My Drive/gtdt/symptoms_data.csv\")\n",
        "\n",
        "sym_data = pd.concat([sym_data]*2, ignore_index=True)\n",
        "cols = sym_data.columns\n",
        "cols = cols[1:]\n",
        "\n",
        "x = sym_data[cols]\n",
        "y = sym_data['Disease']\n",
        "\n",
        "\n",
        "#Split data into train test\n",
        "from sklearn.model_selection import train_test_split\n",
        "x_train, x_test, y_train, y_test = train_test_split(x, y, test_size=0.33, random_state=42)"
      ],
      "execution_count": 0,
      "outputs": []
    },
    {
      "cell_type": "markdown",
      "metadata": {
        "id": "RCXvqdcnbSh5",
        "colab_type": "text"
      },
      "source": [
        "Training the Multinomial Naive Bayes classifier model. "
      ]
    },
    {
      "cell_type": "code",
      "metadata": {
        "id": "oWgi8XBvbUDh",
        "colab_type": "code",
        "outputId": "64c05174-6d8b-4fc6-9c4a-ddfaab309035",
        "colab": {
          "base_uri": "https://localhost:8080/",
          "height": 33
        }
      },
      "source": [
        "from sklearn.naive_bayes import MultinomialNB\n",
        "mnb = MultinomialNB()\n",
        "clf_mnb=mnb.fit(x_train,y_train)\n",
        "print (\"Acurracy: \", clf_mnb.score(x_test,y_test))"
      ],
      "execution_count": 6,
      "outputs": [
        {
          "output_type": "stream",
          "text": [
            "Acurracy:  0.8820707070707071\n"
          ],
          "name": "stdout"
        }
      ]
    },
    {
      "cell_type": "markdown",
      "metadata": {
        "id": "6K7mcVNQbaVO",
        "colab_type": "text"
      },
      "source": [
        "Taking symptom from user input for disease prediction"
      ]
    },
    {
      "cell_type": "code",
      "metadata": {
        "id": "PYrtvS-VbXAw",
        "colab_type": "code",
        "outputId": "493dbffa-fe51-4f5c-9b74-75f1b1263fca",
        "colab": {
          "base_uri": "https://localhost:8080/",
          "height": 33
        }
      },
      "source": [
        "features = cols\n",
        "feature_dict = {}\n",
        "for i,f in enumerate(features):\n",
        "    feature_dict[f] = i\n",
        "\n",
        "input_features = [feature_dict['decreased body weight'], feature_dict['cough'], feature_dict['dyspnea']]\n",
        "input_features"
      ],
      "execution_count": 7,
      "outputs": [
        {
          "output_type": "execute_result",
          "data": {
            "text/plain": [
              "[78, 71, 97]"
            ]
          },
          "metadata": {
            "tags": []
          },
          "execution_count": 7
        }
      ]
    },
    {
      "cell_type": "code",
      "metadata": {
        "id": "MlPn3CQabdDb",
        "colab_type": "code",
        "colab": {}
      },
      "source": [
        "arr =[]\n",
        "for i in range(len(features)):\n",
        "  if i == input_features[0]:\n",
        "    i = int(i/input_features[0])\n",
        "  elif i == input_features[1]:\n",
        "    i = int(i/input_features[1])\n",
        "  elif i == input_features[2]:\n",
        "    i = int(i/input_features[2])\n",
        "  else:\n",
        "    i = 0\n",
        "  arr.append(i)\n",
        "\n",
        "arr = np.array(arr).reshape(-1,len(arr))"
      ],
      "execution_count": 0,
      "outputs": []
    },
    {
      "cell_type": "code",
      "metadata": {
        "id": "6yJzflygbhWi",
        "colab_type": "code",
        "outputId": "f47f7678-89a2-4823-abdb-f2cce9d0e40d",
        "colab": {
          "base_uri": "https://localhost:8080/",
          "height": 33
        }
      },
      "source": [
        "predicted_disease = (mnb.predict(arr))\n",
        "print(\"The disease predicted based on given symptoms is : \" + predicted_disease[0])"
      ],
      "execution_count": 9,
      "outputs": [
        {
          "output_type": "stream",
          "text": [
            "The disease predicted based on given symptoms is : bronchitis\n"
          ],
          "name": "stdout"
        }
      ]
    },
    {
      "cell_type": "markdown",
      "metadata": {
        "id": "qW400IeDZCfn",
        "colab_type": "text"
      },
      "source": [
        "#Recommending drug based on predicted disease"
      ]
    },
    {
      "cell_type": "code",
      "metadata": {
        "id": "rlgaQ5Zgbkh-",
        "colab_type": "code",
        "colab": {}
      },
      "source": [
        "def drug_recommender_system(disease_predicted):\n",
        "  #Reading the dataset with sentiment analysis of reviews\n",
        "  merged_wavg = pd.read_csv('drive/My Drive/gtdt/Drug_Recommender.csv')\n",
        "  merged_wavg.head()\n",
        "  merged_wavg = merged_wavg.sort_values(['Disease','Rating_Wavg'],ascending=False, ignore_index=True).groupby('Disease').head(10060)\n",
        "  merged_wavg[\"Review_Sentiment\"].unique()\n",
        "\n",
        "  # Taking drugs only with positive reviews for recommendation\n",
        "  merged_wavg = merged_wavg.drop( merged_wavg[merged_wavg['Review_Sentiment'] == \"Negative\"].index)\n",
        "  merged_wavg = merged_wavg.drop( merged_wavg[merged_wavg['Review_Sentiment'] == \"Neutral\"].index)\n",
        "\n",
        "  # Taking predicted disease as input and recommending drug based on highest weighted average of ratings\n",
        "  grouped = merged_wavg.groupby('Disease')\n",
        "  disease_predicted = disease_predicted.lower()\n",
        "  recommended_drug = pd.DataFrame(grouped.get_group(disease_predicted).nlargest(1,['Rating_Wavg']))\n",
        "  recommended_drug.Drug = recommended_drug.Drug.str.upper()\n",
        "  recommended_drug = recommended_drug.drop(columns= ['Review', 'Review_Sentiment','Rating_Wavg'])\n",
        "\n",
        "  recDrug = list(recommended_drug[\"Drug\"])\n",
        "  print(recDrug[0])\n",
        "  return recDrug[0]"
      ],
      "execution_count": 0,
      "outputs": []
    },
    {
      "cell_type": "code",
      "metadata": {
        "id": "a_mDbNp4bo_c",
        "colab_type": "code",
        "colab": {
          "base_uri": "https://localhost:8080/",
          "height": 196
        },
        "outputId": "48d56d9b-2c7d-4c5b-8f13-2e814ca13fff"
      },
      "source": [
        "#Reading the dataset with sentiment analysis of reviews\n",
        "merged_wavg = pd.read_csv('drive/My Drive/gtdt/Drug_Recommender.csv')\n",
        "merged_wavg.head()"
      ],
      "execution_count": 11,
      "outputs": [
        {
          "output_type": "execute_result",
          "data": {
            "text/html": [
              "<div>\n",
              "<style scoped>\n",
              "    .dataframe tbody tr th:only-of-type {\n",
              "        vertical-align: middle;\n",
              "    }\n",
              "\n",
              "    .dataframe tbody tr th {\n",
              "        vertical-align: top;\n",
              "    }\n",
              "\n",
              "    .dataframe thead th {\n",
              "        text-align: right;\n",
              "    }\n",
              "</style>\n",
              "<table border=\"1\" class=\"dataframe\">\n",
              "  <thead>\n",
              "    <tr style=\"text-align: right;\">\n",
              "      <th></th>\n",
              "      <th>Disease</th>\n",
              "      <th>Drug</th>\n",
              "      <th>Review</th>\n",
              "      <th>Review_Sentiment</th>\n",
              "      <th>Rating_Wavg</th>\n",
              "      <th>UsefulCount</th>\n",
              "    </tr>\n",
              "  </thead>\n",
              "  <tbody>\n",
              "    <tr>\n",
              "      <th>0</th>\n",
              "      <td>transient ischemic attack</td>\n",
              "      <td>Aspirin</td>\n",
              "      <td>\"No side effects,  easy to take, no more sympt...</td>\n",
              "      <td>Positive</td>\n",
              "      <td>10.000000</td>\n",
              "      <td>10</td>\n",
              "    </tr>\n",
              "    <tr>\n",
              "      <th>1</th>\n",
              "      <td>transient ischemic attack</td>\n",
              "      <td>Bayer Children's Aspirin</td>\n",
              "      <td>\"No side effects,  easy to take, no more sympt...</td>\n",
              "      <td>Positive</td>\n",
              "      <td>10.000000</td>\n",
              "      <td>10</td>\n",
              "    </tr>\n",
              "    <tr>\n",
              "      <th>2</th>\n",
              "      <td>transient ischemic attack</td>\n",
              "      <td>Clopidogrel</td>\n",
              "      <td>\"I&amp;#039;ve been taking this medicine for a lit...</td>\n",
              "      <td>Negative</td>\n",
              "      <td>6.766667</td>\n",
              "      <td>8</td>\n",
              "    </tr>\n",
              "    <tr>\n",
              "      <th>3</th>\n",
              "      <td>transient ischemic attack</td>\n",
              "      <td>Clopidogrel</td>\n",
              "      <td>\"I took ibuprofen (2 caps at night for severe ...</td>\n",
              "      <td>Negative</td>\n",
              "      <td>6.766667</td>\n",
              "      <td>13</td>\n",
              "    </tr>\n",
              "    <tr>\n",
              "      <th>4</th>\n",
              "      <td>transient ischemic attack</td>\n",
              "      <td>Clopidogrel</td>\n",
              "      <td>\"After my VAD Stroke I am on plavix.  I have a...</td>\n",
              "      <td>Positive</td>\n",
              "      <td>6.766667</td>\n",
              "      <td>9</td>\n",
              "    </tr>\n",
              "  </tbody>\n",
              "</table>\n",
              "</div>"
            ],
            "text/plain": [
              "                     Disease  ... UsefulCount\n",
              "0  transient ischemic attack  ...          10\n",
              "1  transient ischemic attack  ...          10\n",
              "2  transient ischemic attack  ...           8\n",
              "3  transient ischemic attack  ...          13\n",
              "4  transient ischemic attack  ...           9\n",
              "\n",
              "[5 rows x 6 columns]"
            ]
          },
          "metadata": {
            "tags": []
          },
          "execution_count": 11
        }
      ]
    },
    {
      "cell_type": "code",
      "metadata": {
        "id": "F3mRH2Yub3pb",
        "colab_type": "code",
        "colab": {}
      },
      "source": [
        "merged_wavg = merged_wavg.sort_values(['Disease','Rating_Wavg'],ascending=False, ignore_index=True).groupby('Disease').head(10060)\n",
        "merged_wavg[\"Review_Sentiment\"].unique()\n",
        "\n",
        "# Taking drugs only with positive reviews for recommendation\n",
        "merged_wavg = merged_wavg.drop( merged_wavg[merged_wavg['Review_Sentiment'] == \"Negative\"].index)\n",
        "merged_wavg = merged_wavg.drop( merged_wavg[merged_wavg['Review_Sentiment'] == \"Neutral\"].index)"
      ],
      "execution_count": 0,
      "outputs": []
    },
    {
      "cell_type": "code",
      "metadata": {
        "id": "PURq-uirb7Ne",
        "colab_type": "code",
        "colab": {}
      },
      "source": [
        "# Taking predicted disease as input and recommending drug based on highest weighted average of ratings\n",
        "grouped = merged_wavg.groupby('Disease')\n",
        "recommended_drug = pd.DataFrame(grouped.get_group((predicted_disease[0]).lower()).nlargest(1,['Rating_Wavg']))\n",
        "recommended_drug.Drug = recommended_drug.Drug.str.upper()\n",
        "recommended_drug = recommended_drug.drop(columns= ['Review', 'Review_Sentiment','Rating_Wavg'])"
      ],
      "execution_count": 0,
      "outputs": []
    },
    {
      "cell_type": "markdown",
      "metadata": {
        "id": "m9sVdkpEZFMR",
        "colab_type": "text"
      },
      "source": [
        "#Extracting side effects for recommended drug"
      ]
    },
    {
      "cell_type": "code",
      "metadata": {
        "id": "mQPZW50eboM8",
        "colab_type": "code",
        "colab": {}
      },
      "source": [
        "sd = pd.read_csv('/content/drive/My Drive/gtdt/SideEffects_preprocessed.csv')\n",
        "\n",
        "def _weights(df, w1, w2, w3):\n",
        "    return((df[w1] * df[w2] * df[w3]).sum()/df[w1].sum())\n",
        "\n",
        "def _getSideEffects(df, sedf):\n",
        "    l = list(df.Drug)\n",
        "    for i in range(0, len(l)):\n",
        "        sdf = sedf\n",
        "        sdf = sdf.loc[sdf['Drug'] == l[i]]\n",
        "        #print(sdf)\n",
        "        #print(sdf[:1]['Side Effects'])\n",
        "        w = sdf.groupby([\"Drug\"]).apply(_weights, \"Rating\", \"Effectivness Rating\", \"Side Effect Rating\")\n",
        "        sdf1 = sdf.loc[sdf['Effectivness Rating'] == 0]\n",
        "        sdf1 = sdf1.loc[sdf['Side Effect Rating'] == 0]\n",
        "        sdf1 = sdf1.loc[sdf['Rating'] <= 1 ]\n",
        "        sdf1 = sdf1.reset_index()\n",
        "        sdf1 = pd.DataFrame(sdf['Side Effects'])\n",
        "        df1 = pd.DataFrame(w, columns=['Side Effect Weight'])\n",
        "        df1 = df1.reset_index()\n",
        "        #print(sdf[:1]['Side Effects'])\n",
        "        df2 = pd.DataFrame(sdf['Side Effects'])\n",
        "        df2 = df2.reset_index()\n",
        "        df2 = df2.drop(['index'], axis=1)\n",
        "        dd = pd.concat([df1, df2], axis=1)\n",
        "\n",
        "        sf = list(dd[\"Side Effects\"])\n",
        "        seffects = convertListToString(sf)\n",
        "    return seffects\n",
        "\n",
        "def convertListToString(s):  \n",
        "    str1 = \"\"    \n",
        "    for ele in s:  \n",
        "        str1 += ele   \n",
        "\n",
        "    return str1\n",
        "\n",
        "se = _getSideEffects(recommended_drug, sd)"
      ],
      "execution_count": 0,
      "outputs": []
    },
    {
      "cell_type": "markdown",
      "metadata": {
        "id": "8S99QaslZLqS",
        "colab_type": "text"
      },
      "source": [
        "#UI Functions"
      ]
    },
    {
      "cell_type": "code",
      "metadata": {
        "id": "Lup_Gz45dd1I",
        "colab_type": "code",
        "colab": {}
      },
      "source": [
        "sent_tokens=[]\n",
        "\n",
        "def Normalize(text):\n",
        "    remove_punct_dict = dict((ord(punct), None) for punct in string.punctuation)\n",
        "    #word tokenization\n",
        "    word_token = nltk.word_tokenize(text.lower().translate(remove_punct_dict))\n",
        "    \n",
        "    #remove ascii\n",
        "    new_words = []\n",
        "    for word in word_token:\n",
        "        new_word = unicodedata.normalize('NFKD', word).encode('ascii', 'ignore').decode('utf-8', 'ignore')\n",
        "        new_words.append(new_word)\n",
        "    \n",
        "    #Remove tags\n",
        "    rmv = []\n",
        "    for w in new_words:\n",
        "        text=re.sub(\"&lt;/?.*?&gt;\",\"&lt;&gt;\",w)\n",
        "        rmv.append(text)\n",
        "        \n",
        "    #pos tagging and lemmatization\n",
        "    tag_map = defaultdict(lambda : wn.NOUN)\n",
        "    tag_map['J'] = wn.ADJ\n",
        "    tag_map['V'] = wn.VERB\n",
        "    tag_map['R'] = wn.ADV\n",
        "    lmtzr = WordNetLemmatizer()\n",
        "    lemma_list = []\n",
        "    rmv = [i for i in rmv if i]\n",
        "    for token, tag in nltk.pos_tag(rmv):\n",
        "        lemma = lmtzr.lemmatize(token, tag_map[tag[0]])\n",
        "        lemma_list.append(lemma)\n",
        "    return lemma_list\n",
        "\n",
        "\n",
        "welcome_input = (\"greetings\", \"sup\", \"what's up\",\"hey\",\"how re you\")\n",
        "welcome_response = [\"*nods*\", \"hello\", \"I am glad! You are talking to me\"]\n",
        "def welcome(user_response):\n",
        "    for word in user_response.split():\n",
        "        if word.lower() in welcome_input:\n",
        "            return random.choice(welcome_response)\n",
        "\n",
        "\n",
        "\n",
        "\n",
        "def generateResponse(user_response):\n",
        "  try:\n",
        "    robo_response=''\n",
        "    sent_tokens.append(user_response)\n",
        "    TfidfVec = TfidfVectorizer(tokenizer=Normalize, stop_words='english')\n",
        "    tfidf = TfidfVec.fit_transform(sent_tokens)\n",
        "    #vals = cosine_similarity(tfidf[-1], tfidf)\n",
        "    vals = linear_kernel(tfidf[-1], tfidf)\n",
        "    idx=vals.argsort()[0]\n",
        "    flat = vals.flatten()\n",
        "    flat.sort()\n",
        "    req_tfidf = flat[0]\n",
        "    #print(\"asdfdsf:\",user_response)\n",
        "    #welcome(user_response)\n",
        "      \n",
        "    if(req_tfidf==0) or \"I am suffering from\" in user_response:\n",
        "        if user_response:\n",
        "            predictedDisease = get_disease(user_response)\n",
        "            return \"The disease predicted based on given symptoms is \" +  predictedDisease\n",
        "                        \n",
        "    elif(req_tfidf==0) or \"What medicines should i take for \" in user_response:\n",
        "        if user_response:\n",
        "            predictedDrug = get_drug(user_response)\n",
        "            return predictedDrug \n",
        "        \n",
        "    elif(req_tfidf==0) or \"Are there any side effects for it ?\" in user_response:\n",
        "        if user_response:\n",
        "            robo_response = get_drug_sideeffect()\n",
        "            return robo_response\n",
        "\n",
        "    else:\n",
        "        #robo_response = robo_response+sent_tokens[idx]\n",
        "        #return robo_response\n",
        "        try:\n",
        "          robo_response=bot.get_response(user_response)\n",
        "          print(robo_response)\n",
        "          return robo_response\n",
        "        except Exception as e:\n",
        "          print(\"Sorry, I do not know the response\")\n",
        "  except:\n",
        "    return \"Sorry, but idk\"\n",
        "\n",
        "# taking symptoms as input and predicting the disease\n",
        "def get_disease(symptom_name):\n",
        "  symptom_name = symptom_name.replace(\"I am suffering from \", \"\")\n",
        "  symptom_name = symptom_name.split(',')\n",
        "  input_features = [feature_dict[symptom_name[0]], feature_dict[symptom_name[1]], feature_dict[symptom_name[2]]]\n",
        "  print(input_features)\n",
        "  arr =[]\n",
        "  for i in range(len(features)):\n",
        "    if i == input_features[0]:\n",
        "      i = int(i/input_features[0])\n",
        "    elif i == input_features[1]:\n",
        "      i = int(i/input_features[1])\n",
        "    elif i == input_features[2]:\n",
        "      i = int(i/input_features[2])\n",
        "    else:\n",
        "      i = 0\n",
        "    arr.append(i)\n",
        "\n",
        "  arr = np.array(arr).reshape(-1,len(arr))\n",
        "  predictedDisease = (mnb.predict(arr))\n",
        "  CB_response = predictedDisease[0]\n",
        "  return CB_response\n",
        "\n",
        "\n",
        "# taking predicted disease as input and recommending drug based on highest weighted average of ratings\n",
        "def get_drug(user_disease):\n",
        "  print(user_disease)\n",
        "  user_disease = user_disease.replace(\"What medicines should i take for \", \"\")\n",
        "  drugName = drug_recommender_system(user_disease)\n",
        "  print(drugName)\n",
        "  return \"Please take this medicine: \" + drugName\n",
        "\n",
        "def get_drug_sideeffect():\n",
        "  sideEffects = _getSideEffects(recommended_drug, sd)\n",
        "  return \"The side effects may include \" + sideEffects"
      ],
      "execution_count": 0,
      "outputs": []
    },
    {
      "cell_type": "markdown",
      "metadata": {
        "id": "E59lirx7ZTrn",
        "colab_type": "text"
      },
      "source": [
        "#HTML code for UI"
      ]
    },
    {
      "cell_type": "code",
      "metadata": {
        "id": "nV9CHWAcZayD",
        "colab_type": "code",
        "colab": {}
      },
      "source": [
        "%mkdir templates -p"
      ],
      "execution_count": 0,
      "outputs": []
    },
    {
      "cell_type": "code",
      "metadata": {
        "id": "pc18pCx0ZdiO",
        "colab_type": "code",
        "outputId": "6c71c810-f0c4-44cc-9d32-d2a9ca295631",
        "colab": {
          "base_uri": "https://localhost:8080/",
          "height": 33
        }
      },
      "source": [
        "%%writefile templates/home.html\n",
        "<!doctype html>\n",
        "<html lang=\"en\">\n",
        "\n",
        "<head>\n",
        "    <link\n",
        "      rel=\"shortcut icon\"\n",
        "      type=\"image/x-icon\"\n",
        "      href=\"/content/drive/My Drive/gtdt/Notebooks/UI_Files/Doctor_Icon.jpg\"\n",
        "    />\n",
        "    <script src=\"https://ajax.googleapis.com/ajax/libs/jquery/3.2.1/jquery.min.js\"></script>\n",
        "    <style>\n",
        "      body {\n",
        "        font-family: monospace;\n",
        "      }\n",
        "      h1 {\n",
        "        background-color: yellow;\n",
        "        display: inline-block;\n",
        "        font-size: 3em;\n",
        "        margin: 0;\n",
        "        padding: 14px;\n",
        "      }\n",
        "      h3 {\n",
        "        color: black;\n",
        "        font-size: 20px;\n",
        "        margin-top: 3px;\n",
        "        text-align: center;\n",
        "      }\n",
        "      #chatbox {\n",
        "        margin-left: auto;\n",
        "        margin-right: auto;\n",
        "        width: 40%;\n",
        "        margin-top: 60px;\n",
        "      }\n",
        "      #userInput {\n",
        "        margin-left: auto;\n",
        "        margin-right: auto;\n",
        "        width: 40%;\n",
        "        margin-top: 60px;\n",
        "      }\n",
        "      #textInput {\n",
        "        width: 90%;\n",
        "        border: none;\n",
        "        border-bottom: 3px solid black;\n",
        "        font-family: monospace;\n",
        "        font-size: 17px;\n",
        "      }\n",
        "      .userText {\n",
        "        color: white;\n",
        "        font-family: monospace;\n",
        "        font-size: 17px;\n",
        "        text-align: right;\n",
        "        line-height: 30px;\n",
        "      }\n",
        "      .userText span {\n",
        "        background-color: #808080;\n",
        "        padding: 10px;\n",
        "        border-radius: 2px;\n",
        "      }\n",
        "      .botText {\n",
        "        color: white;\n",
        "        font-family: monospace;\n",
        "        font-size: 17px;\n",
        "        text-align: left;\n",
        "        line-height: 30px;\n",
        "      }\n",
        "      .botText span {\n",
        "        background-color: #4169e1;\n",
        "        padding: 10px;\n",
        "        border-radius: 2px;\n",
        "      }\n",
        "      #tidbit {\n",
        "        position: absolute;\n",
        "        bottom: 0;\n",
        "        right: 0;\n",
        "        width: 300px;\n",
        "      }\n",
        "      .boxed {\n",
        "        margin-left: auto;\n",
        "        margin-right: auto;\n",
        "        width: 78%;\n",
        "        margin-top: 60px;\n",
        "        border: 1px solid green;\n",
        "      }\n",
        "      .box {\n",
        "        border: 2px solid black;\n",
        "      }\n",
        "    </style>\n",
        "</head>\n",
        "\n",
        "<body>\n",
        "  <body>\n",
        "    <center>\n",
        "      <h1>\n",
        "      Drug Recommender System\n",
        "      </h1>\n",
        "    </center>\n",
        "<div class=\"box\"></div>\n",
        "    <div class=\"boxed\">\n",
        "      <div>\n",
        "        <div id=\"chatbox\">\n",
        "          <img\n",
        "            src=\"https://image.freepik.com/free-vector/doctor-icon-avatar-white_136162-58.jpg\"\n",
        "            alt=\"Jarvis\"\n",
        "            style=\"width:40px;height:40px;\"\n",
        "          />\n",
        "          <p class=\"botText\">\n",
        "            <span>Hi! I am Jarvis. I shall be your personal doctor.</span>\n",
        "          </p>\n",
        "        </div>\n",
        "        <div id=\"userInput\">\n",
        "          <input id=\"textInput\" type=\"text\" name=\"msg\" placeholder=\"Message\" />\n",
        "        </div>\n",
        "      </div>\n",
        "    </div>\n",
        "\n",
        "    <script>\n",
        "        function getBotResponse() {\n",
        "          var rawText = $(\"#textInput\").val();\n",
        "          var userHtml = '<p class=\"userText\"><span>' + rawText + \"</span></p>\";\n",
        "          $(\"#textInput\").val(\"\");\n",
        "          $(\"#chatbox\").append(userHtml);\n",
        "          document\n",
        "            .getElementById(\"userInput\")\n",
        "            .scrollIntoView({ block: \"start\", behavior: \"smooth\" });\n",
        "          $.get(\"/get\", { msg: rawText }).done(function(data) {\n",
        "            var botHtml = '<p class=\"botText\"><span>' + data + \"</span></p>\";\n",
        "            $(\"#chatbox\").append(botHtml);\n",
        "            document\n",
        "              .getElementById(\"userInput\")\n",
        "              .scrollIntoView({ block: \"start\", behavior: \"smooth\" });\n",
        "          });\n",
        "        }\n",
        "        $(\"#textInput\").keypress(function(e) {\n",
        "          if (e.which == 13) {\n",
        "            getBotResponse();\n",
        "          }\n",
        "        });\n",
        "</script>\n",
        "  </body>\n",
        "</body>\n",
        "\n",
        "</html>"
      ],
      "execution_count": 17,
      "outputs": [
        {
          "output_type": "stream",
          "text": [
            "Writing templates/home.html\n"
          ],
          "name": "stdout"
        }
      ]
    },
    {
      "cell_type": "markdown",
      "metadata": {
        "id": "Vb_v8Uj7ZZL7",
        "colab_type": "text"
      },
      "source": [
        "#Hosting the chatbot"
      ]
    },
    {
      "cell_type": "code",
      "metadata": {
        "id": "p_QPt2NFZhnw",
        "colab_type": "code",
        "outputId": "f126e25d-88bf-409c-c064-37633a04a7da",
        "colab": {
          "base_uri": "https://localhost:8080/",
          "height": 318
        }
      },
      "source": [
        "from flask_ngrok import run_with_ngrok\n",
        "from flask import Flask\n",
        "app = Flask(__name__)\n",
        "run_with_ngrok(app)   #starts ngrok when the app is run\n",
        "@app.route(\"/\")\n",
        "def home():\n",
        "    return render_template('home.html')\n",
        "@app.route(\"/get\")\n",
        "def get_bot_response():\n",
        "    userText = request.args.get('msg')\n",
        "    a=str(generateResponse(userText))\n",
        "    sent_tokens.remove(userText)\n",
        "    return a\n",
        "app.run()"
      ],
      "execution_count": 20,
      "outputs": [
        {
          "output_type": "stream",
          "text": [
            " * Serving Flask app \"__main__\" (lazy loading)\n",
            " * Environment: production\n",
            "\u001b[31m   WARNING: This is a development server. Do not use it in a production deployment.\u001b[0m\n",
            "\u001b[2m   Use a production WSGI server instead.\u001b[0m\n",
            " * Debug mode: off\n"
          ],
          "name": "stdout"
        },
        {
          "output_type": "stream",
          "text": [
            " * Running on http://127.0.0.1:5000/ (Press CTRL+C to quit)\n"
          ],
          "name": "stderr"
        },
        {
          "output_type": "stream",
          "text": [
            " * Running on http://de92b390.ngrok.io\n",
            " * Traffic stats available on http://127.0.0.1:4040\n"
          ],
          "name": "stdout"
        },
        {
          "output_type": "stream",
          "text": [
            "127.0.0.1 - - [12/May/2020 06:04:19] \"\u001b[37mGET / HTTP/1.1\u001b[0m\" 200 -\n",
            "127.0.0.1 - - [12/May/2020 06:04:20] \"\u001b[33mGET /content/drive/My%20Drive/gtdt/Notebooks/UI_Files/Doctor_Icon.jpg HTTP/1.1\u001b[0m\" 404 -\n",
            "127.0.0.1 - - [12/May/2020 06:04:21] \"\u001b[37mGET / HTTP/1.1\u001b[0m\" 200 -\n",
            "127.0.0.1 - - [12/May/2020 06:04:28] \"\u001b[37mGET /get?msg=I%20am%20suffering%20from%20cough%2Cdecreased%20body%20weight%2Cdyspnea HTTP/1.1\u001b[0m\" 200 -\n"
          ],
          "name": "stderr"
        },
        {
          "output_type": "stream",
          "text": [
            "[71, 78, 97]\n"
          ],
          "name": "stdout"
        },
        {
          "output_type": "stream",
          "text": [
            "127.0.0.1 - - [12/May/2020 06:04:36] \"\u001b[37mGET /get?msg=What%20medicines%20should%20i%20take%20for%20bronchitis HTTP/1.1\u001b[0m\" 200 -\n"
          ],
          "name": "stderr"
        },
        {
          "output_type": "stream",
          "text": [
            "What medicines should i take for bronchitis\n",
            "CEDAX\n",
            "CEDAX\n"
          ],
          "name": "stdout"
        },
        {
          "output_type": "stream",
          "text": [
            "127.0.0.1 - - [12/May/2020 06:04:43] \"\u001b[37mGET /get?msg=Are%20there%20any%20side%20effects%20for%20it%20%3F HTTP/1.1\u001b[0m\" 200 -\n"
          ],
          "name": "stderr"
        }
      ]
    }
  ]
}