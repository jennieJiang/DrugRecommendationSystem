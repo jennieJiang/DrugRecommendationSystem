{
  "nbformat": 4,
  "nbformat_minor": 0,
  "metadata": {
    "colab": {
      "name": "ChatBot_For_Demonstration.ipynb",
      "provenance": [],
      "include_colab_link": true
    },
    "kernelspec": {
      "name": "python3",
      "display_name": "Python 3"
    }
  },
  "cells": [
    {
      "cell_type": "markdown",
      "metadata": {
        "id": "view-in-github",
        "colab_type": "text"
      },
      "source": [
        "<a href=\"https://colab.research.google.com/github/khushbooekhande/DrugRecommendationSystem/blob/master/Final_package/ChatBot_For_Demonstration.ipynb\" target=\"_parent\"><img src=\"https://colab.research.google.com/assets/colab-badge.svg\" alt=\"Open In Colab\"/></a>"
      ]
    },
    {
      "cell_type": "markdown",
      "metadata": {
        "id": "34p_sbLNXwY1",
        "colab_type": "text"
      },
      "source": [
        "#Import statements"
      ]
    },
    {
      "cell_type": "code",
      "metadata": {
        "id": "035oDtvoX3Z-",
        "colab_type": "code",
        "outputId": "7c15f1a3-ed1b-46a3-a4c0-91e2f17cb379",
        "colab": {
          "base_uri": "https://localhost:8080/",
          "height": 121
        }
      },
      "source": [
        "from google.colab import drive\n",
        "drive.mount(\"/content/drive\")"
      ],
      "execution_count": 1,
      "outputs": [
        {
          "output_type": "stream",
          "text": [
            "Go to this URL in a browser: https://accounts.google.com/o/oauth2/auth?client_id=947318989803-6bn6qk8qdgf4n4g3pfee6491hc0brc4i.apps.googleusercontent.com&redirect_uri=urn%3aietf%3awg%3aoauth%3a2.0%3aoob&response_type=code&scope=email%20https%3a%2f%2fwww.googleapis.com%2fauth%2fdocs.test%20https%3a%2f%2fwww.googleapis.com%2fauth%2fdrive%20https%3a%2f%2fwww.googleapis.com%2fauth%2fdrive.photos.readonly%20https%3a%2f%2fwww.googleapis.com%2fauth%2fpeopleapi.readonly\n",
            "\n",
            "Enter your authorization code:\n",
            "··········\n",
            "Mounted at /content/drive\n"
          ],
          "name": "stdout"
        }
      ]
    },
    {
      "cell_type": "code",
      "metadata": {
        "id": "jHsCJ_cqX5yi",
        "colab_type": "code",
        "outputId": "052abbab-fdad-4ad4-ccd4-f8f8cd23e917",
        "colab": {
          "base_uri": "https://localhost:8080/",
          "height": 1000
        }
      },
      "source": [
        "!pip install chatterBot\n",
        "!pip install chatbotAI\n",
        "!pip install chatterbot-corpus\n",
        "!pip install wikipedia\n",
        "!pip install Wikipedia-API\n",
        "!pip install flask-ngrok"
      ],
      "execution_count": 2,
      "outputs": [
        {
          "output_type": "stream",
          "text": [
            "Collecting chatterBot\n",
            "\u001b[?25l  Downloading https://files.pythonhosted.org/packages/6c/0e/dac0d82f34f86bf509cf5ef3e2dfc5aa7d444bd843a2330ceb7d854f84f2/ChatterBot-1.0.5-py2.py3-none-any.whl (67kB)\n",
            "\r\u001b[K     |████▉                           | 10kB 24.9MB/s eta 0:00:01\r\u001b[K     |█████████▋                      | 20kB 6.0MB/s eta 0:00:01\r\u001b[K     |██████████████▌                 | 30kB 8.4MB/s eta 0:00:01\r\u001b[K     |███████████████████▎            | 40kB 10.5MB/s eta 0:00:01\r\u001b[K     |████████████████████████▏       | 51kB 6.2MB/s eta 0:00:01\r\u001b[K     |█████████████████████████████   | 61kB 7.0MB/s eta 0:00:01\r\u001b[K     |████████████████████████████████| 71kB 4.8MB/s \n",
            "\u001b[?25hCollecting pyyaml<5.2,>=5.1\n",
            "\u001b[?25l  Downloading https://files.pythonhosted.org/packages/e3/e8/b3212641ee2718d556df0f23f78de8303f068fe29cdaa7a91018849582fe/PyYAML-5.1.2.tar.gz (265kB)\n",
            "\u001b[K     |████████████████████████████████| 266kB 26.3MB/s \n",
            "\u001b[?25hRequirement already satisfied: nltk<4.0,>=3.2 in /usr/local/lib/python3.6/dist-packages (from chatterBot) (3.2.5)\n",
            "Collecting mathparse<0.2,>=0.1\n",
            "  Downloading https://files.pythonhosted.org/packages/c3/e5/4910fb85950cb960fcf3f5aabe1c8e55f5c9201788a1c1302b570a7e1f84/mathparse-0.1.2-py3-none-any.whl\n",
            "Requirement already satisfied: pymongo<4.0,>=3.3 in /usr/local/lib/python3.6/dist-packages (from chatterBot) (3.10.1)\n",
            "Collecting sqlalchemy<1.3,>=1.2\n",
            "\u001b[?25l  Downloading https://files.pythonhosted.org/packages/f9/67/d07cf7ac7e6dd0bc55ba62816753f86d7c558107104ca915e730c9ec2512/SQLAlchemy-1.2.19.tar.gz (5.7MB)\n",
            "\u001b[K     |████████████████████████████████| 5.7MB 9.9MB/s \n",
            "\u001b[?25hCollecting python-dateutil<2.8,>=2.7\n",
            "\u001b[?25l  Downloading https://files.pythonhosted.org/packages/74/68/d87d9b36af36f44254a8d512cbfc48369103a3b9e474be9bdfe536abfc45/python_dateutil-2.7.5-py2.py3-none-any.whl (225kB)\n",
            "\u001b[K     |████████████████████████████████| 235kB 41.9MB/s \n",
            "\u001b[?25hCollecting pint>=0.8.1\n",
            "\u001b[?25l  Downloading https://files.pythonhosted.org/packages/9d/db/7a2204b03c22069839958df5723eb2718d50c33052e0da84c9a83de14ea4/Pint-0.11-py2.py3-none-any.whl (186kB)\n",
            "\u001b[K     |████████████████████████████████| 194kB 41.9MB/s \n",
            "\u001b[?25hRequirement already satisfied: pytz in /usr/local/lib/python3.6/dist-packages (from chatterBot) (2018.9)\n",
            "Collecting spacy<2.2,>=2.1\n",
            "\u001b[?25l  Downloading https://files.pythonhosted.org/packages/41/5b/e07dd3bf104237bce4b398558b104c8e500333d6f30eabe3fa9685356b7d/spacy-2.1.9-cp36-cp36m-manylinux1_x86_64.whl (30.8MB)\n",
            "\u001b[K     |████████████████████████████████| 30.9MB 110kB/s \n",
            "\u001b[?25hRequirement already satisfied: six in /usr/local/lib/python3.6/dist-packages (from nltk<4.0,>=3.2->chatterBot) (1.12.0)\n",
            "Requirement already satisfied: setuptools in /usr/local/lib/python3.6/dist-packages (from pint>=0.8.1->chatterBot) (46.1.3)\n",
            "Collecting plac<1.0.0,>=0.9.6\n",
            "  Downloading https://files.pythonhosted.org/packages/9e/9b/62c60d2f5bc135d2aa1d8c8a86aaf84edb719a59c7f11a4316259e61a298/plac-0.9.6-py2.py3-none-any.whl\n",
            "Requirement already satisfied: wasabi<1.1.0,>=0.2.0 in /usr/local/lib/python3.6/dist-packages (from spacy<2.2,>=2.1->chatterBot) (0.6.0)\n",
            "Requirement already satisfied: cymem<2.1.0,>=2.0.2 in /usr/local/lib/python3.6/dist-packages (from spacy<2.2,>=2.1->chatterBot) (2.0.3)\n",
            "Requirement already satisfied: requests<3.0.0,>=2.13.0 in /usr/local/lib/python3.6/dist-packages (from spacy<2.2,>=2.1->chatterBot) (2.23.0)\n",
            "Collecting thinc<7.1.0,>=7.0.8\n",
            "\u001b[?25l  Downloading https://files.pythonhosted.org/packages/18/a5/9ace20422e7bb1bdcad31832ea85c52a09900cd4a7ce711246bfb92206ba/thinc-7.0.8-cp36-cp36m-manylinux1_x86_64.whl (2.1MB)\n",
            "\u001b[K     |████████████████████████████████| 2.1MB 53.9MB/s \n",
            "\u001b[?25hCollecting preshed<2.1.0,>=2.0.1\n",
            "\u001b[?25l  Downloading https://files.pythonhosted.org/packages/20/93/f222fb957764a283203525ef20e62008675fd0a14ffff8cc1b1490147c63/preshed-2.0.1-cp36-cp36m-manylinux1_x86_64.whl (83kB)\n",
            "\u001b[K     |████████████████████████████████| 92kB 13.6MB/s \n",
            "\u001b[?25hCollecting blis<0.3.0,>=0.2.2\n",
            "\u001b[?25l  Downloading https://files.pythonhosted.org/packages/34/46/b1d0bb71d308e820ed30316c5f0a017cb5ef5f4324bcbc7da3cf9d3b075c/blis-0.2.4-cp36-cp36m-manylinux1_x86_64.whl (3.2MB)\n",
            "\u001b[K     |████████████████████████████████| 3.2MB 47.4MB/s \n",
            "\u001b[?25hRequirement already satisfied: murmurhash<1.1.0,>=0.28.0 in /usr/local/lib/python3.6/dist-packages (from spacy<2.2,>=2.1->chatterBot) (1.0.2)\n",
            "Requirement already satisfied: numpy>=1.15.0 in /usr/local/lib/python3.6/dist-packages (from spacy<2.2,>=2.1->chatterBot) (1.18.4)\n",
            "Requirement already satisfied: srsly<1.1.0,>=0.0.6 in /usr/local/lib/python3.6/dist-packages (from spacy<2.2,>=2.1->chatterBot) (1.0.2)\n",
            "Requirement already satisfied: urllib3!=1.25.0,!=1.25.1,<1.26,>=1.21.1 in /usr/local/lib/python3.6/dist-packages (from requests<3.0.0,>=2.13.0->spacy<2.2,>=2.1->chatterBot) (1.24.3)\n",
            "Requirement already satisfied: certifi>=2017.4.17 in /usr/local/lib/python3.6/dist-packages (from requests<3.0.0,>=2.13.0->spacy<2.2,>=2.1->chatterBot) (2020.4.5.1)\n",
            "Requirement already satisfied: chardet<4,>=3.0.2 in /usr/local/lib/python3.6/dist-packages (from requests<3.0.0,>=2.13.0->spacy<2.2,>=2.1->chatterBot) (3.0.4)\n",
            "Requirement already satisfied: idna<3,>=2.5 in /usr/local/lib/python3.6/dist-packages (from requests<3.0.0,>=2.13.0->spacy<2.2,>=2.1->chatterBot) (2.9)\n",
            "Requirement already satisfied: tqdm<5.0.0,>=4.10.0 in /usr/local/lib/python3.6/dist-packages (from thinc<7.1.0,>=7.0.8->spacy<2.2,>=2.1->chatterBot) (4.41.1)\n",
            "Building wheels for collected packages: pyyaml, sqlalchemy\n",
            "  Building wheel for pyyaml (setup.py) ... \u001b[?25l\u001b[?25hdone\n",
            "  Created wheel for pyyaml: filename=PyYAML-5.1.2-cp36-cp36m-linux_x86_64.whl size=44104 sha256=341a9fcb4575ccf8dc3b279da1c90f24ce18b2eb4523e41e6ca665a55a6c5507\n",
            "  Stored in directory: /root/.cache/pip/wheels/d9/45/dd/65f0b38450c47cf7e5312883deb97d065e030c5cca0a365030\n",
            "  Building wheel for sqlalchemy (setup.py) ... \u001b[?25l\u001b[?25hdone\n",
            "  Created wheel for sqlalchemy: filename=SQLAlchemy-1.2.19-cp36-cp36m-linux_x86_64.whl size=1151137 sha256=68dfd739cd268da98d7b1b2f7354529dee51289a577636f8bb0c0d504775f423\n",
            "  Stored in directory: /root/.cache/pip/wheels/2c/90/a7/3b40c6cc468abff357b38fd075429920bd0d313659d889cf8a\n",
            "Successfully built pyyaml sqlalchemy\n",
            "\u001b[31mERROR: fbprophet 0.6 has requirement python-dateutil>=2.8.0, but you'll have python-dateutil 2.7.5 which is incompatible.\u001b[0m\n",
            "\u001b[31mERROR: en-core-web-sm 2.2.5 has requirement spacy>=2.2.2, but you'll have spacy 2.1.9 which is incompatible.\u001b[0m\n",
            "\u001b[31mERROR: albumentations 0.1.12 has requirement imgaug<0.2.7,>=0.2.5, but you'll have imgaug 0.2.9 which is incompatible.\u001b[0m\n",
            "Installing collected packages: pyyaml, mathparse, sqlalchemy, python-dateutil, pint, plac, blis, preshed, thinc, spacy, chatterBot\n",
            "  Found existing installation: PyYAML 3.13\n",
            "    Uninstalling PyYAML-3.13:\n",
            "      Successfully uninstalled PyYAML-3.13\n",
            "  Found existing installation: SQLAlchemy 1.3.16\n",
            "    Uninstalling SQLAlchemy-1.3.16:\n",
            "      Successfully uninstalled SQLAlchemy-1.3.16\n",
            "  Found existing installation: python-dateutil 2.8.1\n",
            "    Uninstalling python-dateutil-2.8.1:\n",
            "      Successfully uninstalled python-dateutil-2.8.1\n",
            "  Found existing installation: plac 1.1.3\n",
            "    Uninstalling plac-1.1.3:\n",
            "      Successfully uninstalled plac-1.1.3\n",
            "  Found existing installation: blis 0.4.1\n",
            "    Uninstalling blis-0.4.1:\n",
            "      Successfully uninstalled blis-0.4.1\n",
            "  Found existing installation: preshed 3.0.2\n",
            "    Uninstalling preshed-3.0.2:\n",
            "      Successfully uninstalled preshed-3.0.2\n",
            "  Found existing installation: thinc 7.4.0\n",
            "    Uninstalling thinc-7.4.0:\n",
            "      Successfully uninstalled thinc-7.4.0\n",
            "  Found existing installation: spacy 2.2.4\n",
            "    Uninstalling spacy-2.2.4:\n",
            "      Successfully uninstalled spacy-2.2.4\n",
            "Successfully installed blis-0.2.4 chatterBot-1.0.5 mathparse-0.1.2 pint-0.11 plac-0.9.6 preshed-2.0.1 python-dateutil-2.7.5 pyyaml-5.1.2 spacy-2.1.9 sqlalchemy-1.2.19 thinc-7.0.8\n"
          ],
          "name": "stdout"
        },
        {
          "output_type": "display_data",
          "data": {
            "application/vnd.colab-display-data+json": {
              "pip_warning": {
                "packages": [
                  "dateutil"
                ]
              }
            }
          },
          "metadata": {
            "tags": []
          }
        },
        {
          "output_type": "stream",
          "text": [
            "Collecting chatbotAI\n",
            "\u001b[?25l  Downloading https://files.pythonhosted.org/packages/d0/38/dac7b1394c2b04212fce5b89d4d2b7d95fa2f70c1081f463cc8d86ff6a2a/chatbotAI-0.2.1.01-py2.py3-none-any.whl (3.9MB)\n",
            "\u001b[K     |████████████████████████████████| 3.9MB 8.8MB/s \n",
            "\u001b[?25hRequirement already satisfied: requests in /usr/local/lib/python3.6/dist-packages (from chatbotAI) (2.23.0)\n",
            "Requirement already satisfied: idna<3,>=2.5 in /usr/local/lib/python3.6/dist-packages (from requests->chatbotAI) (2.9)\n",
            "Requirement already satisfied: certifi>=2017.4.17 in /usr/local/lib/python3.6/dist-packages (from requests->chatbotAI) (2020.4.5.1)\n",
            "Requirement already satisfied: chardet<4,>=3.0.2 in /usr/local/lib/python3.6/dist-packages (from requests->chatbotAI) (3.0.4)\n",
            "Requirement already satisfied: urllib3!=1.25.0,!=1.25.1,<1.26,>=1.21.1 in /usr/local/lib/python3.6/dist-packages (from requests->chatbotAI) (1.24.3)\n",
            "Installing collected packages: chatbotAI\n",
            "Successfully installed chatbotAI-0.2.1.1\n",
            "Collecting chatterbot-corpus\n",
            "\u001b[?25l  Downloading https://files.pythonhosted.org/packages/ed/19/f8b41daf36fe4b0f43e283a820362ffdb2c1128600ab4ee187e84262fa4d/chatterbot_corpus-1.2.0-py2.py3-none-any.whl (117kB)\n",
            "\u001b[K     |████████████████████████████████| 122kB 8.4MB/s \n",
            "\u001b[?25hCollecting PyYAML<4.0,>=3.12\n",
            "\u001b[?25l  Downloading https://files.pythonhosted.org/packages/9e/a3/1d13970c3f36777c583f136c136f804d70f500168edc1edea6daa7200769/PyYAML-3.13.tar.gz (270kB)\n",
            "\u001b[K     |████████████████████████████████| 276kB 15.0MB/s \n",
            "\u001b[?25hBuilding wheels for collected packages: PyYAML\n",
            "  Building wheel for PyYAML (setup.py) ... \u001b[?25l\u001b[?25hdone\n",
            "  Created wheel for PyYAML: filename=PyYAML-3.13-cp36-cp36m-linux_x86_64.whl size=43086 sha256=a8c01cbd06230beda5c6a62f0f581fb588648e640affc2e4d3e52b1a55d83c1f\n",
            "  Stored in directory: /root/.cache/pip/wheels/ad/da/0c/74eb680767247273e2cf2723482cb9c924fe70af57c334513f\n",
            "Successfully built PyYAML\n",
            "\u001b[31mERROR: chatterbot 1.0.5 has requirement pyyaml<5.2,>=5.1, but you'll have pyyaml 3.13 which is incompatible.\u001b[0m\n",
            "Installing collected packages: PyYAML, chatterbot-corpus\n",
            "  Found existing installation: PyYAML 5.1.2\n",
            "    Uninstalling PyYAML-5.1.2:\n",
            "      Successfully uninstalled PyYAML-5.1.2\n",
            "Successfully installed PyYAML-3.13 chatterbot-corpus-1.2.0\n",
            "Collecting wikipedia\n",
            "  Downloading https://files.pythonhosted.org/packages/67/35/25e68fbc99e672127cc6fbb14b8ec1ba3dfef035bf1e4c90f78f24a80b7d/wikipedia-1.4.0.tar.gz\n",
            "Requirement already satisfied: beautifulsoup4 in /usr/local/lib/python3.6/dist-packages (from wikipedia) (4.6.3)\n",
            "Requirement already satisfied: requests<3.0.0,>=2.0.0 in /usr/local/lib/python3.6/dist-packages (from wikipedia) (2.23.0)\n",
            "Requirement already satisfied: certifi>=2017.4.17 in /usr/local/lib/python3.6/dist-packages (from requests<3.0.0,>=2.0.0->wikipedia) (2020.4.5.1)\n",
            "Requirement already satisfied: chardet<4,>=3.0.2 in /usr/local/lib/python3.6/dist-packages (from requests<3.0.0,>=2.0.0->wikipedia) (3.0.4)\n",
            "Requirement already satisfied: urllib3!=1.25.0,!=1.25.1,<1.26,>=1.21.1 in /usr/local/lib/python3.6/dist-packages (from requests<3.0.0,>=2.0.0->wikipedia) (1.24.3)\n",
            "Requirement already satisfied: idna<3,>=2.5 in /usr/local/lib/python3.6/dist-packages (from requests<3.0.0,>=2.0.0->wikipedia) (2.9)\n",
            "Building wheels for collected packages: wikipedia\n",
            "  Building wheel for wikipedia (setup.py) ... \u001b[?25l\u001b[?25hdone\n",
            "  Created wheel for wikipedia: filename=wikipedia-1.4.0-cp36-none-any.whl size=11686 sha256=f99e944342ea5fb94d3617c188bcce5a35a5464c106a6857ddb7559144fe71f4\n",
            "  Stored in directory: /root/.cache/pip/wheels/87/2a/18/4e471fd96d12114d16fe4a446d00c3b38fb9efcb744bd31f4a\n",
            "Successfully built wikipedia\n",
            "Installing collected packages: wikipedia\n",
            "Successfully installed wikipedia-1.4.0\n",
            "Collecting Wikipedia-API\n",
            "  Downloading https://files.pythonhosted.org/packages/ef/3d/289963bbf51f8d00cdf7483cdc2baee25ba877e8b4eb72157c47211e3b57/Wikipedia-API-0.5.4.tar.gz\n",
            "Requirement already satisfied: requests in /usr/local/lib/python3.6/dist-packages (from Wikipedia-API) (2.23.0)\n",
            "Requirement already satisfied: urllib3!=1.25.0,!=1.25.1,<1.26,>=1.21.1 in /usr/local/lib/python3.6/dist-packages (from requests->Wikipedia-API) (1.24.3)\n",
            "Requirement already satisfied: chardet<4,>=3.0.2 in /usr/local/lib/python3.6/dist-packages (from requests->Wikipedia-API) (3.0.4)\n",
            "Requirement already satisfied: certifi>=2017.4.17 in /usr/local/lib/python3.6/dist-packages (from requests->Wikipedia-API) (2020.4.5.1)\n",
            "Requirement already satisfied: idna<3,>=2.5 in /usr/local/lib/python3.6/dist-packages (from requests->Wikipedia-API) (2.9)\n",
            "Building wheels for collected packages: Wikipedia-API\n",
            "  Building wheel for Wikipedia-API (setup.py) ... \u001b[?25l\u001b[?25hdone\n",
            "  Created wheel for Wikipedia-API: filename=Wikipedia_API-0.5.4-cp36-none-any.whl size=13462 sha256=1a657e2b3a988b09373de40a3f221b938b864ad57bb489a383a8765eefac414a\n",
            "  Stored in directory: /root/.cache/pip/wheels/bf/40/42/ba1d497f3712281b659dd65b566fc868035c859239571a725a\n",
            "Successfully built Wikipedia-API\n",
            "Installing collected packages: Wikipedia-API\n",
            "Successfully installed Wikipedia-API-0.5.4\n",
            "Collecting flask-ngrok\n",
            "  Downloading https://files.pythonhosted.org/packages/af/6c/f54cb686ad1129e27d125d182f90f52b32f284e6c8df58c1bae54fa1adbc/flask_ngrok-0.0.25-py3-none-any.whl\n",
            "Requirement already satisfied: requests in /usr/local/lib/python3.6/dist-packages (from flask-ngrok) (2.23.0)\n",
            "Requirement already satisfied: Flask>=0.8 in /usr/local/lib/python3.6/dist-packages (from flask-ngrok) (1.1.2)\n",
            "Requirement already satisfied: idna<3,>=2.5 in /usr/local/lib/python3.6/dist-packages (from requests->flask-ngrok) (2.9)\n",
            "Requirement already satisfied: urllib3!=1.25.0,!=1.25.1,<1.26,>=1.21.1 in /usr/local/lib/python3.6/dist-packages (from requests->flask-ngrok) (1.24.3)\n",
            "Requirement already satisfied: certifi>=2017.4.17 in /usr/local/lib/python3.6/dist-packages (from requests->flask-ngrok) (2020.4.5.1)\n",
            "Requirement already satisfied: chardet<4,>=3.0.2 in /usr/local/lib/python3.6/dist-packages (from requests->flask-ngrok) (3.0.4)\n",
            "Requirement already satisfied: Jinja2>=2.10.1 in /usr/local/lib/python3.6/dist-packages (from Flask>=0.8->flask-ngrok) (2.11.2)\n",
            "Requirement already satisfied: click>=5.1 in /usr/local/lib/python3.6/dist-packages (from Flask>=0.8->flask-ngrok) (7.1.2)\n",
            "Requirement already satisfied: itsdangerous>=0.24 in /usr/local/lib/python3.6/dist-packages (from Flask>=0.8->flask-ngrok) (1.1.0)\n",
            "Requirement already satisfied: Werkzeug>=0.15 in /usr/local/lib/python3.6/dist-packages (from Flask>=0.8->flask-ngrok) (1.0.1)\n",
            "Requirement already satisfied: MarkupSafe>=0.23 in /usr/local/lib/python3.6/dist-packages (from Jinja2>=2.10.1->Flask>=0.8->flask-ngrok) (1.1.1)\n",
            "Installing collected packages: flask-ngrok\n",
            "Successfully installed flask-ngrok-0.0.25\n"
          ],
          "name": "stdout"
        }
      ]
    },
    {
      "cell_type": "code",
      "metadata": {
        "id": "H-C2xi-bYAfd",
        "colab_type": "code",
        "outputId": "f8bd83d2-3d36-4d2b-9b46-4a2d74d365ce",
        "colab": {
          "base_uri": "https://localhost:8080/",
          "height": 134
        }
      },
      "source": [
        "from chatterbot import ChatBot\n",
        "from chatterbot.trainers import ListTrainer\n",
        "from chatterbot.trainers import ChatterBotCorpusTrainer\n",
        "import os\n",
        "import wikipediaapi\n",
        "from flask import Flask, render_template, request\n",
        "# from chatbot import Chat,reflections,multiFunctionCall\n",
        "# import wikipedia\n",
        "import nltk\n",
        "import random\n",
        "import string\n",
        "import re, string, unicodedata\n",
        "from nltk.corpus import wordnet as wn\n",
        "from nltk.stem.wordnet import WordNetLemmatizer\n",
        "import wikipedia as wk\n",
        "from collections import defaultdict\n",
        "import warnings\n",
        "warnings.filterwarnings(\"ignore\")\n",
        "nltk.download('punkt') \n",
        "nltk.download('wordnet')\n",
        "nltk.download('averaged_perceptron_tagger')\n",
        "from sklearn.feature_extraction.text import TfidfVectorizer\n",
        "from sklearn.metrics.pairwise import cosine_similarity, linear_kernel\n",
        "import pandas as pd \n",
        "import numpy as np\n",
        "import matplotlib.pyplot as plt\n",
        "\n",
        "from chatterbot.trainers import ListTrainer"
      ],
      "execution_count": 3,
      "outputs": [
        {
          "output_type": "stream",
          "text": [
            "[nltk_data] Downloading package punkt to /root/nltk_data...\n",
            "[nltk_data]   Unzipping tokenizers/punkt.zip.\n",
            "[nltk_data] Downloading package wordnet to /root/nltk_data...\n",
            "[nltk_data]   Unzipping corpora/wordnet.zip.\n",
            "[nltk_data] Downloading package averaged_perceptron_tagger to\n",
            "[nltk_data]     /root/nltk_data...\n",
            "[nltk_data]   Unzipping taggers/averaged_perceptron_tagger.zip.\n"
          ],
          "name": "stdout"
        }
      ]
    },
    {
      "cell_type": "code",
      "metadata": {
        "id": "oW3ugd73Ynvh",
        "colab_type": "code",
        "outputId": "98716ae0-aeea-406f-b5c5-c77798c197ac",
        "colab": {
          "base_uri": "https://localhost:8080/",
          "height": 437
        }
      },
      "source": [
        "bot=ChatBot(\"Anurag\")\n",
        "trainer = ChatterBotCorpusTrainer(bot)\n",
        "# Training \n",
        "trainer.train(\"chatterbot.corpus.english\")"
      ],
      "execution_count": 4,
      "outputs": [
        {
          "output_type": "stream",
          "text": [
            "[nltk_data] Downloading package stopwords to /root/nltk_data...\n",
            "[nltk_data]   Unzipping corpora/stopwords.zip.\n",
            "[nltk_data] Downloading package averaged_perceptron_tagger to\n",
            "[nltk_data]     /root/nltk_data...\n",
            "[nltk_data]   Package averaged_perceptron_tagger is already up-to-\n",
            "[nltk_data]       date!\n",
            "Training ai.yml: [####################] 100%\n",
            "Training botprofile.yml: [####################] 100%\n",
            "Training computers.yml: [####################] 100%\n",
            "Training conversations.yml: [####################] 100%\n",
            "Training emotion.yml: [####################] 100%\n",
            "Training food.yml: [####################] 100%\n",
            "Training gossip.yml: [####################] 100%\n",
            "Training greetings.yml: [####################] 100%\n",
            "Training health.yml: [####################] 100%\n",
            "Training history.yml: [####################] 100%\n",
            "Training humor.yml: [####################] 100%\n",
            "Training literature.yml: [####################] 100%\n",
            "Training money.yml: [####################] 100%\n",
            "Training movies.yml: [####################] 100%\n",
            "Training politics.yml: [####################] 100%\n",
            "Training psychology.yml: [####################] 100%\n",
            "Training science.yml: [####################] 100%\n",
            "Training sports.yml: [####################] 100%\n",
            "Training trivia.yml: [####################] 100%\n"
          ],
          "name": "stdout"
        }
      ]
    },
    {
      "cell_type": "markdown",
      "metadata": {
        "id": "Xy8YL4NaY31b",
        "colab_type": "text"
      },
      "source": [
        "#Disease Prediction using symptoms"
      ]
    },
    {
      "cell_type": "code",
      "metadata": {
        "id": "ITfSU0xDbLCB",
        "colab_type": "code",
        "colab": {}
      },
      "source": [
        "# Reading the symptoms dataset\n",
        "sym_data = pd.read_csv(\"/content/drive/My Drive/gtdt/symptoms_data.csv\")\n",
        "\n",
        "sym_data = pd.concat([sym_data]*2, ignore_index=True)\n",
        "cols = sym_data.columns\n",
        "cols = cols[1:]\n",
        "\n",
        "x = sym_data[cols]\n",
        "y = sym_data['Disease']\n",
        "\n",
        "\n",
        "#Split data into train test\n",
        "from sklearn.model_selection import train_test_split\n",
        "x_train, x_test, y_train, y_test = train_test_split(x, y, test_size=0.33, random_state=42)"
      ],
      "execution_count": 0,
      "outputs": []
    },
    {
      "cell_type": "markdown",
      "metadata": {
        "id": "RCXvqdcnbSh5",
        "colab_type": "text"
      },
      "source": [
        "Training the Multinomial Naive Bayes classifier model. "
      ]
    },
    {
      "cell_type": "code",
      "metadata": {
        "id": "oWgi8XBvbUDh",
        "colab_type": "code",
        "colab": {
          "base_uri": "https://localhost:8080/",
          "height": 34
        },
        "outputId": "25b9c494-eea1-4a2a-e513-a7d46420153f"
      },
      "source": [
        "from sklearn.naive_bayes import MultinomialNB\n",
        "mnb = MultinomialNB()\n",
        "clf_mnb=mnb.fit(x_train,y_train)\n",
        "print (\"Acurracy: \", clf_mnb.score(x_test,y_test))"
      ],
      "execution_count": 12,
      "outputs": [
        {
          "output_type": "stream",
          "text": [
            "Acurracy:  0.8774150905023388\n"
          ],
          "name": "stdout"
        }
      ]
    },
    {
      "cell_type": "markdown",
      "metadata": {
        "id": "6K7mcVNQbaVO",
        "colab_type": "text"
      },
      "source": [
        "Taking symptom from user input for disease prediction"
      ]
    },
    {
      "cell_type": "code",
      "metadata": {
        "id": "PYrtvS-VbXAw",
        "colab_type": "code",
        "colab": {
          "base_uri": "https://localhost:8080/",
          "height": 34
        },
        "outputId": "ba6ef022-c6c7-4e08-d566-102360afbac0"
      },
      "source": [
        "features = cols\n",
        "feature_dict = {}\n",
        "for i,f in enumerate(features):\n",
        "    feature_dict[f] = i\n",
        "\n",
        "input_features = [feature_dict['decreased body weight'], feature_dict['cough'], feature_dict['dyspnea']]\n",
        "input_features"
      ],
      "execution_count": 13,
      "outputs": [
        {
          "output_type": "execute_result",
          "data": {
            "text/plain": [
              "[77, 70, 96]"
            ]
          },
          "metadata": {
            "tags": []
          },
          "execution_count": 13
        }
      ]
    },
    {
      "cell_type": "code",
      "metadata": {
        "id": "MlPn3CQabdDb",
        "colab_type": "code",
        "colab": {}
      },
      "source": [
        "arr =[]\n",
        "for i in range(len(features)):\n",
        "  if i == input_features[0]:\n",
        "    i = int(i/input_features[0])\n",
        "  elif i == input_features[1]:\n",
        "    i = int(i/input_features[1])\n",
        "  elif i == input_features[2]:\n",
        "    i = int(i/input_features[2])\n",
        "  else:\n",
        "    i = 0\n",
        "  arr.append(i)\n",
        "\n",
        "arr = np.array(arr).reshape(-1,len(arr))"
      ],
      "execution_count": 0,
      "outputs": []
    },
    {
      "cell_type": "code",
      "metadata": {
        "id": "6yJzflygbhWi",
        "colab_type": "code",
        "colab": {
          "base_uri": "https://localhost:8080/",
          "height": 34
        },
        "outputId": "5134283a-5acb-4227-da31-33d49107bf5c"
      },
      "source": [
        "predicted_disease = (mnb.predict(arr))\n",
        "print(\"The disease predicted based on given symptoms is : \" + predicted_disease[0])"
      ],
      "execution_count": 15,
      "outputs": [
        {
          "output_type": "stream",
          "text": [
            "The disease predicted based on given symptoms is : bronchitis\n"
          ],
          "name": "stdout"
        }
      ]
    },
    {
      "cell_type": "markdown",
      "metadata": {
        "id": "qW400IeDZCfn",
        "colab_type": "text"
      },
      "source": [
        "#Recommending drug based on predicted disease"
      ]
    },
    {
      "cell_type": "code",
      "metadata": {
        "id": "rlgaQ5Zgbkh-",
        "colab_type": "code",
        "colab": {}
      },
      "source": [
        "def drug_recommender_system(disease_predicted):\n",
        "  #Reading the dataset with sentiment analysis of reviews\n",
        "  merged_wavg = pd.read_csv('drive/My Drive/gtdt/Drug_Recommender.csv')\n",
        "  merged_wavg.head()\n",
        "  merged_wavg = merged_wavg.sort_values(['Disease','Rating_Wavg'],ascending=False, ignore_index=True).groupby('Disease').head(10060)\n",
        "  merged_wavg[\"Review_Sentiment\"].unique()\n",
        "\n",
        "  # Taking drugs only with positive reviews for recommendation\n",
        "  merged_wavg = merged_wavg.drop( merged_wavg[merged_wavg['Review_Sentiment'] == \"Negative\"].index)\n",
        "  merged_wavg = merged_wavg.drop( merged_wavg[merged_wavg['Review_Sentiment'] == \"Neutral\"].index)\n",
        "\n",
        "  # Taking predicted disease as input and recommending drug based on highest weighted average of ratings\n",
        "  grouped = merged_wavg.groupby('Disease')\n",
        "  disease_predicted = disease_predicted.lower()\n",
        "  recommended_drug = pd.DataFrame(grouped.get_group(disease_predicted).nlargest(1,['Rating_Wavg']))\n",
        "  recommended_drug.Drug = recommended_drug.Drug.str.upper()\n",
        "  recommended_drug = recommended_drug.drop(columns= ['Review', 'Review_Sentiment','Rating_Wavg'])\n",
        "\n",
        "  recDrug = list(recommended_drug[\"Drug\"])\n",
        "  print(recDrug[0])\n",
        "  return recDrug[0]"
      ],
      "execution_count": 0,
      "outputs": []
    },
    {
      "cell_type": "code",
      "metadata": {
        "id": "a_mDbNp4bo_c",
        "colab_type": "code",
        "colab": {}
      },
      "source": [
        "#Reading the dataset with sentiment analysis of reviews\n",
        "merged_wavg = pd.read_csv('drive/My Drive/gtdt/Drug_Recommender.csv')\n",
        "merged_wavg.head()"
      ],
      "execution_count": 0,
      "outputs": []
    },
    {
      "cell_type": "code",
      "metadata": {
        "id": "F3mRH2Yub3pb",
        "colab_type": "code",
        "colab": {}
      },
      "source": [
        "merged_wavg = merged_wavg.sort_values(['Disease','Rating_Wavg'],ascending=False, ignore_index=True).groupby('Disease').head(10060)\n",
        "merged_wavg[\"Review_Sentiment\"].unique()\n",
        "\n",
        "# Taking drugs only with positive reviews for recommendation\n",
        "merged_wavg = merged_wavg.drop( merged_wavg[merged_wavg['Review_Sentiment'] == \"Negative\"].index)\n",
        "merged_wavg = merged_wavg.drop( merged_wavg[merged_wavg['Review_Sentiment'] == \"Neutral\"].index)"
      ],
      "execution_count": 0,
      "outputs": []
    },
    {
      "cell_type": "code",
      "metadata": {
        "id": "PURq-uirb7Ne",
        "colab_type": "code",
        "colab": {}
      },
      "source": [
        "# Taking predicted disease as input and recommending drug based on highest weighted average of ratings\n",
        "grouped = merged_wavg.groupby('Disease')\n",
        "recommended_drug = pd.DataFrame(grouped.get_group((predicted_disease[0]).lower()).nlargest(1,['Rating_Wavg']))\n",
        "recommended_drug.Drug = recommended_drug.Drug.str.upper()\n",
        "recommended_drug = recommended_drug.drop(columns= ['Review', 'Review_Sentiment','Rating_Wavg'])"
      ],
      "execution_count": 0,
      "outputs": []
    },
    {
      "cell_type": "markdown",
      "metadata": {
        "id": "m9sVdkpEZFMR",
        "colab_type": "text"
      },
      "source": [
        "#Extracting side effects for recommended drug"
      ]
    },
    {
      "cell_type": "code",
      "metadata": {
        "id": "mQPZW50eboM8",
        "colab_type": "code",
        "colab": {}
      },
      "source": [
        ""
      ],
      "execution_count": 0,
      "outputs": []
    },
    {
      "cell_type": "markdown",
      "metadata": {
        "id": "8S99QaslZLqS",
        "colab_type": "text"
      },
      "source": [
        "#UI Functions"
      ]
    },
    {
      "cell_type": "markdown",
      "metadata": {
        "id": "E59lirx7ZTrn",
        "colab_type": "text"
      },
      "source": [
        "#HTML code for UI"
      ]
    },
    {
      "cell_type": "code",
      "metadata": {
        "id": "nV9CHWAcZayD",
        "colab_type": "code",
        "colab": {}
      },
      "source": [
        "%mkdir templates -p"
      ],
      "execution_count": 0,
      "outputs": []
    },
    {
      "cell_type": "code",
      "metadata": {
        "id": "pc18pCx0ZdiO",
        "colab_type": "code",
        "outputId": "f93fb715-2b50-447e-ffea-f1bd8af1471f",
        "colab": {
          "base_uri": "https://localhost:8080/",
          "height": 34
        }
      },
      "source": [
        "%%writefile templates/home.html\n",
        "<!doctype html>\n",
        "<html lang=\"en\">\n",
        "\n",
        "<head>\n",
        "    <link\n",
        "      rel=\"shortcut icon\"\n",
        "      type=\"image/x-icon\"\n",
        "      href=\"/content/drive/My Drive/gtdt/Notebooks/UI_Files/Doctor_Icon.jpg\"\n",
        "    />\n",
        "    <script src=\"https://ajax.googleapis.com/ajax/libs/jquery/3.2.1/jquery.min.js\"></script>\n",
        "    <style>\n",
        "      body {\n",
        "        font-family: monospace;\n",
        "      }\n",
        "      h1 {\n",
        "        background-color: yellow;\n",
        "        display: inline-block;\n",
        "        font-size: 3em;\n",
        "        margin: 0;\n",
        "        padding: 14px;\n",
        "      }\n",
        "      h3 {\n",
        "        color: black;\n",
        "        font-size: 20px;\n",
        "        margin-top: 3px;\n",
        "        text-align: center;\n",
        "      }\n",
        "      #chatbox {\n",
        "        margin-left: auto;\n",
        "        margin-right: auto;\n",
        "        width: 40%;\n",
        "        margin-top: 60px;\n",
        "      }\n",
        "      #userInput {\n",
        "        margin-left: auto;\n",
        "        margin-right: auto;\n",
        "        width: 40%;\n",
        "        margin-top: 60px;\n",
        "      }\n",
        "      #textInput {\n",
        "        width: 90%;\n",
        "        border: none;\n",
        "        border-bottom: 3px solid black;\n",
        "        font-family: monospace;\n",
        "        font-size: 17px;\n",
        "      }\n",
        "      .userText {\n",
        "        color: white;\n",
        "        font-family: monospace;\n",
        "        font-size: 17px;\n",
        "        text-align: right;\n",
        "        line-height: 30px;\n",
        "      }\n",
        "      .userText span {\n",
        "        background-color: #808080;\n",
        "        padding: 10px;\n",
        "        border-radius: 2px;\n",
        "      }\n",
        "      .botText {\n",
        "        color: white;\n",
        "        font-family: monospace;\n",
        "        font-size: 17px;\n",
        "        text-align: left;\n",
        "        line-height: 30px;\n",
        "      }\n",
        "      .botText span {\n",
        "        background-color: #4169e1;\n",
        "        padding: 10px;\n",
        "        border-radius: 2px;\n",
        "      }\n",
        "      #tidbit {\n",
        "        position: absolute;\n",
        "        bottom: 0;\n",
        "        right: 0;\n",
        "        width: 300px;\n",
        "      }\n",
        "      .boxed {\n",
        "        margin-left: auto;\n",
        "        margin-right: auto;\n",
        "        width: 78%;\n",
        "        margin-top: 60px;\n",
        "        border: 1px solid green;\n",
        "      }\n",
        "      .box {\n",
        "        border: 2px solid black;\n",
        "      }\n",
        "    </style>\n",
        "</head>\n",
        "\n",
        "<body>\n",
        "  <body>\n",
        "    <center>\n",
        "      <h1>\n",
        "      Drug Recommender System\n",
        "      </h1>\n",
        "    </center>\n",
        "<div class=\"box\"></div>\n",
        "    <div class=\"boxed\">\n",
        "      <div>\n",
        "        <div id=\"chatbox\">\n",
        "          <img\n",
        "            src=\"https://image.freepik.com/free-vector/doctor-icon-avatar-white_136162-58.jpg\"\n",
        "            alt=\"Jarvis\"\n",
        "            style=\"width:40px;height:40px;\"\n",
        "          />\n",
        "          <p class=\"botText\">\n",
        "            <span>Hi! I am Jarvis. I shall be your personal doctor.</span>\n",
        "          </p>\n",
        "        </div>\n",
        "        <div id=\"userInput\">\n",
        "          <input id=\"textInput\" type=\"text\" name=\"msg\" placeholder=\"Message\" />\n",
        "        </div>\n",
        "      </div>\n",
        "    </div>\n",
        "\n",
        "    <script>\n",
        "        function getBotResponse() {\n",
        "          var rawText = $(\"#textInput\").val();\n",
        "          var userHtml = '<p class=\"userText\"><span>' + rawText + \"</span></p>\";\n",
        "          $(\"#textInput\").val(\"\");\n",
        "          $(\"#chatbox\").append(userHtml);\n",
        "          document\n",
        "            .getElementById(\"userInput\")\n",
        "            .scrollIntoView({ block: \"start\", behavior: \"smooth\" });\n",
        "          $.get(\"/get\", { msg: rawText }).done(function(data) {\n",
        "            var botHtml = '<p class=\"botText\"><span>' + data + \"</span></p>\";\n",
        "            $(\"#chatbox\").append(botHtml);\n",
        "            document\n",
        "              .getElementById(\"userInput\")\n",
        "              .scrollIntoView({ block: \"start\", behavior: \"smooth\" });\n",
        "          });\n",
        "        }\n",
        "        $(\"#textInput\").keypress(function(e) {\n",
        "          if (e.which == 13) {\n",
        "            getBotResponse();\n",
        "          }\n",
        "        });\n",
        "</script>\n",
        "  </body>\n",
        "</body>\n",
        "\n",
        "</html>"
      ],
      "execution_count": 6,
      "outputs": [
        {
          "output_type": "stream",
          "text": [
            "Writing templates/home.html\n"
          ],
          "name": "stdout"
        }
      ]
    },
    {
      "cell_type": "markdown",
      "metadata": {
        "id": "Vb_v8Uj7ZZL7",
        "colab_type": "text"
      },
      "source": [
        "#Hosting the chatbot"
      ]
    },
    {
      "cell_type": "code",
      "metadata": {
        "id": "p_QPt2NFZhnw",
        "colab_type": "code",
        "outputId": "8d4ccb61-fdf4-4a88-e898-a2cf183c30b4",
        "colab": {
          "base_uri": "https://localhost:8080/",
          "height": 151
        }
      },
      "source": [
        "from flask_ngrok import run_with_ngrok\n",
        "from flask import Flask\n",
        "app = Flask(__name__)\n",
        "run_with_ngrok(app)   #starts ngrok when the app is run\n",
        "@app.route(\"/\")\n",
        "def home():\n",
        "    return render_template('home.html')\n",
        "@app.route(\"/get\")\n",
        "def get_bot_response():\n",
        "    userText = request.args.get('msg')\n",
        "    a=str(generateResponse(userText))\n",
        "    sent_tokens.remove(userText)\n",
        "    return a\n",
        "app.run()"
      ],
      "execution_count": 7,
      "outputs": [
        {
          "output_type": "stream",
          "text": [
            " * Serving Flask app \"__main__\" (lazy loading)\n",
            " * Environment: production\n",
            "\u001b[31m   WARNING: This is a development server. Do not use it in a production deployment.\u001b[0m\n",
            "\u001b[2m   Use a production WSGI server instead.\u001b[0m\n",
            " * Debug mode: off\n"
          ],
          "name": "stdout"
        },
        {
          "output_type": "stream",
          "text": [
            " * Running on http://127.0.0.1:5000/ (Press CTRL+C to quit)\n"
          ],
          "name": "stderr"
        },
        {
          "output_type": "stream",
          "text": [
            " * Running on http://db47a043.ngrok.io\n",
            " * Traffic stats available on http://127.0.0.1:4040\n"
          ],
          "name": "stdout"
        }
      ]
    },
    {
      "cell_type": "code",
      "metadata": {
        "id": "u0KOIwH9ZjbV",
        "colab_type": "code",
        "colab": {}
      },
      "source": [
        ""
      ],
      "execution_count": 0,
      "outputs": []
    }
  ]
}